{
 "cells": [
  {
   "cell_type": "markdown",
   "metadata": {},
   "source": [
    "https://towardsdatascience.com/linear-regression-in-python-predict-the-bay-areas-home-price-5c91c8378878"
   ]
  },
  {
   "cell_type": "markdown",
   "metadata": {},
   "source": [
    "This dataset was based on the homes sold between January 2013 and December 2015"
   ]
  },
  {
   "cell_type": "code",
   "execution_count": 1,
   "metadata": {},
   "outputs": [
    {
     "name": "stderr",
     "output_type": "stream",
     "text": [
      "D:\\Python\\lib\\site-packages\\sklearn\\cross_validation.py:41: DeprecationWarning: This module was deprecated in version 0.18 in favor of the model_selection module into which all the refactored classes and functions are moved. Also note that the interface of the new CV iterators are different from that of this module. This module will be removed in 0.20.\n",
      "  \"This module will be removed in 0.20.\", DeprecationWarning)\n",
      "D:\\Python\\lib\\site-packages\\sklearn\\ensemble\\weight_boosting.py:29: DeprecationWarning: numpy.core.umath_tests is an internal NumPy module and should not be imported. It will be removed in a future NumPy release.\n",
      "  from numpy.core.umath_tests import inner1d\n"
     ]
    }
   ],
   "source": [
    "import pandas                       as     pd\n",
    "import numpy                        as     np\n",
    "import scipy.stats                  as     stats\n",
    "\n",
    "import seaborn                      as     sns\n",
    "import matplotlib.pyplot            as     plt\n",
    "import matplotlib\n",
    "\n",
    "matplotlib.rcParams.update({'font.size': 12})\n",
    "\n",
    "import astropy.table                as     Table\n",
    "import statsmodels.api              as     sm\n",
    "import statsmodels.stats.api        as     sms\n",
    "from   statsmodels.compat           import lzip\n",
    "\n",
    "from   sklearn.cross_validation     import train_test_split\n",
    "from   sklearn                      import model_selection\n",
    "\n",
    "from sklearn.linear_model           import  LinearRegression\n",
    "from sklearn.linear_model           import  Lasso\n",
    "from sklearn.linear_model           import  Ridge\n",
    "from sklearn.linear_model           import  ElasticNet\n",
    "\n",
    "from   sklearn.tree                 import DecisionTreeRegressor\n",
    "from   sklearn.ensemble             import RandomForestRegressor\n",
    "from   sklearn.neural_network       import MLPRegressor\n",
    "from   sklearn                      import ensemble\n",
    "from   sklearn.ensemble             import GradientBoostingRegressor\n",
    "\n",
    "from   sklearn.neighbors            import KNeighborsRegressor\n",
    "from   sklearn.svm                  import SVR\n",
    "\n",
    "from   sklearn.model_selection      import GridSearchCV\n",
    "from   sklearn.model_selection      import cross_val_score, cross_val_predict\n",
    "\n",
    "\n",
    "from   sklearn.metrics              import mean_squared_error, mean_absolute_error\n",
    "from   statsmodels.compat           import lzip\n",
    "from   statsmodels.stats            import diagnostic as diag\n",
    "\n",
    "from  statsmodels.stats.outliers_influence import variance_inflation_factor"
   ]
  },
  {
   "cell_type": "code",
   "execution_count": 2,
   "metadata": {
    "collapsed": true
   },
   "outputs": [],
   "source": [
    "def mean_absolute_percentage_error(y_true, y_pred): \n",
    "    y_true, y_pred = np.array(y_true), np.array(y_pred)\n",
    "    return np.mean(np.abs((y_true - y_pred) / y_true)) * 100"
   ]
  },
  {
   "cell_type": "code",
   "execution_count": 3,
   "metadata": {},
   "outputs": [],
   "source": [
    "import re\n",
    "\n",
    "def parseNumber(text):\n",
    "\n",
    "    '''\n",
    "\n",
    "        Return the first number in the given text for any locale.\n",
    "\n",
    "        TODO we actually don't take into account spaces for only\n",
    "\n",
    "        3-digited numbers (like \"1 000\") so, for now, \"1 0\" is 10.\n",
    "\n",
    "        TODO parse cases like \"125,000.1,0.2\" (125000.1).   \n",
    "    '''        \n",
    "    \n",
    "    try:\n",
    "\n",
    "        # First we return None if we don't have anything in the text:\n",
    "\n",
    "        if text is None:\n",
    "\n",
    "            return None\n",
    "\n",
    "        if isinstance(text, int) or isinstance(text, float):\n",
    "\n",
    "            return text\n",
    "\n",
    "        text = text.strip()\n",
    "\n",
    "        if text == \"\":\n",
    "\n",
    "            return None\n",
    "\n",
    "        # Next we get the first \"[0-9,. ]+\":\n",
    "\n",
    "        n = re.search(\"[0-9]*([,. ]?[0-9]+)+\", text).group(0)\n",
    "\n",
    "        n = n.strip()\n",
    "\n",
    "        if not re.match(\".*[0-9]+.*\", text):\n",
    "\n",
    "            return None\n",
    "\n",
    "        # Then we cut to keep only 2 symbols:\n",
    "\n",
    "        while \" \" in n and \",\" in n and \".\" in n:\n",
    "\n",
    "            index = max(n.rfind(','), n.rfind(' '), n.rfind('.'))\n",
    "\n",
    "            n = n[0:index]\n",
    "\n",
    "        n = n.strip()\n",
    "\n",
    "        # We count the number of symbols:\n",
    "\n",
    "        symbolsCount = 0\n",
    "\n",
    "        for current in [\" \", \",\", \".\"]:\n",
    "\n",
    "            if current in n:\n",
    "\n",
    "                symbolsCount += 1\n",
    "\n",
    "        # If we don't have any symbol, we do nothing:\n",
    "\n",
    "        if symbolsCount == 0:\n",
    "\n",
    "            pass\n",
    "\n",
    "        # With one symbol:\n",
    "\n",
    "        elif symbolsCount == 1:\n",
    "\n",
    "            # If this is a space, we just remove all:\n",
    "\n",
    "            if \" \" in n:\n",
    "\n",
    "                n = n.replace(\" \", \"\")\n",
    "\n",
    "            # Else we set it as a \".\" if one occurence, or remove it:\n",
    "\n",
    "            else:\n",
    "\n",
    "                theSymbol = \",\" if \",\" in n else \".\"\n",
    "\n",
    "                if n.count(theSymbol) > 1:\n",
    "\n",
    "                    n = n.replace(theSymbol, \"\")\n",
    "\n",
    "                else:\n",
    "\n",
    "                    n = n.replace(theSymbol, \".\")\n",
    "\n",
    "        else:\n",
    "\n",
    "            # Now replace symbols so the right symbol is \".\" and all left are \"\":\n",
    "\n",
    "            rightSymbolIndex = max(n.rfind(','), n.rfind(' '), n.rfind('.'))\n",
    "\n",
    "            rightSymbol = n[rightSymbolIndex:rightSymbolIndex+1]\n",
    "\n",
    "            if rightSymbol == \" \":\n",
    "\n",
    "                return parseNumber(n.replace(\" \", \"_\"))\n",
    "\n",
    "            n = n.replace(rightSymbol, \"R\")\n",
    "\n",
    "            leftSymbolIndex = max(n.rfind(','), n.rfind(' '), n.rfind('.'))\n",
    "\n",
    "            leftSymbol = n[leftSymbolIndex:leftSymbolIndex+1]\n",
    "\n",
    "            n = n.replace(leftSymbol, \"L\")\n",
    "\n",
    "            n = n.replace(\"L\", \"\")\n",
    "\n",
    "            n = n.replace(\"R\", \".\")\n",
    "\n",
    "        # And we cast the text to float or int:\n",
    "\n",
    "        n = float(n)\n",
    "\n",
    "        if n.is_integer():\n",
    "\n",
    "            return int(n)\n",
    "\n",
    "        else:\n",
    "\n",
    "            return n\n",
    "\n",
    "    except: pass\n",
    "\n",
    "    return None\n",
    "\n"
   ]
  },
  {
   "cell_type": "code",
   "execution_count": 4,
   "metadata": {
    "collapsed": true
   },
   "outputs": [],
   "source": [
    "url = 'https://raw.githubusercontent.com/RuiChang123/Regression_for_house_price_estimation/master/final_data.csv'"
   ]
  },
  {
   "cell_type": "code",
   "execution_count": 5,
   "metadata": {},
   "outputs": [
    {
     "name": "stdout",
     "output_type": "stream",
     "text": [
      "(11330, 19)\n",
      "                                                               0  \\\n",
      "Unnamed: 0                                                     2   \n",
      "address                       Address: 1160 Mission Street #2007   \n",
      "info            San FranciscoSales price: 1300000Sales date: ...   \n",
      "z_address                              1160 Mission St UNIT 2007   \n",
      "bathrooms                                                      2   \n",
      "bedrooms                                                       2   \n",
      "finishedsqft                                                1043   \n",
      "lastsolddate                                          02/17/2016   \n",
      "lastsoldprice                                            1.3e+06   \n",
      "latitude                                                 37.7787   \n",
      "longitude                                               -122.413   \n",
      "neighborhood                                     South of Market   \n",
      "totalrooms                                                     4   \n",
      "usecode                                              Condominium   \n",
      "yearbuilt                                                   2007   \n",
      "zestimate                                            1.16751e+06   \n",
      "zindexvalue                                              975,700   \n",
      "zipcode                                                    94103   \n",
      "zpid                                                 8.31528e+07   \n",
      "\n",
      "                                                               1  \\\n",
      "Unnamed: 0                                                     5   \n",
      "address                            Address: 260 King Street #475   \n",
      "info            San FranciscoSales price: 750000Sales date: 0...   \n",
      "z_address                                   260 King St UNIT 475   \n",
      "bathrooms                                                      1   \n",
      "bedrooms                                                       1   \n",
      "finishedsqft                                                 903   \n",
      "lastsolddate                                          02/17/2016   \n",
      "lastsoldprice                                             750000   \n",
      "latitude                                                 37.7776   \n",
      "longitude                                               -122.393   \n",
      "neighborhood                                     South of Market   \n",
      "totalrooms                                                     3   \n",
      "usecode                                              Condominium   \n",
      "yearbuilt                                                   2004   \n",
      "zestimate                                                 823719   \n",
      "zindexvalue                                              975,700   \n",
      "zipcode                                                    94107   \n",
      "zpid                                                 6.98198e+07   \n",
      "\n",
      "                                                               2  \\\n",
      "Unnamed: 0                                                     7   \n",
      "address                          Address: 560 Missouri Street #B   \n",
      "info            San FranciscoSales price: 1495000Sales date: ...   \n",
      "z_address                                    560 Missouri St # B   \n",
      "bathrooms                                                      4   \n",
      "bedrooms                                                       3   \n",
      "finishedsqft                                                1425   \n",
      "lastsolddate                                          02/17/2016   \n",
      "lastsoldprice                                          1.495e+06   \n",
      "latitude                                                 37.7592   \n",
      "longitude                                               -122.397   \n",
      "neighborhood                                        Potrero Hill   \n",
      "totalrooms                                                     6   \n",
      "usecode                                              Condominium   \n",
      "yearbuilt                                                   2003   \n",
      "zestimate                                            1.70859e+06   \n",
      "zindexvalue                                            1,277,600   \n",
      "zipcode                                                    94107   \n",
      "zpid                                                 6.49728e+07   \n",
      "\n",
      "                                                               3  \\\n",
      "Unnamed: 0                                                     9   \n",
      "address                             Address: 350 Missouri Street   \n",
      "info            San FranciscoSales price: 2700000Sales date: ...   \n",
      "z_address                                        350 Missouri St   \n",
      "bathrooms                                                      3   \n",
      "bedrooms                                                       3   \n",
      "finishedsqft                                                2231   \n",
      "lastsolddate                                          02/17/2016   \n",
      "lastsoldprice                                            2.7e+06   \n",
      "latitude                                                 37.7619   \n",
      "longitude                                               -122.397   \n",
      "neighborhood                                        Potrero Hill   \n",
      "totalrooms                                                    10   \n",
      "usecode                                             SingleFamily   \n",
      "yearbuilt                                                   1927   \n",
      "zestimate                                            2.41124e+06   \n",
      "zindexvalue                                            1,277,600   \n",
      "zipcode                                                    94107   \n",
      "zpid                                                 1.51495e+07   \n",
      "\n",
      "                                                               4  \n",
      "Unnamed: 0                                                    11  \n",
      "address                              Address: 3658 Folsom Street  \n",
      "info            San FranciscoSales price: 1530000Sales date: ...  \n",
      "z_address                                         3658 Folsom St  \n",
      "bathrooms                                                      3  \n",
      "bedrooms                                                       3  \n",
      "finishedsqft                                                1300  \n",
      "lastsolddate                                          02/17/2016  \n",
      "lastsoldprice                                           1.53e+06  \n",
      "latitude                                                 37.7408  \n",
      "longitude                                               -122.413  \n",
      "neighborhood                                      Bernal Heights  \n",
      "totalrooms                                                     4  \n",
      "usecode                                             SingleFamily  \n",
      "yearbuilt                                                   1900  \n",
      "zestimate                                            1.91854e+06  \n",
      "zindexvalue                                            1,248,000  \n",
      "zipcode                                                    94110  \n",
      "zpid                                                  1.5162e+07  \n"
     ]
    }
   ],
   "source": [
    "prices_df       = pd.read_csv(url)\n",
    "print(prices_df.shape)\n",
    "print(prices_df.head().T)"
   ]
  },
  {
   "cell_type": "markdown",
   "metadata": {},
   "source": [
    "## Check for missing values"
   ]
  },
  {
   "cell_type": "code",
   "execution_count": 6,
   "metadata": {},
   "outputs": [
    {
     "name": "stdout",
     "output_type": "stream",
     "text": [
      "<class 'pandas.core.frame.DataFrame'>\n",
      "RangeIndex: 11330 entries, 0 to 11329\n",
      "Data columns (total 19 columns):\n",
      "Unnamed: 0       11330 non-null int64\n",
      "address          11330 non-null object\n",
      "info             11330 non-null object\n",
      "z_address        11330 non-null object\n",
      "bathrooms        11330 non-null float64\n",
      "bedrooms         11330 non-null float64\n",
      "finishedsqft     11330 non-null float64\n",
      "lastsolddate     11330 non-null object\n",
      "lastsoldprice    11330 non-null float64\n",
      "latitude         11330 non-null float64\n",
      "longitude        11330 non-null float64\n",
      "neighborhood     11330 non-null object\n",
      "totalrooms       11330 non-null float64\n",
      "usecode          11330 non-null object\n",
      "yearbuilt        11330 non-null float64\n",
      "zestimate        11330 non-null float64\n",
      "zindexvalue      11330 non-null object\n",
      "zipcode          11330 non-null float64\n",
      "zpid             11330 non-null float64\n",
      "dtypes: float64(11), int64(1), object(7)\n",
      "memory usage: 1.6+ MB\n"
     ]
    }
   ],
   "source": [
    "prices_df.info() "
   ]
  },
  {
   "cell_type": "code",
   "execution_count": 7,
   "metadata": {},
   "outputs": [
    {
     "data": {
      "text/plain": [
       "Unnamed: 0       0\n",
       "address          0\n",
       "info             0\n",
       "z_address        0\n",
       "bathrooms        0\n",
       "bedrooms         0\n",
       "finishedsqft     0\n",
       "lastsolddate     0\n",
       "lastsoldprice    0\n",
       "latitude         0\n",
       "longitude        0\n",
       "neighborhood     0\n",
       "totalrooms       0\n",
       "usecode          0\n",
       "yearbuilt        0\n",
       "zestimate        0\n",
       "zindexvalue      0\n",
       "zipcode          0\n",
       "zpid             0\n",
       "dtype: int64"
      ]
     },
     "execution_count": 7,
     "metadata": {},
     "output_type": "execute_result"
    }
   ],
   "source": [
    "prices_df.isnull().sum()"
   ]
  },
  {
   "cell_type": "markdown",
   "metadata": {},
   "source": [
    "There are several features that we do not need, such as “info”, “z_address”, “zipcode”(We have “neighborhood” as a location variable), “zipid” and “zestimate”(This is the price estimated by Zillow, we don’t want our model to be affected by this), so, we will drop them."
   ]
  },
  {
   "cell_type": "code",
   "execution_count": 8,
   "metadata": {},
   "outputs": [
    {
     "name": "stdout",
     "output_type": "stream",
     "text": [
      "<class 'pandas.core.frame.DataFrame'>\n",
      "RangeIndex: 11330 entries, 0 to 11329\n",
      "Data columns (total 13 columns):\n",
      "address          11330 non-null object\n",
      "bathrooms        11330 non-null float64\n",
      "bedrooms         11330 non-null float64\n",
      "finishedsqft     11330 non-null float64\n",
      "lastsolddate     11330 non-null object\n",
      "lastsoldprice    11330 non-null float64\n",
      "latitude         11330 non-null float64\n",
      "longitude        11330 non-null float64\n",
      "neighborhood     11330 non-null object\n",
      "totalrooms       11330 non-null float64\n",
      "usecode          11330 non-null object\n",
      "yearbuilt        11330 non-null float64\n",
      "zindexvalue      11330 non-null object\n",
      "dtypes: float64(8), object(5)\n",
      "memory usage: 1.1+ MB\n"
     ]
    }
   ],
   "source": [
    "prices_df.drop(prices_df.columns[[0, 2, 3, 15, 17, 18]], axis=1, inplace=True)\n",
    "prices_df.info()"
   ]
  },
  {
   "cell_type": "markdown",
   "metadata": {},
   "source": [
    "The data type of “zindexvalue” should be numeric, so let’s change that."
   ]
  },
  {
   "cell_type": "code",
   "execution_count": 9,
   "metadata": {},
   "outputs": [
    {
     "data": {
      "text/plain": [
       "0      975,700\n",
       "1      975,700\n",
       "2    1,277,600\n",
       "3    1,277,600\n",
       "4    1,248,000\n",
       "Name: zindexvalue, dtype: object"
      ]
     },
     "execution_count": 9,
     "metadata": {},
     "output_type": "execute_result"
    }
   ],
   "source": [
    "prices_df['zindexvalue'].head()"
   ]
  },
  {
   "cell_type": "code",
   "execution_count": 10,
   "metadata": {},
   "outputs": [
    {
     "data": {
      "text/plain": [
       "0        975.7\n",
       "1        975.7\n",
       "2    1277600.0\n",
       "3    1277600.0\n",
       "4    1248000.0\n",
       "Name: zindexvalue, dtype: float64"
      ]
     },
     "execution_count": 10,
     "metadata": {},
     "output_type": "execute_result"
    }
   ],
   "source": [
    "prices_df['zindexvalue'] = prices_df['zindexvalue'].apply(lambda x: parseNumber(x))\n",
    "prices_df['zindexvalue'].head()"
   ]
  },
  {
   "cell_type": "code",
   "execution_count": 11,
   "metadata": {},
   "outputs": [
    {
     "name": "stderr",
     "output_type": "stream",
     "text": [
      "D:\\Python\\lib\\site-packages\\ipykernel_launcher.py:1: FutureWarning: convert_objects is deprecated.  To re-infer data dtypes for object columns, use Series.infer_objects()\n",
      "For all other conversions use the data-type specific converters pd.to_datetime, pd.to_timedelta and pd.to_numeric.\n",
      "  \"\"\"Entry point for launching an IPython kernel.\n"
     ]
    }
   ],
   "source": [
    "prices_df['zindexvalue'] = prices_df['zindexvalue'].convert_objects(convert_numeric=True)"
   ]
  },
  {
   "cell_type": "code",
   "execution_count": 12,
   "metadata": {},
   "outputs": [
    {
     "name": "stdout",
     "output_type": "stream",
     "text": [
      "0        975.7\n",
      "1        975.7\n",
      "2    1277600.0\n",
      "3    1277600.0\n",
      "4    1248000.0\n",
      "Name: zindexvalue, dtype: float64\n"
     ]
    }
   ],
   "source": [
    "print(prices_df['zindexvalue'].head())"
   ]
  },
  {
   "cell_type": "code",
   "execution_count": 13,
   "metadata": {},
   "outputs": [
    {
     "data": {
      "text/plain": [
       "('01/02/2013', '12/31/2015')"
      ]
     },
     "execution_count": 13,
     "metadata": {},
     "output_type": "execute_result"
    }
   ],
   "source": [
    "prices_df.lastsolddate.min(), prices_df.lastsolddate.max()"
   ]
  },
  {
   "cell_type": "code",
   "execution_count": 14,
   "metadata": {},
   "outputs": [
    {
     "data": {
      "text/html": [
       "<div>\n",
       "<style scoped>\n",
       "    .dataframe tbody tr th:only-of-type {\n",
       "        vertical-align: middle;\n",
       "    }\n",
       "\n",
       "    .dataframe tbody tr th {\n",
       "        vertical-align: top;\n",
       "    }\n",
       "\n",
       "    .dataframe thead th {\n",
       "        text-align: right;\n",
       "    }\n",
       "</style>\n",
       "<table border=\"1\" class=\"dataframe\">\n",
       "  <thead>\n",
       "    <tr style=\"text-align: right;\">\n",
       "      <th></th>\n",
       "      <th>bathrooms</th>\n",
       "      <th>bedrooms</th>\n",
       "      <th>finishedsqft</th>\n",
       "      <th>lastsoldprice</th>\n",
       "      <th>latitude</th>\n",
       "      <th>longitude</th>\n",
       "      <th>totalrooms</th>\n",
       "      <th>yearbuilt</th>\n",
       "      <th>zindexvalue</th>\n",
       "    </tr>\n",
       "  </thead>\n",
       "  <tbody>\n",
       "    <tr>\n",
       "      <th>count</th>\n",
       "      <td>11330.000000</td>\n",
       "      <td>11330.000000</td>\n",
       "      <td>11330.000000</td>\n",
       "      <td>1.133000e+04</td>\n",
       "      <td>11330.000000</td>\n",
       "      <td>11330.000000</td>\n",
       "      <td>11330.000000</td>\n",
       "      <td>11330.000000</td>\n",
       "      <td>1.133000e+04</td>\n",
       "    </tr>\n",
       "    <tr>\n",
       "      <th>mean</th>\n",
       "      <td>1.980229</td>\n",
       "      <td>2.614475</td>\n",
       "      <td>1585.420918</td>\n",
       "      <td>1.263928e+06</td>\n",
       "      <td>37.759711</td>\n",
       "      <td>-122.436518</td>\n",
       "      <td>6.111562</td>\n",
       "      <td>1948.498147</td>\n",
       "      <td>1.082400e+06</td>\n",
       "    </tr>\n",
       "    <tr>\n",
       "      <th>std</th>\n",
       "      <td>1.047358</td>\n",
       "      <td>1.299457</td>\n",
       "      <td>921.978245</td>\n",
       "      <td>1.042079e+06</td>\n",
       "      <td>0.025578</td>\n",
       "      <td>0.030743</td>\n",
       "      <td>12.125819</td>\n",
       "      <td>37.911196</td>\n",
       "      <td>8.419778e+05</td>\n",
       "    </tr>\n",
       "    <tr>\n",
       "      <th>min</th>\n",
       "      <td>0.500000</td>\n",
       "      <td>0.000000</td>\n",
       "      <td>1.000000</td>\n",
       "      <td>5.350000e+02</td>\n",
       "      <td>37.708170</td>\n",
       "      <td>-122.510726</td>\n",
       "      <td>1.000000</td>\n",
       "      <td>1860.000000</td>\n",
       "      <td>6.881000e+02</td>\n",
       "    </tr>\n",
       "    <tr>\n",
       "      <th>25%</th>\n",
       "      <td>1.000000</td>\n",
       "      <td>2.000000</td>\n",
       "      <td>1019.000000</td>\n",
       "      <td>7.292500e+05</td>\n",
       "      <td>37.739286</td>\n",
       "      <td>-122.455157</td>\n",
       "      <td>4.000000</td>\n",
       "      <td>1916.000000</td>\n",
       "      <td>9.829000e+02</td>\n",
       "    </tr>\n",
       "    <tr>\n",
       "      <th>50%</th>\n",
       "      <td>2.000000</td>\n",
       "      <td>2.000000</td>\n",
       "      <td>1362.000000</td>\n",
       "      <td>9.900000e+05</td>\n",
       "      <td>37.760513</td>\n",
       "      <td>-122.432510</td>\n",
       "      <td>5.000000</td>\n",
       "      <td>1940.000000</td>\n",
       "      <td>1.211900e+06</td>\n",
       "    </tr>\n",
       "    <tr>\n",
       "      <th>75%</th>\n",
       "      <td>2.000000</td>\n",
       "      <td>3.000000</td>\n",
       "      <td>1876.000000</td>\n",
       "      <td>1.450000e+06</td>\n",
       "      <td>37.781386</td>\n",
       "      <td>-122.413359</td>\n",
       "      <td>7.000000</td>\n",
       "      <td>1986.000000</td>\n",
       "      <td>1.480400e+06</td>\n",
       "    </tr>\n",
       "    <tr>\n",
       "      <th>max</th>\n",
       "      <td>14.000000</td>\n",
       "      <td>20.000000</td>\n",
       "      <td>27275.000000</td>\n",
       "      <td>2.388900e+07</td>\n",
       "      <td>37.806083</td>\n",
       "      <td>-122.381201</td>\n",
       "      <td>1264.000000</td>\n",
       "      <td>2016.000000</td>\n",
       "      <td>5.333500e+06</td>\n",
       "    </tr>\n",
       "  </tbody>\n",
       "</table>\n",
       "</div>"
      ],
      "text/plain": [
       "          bathrooms      bedrooms  finishedsqft  lastsoldprice      latitude  \\\n",
       "count  11330.000000  11330.000000  11330.000000   1.133000e+04  11330.000000   \n",
       "mean       1.980229      2.614475   1585.420918   1.263928e+06     37.759711   \n",
       "std        1.047358      1.299457    921.978245   1.042079e+06      0.025578   \n",
       "min        0.500000      0.000000      1.000000   5.350000e+02     37.708170   \n",
       "25%        1.000000      2.000000   1019.000000   7.292500e+05     37.739286   \n",
       "50%        2.000000      2.000000   1362.000000   9.900000e+05     37.760513   \n",
       "75%        2.000000      3.000000   1876.000000   1.450000e+06     37.781386   \n",
       "max       14.000000     20.000000  27275.000000   2.388900e+07     37.806083   \n",
       "\n",
       "          longitude    totalrooms     yearbuilt   zindexvalue  \n",
       "count  11330.000000  11330.000000  11330.000000  1.133000e+04  \n",
       "mean    -122.436518      6.111562   1948.498147  1.082400e+06  \n",
       "std        0.030743     12.125819     37.911196  8.419778e+05  \n",
       "min     -122.510726      1.000000   1860.000000  6.881000e+02  \n",
       "25%     -122.455157      4.000000   1916.000000  9.829000e+02  \n",
       "50%     -122.432510      5.000000   1940.000000  1.211900e+06  \n",
       "75%     -122.413359      7.000000   1986.000000  1.480400e+06  \n",
       "max     -122.381201   1264.000000   2016.000000  5.333500e+06  "
      ]
     },
     "execution_count": 14,
     "metadata": {},
     "output_type": "execute_result"
    }
   ],
   "source": [
    "prices_df.describe()"
   ]
  },
  {
   "cell_type": "markdown",
   "metadata": {},
   "source": [
    "Because each house has different square footage and each neighborhood has different home prices, what we really need is the price per sqft. So, we add a new variable “price_per_sqft”. We then check to see how much this new independent variable correlates with the last sold price."
   ]
  },
  {
   "cell_type": "code",
   "execution_count": 15,
   "metadata": {},
   "outputs": [
    {
     "data": {
      "text/plain": [
       "lastsoldprice     1.000000\n",
       "finishedsqft      0.647208\n",
       "bathrooms         0.536880\n",
       "zindexvalue       0.450087\n",
       "bedrooms          0.395478\n",
       "latitude          0.283107\n",
       "totalrooms        0.093527\n",
       "price_per_sqft    0.005008\n",
       "longitude        -0.052595\n",
       "yearbuilt        -0.189055\n",
       "Name: lastsoldprice, dtype: float64"
      ]
     },
     "execution_count": 15,
     "metadata": {},
     "output_type": "execute_result"
    }
   ],
   "source": [
    "prices_df['price_per_sqft'] = prices_df['lastsoldprice']/prices_df['finishedsqft']\n",
    "corr_matrix = prices_df.corr()\n",
    "corr_matrix[\"lastsoldprice\"].sort_values(ascending=False)"
   ]
  },
  {
   "cell_type": "markdown",
   "metadata": {},
   "source": [
    "Unfortunately, the new price_per_sqft variable shows only a very small positive correlation with the last sold price. But we still need this variable for grouping neighborhoods."
   ]
  },
  {
   "cell_type": "code",
   "execution_count": 16,
   "metadata": {},
   "outputs": [
    {
     "data": {
      "text/plain": [
       "71"
      ]
     },
     "execution_count": 16,
     "metadata": {},
     "output_type": "execute_result"
    }
   ],
   "source": [
    "len(prices_df['neighborhood'].value_counts())"
   ]
  },
  {
   "cell_type": "markdown",
   "metadata": {},
   "source": [
    "There are 71 neighborhoods in the data, and we are going to group them."
   ]
  },
  {
   "cell_type": "code",
   "execution_count": 17,
   "metadata": {},
   "outputs": [
    {
     "data": {
      "text/html": [
       "<div>\n",
       "<style scoped>\n",
       "    .dataframe tbody tr th:only-of-type {\n",
       "        vertical-align: middle;\n",
       "    }\n",
       "\n",
       "    .dataframe tbody tr th {\n",
       "        vertical-align: top;\n",
       "    }\n",
       "\n",
       "    .dataframe thead th {\n",
       "        text-align: right;\n",
       "    }\n",
       "</style>\n",
       "<table border=\"1\" class=\"dataframe\">\n",
       "  <thead>\n",
       "    <tr style=\"text-align: right;\">\n",
       "      <th></th>\n",
       "      <th>freq</th>\n",
       "      <th>price_per_sqft</th>\n",
       "    </tr>\n",
       "  </thead>\n",
       "  <tbody>\n",
       "    <tr>\n",
       "      <th>count</th>\n",
       "      <td>71.000000</td>\n",
       "      <td>71.000000</td>\n",
       "    </tr>\n",
       "    <tr>\n",
       "      <th>mean</th>\n",
       "      <td>159.577465</td>\n",
       "      <td>1664.908308</td>\n",
       "    </tr>\n",
       "    <tr>\n",
       "      <th>std</th>\n",
       "      <td>126.572696</td>\n",
       "      <td>3619.277749</td>\n",
       "    </tr>\n",
       "    <tr>\n",
       "      <th>min</th>\n",
       "      <td>3.000000</td>\n",
       "      <td>374.201197</td>\n",
       "    </tr>\n",
       "    <tr>\n",
       "      <th>25%</th>\n",
       "      <td>67.500000</td>\n",
       "      <td>613.337664</td>\n",
       "    </tr>\n",
       "    <tr>\n",
       "      <th>50%</th>\n",
       "      <td>123.000000</td>\n",
       "      <td>756.246284</td>\n",
       "    </tr>\n",
       "    <tr>\n",
       "      <th>75%</th>\n",
       "      <td>210.500000</td>\n",
       "      <td>985.156646</td>\n",
       "    </tr>\n",
       "    <tr>\n",
       "      <th>max</th>\n",
       "      <td>540.000000</td>\n",
       "      <td>26914.471572</td>\n",
       "    </tr>\n",
       "  </tbody>\n",
       "</table>\n",
       "</div>"
      ],
      "text/plain": [
       "             freq  price_per_sqft\n",
       "count   71.000000       71.000000\n",
       "mean   159.577465     1664.908308\n",
       "std    126.572696     3619.277749\n",
       "min      3.000000      374.201197\n",
       "25%     67.500000      613.337664\n",
       "50%    123.000000      756.246284\n",
       "75%    210.500000      985.156646\n",
       "max    540.000000    26914.471572"
      ]
     },
     "execution_count": 17,
     "metadata": {},
     "output_type": "execute_result"
    }
   ],
   "source": [
    "freq = prices_df.groupby('neighborhood').count()['address']\n",
    "mean = prices_df.groupby('neighborhood').mean()['price_per_sqft']\n",
    "cluster = pd.concat([freq, mean], axis=1)\n",
    "cluster['neighborhood'] = cluster.index\n",
    "cluster.columns = ['freq', 'price_per_sqft','neighborhood']\n",
    "cluster.describe()"
   ]
  },
  {
   "cell_type": "code",
   "execution_count": 18,
   "metadata": {},
   "outputs": [
    {
     "data": {
      "text/plain": [
       "Index(['Bayview', 'Central Richmond', 'Central Sunset', 'Crocker Amazon',\n",
       "       'Daly City', 'Diamond Heights', 'Excelsior', 'Forest Hill',\n",
       "       'Forest Hill Extension', 'Golden Gate Heights', 'Ingleside',\n",
       "       'Ingleside Heights', 'Ingleside Terrace', 'Inner Parkside',\n",
       "       'Inner Richmond', 'Inner Sunset', 'Lakeshore', 'Little Hollywood',\n",
       "       'Merced Heights', 'Mission Terrace', 'Mount Davidson Manor',\n",
       "       'Oceanview', 'Outer Mission', 'Outer Parkside', 'Outer Richmond',\n",
       "       'Outer Sunset', 'Parkside', 'Portola', 'Silver Terrace', 'Sunnyside',\n",
       "       'Visitacion Valley', 'West Portal', 'Western Addition',\n",
       "       'Westwood Highlands', 'Westwood Park'],\n",
       "      dtype='object', name='neighborhood')"
      ]
     },
     "execution_count": 18,
     "metadata": {},
     "output_type": "execute_result"
    }
   ],
   "source": [
    "cluster1 = cluster[cluster.price_per_sqft < 756]\n",
    "cluster1.index"
   ]
  },
  {
   "cell_type": "markdown",
   "metadata": {},
   "source": [
    "These are the high price and low frequency neighborhoods:"
   ]
  },
  {
   "cell_type": "code",
   "execution_count": 19,
   "metadata": {},
   "outputs": [
    {
     "data": {
      "text/plain": [
       "Index(['Buena Vista Park', 'Central Waterfront - Dogpatch', 'Corona Heights',\n",
       "       'Haight-Ashbury', 'Lakeside', 'Lone Mountain', 'Midtown Terrace',\n",
       "       'North Beach', 'North Waterfront', 'Parnassus - Ashbury',\n",
       "       'Presidio Heights', 'Sea Cliff', 'St. Francis Wood', 'Telegraph Hill',\n",
       "       'Twin Peaks'],\n",
       "      dtype='object', name='neighborhood')"
      ]
     },
     "execution_count": 19,
     "metadata": {},
     "output_type": "execute_result"
    }
   ],
   "source": [
    "cluster_temp = cluster[cluster.price_per_sqft >= 756]\n",
    "cluster2 = cluster_temp[cluster_temp.freq <123]\n",
    "cluster2.index"
   ]
  },
  {
   "cell_type": "code",
   "execution_count": 20,
   "metadata": {},
   "outputs": [
    {
     "data": {
      "text/plain": [
       "Index(['Bernal Heights', 'Cow Hollow', 'Downtown',\n",
       "       'Eureka Valley - Dolores Heights - Castro', 'Glen Park', 'Hayes Valley',\n",
       "       'Lake', 'Lower Pacific Heights', 'Marina', 'Miraloma Park', 'Mission',\n",
       "       'Nob Hill', 'Noe Valley', 'North Panhandle', 'Pacific Heights',\n",
       "       'Potrero Hill', 'Russian Hill', 'South Beach', 'South of Market',\n",
       "       'Van Ness - Civic Center', 'Yerba Buena'],\n",
       "      dtype='object', name='neighborhood')"
      ]
     },
     "execution_count": 20,
     "metadata": {},
     "output_type": "execute_result"
    }
   ],
   "source": [
    "cluster3 = cluster_temp[cluster_temp.freq >=123]\n",
    "cluster3.index"
   ]
  },
  {
   "cell_type": "code",
   "execution_count": 21,
   "metadata": {},
   "outputs": [],
   "source": [
    "def get_group(x):\n",
    "    if x in cluster1.index:\n",
    "        return 'low_price'\n",
    "    elif x in cluster2.index:\n",
    "        return 'high_price_low_freq'\n",
    "    else:\n",
    "        return 'high_price_high_freq'\n",
    "prices_df['group'] = prices_df.neighborhood.apply(get_group)"
   ]
  },
  {
   "cell_type": "markdown",
   "metadata": {},
   "source": [
    "After performing the above pre-processing, we do not need the following columns anymore: “address, lastsolddate, latitude, longitude, neighborhood, price_per_sqft”, so, we drop them from our analysis."
   ]
  },
  {
   "cell_type": "code",
   "execution_count": 22,
   "metadata": {},
   "outputs": [
    {
     "data": {
      "text/html": [
       "<div>\n",
       "<style scoped>\n",
       "    .dataframe tbody tr th:only-of-type {\n",
       "        vertical-align: middle;\n",
       "    }\n",
       "\n",
       "    .dataframe tbody tr th {\n",
       "        vertical-align: top;\n",
       "    }\n",
       "\n",
       "    .dataframe thead th {\n",
       "        text-align: right;\n",
       "    }\n",
       "</style>\n",
       "<table border=\"1\" class=\"dataframe\">\n",
       "  <thead>\n",
       "    <tr style=\"text-align: right;\">\n",
       "      <th></th>\n",
       "      <th>bathrooms</th>\n",
       "      <th>bedrooms</th>\n",
       "      <th>finishedsqft</th>\n",
       "      <th>totalrooms</th>\n",
       "      <th>usecode</th>\n",
       "      <th>yearbuilt</th>\n",
       "      <th>zindexvalue</th>\n",
       "      <th>group</th>\n",
       "      <th>lastsoldprice</th>\n",
       "    </tr>\n",
       "  </thead>\n",
       "  <tbody>\n",
       "    <tr>\n",
       "      <th>0</th>\n",
       "      <td>2.0</td>\n",
       "      <td>2.0</td>\n",
       "      <td>1043.0</td>\n",
       "      <td>4.0</td>\n",
       "      <td>Condominium</td>\n",
       "      <td>2007.0</td>\n",
       "      <td>975.7</td>\n",
       "      <td>high_price_high_freq</td>\n",
       "      <td>1300000.0</td>\n",
       "    </tr>\n",
       "    <tr>\n",
       "      <th>1</th>\n",
       "      <td>1.0</td>\n",
       "      <td>1.0</td>\n",
       "      <td>903.0</td>\n",
       "      <td>3.0</td>\n",
       "      <td>Condominium</td>\n",
       "      <td>2004.0</td>\n",
       "      <td>975.7</td>\n",
       "      <td>high_price_high_freq</td>\n",
       "      <td>750000.0</td>\n",
       "    </tr>\n",
       "    <tr>\n",
       "      <th>2</th>\n",
       "      <td>4.0</td>\n",
       "      <td>3.0</td>\n",
       "      <td>1425.0</td>\n",
       "      <td>6.0</td>\n",
       "      <td>Condominium</td>\n",
       "      <td>2003.0</td>\n",
       "      <td>1277600.0</td>\n",
       "      <td>high_price_high_freq</td>\n",
       "      <td>1495000.0</td>\n",
       "    </tr>\n",
       "    <tr>\n",
       "      <th>3</th>\n",
       "      <td>3.0</td>\n",
       "      <td>3.0</td>\n",
       "      <td>2231.0</td>\n",
       "      <td>10.0</td>\n",
       "      <td>SingleFamily</td>\n",
       "      <td>1927.0</td>\n",
       "      <td>1277600.0</td>\n",
       "      <td>high_price_high_freq</td>\n",
       "      <td>2700000.0</td>\n",
       "    </tr>\n",
       "    <tr>\n",
       "      <th>4</th>\n",
       "      <td>3.0</td>\n",
       "      <td>3.0</td>\n",
       "      <td>1300.0</td>\n",
       "      <td>4.0</td>\n",
       "      <td>SingleFamily</td>\n",
       "      <td>1900.0</td>\n",
       "      <td>1248000.0</td>\n",
       "      <td>high_price_high_freq</td>\n",
       "      <td>1530000.0</td>\n",
       "    </tr>\n",
       "  </tbody>\n",
       "</table>\n",
       "</div>"
      ],
      "text/plain": [
       "   bathrooms  bedrooms  finishedsqft  totalrooms       usecode  yearbuilt  \\\n",
       "0        2.0       2.0        1043.0         4.0   Condominium     2007.0   \n",
       "1        1.0       1.0         903.0         3.0   Condominium     2004.0   \n",
       "2        4.0       3.0        1425.0         6.0   Condominium     2003.0   \n",
       "3        3.0       3.0        2231.0        10.0  SingleFamily     1927.0   \n",
       "4        3.0       3.0        1300.0         4.0  SingleFamily     1900.0   \n",
       "\n",
       "   zindexvalue                 group  lastsoldprice  \n",
       "0        975.7  high_price_high_freq      1300000.0  \n",
       "1        975.7  high_price_high_freq       750000.0  \n",
       "2    1277600.0  high_price_high_freq      1495000.0  \n",
       "3    1277600.0  high_price_high_freq      2700000.0  \n",
       "4    1248000.0  high_price_high_freq      1530000.0  "
      ]
     },
     "execution_count": 22,
     "metadata": {},
     "output_type": "execute_result"
    }
   ],
   "source": [
    "prices_df.drop(prices_df.columns[[0, 4, 6, 7, 8, 13]], axis=1, inplace=True)\n",
    "prices_df = prices_df[['bathrooms', 'bedrooms', 'finishedsqft', 'totalrooms', 'usecode',\\\n",
    "                       'yearbuilt','zindexvalue', 'group', 'lastsoldprice']]\n",
    "prices_df.head()"
   ]
  },
  {
   "cell_type": "markdown",
   "metadata": {},
   "source": [
    "### Split the data set into dependent and independent variables, X and y"
   ]
  },
  {
   "cell_type": "code",
   "execution_count": 23,
   "metadata": {},
   "outputs": [
    {
     "data": {
      "text/html": [
       "<div>\n",
       "<style scoped>\n",
       "    .dataframe tbody tr th:only-of-type {\n",
       "        vertical-align: middle;\n",
       "    }\n",
       "\n",
       "    .dataframe tbody tr th {\n",
       "        vertical-align: top;\n",
       "    }\n",
       "\n",
       "    .dataframe thead th {\n",
       "        text-align: right;\n",
       "    }\n",
       "</style>\n",
       "<table border=\"1\" class=\"dataframe\">\n",
       "  <thead>\n",
       "    <tr style=\"text-align: right;\">\n",
       "      <th></th>\n",
       "      <th>bathrooms</th>\n",
       "      <th>bedrooms</th>\n",
       "      <th>finishedsqft</th>\n",
       "      <th>totalrooms</th>\n",
       "      <th>yearbuilt</th>\n",
       "      <th>zindexvalue</th>\n",
       "      <th>high_price_high_freq</th>\n",
       "      <th>high_price_low_freq</th>\n",
       "      <th>low_price</th>\n",
       "      <th>Apartment</th>\n",
       "      <th>Condominium</th>\n",
       "      <th>Cooperative</th>\n",
       "      <th>Duplex</th>\n",
       "      <th>Miscellaneous</th>\n",
       "      <th>Mobile</th>\n",
       "      <th>MultiFamily2To4</th>\n",
       "      <th>MultiFamily5Plus</th>\n",
       "      <th>SingleFamily</th>\n",
       "      <th>Townhouse</th>\n",
       "    </tr>\n",
       "  </thead>\n",
       "  <tbody>\n",
       "    <tr>\n",
       "      <th>0</th>\n",
       "      <td>2.0</td>\n",
       "      <td>2.0</td>\n",
       "      <td>1043.0</td>\n",
       "      <td>4.0</td>\n",
       "      <td>2007.0</td>\n",
       "      <td>975.7</td>\n",
       "      <td>1</td>\n",
       "      <td>0</td>\n",
       "      <td>0</td>\n",
       "      <td>0</td>\n",
       "      <td>1</td>\n",
       "      <td>0</td>\n",
       "      <td>0</td>\n",
       "      <td>0</td>\n",
       "      <td>0</td>\n",
       "      <td>0</td>\n",
       "      <td>0</td>\n",
       "      <td>0</td>\n",
       "      <td>0</td>\n",
       "    </tr>\n",
       "    <tr>\n",
       "      <th>1</th>\n",
       "      <td>1.0</td>\n",
       "      <td>1.0</td>\n",
       "      <td>903.0</td>\n",
       "      <td>3.0</td>\n",
       "      <td>2004.0</td>\n",
       "      <td>975.7</td>\n",
       "      <td>1</td>\n",
       "      <td>0</td>\n",
       "      <td>0</td>\n",
       "      <td>0</td>\n",
       "      <td>1</td>\n",
       "      <td>0</td>\n",
       "      <td>0</td>\n",
       "      <td>0</td>\n",
       "      <td>0</td>\n",
       "      <td>0</td>\n",
       "      <td>0</td>\n",
       "      <td>0</td>\n",
       "      <td>0</td>\n",
       "    </tr>\n",
       "    <tr>\n",
       "      <th>2</th>\n",
       "      <td>4.0</td>\n",
       "      <td>3.0</td>\n",
       "      <td>1425.0</td>\n",
       "      <td>6.0</td>\n",
       "      <td>2003.0</td>\n",
       "      <td>1277600.0</td>\n",
       "      <td>1</td>\n",
       "      <td>0</td>\n",
       "      <td>0</td>\n",
       "      <td>0</td>\n",
       "      <td>1</td>\n",
       "      <td>0</td>\n",
       "      <td>0</td>\n",
       "      <td>0</td>\n",
       "      <td>0</td>\n",
       "      <td>0</td>\n",
       "      <td>0</td>\n",
       "      <td>0</td>\n",
       "      <td>0</td>\n",
       "    </tr>\n",
       "    <tr>\n",
       "      <th>3</th>\n",
       "      <td>3.0</td>\n",
       "      <td>3.0</td>\n",
       "      <td>2231.0</td>\n",
       "      <td>10.0</td>\n",
       "      <td>1927.0</td>\n",
       "      <td>1277600.0</td>\n",
       "      <td>1</td>\n",
       "      <td>0</td>\n",
       "      <td>0</td>\n",
       "      <td>0</td>\n",
       "      <td>0</td>\n",
       "      <td>0</td>\n",
       "      <td>0</td>\n",
       "      <td>0</td>\n",
       "      <td>0</td>\n",
       "      <td>0</td>\n",
       "      <td>0</td>\n",
       "      <td>1</td>\n",
       "      <td>0</td>\n",
       "    </tr>\n",
       "    <tr>\n",
       "      <th>4</th>\n",
       "      <td>3.0</td>\n",
       "      <td>3.0</td>\n",
       "      <td>1300.0</td>\n",
       "      <td>4.0</td>\n",
       "      <td>1900.0</td>\n",
       "      <td>1248000.0</td>\n",
       "      <td>1</td>\n",
       "      <td>0</td>\n",
       "      <td>0</td>\n",
       "      <td>0</td>\n",
       "      <td>0</td>\n",
       "      <td>0</td>\n",
       "      <td>0</td>\n",
       "      <td>0</td>\n",
       "      <td>0</td>\n",
       "      <td>0</td>\n",
       "      <td>0</td>\n",
       "      <td>1</td>\n",
       "      <td>0</td>\n",
       "    </tr>\n",
       "  </tbody>\n",
       "</table>\n",
       "</div>"
      ],
      "text/plain": [
       "   bathrooms  bedrooms  finishedsqft  totalrooms  yearbuilt  zindexvalue  \\\n",
       "0        2.0       2.0        1043.0         4.0     2007.0        975.7   \n",
       "1        1.0       1.0         903.0         3.0     2004.0        975.7   \n",
       "2        4.0       3.0        1425.0         6.0     2003.0    1277600.0   \n",
       "3        3.0       3.0        2231.0        10.0     1927.0    1277600.0   \n",
       "4        3.0       3.0        1300.0         4.0     1900.0    1248000.0   \n",
       "\n",
       "   high_price_high_freq  high_price_low_freq  low_price  Apartment  \\\n",
       "0                     1                    0          0          0   \n",
       "1                     1                    0          0          0   \n",
       "2                     1                    0          0          0   \n",
       "3                     1                    0          0          0   \n",
       "4                     1                    0          0          0   \n",
       "\n",
       "   Condominium  Cooperative  Duplex  Miscellaneous  Mobile  MultiFamily2To4  \\\n",
       "0            1            0       0              0       0                0   \n",
       "1            1            0       0              0       0                0   \n",
       "2            1            0       0              0       0                0   \n",
       "3            0            0       0              0       0                0   \n",
       "4            0            0       0              0       0                0   \n",
       "\n",
       "   MultiFamily5Plus  SingleFamily  Townhouse  \n",
       "0                 0             0          0  \n",
       "1                 0             0          0  \n",
       "2                 0             0          0  \n",
       "3                 0             1          0  \n",
       "4                 0             1          0  "
      ]
     },
     "execution_count": 23,
     "metadata": {},
     "output_type": "execute_result"
    }
   ],
   "source": [
    "X = prices_df[['bathrooms', 'bedrooms', 'finishedsqft', 'totalrooms', 'usecode', 'yearbuilt','zindexvalue', 'group']]\n",
    "y = prices_df['lastsoldprice']\n",
    "\n",
    "n = pd.get_dummies(prices_df.group)\n",
    "X = pd.concat([X, n], axis=1)\n",
    "m = pd.get_dummies(prices_df.usecode)\n",
    "X = pd.concat([X, m], axis=1)\n",
    "drops = ['group', 'usecode']\n",
    "X.drop(drops, inplace=True, axis=1)\n",
    "X.head()"
   ]
  },
  {
   "cell_type": "code",
   "execution_count": 24,
   "metadata": {},
   "outputs": [
    {
     "name": "stdout",
     "output_type": "stream",
     "text": [
      "(11330, 19)\n",
      "(11330,)\n"
     ]
    }
   ],
   "source": [
    "print(X.shape)                            \n",
    "print(y.shape) "
   ]
  },
  {
   "cell_type": "code",
   "execution_count": 25,
   "metadata": {},
   "outputs": [
    {
     "name": "stdout",
     "output_type": "stream",
     "text": [
      "<class 'pandas.core.frame.DataFrame'>\n",
      "RangeIndex: 11330 entries, 0 to 11329\n",
      "Data columns (total 19 columns):\n",
      "bathrooms               11330 non-null float64\n",
      "bedrooms                11330 non-null float64\n",
      "finishedsqft            11330 non-null float64\n",
      "totalrooms              11330 non-null float64\n",
      "yearbuilt               11330 non-null float64\n",
      "zindexvalue             11330 non-null float64\n",
      "high_price_high_freq    11330 non-null uint8\n",
      "high_price_low_freq     11330 non-null uint8\n",
      "low_price               11330 non-null uint8\n",
      "Apartment               11330 non-null uint8\n",
      "Condominium             11330 non-null uint8\n",
      "Cooperative             11330 non-null uint8\n",
      "Duplex                  11330 non-null uint8\n",
      "Miscellaneous           11330 non-null uint8\n",
      "Mobile                  11330 non-null uint8\n",
      "MultiFamily2To4         11330 non-null uint8\n",
      "MultiFamily5Plus        11330 non-null uint8\n",
      "SingleFamily            11330 non-null uint8\n",
      "Townhouse               11330 non-null uint8\n",
      "dtypes: float64(6), uint8(13)\n",
      "memory usage: 675.0 KB\n"
     ]
    }
   ],
   "source": [
    "X.info()"
   ]
  },
  {
   "cell_type": "markdown",
   "metadata": {},
   "source": [
    "### Test model assumptions"
   ]
  },
  {
   "cell_type": "markdown",
   "metadata": {},
   "source": [
    "## Check assumptions\n",
    "1) No outliers\n",
    "\n",
    "First we try to get the studentized residuals using get_influence( ). "
   ]
  },
  {
   "cell_type": "code",
   "execution_count": 26,
   "metadata": {
    "collapsed": true
   },
   "outputs": [],
   "source": [
    "data_df                    = pd.DataFrame(X)\n",
    "data_df['lastsoldprice']   = y"
   ]
  },
  {
   "cell_type": "code",
   "execution_count": 38,
   "metadata": {},
   "outputs": [
    {
     "name": "stdout",
     "output_type": "stream",
     "text": [
      "                            OLS Regression Results                            \n",
      "==============================================================================\n",
      "Dep. Variable:          lastsoldprice   R-squared:                       0.553\n",
      "Model:                            OLS   Adj. R-squared:                  0.552\n",
      "Method:                 Least Squares   F-statistic:                     823.7\n",
      "Date:                Sun, 02 Jun 2019   Prob (F-statistic):               0.00\n",
      "Time:                        10:17:23   Log-Likelihood:            -1.6851e+05\n",
      "No. Observations:               11330   AIC:                         3.371e+05\n",
      "Df Residuals:                   11312   BIC:                         3.372e+05\n",
      "Df Model:                          17                                         \n",
      "Covariance Type:            nonrobust                                         \n",
      "========================================================================================\n",
      "                           coef    std err          t      P>|t|      [0.025      0.975]\n",
      "----------------------------------------------------------------------------------------\n",
      "Intercept            -4.643e+04   2.99e+05     -0.155      0.877   -6.32e+05    5.39e+05\n",
      "bathrooms             1.872e+05   1.04e+04     17.929      0.000    1.67e+05    2.08e+05\n",
      "bedrooms             -8.539e+04   8621.205     -9.904      0.000   -1.02e+05   -6.85e+04\n",
      "finishedsqft           604.9317     11.660     51.880      0.000     582.075     627.788\n",
      "totalrooms             -54.7947    548.338     -0.100      0.920   -1129.632    1020.043\n",
      "yearbuilt             -151.5176    212.219     -0.714      0.475    -567.504     264.469\n",
      "zindexvalue              0.2024      0.010     20.626      0.000       0.183       0.222\n",
      "high_price_high_freq  2.043e+05   9.97e+04      2.048      0.041    8748.110       4e+05\n",
      "high_price_low_freq   7.338e+04   1.02e+05      0.722      0.470   -1.26e+05    2.73e+05\n",
      "low_price            -3.241e+05      1e+05     -3.233      0.001   -5.21e+05   -1.28e+05\n",
      "Apartment              9.36e+04   3.74e+05      0.250      0.803    -6.4e+05    8.28e+05\n",
      "Condominium           1.948e+05   9.23e+04      2.110      0.035    1.38e+04    3.76e+05\n",
      "Cooperative          -6.243e+05   3.75e+05     -1.666      0.096   -1.36e+06     1.1e+05\n",
      "Duplex               -5.327e+05   1.04e+05     -5.102      0.000   -7.37e+05   -3.28e+05\n",
      "Miscellaneous         1.174e+04   1.77e+05      0.066      0.947   -3.36e+05    3.59e+05\n",
      "Mobile                4.553e+05   4.54e+05      1.002      0.316   -4.35e+05    1.35e+06\n",
      "MultiFamily2To4       -1.41e+05   9.45e+04     -1.492      0.136   -3.26e+05    4.42e+04\n",
      "MultiFamily5Plus     -1.392e+05   4.55e+05     -0.306      0.759   -1.03e+06    7.52e+05\n",
      "SingleFamily          4.279e+05      9e+04      4.753      0.000    2.51e+05    6.04e+05\n",
      "Townhouse             2.074e+05   1.19e+05      1.740      0.082   -2.63e+04    4.41e+05\n",
      "==============================================================================\n",
      "Omnibus:                    10177.465   Durbin-Watson:                   1.856\n",
      "Prob(Omnibus):                  0.000   Jarque-Bera (JB):          4044664.604\n",
      "Skew:                           3.443   Prob(JB):                         0.00\n",
      "Kurtosis:                      95.305   Cond. No.                     9.44e+21\n",
      "==============================================================================\n",
      "\n",
      "Warnings:\n",
      "[1] Standard Errors assume that the covariance matrix of the errors is correctly specified.\n",
      "[2] The smallest eigenvalue is 2.39e-28. This might indicate that there are\n",
      "strong multicollinearity problems or that the design matrix is singular.\n"
     ]
    }
   ],
   "source": [
    "import statsmodels.formula.api as smf\n",
    "model            = smf.ols( 'lastsoldprice ~ bathrooms  + bedrooms  + finishedsqft  + \\\n",
    "                             totalrooms  + yearbuilt  + zindexvalue  + high_price_high_freq + \\\n",
    "                             high_price_low_freq  + low_price  + Apartment + Condominium + \\\n",
    "                             Cooperative  + Duplex  + Miscellaneous + Mobile + \\\n",
    "                             MultiFamily2To4  + MultiFamily5Plus  + SingleFamily  + Townhouse',\n",
    "                          data = data_df)\n",
    "fit              = model.fit()\n",
    "print(fit.summary())\n",
    "y_pred           = fit.predict(X)"
   ]
  },
  {
   "cell_type": "code",
   "execution_count": 34,
   "metadata": {},
   "outputs": [
    {
     "data": {
      "image/png": "[encoded data removed]",
      "text/plain": [
       "<matplotlib.figure.Figure at 0x223b5e75e10>"
      ]
     },
     "metadata": {},
     "output_type": "display_data"
    }
   ],
   "source": [
    "data_df.boxplot(rot = 90)\n",
    "plt.show()"
   ]
  },
  {
   "cell_type": "code",
   "execution_count": null,
   "metadata": {
    "collapsed": true
   },
   "outputs": [],
   "source": [
    "From the above list, we do not find any value above 3. So there is no outlier. \n",
    "### No outlier assumption is satisfied.  "
   ]
  },
  {
   "cell_type": "markdown",
   "metadata": {},
   "source": [
    "### 2) Normality of the residuals\n",
    "\n",
    "#### We use Jarque-Bera test  from scipy library to check the normality of residuals.\n",
    "\n",
    "#### Null Hypothesis: The residuals are normally distributed.\n",
    "\n",
    "####  Alternative Hypothesis: The residuals are not normally distributed.\n"
   ]
  },
  {
   "cell_type": "code",
   "execution_count": 37,
   "metadata": {},
   "outputs": [
    {
     "name": "stdout",
     "output_type": "stream",
     "text": [
      "Jarque-Bera test P value is 0.0000\n"
     ]
    }
   ],
   "source": [
    "jb_stat, jb_pval = stats.jarque_bera(resid)\n",
    "print('Jarque-Bera test P value is %1.4f' % jb_pval)"
   ]
  },
  {
   "cell_type": "markdown",
   "metadata": {},
   "source": [
    "Since p value is 0, we reject the null hypothesis and conclude that residuals are not normally distributed."
   ]
  },
  {
   "cell_type": "markdown",
   "metadata": {},
   "source": [
    "### 3) Constant variance\n",
    "\n",
    "Checking heteroscedasticity Using Goldfeld Quandt we test for heteroscedasticity.\n",
    "\n",
    "* Null Hypothesis: Error terms are homoscedastic\n",
    "* Alternative Hypothesis: Error terms are heteroscedastic."
   ]
  },
  {
   "cell_type": "code",
   "execution_count": 35,
   "metadata": {},
   "outputs": [
    {
     "data": {
      "text/plain": [
       "[('F statistic', 0.28922327658587094), ('p-value', 0.9999999999999999)]"
      ]
     },
     "execution_count": 35,
     "metadata": {},
     "output_type": "execute_result"
    }
   ],
   "source": [
    "resid           =  y_pred - y\n",
    "\n",
    "name = ['F statistic', 'p-value']\n",
    "test = sms.het_goldfeldquandt(resid, X)\n",
    "lzip(name, test)"
   ]
  },
  {
   "cell_type": "markdown",
   "metadata": {},
   "source": [
    "The p-value is 0.99 hence we can say that the residuals have constant variance. "
   ]
  },
  {
   "cell_type": "markdown",
   "metadata": {},
   "source": [
    "### 4) No autocorrelation\n",
    "\n",
    "#### Checking for autocorrelation To ensure the absence of autocorrelation we use Ljungbox test.\n",
    "\n",
    "####  Null Hypothesis: Autocorrelation is absent.\n",
    "#### Alternative Hypothesis: Autocorrelation is present."
   ]
  },
  {
   "cell_type": "code",
   "execution_count": 36,
   "metadata": {},
   "outputs": [
    {
     "data": {
      "text/plain": [
       "(array([58.8322275]), array([1.71705725e-14]))"
      ]
     },
     "execution_count": 36,
     "metadata": {},
     "output_type": "execute_result"
    }
   ],
   "source": [
    "diag.acorr_ljungbox(resid, lags = 1) "
   ]
  },
  {
   "cell_type": "markdown",
   "metadata": {},
   "source": [
    "Since p-value is 1.72 e-14 thus we reject the null hypothesis and can say that autocorrelation is present."
   ]
  },
  {
   "cell_type": "markdown",
   "metadata": {},
   "source": [
    "### 5) Linearity\n",
    "\n",
    "The residual vs fitted values plot is used to check for constant variance and linearity, and to identify potential outliers in the data."
   ]
  },
  {
   "cell_type": "code",
   "execution_count": 39,
   "metadata": {},
   "outputs": [
    {
     "data": {
      "image/png": "[encoded data removed]",
      "text/plain": [
       "<matplotlib.figure.Figure at 0x223b64227f0>"
      ]
     },
     "metadata": {},
     "output_type": "display_data"
    }
   ],
   "source": [
    "residuals  =  resid\n",
    "# Plot the residuals after fitting a linear model\n",
    "ax         = sns.residplot(y, residuals, lowess = True, color = \"g\")\n",
    "\n",
    "ax.set(xlabel='Fitted Value', ylabel='Residuals', title = 'Residual Vs Fitted values PLOT \\n')\n",
    "plt.show()"
   ]
  },
  {
   "cell_type": "markdown",
   "metadata": {},
   "source": [
    "The residual plot indicates that the model’s residuals are not restricting to mean of zero to a great extent exhibiting non-linearity."
   ]
  },
  {
   "cell_type": "markdown",
   "metadata": {},
   "source": [
    "### Detect multi-collinearity"
   ]
  },
  {
   "cell_type": "code",
   "execution_count": 41,
   "metadata": {},
   "outputs": [
    {
     "name": "stderr",
     "output_type": "stream",
     "text": [
      "D:\\Python\\lib\\site-packages\\statsmodels\\stats\\outliers_influence.py:181: RuntimeWarning: divide by zero encountered in double_scalars\n",
      "  vif = 1. / (1. - r_squared_i)\n"
     ]
    },
    {
     "name": "stdout",
     "output_type": "stream",
     "text": [
      "[2.866620053475559, 2.951161081621924, 3.335337278309442, 1.0306283171301571, 1.5090631712353801, 1.6513451919925337, inf, inf, inf, inf, inf, inf, inf, inf, inf, inf, inf, inf, inf, 2.2379227319429664]\n"
     ]
    }
   ],
   "source": [
    "vif = [variance_inflation_factor(X.values, j) for j in range(X.shape[1])]\n",
    "print(vif)"
   ]
  },
  {
   "cell_type": "code",
   "execution_count": null,
   "metadata": {},
   "outputs": [],
   "source": [
    "seed                  =   12345\n",
    "\n",
    "lm                    =   LinearRegression()\n",
    "lm_ridge              =   Ridge()\n",
    "lm_lasso              =   Lasso()\n",
    "lm_elastic            =   ElasticNet()\n",
    "lm_elastic            =   ElasticNet()\n",
    "\n",
    "### Non linear models\n",
    "\n",
    "kfold                 =   model_selection.KFold(n_splits = 10, random_state = seed)\n",
    "lm_CART               =   DecisionTreeRegressor()\n",
    "lm_RF                 =   RandomForestRegressor(random_state = seed)\n",
    "lm_ANN                =   MLPRegressor(alpha=0.0000001, activation = 'relu', random_state = seed, tol=0.0001)\n",
    "lm_GB                 =   ensemble.GradientBoostingRegressor()\n",
    "lm_SVR                =   SVR(kernel='linear', C=1.0, epsilon=0.2, )\n",
    "lm_KNN                =   KNeighborsRegressor()\n",
    "\n",
    "lm.fit(X, y)\n",
    "lm_ridge.fit(X, y)\n",
    "lm_lasso.fit(X, y)\n",
    "lm_elastic.fit(X, y) \n",
    "lm_CART.fit(X, y) \n",
    "lm_RF.fit(X, y)\n",
    "lm_GB.fit(X, y)\n",
    "lm_SVR.fit(X, y)  \n",
    "lm_KNN.fit(X, y)  \n",
    "lm_ANN.fit(X, y)"
   ]
  },
  {
   "cell_type": "code",
   "execution_count": null,
   "metadata": {},
   "outputs": [],
   "source": [
    "print('\\nLinear Models\\n')\n",
    "print(\"R Square value for Simple Regression complete data %4.2f\" % np.round(lm.score(X, y) * 100, 2))\n",
    "print(\"R Square value for Ridge Regression complete data %4.2f\" % np.round(lm_ridge.score(X, y) * 100, 2))\n",
    "print(\"R Square value for Lasso Regression complete data %4.2f\"  %np.round(lm_lasso.score(X, y) * 100, 2))\n",
    "print(\"R Square value for Elastic Net Regression complete data %4.2f\" % np.round(lm_elastic.score(X,y) * 100, 2))\n",
    "\n",
    "print('\\nNon linear Models\\n')\n",
    "print(\"R Square value for CART Regression complete data %4.2f\" % np.round(lm_CART.score(X,y) * 100, 2))\n",
    "print(\"R Square value for Random Forest Regression complete data %4.2f\" % np.round(lm_RF.score(X,y) * 100, 2))\n",
    "print(\"R Square value for Artificial Neural Network Regression complete data %4.2f\" % np.round(lm_ANN.score(X,y) * 100, 2))\n",
    "\n",
    "print(\"R Square value for Gradient Boosting Regression complete data %4.2f\" % np.round(lm_GB.score(X,y) * 100, 2))\n",
    "print(\"R Square value for SVR Regression complete data %4.2f\" % np.round(lm_SVR.score(X,y) * 100, 2))\n",
    "print(\"R Square value for KNN Regression complete data %4.2f\" % np.round(lm_KNN.score(X,y) * 100, 2))"
   ]
  },
  {
   "cell_type": "code",
   "execution_count": null,
   "metadata": {
    "collapsed": true
   },
   "outputs": [],
   "source": []
  },
  {
   "cell_type": "markdown",
   "metadata": {},
   "source": [
    "http://www.briandolhansky.com/blog/artificial-neural-networks-linear-regression-part-1"
   ]
  }
 ],
 "metadata": {
  "kernelspec": {
   "display_name": "Python 3",
   "language": "python",
   "name": "python3"
  },
  "language_info": {
   "codemirror_mode": {
    "name": "ipython",
    "version": 3
   },
   "file_extension": ".py",
   "mimetype": "text/x-python",
   "name": "python",
   "nbconvert_exporter": "python",
   "pygments_lexer": "ipython3",
   "version": "3.6.3"
  }
 },
 "nbformat": 4,
 "nbformat_minor": 2
}
