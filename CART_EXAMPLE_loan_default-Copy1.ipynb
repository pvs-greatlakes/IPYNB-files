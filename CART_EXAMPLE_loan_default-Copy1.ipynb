{
 "cells": [
  {
   "cell_type": "markdown",
   "metadata": {},
   "source": [
    "## CART using Python"
   ]
  },
  {
   "cell_type": "markdown",
   "metadata": {},
   "source": [
    "### Import required Libraries"
   ]
  },
  {
   "cell_type": "code",
   "execution_count": 1,
   "metadata": {},
   "outputs": [
    {
     "name": "stderr",
     "output_type": "stream",
     "text": [
      "D:\\Python\\lib\\site-packages\\sklearn\\cross_validation.py:41: DeprecationWarning: This module was deprecated in version 0.18 in favor of the model_selection module into which all the refactored classes and functions are moved. Also note that the interface of the new CV iterators are different from that of this module. This module will be removed in 0.20.\n",
      "  \"This module will be removed in 0.20.\", DeprecationWarning)\n"
     ]
    }
   ],
   "source": [
    "import pandas                   as     pd\n",
    "import numpy                    as     np\n",
    "import sklearn.datasets         as     datasets\n",
    "\n",
    "from   sklearn                  import tree\n",
    "from   sklearn.tree             import DecisionTreeClassifier\n",
    "from   sklearn.externals.six    import StringIO  \n",
    "from   IPython.display          import Image  \n",
    "from   sklearn.tree             import export_graphviz \n",
    "\n",
    "from   sklearn.cross_validation import cross_val_score\n",
    "from   sklearn.cross_validation import KFold\n",
    "\n",
    "import pydotplus\n",
    "import pydot\n",
    "\n",
    "from   sklearn.model_selection  import  train_test_split"
   ]
  },
  {
   "cell_type": "markdown",
   "metadata": {},
   "source": [
    "### Read data file"
   ]
  },
  {
   "cell_type": "code",
   "execution_count": 2,
   "metadata": {},
   "outputs": [
    {
     "data": {
      "text/plain": [
       "Index(['Customer Id', 'CustomerChurn', 'LastInvoiceDate', 'AvgInvoiceAmount',\n",
       "       'LocationName', 'Zip', 'AvgMiles', 'Invoicevalue_range', 'miles_range',\n",
       "       'NoCalls', 'ClaimsMade', 'DelayedQuote', 'PickupDelay', 'DeliveryDelay',\n",
       "       'RevenueDecrease', 'PriceChangedPostQuote', 'CompetitorsPresent ',\n",
       "       'Current Inflation'],\n",
       "      dtype='object')"
      ]
     },
     "execution_count": 2,
     "metadata": {},
     "output_type": "execute_result"
    }
   ],
   "source": [
    "df              = pd.read_csv(\"D:/Consulting/Saksoft/Analytics1/data/customer_data_03012018_final.csv\")\n",
    "df.columns"
   ]
  },
  {
   "cell_type": "markdown",
   "metadata": {},
   "source": [
    "### Understand Data"
   ]
  },
  {
   "cell_type": "code",
   "execution_count": 3,
   "metadata": {},
   "outputs": [
    {
     "name": "stdout",
     "output_type": "stream",
     "text": [
      "Index(['Customer Id', 'CustomerChurn', 'LastInvoiceDate', 'AvgInvoiceAmount',\n",
      "       'LocationName', 'Zip', 'AvgMiles', 'Invoicevalue_range', 'miles_range',\n",
      "       'NoCalls', 'ClaimsMade', 'DelayedQuote', 'PickupDelay', 'DeliveryDelay',\n",
      "       'RevenueDecrease', 'PriceChangedPostQuote', 'CompetitorsPresent',\n",
      "       'Current Inflation'],\n",
      "      dtype='object')\n",
      "<class 'pandas.core.frame.DataFrame'>\n",
      "RangeIndex: 600 entries, 0 to 599\n",
      "Data columns (total 18 columns):\n",
      "Customer Id              600 non-null int64\n",
      "CustomerChurn            600 non-null int64\n",
      "LastInvoiceDate          600 non-null object\n",
      "AvgInvoiceAmount         600 non-null int64\n",
      "LocationName             600 non-null object\n",
      "Zip                      600 non-null object\n",
      "AvgMiles                 600 non-null float64\n",
      "Invoicevalue_range       600 non-null object\n",
      "miles_range              600 non-null object\n",
      "NoCalls                  600 non-null int64\n",
      "ClaimsMade               600 non-null int64\n",
      "DelayedQuote             600 non-null int64\n",
      "PickupDelay              600 non-null int64\n",
      "DeliveryDelay            600 non-null int64\n",
      "RevenueDecrease          600 non-null int64\n",
      "PriceChangedPostQuote    600 non-null int64\n",
      "CompetitorsPresent       600 non-null int64\n",
      "Current Inflation        600 non-null int64\n",
      "dtypes: float64(1), int64(12), object(5)\n",
      "memory usage: 84.5+ KB\n",
      "None\n"
     ]
    }
   ],
   "source": [
    "df.columns        = ['Customer Id', 'CustomerChurn', 'LastInvoiceDate', 'AvgInvoiceAmount','LocationName',\\\n",
    "                     'Zip', 'AvgMiles', 'Invoicevalue_range', 'miles_range','NoCalls', 'ClaimsMade',\\\n",
    "                     'DelayedQuote', 'PickupDelay', 'DeliveryDelay','RevenueDecrease',\\\n",
    "                     'PriceChangedPostQuote', 'CompetitorsPresent','Current Inflation']\n",
    "feature_names   = df.columns\n",
    "print(feature_names)\n",
    "print(df.info())"
   ]
  },
  {
   "cell_type": "code",
   "execution_count": 4,
   "metadata": {},
   "outputs": [
    {
     "name": "stdout",
     "output_type": "stream",
     "text": [
      "                                      0                      1\n",
      "Customer Id                       26342                  38851\n",
      "CustomerChurn                         0                      0\n",
      "LastInvoiceDate               05-Aug-14              17-Oct-17\n",
      "AvgInvoiceAmount                   4935                  24312\n",
      "LocationName           Carlyle,Illinois  White Rock,New Mexico\n",
      "Zip                               62231                  87547\n",
      "AvgMiles                        433.502                2401.16\n",
      "Invoicevalue_range        (2e+03,1e+04]          (2e+04,3e+04]\n",
      "miles_range               (2e+02,1e+03]          (2e+03,3e+03]\n",
      "NoCalls                               0                      0\n",
      "ClaimsMade                            0                      0\n",
      "DelayedQuote                          0                      1\n",
      "PickupDelay                           0                      1\n",
      "DeliveryDelay                         0                      1\n",
      "RevenueDecrease                       0                      0\n",
      "PriceChangedPostQuote                 0                      0\n",
      "CompetitorsPresent                    0                      0\n",
      "Current Inflation                     1                      1\n"
     ]
    }
   ],
   "source": [
    "print(df.head(2).T)"
   ]
  },
  {
   "cell_type": "markdown",
   "metadata": {},
   "source": [
    "### Observations"
   ]
  },
  {
   "cell_type": "markdown",
   "metadata": {},
   "source": [
    "* There are no missing values and data looks OK\n",
    "* All variables are numeric and the following variables need to be converted to Categorical variables:\n",
    "\n",
    "| Sl No | Variable |\n",
    "|-- | ----------------------- |\n",
    "| 1 | Customer Id |\n",
    "| 2 | CustomerChurn |\n",
    "| 3 | LastInvoiceDate |\n",
    "| 4 | NoCalls |\n",
    "| 5 | ClaimsMade |\n",
    "| 6 | DelayedQuote |\n",
    "| 7 | PickupDelay |\n",
    "| 8 | DeliveryDelay |\n",
    "| 9 | RevenueDecrease |\n",
    "| 10 | PriceChangedPostQuote |\n",
    "| 11 | CompetitorsPresent |\n",
    "| 12 | Current Inflation | "
   ]
  },
  {
   "cell_type": "code",
   "execution_count": 5,
   "metadata": {},
   "outputs": [
    {
     "name": "stdout",
     "output_type": "stream",
     "text": [
      "['Customer Id', 'CustomerChurn', 'LastInvoiceDate', 'NoCalls', 'ClaimsMade', 'DelayedQuote', 'PickupDelay', 'DeliveryDelay', 'RevenueDecrease', 'PriceChangedPostQuote', 'CompetitorsPresent', 'Current Inflation']\n",
      "Index(['AvgInvoiceAmount', 'LocationName', 'Zip', 'AvgMiles',\n",
      "       'Invoicevalue_range', 'miles_range'],\n",
      "      dtype='object')\n"
     ]
    }
   ],
   "source": [
    "categorical_var =  ['Customer Id','CustomerChurn','LastInvoiceDate','NoCalls','ClaimsMade',\\\n",
    "                    'DelayedQuote','PickupDelay','DeliveryDelay','RevenueDecrease','PriceChangedPostQuote',\\\n",
    "                    'CompetitorsPresent','Current Inflation']\n",
    "numerical_var   =  feature_names.drop(categorical_var)\n",
    "print(categorical_var)\n",
    "print(numerical_var)"
   ]
  },
  {
   "cell_type": "code",
   "execution_count": 6,
   "metadata": {
    "collapsed": true
   },
   "outputs": [],
   "source": [
    "for i in range(len(categorical_var)):\n",
    "    df[categorical_var[i]] = df[categorical_var[i]].astype('category') "
   ]
  },
  {
   "cell_type": "code",
   "execution_count": 7,
   "metadata": {},
   "outputs": [
    {
     "data": {
      "text/html": [
       "<div>\n",
       "<style scoped>\n",
       "    .dataframe tbody tr th:only-of-type {\n",
       "        vertical-align: middle;\n",
       "    }\n",
       "\n",
       "    .dataframe tbody tr th {\n",
       "        vertical-align: top;\n",
       "    }\n",
       "\n",
       "    .dataframe thead th {\n",
       "        text-align: right;\n",
       "    }\n",
       "</style>\n",
       "<table border=\"1\" class=\"dataframe\">\n",
       "  <thead>\n",
       "    <tr style=\"text-align: right;\">\n",
       "      <th></th>\n",
       "      <th>AvgInvoiceAmount</th>\n",
       "      <th>AvgMiles</th>\n",
       "    </tr>\n",
       "  </thead>\n",
       "  <tbody>\n",
       "    <tr>\n",
       "      <th>count</th>\n",
       "      <td>600.000000</td>\n",
       "      <td>600.000000</td>\n",
       "    </tr>\n",
       "    <tr>\n",
       "      <th>mean</th>\n",
       "      <td>16630.098333</td>\n",
       "      <td>1620.235688</td>\n",
       "    </tr>\n",
       "    <tr>\n",
       "      <th>std</th>\n",
       "      <td>11107.307773</td>\n",
       "      <td>1110.807322</td>\n",
       "    </tr>\n",
       "    <tr>\n",
       "      <th>min</th>\n",
       "      <td>912.000000</td>\n",
       "      <td>31.218972</td>\n",
       "    </tr>\n",
       "    <tr>\n",
       "      <th>25%</th>\n",
       "      <td>8575.750000</td>\n",
       "      <td>815.385751</td>\n",
       "    </tr>\n",
       "    <tr>\n",
       "      <th>50%</th>\n",
       "      <td>14247.000000</td>\n",
       "      <td>1383.055570</td>\n",
       "    </tr>\n",
       "    <tr>\n",
       "      <th>75%</th>\n",
       "      <td>22125.750000</td>\n",
       "      <td>2171.013968</td>\n",
       "    </tr>\n",
       "    <tr>\n",
       "      <th>max</th>\n",
       "      <td>92261.000000</td>\n",
       "      <td>9191.058795</td>\n",
       "    </tr>\n",
       "  </tbody>\n",
       "</table>\n",
       "</div>"
      ],
      "text/plain": [
       "       AvgInvoiceAmount     AvgMiles\n",
       "count        600.000000   600.000000\n",
       "mean       16630.098333  1620.235688\n",
       "std        11107.307773  1110.807322\n",
       "min          912.000000    31.218972\n",
       "25%         8575.750000   815.385751\n",
       "50%        14247.000000  1383.055570\n",
       "75%        22125.750000  2171.013968\n",
       "max        92261.000000  9191.058795"
      ]
     },
     "execution_count": 7,
     "metadata": {},
     "output_type": "execute_result"
    }
   ],
   "source": [
    "df.describe()"
   ]
  },
  {
   "cell_type": "code",
   "execution_count": 8,
   "metadata": {},
   "outputs": [
    {
     "data": {
      "text/html": [
       "<div>\n",
       "<style scoped>\n",
       "    .dataframe tbody tr th:only-of-type {\n",
       "        vertical-align: middle;\n",
       "    }\n",
       "\n",
       "    .dataframe tbody tr th {\n",
       "        vertical-align: top;\n",
       "    }\n",
       "\n",
       "    .dataframe thead th {\n",
       "        text-align: right;\n",
       "    }\n",
       "</style>\n",
       "<table border=\"1\" class=\"dataframe\">\n",
       "  <thead>\n",
       "    <tr style=\"text-align: right;\">\n",
       "      <th></th>\n",
       "      <th>Customer Id</th>\n",
       "      <th>CustomerChurn</th>\n",
       "      <th>LastInvoiceDate</th>\n",
       "      <th>NoCalls</th>\n",
       "      <th>ClaimsMade</th>\n",
       "      <th>DelayedQuote</th>\n",
       "      <th>PickupDelay</th>\n",
       "      <th>DeliveryDelay</th>\n",
       "      <th>RevenueDecrease</th>\n",
       "      <th>PriceChangedPostQuote</th>\n",
       "      <th>CompetitorsPresent</th>\n",
       "      <th>Current Inflation</th>\n",
       "    </tr>\n",
       "  </thead>\n",
       "  <tbody>\n",
       "    <tr>\n",
       "      <th>count</th>\n",
       "      <td>600</td>\n",
       "      <td>600</td>\n",
       "      <td>600</td>\n",
       "      <td>600</td>\n",
       "      <td>600</td>\n",
       "      <td>600</td>\n",
       "      <td>600</td>\n",
       "      <td>600</td>\n",
       "      <td>600</td>\n",
       "      <td>600</td>\n",
       "      <td>600</td>\n",
       "      <td>600</td>\n",
       "    </tr>\n",
       "    <tr>\n",
       "      <th>unique</th>\n",
       "      <td>596</td>\n",
       "      <td>2</td>\n",
       "      <td>499</td>\n",
       "      <td>6</td>\n",
       "      <td>4</td>\n",
       "      <td>2</td>\n",
       "      <td>2</td>\n",
       "      <td>2</td>\n",
       "      <td>2</td>\n",
       "      <td>2</td>\n",
       "      <td>2</td>\n",
       "      <td>2</td>\n",
       "    </tr>\n",
       "    <tr>\n",
       "      <th>top</th>\n",
       "      <td>55325</td>\n",
       "      <td>0</td>\n",
       "      <td>19-Feb-17</td>\n",
       "      <td>0</td>\n",
       "      <td>0</td>\n",
       "      <td>0</td>\n",
       "      <td>0</td>\n",
       "      <td>0</td>\n",
       "      <td>0</td>\n",
       "      <td>0</td>\n",
       "      <td>0</td>\n",
       "      <td>1</td>\n",
       "    </tr>\n",
       "    <tr>\n",
       "      <th>freq</th>\n",
       "      <td>2</td>\n",
       "      <td>528</td>\n",
       "      <td>4</td>\n",
       "      <td>531</td>\n",
       "      <td>571</td>\n",
       "      <td>566</td>\n",
       "      <td>564</td>\n",
       "      <td>581</td>\n",
       "      <td>576</td>\n",
       "      <td>579</td>\n",
       "      <td>580</td>\n",
       "      <td>324</td>\n",
       "    </tr>\n",
       "  </tbody>\n",
       "</table>\n",
       "</div>"
      ],
      "text/plain": [
       "        Customer Id  CustomerChurn LastInvoiceDate  NoCalls  ClaimsMade  \\\n",
       "count           600            600             600      600         600   \n",
       "unique          596              2             499        6           4   \n",
       "top           55325              0       19-Feb-17        0           0   \n",
       "freq              2            528               4      531         571   \n",
       "\n",
       "        DelayedQuote  PickupDelay  DeliveryDelay  RevenueDecrease  \\\n",
       "count            600          600            600              600   \n",
       "unique             2            2              2                2   \n",
       "top                0            0              0                0   \n",
       "freq             566          564            581              576   \n",
       "\n",
       "        PriceChangedPostQuote  CompetitorsPresent  Current Inflation  \n",
       "count                     600                 600                600  \n",
       "unique                      2                   2                  2  \n",
       "top                         0                   0                  1  \n",
       "freq                      579                 580                324  "
      ]
     },
     "execution_count": 8,
     "metadata": {},
     "output_type": "execute_result"
    }
   ],
   "source": [
    "df.describe(include = ['category'])"
   ]
  },
  {
   "cell_type": "markdown",
   "metadata": {},
   "source": [
    "### Create X, independent variable and y dependent variable"
   ]
  },
  {
   "cell_type": "code",
   "execution_count": 9,
   "metadata": {},
   "outputs": [
    {
     "name": "stdout",
     "output_type": "stream",
     "text": [
      "(600, 15)\n",
      "(600,)\n"
     ]
    }
   ],
   "source": [
    "feature_names  =  feature_names.drop(['CustomerChurn','Customer Id','LastInvoiceDate'])\n",
    "X              =  df.loc[:,feature_names] \n",
    "y              =  df.loc[:,'CustomerChurn']\n",
    "label_names    =  y.unique()\n",
    "print(X.shape)\n",
    "print(y.shape)"
   ]
  },
  {
   "cell_type": "markdown",
   "metadata": {},
   "source": [
    "### Check if the data set is balanced or not"
   ]
  },
  {
   "cell_type": "code",
   "execution_count": 10,
   "metadata": {},
   "outputs": [
    {
     "data": {
      "text/plain": [
       "0    [528, 88.0]\n",
       "1     [72, 12.0]\n",
       "Name: CustomerChurn, dtype: object"
      ]
     },
     "execution_count": 10,
     "metadata": {},
     "output_type": "execute_result"
    }
   ],
   "source": [
    "y.value_counts().apply(lambda x: [x, ( x * 100) / df.shape[0]])"
   ]
  },
  {
   "cell_type": "markdown",
   "metadata": {},
   "source": [
    "Since class, 1 (Churn) customers form only 12% of the data set, we have a unbalanced data set."
   ]
  },
  {
   "cell_type": "markdown",
   "metadata": {},
   "source": [
    "### Split the data into training and test data set"
   ]
  },
  {
   "cell_type": "code",
   "execution_count": 11,
   "metadata": {
    "collapsed": true
   },
   "outputs": [],
   "source": [
    "seed      = 12234\n",
    "test_size = 0.75\n",
    "X_train, X_test, y_train, y_test = train_test_split(X, y, test_size = test_size, random_state = seed, stratify = y) "
   ]
  },
  {
   "cell_type": "markdown",
   "metadata": {},
   "source": [
    "Recursive partitioning is a fundamental tool in data mining. It helps us explore the structure of a set of data, while developing easy to visualize decision rules for predicting a categorical (classification tree) or continuous (regression tree) outcome.\n",
    "\n",
    "CART Modeling via DecisionTreeClassifier\n",
    "\n",
    "Classification and Regression Trees (as described by Brieman, Freidman, Olshenm and Stone) can be generated through the DecisionTreeClassifier package.\n",
    "\n",
    "i) Grow the tree\n",
    "\n",
    "For controlling tree growth, we set the following parameters:\n",
    "* max_depth: The maximum depth of the tree.\n",
    "* min_samples_split: The minimum number of samples required to split an internal node\n",
    "* min_samples_leaf: min no of samples at a leaf node\n",
    "* min_impurity_decrease : A node will be split if this split induces a decrease of the impurity greater than or equal to this value. "
   ]
  },
  {
   "cell_type": "code",
   "execution_count": 12,
   "metadata": {
    "collapsed": true
   },
   "outputs": [],
   "source": [
    "feature_names = ['NoCalls', 'ClaimsMade', 'DelayedQuote', 'PickupDelay', \\\n",
    "                 'DeliveryDelay', 'RevenueDecrease', 'PriceChangedPostQuote', 'CompetitorsPresent',\\\n",
    "                 'Current Inflation']\n",
    "class_names   =  ['No Churn','Churned']"
   ]
  },
  {
   "cell_type": "code",
   "execution_count": 13,
   "metadata": {},
   "outputs": [
    {
     "ename": "ValueError",
     "evalue": "could not convert string to float: 'Sturgeon,Pennsylvania'",
     "output_type": "error",
     "traceback": [
      "\u001b[1;31m---------------------------------------------------------------------------\u001b[0m",
      "\u001b[1;31mValueError\u001b[0m                                Traceback (most recent call last)",
      "\u001b[1;32m<ipython-input-13-205c99195245>\u001b[0m in \u001b[0;36m<module>\u001b[1;34m()\u001b[0m\n\u001b[0;32m      1\u001b[0m \u001b[0mclf\u001b[0m   \u001b[1;33m=\u001b[0m  \u001b[0mDecisionTreeClassifier\u001b[0m\u001b[1;33m(\u001b[0m\u001b[0mcriterion\u001b[0m \u001b[1;33m=\u001b[0m \u001b[1;34m\"gini\"\u001b[0m\u001b[1;33m,\u001b[0m \u001b[0msplitter\u001b[0m \u001b[1;33m=\u001b[0m \u001b[1;34m'random'\u001b[0m\u001b[1;33m,\u001b[0m                                     \u001b[0mmin_samples_split\u001b[0m \u001b[1;33m=\u001b[0m \u001b[1;36m200\u001b[0m\u001b[1;33m,\u001b[0m \u001b[0mmin_samples_leaf\u001b[0m \u001b[1;33m=\u001b[0m \u001b[1;36m50\u001b[0m\u001b[1;33m,\u001b[0m \u001b[0mmin_impurity_decrease\u001b[0m \u001b[1;33m=\u001b[0m \u001b[1;36m2\u001b[0m\u001b[1;33m,\u001b[0m                                    \u001b[0mmax_leaf_nodes\u001b[0m \u001b[1;33m=\u001b[0m \u001b[1;36m10\u001b[0m\u001b[1;33m,\u001b[0m \u001b[0mmax_depth\u001b[0m\u001b[1;33m=\u001b[0m \u001b[1;36m60\u001b[0m\u001b[1;33m)\u001b[0m\u001b[1;33m\u001b[0m\u001b[0m\n\u001b[1;32m----> 2\u001b[1;33m \u001b[0mclf\u001b[0m\u001b[1;33m.\u001b[0m\u001b[0mfit\u001b[0m\u001b[1;33m(\u001b[0m\u001b[0mX_train\u001b[0m\u001b[1;33m,\u001b[0m\u001b[0my_train\u001b[0m\u001b[1;33m)\u001b[0m\u001b[1;33m\u001b[0m\u001b[0m\n\u001b[0m",
      "\u001b[1;32mD:\\Python\\lib\\site-packages\\sklearn\\tree\\tree.py\u001b[0m in \u001b[0;36mfit\u001b[1;34m(self, X, y, sample_weight, check_input, X_idx_sorted)\u001b[0m\n\u001b[0;32m    788\u001b[0m             \u001b[0msample_weight\u001b[0m\u001b[1;33m=\u001b[0m\u001b[0msample_weight\u001b[0m\u001b[1;33m,\u001b[0m\u001b[1;33m\u001b[0m\u001b[0m\n\u001b[0;32m    789\u001b[0m             \u001b[0mcheck_input\u001b[0m\u001b[1;33m=\u001b[0m\u001b[0mcheck_input\u001b[0m\u001b[1;33m,\u001b[0m\u001b[1;33m\u001b[0m\u001b[0m\n\u001b[1;32m--> 790\u001b[1;33m             X_idx_sorted=X_idx_sorted)\n\u001b[0m\u001b[0;32m    791\u001b[0m         \u001b[1;32mreturn\u001b[0m \u001b[0mself\u001b[0m\u001b[1;33m\u001b[0m\u001b[0m\n\u001b[0;32m    792\u001b[0m \u001b[1;33m\u001b[0m\u001b[0m\n",
      "\u001b[1;32mD:\\Python\\lib\\site-packages\\sklearn\\tree\\tree.py\u001b[0m in \u001b[0;36mfit\u001b[1;34m(self, X, y, sample_weight, check_input, X_idx_sorted)\u001b[0m\n\u001b[0;32m    114\u001b[0m         \u001b[0mrandom_state\u001b[0m \u001b[1;33m=\u001b[0m \u001b[0mcheck_random_state\u001b[0m\u001b[1;33m(\u001b[0m\u001b[0mself\u001b[0m\u001b[1;33m.\u001b[0m\u001b[0mrandom_state\u001b[0m\u001b[1;33m)\u001b[0m\u001b[1;33m\u001b[0m\u001b[0m\n\u001b[0;32m    115\u001b[0m         \u001b[1;32mif\u001b[0m \u001b[0mcheck_input\u001b[0m\u001b[1;33m:\u001b[0m\u001b[1;33m\u001b[0m\u001b[0m\n\u001b[1;32m--> 116\u001b[1;33m             \u001b[0mX\u001b[0m \u001b[1;33m=\u001b[0m \u001b[0mcheck_array\u001b[0m\u001b[1;33m(\u001b[0m\u001b[0mX\u001b[0m\u001b[1;33m,\u001b[0m \u001b[0mdtype\u001b[0m\u001b[1;33m=\u001b[0m\u001b[0mDTYPE\u001b[0m\u001b[1;33m,\u001b[0m \u001b[0maccept_sparse\u001b[0m\u001b[1;33m=\u001b[0m\u001b[1;34m\"csc\"\u001b[0m\u001b[1;33m)\u001b[0m\u001b[1;33m\u001b[0m\u001b[0m\n\u001b[0m\u001b[0;32m    117\u001b[0m             \u001b[0my\u001b[0m \u001b[1;33m=\u001b[0m \u001b[0mcheck_array\u001b[0m\u001b[1;33m(\u001b[0m\u001b[0my\u001b[0m\u001b[1;33m,\u001b[0m \u001b[0mensure_2d\u001b[0m\u001b[1;33m=\u001b[0m\u001b[1;32mFalse\u001b[0m\u001b[1;33m,\u001b[0m \u001b[0mdtype\u001b[0m\u001b[1;33m=\u001b[0m\u001b[1;32mNone\u001b[0m\u001b[1;33m)\u001b[0m\u001b[1;33m\u001b[0m\u001b[0m\n\u001b[0;32m    118\u001b[0m             \u001b[1;32mif\u001b[0m \u001b[0missparse\u001b[0m\u001b[1;33m(\u001b[0m\u001b[0mX\u001b[0m\u001b[1;33m)\u001b[0m\u001b[1;33m:\u001b[0m\u001b[1;33m\u001b[0m\u001b[0m\n",
      "\u001b[1;32mD:\\Python\\lib\\site-packages\\sklearn\\utils\\validation.py\u001b[0m in \u001b[0;36mcheck_array\u001b[1;34m(array, accept_sparse, dtype, order, copy, force_all_finite, ensure_2d, allow_nd, ensure_min_samples, ensure_min_features, warn_on_dtype, estimator)\u001b[0m\n\u001b[0;32m    431\u001b[0m                                       force_all_finite)\n\u001b[0;32m    432\u001b[0m     \u001b[1;32melse\u001b[0m\u001b[1;33m:\u001b[0m\u001b[1;33m\u001b[0m\u001b[0m\n\u001b[1;32m--> 433\u001b[1;33m         \u001b[0marray\u001b[0m \u001b[1;33m=\u001b[0m \u001b[0mnp\u001b[0m\u001b[1;33m.\u001b[0m\u001b[0marray\u001b[0m\u001b[1;33m(\u001b[0m\u001b[0marray\u001b[0m\u001b[1;33m,\u001b[0m \u001b[0mdtype\u001b[0m\u001b[1;33m=\u001b[0m\u001b[0mdtype\u001b[0m\u001b[1;33m,\u001b[0m \u001b[0morder\u001b[0m\u001b[1;33m=\u001b[0m\u001b[0morder\u001b[0m\u001b[1;33m,\u001b[0m \u001b[0mcopy\u001b[0m\u001b[1;33m=\u001b[0m\u001b[0mcopy\u001b[0m\u001b[1;33m)\u001b[0m\u001b[1;33m\u001b[0m\u001b[0m\n\u001b[0m\u001b[0;32m    434\u001b[0m \u001b[1;33m\u001b[0m\u001b[0m\n\u001b[0;32m    435\u001b[0m         \u001b[1;32mif\u001b[0m \u001b[0mensure_2d\u001b[0m\u001b[1;33m:\u001b[0m\u001b[1;33m\u001b[0m\u001b[0m\n",
      "\u001b[1;31mValueError\u001b[0m: could not convert string to float: 'Sturgeon,Pennsylvania'"
     ]
    }
   ],
   "source": [
    "clf   =  DecisionTreeClassifier(criterion = \"gini\", splitter = 'random', \\\n",
    "                                    min_samples_split = 200, min_samples_leaf = 50, min_impurity_decrease = 2,\\\n",
    "                                    max_leaf_nodes = 10, max_depth= 60)\n",
    "clf.fit(X_train,y_train)"
   ]
  },
  {
   "cell_type": "code",
   "execution_count": null,
   "metadata": {
    "collapsed": true
   },
   "outputs": [],
   "source": [
    "dot_data = StringIO()\n",
    "export_graphviz(clf, out_file = dot_data, feature_names = feature_names, class_names = class_names, \\\n",
    "                rounded = True, proportion = False, precision = 2, filled = True)\n",
    "graph = pydotplus.graph_from_dot_data(dot_data.getvalue())  "
   ]
  },
  {
   "cell_type": "code",
   "execution_count": null,
   "metadata": {
    "collapsed": true
   },
   "outputs": [],
   "source": [
    "(graph,) = pydot.graph_from_dot_file('tree.dot')\n",
    "graph.write_png('tree.png')"
   ]
  },
  {
   "cell_type": "code",
   "execution_count": null,
   "metadata": {},
   "outputs": [],
   "source": [
    "Image('tree.png')"
   ]
  },
  {
   "cell_type": "markdown",
   "metadata": {},
   "source": [
    "### Prune the tree"
   ]
  },
  {
   "cell_type": "code",
   "execution_count": null,
   "metadata": {},
   "outputs": [],
   "source": [
    "for ln in range(100,2000,200):\n",
    "    dtree = tree.DecisionTreeClassifier(criterion = \"gini\", splitter = 'random', \\\n",
    "                                    max_leaf_nodes = ln, min_samples_leaf = 500,\\\n",
    "                                    max_depth= 5000)\n",
    "    dtree.fit(X_train,y_train)\n",
    "    dot_data = StringIO()\n",
    "    export_graphviz(clf, out_file = dot_data, feature_names = feature_names, class_names = class_names, \\\n",
    "                rounded = True, proportion = False, precision = 2, filled = True)\n",
    "    graph = pydotplus.graph_from_dot_data(dot_data.getvalue()) \n",
    "    (graph,) = pydot.graph_from_dot_file('tree.dot')\n",
    "    graph.write_png('tree.png')\n",
    "    Image('tree.png')"
   ]
  },
  {
   "cell_type": "markdown",
   "metadata": {},
   "source": [
    "http://dataaspirant.com/2017/02/01/decision-tree-algorithm-python-with-scikit-learn/"
   ]
  }
 ],
 "metadata": {
  "kernelspec": {
   "display_name": "Python 3",
   "language": "python",
   "name": "python3"
  },
  "language_info": {
   "codemirror_mode": {
    "name": "ipython",
    "version": 3
   },
   "file_extension": ".py",
   "mimetype": "text/x-python",
   "name": "python",
   "nbconvert_exporter": "python",
   "pygments_lexer": "ipython3",
   "version": "3.6.3"
  }
 },
 "nbformat": 4,
 "nbformat_minor": 2
}
