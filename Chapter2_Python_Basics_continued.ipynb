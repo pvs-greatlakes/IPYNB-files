{
 "cells": [
  {
   "cell_type": "markdown",
   "metadata": {},
   "source": [
    "# Chapter 2 - Exploring Python further\n",
    "\n",
    "## 1 Error handling in Python\n",
    "\n",
    "* It is done througth the use of exceptions.\n",
    "* In the event of an error occurring, a try block stops execution and hands over the same to except blocks. \n",
    "* You can use finally block to execute the statements regardless of whether an exception occurs.\n",
    "* You can raise an exception such as xx in your program by using \n",
    "raise exception[,<value>] statement. It breaks the current code execution and returns the exception block until it is handled. "
   ]
  },
  {
   "cell_type": "markdown",
   "metadata": {},
   "source": [
    "There are common exception errors that can be trapped.\n",
    "\n",
    "| # | Error | When Exception is raised |\n",
    "| -- | ------- | ------------------------------------------------- |\n",
    "| 1 | IOError | if the file cannot be opened |\n",
    "| 2 | ImportError | if Python cannot find the module |\n",
    "| 3 | ValueError | if a built-in operation or function receives an argument that has the right type  but an inappropriate value |\n",
    "| 4 | KeyboardInterrupt |when the user hits the interrupt key (Ctrl - C or Del key) |\n",
    "| 5 | EOFError | when end-of-file condition has reached without reading any data |\n",
    "| 6 | ZeroDivisionError | when an attempt is made to divide a number by zero |\n",
    "| 7 | TypeError | if a wrong type is given for a calculation or a built-in function"
   ]
  },
  {
   "cell_type": "code",
   "execution_count": 1,
   "metadata": {},
   "outputs": [
    {
     "name": "stdout",
     "output_type": "stream",
     "text": [
      "\n",
      "Error in the value given \n",
      "\n",
      "Executed the code with try - exception block\n"
     ]
    }
   ],
   "source": [
    "### General exception\n",
    "\n",
    "try:\n",
    "       x = 's'\n",
    "       x = x / 5\n",
    "\n",
    "except:\n",
    "       print(\"\\nError in the value given \")\n",
    "\n",
    "finally:\n",
    "       print(\"\\nExecuted the code with try - exception block\")"
   ]
  },
  {
   "cell_type": "code",
   "execution_count": 2,
   "metadata": {},
   "outputs": [
    {
     "name": "stdout",
     "output_type": "stream",
     "text": [
      "\n",
      "Attempt to divide by zero\n",
      "\n",
      "Executed the code with try - exception block\n"
     ]
    }
   ],
   "source": [
    "### Example of trapping ZeroDivisionError\n",
    "\n",
    "try:\n",
    "       x = 1 / 0\n",
    "\n",
    "except ValueError:\n",
    "    \n",
    "       print(\"\\nError in the value given \")\n",
    "\n",
    "except ZeroDivisionError:\n",
    "    \n",
    "       print(\"\\nAttempt to divide by zero\")\n",
    "    \n",
    "finally:\n",
    "       print(\"\\nExecuted the code with try - exception block\")"
   ]
  },
  {
   "cell_type": "code",
   "execution_count": 3,
   "metadata": {},
   "outputs": [
    {
     "name": "stdout",
     "output_type": "stream",
     "text": [
      "\n",
      "Error in the type of value given \n",
      "\n",
      "Executed the code with try - exception block\n"
     ]
    }
   ],
   "source": [
    "### Example of TypeError\n",
    "\n",
    "try:\n",
    "       x  = 's'\n",
    "       x1 = x  / 5\n",
    "\n",
    "except TypeError:\n",
    "    \n",
    "       print(\"\\nError in the type of value given \")\n",
    "\n",
    "except ZeroDivisionError:\n",
    "    \n",
    "       print(\"\\nAttempt to divide by zero\")\n",
    "    \n",
    "finally:\n",
    "       print(\"\\nExecuted the code with try - exception block\")"
   ]
  },
  {
   "cell_type": "markdown",
   "metadata": {},
   "source": [
    "For more details, refer https://www.pythonforbeginners.com/error-handling/python-try-and-except"
   ]
  },
  {
   "cell_type": "markdown",
   "metadata": {},
   "source": [
    "## 2. Regular Expression"
   ]
  },
  {
   "cell_type": "markdown",
   "metadata": {},
   "source": [
    "https://docs.python.org/3.4/library/re.html\n",
    "\n",
    "* Regular expressions, regex patterns are essentially a tiny, highly specialized programming language contained in Python.\n",
    "\n",
    "* The re module provides regular expression matching operations.\n",
    "\n",
    "* The re module functions fall into three categories: pattern matching, substitution and splitting. A regex describes a pattern to locate in the text.\n",
    "\n",
    "* You can compile the regex with re.compile forming a reusable regex object. This is highly recommended if you intend to apply the same expression to many strings since this will save time of execution."
   ]
  },
  {
   "cell_type": "markdown",
   "metadata": {},
   "source": [
    "Regular expression methods \n",
    "\n",
    "| # | Argument  | Description |\n",
    "| --- | ------------- | -------------------------------- |\n",
    "| 1 | findall | Return all non-overlapping matching patterns in a string as a list  | \n",
    "| 2 | finditer | Like findall, but returns an iterator  | \n",
    "| 3 | match | Match pattern at start of string and optionally segment pattern components into groups; if the pattern matches, returns a match object, and otherwise None  | \n",
    "| 4 |  search | Scan string for match to pattern; returning a match object if so; unlike match, the match can be anywhere in the string as opposed to only at the beginning  | \n",
    "| 5 | split | Break string into pieces at each occurrence of pattern  | \n",
    "| 6 | sub, subn | Replace all (sub) or first n occurrences (subn) of pattern in string with replacement expression; use symbols \\1, \\2, ... to refer to match group elements in the replacement string |"
   ]
  },
  {
   "cell_type": "markdown",
   "metadata": {},
   "source": [
    "* The function findall returns all matches in a string.\n",
    "* The functions, match and search are closely related to findall.\n",
    "* The function, search returns only the first match.\n",
    "* The function, match only matches at the beginning of the string."
   ]
  },
  {
   "cell_type": "markdown",
   "metadata": {},
   "source": [
    "Assume you have a string with variable number of white spaces, tabs and new lines.\n",
    "\n",
    "* \\s+ is the regex for describing one or more whitespace characters.\n",
    "* \\t is for tabs and \\n is for new line"
   ]
  },
  {
   "cell_type": "code",
   "execution_count": 4,
   "metadata": {},
   "outputs": [
    {
     "name": "stdout",
     "output_type": "stream",
     "text": [
      "\n",
      "Before the split\n",
      "Arun Arjun     Babitha   Charan\t Dominic\n",
      "Ebinezer\n",
      "\n",
      "After the split\n",
      "['Arun', 'Arjun', 'Babitha', 'Charan', 'Dominic', 'Ebinezer']\n",
      "\n",
      "To get a list of all patterns matching the regex\n"
     ]
    },
    {
     "data": {
      "text/plain": [
       "[' ', '     ', '   ', '\\t ', '\\n']"
      ]
     },
     "execution_count": 4,
     "metadata": {},
     "output_type": "execute_result"
    }
   ],
   "source": [
    "import re\n",
    "txt      = 'Arun Arjun     Babitha   Charan\\t Dominic\\nEbinezer'\n",
    "print('\\nBefore the split')\n",
    "print(txt)\n",
    "\n",
    "print('\\nAfter the split')\n",
    "regex = re.compile('\\s+')\n",
    "print(regex.split(txt))\n",
    "\n",
    "print('\\nTo get a list of all patterns matching the regex')      \n",
    "regex.findall(txt)"
   ]
  },
  {
   "cell_type": "markdown",
   "metadata": {},
   "source": [
    "**Note the regular expression symbols**\n",
    "\n",
    "* [ ] - indicates a set of characters and characters can be listed individually or collectively as in a range\n",
    "* The regular expression [A-Z0-9_-]  indicates the pattern of any letter (alphabet) A to Z or any number 0 to 9, underscore(_) or hyphen (-)\n",
    "* Special characters lose their special meaning inside [] sets. \n",
    "* \\+ symbol causes the regular expression to match 1 or more repetitions of the preceding regular expression. \n",
    "For example xy+ will match  'x' followed by any non-zero number of 'y', but it will not match just 'x'.\n",
    "* @ matches @ in the string\n",
    "* \\.[A-Z]{3,4} causes the regular expression to match  \n",
    "* '.' dot outside the set [], matches any character except the newline.\n",
    "* '\\.' escapes the special characters , allowing to match characters like *, ? and (.) - See the above point. We need to differentiate from the above.\n",
    "* [A-Z]{3,4} causes the resulting regular expression to match from 3 to 4 repetitions of the preceding RE, attempting to match as many repetitions as possible. For example, [A-Z]{2,4} will match any Alphabet (letter) from 2 to 4. "
   ]
  },
  {
   "cell_type": "code",
   "execution_count": 5,
   "metadata": {},
   "outputs": [
    {
     "data": {
      "text/plain": [
       "['arun22@gmail.com',\n",
       " 'bharath380@gmail.com',\n",
       " 'gughan@yahoo.co.in',\n",
       " 'abc_91@yahoo.co.in']"
      ]
     },
     "execution_count": 5,
     "metadata": {},
     "output_type": "execute_result"
    }
   ],
   "source": [
    "email_ID = \"\"\"Arun arun22@gmail.com\\Bharath bharath380@gmail.com\\Gughan gughan@yahoo.co.in abc_91@yahoo.co.in\"\"\"\n",
    "pat = r'[A-Z0-9._-]+@[A-Z0-9.-]+\\.[A-Z]{2,4}' # regex pattern\n",
    "\n",
    "regex = re.compile(pat, flags = re.IGNORECASE) \n",
    "# flags = re.IGNORECASE make it case insensitive to consider both upper case and lower case\n",
    "regex.findall(email_ID)"
   ]
  },
  {
   "cell_type": "code",
   "execution_count": 6,
   "metadata": {},
   "outputs": [
    {
     "data": {
      "text/plain": [
       "<_sre.SRE_Match object; span=(5, 21), match='arun22@gmail.com'>"
      ]
     },
     "execution_count": 6,
     "metadata": {},
     "output_type": "execute_result"
    }
   ],
   "source": [
    "mo = regex.search(email_ID)\n",
    "mo"
   ]
  },
  {
   "cell_type": "markdown",
   "metadata": {},
   "source": [
    "The search returns a special match object for the first email address in the text informing us the start and end position of the pattern in the string."
   ]
  },
  {
   "cell_type": "code",
   "execution_count": 7,
   "metadata": {},
   "outputs": [
    {
     "data": {
      "text/plain": [
       "'arun22@gmail.com'"
      ]
     },
     "execution_count": 7,
     "metadata": {},
     "output_type": "execute_result"
    }
   ],
   "source": [
    "email_ID[mo.start(): mo.end()] \n",
    "### get the first email address at the specified range( mo.start() and mo.end())"
   ]
  },
  {
   "cell_type": "markdown",
   "metadata": {},
   "source": [
    "regex.match returns will match if the pattern occurs at the start of the string."
   ]
  },
  {
   "cell_type": "code",
   "execution_count": 8,
   "metadata": {},
   "outputs": [
    {
     "name": "stdout",
     "output_type": "stream",
     "text": [
      "None\n"
     ]
    }
   ],
   "source": [
    "print(regex.match(email_ID))"
   ]
  },
  {
   "cell_type": "markdown",
   "metadata": {},
   "source": [
    "In the string, email_ID the pattern (of email address) does not occur at the start of the string.\n",
    "Hence None is displayed."
   ]
  },
  {
   "cell_type": "code",
   "execution_count": 9,
   "metadata": {},
   "outputs": [
    {
     "name": "stdout",
     "output_type": "stream",
     "text": [
      "\n",
      "Full name\n",
      "Peter Reynolds\n",
      "\n",
      "First name\n",
      "Peter\n",
      "\n",
      "Surname\n",
      "Reynolds\n"
     ]
    }
   ],
   "source": [
    "cust_name = \"Peter Reynolds\"\n",
    "mg        = re.match(r\"(\\w+) (\\w+)\", cust_name) \n",
    "\n",
    "###  \\w matches includes most characters that can be part of a word in any language, \n",
    "### as well as numbers and the underscore\n",
    "\n",
    "print(\"\\nFull name\")\n",
    "print(mg.group(0))\n",
    "\n",
    "print(\"\\nFirst name\")\n",
    "print(mg.group(1))\n",
    "\n",
    "print(\"\\nSurname\")\n",
    "print(mg.group(2))"
   ]
  },
  {
   "cell_type": "code",
   "execution_count": 10,
   "metadata": {},
   "outputs": [
    {
     "name": "stdout",
     "output_type": "stream",
     "text": [
      "['arun22@gmail.com', 'bharath380@gmail.com', 'gughan@yahoo.co.in', 'abc_91@yahoo.co.in']\n"
     ]
    }
   ],
   "source": [
    "mg = regex.findall(email_ID)\n",
    "print(mg)"
   ]
  },
  {
   "cell_type": "markdown",
   "metadata": {},
   "source": [
    "* The argument sub will return a new string with occurrences of the pattern replaced by a new string.\n",
    "* The argument, sub also has access to groups in each match using the special symbols like \\1 , \\2, \\3 corresponding to the first matched group , second matched group and third matched group respectively."
   ]
  },
  {
   "cell_type": "markdown",
   "metadata": {},
   "source": [
    "An example of using the sub() method. It replaces colour names with the word colour:"
   ]
  },
  {
   "cell_type": "code",
   "execution_count": 11,
   "metadata": {},
   "outputs": [
    {
     "data": {
      "text/plain": [
       "'colour socks and colour shoes'"
      ]
     },
     "execution_count": 11,
     "metadata": {},
     "output_type": "execute_result"
    }
   ],
   "source": [
    "rt = re.compile('white|black|blue|red')\n",
    "rt.sub('colour', 'white socks and black shoes')"
   ]
  },
  {
   "cell_type": "markdown",
   "metadata": {},
   "source": [
    "If you want to split a sentence into words, you can use split()"
   ]
  },
  {
   "cell_type": "code",
   "execution_count": 12,
   "metadata": {},
   "outputs": [
    {
     "data": {
      "text/plain": [
       "['This', 'is', 'a', 'test', 'sentence']"
      ]
     },
     "execution_count": 12,
     "metadata": {},
     "output_type": "execute_result"
    }
   ],
   "source": [
    "pr = re.compile(r'[^a-zA-Z]', flags = re.IGNORECASE) # ^ indicates expression beginning with\n",
    "pr.split('This is a test sentence')"
   ]
  },
  {
   "cell_type": "markdown",
   "metadata": {},
   "source": [
    "Extract numbers from the text such as description. Get the age in number occuring after the key word 'age is'."
   ]
  },
  {
   "cell_type": "code",
   "execution_count": 13,
   "metadata": {},
   "outputs": [
    {
     "name": "stdout",
     "output_type": "stream",
     "text": [
      "\n",
      "After splitting the sentence My age is 31 years and income is Rs 43000\n",
      "\n",
      "We get the two strings, before and after \"age is\"  ['My ', ' 31 years and income is Rs 43000']\n",
      "Again split to get only age\n",
      "After extracting the numerical value of age, we get\n",
      "['31']\n",
      "After extracting the numerical value of income, we get\n",
      "['43000']\n"
     ]
    }
   ],
   "source": [
    "s        = 'My age is 31 years and income is Rs 43000'\n",
    "words    = s.split('age is',2)\n",
    "print('\\nAfter splitting the sentence My age is 31 years and income is Rs 43000')\n",
    "print('\\nWe get the two strings, before and after \"age is\" ', words)\n",
    "print('Again split to get only age')\n",
    "words_age = s.split('years',2) # Split the words into two before the word years and after \n",
    "pr        = re.compile(r'\\d+')\n",
    "print('After extracting the numerical value of age, we get')\n",
    "print(pr.findall(words_age[0])) # from the words before the word years\n",
    "\n",
    "print('After extracting the numerical value of income, we get')\n",
    "\n",
    "print(pr.findall(words_age[1])) # from the words after the word years"
   ]
  },
  {
   "cell_type": "markdown",
   "metadata": {},
   "source": [
    "For more details on regular expression, refer to the following links:\n",
    "\n",
    "https://www.programiz.com/python-programming/regex\n",
    "https://docs.python.org/3/howto/regex.html\n",
    "https://docs.python.org/3.4/library/re.html"
   ]
  },
  {
   "cell_type": "markdown",
   "metadata": {},
   "source": [
    "## 3 File handling"
   ]
  },
  {
   "cell_type": "markdown",
   "metadata": {},
   "source": [
    "### a) Text files"
   ]
  },
  {
   "cell_type": "markdown",
   "metadata": {},
   "source": [
    "### Write and read text file\n",
    "\n",
    "**Syntax to open a file object in Python is:**\n",
    "\n",
    "fp = open('filename', 'mode') where fp is the file pointer.\n",
    "\n",
    "mode informs us which way the file will be used\n",
    "\n",
    "Some useful modes:\n",
    "* r  read mode for read only\n",
    "* w  write mode - existing file overwritten \n",
    "* a  append mode - add new data at the end\n",
    "* r+ read and write mode\n",
    "\n",
    "\n",
    "* write() statements write into a file while read() reads from the existing file\n",
    "* close() to close the file completely and terminating the resources in use."
   ]
  },
  {
   "cell_type": "markdown",
   "metadata": {},
   "source": [
    "Write numbers from 10 to 20 in a file names as new_data.txt in the current working directory"
   ]
  },
  {
   "cell_type": "code",
   "execution_count": 14,
   "metadata": {
    "collapsed": true
   },
   "outputs": [],
   "source": [
    "fp = open('new_data.txt', mode = 'w')\n",
    "\n",
    "for i in range(10,20):\n",
    "    string = str(i) + '\\n'\n",
    "    fp.write(string)\n",
    "    \n",
    "fp.close()"
   ]
  },
  {
   "cell_type": "markdown",
   "metadata": {},
   "source": [
    "Read the data file, new_data.txt only upto the record where the line is blank"
   ]
  },
  {
   "cell_type": "code",
   "execution_count": 15,
   "metadata": {},
   "outputs": [
    {
     "name": "stdout",
     "output_type": "stream",
     "text": [
      "10\n",
      "\n",
      "11\n",
      "\n",
      "12\n",
      "\n",
      "13\n",
      "\n",
      "14\n",
      "\n",
      "15\n",
      "\n",
      "16\n",
      "\n",
      "17\n",
      "\n",
      "18\n",
      "\n",
      "19\n",
      "\n"
     ]
    }
   ],
   "source": [
    "fp = open('new_data.txt', mode = 'r')\n",
    "\n",
    "for line in fp:\n",
    "    print(line)\n",
    "fp.close()  "
   ]
  },
  {
   "cell_type": "markdown",
   "metadata": {},
   "source": [
    "**Statement with will automatically open and close the file.**"
   ]
  },
  {
   "cell_type": "code",
   "execution_count": 16,
   "metadata": {},
   "outputs": [
    {
     "name": "stdout",
     "output_type": "stream",
     "text": [
      "10\n",
      "\n",
      "11\n",
      "\n",
      "12\n",
      "\n",
      "13\n",
      "\n",
      "14\n",
      "\n",
      "15\n",
      "\n",
      "16\n",
      "\n",
      "17\n",
      "\n",
      "18\n",
      "\n",
      "19\n",
      "\n"
     ]
    }
   ],
   "source": [
    "with open(\"new_data.txt\") as f:\n",
    "    for line in f:\n",
    "        print(line)"
   ]
  },
  {
   "cell_type": "markdown",
   "metadata": {},
   "source": [
    "For more details, please refer to https://www.geeksforgeeks.org/file-handling-python/"
   ]
  },
  {
   "cell_type": "markdown",
   "metadata": {},
   "source": [
    "### b) Access database like mySQL"
   ]
  },
  {
   "cell_type": "markdown",
   "metadata": {},
   "source": [
    "####  Python DB-API is the Python standard for database interfaces. \n",
    "####  Python Database API supports a wide range of database servers such as −\n",
    "* MySQL\n",
    "* PostgreSQL\n",
    "* Microsoft SQL Server 2000\n",
    "* Oracle\n",
    "\n",
    "#### You need to download a separate DB API module for each database you need to access. \n",
    "\n",
    "*For example, if you need to access an Oracle database as well as a MySQL database, you must download both the Oracle and the MySQL database modules.*"
   ]
  },
  {
   "cell_type": "markdown",
   "metadata": {},
   "source": [
    "How do I install MySQLdb? Type the following command at Anaconda command prompt with administrator privilege.\n",
    "\n",
    "pip install MySQL-python"
   ]
  },
  {
   "cell_type": "markdown",
   "metadata": {},
   "source": [
    "Before connecting to a MySQL database, create a database DBFORTEST."
   ]
  },
  {
   "cell_type": "markdown",
   "metadata": {},
   "source": [
    "* A Connection Object is returned and stored in db, when a connection is established with the datasource, specified as arguments in the function, MySQLdb.connect\n",
    "* Otherwise db is set to None. \n",
    "* Then db object is used to create cursor, a cursor object, which in turn is used to execute SQL queries. \n",
    "* Finally, before exiting it ensures that database connection is closed and resources are released."
   ]
  },
  {
   "cell_type": "code",
   "execution_count": 17,
   "metadata": {},
   "outputs": [
    {
     "name": "stdout",
     "output_type": "stream",
     "text": [
      "Open database connection\n",
      "Prepare a cursor object using cursor() method\n",
      "Execute SQL query using execute() method\n",
      "Fetch a single row using fetchone() method\n",
      "Database version : 10.1.31-MariaDB \n",
      "Disconnect from server\n"
     ]
    }
   ],
   "source": [
    "import   MySQLdb\n",
    "\n",
    "print('Open database connection')\n",
    "db = MySQLdb.connect(\"localhost\",\"root\",\"\",\"DBFORTEST\" )\n",
    "\n",
    "print('Prepare a cursor object using cursor() method')\n",
    "cursor = db.cursor()\n",
    "\n",
    "print('Execute SQL query using execute() method')\n",
    "cursor.execute(\"SELECT VERSION()\")\n",
    "\n",
    "print('Fetch a single row using fetchone() method')\n",
    "data = cursor.fetchone()\n",
    "print(\"Database version : %s \" % data)\n",
    "\n",
    "print('Disconnect from server')\n",
    "db.close()"
   ]
  },
  {
   "cell_type": "markdown",
   "metadata": {},
   "source": [
    "### Create tables in the database, DBFORTEST"
   ]
  },
  {
   "cell_type": "code",
   "execution_count": 18,
   "metadata": {},
   "outputs": [
    {
     "name": "stdout",
     "output_type": "stream",
     "text": [
      "Open database connection\n",
      "Prepare a cursor object using cursor() method\n",
      "Drop table if it already exist using execute() method to avoid error\n",
      "Create table EMPLOYEE with FIRST_NAME, LAST_NAME, AGE, SALARY\n",
      "Disconnect from server and release resources\n"
     ]
    }
   ],
   "source": [
    "print('Open database connection')\n",
    "db = MySQLdb.connect(\"localhost\",\"root\",\"\",\"DBFORTEST\" )\n",
    "\n",
    "print('Prepare a cursor object using cursor() method')\n",
    "cursor = db.cursor()\n",
    "\n",
    "print('Drop table if it already exist using execute() method to avoid error')\n",
    "cursor.execute(\"DROP TABLE IF EXISTS EMPLOYEE\")\n",
    "\n",
    "print('Create table EMPLOYEE with FIRST_NAME, LAST_NAME, AGE, SALARY')\n",
    "\n",
    "sql = \"\"\"CREATE TABLE EMPLOYEE (\n",
    "         FIRST_NAME CHAR(30) NOT NULL,\n",
    "         LAST_NAME  CHAR(30),\n",
    "         AGE        INT,  \n",
    "         SALARY     FLOAT(8,2))\"\"\"\n",
    "\n",
    "cursor.execute(sql)\n",
    "\n",
    "print('Disconnect from server and release resources')\n",
    "db.close()\n"
   ]
  },
  {
   "cell_type": "markdown",
   "metadata": {},
   "source": [
    "Having created a table, EMPLOYEE in the database, DBFORTEST "
   ]
  },
  {
   "cell_type": "markdown",
   "metadata": {},
   "source": [
    "We have established a database connection. "
   ]
  },
  {
   "cell_type": "markdown",
   "metadata": {},
   "source": [
    "Build a dictionary to hold the relevant attributes of an EMPLOYEE and access values one by one"
   ]
  },
  {
   "cell_type": "code",
   "execution_count": 19,
   "metadata": {},
   "outputs": [
    {
     "name": "stdout",
     "output_type": "stream",
     "text": [
      "John 12000\n",
      "Thomas 24000\n",
      "William 24000\n",
      "Susan 22000\n"
     ]
    }
   ],
   "source": [
    "emp_dict = {'first_name': ['John','Thomas','William','Susan'],\\\n",
    "            'last_name': ['Mathew','Robert','Peter','James'],\\\n",
    "            'age' : [24, 43, 43, 40],\\\n",
    "            'salary' : [12000, 24000,24000, 22000]}\n",
    "\n",
    "n        =  len(emp_dict)\n",
    "\n",
    "for i in range(n):\n",
    "    \n",
    "    fn  = '%s' % emp_dict['first_name'][i] \n",
    "    ln  = '%s' % emp_dict['last_name'][i] \n",
    "    age = emp_dict['age'][i] \n",
    "    sal = emp_dict['salary'][i]\n",
    "    print(fn, sal)"
   ]
  },
  {
   "cell_type": "markdown",
   "metadata": {},
   "source": [
    "Having created a table, EMPLOYEE, we need to insert records."
   ]
  },
  {
   "cell_type": "code",
   "execution_count": 20,
   "metadata": {},
   "outputs": [
    {
     "name": "stdout",
     "output_type": "stream",
     "text": [
      "Open database connection\n",
      "Prepare a cursor object using cursor() method\n",
      "Prepare SQL query to INSERT records into the EMPLOYEE table in the database.\n",
      "('John','Mathew',24,12000)\n",
      "INSERT EMPLOYEE (FIRST_NAME, LAST_NAME,AGE, SALARY) VALUES ('John','Mathew',24,12000)\n",
      "('Thomas','Robert',43,24000)\n",
      "INSERT EMPLOYEE (FIRST_NAME, LAST_NAME,AGE, SALARY) VALUES ('Thomas','Robert',43,24000)\n",
      "('William','Peter',43,24000)\n",
      "INSERT EMPLOYEE (FIRST_NAME, LAST_NAME,AGE, SALARY) VALUES ('William','Peter',43,24000)\n",
      "('Susan','James',40,22000)\n",
      "INSERT EMPLOYEE (FIRST_NAME, LAST_NAME,AGE, SALARY) VALUES ('Susan','James',40,22000)\n"
     ]
    }
   ],
   "source": [
    "print('Open database connection')\n",
    "db = MySQLdb.connect(\"localhost\",\"root\",\"\",\"DBFORTEST\" )\n",
    "\n",
    "print('Prepare a cursor object using cursor() method')\n",
    "cursor = db.cursor()\n",
    "\n",
    "emp_dict  = {'FIRST_NAME': ['John','Thomas','William','Susan'],\\\n",
    "            'LAST_NAME': ['Mathew','Robert','Peter','James'],\\\n",
    "            'AGE' : [24, 43, 43, 40],\\\n",
    "            'SALARY' : [12000, 24000,24000, 22000]}\n",
    "\n",
    "n         =  len(emp_dict)\n",
    "\n",
    "table         = 'EMPLOYEE'    \n",
    "columns_string= '('+','.join(emp_dict.keys())+')'    \n",
    "\n",
    "\n",
    "print('Prepare SQL query to INSERT records into the EMPLOYEE table in the database.')\n",
    "\n",
    "for i in range(n):\n",
    "    \n",
    "    fn         = str(emp_dict['FIRST_NAME'][i])\n",
    "    ln         = str(emp_dict['LAST_NAME'][i])\n",
    "    age        = emp_dict['AGE'][i]\n",
    "    sal        = emp_dict['SALARY'][i]\n",
    "    '''\n",
    "    sql = \"Insert Into EMPLOYEE (FIRST_NAME, LAST_NAME,AGE, SALARY) Values \\\n",
    "           (%s, %s, %d, %d)\" % (fn, ln, age, sal)\n",
    "    '''\n",
    "    values_string = '(' + \"\\'\" + fn + \"\\',\" + \"\\'\" + ln + \"\\',\" + str(age) + \",\" + str(sal) + ')'\n",
    "    #values_string = '('+','.join(map(str, emp_dict.values()))+')'\n",
    "    print(values_string)\n",
    "    \n",
    "    sql = \"\"\"INSERT EMPLOYEE (FIRST_NAME, LAST_NAME,AGE, SALARY) VALUES %s\"\"\" % (values_string)\n",
    "\n",
    "    print(sql)\n",
    "\n",
    "    try:\n",
    "       # Execute the SQL command\n",
    "       cursor.execute(sql)\n",
    "       # Commit your changes in the database\n",
    "       db.commit()\n",
    "    except:\n",
    "       # Rollback in case there is any error\n",
    "       print('Error')\n",
    "       db.rollback()\n",
    "\n",
    "# disconnect from server\n",
    "db.close()"
   ]
  },
  {
   "cell_type": "code",
   "execution_count": 21,
   "metadata": {},
   "outputs": [
    {
     "name": "stdout",
     "output_type": "stream",
     "text": [
      "Open database connection\n",
      "Prepare a cursor object using cursor() method\n",
      "Prepare a sql statement\n",
      "Execute the SQL command\n",
      "Fetch all the records in a list of lists.\n",
      "Print fetched result\n",
      "first_name = Thomas,last_name = Robert, age = 43, salary = 24000\n",
      "Print fetched result\n",
      "first_name = William,last_name = Peter, age = 43, salary = 24000\n",
      "Print fetched result\n",
      "first_name = Susan,last_name = James, age = 40, salary = 22000\n",
      "disconnect from server and release the resources\n"
     ]
    }
   ],
   "source": [
    "print('Open database connection')\n",
    "db = MySQLdb.connect(\"localhost\",\"root\",\"\",\"DBFORTEST\" )\n",
    "\n",
    "print('Prepare a cursor object using cursor() method')\n",
    "cursor = db.cursor()\n",
    "\n",
    "print('Prepare a sql statement')\n",
    "\n",
    "sql = \"SELECT * FROM EMPLOYEE WHERE SALARY > '%d'\" % (20000)\n",
    "\n",
    "try:\n",
    "   print('Execute the SQL command')\n",
    "   cursor.execute(sql)\n",
    "    \n",
    "   print('Fetch all the records in a list of lists.')\n",
    "\n",
    "   results = cursor.fetchall()\n",
    "    \n",
    "   for rec in results:\n",
    "      fn     = rec[0]\n",
    "      ln     = rec[1]\n",
    "      age    = rec[2]\n",
    "      sal    = rec[3]\n",
    "    \n",
    "      print('Print fetched result')\n",
    "      print(\"first_name = %s,last_name = %s, age = %d, salary = %d\" % \\\n",
    "             (fn, ln, age, sal ))\n",
    "except:\n",
    "   print(\"Error: unable to fecth data\")\n",
    "\n",
    "print('disconnect from server and release the resources')\n",
    "db.close()"
   ]
  },
  {
   "cell_type": "markdown",
   "metadata": {},
   "source": [
    "### c) Access JSON file data"
   ]
  },
  {
   "cell_type": "markdown",
   "metadata": {},
   "source": [
    "Since its inception, JavaScript Object Notation (JSON) is a very popular standard for information exchange.\n",
    "\n",
    "* A *with* simplifies the process of reading and closing the file.\n",
    "* By using the json.load methods, you can convert the JSON into a dictionary.\n",
    "\n",
    "Refer https://realpython.com/python-json/"
   ]
  },
  {
   "cell_type": "code",
   "execution_count": 22,
   "metadata": {},
   "outputs": [
    {
     "name": "stdout",
     "output_type": "stream",
     "text": [
      "Name key\n",
      "\n",
      "Debian\n",
      "Ubuntu\n",
      "Fedora\n",
      "CentOS\n",
      "OpenSUSE\n",
      "Arch Linux\n",
      "Gentoo\n",
      "Dictionary from JSON object\n",
      "\n",
      "[{'Name': 'Debian', 'Version': '9', 'Install': 'apt', 'Owner': 'SPI', 'Kernel': '4.9'}, {'Name': 'Ubuntu', 'Version': '17.10', 'Install': 'apt', 'Owner': 'Canonical', 'Kernel': '4.13'}, {'Name': 'Fedora', 'Version': '26', 'Install': 'dnf', 'Owner': 'Red Hat', 'Kernel': '4.13'}, {'Name': 'CentOS', 'Version': '7', 'Install': 'yum', 'Owner': 'Red Hat', 'Kernel': '3.10'}, {'Name': 'OpenSUSE', 'Version': '42.3', 'Install': 'zypper', 'Owner': 'Novell', 'Kernel': '4.4'}, {'Name': 'Arch Linux', 'Version': 'Rolling Release', 'Install': 'pacman', 'Owner': 'SPI', 'Kernel': '4.13'}, {'Name': 'Gentoo', 'Version': 'Rolling Release', 'Install': 'emerge', 'Owner': 'Gentoo Foundation', 'Kernel': '4.12'}]\n"
     ]
    }
   ],
   "source": [
    "import json\n",
    "\n",
    "with open('sample.json', 'r') as f:\n",
    "    sample_dict = json.load(f)\n",
    "\n",
    "print('Name key\\n')    \n",
    "for _ in sample_dict:\n",
    "    print(_['Name'])\n",
    "    \n",
    "print('Dictionary from JSON object\\n')    \n",
    "print(sample_dict)"
   ]
  },
  {
   "cell_type": "markdown",
   "metadata": {},
   "source": [
    "#### Write as a JSON file\n",
    "\n",
    "json.dump() takes a Python object, serializes it and writes the output (which is a JSON string) to a file."
   ]
  },
  {
   "cell_type": "code",
   "execution_count": 23,
   "metadata": {},
   "outputs": [
    {
     "name": "stdout",
     "output_type": "stream",
     "text": [
      "{\"first_name\": \"Johnson\", \"isAlive\": true, \"age\": 23, \"hasMortgage\": null}\n"
     ]
    }
   ],
   "source": [
    "customer = {\n",
    "         'first_name': \"Johnson\",\n",
    "         \"isAlive\": True,\n",
    "         \"age\": 23,\n",
    "         \"hasMortgage\": None\n",
    "     }\n",
    "\n",
    "with open('customer.json', 'w') as f:  # writing JSON object\n",
    "    json.dump(customer, f)\n",
    " \n",
    "print(open('customer.json', 'r').read())   # reading JSON object as string"
   ]
  },
  {
   "cell_type": "code",
   "execution_count": 24,
   "metadata": {},
   "outputs": [
    {
     "name": "stdout",
     "output_type": "stream",
     "text": [
      "<class 'str'>\n"
     ]
    }
   ],
   "source": [
    "print(type(open('customer.json', 'r').read())   )"
   ]
  },
  {
   "cell_type": "markdown",
   "metadata": {},
   "source": [
    "## 4 Data Type - Lists, Tuples, Dictionary, Data Frame \n",
    "\n",
    "### Tuple\n",
    "\n",
    "* They hold different type of data(integer, float, list etc).\n",
    "* Tuple are immutable.\n",
    "* The items list is enclosed between parenthesis”()”."
   ]
  },
  {
   "cell_type": "code",
   "execution_count": 25,
   "metadata": {},
   "outputs": [
    {
     "name": "stdout",
     "output_type": "stream",
     "text": [
      "(1, 2, 3, 4, 'an')\n",
      "<class 'tuple'>\n"
     ]
    }
   ],
   "source": [
    "tuple1 = (1, 2, 3, 4, 'an')\n",
    "print(tuple1)\n",
    "print(type(tuple1))"
   ]
  },
  {
   "cell_type": "markdown",
   "metadata": {},
   "source": [
    "#### tuple unpacking"
   ]
  },
  {
   "cell_type": "code",
   "execution_count": 26,
   "metadata": {},
   "outputs": [
    {
     "name": "stdout",
     "output_type": "stream",
     "text": [
      "1 2 3 4 an\n"
     ]
    }
   ],
   "source": [
    "a, b, c, d, e  = tuple1\n",
    "print(a, b, c, d, e)"
   ]
  },
  {
   "cell_type": "code",
   "execution_count": 27,
   "metadata": {},
   "outputs": [
    {
     "name": "stdout",
     "output_type": "stream",
     "text": [
      "1\n",
      "an\n",
      "('R', 'R', 'D')\n"
     ]
    }
   ],
   "source": [
    "print(tuple1[0])\n",
    "print(tuple1[-1])\n",
    "tuple1 = ('R', 'R', 'D') # tuples can be re-assigned\n",
    "print(tuple1)"
   ]
  },
  {
   "cell_type": "markdown",
   "metadata": {},
   "source": [
    "#### tuple indexing \n",
    "\n",
    "Use the index operator [] to access an item in a tuple, where the index starts from 0.\n",
    "\n",
    "The index must be an integer."
   ]
  },
  {
   "cell_type": "code",
   "execution_count": 28,
   "metadata": {},
   "outputs": [
    {
     "name": "stdout",
     "output_type": "stream",
     "text": [
      "R\n",
      "D\n"
     ]
    }
   ],
   "source": [
    "print(tuple1[0])\n",
    "print(tuple1[-1])"
   ]
  },
  {
   "cell_type": "markdown",
   "metadata": {},
   "source": [
    "#### tuples can be re-assigned but cannot be changed"
   ]
  },
  {
   "cell_type": "code",
   "execution_count": 29,
   "metadata": {},
   "outputs": [
    {
     "name": "stdout",
     "output_type": "stream",
     "text": [
      "('R', 'R', 'D')\n"
     ]
    }
   ],
   "source": [
    "tuple1 = ('R', 'R', 'D') \n",
    "print(tuple1)"
   ]
  },
  {
   "cell_type": "markdown",
   "metadata": {},
   "source": [
    "#### Concatenate"
   ]
  },
  {
   "cell_type": "code",
   "execution_count": 30,
   "metadata": {},
   "outputs": [
    {
     "name": "stdout",
     "output_type": "stream",
     "text": [
      "(1, 2, 3, 10, 11, 12)\n"
     ]
    }
   ],
   "source": [
    "t1 = (1,2,3) \n",
    "t2 = (10, 11, 12)\n",
    "t3 = t1 + t2 # concatenate\n",
    "print(t3)"
   ]
  },
  {
   "cell_type": "markdown",
   "metadata": {},
   "source": [
    "#### Nested tuples"
   ]
  },
  {
   "cell_type": "code",
   "execution_count": 31,
   "metadata": {},
   "outputs": [
    {
     "name": "stdout",
     "output_type": "stream",
     "text": [
      "((1, 2, 3), (4, 5, 6))\n"
     ]
    }
   ],
   "source": [
    "tuple1 = ((1,2,3), (4,5,6))\n",
    "print(tuple1)"
   ]
  },
  {
   "cell_type": "markdown",
   "metadata": {},
   "source": [
    "### Nested index"
   ]
  },
  {
   "cell_type": "code",
   "execution_count": 32,
   "metadata": {},
   "outputs": [
    {
     "name": "stdout",
     "output_type": "stream",
     "text": [
      "4\n"
     ]
    }
   ],
   "source": [
    "print(tuple1[1][0]) # Get the first element in the second sub tuple"
   ]
  },
  {
   "cell_type": "code",
   "execution_count": 33,
   "metadata": {},
   "outputs": [
    {
     "name": "stdout",
     "output_type": "stream",
     "text": [
      "2\n"
     ]
    }
   ],
   "source": [
    "print(tuple1[0][1]) # Get the second element in the first sub tuple"
   ]
  },
  {
   "cell_type": "markdown",
   "metadata": {},
   "source": [
    "#### Negatvie indexing\n",
    "\n",
    "The index of -1 reThe index of -1 refers to the last item, -2 to the second last item and so on.\n",
    "fers to the last item, -2 to the second last item and so on."
   ]
  },
  {
   "cell_type": "code",
   "execution_count": 34,
   "metadata": {},
   "outputs": [
    {
     "name": "stdout",
     "output_type": "stream",
     "text": [
      "5\n"
     ]
    }
   ],
   "source": [
    "print(tuple1[-1][1]) # Get the second element in the last sub tuple"
   ]
  },
  {
   "cell_type": "markdown",
   "metadata": {},
   "source": [
    "#### Slicing a tuple\n",
    "\n",
    "We can access a range of items in a tuple by using the slicing operator - colon \":\"."
   ]
  },
  {
   "cell_type": "code",
   "execution_count": 35,
   "metadata": {},
   "outputs": [
    {
     "name": "stdout",
     "output_type": "stream",
     "text": [
      "(4, 5, 6)\n"
     ]
    }
   ],
   "source": [
    "print(tuple1[-1][:]) ## Get all elements in the last sub- tuple"
   ]
  },
  {
   "cell_type": "code",
   "execution_count": 36,
   "metadata": {},
   "outputs": [
    {
     "name": "stdout",
     "output_type": "stream",
     "text": [
      "(4, 5)\n"
     ]
    }
   ],
   "source": [
    "print(tuple1[-1][:2]) ## Get first two elements in the last sub- tuple"
   ]
  },
  {
   "cell_type": "code",
   "execution_count": 37,
   "metadata": {},
   "outputs": [
    {
     "name": "stdout",
     "output_type": "stream",
     "text": [
      "(5, 6)\n"
     ]
    }
   ],
   "source": [
    "print(tuple1[-1][1:]) ## Get last two elements in the last sub- tuple"
   ]
  },
  {
   "cell_type": "markdown",
   "metadata": {},
   "source": [
    "#### Deletion of a tuple\n",
    "\n",
    "It is “Immutable” so we cannot delete or remove items from a tuple.\n",
    "\n",
    "But deleting a tuple entirely is possible using the keyword ”del”."
   ]
  },
  {
   "cell_type": "code",
   "execution_count": 38,
   "metadata": {},
   "outputs": [
    {
     "name": "stdout",
     "output_type": "stream",
     "text": [
      "(1, 2, 23)\n",
      "Does mytuple exist?\n",
      "True\n"
     ]
    }
   ],
   "source": [
    "mytuple = (1 ,2, 23)\n",
    "print(mytuple)\n",
    "print('Does mytuple exist?')\n",
    "print(isinstance(mytuple, tuple))"
   ]
  },
  {
   "cell_type": "code",
   "execution_count": 39,
   "metadata": {
    "collapsed": true
   },
   "outputs": [],
   "source": [
    "del mytuple"
   ]
  },
  {
   "cell_type": "code",
   "execution_count": 40,
   "metadata": {},
   "outputs": [
    {
     "name": "stdout",
     "output_type": "stream",
     "text": [
      "Error mytuple does not exist\n"
     ]
    }
   ],
   "source": [
    "try:\n",
    "    print(isinstance(mytuple, tuple))\n",
    "except NameError: # The object does not exist resulting in a NameError\n",
    "    print('Error mytuple does not exist')"
   ]
  },
  {
   "cell_type": "markdown",
   "metadata": {},
   "source": [
    "#### tuple operators"
   ]
  },
  {
   "cell_type": "markdown",
   "metadata": {},
   "source": [
    "* \\+ operator : “concatenation”.\n",
    "\n",
    "* \\* operator : “Replication”."
   ]
  },
  {
   "cell_type": "code",
   "execution_count": 41,
   "metadata": {
    "collapsed": true
   },
   "outputs": [],
   "source": [
    "tuple1 = (10, 11, 12, 13, 14)\n",
    "tuple2 = (20, 21, 22, 23, 24)"
   ]
  },
  {
   "cell_type": "code",
   "execution_count": 42,
   "metadata": {},
   "outputs": [
    {
     "name": "stdout",
     "output_type": "stream",
     "text": [
      "(10, 11, 12, 13, 14, 20, 21, 22, 23, 24)\n"
     ]
    }
   ],
   "source": [
    "tuple3 = tuple1 + tuple2\n",
    "print(tuple3)"
   ]
  },
  {
   "cell_type": "code",
   "execution_count": 43,
   "metadata": {},
   "outputs": [
    {
     "name": "stdout",
     "output_type": "stream",
     "text": [
      "('*', '*', '*', '*')\n"
     ]
    }
   ],
   "source": [
    "tuple_Single = ('*',) # Note the comma is used inside the paranthesis\n",
    "print(tuple_Single * 4) # replicates four times"
   ]
  },
  {
   "cell_type": "markdown",
   "metadata": {},
   "source": [
    "#### tuple methods\n",
    "\n",
    "Two methods are available in tuple.\n",
    "* Count(x) \n",
    "* index(x)"
   ]
  },
  {
   "cell_type": "code",
   "execution_count": 44,
   "metadata": {
    "collapsed": true
   },
   "outputs": [],
   "source": [
    "tuple1 = ('H','E','L','L','O','W','O','R','L','D')"
   ]
  },
  {
   "cell_type": "code",
   "execution_count": 45,
   "metadata": {},
   "outputs": [
    {
     "name": "stdout",
     "output_type": "stream",
     "text": [
      "tuple1.count('L')\n",
      "3\n",
      "tuple1.index('L')\n",
      "2\n"
     ]
    }
   ],
   "source": [
    "print('tuple1.count(\\'L\\')')\n",
    "print(tuple1.count('L'))  # count of L\n",
    "\n",
    "print('tuple1.index(\\'L\\')')\n",
    "print(tuple1.index('L'))  # first index of L"
   ]
  },
  {
   "cell_type": "markdown",
   "metadata": {},
   "source": [
    "#### tuple membership\n",
    "\n",
    "We can test if an item exists in a tuple or not, using the keyword in."
   ]
  },
  {
   "cell_type": "code",
   "execution_count": 46,
   "metadata": {},
   "outputs": [
    {
     "name": "stdout",
     "output_type": "stream",
     "text": [
      "True\n"
     ]
    }
   ],
   "source": [
    "print('L' in tuple1)  # Check if L exists in tuple1"
   ]
  },
  {
   "cell_type": "code",
   "execution_count": 47,
   "metadata": {},
   "outputs": [
    {
     "name": "stdout",
     "output_type": "stream",
     "text": [
      "False\n"
     ]
    }
   ],
   "source": [
    "print('G' in tuple1)  # Check if G does not exist in tuple1"
   ]
  },
  {
   "cell_type": "markdown",
   "metadata": {},
   "source": [
    "#### Iterating through a tuple\n",
    "\n",
    "Using a for loop we can iterate though each item in a tuple"
   ]
  },
  {
   "cell_type": "code",
   "execution_count": 48,
   "metadata": {},
   "outputs": [
    {
     "name": "stdout",
     "output_type": "stream",
     "text": [
      "number is  H\n",
      "number is  E\n",
      "number is  L\n",
      "number is  L\n",
      "number is  O\n",
      "number is  W\n",
      "number is  O\n",
      "number is  R\n",
      "number is  L\n",
      "number is  D\n"
     ]
    }
   ],
   "source": [
    "for n in tuple1:\n",
    "    print(\"number is \", n)"
   ]
  },
  {
   "cell_type": "markdown",
   "metadata": {},
   "source": [
    "#### Built-in functions in tuple\n",
    "\n",
    "Built-in functions like enumerate(), len(), max(), min(), sorted(), tuple() etc."
   ]
  },
  {
   "cell_type": "code",
   "execution_count": 49,
   "metadata": {},
   "outputs": [
    {
     "name": "stdout",
     "output_type": "stream",
     "text": [
      "length of tuple, tuple_numbers is 6\n"
     ]
    }
   ],
   "source": [
    "tuple_numbers = (23, 34, 45, 56, 67, 10)\n",
    "\n",
    "print('length of tuple, tuple_numbers is %d' %len(tuple_numbers))"
   ]
  },
  {
   "cell_type": "code",
   "execution_count": 50,
   "metadata": {},
   "outputs": [
    {
     "name": "stdout",
     "output_type": "stream",
     "text": [
      "Minimum of tuple, tuple_numbers is 10\n",
      "Maximum of tuple, tuple_numbers is 67\n"
     ]
    }
   ],
   "source": [
    "print('Minimum of tuple, tuple_numbers is %d' %min(tuple_numbers))\n",
    "print('Maximum of tuple, tuple_numbers is %d' %max(tuple_numbers))"
   ]
  },
  {
   "cell_type": "code",
   "execution_count": 51,
   "metadata": {},
   "outputs": [
    {
     "name": "stdout",
     "output_type": "stream",
     "text": [
      "sorted of tuple, tuple_numbers is  [10, 23, 34, 45, 56, 67]\n"
     ]
    }
   ],
   "source": [
    "print('sorted of tuple, tuple_numbers is ', sorted(tuple_numbers))"
   ]
  },
  {
   "cell_type": "code",
   "execution_count": 52,
   "metadata": {},
   "outputs": [
    {
     "name": "stdout",
     "output_type": "stream",
     "text": [
      "enumerate of tuple, tuple_numbers is  (23, 34, 45, 56, 67, 10)\n"
     ]
    }
   ],
   "source": [
    "print('enumerate of tuple, tuple_numbers is ', (tuple_numbers)) # Get elements one by one"
   ]
  },
  {
   "cell_type": "markdown",
   "metadata": {},
   "source": [
    "### List\n",
    "\n",
    "* A list is created by placing all the items (elements) inside a square bracket [ ], separated by commas.\n",
    "* It can have any number of items of different data types (integer, float, string).\n",
    "* A list is mutable, meaning that a part of the list can be over-written.\n",
    "* A list can be nested meaning that a list can have another list as an item. "
   ]
  },
  {
   "cell_type": "code",
   "execution_count": 53,
   "metadata": {},
   "outputs": [
    {
     "name": "stdout",
     "output_type": "stream",
     "text": [
      "[] <class 'list'>\n",
      "[1, 2, 3, 4, 5, 6, 7, 39] <class 'list'>\n",
      "[1, 2, 3, 4, 5, 6, 7, 39, 'A', 'B'] <class 'list'>\n",
      "[[1, 2, 3, 4, 5, 6, 7, 39], 'Hello', ['A', 'B'], [100, 200, 300]] <class 'list'>\n"
     ]
    }
   ],
   "source": [
    "empty_list = [] # list is empty\n",
    "print(empty_list, type(empty_list))\n",
    "\n",
    "int_list1  = [1,2,3,4,5,6,7,39] # A list containing integers\n",
    "print(int_list1, type(int_list1))\n",
    "\n",
    "mixed_list1  = [1,2,3,4,5,6,7,39, 'A' ,'B'] # A list containing integers ans strings\n",
    "print(mixed_list1, type(mixed_list1))\n",
    "\n",
    "nested_list1 = [[1,2,3,4,5,6,7,39], 'Hello', ['A' ,'B'], [100, 200, 300]] # A list containing integers ans strings\n",
    "print(nested_list1, type(nested_list1))"
   ]
  },
  {
   "cell_type": "markdown",
   "metadata": {},
   "source": [
    "#### List Indexing\n",
    "\n",
    "* Index starts from 0.\n",
    "* Nested list are accessed using nested indexing"
   ]
  },
  {
   "cell_type": "code",
   "execution_count": 54,
   "metadata": {},
   "outputs": [
    {
     "name": "stdout",
     "output_type": "stream",
     "text": [
      "int_list1[2] =  3\n",
      "nested_list1[2][1] =  B\n",
      "nested_list1[0][0] =  1\n",
      "nested_list1[1][1] =  e\n"
     ]
    }
   ],
   "source": [
    "print('int_list1[2] = ',int_list1[2]) \n",
    "# Get third element of the above list, int_list1 which is 3 \n",
    "\n",
    "print('nested_list1[2][1] = ',nested_list1[2][1]) \n",
    "# Get second element of the third list in, nested_list1 which is B \n",
    "\n",
    "print('nested_list1[0][0] = ',nested_list1[0][0]) \n",
    "# Get first element of the first list in, nested_list1 which is 1\n",
    "\n",
    "print('nested_list1[1][1] = ',nested_list1[1][1]) \n",
    "# Get second element of the second element of a string in nested_list1 which is e\n"
   ]
  },
  {
   "cell_type": "markdown",
   "metadata": {},
   "source": [
    "#### Negative indexing\n",
    "\n",
    "* Python allows negative indexing for its sequences.\n",
    "* The index of -1 refers to the last item"
   ]
  },
  {
   "cell_type": "code",
   "execution_count": 55,
   "metadata": {},
   "outputs": [
    {
     "name": "stdout",
     "output_type": "stream",
     "text": [
      "nested_list1[2][-1] =  B\n",
      "nested_list1[1][-2] =  l\n"
     ]
    }
   ],
   "source": [
    "print('nested_list1[2][-1] = ', nested_list1[2][-1]) \n",
    "# Get last element of the third list in, nested_list1 which is B \n",
    "\n",
    "print('nested_list1[1][-2] = ', nested_list1[1][-2]) \n",
    "# Get second last element of the second list in, nested_list1 which is letter, l "
   ]
  },
  {
   "cell_type": "markdown",
   "metadata": {},
   "source": [
    "#### Slice lists\n",
    "\n",
    "* We can access a range of items in a list by using the slicing operator (colon :)"
   ]
  },
  {
   "cell_type": "code",
   "execution_count": 56,
   "metadata": {},
   "outputs": [
    {
     "name": "stdout",
     "output_type": "stream",
     "text": [
      "int_list1[:2] =  [1, 2]\n",
      "int_list1[2:] =  [3, 4, 5, 6, 7, 39]\n",
      "int_list1[:] =  [1, 2, 3, 4, 5, 6, 7, 39]\n"
     ]
    }
   ],
   "source": [
    "print('int_list1[:2] = ',int_list1[:2]) \n",
    "# Get first two elements of the above list, int_list1: 1,2\n",
    "\n",
    "print('int_list1[2:] = ',int_list1[2:]) \n",
    "# Get third element onwards of the above list, int_list1: 3, 4, 5, 6, 7, 39\n",
    "\n",
    "print('int_list1[:] = ',int_list1[:]) \n",
    "# Get all elements of the list, int_list1: 1, 2, 3, 4, 5, 6, 7, 39"
   ]
  },
  {
   "cell_type": "markdown",
   "metadata": {},
   "source": [
    "* List are mutable which implies that elements can be changed unlike String or tuple. \n",
    "* Insertion and deletion can be performed.\n",
    "* Assignment operator (=) is used to change an item or a range of items."
   ]
  },
  {
   "cell_type": "code",
   "execution_count": 57,
   "metadata": {},
   "outputs": [
    {
     "name": "stdout",
     "output_type": "stream",
     "text": [
      "Before muting int_list1 is\n",
      "int_list1 =  [1, 2, 3, 4, 5, 6, 7, 39]\n",
      "\n",
      "After muting int_list1 is\n",
      "int_list1 =  [1, 2, 50, 4, 5, 6, 7, 39]\n"
     ]
    }
   ],
   "source": [
    "print('Before muting int_list1 is')\n",
    "print('int_list1 = ',int_list1) \n",
    "int_list1[2] = 50 # Change the third element 3 with 50\n",
    "\n",
    "print('\\nAfter muting int_list1 is')\n",
    "print('int_list1 = ',int_list1) "
   ]
  },
  {
   "cell_type": "markdown",
   "metadata": {},
   "source": [
    "#### List Operators\n",
    "\n",
    "* “+” operator used to combine two lists.\n",
    "* “*” operator repeats a list for the given number of times.\n"
   ]
  },
  {
   "cell_type": "code",
   "execution_count": 58,
   "metadata": {},
   "outputs": [
    {
     "name": "stdout",
     "output_type": "stream",
     "text": [
      "[1, 2, 3, 4, 5, 6, 7, 39, 1, 2, 3, 4, 5, 6, 7, 39, 'A', 'B'] <class 'list'>\n"
     ]
    }
   ],
   "source": [
    "int_list1    = [1,2,3,4,5,6,7,39] # A list containing integers\n",
    "mixed_list1  = [1,2,3,4,5,6,7,39, 'A' ,'B'] # A list containing integers ans strings\n",
    "\n",
    "mixed_list2  = int_list1 + mixed_list1 \n",
    "print(mixed_list2, type(mixed_list2))"
   ]
  },
  {
   "cell_type": "code",
   "execution_count": 59,
   "metadata": {},
   "outputs": [
    {
     "name": "stdout",
     "output_type": "stream",
     "text": [
      "spl_list1 * 4 ['*', '*', '*', '*', '*', '*', '*', '*']\n",
      "spl_list2 * 2 ['A', 'Z', 'A', 'Z']\n"
     ]
    }
   ],
   "source": [
    "spl_list1  = ['*','*']\n",
    "print('spl_list1 * 4',spl_list1 * 4)\n",
    "# “*” operator repeats spl_list1 four times.\n",
    "\n",
    "spl_list2  = ['A','Z']\n",
    "print('spl_list2 * 2',spl_list2 * 2)\n",
    "# “*” operator repeats spl_list2 twice."
   ]
  },
  {
   "cell_type": "markdown",
   "metadata": {},
   "source": [
    "#### Delete elements from a list\n",
    "\n",
    "* Is it possible to delete elements from a list? If so, how?\n",
    "\n",
    "* Yes. By using the ”del” keyword, we can remove one or more items from a list. "
   ]
  },
  {
   "cell_type": "code",
   "execution_count": 60,
   "metadata": {},
   "outputs": [
    {
     "name": "stdout",
     "output_type": "stream",
     "text": [
      "Before deleting the second element from the list, spl_list2\n",
      "spl_list2 ['A', 'Z']\n",
      "After deleting the second element from the list, spl_list2\n",
      "spl_list2 ['A']\n"
     ]
    }
   ],
   "source": [
    "print('Before deleting the second element from the list, spl_list2')\n",
    "print('spl_list2',spl_list2)\n",
    "\n",
    "del spl_list2[1] # Remove second element\n",
    "\n",
    "print('After deleting the second element from the list, spl_list2')\n",
    "print('spl_list2',spl_list2)"
   ]
  },
  {
   "cell_type": "code",
   "execution_count": 61,
   "metadata": {},
   "outputs": [
    {
     "name": "stdout",
     "output_type": "stream",
     "text": [
      "True\n",
      "List spl_list2 does exist\n"
     ]
    }
   ],
   "source": [
    "try:\n",
    "    print(isinstance(spl_list2, list))\n",
    "    print('List spl_list2 does exist')\n",
    "except NameError: # The object does not exist resulting in a NameError\n",
    "    print('Error spl_list2 does not exist')"
   ]
  },
  {
   "cell_type": "code",
   "execution_count": 62,
   "metadata": {},
   "outputs": [
    {
     "name": "stdout",
     "output_type": "stream",
     "text": [
      "Error spl_list2 does not exist\n"
     ]
    }
   ],
   "source": [
    "### remove entire list\n",
    "del spl_list2\n",
    "\n",
    "### Check if we have actually removed the entire list\n",
    "try:\n",
    "    print(isinstance(spl_list2, list))\n",
    "    \n",
    "except NameError: # The object does not exist resulting in a NameError\n",
    "    print('Error spl_list2 does not exist')"
   ]
  },
  {
   "cell_type": "markdown",
   "metadata": {},
   "source": [
    "#### List methods\n",
    "\n",
    "* **append** is used to add an element to the end of the list\n",
    "* **extend** is used to add all elements of a list to another list\n",
    "* **insert** is used to insert an item at the defined index\n",
    "* **remove** is used to remove an item from the list\n",
    "* **pop** is used to remove and returns an element at the given index\n",
    "* **index** is used to return the index of the first matched item\n",
    "* **sort** is used to sort items in a list in ascending order\n",
    "* **reverse** is used to reverse order of the items in the list\n",
    "* **count** is used to get the count of number of items"
   ]
  },
  {
   "cell_type": "markdown",
   "metadata": {},
   "source": [
    "The append() method adds a single item to the existing list."
   ]
  },
  {
   "cell_type": "code",
   "execution_count": 63,
   "metadata": {},
   "outputs": [
    {
     "name": "stdout",
     "output_type": "stream",
     "text": [
      "fruit ['apple', 'banana', 'orange']\n",
      "fruit ['apple', 'banana', 'orange', 'mango']\n"
     ]
    }
   ],
   "source": [
    "fruit = ['apple', 'banana', 'orange']\n",
    "print('fruit',fruit)\n",
    "\n",
    "fruit.append('mango')\n",
    "print('fruit',fruit)"
   ]
  },
  {
   "cell_type": "markdown",
   "metadata": {},
   "source": [
    "The extend() method adds all elements of a list to another list. It only modifies the original list."
   ]
  },
  {
   "cell_type": "code",
   "execution_count": 64,
   "metadata": {},
   "outputs": [
    {
     "name": "stdout",
     "output_type": "stream",
     "text": [
      "\n",
      "European_languages ['Czech', 'Danish', 'Dutch', 'English', 'Finnish', 'French', 'German', 'Italian']\n",
      "\n",
      "Indian_languages ['Hindi', 'Tamil', 'Telegu', 'Kannada', 'Gujarati', 'Panjabi', 'Bengali']\n",
      "\n",
      "_languages ['Czech', 'Danish', 'Dutch', 'English', 'Finnish', 'French', 'German', 'Italian', 'Hindi', 'Tamil', 'Telegu', 'Kannada', 'Gujarati', 'Panjabi', 'Bengali']\n"
     ]
    }
   ],
   "source": [
    "_languages = ['Czech', 'Danish', 'Dutch', 'English','Finnish',\\\n",
    "                      'French', 'German', 'Italian'] # Note underscore(_) is a valid symbol \n",
    "print('\\nEuropean_languages', _languages)\n",
    "\n",
    "indian_languages   = ['Hindi', 'Tamil', 'Telegu','Kannada','Gujarati','Panjabi','Bengali']\n",
    "print('\\nIndian_languages', indian_languages)\n",
    "\n",
    "_languages.extend(indian_languages)\n",
    "print('\\n_languages', _languages)"
   ]
  },
  {
   "cell_type": "markdown",
   "metadata": {},
   "source": [
    "The remove() method only removes the given element from the list"
   ]
  },
  {
   "cell_type": "code",
   "execution_count": 65,
   "metadata": {},
   "outputs": [
    {
     "name": "stdout",
     "output_type": "stream",
     "text": [
      "\n",
      "Before removing the language, Finnish\n",
      "_languages ['Czech', 'Danish', 'Dutch', 'English', 'Finnish', 'French', 'German', 'Italian', 'Hindi', 'Tamil', 'Telegu', 'Kannada', 'Gujarati', 'Panjabi', 'Bengali']\n",
      "\n",
      "After removing the language, Finnish\n",
      "_languages ['Czech', 'Danish', 'Dutch', 'English', 'French', 'German', 'Italian', 'Hindi', 'Tamil', 'Telegu', 'Kannada', 'Gujarati', 'Panjabi', 'Bengali']\n"
     ]
    }
   ],
   "source": [
    "print('\\nBefore removing the language, Finnish')\n",
    "print('_languages', _languages)\n",
    "\n",
    "_languages.remove('Finnish')\n",
    "\n",
    "print('\\nAfter removing the language, Finnish')\n",
    "print('_languages', _languages)"
   ]
  },
  {
   "cell_type": "markdown",
   "metadata": {},
   "source": [
    "### pop\n",
    "\n",
    "* Removes the element present at that index from the list.\n",
    "* The pop() method removes the element at the given index and updates the list.\n",
    "* If no parameter is passed, the default index,-1 is passed as an argument \n",
    "  which returns the last element"
   ]
  },
  {
   "cell_type": "code",
   "execution_count": 66,
   "metadata": {},
   "outputs": [
    {
     "name": "stdout",
     "output_type": "stream",
     "text": [
      "\n",
      "Before pop out the last language, Bengali\n",
      "_languages ['Czech', 'Danish', 'Dutch', 'English', 'French', 'German', 'Italian', 'Hindi', 'Tamil', 'Telegu', 'Kannada', 'Gujarati', 'Panjabi', 'Bengali']\n",
      "\n",
      "After pop out the last language, Bengali\n",
      "drop_languages Bengali\n",
      "_languages ['Czech', 'Danish', 'Dutch', 'English', 'French', 'German', 'Italian', 'Hindi', 'Tamil', 'Telegu', 'Kannada', 'Gujarati', 'Panjabi']\n",
      "\n",
      "Bengali does not exist in the _languages list\n"
     ]
    }
   ],
   "source": [
    "print('\\nBefore pop out the last language, Bengali')\n",
    "print('_languages', _languages)\n",
    "\n",
    "drop_languages = _languages.pop(-1)\n",
    "\n",
    "print('\\nAfter pop out the last language, Bengali')\n",
    "print('drop_languages', drop_languages)\n",
    "print('_languages', _languages)\n",
    "\n",
    "### Check if we have actually removed language Bengali from _languages\n",
    "\n",
    "try:\n",
    "    _languages.pop(13) # Bengali was the fourteenth element in the language list\n",
    "    print('\\nBengali does exist in the _languages list')\n",
    "    \n",
    "except IndexError: # The object does not exist resulting in an IndexError\n",
    "    print('\\nBengali does not exist in the _languages list')"
   ]
  },
  {
   "cell_type": "markdown",
   "metadata": {},
   "source": [
    "### Methods Index(),count(),sort(),reverse()"
   ]
  },
  {
   "cell_type": "code",
   "execution_count": 67,
   "metadata": {},
   "outputs": [
    {
     "name": "stdout",
     "output_type": "stream",
     "text": [
      "_languages.index('Italian') 6\n",
      "num_list.count(2) 3\n",
      "sorted_list ['Czech', 'Danish', 'Dutch', 'English', 'French', 'German', 'Gujarati', 'Hindi', 'Italian', 'Kannada', 'Panjabi', 'Tamil', 'Telegu']\n",
      "reverse_list ['Telegu', 'Tamil', 'Panjabi', 'Kannada', 'Italian', 'Hindi', 'Gujarati', 'German', 'French', 'English', 'Dutch', 'Danish', 'Czech']\n"
     ]
    }
   ],
   "source": [
    "print(\"_languages.index('Italian')\", _languages.index('Italian')) # returns index position\n",
    "\n",
    "num_list = [1, 2, 2, 2, 3, 4, 5, 6]\n",
    "print(\"num_list.count(2)\", num_list.count(2)) # returns the count 3\n",
    "\n",
    "_languages.sort()\n",
    "print(\"sorted_list\", _languages)     # returns the sorted list - sorting in place\n",
    "_languages.reverse()\n",
    "print(\"reverse_list\", _languages)     # returns the  list in reverse order"
   ]
  },
  {
   "cell_type": "markdown",
   "metadata": {},
   "source": [
    "####  A few Built-in functions:  len() , max() ,  min() , sum(), sorted()"
   ]
  },
  {
   "cell_type": "code",
   "execution_count": 68,
   "metadata": {},
   "outputs": [
    {
     "name": "stdout",
     "output_type": "stream",
     "text": [
      "\n",
      "Length of _languages list 13\n",
      "\n",
      "Maximum number in num_list 6\n",
      "\n",
      "Minimum number in num_list 1\n",
      "\n",
      "Sum of elements in num_list 25\n",
      "\n",
      "sorted elements in num_list [1, 2, 2, 2, 3, 4, 5, 6]\n"
     ]
    }
   ],
   "source": [
    "print(\"\\nLength of _languages list\", len(_languages))\n",
    "print(\"\\nMaximum number in num_list\", max(num_list))\n",
    "print(\"\\nMinimum number in num_list\", min(num_list))\n",
    "print(\"\\nSum of elements in num_list\", sum(num_list))\n",
    "print(\"\\nsorted elements in num_list\", sorted(num_list))"
   ]
  },
  {
   "cell_type": "markdown",
   "metadata": {},
   "source": [
    "### Dictionary\n",
    "\n",
    "**Dictionaries** are similar to compound types such as strings, tuples and lists.\n",
    "* Dictionaries can use any immutable type as index unlike tuples and lists which use integers as index.\n",
    "* The elements of a dictionary appear in a comma separated list. \n",
    "* An empty dictionary is denoted by {}\n",
    "* Each entry contains a key (an index) and a value separated by a colon. \n",
    "* Elements of the dictionary are called **key-value** pair.\n",
    "* Example of a dictionary: fruit_dict = {'fruit': ['apple', 'orange','mango','banana']}\n",
    "* A dictionary can be created from an empty dictionary and adding elements.\n",
    "* Another way of creating the dictionary is to use a list of key value pairs."
   ]
  },
  {
   "cell_type": "markdown",
   "metadata": {},
   "source": [
    "##### Create a dictionary from an empty dictionary"
   ]
  },
  {
   "cell_type": "code",
   "execution_count": 69,
   "metadata": {},
   "outputs": [
    {
     "name": "stdout",
     "output_type": "stream",
     "text": [
      "{'fruit': ['apple', 'orange', 'mango', 'banana']} <class 'dict'>\n"
     ]
    }
   ],
   "source": [
    "fruit_dict            = {}  # empty dictionary\n",
    "fruit_dict['fruit']   = ['apple', 'orange','mango','banana']\n",
    "print(fruit_dict, type(fruit_dict))"
   ]
  },
  {
   "cell_type": "markdown",
   "metadata": {},
   "source": [
    "#### Another method 1"
   ]
  },
  {
   "cell_type": "code",
   "execution_count": 70,
   "metadata": {},
   "outputs": [
    {
     "name": "stdout",
     "output_type": "stream",
     "text": [
      "{'fruit': ['apple', 'orange', 'mango', 'banana']} <class 'dict'>\n"
     ]
    }
   ],
   "source": [
    "fruit_dict = {'fruit': ['apple', 'orange','mango','banana']}\n",
    "print(fruit_dict, type(fruit_dict))"
   ]
  },
  {
   "cell_type": "markdown",
   "metadata": {},
   "source": [
    "#### Another method 2"
   ]
  },
  {
   "cell_type": "code",
   "execution_count": 71,
   "metadata": {},
   "outputs": [
    {
     "name": "stdout",
     "output_type": "stream",
     "text": [
      "{'fruit': ['apple', 'orange', 'mango', 'banana']} <class 'dict'>\n"
     ]
    }
   ],
   "source": [
    "fruit_dict = dict({'fruit': ['apple', 'orange','mango','banana']}) # use the function, dict\n",
    "print(fruit_dict, type(fruit_dict))"
   ]
  },
  {
   "cell_type": "markdown",
   "metadata": {},
   "source": [
    "### Methods available in the dictionary\n",
    "\n",
    "* **clear()**  removes all items from the dictionary\n",
    "* **values()** returns a new view of the dictionary values\n",
    "* **get(key[,d])** returns the value of the key. In the absence of a key, return d \n",
    "* **items()** returns a new view of the dictionaries items (key, values)\n",
    "* **keys()** returns a new view of the dictionary keys\n",
    "* **pop(key[,d])** removes the item with key and returns its value of d if key is not found. If d is not provided and the key is not found, raises Key error\n",
    "* **update([other])** updates the dictionary with the key / value pairs from other overwriting existing keys.\n",
    "\n",
    "\n",
    "#### How to access elements from a dictionary?"
   ]
  },
  {
   "cell_type": "code",
   "execution_count": 72,
   "metadata": {},
   "outputs": [
    {
     "name": "stdout",
     "output_type": "stream",
     "text": [
      "['apple', 'orange', 'mango', 'banana']\n"
     ]
    }
   ],
   "source": [
    "print(fruit_dict.get('fruit')) # use the get function"
   ]
  },
  {
   "cell_type": "code",
   "execution_count": 73,
   "metadata": {},
   "outputs": [
    {
     "name": "stdout",
     "output_type": "stream",
     "text": [
      "['apple', 'orange', 'mango', 'banana']\n"
     ]
    }
   ],
   "source": [
    "print(fruit_dict['fruit']) # without using the get function"
   ]
  },
  {
   "cell_type": "markdown",
   "metadata": {},
   "source": [
    "When you access from a non-existing dictionary, you get NameError."
   ]
  },
  {
   "cell_type": "code",
   "execution_count": 74,
   "metadata": {},
   "outputs": [
    {
     "name": "stdout",
     "output_type": "stream",
     "text": [
      "\n",
      "--->>> The dictionary does not exist\n"
     ]
    }
   ],
   "source": [
    "try:\n",
    "    fruit_dicts.get('fruit')   \n",
    "    \n",
    "except NameError:\n",
    "    print('\\n--->>> The dictionary does not exist')"
   ]
  },
  {
   "cell_type": "markdown",
   "metadata": {},
   "source": [
    "When you access a non existing element from an existing dictionary, you get None."
   ]
  },
  {
   "cell_type": "code",
   "execution_count": 75,
   "metadata": {},
   "outputs": [
    {
     "name": "stdout",
     "output_type": "stream",
     "text": [
      "\n",
      "--->>> The dictionary key does not exist\n"
     ]
    }
   ],
   "source": [
    "if fruit_dict.get('fruits') == None:  \n",
    "    print('\\n--->>> The dictionary key does not exist')"
   ]
  },
  {
   "cell_type": "markdown",
   "metadata": {},
   "source": [
    "### change or remove elements from a dictionary"
   ]
  },
  {
   "cell_type": "code",
   "execution_count": 76,
   "metadata": {},
   "outputs": [
    {
     "name": "stdout",
     "output_type": "stream",
     "text": [
      "emp_1_dict.keys() dict_keys(['name', 'age', 'date of birth'])\n",
      "emp_1_dict.values() dict_values(['Arun', 42, '02-22-1987'])\n"
     ]
    }
   ],
   "source": [
    "emp_1_dict = {'name': 'Arun', 'age' : 42, 'date of birth':'02-22-1987'}\n",
    "print('emp_1_dict.keys()',emp_1_dict.keys())\n",
    "print('emp_1_dict.values()',emp_1_dict.values())"
   ]
  },
  {
   "cell_type": "markdown",
   "metadata": {},
   "source": [
    "### Change age from 42 to 24"
   ]
  },
  {
   "cell_type": "code",
   "execution_count": 77,
   "metadata": {},
   "outputs": [
    {
     "name": "stdout",
     "output_type": "stream",
     "text": [
      "Change age from 42 to 24\n",
      "emp_1_dict.keys() dict_keys(['name', 'age', 'date of birth'])\n",
      "emp_1_dict.values() dict_values(['Arun', 24, '02-22-1987'])\n"
     ]
    }
   ],
   "source": [
    "print('Change age from 42 to 24')\n",
    "emp_1_dict['age'] = 24\n",
    "print('emp_1_dict.keys()',emp_1_dict.keys())\n",
    "print('emp_1_dict.values()',emp_1_dict.values())"
   ]
  },
  {
   "cell_type": "markdown",
   "metadata": {},
   "source": [
    "Add an item, 'email-id':'arun33@gmail.com'"
   ]
  },
  {
   "cell_type": "code",
   "execution_count": 78,
   "metadata": {},
   "outputs": [
    {
     "name": "stdout",
     "output_type": "stream",
     "text": [
      "\n",
      " After adding the email-id\n",
      "emp_1_dict.keys() dict_keys(['name', 'age', 'date of birth', 'email-id'])\n",
      "emp_1_dict.values() dict_values(['Arun', 24, '02-22-1987', 'arun33@gmail.com'])\n"
     ]
    }
   ],
   "source": [
    "emp_1_dict['email-id'] = 'arun33@gmail.com'\n",
    "\n",
    "print(\"\\n After adding the email-id\")\n",
    "print('emp_1_dict.keys()',emp_1_dict.keys())\n",
    "print('emp_1_dict.values()',emp_1_dict.values())"
   ]
  },
  {
   "cell_type": "markdown",
   "metadata": {},
   "source": [
    "#### Remove or delete items from the dictionary\n",
    "\n",
    "* The pop() method, removes a particular item in a dictionary.\n",
    "* The popitem() removes and return an arbitrary item (key, value) form the dictionary.\n",
    "* clear(), method removes all the items at once.\n",
    "* The ”del” keyword removes individual items or the entire dictionary"
   ]
  },
  {
   "cell_type": "code",
   "execution_count": 79,
   "metadata": {},
   "outputs": [
    {
     "name": "stdout",
     "output_type": "stream",
     "text": [
      "Before deleting using pop(1)\n",
      "{'fruit': ['apple', 'orange', 'mango', 'banana'], 'quantity': [10, 10, 6, 0]}\n",
      "\n",
      "The values removed\n",
      "[10, 10, 6, 0]\n",
      "\n",
      "After deleting using pop('quantity')\n",
      "{'fruit': ['apple', 'orange', 'mango', 'banana']}\n"
     ]
    }
   ],
   "source": [
    "fruit_dict = {'fruit': ['apple', 'orange','mango','banana'], 'quantity': [10, 10, 6, 0]}\n",
    "print('Before deleting using pop(1)')\n",
    "print(fruit_dict)\n",
    "\n",
    "print('\\nThe values removed')\n",
    "print(fruit_dict.pop('quantity'))\n",
    "\n",
    "print(\"\\nAfter deleting using pop('quantity')\")\n",
    "print(fruit_dict)"
   ]
  },
  {
   "cell_type": "code",
   "execution_count": 80,
   "metadata": {},
   "outputs": [
    {
     "name": "stdout",
     "output_type": "stream",
     "text": [
      "Before deleting using popitem()\n",
      "{'fruit': ['apple', 'orange', 'mango', 'banana'], 'quantity': [10, 10, 6, 0]}\n",
      "\n",
      "The values removed\n",
      "('quantity', [10, 10, 6, 0])\n",
      "\n",
      "After deleting using popitem\n",
      "{'fruit': ['apple', 'orange', 'mango', 'banana']}\n"
     ]
    }
   ],
   "source": [
    "fruit_dict = {'fruit': ['apple', 'orange','mango','banana'], 'quantity': [10, 10, 6, 0]}\n",
    "print('Before deleting using popitem()')\n",
    "print(fruit_dict)\n",
    "\n",
    "print('\\nThe values removed')\n",
    "print(fruit_dict.popitem())\n",
    "\n",
    "print(\"\\nAfter deleting using popitem\")\n",
    "print(fruit_dict)"
   ]
  },
  {
   "cell_type": "code",
   "execution_count": 81,
   "metadata": {},
   "outputs": [
    {
     "name": "stdout",
     "output_type": "stream",
     "text": [
      "Before deleting using clear()\n",
      "{'fruit': ['apple', 'orange', 'mango', 'banana'], 'quantity': [10, 10, 6, 0]}\n",
      "\n",
      "The values removed\n",
      "None\n",
      "\n",
      "After deleting using clear\n",
      "{}\n"
     ]
    }
   ],
   "source": [
    "fruit_dict = {'fruit': ['apple', 'orange','mango','banana'], 'quantity': [10, 10, 6, 0]}\n",
    "print('Before deleting using clear()')\n",
    "print(fruit_dict)\n",
    "\n",
    "print('\\nThe values removed')\n",
    "print(fruit_dict.clear())\n",
    "\n",
    "print(\"\\nAfter deleting using clear\")\n",
    "print(fruit_dict)"
   ]
  },
  {
   "cell_type": "code",
   "execution_count": 82,
   "metadata": {},
   "outputs": [
    {
     "name": "stdout",
     "output_type": "stream",
     "text": [
      "Before deleting using del fruit_dict['quantity']\n",
      "{'fruit': ['apple', 'orange', 'mango', 'banana'], 'quantity': [10, 10, 6, 0]}\n",
      "\n",
      "item 'quantity' removed\n",
      "\n",
      "After deleting using del\n",
      "{'fruit': ['apple', 'orange', 'mango', 'banana']}\n"
     ]
    }
   ],
   "source": [
    "fruit_dict = {'fruit': ['apple', 'orange','mango','banana'], 'quantity': [10, 10, 6, 0]}\n",
    "print(\"Before deleting using del fruit_dict['quantity']\")\n",
    "print(fruit_dict)\n",
    "\n",
    "print(\"\\nitem 'quantity' removed\")\n",
    "del fruit_dict['quantity']\n",
    "\n",
    "print(\"\\nAfter deleting using del\")\n",
    "print(fruit_dict)"
   ]
  },
  {
   "cell_type": "code",
   "execution_count": 83,
   "metadata": {},
   "outputs": [
    {
     "name": "stdout",
     "output_type": "stream",
     "text": [
      "Before deleting using del fruit_dict['quantity']\n",
      "{'fruit': ['apple', 'orange', 'mango', 'banana'], 'quantity': [10, 10, 6, 0]}\n",
      "\n",
      "dictionary removed\n",
      "\n",
      "--->>> The dictionary does not exist\n"
     ]
    }
   ],
   "source": [
    "fruit_dict = {'fruit': ['apple', 'orange','mango','banana'], 'quantity': [10, 10, 6, 0]}\n",
    "print(\"Before deleting using del fruit_dict['quantity']\")\n",
    "print(fruit_dict)\n",
    "\n",
    "print(\"\\ndictionary removed\")\n",
    "del fruit_dict\n",
    "\n",
    "try:\n",
    "    fruit_dicts.get('fruit')   \n",
    "    \n",
    "except NameError:\n",
    "    print('\\n--->>> The dictionary does not exist')"
   ]
  },
  {
   "cell_type": "markdown",
   "metadata": {},
   "source": [
    "#### update()\n",
    "\n",
    "The update() method adds element(s) to the dictionary if the key is not in the dictionary. \n",
    "If the key is in the dictionary, it updates the key with the new value."
   ]
  },
  {
   "cell_type": "code",
   "execution_count": 84,
   "metadata": {},
   "outputs": [
    {
     "name": "stdout",
     "output_type": "stream",
     "text": [
      "{'name': 'Arun', 'age': 42, 'date of birth': '02-22-1987'}\n"
     ]
    }
   ],
   "source": [
    "emp_1_dict = {'name': 'Arun', 'age' : 42, 'date of birth':'02-22-1987'}                 \n",
    "emp_dict   = emp_1_dict.copy()\n",
    "print(emp_dict)"
   ]
  },
  {
   "cell_type": "code",
   "execution_count": 85,
   "metadata": {},
   "outputs": [
    {
     "name": "stdout",
     "output_type": "stream",
     "text": [
      "{'name': 'Arun', 'age': 22, 'date of birth': '02-22-1997'}\n"
     ]
    }
   ],
   "source": [
    "emp_2_dict = {'name': 'Arun', 'age' : 22, 'date of birth':'02-22-1997'} \n",
    "emp_dict.update(emp_2_dict)\n",
    "print(emp_dict)"
   ]
  },
  {
   "cell_type": "code",
   "execution_count": 86,
   "metadata": {},
   "outputs": [
    {
     "name": "stdout",
     "output_type": "stream",
     "text": [
      "{'name': 'Arun', 'age': 22, 'date of birth': '02-22-1997', 'email-id': 'arun@gmail.com'}\n"
     ]
    }
   ],
   "source": [
    "emp_3_dict = {'email-id' : 'arun@gmail.com'} \n",
    "emp_dict.update(emp_3_dict)\n",
    "print(emp_dict)"
   ]
  },
  {
   "cell_type": "markdown",
   "metadata": {},
   "source": [
    "*We can test if a key exists in a dictionary or not using the keyword **in**.\n",
    "It test the keys only, not for values.*"
   ]
  },
  {
   "cell_type": "code",
   "execution_count": 87,
   "metadata": {},
   "outputs": [
    {
     "name": "stdout",
     "output_type": "stream",
     "text": [
      "True\n"
     ]
    }
   ],
   "source": [
    "print('name' in emp_dict)"
   ]
  },
  {
   "cell_type": "code",
   "execution_count": 88,
   "metadata": {},
   "outputs": [
    {
     "name": "stdout",
     "output_type": "stream",
     "text": [
      "False\n",
      "True\n"
     ]
    }
   ],
   "source": [
    "print('Age' in emp_dict);print('age' in emp_dict) # Age and age are treated differently"
   ]
  },
  {
   "cell_type": "markdown",
   "metadata": {},
   "source": [
    "#### Iterating through dictionary"
   ]
  },
  {
   "cell_type": "code",
   "execution_count": 89,
   "metadata": {},
   "outputs": [
    {
     "name": "stdout",
     "output_type": "stream",
     "text": [
      "Arun\n",
      "22\n",
      "02-22-1997\n",
      "arun@gmail.com\n"
     ]
    }
   ],
   "source": [
    "for i in emp_dict:\n",
    "    print(emp_dict[i])"
   ]
  },
  {
   "cell_type": "markdown",
   "metadata": {},
   "source": [
    "### Built-in Functions with Dictionary\n",
    "\n",
    "Built-in functions like len() and sorted()"
   ]
  },
  {
   "cell_type": "code",
   "execution_count": 90,
   "metadata": {},
   "outputs": [
    {
     "name": "stdout",
     "output_type": "stream",
     "text": [
      "fruit_dict {'fruit': ['apple', 'orange', 'mango', 'banana'], 'quantity': [10, 10, 6, 0]}\n",
      "len(fruit_dict) 2\n",
      "sorted(fruit_dict) ['fruit', 'quantity']\n"
     ]
    }
   ],
   "source": [
    "fruit_dict = {'fruit': ['apple', 'orange','mango','banana'], 'quantity': [10, 10, 6, 0]}\n",
    "print('fruit_dict', fruit_dict) # prints fruit_dict\n",
    "print('len(fruit_dict)', len(fruit_dict)) # Returns length\n",
    "print('sorted(fruit_dict)', sorted(fruit_dict)) # Returns sorted object"
   ]
  },
  {
   "cell_type": "markdown",
   "metadata": {},
   "source": [
    "## 5 Object oriented programming examples in python"
   ]
  },
  {
   "cell_type": "markdown",
   "metadata": {},
   "source": [
    "Python is an object oriented programming language.\n",
    "\n",
    "Procedural languages lays emphasis on functions while object oriented stress on objects.\n",
    "What is an object?\n",
    "\n",
    "An object is a collection of data (variables) and methods (functions) that act on those data. Class is a blue print for the object.\n",
    "\n",
    "This is similar to blue print of a house that defines all the construction specifications of a residential house such as floors, doors, windows etc. Based on these specifications, one can build a house. House is an object.\n",
    "\n",
    "Refer: https://www.programiz.com/python-programming/class https://www.programiz.com/python-programming/class\n",
    "\n",
    "We can create many objects from a class like many houses can be built from a blueprint of the house.\n",
    "\n",
    "#### What is a class?\n",
    "\n",
    "A class is a construct that defines a collection of properties and methods in a single unit. \n",
    "Difference between objects and class\n",
    "\n",
    "A class does not change during the execution of a program.\n",
    "\n",
    "Objects live only live in the program for a short time (duration of program execution). \n",
    "\n",
    "Every object belongs to a class and every class contains one or more related objects. \n",
    "\n",
    "Class is created once and object is created from the same class many times as they require. \n",
    "\n",
    "There is no memory space allocation for a class when it is created while memory space is allocated for an object when it is created.\n",
    "\n",
    "An object is also called an instance of a class and the process of creating this object is called instantiation. \n",
    "\n",
    "#### How do you define a Class in Python?\n",
    "\n",
    "We define a class using the key word class. We need to write a brief description about the class, though it is not mandatory but highly recommended. (Please remember you write programs for others to use!)\n",
    "Create a simple class, GreetingClass which greets you with appropriate greeting message depending on the time invoked.\n",
    "\n",
    "We create a variable participantCount, which is a class variable whose value is shared among all instances of a this class. This can be accessed as Participants.participantCount from inside the class or outside the class.\n",
    "The first method init() is a special method, which is called class constructor or initialization method that Python calls when you create a new instance of this class.\n",
    "You declare other class methods like normal functions with the exception that the first argument to each method is self. Python adds the self argument to the list for you; you do not need to include it when you call the methods.\n",
    "\n",
    "Get the documentation string of the class, Participants or in other words decription of the class."
   ]
  },
  {
   "cell_type": "code",
   "execution_count": 91,
   "metadata": {
    "collapsed": true
   },
   "outputs": [],
   "source": [
    "class Participants:\n",
    "    '''\n",
    "    This class accepts name of the participant and greets him/ her as appropriate.\n",
    "    This also displays the count of pariticipants\n",
    "    '''\n",
    "    participantCount = 0 # initialize the count of participants invoking this class\n",
    "    greet_msg        = ''\n",
    "    import datetime\n",
    "    currentTime = datetime.datetime.now()\n",
    "    if currentTime.hour < 12:\n",
    "       greet_msg = 'Good morning '\n",
    "    elif 12 <= currentTime.hour < 18:\n",
    "       greet_msg = 'Good afternoon '\n",
    "    else:\n",
    "       greet_msg = 'Good evening '\n",
    "\n",
    "    def __init__(self, name): \n",
    "        self.name = name\n",
    "        Participants.participantCount += 1\n",
    "        \n",
    "    def displayGreeting(self):\n",
    "        '''\n",
    "        This function greets the participant with appropriate message based on time of the day\n",
    "        '''\n",
    "        print( Participants.greet_msg + self.name)"
   ]
  },
  {
   "cell_type": "code",
   "execution_count": 92,
   "metadata": {},
   "outputs": [
    {
     "name": "stdout",
     "output_type": "stream",
     "text": [
      "\n",
      "    This class accepts name of the participant and greets him/ her as appropriate.\n",
      "    This also displays the count of pariticipants\n",
      "    \n"
     ]
    }
   ],
   "source": [
    "print(Participants.__doc__) # (Note use of double under score)"
   ]
  },
  {
   "cell_type": "code",
   "execution_count": 93,
   "metadata": {},
   "outputs": [
    {
     "name": "stdout",
     "output_type": "stream",
     "text": [
      "Good morning Raja\n",
      "Good morning Arun\n",
      "Good morning Amala\n",
      "Good morning Raji\n",
      "Good morning Swetha\n",
      "Good morning Ashwini\n",
      "\n",
      "\n",
      "Total Participants attended 6\n"
     ]
    }
   ],
   "source": [
    "### Invoke the class object, Participants\n",
    "\n",
    "participant1 = Participants(\"Raja\")\n",
    "participant2 = Participants(\"Arun\")\n",
    "participant3 = Participants(\"Amala\")\n",
    "participant4 = Participants(\"Raji\")\n",
    "participant5 = Participants(\"Swetha\")\n",
    "participant6 = Participants(\"Ashwini\")\n",
    "\n",
    "### Print the attendance\n",
    "attendance_list = [participant1, participant2, participant3, participant4, participant5, participant6 ]\n",
    "\n",
    "for x in attendance_list:\n",
    "    x.displayGreeting()\n",
    "    \n",
    "print(\"\\n\\nTotal Participants attended %d\" % Participants.participantCount)"
   ]
  },
  {
   "cell_type": "markdown",
   "metadata": {},
   "source": [
    "#### Can you create an attendance list with each participant name and time of reporting for the class?\n",
    "\n",
    "#### Redefine the class\n",
    "Use strftime(\"%Y-%m-%d %H:%M\") to neatly display the time of invoking the class (or arrival of the particpant to the class)."
   ]
  },
  {
   "cell_type": "code",
   "execution_count": 94,
   "metadata": {
    "collapsed": true
   },
   "outputs": [],
   "source": [
    "class Participants:\n",
    "    '''\n",
    "    This class accepts name of the participant and greets him/ her as appropriate.\n",
    "    This also displays reporting time and the count of pariticipants\n",
    "    '''\n",
    "    participantCount = 0 # initialize the count of participants invoking this class\n",
    "    greet_msg        = ''\n",
    "\n",
    "    import datetime\n",
    "    currentTime = datetime.datetime.now()\n",
    "    dtime       = currentTime.strftime(\"%Y-%m-%d %H:%M\")\n",
    "    if currentTime.hour < 12:\n",
    "       greet_msg = 'Good morning '\n",
    "    elif 12 <= currentTime.hour < 18:\n",
    "       greet_msg = 'Good afternoon '\n",
    "    else:\n",
    "       greet_msg = 'Good evening '\n",
    "\n",
    "    def __init__(self, name): \n",
    "        self.name = name\n",
    "        Participants.participantCount += 1\n",
    "        \n",
    "    def displayGreeting(self):\n",
    "        print(Participants.dtime + ' ' + Participants.greet_msg + self.name)"
   ]
  },
  {
   "cell_type": "code",
   "execution_count": 95,
   "metadata": {},
   "outputs": [
    {
     "name": "stdout",
     "output_type": "stream",
     "text": [
      "2019-03-29 06:06 Good morning Raja\n",
      "2019-03-29 06:06 Good morning Arun\n",
      "2019-03-29 06:06 Good morning Amala\n",
      "2019-03-29 06:06 Good morning Raji\n",
      "2019-03-29 06:06 Good morning Swetha\n",
      "2019-03-29 06:06 Good morning Ashwini\n",
      "\n",
      "\n",
      "Total Participants attended 6\n"
     ]
    }
   ],
   "source": [
    "## Create attendance list\n",
    "\n",
    "participant1 = Participants(\"Raja\")\n",
    "participant2 = Participants(\"Arun\")\n",
    "participant3 = Participants(\"Amala\")\n",
    "participant4 = Participants(\"Raji\")\n",
    "participant5 = Participants(\"Swetha\")\n",
    "participant6 = Participants(\"Ashwini\")\n",
    "\n",
    "### Print the attendance\n",
    "attendance_list = [participant1, participant2, participant3, participant4, participant5, participant6 ]\n",
    "\n",
    "for x in attendance_list:\n",
    "    x.displayGreeting()\n",
    "    \n",
    "print(\"\\n\\nTotal Participants attended %d\" % Participants.participantCount)"
   ]
  },
  {
   "cell_type": "code",
   "execution_count": 96,
   "metadata": {
    "collapsed": true
   },
   "outputs": [],
   "source": [
    "class Employee:\n",
    "\n",
    "    '''\n",
    "    This class, Employee holds all relevant attributes of an employee either derived or provided\n",
    "    Email id the first character of the last name with first name as suffix and \n",
    "    with the rest as @abc.com\n",
    "    \n",
    "    '''\n",
    "    import datetime\n",
    "    \n",
    "    def __init__(self, first, last, dob, doj, salary):\n",
    "         self.first       = first\n",
    "         self.last        = last\n",
    "         self.fullname    = first + ' ' + last\n",
    "         self.email       = last[0] + first + '@abc.com'\n",
    "         self.salary      = salary\n",
    "         self.dob         = dob\n",
    "         self.doj         = doj\n",
    "            \n",
    "    def  age(self):\n",
    "         dob_date         = datetime.datetime.strptime(self.dob,'%Y/%m/%d').date()\n",
    "         current_date     = datetime.date.today()\n",
    "         return  ((current_date - dob_date)).days // 365.25 # to get the floor of the years \n",
    "        \n",
    "        \n",
    "        \n",
    "    def  profile(self):\n",
    "         print(\"\\nProfile of Name: \",  self.fullname)\n",
    "         print(\"Email: \", self.email)\n",
    "         print(\"Salary: \", self.salary)\n",
    "         print(\"Age: \", self.age(), \" years\")\n",
    "         return '\\n\\nProfile displayed'"
   ]
  },
  {
   "cell_type": "code",
   "execution_count": 97,
   "metadata": {},
   "outputs": [
    {
     "name": "stdout",
     "output_type": "stream",
     "text": [
      "\n",
      "Profile of Name:  John Vaseekaran\n",
      "Email:  VJohn@abc.com\n",
      "Salary:  50000\n",
      "Age:  29.0  years\n",
      "\n",
      "\n",
      "Profile displayed\n"
     ]
    }
   ],
   "source": [
    "import datetime\n",
    "emp1 = Employee('John','Vaseekaran','1989/04/02','2018/01/01', 50000)\n",
    "print(emp1.profile())"
   ]
  },
  {
   "cell_type": "markdown",
   "metadata": {},
   "source": [
    "### Exercise 1"
   ]
  },
  {
   "cell_type": "markdown",
   "metadata": {},
   "source": [
    "Use the appropriate Error Exception to trap *module not imported error*"
   ]
  },
  {
   "cell_type": "markdown",
   "metadata": {},
   "source": [
    "### Exercise 2"
   ]
  },
  {
   "cell_type": "markdown",
   "metadata": {},
   "source": [
    "From the below string, find out how many vegetarians and non-vegetarians are there for meal planning for an Airline crew.\n",
    "\n",
    "meals_pref = 'John is a non-vegetarian Peter is a non-vegetarian Suresh is a vegetarian Ramu is a Vegetarian Selvam eats Veg food Mary eats non-veg food'"
   ]
  },
  {
   "cell_type": "markdown",
   "metadata": {},
   "source": [
    "### Exercise 3"
   ]
  },
  {
   "cell_type": "markdown",
   "metadata": {},
   "source": [
    "Write the employee_dict, dictionary into a JSON file, **employee_profile.json** and read and display line by line. You need to pip install json\n",
    "\n",
    "Or write the employee_dict, dictionary into a text file, **employee_profile.txt** and read and display line by line. \n",
    "\n",
    "Refer: https://www.quora.com/How-do-I-write-a-dictionary-to-a-file-in-Python"
   ]
  },
  {
   "cell_type": "code",
   "execution_count": 98,
   "metadata": {},
   "outputs": [
    {
     "name": "stdout",
     "output_type": "stream",
     "text": [
      "{'Name': ['Peter Vijay', 'Joseph Vairam', 'Ram Sanjay', 'Vignesh Arun'], 'Age': [30, 40, 23, 38], 'Date of Joining': ['2016-03-01', '2006-01-02', '2018-04-01', '2012-10-11'], 'Salary': [30000, 45000, 20000, 35000]}\n"
     ]
    }
   ],
   "source": [
    "employee_dict = {'Name': ['Peter Vijay', 'Joseph Vairam','Ram Sanjay','Vignesh Arun'],\\\n",
    "                 'Age' : [30, 40, 23, 38],\\\n",
    "                 'Date of Joining' : ['2016-03-01', '2006-01-02', '2018-04-01','2012-10-11'],\\\n",
    "                 'Salary' : [30000, 45000, 20000, 35000]}\n",
    "print(employee_dict)"
   ]
  },
  {
   "cell_type": "markdown",
   "metadata": {},
   "source": [
    "### Exercise 4"
   ]
  },
  {
   "cell_type": "markdown",
   "metadata": {},
   "source": [
    "Calculate years of experience by subtracting date of joining from today's date and include in the profile. Use the same technique for calculating age."
   ]
  }
 ],
 "metadata": {
  "kernelspec": {
   "display_name": "Python 3",
   "language": "python",
   "name": "python3"
  },
  "language_info": {
   "codemirror_mode": {
    "name": "ipython",
    "version": 3
   },
   "file_extension": ".py",
   "mimetype": "text/x-python",
   "name": "python",
   "nbconvert_exporter": "python",
   "pygments_lexer": "ipython3",
   "version": "3.6.3"
  }
 },
 "nbformat": 4,
 "nbformat_minor": 2
}
