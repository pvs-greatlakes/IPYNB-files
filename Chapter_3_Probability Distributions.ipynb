{
 "cells": [
  {
   "cell_type": "markdown",
   "metadata": {
    "collapsed": true
   },
   "source": [
    "**Chapter 3 Probability Distributions**"
   ]
  },
  {
   "cell_type": "markdown",
   "metadata": {},
   "source": [
    "**Introduction**"
   ]
  },
  {
   "cell_type": "markdown",
   "metadata": {},
   "source": [
    "The most important of solving business problems is dealing with **uncertainity**. This involves recognizing explicitly that uncertaintiy exists and using quantitative methods to model uncertainty. \n",
    "\n",
    "There are many sources of uncertainty such as demand for products, stock prices, etc.In many situations, the uncertain quantity, demand for a product, stock price etc. are numerical quantity. This numerical quantity is called **random variable** in the language of **probability**. \n",
    "\n",
    "**A random variable associates a numerical value with each possible outcome.**"
   ]
  },
  {
   "cell_type": "markdown",
   "metadata": {},
   "source": [
    "Associated with each random variable is a **probability distribution** that lists all of the possible values of the random variable and their correponding probabilities. \n",
    "\n",
    "**What does a probabiitiy distribution provide?**\n",
    "\n",
    "**Probability distributions not only indicates the possible value of a random variable, but also indicates how likely they are**.\n",
    "\n",
    "For example, it is useful to know the demand for a product in December is 7000 units with the prbability of 0.75. \n",
    "This means that there is a 75% chance that the demand for the products is 7000 units.\n",
    "\n",
    "It is very useful to summarize the information from a probability distribution with numerical summary measures such as mean, variance and standard deviation"
   ]
  },
  {
   "cell_type": "markdown",
   "metadata": {},
   "source": [
    "A **probability distribution** describes the uncertainty of a numerical outcome and it is a list of all possible outcomes and their corresponding probabilities. \n",
    "\n",
    "There are two types of random variables; **discrete and continuous**. \n",
    "\n",
    "A **discrete variable** takes only a finite number (countable) of possible values, such as number of employees in a company. \n",
    "\n",
    "A **continuous random variable** has an infinite number of possible values. "
   ]
  },
  {
   "cell_type": "markdown",
   "metadata": {},
   "source": [
    "**Usually, a discrete distribution results from a count and continuous distribution results from a measurement.**\n",
    "\n",
    "**Essential properties of a discrete random variable and its associated probability distribution**"
   ]
  },
  {
   "cell_type": "markdown",
   "metadata": {},
   "source": [
    "By convention, random variables are denoted by X, Y and Z, the capital letters towards the end of the alphabet.\n",
    "\n",
    "A discrete probability distribution is a set of possible values and a corresponding set of probabilities that add up to 1.\n",
    "\n",
    "Let X be a random variable. We need to specify the possible values and their probabilities for the probability distribution of X. \n",
    "\n",
    "Assume that there are k possible values denoted by $v_1, v_2, ... v_k$. The probability of a critical value $v_i$ is denoted by P(X = $v_i$) or P($v_i$)."
   ]
  },
  {
   "cell_type": "markdown",
   "metadata": {},
   "source": [
    "Probability distributions must satisfy two criteria a) probabilities must be positive or zero b) they must add up to 1.\n",
    "\n",
    "It is mathematically denoted as \n",
    "\n",
    " $\\sum_{i=1}^{k}p(v_i)$ = 1 and $p(v_i) \\geq$ 0"
   ]
  },
  {
   "cell_type": "markdown",
   "metadata": {},
   "source": [
    "**Cumulative probability**\n",
    "\n",
    "A cumulative probability is the probability of a random variable takes a value which is less than or equal to a specified value. \n",
    "\n",
    "Consider the example of number of life insurance policies sold in March first week of the last year by an insurance agent.\n",
    "\n",
    "| Number of policies sold | Associated probability |\n",
    "| --------- | ------------ |\n",
    "| 0 | 0.50 |\n",
    "| 1 | 0.20 |\n",
    "| 2 | 0.15 | \n",
    "| 3 | 0.10 | \n",
    "| 4 | 0.05 | \n",
    "| Total | 1.0|\n",
    "\n",
    "A typical cumulative probability is P(X $\\leq$ 3) = 0.50 + 0.20 + 0.15 + 0.10 = 0.95\n",
    "\n",
    "Here we add the probability corresponding to the number of policies upto (including) 3, that is 0, 1, 2 and 3. "
   ]
  },
  {
   "cell_type": "markdown",
   "metadata": {},
   "source": [
    "**Summary measures**\n",
    "\n",
    "Probability distributions are summarized by the following measures:\n",
    "\n",
    "1. Mean, often denoted by $\\mu. It is also expected value of X denoted by E(X)\n",
    "\n",
    "     It is a weighted sum of the possible values weighted by their probabilities.\n",
    "     It indicates the *center* of the probability distribution.\n",
    "     \n",
    "     Mean of the probability distribution, $\\mu$ = E(X) = $\\sum_{i=1}^{k}p(v_i)$\n",
    "\n",
    "2. Standard deviation, often denoted by $\\sigma$ is used to measure the variability in a distribution.\n",
    "\n",
    "    Variance is a weighted sum of the squared deviations of the possible values from the mean. (Weights are probabilities).\n",
    "    Standard deviation is the square root of the variance.\n",
    "    \n",
    "    Variance             = $\\sigma^2$ = $\\sum_{i=1}^{k}(v_i - \\mu))^2 p(v_i)$\n",
    "    \n",
    "    Standard deviation   = $\\sqrt(Variance)$"
   ]
  },
  {
   "cell_type": "markdown",
   "metadata": {},
   "source": [
    "An investor estimates that the market returns in the coming year by considering the national economy and arrives at the following table.\n",
    "\n",
    "Compute the mean, standard deviation of the probability distribution of the market return for the coming year.\n",
    "\n",
    "| Economic outcome | Probability | Market return |\n",
    "| -------------- | ------ | --------- |\n",
    "| Rapid expansion | 0.12 | 0.23 |\n",
    "| Moderate expansion | 0.40 | 0.18 |\n",
    "| No Growth | 0.25 | 0.15 |\n",
    "| Moderate contraction | 0.15 | 0.09 |\n",
    "| Severe contraction | 0.08 | 0.03 |"
   ]
  },
  {
   "cell_type": "markdown",
   "metadata": {},
   "source": [
    "**Solution**"
   ]
  },
  {
   "cell_type": "code",
   "execution_count": 1,
   "metadata": {
    "collapsed": true
   },
   "outputs": [],
   "source": [
    "import numpy  as np\n",
    "import pandas as pd\n",
    "\n",
    "\n",
    "### Define the variable p to hold values for probability of the economic outcome\n",
    "p     = np.array([0.12, 0.40, 0.25, 0.15, 0.08])\n",
    "\n",
    "### Define the variable ret to hold the market return corresponding \n",
    "### to the economic outcome\n",
    "\n",
    "ret    = np.array([0.23, 0.18, 0.15, 0.09, 0.03])\n",
    "\n",
    "# Define a data frame to hold prob and returns\n",
    "\n",
    "df  = pd.DataFrame({'prob' : p, 'ret' : ret})"
   ]
  },
  {
   "cell_type": "markdown",
   "metadata": {},
   "source": [
    "*Mean is the sum of products of possible values and probabilities.*"
   ]
  },
  {
   "cell_type": "code",
   "execution_count": 2,
   "metadata": {
    "collapsed": true
   },
   "outputs": [],
   "source": [
    "df['prob_M_return'] = df['prob'] * df['ret']"
   ]
  },
  {
   "cell_type": "code",
   "execution_count": 3,
   "metadata": {},
   "outputs": [
    {
     "name": "stdout",
     "output_type": "stream",
     "text": [
      "\n",
      " Mean of the returns is 15.30 %\n"
     ]
    }
   ],
   "source": [
    "mean = df['prob_M_return'].sum()\n",
    "\n",
    "print(\"\\n Mean of the returns is %4.2f %s\" %(mean * 100, '%'))"
   ]
  },
  {
   "cell_type": "markdown",
   "metadata": {},
   "source": [
    "*Variance is the weighted average of squared deviations from the mean.*"
   ]
  },
  {
   "cell_type": "code",
   "execution_count": 4,
   "metadata": {
    "collapsed": true
   },
   "outputs": [],
   "source": [
    "df['return_deviation'] = df['ret'] - mean\n",
    "df['return_deviation'] = df['return_deviation'] * df['return_deviation']"
   ]
  },
  {
   "cell_type": "code",
   "execution_count": 5,
   "metadata": {},
   "outputs": [
    {
     "name": "stdout",
     "output_type": "stream",
     "text": [
      "\n",
      "Square root of returns is 5.30 %\n"
     ]
    }
   ],
   "source": [
    "df['V']    = df['return_deviation'] * df['prob']\n",
    "var        = df['V'].sum()\n",
    "sd         = np.sqrt(var)\n",
    "print(\"\\nSquare root of returns is %4.2f %s\" % (sd * 100, '%'))"
   ]
  },
  {
   "cell_type": "markdown",
   "metadata": {},
   "source": [
    "We observe that the mean of the return is 15.3% and the standard deviation is 5.3%. This means that in the long run, the coming year repeated many times, each time using the probability distribution in the given problem to generate market return, the average market returns will be approximately close to 15.3% and their standard deviation would be nearly 5.3%.\n",
    "\n",
    "We also observe that the probability of a market return \n",
    "* a) at least 18% is 0.13 + 0.40     = 0.52\n",
    "* b) not more than 9% is 0.15 + 0.08 = 0.23"
   ]
  },
  {
   "cell_type": "markdown",
   "metadata": {},
   "source": [
    "**Discrete probability distributions**"
   ]
  },
  {
   "cell_type": "markdown",
   "metadata": {},
   "source": [
    "*We will be covering Binomial and Poisson distributions.*"
   ]
  },
  {
   "cell_type": "markdown",
   "metadata": {},
   "source": [
    "** 1) Binomial Distributions**"
   ]
  },
  {
   "cell_type": "markdown",
   "metadata": {},
   "source": [
    "Binomial distribution can occur in two situations:\n",
    "\n",
    "* 1) when sampling from a population with only two type of members such as Male and Female, churn or no churn etc.\n",
    "* 2) When performing a sequence of identical experiments, each of which has only two possible outcomes such as head or tail.\n",
    "\n",
    "Consider any experiment that can be repeated many times under identical conditions and the outcomes of the successive trails are probabilistically independent of one another and each trial has only two possible outcomes, such as Defective or Non-defective, Democrat or Republican, Guilty or Not Guilty, default or no default etc. \n",
    "\n",
    "* The possibilities are labelled as *success and failure* \n",
    "* Each repetition of the experiment is called as *trial*."
   ]
  },
  {
   "cell_type": "markdown",
   "metadata": {},
   "source": [
    "** Applications of binomial distribution**\n",
    "\n",
    "* It is widely used probability distribution of a discrete random variable. \n",
    "* Plays major role in quality control and quality assurance function. "
   ]
  },
  {
   "cell_type": "markdown",
   "metadata": {},
   "source": [
    "Consider a situation where there are n independent, identical trials, where the probability of success on each trial is $\\pi$ and the probability of a failure is 1 - $\\pi$.\n",
    "\n",
    "Define X to be a random variable holding the number of successes in the n trials. Then X has a binomial distribution with parameters n and $\\pi$ and denoted by b(X; n, $\\pi$), the binomial probability."
   ]
  },
  {
   "cell_type": "markdown",
   "metadata": {},
   "source": [
    "** Binomial distribution formula**"
   ]
  },
  {
   "cell_type": "markdown",
   "metadata": {},
   "source": [
    "$P(X = x\\mid n,\\pi)$ = $\\frac{n!}{x!(n - x)!}\\pi^x (1 - \\pi)^{n-x} $\n",
    "* where P(X = x) is the probability of getting x successes in n trials\n",
    "and $\\pi$ is the probability of an event of interest"
   ]
  },
  {
   "cell_type": "markdown",
   "metadata": {},
   "source": [
    "**Mean and standard deviation of the Binomial distribution**\n",
    "\n",
    "For a binomial distribution with parameters n and $\\pi$, mean and standard deviation are given by the following equations:\n",
    "\n",
    "**Mean** = E(X) = n$\\pi$\n",
    "\n",
    "**Standard deviation** = $\\sqrt{n\\pi}{1-\\pi}$\n",
    "\n",
    "For example, assume 1000 parts are sampled randomly from an assembly line and, based on historical performance, the percentage of parts with some defect is about 2%. We say, each of the 1000 parts, independently of others, has some defect with probability 0.02. \n",
    "Is it likely that we observe 75 defective parts?\n",
    "\n",
    "Mean is 1000 * 0.02 = 20 and standard deviation is sqrt(1000 * 0.02 * 0.98) =  4.427189 or 4.42. Hence, the number of parts with defects is 95% certain to be within 20 $\\neq$ 2 * 4.42 or approximately, 11 to 29. \n",
    "\n",
    "For 3 standard deviation from the mean, we get 20 $\\neq$ 3 * 4.42 or approximately from 7 to 33. Since 75 is beyond three standard deviations from the mean, it is highly unlikely that there would be 75 or more defective parts ."
   ]
  },
  {
   "cell_type": "markdown",
   "metadata": {},
   "source": [
    "**Some important functions in Python for Binomial distribution:**\n",
    "\n",
    "1) Probability mass function\n",
    "\n",
    "scipy.stats.binom.pmf gives the probability mass function for the binomial distribution\n",
    "\n",
    "binomial = scipy.stats.binom.pmf (k,n,p), \n",
    "* where k is an array and takes values in {0, 1,..., n}\n",
    "* n and p are shape parameters for the binomial distribution\n",
    "\n",
    "The output, binomial, gives probability of binomial distribution function in terms of array.\n",
    "\n",
    "The binomial probability refers to the probability that a binomial experiment results in exactly x successes. We know that the binomial probability of exactly one head in two coin flips is 0.50.\n",
    "\n",
    "2) Cumulative Density function\n",
    "\n",
    "cumbinomial = scipy.stats.binom.cdf(k,n,p) gives cumulative binomial distribution.\n",
    "\n",
    "The output, cumbinomial, gives cumulative probability of binomial distribution function in terms of array.\n",
    "\n",
    "The cumulative binomial probability refers to the probability that a binomial random variable falls within a specified range.\n",
    "\n",
    "3)  Plot the binomial Density function\n",
    "\n",
    "The function, matplotlib.pyplot.plot(k, binomial, ‘o-’) gives us plot of the binomial distribution function."
   ]
  },
  {
   "cell_type": "markdown",
   "metadata": {},
   "source": [
    "**Note:** \n",
    "\n",
    "A density function, denoted by f(x) specifies the probability distribution of a continuous random variable, X. The higher f(x) is, the more likely x is. \n",
    "\n",
    "Total area between graph of f(x) and the horizontal axis, which represents the total probability is 1 and f(x) is not negative for all possible values of X."
   ]
  },
  {
   "cell_type": "markdown",
   "metadata": {},
   "source": [
    "**Example 1**\n",
    "\n",
    "A LED bulb manufacturing company regularly conducts quality checks at specified periods on the products it manufactures.\n",
    "Historically, the failure rate for LED light bulbs that the company manufactures is 5%. Suppose a random sample of 10 LED light bulbs is selected.\n",
    "What is the probability that \n",
    "* a) None of the LED bulbs are defective?\n",
    "* b) Exactly one of the LED bulbs is defective?\n",
    "* c) Two or fewer of the LED bulbs are defective?\n",
    "* d) Three or more of the LED bulbs are defective\n"
   ]
  },
  {
   "cell_type": "code",
   "execution_count": 6,
   "metadata": {
    "collapsed": true
   },
   "outputs": [],
   "source": [
    "import numpy             as np\n",
    "import pandas            as pd\n",
    "import scipy.stats       as stats\n",
    "import matplotlib.pyplot as plt"
   ]
  },
  {
   "cell_type": "code",
   "execution_count": 7,
   "metadata": {
    "collapsed": true
   },
   "outputs": [],
   "source": [
    "p   =  0.05 # failure rate for LED light bulbs that the company manufactures is 5%\n",
    "n   =  10 # sample size\n",
    "k   =  np.arange(0,11) # An array of quantiles"
   ]
  },
  {
   "cell_type": "code",
   "execution_count": 8,
   "metadata": {
    "collapsed": true
   },
   "outputs": [],
   "source": [
    "binomial = stats.binom.pmf(k,n,p)"
   ]
  },
  {
   "cell_type": "code",
   "execution_count": 9,
   "metadata": {},
   "outputs": [
    {
     "name": "stdout",
     "output_type": "stream",
     "text": [
      "[5.98736939e-01 3.15124705e-01 7.46347985e-02 1.04750594e-02\n",
      " 9.64808106e-04 6.09352488e-05 2.67259863e-06 8.03789063e-08\n",
      " 1.58642578e-09 1.85546875e-11 9.76562500e-14]\n"
     ]
    }
   ],
   "source": [
    "print(binomial)"
   ]
  },
  {
   "cell_type": "markdown",
   "metadata": {},
   "source": [
    "From the above result, we prepare a table of Count of defective bulbs and probability as follows:\n",
    "\n",
    "| Count of defective bulbs | Probability |\n",
    "| -------- | -------- |\n",
    "| 0 | 0.598736939 |\n",
    "| 1 | 0.315124705 |\n",
    "| 2 | 0.0746347985 |\n",
    "| 3 | 0.0104750594 |\n",
    "| 4 | 0.000964808106 |\n",
    "| 5 | 0.0000609352488 |\n",
    "| 6 | 0.00000267259863 |\n",
    "| 7 | 0.0000000803789063 |\n",
    "| 8 | 0.00000000158642578 |\n",
    "| 9 | 0.0000000000185546875 |\n",
    "| 10 | 0.0000000000000976562500 |\n",
    "\n",
    "The binomial probability refers to the probability that a binomial experiment results in exactly x successes.\n",
    "\n",
    "So the probability that none of the LED bulbs is defective is given in the first row of the above table as 0.598736939"
   ]
  },
  {
   "cell_type": "code",
   "execution_count": 10,
   "metadata": {},
   "outputs": [
    {
     "name": "stdout",
     "output_type": "stream",
     "text": [
      "a) None of the LED bulbs are defective? is 0.5987\n"
     ]
    }
   ],
   "source": [
    "print('a) None of the LED bulbs are defective? is %1.4f' %binomial[0])"
   ]
  },
  {
   "cell_type": "code",
   "execution_count": 11,
   "metadata": {},
   "outputs": [
    {
     "name": "stdout",
     "output_type": "stream",
     "text": [
      "b) Exactly one of the LED bulbs is defective? is 0.3151\n"
     ]
    }
   ],
   "source": [
    "print('b) Exactly one of the LED bulbs is defective? is %1.4f' %binomial[1])"
   ]
  },
  {
   "cell_type": "markdown",
   "metadata": {},
   "source": [
    "To answer the question c) Two or fewer of the LED bulbs are defective?\n",
    "we need to calculate cumulative probability of Upto Two LED bulbs being defective"
   ]
  },
  {
   "cell_type": "code",
   "execution_count": 12,
   "metadata": {
    "collapsed": true
   },
   "outputs": [],
   "source": [
    "cumbinomial = stats.binom.cdf(k,n,p)"
   ]
  },
  {
   "cell_type": "code",
   "execution_count": 13,
   "metadata": {},
   "outputs": [
    {
     "name": "stdout",
     "output_type": "stream",
     "text": [
      "[0.59873694 0.91386164 0.98849644 0.9989715  0.99993631 0.99999725\n",
      " 0.99999992 1.         1.         1.         1.        ]\n"
     ]
    }
   ],
   "source": [
    "print(cumbinomial)"
   ]
  },
  {
   "cell_type": "markdown",
   "metadata": {},
   "source": [
    "The cumulative binomial probability refers to the probability that a binomial random variable falls within a specified range.\n",
    "\n",
    "From the above result, we prepare a table of Cumulative count of defective bulbs and probability as follows:\n",
    "\n",
    "| Cumulative count of defective bulbs | Probability |\n",
    "| -------- | -------- |\n",
    "| Upto 0 | 0.59873694 | \n",
    "| Upto 1 | 0.91386164 | \n",
    "| Upto 2 | 0.98849644 | \n",
    "| Upto 3 | 0.9989715 | \n",
    "| Upto 4 | 0.99993631 | \n",
    "| Upto 5 | 0.99999725 |  \n",
    "| Upto 6 | 0.99999992 | \n",
    "| Upto 7 | 1. |\n",
    "| Upto 8 | 1. | \n",
    "| Upto 9 | 1. | \n",
    "| Upto 10 | 1.| \n",
    "\n",
    "So, the probability that two or fewer (i.e.. upto 2) LED bulbs are defective is given by the third row in the above table, 0.98849644.\n"
   ]
  },
  {
   "cell_type": "code",
   "execution_count": 14,
   "metadata": {},
   "outputs": [
    {
     "name": "stdout",
     "output_type": "stream",
     "text": [
      "c) Two or fewer of the LED bulbs are defective? is 0.9885\n"
     ]
    }
   ],
   "source": [
    "print('c) Two or fewer of the LED bulbs are defective? is %1.4f' %cumbinomial[2])"
   ]
  },
  {
   "cell_type": "markdown",
   "metadata": {},
   "source": [
    "To answer the question d) Three or more of the LED bulbs are defective, we n`eed to subtract cumulative Probability upto 2 defective LED bulbs from 1."
   ]
  },
  {
   "cell_type": "code",
   "execution_count": 15,
   "metadata": {},
   "outputs": [
    {
     "name": "stdout",
     "output_type": "stream",
     "text": [
      "d) Three or more of the LED bulbs are defective is 0.0115\n"
     ]
    }
   ],
   "source": [
    "P = 1- cumbinomial[2]\n",
    "print('d) Three or more of the LED bulbs are defective is %1.4f' % P)"
   ]
  },
  {
   "cell_type": "markdown",
   "metadata": {},
   "source": [
    "Plot the binomial distribution function"
   ]
  },
  {
   "cell_type": "code",
   "execution_count": 16,
   "metadata": {},
   "outputs": [
    {
     "data": {
      "image/png": "[encoded data removed]",
      "text/plain": [
       "<matplotlib.figure.Figure at 0x2379f232438>"
      ]
     },
     "metadata": {},
     "output_type": "display_data"
    }
   ],
   "source": [
    "plt.plot(k,binomial, 'o-')\n",
    "plt.title('Binomial')\n",
    "plt.xlabel('Number of Def LED bulbs')\n",
    "plt.ylabel('Prob of Defective LED bulbs')\n",
    "plt.show()"
   ]
  },
  {
   "cell_type": "markdown",
   "metadata": {},
   "source": [
    "**Example 2**\n",
    "\n",
    "The percentage of orders filled correctly at Wendy's was approximately 86.8%. Suppose that you go to drive-through window at Wendy's and place an order. Two friends of yours independently place orders at the drive-through window at the same Wendy's.\n",
    "\n",
    "What are the probabilities that \n",
    "* a) all three \n",
    "* b) none of the three\n",
    "* c) atleast two of the three orders will be filled correctly?\n",
    "* d) what is the mean and standard deviation of the orders filled correctly?"
   ]
  },
  {
   "cell_type": "code",
   "execution_count": 17,
   "metadata": {
    "collapsed": true
   },
   "outputs": [],
   "source": [
    "p   =  0.868 # percentage of orders filled correctly at Wendy's was approximately 86.8%\n",
    "n   =  3\n",
    "k   =  np.arange(0,4)"
   ]
  },
  {
   "cell_type": "code",
   "execution_count": 18,
   "metadata": {
    "collapsed": true
   },
   "outputs": [],
   "source": [
    "binomial = stats.binom.pmf(k,n,p)"
   ]
  },
  {
   "cell_type": "code",
   "execution_count": 19,
   "metadata": {},
   "outputs": [
    {
     "name": "stdout",
     "output_type": "stream",
     "text": [
      "[0.00229997 0.0453721  0.2983559  0.65397203]\n"
     ]
    }
   ],
   "source": [
    "print(binomial)"
   ]
  },
  {
   "cell_type": "code",
   "execution_count": 20,
   "metadata": {},
   "outputs": [
    {
     "name": "stdout",
     "output_type": "stream",
     "text": [
      "a) all the three orders are filled correctly? is 0.6540\n"
     ]
    }
   ],
   "source": [
    "print('a) all the three orders are filled correctly? is %1.4f' %binomial[3])"
   ]
  },
  {
   "cell_type": "code",
   "execution_count": 21,
   "metadata": {},
   "outputs": [
    {
     "name": "stdout",
     "output_type": "stream",
     "text": [
      "b) none of the three orders are filled correctly? is 0.0023\n"
     ]
    }
   ],
   "source": [
    "print('b) none of the three orders are filled correctly? is %1.4f' %binomial[0])"
   ]
  },
  {
   "cell_type": "markdown",
   "metadata": {},
   "source": [
    "To answer this question c) atleast two of the three orders are filled correctly, \n",
    "we need to find out 1 - Probability of upto 1 failure"
   ]
  },
  {
   "cell_type": "code",
   "execution_count": 22,
   "metadata": {
    "collapsed": true
   },
   "outputs": [],
   "source": [
    "cumbinomial = stats.binom.cdf(k,n,p)"
   ]
  },
  {
   "cell_type": "code",
   "execution_count": 23,
   "metadata": {},
   "outputs": [
    {
     "name": "stdout",
     "output_type": "stream",
     "text": [
      "[0.00229997 0.04767206 0.34602797 1.        ]\n"
     ]
    }
   ],
   "source": [
    "print(cumbinomial)"
   ]
  },
  {
   "cell_type": "code",
   "execution_count": 24,
   "metadata": {},
   "outputs": [
    {
     "name": "stdout",
     "output_type": "stream",
     "text": [
      "c) atleast two of the three orders are filled correctly? is 0.9523\n"
     ]
    }
   ],
   "source": [
    "P = 1 - cumbinomial[1]\n",
    "print('c) atleast two of the three orders are filled correctly? is %1.4f' % P)"
   ]
  },
  {
   "cell_type": "code",
   "execution_count": 25,
   "metadata": {},
   "outputs": [
    {
     "name": "stdout",
     "output_type": "stream",
     "text": [
      "mean and standard deviation of the orders filled correctly are 2.6040 and  0.5863 respectively\n"
     ]
    }
   ],
   "source": [
    "# d) what is the mean and standard deviation of the orders filled correctly?\n",
    "p    = 0.868\n",
    "n    = 3\n",
    "mean = n* p # = 3 * 0.868\n",
    "sd   = np.sqrt(n * p * (1 - p))\n",
    "print('mean and standard deviation of the orders filled correctly are %1.4f and  %1.4f respectively' % (mean, sd))"
   ]
  },
  {
   "cell_type": "markdown",
   "metadata": {},
   "source": [
    "**Plot  the binomial distribution function**"
   ]
  },
  {
   "cell_type": "code",
   "execution_count": 26,
   "metadata": {},
   "outputs": [
    {
     "data": {
      "image/png": "[encoded data removed]",
      "text/plain": [
       "<matplotlib.figure.Figure at 0x237a2234080>"
      ]
     },
     "metadata": {},
     "output_type": "display_data"
    }
   ],
   "source": [
    "plt.plot(k,binomial, 'o-')\n",
    "plt.title('Binomial')\n",
    "plt.xlabel('Number of Orders filled correctly')\n",
    "plt.ylabel('Prob of Orders filled correctly')\n",
    "plt.show()"
   ]
  },
  {
   "cell_type": "markdown",
   "metadata": {},
   "source": [
    "**Exercise 1**\n",
    "\n",
    "You and your two friends go to Pizza Hut which recently filled approximately 88.3% of the orders correctly. What is the probability that?"
   ]
  },
  {
   "cell_type": "markdown",
   "metadata": {},
   "source": [
    "* a. all three orders will be filled correctly?\n",
    "* b. none of orders will be filled correctly?\n",
    "* c. at least two of three orders will be filled correctly?\n",
    "* d. What are the mean and standard deviation of the orders filled correctly?\n",
    "\n",
    "**Hint:** \n",
    "Mean and standard deviation of binomial distribution:\n",
    "* $\\mu     = n\\pi$ \n",
    "* $\\sigma  = \\sqrt{n\\pi(1-\\pi)}$ \n",
    "where n is the size of the sample and $\\pi$ is the probability of the event of interest"
   ]
  },
  {
   "cell_type": "markdown",
   "metadata": {
    "collapsed": true
   },
   "source": [
    "**Poisson distribution**"
   ]
  },
  {
   "cell_type": "markdown",
   "metadata": {},
   "source": [
    "* This discrete distribution which also plays a major role in quality control. \n",
    "\n",
    "* This usually applies to the number of events randomly occurring within a specified period of time or space. In such areas of opportunity, there can be more than one occurrence. In such situations, Poisson distribution can be used to compute probabilities.\n",
    "\n",
    "* Its possible values are all of the non-negative integers: 0, 1, 2, and so on - there is no upper limit. \n",
    "\n",
    "* The Poisson distribution is characterized by a single parameter, usually labelled $\\lambda$, which must be positive.\n",
    "\n",
    "* Examples include number of defects per item, number of defects per transformer produced. \n",
    "\n",
    "\n",
    "* Notes: Poisson Distribution helps to predict the arrival rate in a waiting line situation where a queue is formed and people wait to be served and the service rate is generally higher than the arrival rate.\n",
    "\n",
    "\n",
    "** Typical example of the Poisson distribution:**\n",
    "\n",
    "A bank manager is studying the arrival pattern of the customers to the bank. The events are customer arrivals, the number of arrivals in an hour is Poisson distributed, and the $\\lambda$ represents the expected number of arrivals per hour.\n"
   ]
  },
  {
   "cell_type": "markdown",
   "metadata": {},
   "source": [
    "**Properties:**\n",
    "\n",
    "* Mean                     μ  = λ\n",
    "* Standard deviation       σ  = √ μ\n",
    "* The Poisson distribution is the limit of binomial distribution as n approaches ∞and p approaches 0"
   ]
  },
  {
   "cell_type": "markdown",
   "metadata": {},
   "source": [
    "P(X = x) = $\\frac{e^\\lambda \\lambda^x}{x!} $\n",
    "where \n",
    "* P(x)              = Probability of x successes given an idea of  $\\lambda$\n",
    "* $\\lambda$ = Average number of successes\n",
    "* e                   = 2.71828 (based on natural logarithm)\n",
    "* x                    = successes per unit which can take values 0,1,2,3,... $\\infty$"
   ]
  },
  {
   "cell_type": "markdown",
   "metadata": {},
   "source": [
    "**Applications**\n",
    "\n",
    "1. Car Accidents\n",
    "2. Number of deaths by horse kicking in Prussian Army (first application)\n",
    "3. Birth defects and genetic mutation\n",
    "\n",
    "**Note**\n",
    "\n",
    "* If there is a fixed number of observations, n, each of which is classified as an event of interest or not an event of interest, use the binomial distribution.\n",
    "* If there is an area of opportunity, use the Poisson distribution.\n"
   ]
  },
  {
   "cell_type": "markdown",
   "metadata": {},
   "source": [
    "Some important functions in Python for solving Poisson distribution problems\n",
    "\n",
    "**1) Probability Mass Function**\n",
    "\n",
    "poisson =  scipy.stats.poisson.pmf(n, rate) where n is where n is an array like quantiles and rate is the mean \n",
    "It gives poisson distribution result in the form of an array.\n",
    "\n",
    "**2) Cumulative Density Function**\n",
    "\n",
    "poisson =  scipy.stats.poisson.cdf(n,rate) where n is where n is an array like quantiles and rate is the mean \n",
    "It gives cumulative density function result in the form of an array."
   ]
  },
  {
   "cell_type": "markdown",
   "metadata": {},
   "source": [
    "**Example 3**\n",
    "\n",
    "The number of work-related injuries per month in a manufacturing plant is known to follow a Poisson distribution, with a mean of 2.5 work-related injuries a month. What is the probability that in a given month, a) No work related injuries occur? b) At least one work-related injury occurs?"
   ]
  },
  {
   "cell_type": "markdown",
   "metadata": {},
   "source": [
    "Here, \n",
    "$\\lambda$ = 2.5 injuries"
   ]
  },
  {
   "cell_type": "code",
   "execution_count": 27,
   "metadata": {
    "collapsed": true
   },
   "outputs": [],
   "source": [
    "rate =  2.5 # which is the mean\n",
    "n    =  np.arange(0,20)\n",
    "poisson = stats.poisson.pmf(n,rate)"
   ]
  },
  {
   "cell_type": "code",
   "execution_count": 28,
   "metadata": {},
   "outputs": [
    {
     "data": {
      "text/plain": [
       "array([8.20849986e-02, 2.05212497e-01, 2.56515621e-01, 2.13763017e-01,\n",
       "       1.33601886e-01, 6.68009429e-02, 2.78337262e-02, 9.94061650e-03,\n",
       "       3.10644266e-03, 8.62900738e-04, 2.15725184e-04, 4.90284510e-05,\n",
       "       1.02142606e-05, 1.96428089e-06, 3.50764445e-07, 5.84607408e-08,\n",
       "       9.13449075e-09, 1.34330746e-09, 1.86570481e-10, 2.45487475e-11])"
      ]
     },
     "execution_count": 28,
     "metadata": {},
     "output_type": "execute_result"
    }
   ],
   "source": [
    "poisson"
   ]
  },
  {
   "cell_type": "markdown",
   "metadata": {},
   "source": [
    "The result, poisson is an array of probabilities of 0, 1, 2 , .. 19 injuries occurring and shown in the following table:\n",
    "\n",
    "we prepare a table of Count of injuries and probability as follows:\n",
    "\n",
    "| Count of injuries | Probability |\n",
    "| -------- | -------- |\n",
    "| 0 | 0.0820849986 |\n",
    "| 1 | 0.205212497 |\n",
    "| 2 | 0.256515621 |\n",
    "| 3 | 0.213763017 |\n",
    "| 4 | 0.133601886 |\n",
    "| 5 | 0.0668009429 |\n",
    "| 6 | 0.0278337262 |\n",
    "| 7 | 0.00994061650 |\n",
    "| 8 | 0.00310644266 |\n",
    "| 9 | 0.000862900738 |\n",
    "| 10 | 0.000215725184 |\n",
    "| 11 | 0.0000490284510 |\n",
    "| 12 | 0.0000102142606 |\n",
    "| 13 | 0.00000196428089 |\n",
    "| 14 | 0.000000350764445 |\n",
    "| 15 | 0.0000000584607408 |\n",
    "| 16 | 0.00000000913449075 | \n",
    "| 17 | 0.00000000134330746 | \n",
    "| 18 | 0.000000000186570481 | \n",
    "| 19 | 0.0000000000245487475 |\n",
    "\n",
    "The poisson probability refers to the probability that a poisson experiment results in exactly x defects.\n",
    "\n",
    "So Probability that No work related injuries occur is given in the first row of the above table as 0.0820849986\n",
    "\n"
   ]
  },
  {
   "cell_type": "code",
   "execution_count": 29,
   "metadata": {},
   "outputs": [
    {
     "name": "stdout",
     "output_type": "stream",
     "text": [
      " a) Probability that No work related injuries occur is 0.0821\n"
     ]
    }
   ],
   "source": [
    "print(' a) Probability that No work related injuries occur is %1.4f' % poisson[0])"
   ]
  },
  {
   "cell_type": "markdown",
   "metadata": {},
   "source": [
    "To calculate the probability that at least one work-related injury occurs, we need to subtract probability of no work related injury from 1."
   ]
  },
  {
   "cell_type": "code",
   "execution_count": 30,
   "metadata": {},
   "outputs": [
    {
     "name": "stdout",
     "output_type": "stream",
     "text": [
      " b) Probability that that at least one work-related injury occurs is 0.9179\n"
     ]
    }
   ],
   "source": [
    "# P = probability that at least one work-related injury occurs\n",
    "P   = 1 - poisson[0]\n",
    "print(' b) Probability that that at least one work-related injury occurs is %1.4f' % P)"
   ]
  },
  {
   "cell_type": "markdown",
   "metadata": {},
   "source": [
    "**Plot the Poisson distribution function**"
   ]
  },
  {
   "cell_type": "code",
   "execution_count": 31,
   "metadata": {},
   "outputs": [
    {
     "data": {
      "image/png": "[encoded data removed]",
      "text/plain": [
       "<matplotlib.figure.Figure at 0x237a22da3c8>"
      ]
     },
     "metadata": {},
     "output_type": "display_data"
    }
   ],
   "source": [
    "plt.plot(n,poisson, 'o-')\n",
    "plt.title('Poisson')\n",
    "plt.xlabel('Number of Work related injuries')\n",
    "plt.ylabel('Prob of Work related injuries')\n",
    "plt.show()"
   ]
  },
  {
   "cell_type": "markdown",
   "metadata": {},
   "source": [
    "**Example 4**\n",
    "\n",
    "A Life Insurance agent sells on the average 3 life insurance policies per week. \n",
    "Use the Poisson law to calculate the probability that in a given week, he will sell\n",
    "a. Some policies\n",
    "b. 2 or more but less than 5 policies?"
   ]
  },
  {
   "cell_type": "markdown",
   "metadata": {},
   "source": [
    "Here $\\lambda$ = 3"
   ]
  },
  {
   "cell_type": "code",
   "execution_count": 32,
   "metadata": {
    "collapsed": true
   },
   "outputs": [],
   "source": [
    "rate =  3 # which is the mean\n",
    "n    =  np.arange(0,16)\n",
    "cumpoisson = stats.poisson.cdf(n,rate)"
   ]
  },
  {
   "cell_type": "code",
   "execution_count": 33,
   "metadata": {},
   "outputs": [
    {
     "data": {
      "text/plain": [
       "array([0.04978707, 0.19914827, 0.42319008, 0.64723189, 0.81526324,\n",
       "       0.91608206, 0.96649146, 0.9880955 , 0.99619701, 0.99889751,\n",
       "       0.99970766, 0.99992861, 0.99998385, 0.9999966 , 0.99999933,\n",
       "       0.99999988])"
      ]
     },
     "execution_count": 33,
     "metadata": {},
     "output_type": "execute_result"
    }
   ],
   "source": [
    "cumpoisson"
   ]
  },
  {
   "cell_type": "markdown",
   "metadata": {},
   "source": [
    "The cumulative poisson probability refers to the probability that a poisson random variable falls within a specified range.\n",
    "\n",
    "From the above result, we prepare a table of Cumulative count of Life Insurance Policies sold and probability as follows:\n",
    "\n",
    "| Cumulative count of Life Insurance Policies sold | Probability |\n",
    "| -------- | -------- |\n",
    "| Upto 0 | 0.04978707 | \n",
    "| Upto 1 | 0.19914827 |\n",
    "| Upto 2 | 0.42319008 |\n",
    "| Upto 3 | 0.64723189 |\n",
    "| Upto 4 | 0.81526324 |\n",
    "| Upto 5 | 0.91608206 |\n",
    "| Upto 6 | 0.96649146 |\n",
    "| Upto 7 | 0.9880955  |\n",
    "| Upto 8 | 0.99619701 |\n",
    "| Upto 9 | 0.99889751 |\n",
    "| Upto 10 | 0.99970766 |\n",
    "| Upto 11 | 0.99992861 |\n",
    "| Upto 12 | 0.99998385 |\n",
    "| Upto 13 | 0.9999966 | \n",
    "| Upto 14 | 0.99999933 |\n",
    "| Upto 15 | 0.99999988 |"
   ]
  },
  {
   "cell_type": "markdown",
   "metadata": {},
   "source": [
    "For finding the probability that the agent sells some policies, you need to find out the probability of selling policies above 0.\n",
    "Probability of selling 0 policies is given in the first row as 0.04978707. \n",
    "When you subtract the same from 1, you get the probability of selling more than 0 policies which is 1 - 0.04978707 or approximately 0.9502."
   ]
  },
  {
   "cell_type": "code",
   "execution_count": 34,
   "metadata": {},
   "outputs": [
    {
     "name": "stdout",
     "output_type": "stream",
     "text": [
      " a) Probability that the agent sells some policies is 0.9502\n"
     ]
    }
   ],
   "source": [
    "# P = probability that the agent sells some policies\n",
    "P   = 1 - cumpoisson[0]\n",
    "print(' a) Probability that the agent sells some policies is %1.4f' % P)"
   ]
  },
  {
   "cell_type": "markdown",
   "metadata": {},
   "source": [
    " b. Agent sells 2 or more but less than 5 policies "
   ]
  },
  {
   "cell_type": "code",
   "execution_count": 35,
   "metadata": {},
   "outputs": [
    {
     "name": "stdout",
     "output_type": "stream",
     "text": [
      " b) Probability that the agent sells between 2 and 5 policies is 0.6161\n"
     ]
    }
   ],
   "source": [
    "# Let P1 be the probability that the agent sells more than 4 policies\n",
    "P1 = cumpoisson[4] # P(X >=4)\n",
    "# Let P2 be the probability that the agent sells more than 1 policy\n",
    "P2 = cumpoisson[1] # P(X >=1)\n",
    "P = P1 - P2 # Prob. that the agent will sell between 2 and 5 policies\n",
    "print(' b) Probability that the agent sells between 2 and 5 policies is %1.4f' % P)"
   ]
  },
  {
   "cell_type": "markdown",
   "metadata": {},
   "source": [
    "**Plot the Poisson distribution function**"
   ]
  },
  {
   "cell_type": "code",
   "execution_count": 36,
   "metadata": {},
   "outputs": [
    {
     "data": {
      "image/png": "[encoded data removed]",
      "text/plain": [
       "<matplotlib.figure.Figure at 0x237a243f550>"
      ]
     },
     "metadata": {},
     "output_type": "display_data"
    }
   ],
   "source": [
    "poisson = stats.poisson.pmf(n,rate)\n",
    "plt.plot(n,poisson, 'o-')\n",
    "plt.title('Poisson')\n",
    "plt.xlabel('Number of Policies sold per week')\n",
    "plt.ylabel('Cumulative Prob of Policies sold per week')\n",
    "plt.show()"
   ]
  },
  {
   "cell_type": "markdown",
   "metadata": {},
   "source": [
    "**Exercise 2**\n",
    "\n",
    "** Refer to Example 4. What is the probability that the Agent will sell**\n",
    "* a. At least 4 policies\n",
    "* b. Exactly 4 policies"
   ]
  },
  {
   "cell_type": "markdown",
   "metadata": {},
   "source": [
    "**Continuous probability distribution**\n",
    "\n",
    "**Normal Distribution**"
   ]
  },
  {
   "cell_type": "markdown",
   "metadata": {},
   "source": [
    "* It is the characterized by a symmetric bell-shaped curve and is the corner stone of statistical theory. \n",
    "* It is one of the most popular continuous distribution in Analytics field.\n",
    "* Normal distribution is observed across many naturally occurring measures such as birth weight, height and intelligence etc.\n",
    "* Normal distribution is a two-parameter family where the two parameters are the mean and standard deviation.\n",
    "* The linear combination of two independent random variables having a normal distribution also has a normal distribution. This is very useful in analytics.\n",
    "* By changing the mean, normal curve shifts to the right or left.\n",
    "* By changing the standard deviation, normal curve more or less spread out."
   ]
  },
  {
   "cell_type": "markdown",
   "metadata": {},
   "source": [
    "** Probability Density Function**\n",
    "\n",
    "The normal distribution is a continuous distribution with possible values ranging over minus infinity to plus infinity. "
   ]
  },
  {
   "cell_type": "markdown",
   "metadata": {},
   "source": [
    "f(x) = $\\frac {1}{\\sigma\\sqrt(2 \\pi)} e^\\frac {-(x-\\mu^2)}{2\\sigma^2}$"
   ]
  },
  {
   "cell_type": "markdown",
   "metadata": {},
   "source": [
    "Where\n",
    "* f(x) is used to represent a probability density function\n",
    "* x is any value of the continuous variable, where -∞ < x < ∞\n",
    "* e denotes the mathematical constant approximated by 2.71828\n",
    "* Π is a mathematical constant approximated by 3.14159\n",
    "* μ and σ are the mean and standard deviation of the normal distribution\n"
   ]
  },
  {
   "cell_type": "markdown",
   "metadata": {},
   "source": [
    "For a continuous function, the probability density function is the probability that the value has the value x. \n",
    "Since for continuous distributions the probability at a single point is zero, this is expressed in terms of an integral of its probability density function\n",
    "P(X<= x) = F(x) = \n",
    "$\\int_{-\\infty}^xf(t)dt$"
   ]
  },
  {
   "cell_type": "markdown",
   "metadata": {},
   "source": [
    "**Several normal density functions**\n",
    "\n",
    "Let us plot various histograms with various mean values ranging from -2 to 1 and standard deviation with values 1 and 2.\n",
    "\n",
    "We use the notation N(μ, σ) to denote the normal distribution with a mean μ and standard deviation σ."
   ]
  },
  {
   "cell_type": "code",
   "execution_count": 37,
   "metadata": {},
   "outputs": [
    {
     "data": {
      "image/png": "[encoded data removed]",
      "text/plain": [
       "<matplotlib.figure.Figure at 0x237a24cb1d0>"
      ]
     },
     "metadata": {},
     "output_type": "display_data"
    },
    {
     "data": {
      "image/png": "[encoded data removed]",
      "text/plain": [
       "<matplotlib.figure.Figure at 0x237a24eeb38>"
      ]
     },
     "metadata": {},
     "output_type": "display_data"
    },
    {
     "data": {
      "image/png": "[encoded data removed]",
      "text/plain": [
       "<matplotlib.figure.Figure at 0x237a25f5f98>"
      ]
     },
     "metadata": {},
     "output_type": "display_data"
    },
    {
     "data": {
      "image/png": "[encoded data removed]",
      "text/plain": [
       "<matplotlib.figure.Figure at 0x237a266cb70>"
      ]
     },
     "metadata": {},
     "output_type": "display_data"
    }
   ],
   "source": [
    "import matplotlib.pyplot as plt\n",
    "import numpy as np\n",
    "import scipy.stats as stats\n",
    "\n",
    "murange   =  range(-2, 2, 1)\n",
    "sdrange   =  range(1, 3, 1)\n",
    "\n",
    "fig       = plt.figure(figsize=(10,5))\n",
    "\n",
    "for mu_i in murange:\n",
    "    \n",
    "    for sd_i in sdrange:\n",
    "        \n",
    "        mu        = mu_i\n",
    "        sd        = sd_i\n",
    "        \n",
    "        label     = 'N(μ = ' + str(mu) +  ', σ = ' + str(sd) + ')'\n",
    "        x         = np.linspace(mu - 3 * sd, mu + 3 * sd, 100)\n",
    "        plt.plot(x, stats.norm.pdf(x, mu, sd), label = label)\n",
    "        plt.title('Histogram for various mean and standard deviation')\n",
    "        plt.legend(loc = 'best')\n",
    "    plt.show()\n"
   ]
  },
  {
   "cell_type": "markdown",
   "metadata": {},
   "source": [
    "The above graph illustrate several normal density functions for different values of μ and σ.\n",
    "\n",
    "We observe the shifting of the curve to the right or left when mean or μ is increased. When standard deviation, σ is small, the curve is more peaked and σ is large the curve is spread out."
   ]
  },
  {
   "cell_type": "markdown",
   "metadata": {},
   "source": [
    "**Standardize normal variable**\n",
    "\n",
    "The standard normal distribution has mean 0 and standard deviation 1 and we denote by N(0,1). This is also referred as Z distribution.\n",
    "\n",
    "**Reason for standardising** is to measure variables with different means and / or standard deviations on a single scale.\n",
    "\n",
    "It is easy to interpret the Z value. It is the number of standard deviations to the right or left of the mean depending on whether Z is positive or negative. \n",
    "\n",
    "For example, is Z score of a employee's salary is 2, the employee's salary is two standard deviations above the mean.\n",
    "\n",
    "Compute Z by subtracting the mean, mu from a normally distributed variable, divide by the standard deviation, sigma.\n",
    "Z = (X - μ) / σ \n",
    "Z is in standard units. \n",
    "Z ~ N(0,1) and the variable, Z always has mean 0 and standard deviation 1"
   ]
  },
  {
   "cell_type": "markdown",
   "metadata": {},
   "source": [
    "Its pdf is given by\n",
    "\n",
    "fZ(z) = $\\frac{1}{ √2Π} {exp \\frac {-z2} {2}}$\n",
    "\n",
    "for all z $\\in R$\n",
    "\n",
    "The (1 / √2Π ) is there to make sure that the area under the PDF is 1."
   ]
  },
  {
   "cell_type": "markdown",
   "metadata": {},
   "source": [
    "* For a normal distribution, mu is the location parameter, which locates (centre) the distribution on the horizontal axis.\n",
    "* Sigma is the scale parameter, which defines the spread of the normal distribution.\n",
    "* Normal distribution has no shape parameter since all the normal distribution curves have bell shape and are symmetrical. "
   ]
  },
  {
   "cell_type": "markdown",
   "metadata": {},
   "source": [
    "**Properties**\n",
    "\n",
    "1. Theoretical normal density functions are defined between -∞ and ∞\n",
    "2. There are two parameters, location (μ which is the mean) and scale (σ which is standard deviation).\n",
    "3. It has a symmetrical (bell shape) around the mean. mean = median = mode\n",
    "4. Areas between specific values are measured in terms of μ and σ\n",
    "5. Any linear transformation if a normal random variable is also normal random variable.\n",
    "6. If X1 is an independent normal random variable with mean μ1 and variance $\\sigma1^2$ and \n",
    "      X2 is another independent normal random variable with mean μ2 and$\\sigma2^2$, \n",
    "then X1 + X2 is also a normal distribution with mean μ1 + μ2 and variance $\\sigma1^2$ + $\\sigma2^2$ "
   ]
  },
  {
   "cell_type": "markdown",
   "metadata": {},
   "source": [
    "| Value of the random variable | Area under the normal distribution (CDF) |\n",
    "| --------------------------------- | --------------------------|\n",
    "| $\\mu - \\sigma \\leq x \\leq \\mu + \\sigma$ | 0.6828 |\n",
    "| $\\mu - 2\\sigma \\leq x \\leq \\mu + 2\\sigma$ | 0.9545 |\n",
    "| $\\mu - 3\\sigma \\leq x \\leq \\mu + 3\\sigma$ | 0.9974 |"
   ]
  },
  {
   "cell_type": "markdown",
   "metadata": {},
   "source": [
    "Some important functions in python for solving Normal Distribution problems\n",
    "\n",
    "**1. Cumulative Density Function (cdf)**\n",
    "\n",
    "1. scipy.stats.norm.cdf(z)                 # Here z is an attribute\n",
    "\n",
    "2. stats.norm.cdf(z2) – stats.norm.cdf(z1) # Here z is an attribute\n",
    "\n",
    "3. stats.norm.isf(0.99) # Inverse Survival function gives the value given a probability"
   ]
  },
  {
   "cell_type": "markdown",
   "metadata": {},
   "source": [
    "**Note**\n",
    "\n",
    "* Use stats.norm.cdf(), for *lesser than* than probabilities such as finding x or Z less than a specified quantity.\n",
    "* Use 1 - stats.norm.cdf(), for *greater than* than probabilities such as finding x or Z more than a specified quantity.\n",
    "* Subtract the two stats.norm.cdf() for *between probabilities*.\n",
    "* If you want a probability such as 0.95 to be in the middle of the interval so that half of the remaining probability (0.025) is in each of the tails. Then the required x can be found with stats.norm.isf(0.975)"
   ]
  },
  {
   "cell_type": "markdown",
   "metadata": {},
   "source": [
    "**Example 5**\n",
    "\n",
    "A survey on use of smart phones in India was conducted and it is observed the smart phone users spend 68 minutes in a day on average in sending messages and the corresponding standard deviation is 12 minutes. \n",
    "\n",
    "* Assume that the time spent in sending messages follows a normal distribution. \n",
    "* a) What proportion of the smart phone users are spending more than 90 minutes in sending messages daily?\n",
    "* b) What proportion of customers are spending less than 20 minutes?\n",
    "* c) What proportion of customers are spending between 50 minutes and 100 minutes?"
   ]
  },
  {
   "cell_type": "code",
   "execution_count": 38,
   "metadata": {
    "collapsed": true
   },
   "outputs": [],
   "source": [
    "mu    = 68 # minutes \n",
    "sigma = 12"
   ]
  },
  {
   "cell_type": "markdown",
   "metadata": {},
   "source": [
    "Compute Z by subtracting the mean, mu from a normally distributed variable, divide by the standard deviation, sigma"
   ]
  },
  {
   "cell_type": "code",
   "execution_count": 39,
   "metadata": {},
   "outputs": [
    {
     "name": "stdout",
     "output_type": "stream",
     "text": [
      " a. Proportion of the smart phone users are spending more than 90 minutes in sending messages daily is 0.0334\n"
     ]
    }
   ],
   "source": [
    "# a. What proportion of the smart phone users are spending more than 90 minutes in sending messages daily?\n",
    "z  = (90 - mu) / sigma # X = 90\n",
    "P  = 1 - stats.norm.cdf(z)\n",
    "print(' a. Proportion of the smart phone users are spending more than 90 minutes in sending messages daily is %1.4f' % P)"
   ]
  },
  {
   "cell_type": "code",
   "execution_count": 40,
   "metadata": {},
   "outputs": [
    {
     "name": "stdout",
     "output_type": "stream",
     "text": [
      " b) What proportion of customers are spending less than 20 minutes is 0.0000317\n"
     ]
    }
   ],
   "source": [
    "# b) What proportion of customers are spending less than 20 minutes?\n",
    "z1  =  (20 - mu) / sigma # X = 20\n",
    "P   =  stats.norm.cdf(z1)\n",
    "print(' b) What proportion of customers are spending less than 20 minutes is %1.7f' % P)\n"
   ]
  },
  {
   "cell_type": "code",
   "execution_count": 41,
   "metadata": {},
   "outputs": [
    {
     "name": "stdout",
     "output_type": "stream",
     "text": [
      " c) proportion of customers are spending between 50 minutes and 100 minutes is 0.9294\n"
     ]
    }
   ],
   "source": [
    "# c) What proportion of customers are spending between 50 minutes and 100 minutes?\n",
    "z1  =  (50 - mu) / sigma   # X = 50\n",
    "z2  =  (100 - mu) / sigma  # X = 100\n",
    "P1   =  stats.norm.cdf(z1)\n",
    "P2   =  stats.norm.cdf(z2)\n",
    "P    =  P2 - P1\n",
    "print(' c) proportion of customers are spending between 50 minutes and 100 minutes is %1.4f' % P)"
   ]
  },
  {
   "cell_type": "markdown",
   "metadata": {},
   "source": [
    "**Example 6**\n",
    "\n",
    "The mean salaries of Data Scientists working in Chennai, India is calculated to be 7,00,000 INR with a standard deviation of 90,000 INR. The random variable salary of Data Scientists follows a normal distribution.\n",
    "\n",
    "* a) What is the probability that a Data Scientist in Chennai has a salary more than 10,00,000 INR?\n",
    "* b) What is the probability that a Data Scientist in Chennai has a salary between 6,00,000 & 9,00,000 INR?\n",
    "* c) What is the probability that a Data Scientist in Chennai has a salary less than 4,00,000 INR?"
   ]
  },
  {
   "cell_type": "code",
   "execution_count": 42,
   "metadata": {
    "collapsed": true
   },
   "outputs": [],
   "source": [
    "# a) What is the probability that a Data Scientist in Chennai has a salary more than 10,00,000 INR?\n",
    "mu    =  700000\n",
    "sigma =  90000\n",
    "z=(1000000-mu) / sigma "
   ]
  },
  {
   "cell_type": "code",
   "execution_count": 43,
   "metadata": {},
   "outputs": [
    {
     "name": "stdout",
     "output_type": "stream",
     "text": [
      " a) Probability that a Data Scientist in Chennai has a salary more than 10,00,000 is 0.0004\n"
     ]
    }
   ],
   "source": [
    "P = 1 - stats.norm.cdf(z)\n",
    "print(' a) Probability that a Data Scientist in Chennai has a salary more than 10,00,000 is %1.4f' % P)"
   ]
  },
  {
   "cell_type": "code",
   "execution_count": 44,
   "metadata": {
    "collapsed": true
   },
   "outputs": [],
   "source": [
    "# b) What is the probability that a Data Scientist in Chennai has a salary between 6,00,000 & 9,00,000 INR?\n",
    "z1= (600000-mu) / sigma\n",
    "z2= (900000-mu) / sigma"
   ]
  },
  {
   "cell_type": "code",
   "execution_count": 45,
   "metadata": {},
   "outputs": [
    {
     "name": "stdout",
     "output_type": "stream",
     "text": [
      " b) probability that a Data Scientist in Chennai has a salary between 6,00,000 & 9,00,000 INR is 0.8536\n"
     ]
    }
   ],
   "source": [
    "P = stats.norm.cdf(z2) - stats.norm.cdf(z1)\n",
    "print(' b) probability that a Data Scientist in Chennai has a salary between 6,00,000 & 9,00,000 INR is %1.4f' % P)"
   ]
  },
  {
   "cell_type": "code",
   "execution_count": 46,
   "metadata": {
    "collapsed": true
   },
   "outputs": [],
   "source": [
    "# c) What is the probability that a Data Scientist in Chennai has a salary less than 4,00,000 INR?\n",
    "z = (400000-mu) / sigma "
   ]
  },
  {
   "cell_type": "code",
   "execution_count": 47,
   "metadata": {},
   "outputs": [
    {
     "name": "stdout",
     "output_type": "stream",
     "text": [
      " c) Probability that a Data Scientist in Chennai has a salary less than 4,00,000 INR is 0.0004\n"
     ]
    }
   ],
   "source": [
    "P = stats.norm.cdf(z)\n",
    "print(' c) Probability that a Data Scientist in Chennai has a salary less than 4,00,000 INR is %1.4f' % P)"
   ]
  },
  {
   "cell_type": "markdown",
   "metadata": {},
   "source": [
    "** Example 7**\n",
    "\n",
    "The fill amount in 2-liter soft drink bottles is normally distributed, with a mean of 2.0 liters and a standard deviation of 0.05 liter. If the bottles contain less than 95% of the listed net content (1.90 liters, in our case), the manufacturer may be subject to penalty by the state office of consumer affairs. Bottles that have a net content above 2.1 liters may cause excess spillage upon opening. What is the proportion of bottles that will contain\n",
    "* a) between 1.9 and 2.0 liters\n",
    "* b) between 1.9 and 2.1 liters\n",
    "* c) below 1.9 liters or above 2.1 liters\n",
    "* d) At least how much soft drink is contained in 99% of the bottles?"
   ]
  },
  {
   "cell_type": "code",
   "execution_count": 48,
   "metadata": {
    "collapsed": true
   },
   "outputs": [],
   "source": [
    "mu     = 2\n",
    "sigma  = 0.05"
   ]
  },
  {
   "cell_type": "markdown",
   "metadata": {},
   "source": [
    "**a. between 1.9 and 2.0 liters**"
   ]
  },
  {
   "cell_type": "code",
   "execution_count": 49,
   "metadata": {},
   "outputs": [
    {
     "name": "stdout",
     "output_type": "stream",
     "text": [
      "Z value for 1.90 liters is -2.0000\n"
     ]
    }
   ],
   "source": [
    "x1   = 1.90\n",
    "z1   = (x1 - mu) /  sigma \n",
    "print(\"Z value for 1.90 liters is %3.4f\" % z1)"
   ]
  },
  {
   "cell_type": "code",
   "execution_count": 50,
   "metadata": {},
   "outputs": [
    {
     "name": "stdout",
     "output_type": "stream",
     "text": [
      "Z value for 2 liters is 0.0000\n"
     ]
    }
   ],
   "source": [
    "x2   = 2\n",
    "z2   = (x2 - mu) /  sigma \n",
    "print(\"Z value for 2 liters is %3.4f\" % z2)"
   ]
  },
  {
   "cell_type": "code",
   "execution_count": 51,
   "metadata": {},
   "outputs": [
    {
     "name": "stdout",
     "output_type": "stream",
     "text": [
      "a.  Proportion of bottles between 1.9 and 2 L is 0.4772\n"
     ]
    }
   ],
   "source": [
    "P  = stats.norm.cdf(z2) - stats.norm.cdf(z1)\n",
    "print(\"a.  Proportion of bottles between 1.9 and 2 L is %3.4f\" % P)"
   ]
  },
  {
   "cell_type": "markdown",
   "metadata": {},
   "source": [
    "**b) between 1.9 and 2.1 liters**"
   ]
  },
  {
   "cell_type": "code",
   "execution_count": 52,
   "metadata": {},
   "outputs": [
    {
     "name": "stdout",
     "output_type": "stream",
     "text": [
      "Z value for 2.1 liters is 2.0000\n"
     ]
    }
   ],
   "source": [
    "x3   = 2.1\n",
    "z3   = (x3 - mu) /  sigma\n",
    "print(\"Z value for 2.1 liters is %3.4f\" % z3)"
   ]
  },
  {
   "cell_type": "code",
   "execution_count": 53,
   "metadata": {},
   "outputs": [
    {
     "name": "stdout",
     "output_type": "stream",
     "text": [
      "b. Proportion of bottles between 1.9 and 2.1 L is 0.9545\n"
     ]
    }
   ],
   "source": [
    "P = stats.norm.cdf(z3) - stats.norm.cdf(z1)\n",
    "print(\"b. Proportion of bottles between 1.9 and 2.1 L is %3.4f\" %P)"
   ]
  },
  {
   "cell_type": "markdown",
   "metadata": {},
   "source": [
    "**c. below 1.9 liters or above 2.1 liters**"
   ]
  },
  {
   "cell_type": "code",
   "execution_count": 54,
   "metadata": {},
   "outputs": [
    {
     "name": "stdout",
     "output_type": "stream",
     "text": [
      "c. below 1.9 liters or above 2.1 liters is  0.0455\n"
     ]
    }
   ],
   "source": [
    "P1  =  stats.norm.cdf(z1)\n",
    "P2  =  1 - stats.norm.cdf(z3)\n",
    "print(\"c. below 1.9 liters or above 2.1 liters is  %3.4f\" % (P1 + P2))"
   ]
  },
  {
   "cell_type": "markdown",
   "metadata": {},
   "source": [
    "**d) At least how much soft drink is contained in 99% of the bottles?**"
   ]
  },
  {
   "cell_type": "code",
   "execution_count": 55,
   "metadata": {},
   "outputs": [
    {
     "name": "stdout",
     "output_type": "stream",
     "text": [
      "d. At least how much soft drink is contained in 99 percent of the bottles is  1.8837 Liters\n"
     ]
    }
   ],
   "source": [
    "# Here we need to find the vol\n",
    "P = stats.norm.isf(q = 0.99, loc = mu, scale = sigma)\n",
    "print(\"d. At least how much soft drink is contained in 99 percent of the bottles is  %4.4f Liters\" % P)"
   ]
  },
  {
   "cell_type": "markdown",
   "metadata": {},
   "source": [
    "** Exercise 3**\n",
    "\n",
    "The following table contains the overall miles per Gallon (MPG) of 2017 small SUVs ( n =40).\n",
    "Decide whether the data appears to be normally distributed by\n",
    "* a. Mean and median "
   ]
  },
  {
   "cell_type": "code",
   "execution_count": 56,
   "metadata": {},
   "outputs": [
    {
     "name": "stdout",
     "output_type": "stream",
     "text": [
      "[19 20 20 20 21 19 21 19 21 20 20 20 19 21 21 22 20 22 20 20 22 20 22 21\n",
      " 19 19 20 20 21 20 19 18 20 21 21 20 21 21 20 21]\n"
     ]
    }
   ],
   "source": [
    "mpg = np.array([19, 20, 20, 20, 21, 19, 21, 19, 21, 20, 20, 20, 19, 21, 21, 22, 20, 22, 20, 20, 22, 20, 22, 21, 19,\n",
    "                             19, 20, 20, 21, 20, 19, 18, 20, 21, 21, 20, 21, 21, 20,  21])\n",
    "print(mpg)"
   ]
  },
  {
   "cell_type": "markdown",
   "metadata": {},
   "source": [
    "Hint: Use np.median(mpg) to calculate median and mpg.mean() to calculate mean"
   ]
  },
  {
   "cell_type": "code",
   "execution_count": 57,
   "metadata": {},
   "outputs": [
    {
     "data": {
      "image/png": "[encoded data removed]",
      "text/plain": [
       "<matplotlib.figure.Figure at 0x237a26346a0>"
      ]
     },
     "metadata": {},
     "output_type": "display_data"
    }
   ],
   "source": [
    "fig, ax = plt.subplots()\n",
    "pd.DataFrame(mpg).plot.kde(ax=ax, legend=False)\n",
    "pd.DataFrame(mpg).plot.hist(density=True, ax=ax)\n",
    "plt.show()"
   ]
  },
  {
   "cell_type": "markdown",
   "metadata": {},
   "source": [
    "* b. From the above plot, do you think the data is normally distributed?"
   ]
  },
  {
   "cell_type": "markdown",
   "metadata": {},
   "source": [
    "** Exercise 4 **\n",
    "\n",
    "**The mean weight of a morning breakfast cereal pack is 0.295 kg with a standard deviation of 0.025 kg. The random variable weight of the pack follows a normal distribution. **\n",
    "\n",
    "* a. What is the probability that the pack weighs less than 0.280 kg?\n",
    "* b. What is the probability that the pack weighs more than 0.350 kg? \n",
    "* c. What is the probability that the pack weighs between 0.260 kg to 0.340 kg? \n"
   ]
  },
  {
   "cell_type": "markdown",
   "metadata": {},
   "source": [
    "**Exercise 5*\n",
    "\n",
    "If X is a random variable that follows normal distribution, then 5X + 40 is a**\n",
    "* a. Chi-square distribution\n",
    "* b. Poisson distribution\n",
    "* c. Binomial distribution\n",
    "* d. Normal distribution"
   ]
  },
  {
   "cell_type": "markdown",
   "metadata": {},
   "source": [
    "** Exercise 6**\n",
    "\n",
    "The number of warranty claims received at an Electronic equipment manufacturer follows a Poisson distribution with a rate of 10 per day. ** \n",
    "Calculate the following:\n",
    "* a. The probability that the warranty claims is below 5 on a given day.\n",
    "* b. The probability that the warranty claims will exceed 10 on a given day."
   ]
  },
  {
   "cell_type": "markdown",
   "metadata": {},
   "source": [
    "**Exercise 7**\n",
    "\n",
    "Refer to example 7. What is the proportion of bottles that will contain\n",
    "\n",
    "* a) below 1.96 liters or above 2.2 liters\n",
    "* b) At least how much soft drink is contained in 90% of the bottles?"
   ]
  },
  {
   "cell_type": "markdown",
   "metadata": {},
   "source": [
    "** END of Chapter **"
   ]
  }
 ],
 "metadata": {
  "kernelspec": {
   "display_name": "Python 3",
   "language": "python",
   "name": "python3"
  },
  "language_info": {
   "codemirror_mode": {
    "name": "ipython",
    "version": 3
   },
   "file_extension": ".py",
   "mimetype": "text/x-python",
   "name": "python",
   "nbconvert_exporter": "python",
   "pygments_lexer": "ipython3",
   "version": "3.6.3"
  }
 },
 "nbformat": 4,
 "nbformat_minor": 2
}
