{
 "cells": [
  {
   "cell_type": "markdown",
   "metadata": {},
   "source": [
    "## Data transformation"
   ]
  },
  {
   "cell_type": "markdown",
   "metadata": {},
   "source": [
    "* Logarithms:  When data such as Growth rate is exponential, log transforms will often normalize them. Log transforms are particularly appropriate if the variance increases with the mean.\n",
    "* Reciprocal: If a log transform does not normalize the data, try reciprocal  (1/x) transformation. Example: Enzyme reaction rate.\n",
    "* Square root: When the data contains counts such as number of insects in the garden, try square root transformation. This will convert data with Poisson distribution to a normal distribution.\n",
    "* Arcsine: This transformation is useful when the data contains percentages and proportions.\n",
    "\n",
    "For more details, please refer to http://rogeriofvieira.com/wp-content/uploads/2016/05/Data-Transformations-1.pdf"
   ]
  },
  {
   "cell_type": "code",
   "execution_count": 1,
   "metadata": {
    "collapsed": true
   },
   "outputs": [],
   "source": [
    "import pandas            as pd\n",
    "import numpy             as np\n",
    "import matplotlib.pyplot as plt\n",
    "import seaborn           as sns\n",
    "import scipy.stats       as stats\n",
    "\n",
    "%matplotlib inline"
   ]
  },
  {
   "cell_type": "code",
   "execution_count": 2,
   "metadata": {
    "collapsed": true
   },
   "outputs": [],
   "source": [
    "income = [580, 647, 134, 270, 747, 798, 345, 648, 227, 257, 369, 992, 958, 921, 39, 643, 358,\\\n",
    "          323, 533,  59, 290, 157, 333, 282, 634,  49, 573,  81, 244, 737, 694, 521, 553, 121,\\\n",
    "          729, 659,  89,  18, 213, 952]\n",
    "\n",
    "ID     = range(0,40,1)\n",
    "income_df = pd.DataFrame({'ID':ID, 'Income':income})"
   ]
  },
  {
   "cell_type": "code",
   "execution_count": 3,
   "metadata": {},
   "outputs": [
    {
     "data": {
      "text/html": [
       "<div>\n",
       "<style scoped>\n",
       "    .dataframe tbody tr th:only-of-type {\n",
       "        vertical-align: middle;\n",
       "    }\n",
       "\n",
       "    .dataframe tbody tr th {\n",
       "        vertical-align: top;\n",
       "    }\n",
       "\n",
       "    .dataframe thead th {\n",
       "        text-align: right;\n",
       "    }\n",
       "</style>\n",
       "<table border=\"1\" class=\"dataframe\">\n",
       "  <thead>\n",
       "    <tr style=\"text-align: right;\">\n",
       "      <th></th>\n",
       "      <th>ID</th>\n",
       "      <th>Income</th>\n",
       "    </tr>\n",
       "  </thead>\n",
       "  <tbody>\n",
       "    <tr>\n",
       "      <th>0</th>\n",
       "      <td>0</td>\n",
       "      <td>580</td>\n",
       "    </tr>\n",
       "    <tr>\n",
       "      <th>1</th>\n",
       "      <td>1</td>\n",
       "      <td>647</td>\n",
       "    </tr>\n",
       "    <tr>\n",
       "      <th>2</th>\n",
       "      <td>2</td>\n",
       "      <td>134</td>\n",
       "    </tr>\n",
       "    <tr>\n",
       "      <th>3</th>\n",
       "      <td>3</td>\n",
       "      <td>270</td>\n",
       "    </tr>\n",
       "    <tr>\n",
       "      <th>4</th>\n",
       "      <td>4</td>\n",
       "      <td>747</td>\n",
       "    </tr>\n",
       "  </tbody>\n",
       "</table>\n",
       "</div>"
      ],
      "text/plain": [
       "   ID  Income\n",
       "0   0     580\n",
       "1   1     647\n",
       "2   2     134\n",
       "3   3     270\n",
       "4   4     747"
      ]
     },
     "execution_count": 3,
     "metadata": {},
     "output_type": "execute_result"
    }
   ],
   "source": [
    "income_df.head()"
   ]
  },
  {
   "cell_type": "markdown",
   "metadata": {},
   "source": [
    "Let us understand the data in terms of its structure including dimension, type etc."
   ]
  },
  {
   "cell_type": "code",
   "execution_count": 4,
   "metadata": {},
   "outputs": [
    {
     "name": "stdout",
     "output_type": "stream",
     "text": [
      "(40, 2)\n"
     ]
    }
   ],
   "source": [
    "print(income_df.shape)"
   ]
  },
  {
   "cell_type": "code",
   "execution_count": 5,
   "metadata": {},
   "outputs": [
    {
     "data": {
      "image/png": "[encoded data removed]",
      "text/plain": [
       "<matplotlib.figure.Figure at 0x159b6951940>"
      ]
     },
     "metadata": {},
     "output_type": "display_data"
    }
   ],
   "source": [
    "mean_income    = income_df['Income'].mean()\n",
    "median_income  = income_df['Income'].median()\n",
    "\n",
    "ax = income_df['Income'].hist(figsize = (6,4))\n",
    "plt.axvline(mean_income, color='r', linestyle='dashed', linewidth=2, label = 'Mean')\n",
    "plt.axvline(median_income , color='b', linestyle='dotted', linewidth=2, label = 'Median')\n",
    "plt.title('\\nHistogram of income in \\$1000\\'s\\n' + ' Mean = ' + str(round(mean_income,2)) + '\\n Median = ' + \\\n",
    "          str(round(median_income,2)))\n",
    "max_range = np.max(income)\n",
    "plt.legend()\n",
    "plt.show()"
   ]
  },
  {
   "cell_type": "markdown",
   "metadata": {},
   "source": [
    "We observe that the data is skewed to the right since median (363.5) < mean (444.43).\n",
    "Is it because of the fact that income of some participants are higher than the rest? \n",
    "\n",
    "Let us test formally the normality!!\n",
    "\n",
    "The Shapiro-Wilk test tests the null hypothesis that the data was drawn from a normal distribution.\n",
    "In our case, the income data was drawn from a normal distribution.\n",
    "\n",
    "* Null hypothesis       : $H~0~$ : Income data is drawn from a normal distribution\n",
    "* Alternative hypothesis: $H~A~$ : Income data is not drawn from a normal distribution        "
   ]
  },
  {
   "cell_type": "code",
   "execution_count": 6,
   "metadata": {},
   "outputs": [
    {
     "name": "stdout",
     "output_type": "stream",
     "text": [
      "(0.9429910778999329, 0.04365506023168564)\n"
     ]
    }
   ],
   "source": [
    "st = stats.shapiro(income_df['Income'])\n",
    "print(st)"
   ]
  },
  {
   "cell_type": "markdown",
   "metadata": {},
   "source": [
    "### Inference\n",
    "\n",
    "Since the p value < 0.05, we reject at 5% level, we have evidence to reject the null hypothesis and conclude that the data is not drawn from a normal population."
   ]
  },
  {
   "cell_type": "markdown",
   "metadata": {},
   "source": [
    "If your data distribution is\n",
    "Try this transformation method. \n",
    "\n",
    "| When | What |\n",
    "| ----------------- | ------------------------------------------- |\n",
    "| Moderately positive skewness | Square-Root               NEWX = np.sqrtSQRT(X) |\n",
    "| Substantially positive skewness | Logarithmic (Log 10)   NEWX = np.log10(X)  | \n",
    "| Substantially positive skewness (with zero values) | Logarithmic (Log 10)   NEWX = np.log10(X + C) |\n",
    "| Moderately negative skewness | Square-Root   NEWX = np.sqrt(K – X) |\n",
    "| Substantially negative skewness | Logarithmic (Log 10)   NEWX = log10(K – X) |\n",
    " "
   ]
  },
  {
   "cell_type": "markdown",
   "metadata": {},
   "source": [
    "Examples:\n",
    "\n",
    "* Poitive skewness: Salary of persons employed in private companes in India\n",
    "* Negative skewness: Grade point average of college students\n"
   ]
  },
  {
   "cell_type": "code",
   "execution_count": 7,
   "metadata": {
    "collapsed": true
   },
   "outputs": [],
   "source": [
    "new_income = np.sqrt(income_df['Income'])"
   ]
  },
  {
   "cell_type": "code",
   "execution_count": 8,
   "metadata": {},
   "outputs": [
    {
     "name": "stdout",
     "output_type": "stream",
     "text": [
      "count    40.000000\n",
      "mean     19.686767\n",
      "std       7.636364\n",
      "min       4.242641\n",
      "25%      14.948519\n",
      "50%      19.065130\n",
      "75%      25.509632\n",
      "max      31.496031\n",
      "Name: Income, dtype: float64\n"
     ]
    },
    {
     "data": {
      "image/png": "[encoded data removed]",
      "text/plain": [
       "<matplotlib.figure.Figure at 0x159b6951588>"
      ]
     },
     "metadata": {},
     "output_type": "display_data"
    }
   ],
   "source": [
    "mean_income    = new_income.mean()\n",
    "median_income  = new_income.median()\n",
    "ax             = new_income.hist(figsize = (8,4), xrot = 90)\n",
    "print(new_income.describe())\n",
    "ax.axvline(mean_income, color = 'r', linestyle = 'dashed', linewidth = 2, label = 'Mean')\n",
    "ax.axvline(median_income, color = 'b', linestyle = 'dotted', linewidth = 2, label = 'Median')\n",
    "plt.title('\\nHistogram of log10 of income of participants in \\$1000\\'s\\n' + ' Mean = ' + str(round(mean_income,2)) + '\\n Median = ' + \\\n",
    "          str(round(median_income,2)))\n",
    "plt.legend()\n",
    "plt.show()"
   ]
  },
  {
   "cell_type": "code",
   "execution_count": 9,
   "metadata": {},
   "outputs": [
    {
     "name": "stdout",
     "output_type": "stream",
     "text": [
      "\n",
      "P value is 0.102675\n"
     ]
    }
   ],
   "source": [
    "st        = stats.shapiro(new_income)\n",
    "print('\\nP value is %f'%st[1])"
   ]
  },
  {
   "cell_type": "markdown",
   "metadata": {
    "collapsed": true
   },
   "source": [
    "### Inference\n",
    "\n",
    "Since the p value is > 0.05, at 5% level of significance, we failt to reject the null hypothesis that the income data is normally distributed."
   ]
  },
  {
   "cell_type": "code",
   "execution_count": 10,
   "metadata": {},
   "outputs": [
    {
     "name": "stdout",
     "output_type": "stream",
     "text": [
      "   ID  gpa\n",
      "0   0  2.6\n",
      "1   1  2.8\n",
      "2   2  3.8\n",
      "3   3  4.0\n",
      "4   4  4.0\n"
     ]
    }
   ],
   "source": [
    "gpa    = [2.6, 2.8, 3.8, 4, 4, 3.25, 3.95, 2.96, 3.2, 3.4, 4, 3.5, 4, 3.7, 3.3, 2.05, 3.85, 2.4, 3.7, 3.0, 3.1, 4.2, 2.1, 3.9, 3.0, 3.2, 3.3, 3.5, 1,  2.8]\n",
    "ID     =  range(0,30,1)\n",
    "gpa_df = pd.DataFrame({'ID' : ID, 'gpa' : gpa})\n",
    "print(gpa_df.head())"
   ]
  },
  {
   "cell_type": "code",
   "execution_count": 11,
   "metadata": {},
   "outputs": [
    {
     "data": {
      "text/plain": [
       "30"
      ]
     },
     "execution_count": 11,
     "metadata": {},
     "output_type": "execute_result"
    }
   ],
   "source": [
    "len(gpa)"
   ]
  },
  {
   "cell_type": "code",
   "execution_count": 12,
   "metadata": {},
   "outputs": [
    {
     "data": {
      "image/png": "[encoded data removed]",
      "text/plain": [
       "<matplotlib.figure.Figure at 0x159b8babef0>"
      ]
     },
     "metadata": {},
     "output_type": "display_data"
    }
   ],
   "source": [
    "mean_gpa    = gpa_df['gpa'].mean()\n",
    "median_gpa  = gpa_df['gpa'].median()\n",
    "\n",
    "ax          = gpa_df['gpa'].hist(figsize = (6,4))\n",
    "plt.axvline(mean_gpa, color='r', linestyle='dashed', linewidth=2, label = 'Mean')\n",
    "plt.axvline(median_gpa , color='b', linestyle='dotted', linewidth=2, label = 'Median')\n",
    "plt.title('\\nHistogram of gpa \\n' + ' Mean = ' + str(round(mean_gpa,2)) + '\\n Median = ' + \\\n",
    "          str(round(median_gpa,2)))\n",
    "max_range = np.max(gpa)\n",
    "#plt.set_xticks(range(0,max_range,5))\n",
    "plt.legend()\n",
    "plt.show()"
   ]
  },
  {
   "cell_type": "markdown",
   "metadata": {},
   "source": [
    "We observe that the data is skewed to the left since median (3.3) >  mean (3.25). Is it because of the fact that GPA score of few students are lower than the rest? \n",
    "\n",
    "Let us test formally the normality!!\n",
    "The Shapiro-Wilk test tests the null hypothesis that the data was drawn from a normal distribution. In our case, the GPA  of students was drawn from a normal distribution.\n",
    "\n",
    "* Null hypothesis :       H0 : Income data is drawn from a normal distribution\n",
    "* Alternative hypothesis: HA : Income data is not drawn from a normal distribution "
   ]
  },
  {
   "cell_type": "code",
   "execution_count": 13,
   "metadata": {},
   "outputs": [
    {
     "name": "stdout",
     "output_type": "stream",
     "text": [
      "\n",
      "P Value is 0.013722\n"
     ]
    }
   ],
   "source": [
    "st = stats.shapiro(gpa_df['gpa'])\n",
    "print(\"\\nP Value is %f\" %st[1])"
   ]
  },
  {
   "cell_type": "markdown",
   "metadata": {},
   "source": [
    "Since the p value < 0.05, we reject at 5% level, we have evidence to reject the null hypothesis and conclude that the data is not drawn from a normal population."
   ]
  },
  {
   "cell_type": "markdown",
   "metadata": {},
   "source": [
    "Since the data is moderately negatively skewed, we will try reflected transformation using Square-Root method. "
   ]
  },
  {
   "cell_type": "code",
   "execution_count": 14,
   "metadata": {
    "collapsed": true
   },
   "outputs": [],
   "source": [
    "k = 5\n",
    "new_gpa = np.sqrt(k - gpa_df['gpa'])"
   ]
  },
  {
   "cell_type": "code",
   "execution_count": 15,
   "metadata": {},
   "outputs": [
    {
     "name": "stdout",
     "output_type": "stream",
     "text": [
      "count    30.000000\n",
      "mean      1.297603\n",
      "std       0.257763\n",
      "min       0.894427\n",
      "25%       1.078147\n",
      "50%       1.303840\n",
      "75%       1.424768\n",
      "max       2.000000\n",
      "Name: gpa, dtype: float64\n"
     ]
    },
    {
     "data": {
      "image/png": "[encoded data removed]",
      "text/plain": [
       "<matplotlib.figure.Figure at 0x159b8d0aa90>"
      ]
     },
     "metadata": {},
     "output_type": "display_data"
    }
   ],
   "source": [
    "mean_gpa    = new_gpa.mean()\n",
    "median_gpa  = new_gpa.median()\n",
    "ax          = new_gpa.hist(figsize = (8,4))\n",
    "print(new_gpa.describe())\n",
    "ax.axvline(mean_gpa, color='r', linestyle='dashed', linewidth=2, label = 'Mean')\n",
    "ax.axvline(median_gpa, color='b', linestyle='dotted', linewidth=2, label = 'Median')\n",
    "plt.title('\\nHistogram of reflected tranformation \\n sqrt of gpa of students - 4 \\n' + ' Mean = ' + str(round(mean_gpa,2)) + '\\n Median = ' + \\\n",
    "          str(round(median_gpa,2)))\n",
    "#ax.set_xticks([2.0,2.4,2.6,2.8, 3.0])\n",
    "plt.legend()\n",
    "plt.show()"
   ]
  },
  {
   "cell_type": "code",
   "execution_count": 16,
   "metadata": {},
   "outputs": [
    {
     "name": "stdout",
     "output_type": "stream",
     "text": [
      "\n",
      "P Value is 0.214563\n"
     ]
    }
   ],
   "source": [
    "st = stats.shapiro(new_gpa)\n",
    "print(\"\\nP Value is %f\" %st[1])"
   ]
  },
  {
   "cell_type": "markdown",
   "metadata": {},
   "source": [
    "### Inference\n",
    "\n",
    "Since the p value is > 0.05, at 5% level of significance, we fail to reject the null hypothesis that the income data is normally distributed."
   ]
  },
  {
   "cell_type": "markdown",
   "metadata": {},
   "source": [
    "### END"
   ]
  }
 ],
 "metadata": {
  "kernelspec": {
   "display_name": "Python 3",
   "language": "python",
   "name": "python3"
  },
  "language_info": {
   "codemirror_mode": {
    "name": "ipython",
    "version": 3
   },
   "file_extension": ".py",
   "mimetype": "text/x-python",
   "name": "python",
   "nbconvert_exporter": "python",
   "pygments_lexer": "ipython3",
   "version": "3.6.3"
  }
 },
 "nbformat": 4,
 "nbformat_minor": 2
}
