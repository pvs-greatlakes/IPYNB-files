{
 "cells": [
  {
   "cell_type": "code",
   "execution_count": 13,
   "metadata": {},
   "outputs": [],
   "source": [
    "import tkinter as tk\n",
    "from tkinter import filedialog\n",
    "import pandas as pd\n",
    "from pandas import DataFrame\n",
    "import matplotlib.pyplot as plt\n",
    "from sklearn.cluster import KMeans\n",
    "from matplotlib.backends.backend_tkagg import FigureCanvasTkAgg\n",
    "global df\n",
    "root= tk.Tk()\n",
    "\n",
    "canvas1 = tk.Canvas(root, width = 400, height = 300,  relief = 'raised')\n",
    "canvas1.pack()\n",
    "\n",
    "label1 = tk.Label(root, text='k-Means Clustering')\n",
    "label1.config(font=('helvetica', 14))\n",
    "canvas1.create_window(200, 25, window=label1)\n",
    "\n",
    "label2 = tk.Label(root, text='Type Number of Clusters:')\n",
    "label2.config(font=('helvetica', 8))\n",
    "canvas1.create_window(200, 120, window=label2)\n",
    "\n",
    "entry1 = tk.Entry (root) \n",
    "canvas1.create_window(200, 140, window=entry1)\n",
    "\n",
    "def getExcel ():\n",
    "    global df\n",
    "    import_file_path = filedialog.askopenfilename()\n",
    "    read_file = pd.read_csv(import_file_path)\n",
    "    df = DataFrame(read_file, columns=['x','y'])  \n",
    "    \n",
    "browseButtonExcel = tk.Button(text=\" Import Excel File \", command=getExcel, bg='green', fg='white', font=('helvetica', 10, 'bold'))\n",
    "canvas1.create_window(200, 70, window=browseButtonExcel)\n",
    "\n",
    "def getKMeans ():\n",
    "    global df\n",
    "    global numberOfClusters\n",
    "    numberOfClusters = int(entry1.get())\n",
    "    \n",
    "    kmeans = KMeans(n_clusters=numberOfClusters).fit(df)\n",
    "    centroids = kmeans.cluster_centers_\n",
    "    \n",
    "    label3 = tk.Label(root, text= centroids)\n",
    "    canvas1.create_window(200, 250, window=label3)\n",
    "    \n",
    "    figure1 = plt.Figure(figsize=(4,3), dpi=100)\n",
    "    ax1 = figure1.add_subplot(111)\n",
    "    ax1.scatter(df['x'], df['y'], c= kmeans.labels_.astype(float), s=50, alpha=0.5)\n",
    "    ax1.scatter(centroids[:, 0], centroids[:, 1], c='red', s=50)\n",
    "    scatter1 = FigureCanvasTkAgg(figure1, root) \n",
    "    scatter1.get_tk_widget().pack(side=tk.RIGHT, fill=tk.BOTH)\n",
    "    \n",
    "processButton = tk.Button(text=' Process k-Means ', command=getKMeans, bg='brown', fg='white', font=('helvetica', 10, 'bold'))\n",
    "canvas1.create_window(200, 170, window=processButton)\n",
    "\n",
    "root.mainloop()"
   ]
  }
 ],
 "metadata": {
  "kernelspec": {
   "display_name": "Python 3",
   "language": "python",
   "name": "python3"
  },
  "language_info": {
   "codemirror_mode": {
    "name": "ipython",
    "version": 3
   },
   "file_extension": ".py",
   "mimetype": "text/x-python",
   "name": "python",
   "nbconvert_exporter": "python",
   "pygments_lexer": "ipython3",
   "version": "3.6.3"
  }
 },
 "nbformat": 4,
 "nbformat_minor": 2
}
