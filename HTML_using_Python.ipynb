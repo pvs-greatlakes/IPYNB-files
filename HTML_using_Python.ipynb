{
 "cells": [
  {
   "cell_type": "code",
   "execution_count": 1,
   "metadata": {},
   "outputs": [],
   "source": [
    "from   bs4         import BeautifulSoup\n",
    "import webbrowser\n",
    "from prettytable import PrettyTable"
   ]
  },
  {
   "cell_type": "code",
   "execution_count": 2,
   "metadata": {},
   "outputs": [],
   "source": [
    "N    =  ['Name', 'Arun', 'Bhaskaer', 'Caren']\n",
    "A    =  [ 'Age', 20, 40, 32]\n",
    "\n",
    "x    =  PrettyTable([N[0], A[0]])\n",
    "for i in range(1, len(N)):\n",
    "    x.add_row([N[i], A[i]])\n",
    "\n",
    "html_code = x.get_html_string()\n"
   ]
  },
  {
   "cell_type": "code",
   "execution_count": 3,
   "metadata": {},
   "outputs": [
    {
     "data": {
      "text/plain": [
       "True"
      ]
     },
     "execution_count": 3,
     "metadata": {},
     "output_type": "execute_result"
    }
   ],
   "source": [
    "html_file = open('table1.html','w')\n",
    "html_file = html_file.write(html_code)\n",
    "webbrowser.open_new_tab('table1.html')"
   ]
  }
 ],
 "metadata": {
  "kernelspec": {
   "display_name": "Python 3",
   "language": "python",
   "name": "python3"
  },
  "language_info": {
   "codemirror_mode": {
    "name": "ipython",
    "version": 3
   },
   "file_extension": ".py",
   "mimetype": "text/x-python",
   "name": "python",
   "nbconvert_exporter": "python",
   "pygments_lexer": "ipython3",
   "version": "3.6.3"
  }
 },
 "nbformat": 4,
 "nbformat_minor": 2
}
