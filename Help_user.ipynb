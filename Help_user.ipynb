{
 "cells": [
  {
   "cell_type": "markdown",
   "metadata": {},
   "source": [
    "## Establish  data base connection and import required libraries"
   ]
  },
  {
   "cell_type": "code",
   "execution_count": 1,
   "metadata": {
    "collapsed": true
   },
   "outputs": [],
   "source": [
    "#!/usr/bin/python\n",
    "\n",
    "import   pandas          as     pd\n",
    "import   numpy           as     np\n",
    "\n",
    "import   MySQLdb\n",
    "import   mysql.connector\n",
    "import   re\n",
    "\n",
    "from     sqlalchemy      import create_engine\n",
    "from     bs4             import BeautifulSoup\n",
    "import   webbrowser\n",
    "from     prettytable     import PrettyTable"
   ]
  },
  {
   "cell_type": "code",
   "execution_count": 2,
   "metadata": {
    "collapsed": true
   },
   "outputs": [],
   "source": [
    "def get_matched_profiles(user_age, pref_age_l, pref_age_u):\n",
    "    pref_male_df  = male_df.loc[(male_df['Age'] >=  int(pref_age_l)) & (male_df['Age'] <=  int(pref_age_u)) &\\\n",
    "                                 (male_df['Partner_Age_LI'] <=  int(user_age)) & (male_df['Partner_Age_UI'] >=  int(user_age))]\n",
    "    return pref_male_df"
   ]
  },
  {
   "cell_type": "code",
   "execution_count": 3,
   "metadata": {},
   "outputs": [
    {
     "name": "stdout",
     "output_type": "stream",
     "text": [
      "Database version : 10.1.31-MariaDB \n"
     ]
    }
   ],
   "source": [
    "db  = mysql.connector.connect(host=\"localhost\", user=\"root\", passwd=\"\", database=\"matrimony\")\n",
    "\n",
    "# prepare a cursor object using cursor() method\n",
    "cursor = db.cursor()\n",
    "\n",
    "# execute SQL query using execute() method.\n",
    "cursor.execute(\"SELECT VERSION()\")\n",
    "\n",
    "# Fetch a single row using fetchone() method.\n",
    "db_version = cursor.fetchone()\n",
    "\n",
    "print(\"Database version : %s \" % db_version)"
   ]
  },
  {
   "cell_type": "markdown",
   "metadata": {},
   "source": [
    "## Let us find the matches for M5929711"
   ]
  },
  {
   "cell_type": "code",
   "execution_count": 4,
   "metadata": {},
   "outputs": [
    {
     "name": "stdout",
     "output_type": "stream",
     "text": [
      "                               0\n",
      "S_No                           1\n",
      "Profile_ID              M5929711\n",
      "Age                           27\n",
      "Gender                    Female\n",
      "Marital_Status     Never married\n",
      "Caste                   Mudaliar\n",
      "Sub_Caste              Melakarar\n",
      "State                 Tamil Nadu\n",
      "City                     Chennai\n",
      "Country                    India\n",
      "Height                       5.8\n",
      "physical_status           Normal\n",
      "Family_Status       Middle Class\n",
      "Family_Type                Joint\n",
      "Family_Values           Orthodox\n",
      "Groom_s_Age                28-30\n",
      "Groom_s_Education       Graduate\n",
      "Groom_s_Income            400000\n",
      "Groom_s_Location      Tamil Nadu\n",
      "About_Description             NA\n",
      "['S_No', 'Profile_ID', 'Age', 'Gender', 'Marital_Status', 'Caste', 'Sub_Caste', 'State', 'City', 'Country', 'Height', 'physical_status', 'Family_Status', 'Family_Type', 'Family_Values', 'Groom_s_Age', 'Groom_s_Education', 'Groom_s_Income', 'Groom_s_Location', 'About_Description']\n",
      "<class 'pandas.core.frame.DataFrame'>\n",
      "RangeIndex: 1 entries, 0 to 0\n",
      "Data columns (total 20 columns):\n",
      "S_No                 1 non-null int64\n",
      "Profile_ID           1 non-null object\n",
      "Age                  1 non-null int64\n",
      "Gender               1 non-null object\n",
      "Marital_Status       1 non-null object\n",
      "Caste                1 non-null object\n",
      "Sub_Caste            1 non-null object\n",
      "State                1 non-null object\n",
      "City                 1 non-null object\n",
      "Country              1 non-null object\n",
      "Height               1 non-null object\n",
      "physical_status      1 non-null object\n",
      "Family_Status        1 non-null object\n",
      "Family_Type          1 non-null object\n",
      "Family_Values        1 non-null object\n",
      "Groom_s_Age          1 non-null object\n",
      "Groom_s_Education    1 non-null object\n",
      "Groom_s_Income       1 non-null int64\n",
      "Groom_s_Location     1 non-null object\n",
      "About_Description    1 non-null object\n",
      "dtypes: int64(3), object(17)\n",
      "memory usage: 240.0+ bytes\n",
      "None\n"
     ]
    }
   ],
   "source": [
    "mycursor = db.cursor()\n",
    "\n",
    "mycursor.execute(\"SELECT * FROM database_for_matrimony1 where Profile_ID = 'M5929711'\")\n",
    "\n",
    "myresult      =  mycursor.fetchall()\n",
    "\n",
    "mycol         =  ['S_No','Profile_ID','Age','Gender','Marital_Status','Caste',\\\n",
    "                  'Sub_Caste','State','City','Country','Height','physical_status',\\\n",
    "                  'Family_Status','Family_Type','Family_Values','Groom_s_Age',\\\n",
    "                  'Groom_s_Education','Groom_s_Income','Groom_s_Location',\\\n",
    "                  'About_Description']     \n",
    "\n",
    "user_df      =   pd.DataFrame(myresult, columns= mycol)\n",
    "\n",
    "print(user_df.head().T)  \n",
    "print(list(user_df))\n",
    "print(user_df.info())\n"
   ]
  },
  {
   "cell_type": "markdown",
   "metadata": {},
   "source": [
    "### Get all male profiles from the data base"
   ]
  },
  {
   "cell_type": "code",
   "execution_count": 5,
   "metadata": {},
   "outputs": [
    {
     "name": "stdout",
     "output_type": "stream",
     "text": [
      "                                    0              1            2  \\\n",
      "S_No                               13             14           15   \n",
      "Profile_ID                   M5929723       M5929724     M5929725   \n",
      "Age                                27             30           30   \n",
      "Gender                           Male           Male         Male   \n",
      "Marital_Status       Awaiting Divorce       Divorced     Divorced   \n",
      "Caste                          Thevar        Maravar       Kallar   \n",
      "Sub_Caste                 Mukkulathor    Mukkulathor  Mukkulathor   \n",
      "State                      Tamil Nadu     Tamil Nadu   Tamil Nadu   \n",
      "City                          Chennai        Chennai      Chennai   \n",
      "Country                         India          India        India   \n",
      "Height                            5.7            5.4          5.5   \n",
      "physical_status                Normal         Normal       Normal   \n",
      "Family_Status                    Rich           Rich         Rich   \n",
      "Family_Type                   Nuclear        Nuclear      Nuclear   \n",
      "Family_Values             Traditional    Traditional  Traditional   \n",
      "Partner_s_Age                   25-27          28-29        28-29   \n",
      "Partner_s_Education          Graduate  Post Graduate     Graduate   \n",
      "Partner_s_Income              1200000        1200000      1200000   \n",
      "Partner_s_Location         Tamil Nadu     Tamil Nadu   Tamil Nadu   \n",
      "About_Description                  NA             NA           NA   \n",
      "\n",
      "                                 3              4  \n",
      "S_No                            16             17  \n",
      "Profile_ID                M5929726       M5929727  \n",
      "Age                             24             24  \n",
      "Gender                        Male           Male  \n",
      "Marital_Status       Never married  Never married  \n",
      "Caste                        Nayar        Maravar  \n",
      "Sub_Caste                  Nambiar    Mukkulathor  \n",
      "State                   Tamil Nadu     Tamil Nadu  \n",
      "City                       Chennai        Chennai  \n",
      "Country                      India          India  \n",
      "Height                         5.4            5.3  \n",
      "physical_status             Normal         Normal  \n",
      "Family_Status                 Rich           Rich  \n",
      "Family_Type                Nuclear          Joint  \n",
      "Family_Values             Moderate       Moderate  \n",
      "Partner_s_Age                22-23          22-23  \n",
      "Partner_s_Education  Post Graduate       Graduate  \n",
      "Partner_s_Income           1500000        1400000  \n",
      "Partner_s_Location      Tamil Nadu     Tamil Nadu  \n",
      "About_Description               NA             NA  \n"
     ]
    }
   ],
   "source": [
    "mycursor = db.cursor()\n",
    "\n",
    "mycursor.execute(\"SELECT * FROM database_for_matrimony1 where Gender = 'Male'\")\n",
    "\n",
    "myresult_M    =  mycursor.fetchall()\n",
    "\n",
    "mycol         =  ['S_No','Profile_ID','Age','Gender','Marital_Status','Caste',\\\n",
    "                  'Sub_Caste','State','City','Country','Height','physical_status',\\\n",
    "                  'Family_Status','Family_Type','Family_Values','Partner_s_Age',\\\n",
    "                  'Partner_s_Education','Partner_s_Income','Partner_s_Location',\\\n",
    "                  'About_Description']     \n",
    "\n",
    "male_df      =   pd.DataFrame(myresult_M, columns= mycol)\n",
    "\n",
    "print(male_df.head().T)  \n",
    "\n",
    "### Close db connection and release all resources\n",
    "\n",
    "db.close()"
   ]
  },
  {
   "cell_type": "code",
   "execution_count": 6,
   "metadata": {},
   "outputs": [
    {
     "name": "stdout",
     "output_type": "stream",
     "text": [
      "                               0\n",
      "S_No                           1\n",
      "Profile_ID              M5929711\n",
      "Age                           27\n",
      "Gender                    Female\n",
      "Marital_Status     Never married\n",
      "Caste                   Mudaliar\n",
      "Sub_Caste              Melakarar\n",
      "State                 Tamil Nadu\n",
      "City                     Chennai\n",
      "Country                    India\n",
      "Height                       5.8\n",
      "physical_status           Normal\n",
      "Family_Status       Middle Class\n",
      "Family_Type                Joint\n",
      "Family_Values           Orthodox\n",
      "Groom_s_Age                28-30\n",
      "Groom_s_Education       Graduate\n",
      "Groom_s_Income            400000\n",
      "Groom_s_Location      Tamil Nadu\n",
      "About_Description             NA\n",
      "Partner_Age_LI                28\n",
      "Partner_Age_UI                30\n"
     ]
    }
   ],
   "source": [
    "\"\"\"\n",
    "Check if the user has specified in the prefered partners age range\n",
    "\n",
    "\"\"\"\n",
    "Pref_Age_Lo = 0 # Initialize the preferred age limits\n",
    "Pref_Age_Up = 0\n",
    "\n",
    "strlength = user_df['Groom_s_Age'].str.len()[0]\n",
    "\n",
    "if strlength == 5:\n",
    "        lo, up = re.findall('\\d+', str(user_df['Groom_s_Age'][0]))\n",
    "else:\n",
    "        lo     =  user_df['Age'] + 1\n",
    "        up     =  user_df['Age'] + 5\n",
    "        \n",
    "Pref_Age_Lo    =  lo\n",
    "Pref_Age_Up    =  up\n",
    "\n",
    "user_df['Partner_Age_LI']   =   lo\n",
    "user_df['Partner_Age_UI']   =   up\n",
    "\n",
    "user_df['Partner_Age_LI'] = user_df['Partner_Age_LI'].astype('int32')\n",
    "user_df['Partner_Age_UI'] = user_df['Partner_Age_UI'].astype('int32')\n",
    "\n",
    "\n",
    "print(user_df.head().T)"
   ]
  },
  {
   "cell_type": "code",
   "execution_count": 7,
   "metadata": {},
   "outputs": [
    {
     "name": "stdout",
     "output_type": "stream",
     "text": [
      "(52, 20)\n"
     ]
    }
   ],
   "source": [
    "print(male_df.shape)"
   ]
  },
  {
   "cell_type": "markdown",
   "metadata": {},
   "source": [
    "From these 52 male records, we need to check how many match the expectation of the specified user"
   ]
  },
  {
   "cell_type": "code",
   "execution_count": 8,
   "metadata": {},
   "outputs": [
    {
     "name": "stdout",
     "output_type": "stream",
     "text": [
      "                                1            2            5              6   \\\n",
      "S_No                            14           15           18             19   \n",
      "Profile_ID                M5929724     M5929725     M5929728       M5929729   \n",
      "Age                             30           30           29             29   \n",
      "Gender                        Male         Male         Male           Male   \n",
      "Marital_Status            Divorced     Divorced     Divorced       Divorced   \n",
      "Caste                      Maravar       Kallar       Thevar         Kallar   \n",
      "Sub_Caste              Mukkulathor  Mukkulathor  Mukkulathor    Mukkulathor   \n",
      "State                   Tamil Nadu   Tamil Nadu   Tamil Nadu     Tamil Nadu   \n",
      "City                       Chennai      Chennai      Chennai        Chennai   \n",
      "Country                      India        India        India          India   \n",
      "Height                         5.4          5.5          5.2            5.6   \n",
      "physical_status             Normal       Normal       Normal         Normal   \n",
      "Family_Status                 Rich         Rich         Rich           Rich   \n",
      "Family_Type                Nuclear      Nuclear        Joint        Nuclear   \n",
      "Family_Values          Traditional  Traditional     Moderate       Moderate   \n",
      "Partner_s_Age                28-29        28-29        27-29          27-29   \n",
      "Partner_s_Education  Post Graduate     Graduate     Graduate  Post Graduate   \n",
      "Partner_s_Income           1200000      1200000      1300000        1300000   \n",
      "Partner_s_Location      Tamil Nadu   Tamil Nadu   Tamil Nadu     Tamil Nadu   \n",
      "About_Description               NA           NA           NA             NA   \n",
      "Partner_Age_LI                  25           25           25             25   \n",
      "Partner_Age_UI                  27           27           27             27   \n",
      "\n",
      "                                     7                   9             14  \\\n",
      "S_No                                 20                  22            30   \n",
      "Profile_ID                     M5929730            M5929732      M6886871   \n",
      "Age                                  30                  29            30   \n",
      "Gender                             Male                Male          Male   \n",
      "Marital_Status                 Divorced    Awaiting Divorce       widower   \n",
      "Caste                           Maravar              Thevar        Kallar   \n",
      "Sub_Caste                   Mukkulathor         Mukkulathor        Marvar   \n",
      "State                        Tamil Nadu          Tamil Nadu    Tamil Nadu   \n",
      "City                            Chennai             Chennai        Trichy   \n",
      "Country                           India               India         India   \n",
      "Height                              5.7                 5.5           5.1   \n",
      "physical_status                  Normal              Normal        Normal   \n",
      "Family_Status        Upper Middle Class  Upper Middle Class  Middle Class   \n",
      "Family_Type                     Nuclear               Joint       Nuclear   \n",
      "Family_Values                   Liberal         Traditional      Moderate   \n",
      "Partner_s_Age                     25-29               27-29         22-27   \n",
      "Partner_s_Education            Graduate       Post Graduate      Graduate   \n",
      "Partner_s_Income                1200000             1100000        500000   \n",
      "Partner_s_Location           Tamil Nadu          Tamil Nadu    Tamil Nadu   \n",
      "About_Description                    NA                  NA            NA   \n",
      "Partner_Age_LI                       25                  25            25   \n",
      "Partner_Age_UI                       27                  27            27   \n",
      "\n",
      "                                19                     22             24  \\\n",
      "S_No                            39                     46             49   \n",
      "Profile_ID                M6886880               M6886887       M6886890   \n",
      "Age                             29                     30             29   \n",
      "Gender                        Male                   Male           Male   \n",
      "Marital_Status       Never married          Never married  Never married   \n",
      "Caste                     Digambar                Konkani        Punjabi   \n",
      "Sub_Caste                Khandayat  Kurmi,Kurmi Kshatriya        Punjabi   \n",
      "State                    Rajasthan                     NA          Delhi   \n",
      "City                        Jaipur                     NA          Delhi   \n",
      "Country                      India                  India          India   \n",
      "Height                         5.1                    5.5            5.9   \n",
      "physical_status             Normal                 Normal         Normal   \n",
      "Family_Status         Middle Class           Middle Class           Rich   \n",
      "Family_Type                Nuclear                  Joint        Nuclear   \n",
      "Family_Values              Liberal               Orthodox       Moderate   \n",
      "Partner_s_Age                21-29                  21-30          27-29   \n",
      "Partner_s_Education       Graduate               Graduate       Graduate   \n",
      "Partner_s_Income           1200000                 700000         900000   \n",
      "Partner_s_Location          Jaipur                     NA          Delhi   \n",
      "About_Description               NA                     NA             NA   \n",
      "Partner_Age_LI                  25                     25             25   \n",
      "Partner_Age_UI                  27                     27             27   \n",
      "\n",
      "                                26             30                     33  \\\n",
      "S_No                            51             60                     66   \n",
      "Profile_ID                M6886901       M6886910               M6886916   \n",
      "Age                             28             30                     30   \n",
      "Gender                        Male           Male                   Male   \n",
      "Marital_Status       Never married  Never married          Never married   \n",
      "Caste                        Menon         Dabade                 Darzi    \n",
      "Sub_Caste              Hindu-Menon         Dabade                  Darzi   \n",
      "State                       Kerala     Maharastra              Rajasthan   \n",
      "City                        Cochin           Pune               Udhaipur   \n",
      "Country                      India          India                  India   \n",
      "Height                         5.8            5.6                    5.5   \n",
      "physical_status             Normal         Normal  Physically challenged   \n",
      "Family_Status         Middle Class   Middle Class           Middle Class   \n",
      "Family_Type                  Joint        Nuclear                  Joint   \n",
      "Family_Values          Traditional       Orthodox               Moderate   \n",
      "Partner_s_Age                35-40          21-29                  32-35   \n",
      "Partner_s_Education      Doctorate      Doctorate              Doctorate   \n",
      "Partner_s_Income            600000        7500000                3000000   \n",
      "Partner_s_Location          Kerala     Maharastra              Rajasthan   \n",
      "About_Description               NA             NA                     NA   \n",
      "Partner_Age_LI                  25             25                     25   \n",
      "Partner_Age_UI                  27             27                     27   \n",
      "\n",
      "                               35         38             42  \\\n",
      "S_No                           71         75             83   \n",
      "Profile_ID               M6886921   M6886925       M7595571   \n",
      "Age                            30         30             30   \n",
      "Gender                       Male       Male           Male   \n",
      "Marital_Status           Divorced   Divorced  Never married   \n",
      "Caste                  Singhikant      Bhand          Nayar   \n",
      "Sub_Caste                   singh      Bhand        Nambiar   \n",
      "State                    Harayana  Rajasthan      Rajasthan   \n",
      "City                       Punjab       Kota         Jaipur   \n",
      "Country                     India      India          India   \n",
      "Height                        5.5        5.3            6.3   \n",
      "physical_status            Normal     Normal         Normal   \n",
      "Family_Status        Middle Class       Rich       Affluent   \n",
      "Family_Type                 Joint      Joint          Joint   \n",
      "Family_Values            Orthodox   Moderate       Liberate   \n",
      "Partner_s_Age               21-24      30-31          29-30   \n",
      "Partner_s_Education      Graduate  Doctorate  Post Graduate   \n",
      "Partner_s_Income          1400000   75000000        1200000   \n",
      "Partner_s_Location       Harayana  Rajasthan       Banglore   \n",
      "About_Description              NA         NA             NA   \n",
      "Partner_Age_LI                 25         25             25   \n",
      "Partner_Age_UI                 27         27             27   \n",
      "\n",
      "                                     43             45             51  \n",
      "S_No                                 84             88            100  \n",
      "Profile_ID                     M7595572       M7595576       M7595588  \n",
      "Age                                  29             29             29  \n",
      "Gender                             Male           Male           Male  \n",
      "Marital_Status            Never married  Never married  Never married  \n",
      "Caste                           Maravar         Kallar        Maravar  \n",
      "Sub_Caste                   Mukkulathor    Mukkulathor    Mukkulathor  \n",
      "State                         TamilNadu      TamilNadu      TamilNadu  \n",
      "City                            Chennai        Chennai        Chennai  \n",
      "Country                           India          India          India  \n",
      "Height                              5.9            5.8            6.3  \n",
      "physical_status                  Normal         Normal         Normal  \n",
      "Family_Status        Upper Middle Class   Middle Class   Middle Class  \n",
      "Family_Type                     Nuclear          Joint        Nuclear  \n",
      "Family_Values                  Moderate       Orthodox       Orthodox  \n",
      "Partner_s_Age                     21-33          21-23          25-30  \n",
      "Partner_s_Education       Post Graduate  Post Graduate  Post Graduate  \n",
      "Partner_s_Income                1100000        1000000        1000000  \n",
      "Partner_s_Location            TamilNadu          Delhi      TamilNadu  \n",
      "About_Description                    NA             NA             NA  \n",
      "Partner_Age_LI                       25             25             25  \n",
      "Partner_Age_UI                       27             27             27  \n",
      " Count of matches: 19\n"
     ]
    }
   ],
   "source": [
    "user_age        = user_df['Age']\n",
    "user_profile_ID = user_df['Profile_ID']\n",
    "\n",
    "### Female preference\n",
    "\n",
    "pref_age_l = user_df['Partner_Age_LI']\n",
    "pref_age_u = user_df['Partner_Age_UI']\n",
    "\n",
    "### Male preference\n",
    "\n",
    "strlength = male_df['Partner_s_Age'].str.len()[0]\n",
    "\n",
    "if strlength == 5:\n",
    "        lo, up = re.findall('\\d+', str(male_df['Partner_s_Age'][0]))\n",
    "        \n",
    "male_df['Partner_Age_LI']   =   int(lo)\n",
    "male_df['Partner_Age_UI']   =   int(up)\n",
    "\n",
    "### Both forward match and reverse match\n",
    "\n",
    "pref_male_df  = male_df.loc[(male_df['Age'] >=  int(pref_age_l)) & (male_df['Age'] <=  int(pref_age_u)) &\\\n",
    "                                 (male_df['Partner_Age_LI'] <=  int(user_age)) & (male_df['Partner_Age_UI'] >=  int(user_age))]\n",
    "\n",
    "print(pref_male_df.T)\n",
    "    \n",
    "msg = ' Count of matches: %d' % (pref_male_df['Profile_ID'].count())\n",
    "   \n",
    "print(msg)"
   ]
  },
  {
   "cell_type": "code",
   "execution_count": 9,
   "metadata": {},
   "outputs": [
    {
     "name": "stdout",
     "output_type": "stream",
     "text": [
      "Profile ID:  M5929711\n",
      "User age :  27\n",
      "User gender :  Female\n",
      "Preferred Lower limit age for partner:  28\n",
      "Preferred Upper limit age for partner:  30\n",
      "Count of matches based on user preference:  19\n"
     ]
    }
   ],
   "source": [
    "### Display results\n",
    "\n",
    "user                =  user_df['Profile_ID'][0]\n",
    "user_age            =  user_df['Age'][0]\n",
    "user_gender         =  user_df['Gender'][0]\n",
    "\n",
    "print('Profile ID: ',   user)\n",
    "print('User age : ',    user_age)\n",
    "print('User gender : ', user_gender)\n",
    "\n",
    "print('Preferred Lower limit age for partner: ', pref_age_l[0])\n",
    "print('Preferred Upper limit age for partner: ', pref_age_u[0])\n",
    "\n",
    "print('Count of matches based on user preference: ', pref_male_df['Profile_ID'].count())\n",
    "\n"
   ]
  },
  {
   "cell_type": "markdown",
   "metadata": {},
   "source": [
    "### Relax Age limit and check the match count"
   ]
  },
  {
   "cell_type": "code",
   "execution_count": 10,
   "metadata": {},
   "outputs": [
    {
     "name": "stdout",
     "output_type": "stream",
     "text": [
      "\n",
      "Relaxed upper age limit is now 29 - 34\n",
      "\n",
      "Relaxed upper age limit is now 29 - 35\n",
      "\n",
      "Relaxed upper age limit is now 29 - 36\n",
      "\n",
      "Relaxed upper age limit is now 29 - 37\n",
      "[27, 28, 30, 31]\n"
     ]
    }
   ],
   "source": [
    "relax_years    =  [4, 5, 6, 7] ## To get from the user\n",
    "count_relax    =  [ ]\n",
    "relax_age_l    =  [ ]\n",
    "relax_age_u    =  [ ]\n",
    "\n",
    "for relax in relax_years:\n",
    "    \n",
    "    age_l           =    pref_age_l[0] + 1\n",
    "    age_u           =    pref_age_u[0] + int(relax) \n",
    "\n",
    "    print('\\nRelaxed upper age limit is now %d - %d' %(age_l, age_u))\n",
    "    df = get_matched_profiles(user_age, age_l, age_u)\n",
    "    relax_count      =   df['Profile_ID'].count()  \n",
    "    count_relax.append(relax_count)\n",
    "    relax_age_l.append(age_l)\n",
    "    relax_age_u.append(age_u)   \n",
    "    \n",
    "print(count_relax)"
   ]
  },
  {
   "cell_type": "code",
   "execution_count": 11,
   "metadata": {
    "collapsed": true
   },
   "outputs": [],
   "source": [
    "# Key - Value \n",
    "Keys              =   ['Attributes', 'user', 'Age', 'Gender',  ]\n",
    "Values            =   list(['Value', user, user_age, user_gender])"
   ]
  },
  {
   "cell_type": "code",
   "execution_count": 12,
   "metadata": {},
   "outputs": [
    {
     "data": {
      "text/plain": [
       "list"
      ]
     },
     "execution_count": 12,
     "metadata": {},
     "output_type": "execute_result"
    }
   ],
   "source": [
    "type(Values)"
   ]
  },
  {
   "cell_type": "code",
   "execution_count": 13,
   "metadata": {},
   "outputs": [],
   "source": [
    "x    =  PrettyTable([Keys[0], '\\t', Values[0]])\n",
    "for i in range(1, len(Keys)):    x.add_row([Keys[i], '\\t\\t\\t\\t', Values[i]])"
   ]
  },
  {
   "cell_type": "code",
   "execution_count": 14,
   "metadata": {
    "collapsed": true
   },
   "outputs": [],
   "source": [
    "x.add_row(['Prefer Age from  ', 'Prefer Age upto  ', 'matched Count'])\n",
    "x.add_row([pref_age_l[0], pref_age_u[0], pref_male_df['Profile_ID'].count()])"
   ]
  },
  {
   "cell_type": "code",
   "execution_count": 15,
   "metadata": {},
   "outputs": [],
   "source": [
    "x.add_row(['relax Age from  ', 'relax Age upto  ', 'matched count'])\n",
    "\n",
    "for i in range(0, len(count_relax)):\n",
    "    x.add_row([relax_age_l[i], relax_age_u[i], count_relax[i]])"
   ]
  },
  {
   "cell_type": "code",
   "execution_count": 16,
   "metadata": {
    "collapsed": true
   },
   "outputs": [],
   "source": [
    "html_code = x.get_html_string()"
   ]
  },
  {
   "cell_type": "code",
   "execution_count": 17,
   "metadata": {},
   "outputs": [
    {
     "data": {
      "text/plain": [
       "True"
      ]
     },
     "execution_count": 17,
     "metadata": {},
     "output_type": "execute_result"
    }
   ],
   "source": [
    "html_file = open('table2.html','w')\n",
    "html_file = html_file.write(html_code)\n",
    "webbrowser.open_new_tab('table2.html')"
   ]
  }
 ],
 "metadata": {
  "kernelspec": {
   "display_name": "Python 3",
   "language": "python",
   "name": "python3"
  },
  "language_info": {
   "codemirror_mode": {
    "name": "ipython",
    "version": 3
   },
   "file_extension": ".py",
   "mimetype": "text/x-python",
   "name": "python",
   "nbconvert_exporter": "python",
   "pygments_lexer": "ipython3",
   "version": "3.6.3"
  }
 },
 "nbformat": 4,
 "nbformat_minor": 2
}
