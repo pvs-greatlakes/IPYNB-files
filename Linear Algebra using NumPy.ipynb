{
 "cells": [
  {
   "cell_type": "markdown",
   "metadata": {},
   "source": [
    "**Introduction**\n",
    "\n",
    "Linear Algebra is about working on linear systems of equations (linear regression is an example: y = AX).\n",
    "https://machinelearningmastery.com/linear-algebra-machine-learning/\n",
    "\n",
    "* Linear algebra is the most useful mathematics we have learnt.\n",
    "\n",
    "* Linear algebra is what machine learning is doing under the hood.\n",
    "\n",
    "**Real applications of Linear Algebra**\n",
    "\n",
    "* 1) Dataset - which is a basically a matrix \n",
    "* 2) Image processing - Pixel in image\n",
    "* 3) Natural Language Processing - Tokenization, lemmanisation and normalization involves matrix\n",
    "* 4) Dimensionality reduction\n",
    "* 5) Deep Learning"
   ]
  },
  {
   "cell_type": "markdown",
   "metadata": {},
   "source": [
    "https://www.quora.com/What-are-the-applications-of-linear-algebra-in-machine-learning"
   ]
  },
  {
   "cell_type": "markdown",
   "metadata": {},
   "source": [
    "Top packages used for AI projects include:\n",
    "\n",
    "1) **Numpy** - a package with support for mathematical operations on multidimensional data is heavily used with more than 75% of AI projects on GitHub are using it.\n",
    "\n",
    "2) **Scipy** - a scientific computation toolkit\n",
    "\n",
    "https://venturebeat.com/2019/01/24/github-numpy-and-scipy-are-the-most-popular-packages-for-machine-learning-projects/\n",
    "\n",
    "Linear algebra routines and matrix decompositions are provided in both numpy.linalg and scipy.linalg.\n",
    "\n",
    "scipy provides Linear algebra routines and matrix decompositions extending beyond those provided in numpy."
   ]
  },
  {
   "cell_type": "markdown",
   "metadata": {},
   "source": [
    "Linear algebra, such as matrix multiplication, decompositions, determinants, and other square matrix math, is an important part of any array library. \n",
    "\n",
    "Multiplying two two-dimensional arrays with * is an element-wise product instead of a matrix dot product. \n",
    "\n",
    "There is a function dot, both an array method and a function in the numpy namespace, for matrix multiplication:"
   ]
  },
  {
   "cell_type": "code",
   "execution_count": 1,
   "metadata": {},
   "outputs": [
    {
     "name": "stdout",
     "output_type": "stream",
     "text": [
      "x\n",
      "[[4. 1. 3.]\n",
      " [4. 1. 6.]]\n",
      "y\n",
      "[[ 2. 21.]\n",
      " [-1.  7.]\n",
      " [ 8.  9.]]\n",
      "z\n",
      "[1. 1. 1.]\n"
     ]
    }
   ],
   "source": [
    "import numpy as np\n",
    "\n",
    "x = np.array([[4., 1., 3.], [4., 1., 6.]])\n",
    "y = np.array([[2., 21.], [-1, 7], [8, 9]])\n",
    "z = np.ones(3)\n",
    "\n",
    "print(\"x\")\n",
    "print(x)\n",
    "\n",
    "print(\"y\")\n",
    "print(y)\n",
    "\n",
    "print(\"z\")\n",
    "print(z)"
   ]
  },
  {
   "cell_type": "markdown",
   "metadata": {},
   "source": [
    "x.dot(y) is equivalent to np.dot(x, y)"
   ]
  },
  {
   "cell_type": "code",
   "execution_count": 2,
   "metadata": {},
   "outputs": [
    {
     "name": "stdout",
     "output_type": "stream",
     "text": [
      "x.dot(y)\n",
      "[[ 31. 118.]\n",
      " [ 55. 145.]]\n"
     ]
    }
   ],
   "source": [
    "print(\"x.dot(y)\")\n",
    "print(x.dot(y))"
   ]
  },
  {
   "cell_type": "code",
   "execution_count": 3,
   "metadata": {},
   "outputs": [
    {
     "name": "stdout",
     "output_type": "stream",
     "text": [
      "x.dot(z)\n",
      "[ 8. 11.]\n",
      "np.dot(x,y)\n",
      "[[ 31. 118.]\n",
      " [ 55. 145.]]\n",
      "np.dot(x,z)\n",
      "[ 8. 11.]\n"
     ]
    }
   ],
   "source": [
    "print(\"x.dot(z)\")\n",
    "print(x.dot(z))\n",
    "\n",
    "## This is equivalent to np.dot(x,y)\n",
    "print(\"np.dot(x,y)\")\n",
    "print(np.dot(x,y))\n",
    "\n",
    "print(\"np.dot(x,z)\")\n",
    "print(np.dot(x,z))"
   ]
  },
  {
   "cell_type": "code",
   "execution_count": 4,
   "metadata": {},
   "outputs": [
    {
     "name": "stdout",
     "output_type": "stream",
     "text": [
      "x @ y\n",
      "[[ 31. 118.]\n",
      " [ 55. 145.]]\n",
      "x @ z\n",
      "[ 8. 11.]\n"
     ]
    }
   ],
   "source": [
    "## This is equivalent to x @ y\n",
    "print(\"x @ y\")\n",
    "print(x @ y)\n",
    "\n",
    "print(\"x @ z\")\n",
    "print(x @ z)"
   ]
  },
  {
   "cell_type": "markdown",
   "metadata": {},
   "source": [
    "The @ symbol (as of Python 3.5) also works as an infix operator that performs matrix multiplication:\n"
   ]
  },
  {
   "cell_type": "markdown",
   "metadata": {},
   "source": [
    "numpy.linalg has a standard set of matrix decompositions and things like inverse and determinant. These are implemented under the hood via the same industrystandard linear algebra libraries."
   ]
  },
  {
   "cell_type": "markdown",
   "metadata": {},
   "source": [
    "Most commonly used functions of numpy.linalg\n",
    "1. diag - returns the diagonal (or off-diagonal) elements of a square matrix as a 1D array, or convert a 1D array into a square matrix with zeros on the off-diagonal\n",
    "2. dot - Performs Matrix multiplication\n",
    "3. trace - Computes the sum of the diagonal elements\n",
    "4. det - Computes the matrix determinant\n",
    "5. qr - Factors the matrix a as qr, where q is orthonormal and r is upper-triangular."
   ]
  },
  {
   "cell_type": "code",
   "execution_count": 5,
   "metadata": {},
   "outputs": [
    {
     "name": "stdout",
     "output_type": "stream",
     "text": [
      "x\n",
      "[[4. 1. 3.]\n",
      " [4. 1. 6.]]\n",
      "\n",
      "Diagonal of the matrix x\n",
      "[4. 1.]\n"
     ]
    }
   ],
   "source": [
    "print(\"x\")\n",
    "print(x)\n",
    "print(\"\\nDiagonal of the matrix x\")\n",
    "print(np.diag(x))"
   ]
  },
  {
   "cell_type": "code",
   "execution_count": 6,
   "metadata": {},
   "outputs": [
    {
     "name": "stdout",
     "output_type": "stream",
     "text": [
      "X\n",
      "[[4. 1. 5.]\n",
      " [1. 0. 1.]\n",
      " [1. 0. 0.]]\n",
      "\n",
      "Determinant of the matrix X\n",
      "1.0\n"
     ]
    }
   ],
   "source": [
    "X = np.array([[4., 1., 5.], [1., 0., 1], [1., 0., 0.]])\n",
    "print(\"X\")\n",
    "print(X)\n",
    "print(\"\\nDeterminant of the matrix X\")\n",
    "print(np.linalg.det(X))"
   ]
  },
  {
   "cell_type": "code",
   "execution_count": 7,
   "metadata": {},
   "outputs": [
    {
     "name": "stdout",
     "output_type": "stream",
     "text": [
      "X\n",
      "[[4. 1. 5.]\n",
      " [1. 0. 1.]\n",
      " [1. 0. 0.]]\n",
      "\n",
      "Inverse of the matrix X\n",
      "[[ 0.  0.  1.]\n",
      " [ 1. -5.  1.]\n",
      " [-0.  1. -1.]]\n"
     ]
    }
   ],
   "source": [
    "print(\"X\")\n",
    "print(X)\n",
    "print(\"\\nInverse of the matrix X\")\n",
    "XInv = np.linalg.inv(X)\n",
    "print(XInv)"
   ]
  },
  {
   "cell_type": "code",
   "execution_count": 8,
   "metadata": {},
   "outputs": [
    {
     "name": "stdout",
     "output_type": "stream",
     "text": [
      "\n",
      "Check if XInv is the inverse of X\n",
      "[[1. 0. 0.]\n",
      " [0. 1. 0.]\n",
      " [0. 0. 1.]]\n"
     ]
    }
   ],
   "source": [
    "print(\"\\nCheck if XInv is the inverse of X\")\n",
    "Z = X.dot(XInv)\n",
    "print(Z)"
   ]
  },
  {
   "cell_type": "code",
   "execution_count": 9,
   "metadata": {},
   "outputs": [
    {
     "name": "stdout",
     "output_type": "stream",
     "text": [
      "X\n",
      "[[4. 1. 5.]\n",
      " [1. 0. 1.]\n",
      " [1. 0. 0.]]\n",
      "Compute the sum of the diagonal elements of X\n",
      "4.0\n"
     ]
    }
   ],
   "source": [
    "# Computes the sum of the diagonal elements\n",
    "print(\"X\")\n",
    "print(X)\n",
    "print(\"Compute the sum of the diagonal elements of X\")\n",
    "print(np.trace(X))"
   ]
  },
  {
   "cell_type": "markdown",
   "metadata": {},
   "source": [
    "*qr* factors the matrix a as qr, where q is orthonormal and r is upper-triangular."
   ]
  },
  {
   "cell_type": "code",
   "execution_count": 10,
   "metadata": {},
   "outputs": [
    {
     "name": "stdout",
     "output_type": "stream",
     "text": [
      "X\n",
      "[[4. 1. 5.]\n",
      " [1. 0. 1.]\n",
      " [1. 0. 0.]]\n",
      "\n",
      "q which is an orthogonal matrix decomposed from X\n",
      "\n",
      "[[-0.94280904  0.33333333  0.        ]\n",
      " [-0.23570226 -0.66666667 -0.70710678]\n",
      " [-0.23570226 -0.66666667  0.70710678]]\n",
      "\n",
      "r which is an upper triangular matrix decomposed from X\n",
      "\n",
      "[[-4.24264069 -0.94280904 -4.94974747]\n",
      " [ 0.          0.33333333  1.        ]\n",
      " [ 0.          0.         -0.70710678]]\n"
     ]
    }
   ],
   "source": [
    "q, r = np.linalg.qr(X)\n",
    "print(\"X\")\n",
    "print(X)\n",
    "print(\"\\nq which is an orthogonal matrix decomposed from X\\n\")\n",
    "print(q)\n",
    "print(\"\\nr which is an upper triangular matrix decomposed from X\\n\")\n",
    "print(r)"
   ]
  },
  {
   "cell_type": "code",
   "execution_count": 11,
   "metadata": {},
   "outputs": [
    {
     "name": "stdout",
     "output_type": "stream",
     "text": [
      "\n",
      "Transpose of orthogonal matrix q\n",
      "[[-0.94280904 -0.23570226 -0.23570226]\n",
      " [ 0.33333333 -0.66666667 -0.66666667]\n",
      " [ 0.         -0.70710678  0.70710678]]\n",
      "\n",
      "Inverse of orthogonal matrix q\n",
      "[[-9.42809042e-01 -2.35702260e-01 -2.35702260e-01]\n",
      " [ 3.33333333e-01 -6.66666667e-01 -6.66666667e-01]\n",
      " [ 5.88784672e-17 -7.07106781e-01  7.07106781e-01]]\n"
     ]
    }
   ],
   "source": [
    "print(\"\\nTranspose of orthogonal matrix q\")\n",
    "print(q.T)\n",
    "\n",
    "print(\"\\nInverse of orthogonal matrix q\")\n",
    "print(np.linalg.inv(q))"
   ]
  },
  {
   "cell_type": "markdown",
   "metadata": {},
   "source": [
    "**Note**\n",
    "\n",
    "A matrix Q is orthogonal if its transpose is equal to its inverse."
   ]
  },
  {
   "cell_type": "markdown",
   "metadata": {},
   "source": [
    "**Linear regression **\n",
    "\n",
    "**It is also called Ordinary Least Squares (OLS) Regression is perhaps the widely used technique in Statistical Learning to predict a continuous numerical variable. It dates back to the eighteenth century and work of Carl Friedrich Gauss and Adrien Marie Legendre. **\n",
    "\n",
    "**Ordinary Least Squares is the simplest and most common estimator in which the coefficients are chosen to minimize the square of the distance between the predicted values and the actual values.**\n",
    "\n",
    "**Let us solve a simple linear regression problem using both Linear algebra and the statsmodel version of OLS and check whether both produce identical results**"
   ]
  },
  {
   "cell_type": "markdown",
   "metadata": {},
   "source": [
    "Statsmodels is a Python package that provides a complement to scipy for statistical computations including descriptive statistics and estimation and inference for statistical models.\n",
    "It integrates well with the pandas and numpy libraries"
   ]
  },
  {
   "cell_type": "markdown",
   "metadata": {},
   "source": [
    "Y = $\\alpha + \\beta X$\n",
    "where \n",
    "α indicates the value of Y when X is equal to zero (also known as the intercept).\n",
    "β indicating the slope of the line (also known as the regression coefficient). \n",
    "\n",
    "The relationship between variables Y and X is described using the equation of the line of best fit.\n",
    "The regression coefficient β describes the change in Y that is associated with a unit change in X.  "
   ]
  },
  {
   "cell_type": "markdown",
   "metadata": {},
   "source": [
    "**Let us use a simple dataset built-in Python to explain the above points.**"
   ]
  },
  {
   "cell_type": "markdown",
   "metadata": {},
   "source": [
    "**About iris data set **\n",
    "\n",
    "* Iris is a genus of 260–300 species of flowering plants with showy flowers.\n",
    "* The iris flower data is a multi-variate data set collected to quantify the morphologic variation of Iris flowers of three related species, namely *Versicolor, Setosa and Virginica*.\n",
    "* The data set contains 50 samples from each of three species of Iris mentioned above.\n",
    "\n",
    "Four features were measured in centi-meter from each sample:\n",
    "* Length of Sepals\n",
    "* Length of Petals\n",
    "* Width of Sepals\n",
    "* Width of Petals\n",
    "\n",
    "Note:\n",
    "* Sepal is one of the separate, usually green parts extending from the base of a flower\n",
    "* Petals are modified leaves that surround the reproductive parts of flowers\n",
    "\n",
    "https://en.wikipedia.org/wiki/Sepal\n",
    "https://en.wikipedia.org/wiki/Petal\n",
    "\n",
    "https://medium.com/codebagng/basic-analysis-of-the-iris-data-set-using-python-2995618a6342"
   ]
  },
  {
   "cell_type": "code",
   "execution_count": 12,
   "metadata": {
    "collapsed": true
   },
   "outputs": [],
   "source": [
    "import pandas          as     pd\n",
    "import numpy           as     np\n",
    "from   numpy.linalg    import inv, qr, det\n",
    "from   IPython.display import Image\n",
    "from   sklearn         import datasets\n",
    "import statsmodels.api as     sm"
   ]
  },
  {
   "cell_type": "markdown",
   "metadata": {},
   "source": [
    "**Load iris dataset into an object, iris **"
   ]
  },
  {
   "cell_type": "code",
   "execution_count": 13,
   "metadata": {
    "collapsed": true
   },
   "outputs": [],
   "source": [
    "iris = datasets.load_iris()"
   ]
  },
  {
   "cell_type": "markdown",
   "metadata": {},
   "source": [
    "List the keys of the object, iris"
   ]
  },
  {
   "cell_type": "code",
   "execution_count": 14,
   "metadata": {},
   "outputs": [
    {
     "name": "stdout",
     "output_type": "stream",
     "text": [
      "dict_keys(['data', 'target', 'target_names', 'DESCR', 'feature_names'])\n"
     ]
    }
   ],
   "source": [
    "print(iris.keys())"
   ]
  },
  {
   "cell_type": "markdown",
   "metadata": {},
   "source": [
    "**Find out the number of observations and the columns in the data set, iris**"
   ]
  },
  {
   "cell_type": "code",
   "execution_count": 15,
   "metadata": {},
   "outputs": [
    {
     "name": "stdout",
     "output_type": "stream",
     "text": [
      "(150, 4)\n"
     ]
    }
   ],
   "source": [
    "print(iris.data.shape) # Exploring first key, data"
   ]
  },
  {
   "cell_type": "markdown",
   "metadata": {},
   "source": [
    "**Inference **\n",
    "\n",
    "There are 150 observations and 4 columns in the *iris* data set"
   ]
  },
  {
   "cell_type": "markdown",
   "metadata": {},
   "source": [
    "**Get the list of 5 values of the target variable, species**"
   ]
  },
  {
   "cell_type": "code",
   "execution_count": 16,
   "metadata": {},
   "outputs": [
    {
     "name": "stdout",
     "output_type": "stream",
     "text": [
      "[0 0 0 0 0]\n"
     ]
    }
   ],
   "source": [
    "print(iris.target[:5]) # Exploring second key, target"
   ]
  },
  {
   "cell_type": "markdown",
   "metadata": {},
   "source": [
    "**Get the name of the target variable**"
   ]
  },
  {
   "cell_type": "code",
   "execution_count": 17,
   "metadata": {},
   "outputs": [
    {
     "name": "stdout",
     "output_type": "stream",
     "text": [
      "['setosa' 'versicolor' 'virginica']\n"
     ]
    }
   ],
   "source": [
    "print(iris.target_names) # Exploring third  key, target_names"
   ]
  },
  {
   "cell_type": "markdown",
   "metadata": {},
   "source": [
    "**Print the data dictionary for iris dataset **"
   ]
  },
  {
   "cell_type": "code",
   "execution_count": 18,
   "metadata": {},
   "outputs": [
    {
     "name": "stdout",
     "output_type": "stream",
     "text": [
      "Iris Plants Database\n",
      "====================\n",
      "\n",
      "Notes\n",
      "-----\n",
      "Data Set Characteristics:\n",
      "    :Number of Instances: 150 (50 in each of three classes)\n",
      "    :Number of Attributes: 4 numeric, predictive attributes and the class\n",
      "    :Attribute Information:\n",
      "        - sepal length in cm\n",
      "        - sepal width in cm\n",
      "        - petal length in cm\n",
      "        - petal width in cm\n",
      "        - class:\n",
      "                - Iris-Setosa\n",
      "                - Iris-Versicolour\n",
      "                - Iris-Virginica\n",
      "    :Summary Statistics:\n",
      "\n",
      "    ============== ==== ==== ======= ===== ====================\n",
      "                    Min  Max   Mean    SD   Class Correlation\n",
      "    ============== ==== ==== ======= ===== ====================\n",
      "    sepal length:   4.3  7.9   5.84   0.83    0.7826\n",
      "    sepal width:    2.0  4.4   3.05   0.43   -0.4194\n",
      "    petal length:   1.0  6.9   3.76   1.76    0.9490  (high!)\n",
      "    petal width:    0.1  2.5   1.20  0.76     0.9565  (high!)\n",
      "    ============== ==== ==== ======= ===== ====================\n",
      "\n",
      "    :Missing Attribute Values: None\n",
      "    :Class Distribution: 33.3% for each of 3 classes.\n",
      "    :Creator: R.A. Fisher\n",
      "    :Donor: Michael Marshall (MARSHALL%PLU@io.arc.nasa.gov)\n",
      "    :Date: July, 1988\n",
      "\n",
      "This is a copy of UCI ML iris datasets.\n",
      "http://archive.ics.uci.edu/ml/datasets/Iris\n",
      "\n",
      "The famous Iris database, first used by Sir R.A Fisher\n",
      "\n",
      "This is perhaps the best known database to be found in the\n",
      "pattern recognition literature.  Fisher's paper is a classic in the field and\n",
      "is referenced frequently to this day.  (See Duda & Hart, for example.)  The\n",
      "data set contains 3 classes of 50 instances each, where each class refers to a\n",
      "type of iris plant.  One class is linearly separable from the other 2; the\n",
      "latter are NOT linearly separable from each other.\n",
      "\n",
      "References\n",
      "----------\n",
      "   - Fisher,R.A. \"The use of multiple measurements in taxonomic problems\"\n",
      "     Annual Eugenics, 7, Part II, 179-188 (1936); also in \"Contributions to\n",
      "     Mathematical Statistics\" (John Wiley, NY, 1950).\n",
      "   - Duda,R.O., & Hart,P.E. (1973) Pattern Classification and Scene Analysis.\n",
      "     (Q327.D83) John Wiley & Sons.  ISBN 0-471-22361-1.  See page 218.\n",
      "   - Dasarathy, B.V. (1980) \"Nosing Around the Neighborhood: A New System\n",
      "     Structure and Classification Rule for Recognition in Partially Exposed\n",
      "     Environments\".  IEEE Transactions on Pattern Analysis and Machine\n",
      "     Intelligence, Vol. PAMI-2, No. 1, 67-71.\n",
      "   - Gates, G.W. (1972) \"The Reduced Nearest Neighbor Rule\".  IEEE Transactions\n",
      "     on Information Theory, May 1972, 431-433.\n",
      "   - See also: 1988 MLC Proceedings, 54-64.  Cheeseman et al\"s AUTOCLASS II\n",
      "     conceptual clustering system finds 3 classes in the data.\n",
      "   - Many, many more ...\n",
      "\n"
     ]
    }
   ],
   "source": [
    "print(iris.DESCR) # Exploring fourth  key, DESCR"
   ]
  },
  {
   "cell_type": "markdown",
   "metadata": {},
   "source": [
    "Print the feature names (aka independent variable names)"
   ]
  },
  {
   "cell_type": "code",
   "execution_count": 19,
   "metadata": {},
   "outputs": [
    {
     "name": "stdout",
     "output_type": "stream",
     "text": [
      "['sepal length (cm)', 'sepal width (cm)', 'petal length (cm)', 'petal width (cm)']\n"
     ]
    }
   ],
   "source": [
    "print(iris.feature_names) # Exploring fifth key, feature_names"
   ]
  },
  {
   "cell_type": "markdown",
   "metadata": {},
   "source": [
    "Convert iris object to a data frame "
   ]
  },
  {
   "cell_type": "code",
   "execution_count": 20,
   "metadata": {
    "collapsed": true
   },
   "outputs": [],
   "source": [
    "iris_df  = pd.DataFrame(iris.data, columns = iris.feature_names)"
   ]
  },
  {
   "cell_type": "markdown",
   "metadata": {},
   "source": [
    "**Add the target variable, species to the data frame, iris_df **"
   ]
  },
  {
   "cell_type": "code",
   "execution_count": 21,
   "metadata": {
    "collapsed": true
   },
   "outputs": [],
   "source": [
    "iris_df['Species'] = iris.target"
   ]
  },
  {
   "cell_type": "markdown",
   "metadata": {},
   "source": [
    "**Print first five rows of the data frame, iris_df **"
   ]
  },
  {
   "cell_type": "code",
   "execution_count": 22,
   "metadata": {},
   "outputs": [
    {
     "name": "stdout",
     "output_type": "stream",
     "text": [
      "                     0    1    2    3    4\n",
      "sepal length (cm)  5.1  4.9  4.7  4.6  5.0\n",
      "sepal width (cm)   3.5  3.0  3.2  3.1  3.6\n",
      "petal length (cm)  1.4  1.4  1.3  1.5  1.4\n",
      "petal width (cm)   0.2  0.2  0.2  0.2  0.2\n",
      "Species            0.0  0.0  0.0  0.0  0.0\n"
     ]
    }
   ],
   "source": [
    "print(iris_df.head().T)"
   ]
  },
  {
   "cell_type": "code",
   "execution_count": 23,
   "metadata": {},
   "outputs": [
    {
     "name": "stdout",
     "output_type": "stream",
     "text": [
      "<class 'pandas.core.frame.DataFrame'>\n",
      "RangeIndex: 150 entries, 0 to 149\n",
      "Data columns (total 5 columns):\n",
      "sepal length (cm)    150 non-null float64\n",
      "sepal width (cm)     150 non-null float64\n",
      "petal length (cm)    150 non-null float64\n",
      "petal width (cm)     150 non-null float64\n",
      "Species              150 non-null int32\n",
      "dtypes: float64(4), int32(1)\n",
      "memory usage: 5.4 KB\n",
      "None\n"
     ]
    }
   ],
   "source": [
    "print(iris_df.info())"
   ]
  },
  {
   "cell_type": "markdown",
   "metadata": {},
   "source": [
    "Let us try to predict Sepal length from sepal width (cm), petal length (cm), petal width (cm) of the species, Setosa.\n",
    "We shall select all rows belonging to class 0, Setosa"
   ]
  },
  {
   "cell_type": "code",
   "execution_count": 24,
   "metadata": {
    "collapsed": true
   },
   "outputs": [],
   "source": [
    "setosa_df = iris_df.loc[iris_df['Species'] == 0 ]"
   ]
  },
  {
   "cell_type": "markdown",
   "metadata": {},
   "source": [
    "**Define the response variable, y as the sepal length**"
   ]
  },
  {
   "cell_type": "code",
   "execution_count": 25,
   "metadata": {
    "collapsed": true
   },
   "outputs": [],
   "source": [
    "y = setosa_df[['sepal length (cm)']]"
   ]
  },
  {
   "cell_type": "code",
   "execution_count": 26,
   "metadata": {},
   "outputs": [
    {
     "data": {
      "text/html": [
       "<div>\n",
       "<style scoped>\n",
       "    .dataframe tbody tr th:only-of-type {\n",
       "        vertical-align: middle;\n",
       "    }\n",
       "\n",
       "    .dataframe tbody tr th {\n",
       "        vertical-align: top;\n",
       "    }\n",
       "\n",
       "    .dataframe thead th {\n",
       "        text-align: right;\n",
       "    }\n",
       "</style>\n",
       "<table border=\"1\" class=\"dataframe\">\n",
       "  <thead>\n",
       "    <tr style=\"text-align: right;\">\n",
       "      <th></th>\n",
       "      <th>sepal length (cm)</th>\n",
       "    </tr>\n",
       "  </thead>\n",
       "  <tbody>\n",
       "    <tr>\n",
       "      <th>0</th>\n",
       "      <td>5.1</td>\n",
       "    </tr>\n",
       "    <tr>\n",
       "      <th>1</th>\n",
       "      <td>4.9</td>\n",
       "    </tr>\n",
       "    <tr>\n",
       "      <th>2</th>\n",
       "      <td>4.7</td>\n",
       "    </tr>\n",
       "    <tr>\n",
       "      <th>3</th>\n",
       "      <td>4.6</td>\n",
       "    </tr>\n",
       "    <tr>\n",
       "      <th>4</th>\n",
       "      <td>5.0</td>\n",
       "    </tr>\n",
       "    <tr>\n",
       "      <th>5</th>\n",
       "      <td>5.4</td>\n",
       "    </tr>\n",
       "    <tr>\n",
       "      <th>6</th>\n",
       "      <td>4.6</td>\n",
       "    </tr>\n",
       "    <tr>\n",
       "      <th>7</th>\n",
       "      <td>5.0</td>\n",
       "    </tr>\n",
       "    <tr>\n",
       "      <th>8</th>\n",
       "      <td>4.4</td>\n",
       "    </tr>\n",
       "    <tr>\n",
       "      <th>9</th>\n",
       "      <td>4.9</td>\n",
       "    </tr>\n",
       "    <tr>\n",
       "      <th>10</th>\n",
       "      <td>5.4</td>\n",
       "    </tr>\n",
       "    <tr>\n",
       "      <th>11</th>\n",
       "      <td>4.8</td>\n",
       "    </tr>\n",
       "    <tr>\n",
       "      <th>12</th>\n",
       "      <td>4.8</td>\n",
       "    </tr>\n",
       "    <tr>\n",
       "      <th>13</th>\n",
       "      <td>4.3</td>\n",
       "    </tr>\n",
       "    <tr>\n",
       "      <th>14</th>\n",
       "      <td>5.8</td>\n",
       "    </tr>\n",
       "    <tr>\n",
       "      <th>15</th>\n",
       "      <td>5.7</td>\n",
       "    </tr>\n",
       "    <tr>\n",
       "      <th>16</th>\n",
       "      <td>5.4</td>\n",
       "    </tr>\n",
       "    <tr>\n",
       "      <th>17</th>\n",
       "      <td>5.1</td>\n",
       "    </tr>\n",
       "    <tr>\n",
       "      <th>18</th>\n",
       "      <td>5.7</td>\n",
       "    </tr>\n",
       "    <tr>\n",
       "      <th>19</th>\n",
       "      <td>5.1</td>\n",
       "    </tr>\n",
       "    <tr>\n",
       "      <th>20</th>\n",
       "      <td>5.4</td>\n",
       "    </tr>\n",
       "    <tr>\n",
       "      <th>21</th>\n",
       "      <td>5.1</td>\n",
       "    </tr>\n",
       "    <tr>\n",
       "      <th>22</th>\n",
       "      <td>4.6</td>\n",
       "    </tr>\n",
       "    <tr>\n",
       "      <th>23</th>\n",
       "      <td>5.1</td>\n",
       "    </tr>\n",
       "    <tr>\n",
       "      <th>24</th>\n",
       "      <td>4.8</td>\n",
       "    </tr>\n",
       "    <tr>\n",
       "      <th>25</th>\n",
       "      <td>5.0</td>\n",
       "    </tr>\n",
       "    <tr>\n",
       "      <th>26</th>\n",
       "      <td>5.0</td>\n",
       "    </tr>\n",
       "    <tr>\n",
       "      <th>27</th>\n",
       "      <td>5.2</td>\n",
       "    </tr>\n",
       "    <tr>\n",
       "      <th>28</th>\n",
       "      <td>5.2</td>\n",
       "    </tr>\n",
       "    <tr>\n",
       "      <th>29</th>\n",
       "      <td>4.7</td>\n",
       "    </tr>\n",
       "    <tr>\n",
       "      <th>30</th>\n",
       "      <td>4.8</td>\n",
       "    </tr>\n",
       "    <tr>\n",
       "      <th>31</th>\n",
       "      <td>5.4</td>\n",
       "    </tr>\n",
       "    <tr>\n",
       "      <th>32</th>\n",
       "      <td>5.2</td>\n",
       "    </tr>\n",
       "    <tr>\n",
       "      <th>33</th>\n",
       "      <td>5.5</td>\n",
       "    </tr>\n",
       "    <tr>\n",
       "      <th>34</th>\n",
       "      <td>4.9</td>\n",
       "    </tr>\n",
       "    <tr>\n",
       "      <th>35</th>\n",
       "      <td>5.0</td>\n",
       "    </tr>\n",
       "    <tr>\n",
       "      <th>36</th>\n",
       "      <td>5.5</td>\n",
       "    </tr>\n",
       "    <tr>\n",
       "      <th>37</th>\n",
       "      <td>4.9</td>\n",
       "    </tr>\n",
       "    <tr>\n",
       "      <th>38</th>\n",
       "      <td>4.4</td>\n",
       "    </tr>\n",
       "    <tr>\n",
       "      <th>39</th>\n",
       "      <td>5.1</td>\n",
       "    </tr>\n",
       "    <tr>\n",
       "      <th>40</th>\n",
       "      <td>5.0</td>\n",
       "    </tr>\n",
       "    <tr>\n",
       "      <th>41</th>\n",
       "      <td>4.5</td>\n",
       "    </tr>\n",
       "    <tr>\n",
       "      <th>42</th>\n",
       "      <td>4.4</td>\n",
       "    </tr>\n",
       "    <tr>\n",
       "      <th>43</th>\n",
       "      <td>5.0</td>\n",
       "    </tr>\n",
       "    <tr>\n",
       "      <th>44</th>\n",
       "      <td>5.1</td>\n",
       "    </tr>\n",
       "    <tr>\n",
       "      <th>45</th>\n",
       "      <td>4.8</td>\n",
       "    </tr>\n",
       "    <tr>\n",
       "      <th>46</th>\n",
       "      <td>5.1</td>\n",
       "    </tr>\n",
       "    <tr>\n",
       "      <th>47</th>\n",
       "      <td>4.6</td>\n",
       "    </tr>\n",
       "    <tr>\n",
       "      <th>48</th>\n",
       "      <td>5.3</td>\n",
       "    </tr>\n",
       "    <tr>\n",
       "      <th>49</th>\n",
       "      <td>5.0</td>\n",
       "    </tr>\n",
       "  </tbody>\n",
       "</table>\n",
       "</div>"
      ],
      "text/plain": [
       "    sepal length (cm)\n",
       "0                 5.1\n",
       "1                 4.9\n",
       "2                 4.7\n",
       "3                 4.6\n",
       "4                 5.0\n",
       "5                 5.4\n",
       "6                 4.6\n",
       "7                 5.0\n",
       "8                 4.4\n",
       "9                 4.9\n",
       "10                5.4\n",
       "11                4.8\n",
       "12                4.8\n",
       "13                4.3\n",
       "14                5.8\n",
       "15                5.7\n",
       "16                5.4\n",
       "17                5.1\n",
       "18                5.7\n",
       "19                5.1\n",
       "20                5.4\n",
       "21                5.1\n",
       "22                4.6\n",
       "23                5.1\n",
       "24                4.8\n",
       "25                5.0\n",
       "26                5.0\n",
       "27                5.2\n",
       "28                5.2\n",
       "29                4.7\n",
       "30                4.8\n",
       "31                5.4\n",
       "32                5.2\n",
       "33                5.5\n",
       "34                4.9\n",
       "35                5.0\n",
       "36                5.5\n",
       "37                4.9\n",
       "38                4.4\n",
       "39                5.1\n",
       "40                5.0\n",
       "41                4.5\n",
       "42                4.4\n",
       "43                5.0\n",
       "44                5.1\n",
       "45                4.8\n",
       "46                5.1\n",
       "47                4.6\n",
       "48                5.3\n",
       "49                5.0"
      ]
     },
     "execution_count": 26,
     "metadata": {},
     "output_type": "execute_result"
    }
   ],
   "source": [
    "y"
   ]
  },
  {
   "cell_type": "markdown",
   "metadata": {},
   "source": [
    "**Define the predictor variables, X comprising *sepal width (cm), petal length (cm), petal width (cm) **"
   ]
  },
  {
   "cell_type": "code",
   "execution_count": 27,
   "metadata": {
    "collapsed": true
   },
   "outputs": [],
   "source": [
    "X = setosa_df[['sepal width (cm)', 'petal length (cm)', 'petal width (cm)']]"
   ]
  },
  {
   "cell_type": "code",
   "execution_count": 28,
   "metadata": {
    "collapsed": true
   },
   "outputs": [],
   "source": [
    "X = sm.add_constant(X) # To add the intercept"
   ]
  },
  {
   "cell_type": "markdown",
   "metadata": {},
   "source": [
    "We are trying to form a linear regression equation, y = b0 + b1X1 + b2X2 + b3X3\n",
    "* where y represents the sepal length in cm of Setosa species of iris flower\n",
    "* X1 represents its petal length (cm) and X2 represents petal width (cm)\n",
    "* b0 is a regression constant\n",
    "* b1, b2 and b3 are regression coefficients."
   ]
  },
  {
   "cell_type": "markdown",
   "metadata": {},
   "source": [
    "Linear algebra can step in and simplify this notation\n",
    "\n",
    "Y = Xb                                                                    \n",
    "\n",
    "We need to solve b, which is a vector of length 50"
   ]
  },
  {
   "cell_type": "code",
   "execution_count": 29,
   "metadata": {},
   "outputs": [
    {
     "name": "stdout",
     "output_type": "stream",
     "text": [
      "\n",
      "Here the dimension of Y is (50, 1)\n"
     ]
    }
   ],
   "source": [
    "print(\"\\nHere the dimension of Y is \" + str(y.shape))"
   ]
  },
  {
   "cell_type": "markdown",
   "metadata": {},
   "source": [
    "**So, Y is a vector of length 50.**"
   ]
  },
  {
   "cell_type": "code",
   "execution_count": 30,
   "metadata": {},
   "outputs": [
    {
     "name": "stdout",
     "output_type": "stream",
     "text": [
      "\n",
      "Here the dimension of X is (50, 4)\n"
     ]
    }
   ],
   "source": [
    "print(\"\\nHere the dimension of X is \" + str(X.shape))"
   ]
  },
  {
   "cell_type": "markdown",
   "metadata": {},
   "source": [
    "**So, X is a matrix of  dimension 50 X 4 and X is not a square matrix and hence not invertible. **"
   ]
  },
  {
   "cell_type": "markdown",
   "metadata": {},
   "source": [
    "**How do you make the non-square matrix X as a square matrix? **"
   ]
  },
  {
   "cell_type": "markdown",
   "metadata": {},
   "source": [
    "By multiplying X with $X^T$ (X Transpose- rows and columns interchanged), we get a square matrix.\n",
    "\n",
    "For example, try this"
   ]
  },
  {
   "cell_type": "code",
   "execution_count": 31,
   "metadata": {},
   "outputs": [
    {
     "name": "stdout",
     "output_type": "stream",
     "text": [
      "\n",
      "X is a matrix of shape (2, 3)\n"
     ]
    }
   ],
   "source": [
    "X1   =  np.array([[1., 7., 2.], [0., -1., 2]])\n",
    "print(\"\\nX is a matrix of shape \" + str(X1.shape))"
   ]
  },
  {
   "cell_type": "markdown",
   "metadata": {},
   "source": [
    "Multiple X with $X^T$"
   ]
  },
  {
   "cell_type": "code",
   "execution_count": 32,
   "metadata": {},
   "outputs": [
    {
     "name": "stdout",
     "output_type": "stream",
     "text": [
      "[[ 1.  7.  2.]\n",
      " [ 7. 50. 12.]\n",
      " [ 2. 12.  8.]]\n"
     ]
    }
   ],
   "source": [
    "mat = X1.T.dot(X1)\n",
    "print(mat)"
   ]
  },
  {
   "cell_type": "code",
   "execution_count": 33,
   "metadata": {},
   "outputs": [
    {
     "name": "stdout",
     "output_type": "stream",
     "text": [
      "\n",
      "mat is a matrix of shape (3, 3)\n"
     ]
    }
   ],
   "source": [
    "print(\"\\nmat is a matrix of shape \" + str(mat.shape))"
   ]
  },
  {
   "cell_type": "markdown",
   "metadata": {},
   "source": [
    "So, we have seen by multiplying a non-square matrix, X with its transpose we get a square matrix."
   ]
  },
  {
   "cell_type": "markdown",
   "metadata": {},
   "source": [
    "**1)  Linear algebra version of the Ordinary Least Square equation**"
   ]
  },
  {
   "cell_type": "markdown",
   "metadata": {},
   "source": [
    "Let us multiply $X^T$ on both sides of the equation, Y = Xb\n",
    "\n",
    "We get $YX^T$ = $XX^Tb$\n",
    "\n",
    "Divide both sides of the above equation with $XX^T$ "
   ]
  },
  {
   "cell_type": "markdown",
   "metadata": {},
   "source": [
    "We get, $ {(XX^T)}^{-1} X^TY$ = $ {(XX^T)}^{-1}(XX^T)b $ "
   ]
  },
  {
   "cell_type": "markdown",
   "metadata": {},
   "source": [
    "We know that any matrix when multipled with its inverse is an identity matrix as shown below:"
   ]
  },
  {
   "cell_type": "code",
   "execution_count": 34,
   "metadata": {},
   "outputs": [
    {
     "name": "stdout",
     "output_type": "stream",
     "text": [
      "\n",
      "Matrix is \n",
      "[[ 1.  5.  2.]\n",
      " [ 0. -1.  2.]\n",
      " [ 0.  0.  1.]] \n",
      "\n",
      "-1.0\n"
     ]
    }
   ],
   "source": [
    "Z   =  np.array([[1., 5., 2.], [0., -1., 2], [0., 0., 1.]])\n",
    "\n",
    "print(\"\\nMatrix is \\n%s \\n\"% Z)\n",
    "print(det(Z))"
   ]
  },
  {
   "cell_type": "markdown",
   "metadata": {},
   "source": [
    "Multiply matrix, mat by its inverse, we get an identity matrix."
   ]
  },
  {
   "cell_type": "code",
   "execution_count": 35,
   "metadata": {},
   "outputs": [
    {
     "name": "stdout",
     "output_type": "stream",
     "text": [
      "[[1. 0. 0.]\n",
      " [0. 1. 0.]\n",
      " [0. 0. 1.]]\n"
     ]
    }
   ],
   "source": [
    "res = Z.dot(inv(Z)) \n",
    "print(res)"
   ]
  },
  {
   "cell_type": "markdown",
   "metadata": {},
   "source": [
    "$ {(XX^T)}^{-1} X^TY$ = $ {(XX^T)}^{-1}(XX^T)b $ "
   ]
  },
  {
   "cell_type": "markdown",
   "metadata": {},
   "source": [
    "This can be re-written as $ {(XX^T)}^{-1} X^TY$ = b\n",
    "since $ {(XX^T)}^{-1}(XX^T)$ = Identity matrix as shown above example using Z matrix."
   ]
  },
  {
   "cell_type": "markdown",
   "metadata": {},
   "source": [
    "OR b can be written as b = $ {(XX^T)}^{-1} X^TY$ "
   ]
  },
  {
   "cell_type": "code",
   "execution_count": 36,
   "metadata": {
    "collapsed": true
   },
   "outputs": [],
   "source": [
    "mat = X.T.dot(X)"
   ]
  },
  {
   "cell_type": "code",
   "execution_count": 37,
   "metadata": {},
   "outputs": [
    {
     "name": "stdout",
     "output_type": "stream",
     "text": [
      "X.shape (50, 4)\n",
      "X.T.shape (4, 50)\n",
      "y.shape (50, 1)\n",
      "mat.shape (4, 4)\n",
      "det(mat) 244.357283999992\n"
     ]
    }
   ],
   "source": [
    "print('X.shape', X.shape)\n",
    "print('X.T.shape', X.T.shape)\n",
    "print('y.shape', y.shape)\n",
    "print('mat.shape', mat.shape)\n",
    "print('det(mat)', det(mat))"
   ]
  },
  {
   "cell_type": "code",
   "execution_count": 38,
   "metadata": {
    "collapsed": true
   },
   "outputs": [],
   "source": [
    "b = inv(mat).dot(X.T).dot(y)"
   ]
  },
  {
   "cell_type": "code",
   "execution_count": 39,
   "metadata": {},
   "outputs": [
    {
     "name": "stdout",
     "output_type": "stream",
     "text": [
      "\n",
      "Regression coefficients\n",
      "\n",
      "[[2.34544117]\n",
      " [0.65974156]\n",
      " [0.25452789]\n",
      " [0.13497273]]\n"
     ]
    }
   ],
   "source": [
    "print(\"\\nRegression coefficients\\n\")\n",
    "print(b)"
   ]
  },
  {
   "cell_type": "markdown",
   "metadata": {},
   "source": [
    "**Inference from the solution using linear algebra **\n",
    "\n",
    "* b0 = 2.3454  (aprroximated to 4 decimals)\n",
    "* b1 = 0.6597 (aprroximated to 4 decimals)\n",
    "* b2 = 0.2545  (aprroximated to 4 decimals)\n",
    "* b3 = 0.1350  (aprroximated to 4 decimals)"
   ]
  },
  {
   "cell_type": "markdown",
   "metadata": {},
   "source": [
    "y = 2.3454 + (0.6597 * X1) + (0.2545 * X2) + (0.1350 * X3)\n",
    "* where y represents the sepal length in cm of Setosa species of iris flower\n",
    "* X1 represents its petal length (cm) and X2 represents petal width (cm)\n",
    "* 2.3454 is a regression constant\n",
    "* 0.6597, 0.2545 and 0.1350 are regression coefficients."
   ]
  },
  {
   "cell_type": "markdown",
   "metadata": {},
   "source": [
    "#### Practice Exercise: 1\n",
    "\n",
    "Refer to the above example.\n",
    "\n",
    "Predict Sepal length from sepal width (cm), petal length (cm), petal width (cm) of the species, Versicolour.\n",
    "We shall select all rows belonging to class 1, Versicolour."
   ]
  },
  {
   "cell_type": "markdown",
   "metadata": {},
   "source": [
    "# END"
   ]
  }
 ],
 "metadata": {
  "kernelspec": {
   "display_name": "Python 3",
   "language": "python",
   "name": "python3"
  },
  "language_info": {
   "codemirror_mode": {
    "name": "ipython",
    "version": 3
   },
   "file_extension": ".py",
   "mimetype": "text/x-python",
   "name": "python",
   "nbconvert_exporter": "python",
   "pygments_lexer": "ipython3",
   "version": "3.6.3"
  }
 },
 "nbformat": 4,
 "nbformat_minor": 2
}
