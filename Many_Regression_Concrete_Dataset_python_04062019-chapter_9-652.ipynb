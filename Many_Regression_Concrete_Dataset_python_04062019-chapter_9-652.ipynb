{
 "cells": [
  {
   "cell_type": "markdown",
   "metadata": {},
   "source": [
    "### Concrete data set\n",
    "\n",
    "We have 1030 observations on 9 variables. We try to estimate the Complete compressive strength(CRS) using:\n",
    "\n",
    "| Variable   | Description |\n",
    "| ---------- | ---------------- |\n",
    "| Cement in kg  | Cement in a m3 mixture | \n",
    "| Blast Furnace Slag in kg  | Blast Furnace Slag  in a m3 mixture | \n",
    "| Fly Ash in kg | Fly Ash in a m3 mixture | \n",
    "| Water in kg |  in a m3 mixture | \n",
    "| Superplasticizer in kg | Water in a m3 mixture | \n",
    "| Coarse Aggregate in kg  |Coarse Aggregate in a m3 mixture | \n",
    "| Fine Aggregate in kg  | Fine Aggregatein a m3 mixture | \n",
    "| Age in  Day  | Days (1-365) | "
   ]
  },
  {
   "cell_type": "code",
   "execution_count": 1,
   "metadata": {},
   "outputs": [
    {
     "name": "stderr",
     "output_type": "stream",
     "text": [
      "D:\\Python\\lib\\site-packages\\sklearn\\ensemble\\weight_boosting.py:29: DeprecationWarning: numpy.core.umath_tests is an internal NumPy module and should not be imported. It will be removed in a future NumPy release.\n",
      "  from numpy.core.umath_tests import inner1d\n"
     ]
    }
   ],
   "source": [
    "import pandas                       as     pd\n",
    "import numpy                        as     np\n",
    "import scipy.stats                  as     stats\n",
    "\n",
    "import seaborn                      as     sns\n",
    "import matplotlib.pyplot            as     plt\n",
    "import matplotlib\n",
    "\n",
    "matplotlib.rcParams.update({'font.size': 12})\n",
    "\n",
    "from   statsmodels.compat           import lzip\n",
    "\n",
    "from   sklearn                      import model_selection\n",
    "\n",
    "from sklearn.linear_model           import  LinearRegression\n",
    "from sklearn.linear_model           import  Lasso\n",
    "from sklearn.linear_model           import  Ridge\n",
    "from sklearn.linear_model           import  ElasticNet\n",
    "\n",
    "from   sklearn.tree                 import DecisionTreeRegressor\n",
    "from   sklearn.ensemble             import RandomForestRegressor\n",
    "from   sklearn.neural_network       import MLPRegressor\n",
    "from   sklearn                      import ensemble\n",
    "from   sklearn.ensemble             import GradientBoostingRegressor\n",
    "\n",
    "from   sklearn.neighbors            import KNeighborsRegressor\n",
    "from   sklearn.svm                  import SVR\n",
    "from   sklearn.pipeline             import Pipeline\n",
    "from   sklearn.preprocessing        import StandardScaler\n",
    "\n",
    "from   sklearn.model_selection      import GridSearchCV\n",
    "from   sklearn.model_selection      import cross_val_score, cross_val_predict, KFold\n",
    "\n",
    "\n",
    "from   sklearn.metrics              import mean_squared_error, mean_absolute_error\n",
    "from   statsmodels.compat           import lzip\n",
    "\n",
    "import eli5\n",
    "from   eli5.sklearn                 import PermutationImportance  \n",
    "from   IPython.display              import Image"
   ]
  },
  {
   "cell_type": "code",
   "execution_count": 2,
   "metadata": {
    "collapsed": true
   },
   "outputs": [],
   "source": [
    "def mean_absolute_percentage_error(y_true, y_pred): \n",
    "    y_true, y_pred = np.array(y_true), np.array(y_pred)\n",
    "    return np.mean(np.abs((y_true - y_pred) / y_true)) * 100"
   ]
  },
  {
   "cell_type": "code",
   "execution_count": 3,
   "metadata": {
    "collapsed": true
   },
   "outputs": [],
   "source": [
    "def  report_rmse_mape(lm, y, X, title):\n",
    "    \n",
    "    '''\n",
    "        Reports rmse and mape for the given model, pair of dataset (y and X) and title\n",
    "    ''' \n",
    "    rmse_     = (np.sqrt(mean_squared_error(y_true = y, y_pred = lm.predict(X))))\n",
    "    mape_    = mean_absolute_percentage_error(y,       y_pred = lm.predict(X))\n",
    "    print(\"\\n\")\n",
    "    print(title)\n",
    "    print(\"--------------------------------------\")\n",
    "    print('RMSE is {}'.format(rmse_ ))\n",
    "    print('MAPE is {}'.format(mape_))\n",
    "\n",
    "#### End\n"
   ]
  },
  {
   "cell_type": "code",
   "execution_count": 4,
   "metadata": {},
   "outputs": [],
   "source": [
    "def feature_importances(model_name, model, imp): \n",
    "    '''\n",
    "    Prints the relative importances and plots \n",
    "    '''\n",
    "    feature_names = ['Cement', 'Blast', 'Fly Ash', 'Water', 'Superplasticizer','CA', 'FA', 'Age']\n",
    "    print('\\n Feature importances from model %s\\n' %model_name)\n",
    "    print(lzip(imp, feature_names))\n",
    "    indices           =  np.argsort(imp)\n",
    "    plt.title('Feature importances %s' %model_name)\n",
    "    plt.barh(range(len(indices)), imp[indices], color = 'b', align = 'center')\n",
    "    plt.yticks(range(len(indices)), [feature_names[i] for i in indices])\n",
    "    plt.xlabel('Relative importance')\n",
    "    plt.show()\n",
    "###"
   ]
  },
  {
   "cell_type": "code",
   "execution_count": 5,
   "metadata": {},
   "outputs": [
    {
     "name": "stdout",
     "output_type": "stream",
     "text": [
      "(823, 9)\n",
      "(206, 9)\n",
      "                        0       1       2       3        4\n",
      "Cement             275.10  516.00  393.00  183.90   246.80\n",
      "Blast                0.00    0.00    0.00  122.60     0.00\n",
      "Fly Ash            121.40    0.00    0.00    0.00   125.10\n",
      "Water              159.50  162.00  192.00  203.50   143.30\n",
      "Superplasticizer     9.90    8.20    0.00    0.00    12.00\n",
      "CA                1053.60  801.00  940.00  959.20  1086.80\n",
      "FA                 777.50  802.00  758.00  800.00   800.90\n",
      "Age                 56.00   28.00   90.00   28.00     3.00\n",
      "CMS                 56.85   41.37   48.79   24.05    23.52\n",
      "                      0      1       2        3       4\n",
      "Cement            318.8  362.6  322.00   212.00  446.00\n",
      "Blast             212.5  189.0    0.00     0.00   24.00\n",
      "Fly Ash             0.0    0.0    0.00   124.80   79.00\n",
      "Water             155.7  164.9  203.00   159.00  162.00\n",
      "Superplasticizer   14.3   11.6    0.00     7.80   11.60\n",
      "CA                852.1  944.7  974.00  1085.40  967.00\n",
      "FA                880.4  755.8  800.00   799.50  712.00\n",
      "Age                91.0   28.0   28.00     3.00    7.00\n",
      "CMS                68.1   71.3   25.18    19.52   38.02\n"
     ]
    }
   ],
   "source": [
    "train_df       =   pd.read_csv('train.csv', usecols = \\\n",
    "                               ['Cement', 'Blast', 'Fly Ash', 'Water', 'Superplasticizer',\\\n",
    "                                'CA', 'FA', 'Age', 'CMS'])\n",
    "test_df        =   pd.read_csv('test.csv')\n",
    "print(train_df.shape)\n",
    "print(test_df.shape)\n",
    "print(train_df.head().T)   \n",
    "print(test_df.head().T)   "
   ]
  },
  {
   "cell_type": "code",
   "execution_count": 6,
   "metadata": {
    "collapsed": true
   },
   "outputs": [],
   "source": [
    "X_train  = train_df[['Cement', 'Blast', 'Fly Ash', 'Water', 'Superplasticizer','CA', 'FA', 'Age']]\n",
    "X_test   = test_df[['Cement', 'Blast', 'Fly Ash', 'Water', 'Superplasticizer','CA', 'FA', 'Age']]\n",
    "y_train  = train_df['CMS'] \n",
    "y_test   = test_df['CMS']\n",
    " "
   ]
  },
  {
   "cell_type": "code",
   "execution_count": 7,
   "metadata": {},
   "outputs": [
    {
     "data": {
      "text/plain": [
       "[('x_train shape', (823, 8), pandas.core.frame.DataFrame),\n",
       " ('x_test shape', (206, 8), pandas.core.frame.DataFrame),\n",
       " ('y_train shape', (823,), pandas.core.series.Series),\n",
       " ('y_test shape', (206,), pandas.core.series.Series)]"
      ]
     },
     "execution_count": 7,
     "metadata": {},
     "output_type": "execute_result"
    }
   ],
   "source": [
    "df_names      = ['x_train shape', 'x_test shape', 'y_train shape', 'y_test shape']\n",
    "shapes        = (X_train.shape, X_test.shape,  y_train.shape, y_test.shape)\n",
    "types         = (type(X_train), type(X_test), type(y_train),type(y_test))\n",
    "lzip(df_names,shapes, types)"
   ]
  },
  {
   "cell_type": "markdown",
   "metadata": {},
   "source": [
    "### Performance of the model evaluation"
   ]
  },
  {
   "cell_type": "markdown",
   "metadata": {},
   "source": [
    "### Prediction Accuracy\n",
    "\n",
    "Prediction error or residuals is the difference between the predicted target variable values and the actual target variable vaues.\n",
    "\n",
    "We shall use cross-validation \n",
    "We shall evaluate algorithms using Mean Squared Error (MSE), which indicates how bad the predictions are. Scoring method mean_squared_error was renamed to neg_mean_squared_error in version 0.18 \n",
    "\n",
    "Most popular measure to evaluate the model performance is Root Mean Square Error (RMSE) which is the arithmatic mean of the sum of the residuals. The model with low RMSE is the best model among many other models."
   ]
  },
  {
   "cell_type": "code",
   "execution_count": 8,
   "metadata": {
    "collapsed": true
   },
   "outputs": [],
   "source": [
    "# Spot-Check Algorithms\n",
    "\n",
    "models = [] \n",
    "\n",
    "### Linear models\n",
    "\n",
    "models.append(('OLS',    LinearRegression())) \n",
    "models.append(('Ridge', Ridge())) \n",
    "models.append(('LASSO', Lasso())) \n",
    "models.append(('EN',    ElasticNet())) \n",
    "\n",
    "# Non-linear models\n",
    "\n",
    "models.append(('KNN',  KNeighborsRegressor())) \n",
    "models.append(('CART', DecisionTreeRegressor())) \n",
    "models.append(('SVR',  SVR()))"
   ]
  },
  {
   "cell_type": "code",
   "execution_count": 9,
   "metadata": {
    "collapsed": true
   },
   "outputs": [],
   "source": [
    "seed                  =   12345\n",
    "nfold                 =   10\n",
    "scoring               = 'neg_mean_squared_error'"
   ]
  },
  {
   "cell_type": "code",
   "execution_count": 10,
   "metadata": {},
   "outputs": [
    {
     "name": "stdout",
     "output_type": "stream",
     "text": [
      "OLS: 10.382512 (1.067312)\n",
      "Ridge: 10.382509 (1.067314)\n",
      "LASSO: 10.382853 (1.068851)\n",
      "EN: 10.381404 (1.068607)\n",
      "KNN: 9.280750 (1.080013)\n",
      "CART: 6.558750 (0.916357)\n",
      "SVR: 16.323930 (1.412210)\n"
     ]
    }
   ],
   "source": [
    "model_results               = [] \n",
    "model_names                 = [] \n",
    "\n",
    "for name, model in models: \n",
    "    \n",
    "    kfold                = KFold(n_splits = nfold, random_state = seed) \n",
    "    results_from_cv      = cross_val_score(model, X_train, y_train, cv = kfold, scoring = scoring)\n",
    "    rmse_results         = np.sqrt(results_from_cv * -1)\n",
    "    \n",
    "    model_results.append(rmse_results) \n",
    "    model_names.append(name) \n",
    "    msg_metric           = \"%s: %f (%f)\" % (name, np.mean(rmse_results), np.std(rmse_results)) \n",
    "    print(msg_metric)"
   ]
  },
  {
   "cell_type": "markdown",
   "metadata": {},
   "source": [
    "### Look at the distribution of scores across all cross-validation folds by algorithm."
   ]
  },
  {
   "cell_type": "code",
   "execution_count": 11,
   "metadata": {},
   "outputs": [
    {
     "data": {
      "image/png": "[encoded data removed]",
      "text/plain": [
       "<matplotlib.figure.Figure at 0x201aeda9e10>"
      ]
     },
     "metadata": {},
     "output_type": "display_data"
    }
   ],
   "source": [
    "# Visually compare Algorithms \n",
    "fig                    = plt.figure(figsize = (12,8)) \n",
    "fig.suptitle('Algorithm Comparison') \n",
    "ax                     = fig.add_subplot(111) \n",
    "plt.boxplot(model_results) \n",
    "\n",
    "ax.set_xticklabels(model_names) \n",
    "plt.show()"
   ]
  },
  {
   "cell_type": "markdown",
   "metadata": {},
   "source": [
    "The diﬀering scales of the data is probably hurting the skill of all of the algorithms and perhaps more so for SVR and KNN.\n",
    "Use a standardized data and repeat the above"
   ]
  },
  {
   "cell_type": "code",
   "execution_count": 12,
   "metadata": {},
   "outputs": [
    {
     "name": "stdout",
     "output_type": "stream",
     "text": [
      "ScaledOLS: 10.382512 (1.067312)\n",
      "ScaledRidge: 10.382240 (1.067817)\n",
      "ScaledLASSO: 10.999966 (1.063323)\n",
      "ScaledEN: 11.769208 (1.112166)\n",
      "ScaledKNN: 9.034930 (0.830133)\n",
      "ScaledCART: 6.639248 (0.827409)\n",
      "ScaledSVR: 10.139932 (1.178352)\n"
     ]
    }
   ],
   "source": [
    "# Standardize the dataset \n",
    "pipelines = [] \n",
    "\n",
    "pipelines.append(('ScaledOLS', Pipeline([('Scaler', StandardScaler()),('OLS', LinearRegression())]))) \n",
    "pipelines.append(('ScaledRidge', Pipeline([('Scaler', StandardScaler()),('Ridge', Ridge())]))) \n",
    "pipelines.append(('ScaledLASSO', Pipeline([('Scaler', StandardScaler()),('LASSO', Lasso())])))\n",
    "pipelines.append(('ScaledEN', Pipeline([('Scaler', StandardScaler()),('EN', ElasticNet())]))) \n",
    "pipelines.append(('ScaledKNN', Pipeline([('Scaler', StandardScaler()),('KNN', KNeighborsRegressor())]))) \n",
    "pipelines.append(('ScaledCART', Pipeline([('Scaler', StandardScaler()),('CART', DecisionTreeRegressor())]))) \n",
    "pipelines.append(('ScaledSVR', Pipeline([('Scaler', StandardScaler()),('SVR', SVR())]))) \n",
    "\n",
    "model_results               = [] \n",
    "model_names                 = [] \n",
    "\n",
    "for name, model in pipelines: \n",
    "   \n",
    "    kfold                = KFold(n_splits = nfold, random_state = seed) \n",
    "    results_from_cv      = cross_val_score(model, X_train, y_train, cv = kfold, scoring = scoring)\n",
    "    rmse_results         = np.sqrt(results_from_cv * -1)\n",
    "    \n",
    "    model_results.append(rmse_results) \n",
    "    model_names.append(name) \n",
    "    msg_metric           = \"%s: %f (%f)\" % (name, np.mean(rmse_results), np.std(rmse_results)) \n",
    "    print(msg_metric)\n"
   ]
  },
  {
   "cell_type": "code",
   "execution_count": 13,
   "metadata": {},
   "outputs": [
    {
     "data": {
      "image/png": "[encoded data removed]",
      "text/plain": [
       "<matplotlib.figure.Figure at 0x201aeda99b0>"
      ]
     },
     "metadata": {},
     "output_type": "display_data"
    }
   ],
   "source": [
    "# Visually compare Algorithms \n",
    "fig                    = plt.figure(figsize = (12,8)) \n",
    "fig.suptitle('Algorithm Comparison after standardization') \n",
    "ax                     = fig.add_subplot(111) \n",
    "plt.boxplot(model_results) \n",
    "\n",
    "ax.set_xticklabels(model_names) \n",
    "plt.show()"
   ]
  },
  {
   "cell_type": "markdown",
   "metadata": {},
   "source": [
    " ### Observation\n",
    " \n",
    " Scaling did have an eﬀect on SVR, driving the error lower than the other models such as OLS, Ridge, LASSO and Elastic Net.\n"
   ]
  },
  {
   "cell_type": "markdown",
   "metadata": {},
   "source": [
    "### OLS"
   ]
  },
  {
   "cell_type": "code",
   "execution_count": 14,
   "metadata": {
    "collapsed": true
   },
   "outputs": [],
   "source": [
    "seed                  =   12345\n",
    "nfold                 =   10\n",
    "scoring               =   'neg_mean_squared_error'"
   ]
  },
  {
   "cell_type": "code",
   "execution_count": 15,
   "metadata": {
    "collapsed": true
   },
   "outputs": [],
   "source": [
    "lm_ols                =   LinearRegression()"
   ]
  },
  {
   "cell_type": "code",
   "execution_count": 16,
   "metadata": {},
   "outputs": [
    {
     "data": {
      "text/plain": [
       "LinearRegression(copy_X=True, fit_intercept=True, n_jobs=1, normalize=False)"
      ]
     },
     "execution_count": 16,
     "metadata": {},
     "output_type": "execute_result"
    }
   ],
   "source": [
    "lm_ols.fit(X_train, y_train)"
   ]
  },
  {
   "cell_type": "code",
   "execution_count": 17,
   "metadata": {},
   "outputs": [
    {
     "name": "stdout",
     "output_type": "stream",
     "text": [
      "\\OLS Multiple Linear Regression Models\n",
      "\n",
      "R Square value for Ridge Regression complete data 61.23\n"
     ]
    }
   ],
   "source": [
    "print('\\OLS Multiple Linear Regression Models\\n')\n",
    "print(\"R Square value for Ridge Regression complete data %4.2f\" % np.round(lm_ols.score(X_train, y_train) * 100, 2))"
   ]
  },
  {
   "cell_type": "code",
   "execution_count": 18,
   "metadata": {},
   "outputs": [
    {
     "name": "stdout",
     "output_type": "stream",
     "text": [
      "\n",
      "\n",
      "The model performance for training set - \n",
      "OLS regression\n",
      "--------------------------------------\n",
      "RMSE is 10.284254442304984\n",
      "MAPE is 30.736849660088144\n"
     ]
    }
   ],
   "source": [
    "report_rmse_mape(lm_ols, y_train, X_train, 'The model performance for training set - \\nOLS regression')"
   ]
  },
  {
   "cell_type": "code",
   "execution_count": 19,
   "metadata": {},
   "outputs": [
    {
     "name": "stdout",
     "output_type": "stream",
     "text": [
      "\n",
      "\n",
      "The model performance for test set - \n",
      "OLS regression\n",
      "--------------------------------------\n",
      "RMSE is 10.6308239107729\n",
      "MAPE is 32.80051602830256\n"
     ]
    }
   ],
   "source": [
    "report_rmse_mape(lm_ols, y_test, X_test, 'The model performance for test set - \\nOLS regression')"
   ]
  },
  {
   "cell_type": "markdown",
   "metadata": {},
   "source": [
    "### Ridge"
   ]
  },
  {
   "cell_type": "code",
   "execution_count": 20,
   "metadata": {
    "collapsed": true
   },
   "outputs": [],
   "source": [
    "lm_ridge              =   Ridge()"
   ]
  },
  {
   "cell_type": "code",
   "execution_count": 21,
   "metadata": {},
   "outputs": [
    {
     "data": {
      "text/plain": [
       "Ridge(alpha=1.0, copy_X=True, fit_intercept=True, max_iter=None,\n",
       "   normalize=False, random_state=None, solver='auto', tol=0.001)"
      ]
     },
     "execution_count": 21,
     "metadata": {},
     "output_type": "execute_result"
    }
   ],
   "source": [
    "lm_ridge.fit(X_train, y_train)"
   ]
  },
  {
   "cell_type": "code",
   "execution_count": 22,
   "metadata": {},
   "outputs": [
    {
     "name": "stdout",
     "output_type": "stream",
     "text": [
      "R Square value for Ridge Regression complete data 61.23\n"
     ]
    }
   ],
   "source": [
    "print(\"R Square value for Ridge Regression complete data %4.2f\" \\\n",
    "      % np.round(lm_ridge.score(X_train, y_train) * 100, 2))"
   ]
  },
  {
   "cell_type": "code",
   "execution_count": 23,
   "metadata": {},
   "outputs": [
    {
     "name": "stdout",
     "output_type": "stream",
     "text": [
      "\n",
      "\n",
      "The model performance for training set - \n",
      "Ridge regression\n",
      "--------------------------------------\n",
      "RMSE is 10.28425444268223\n",
      "MAPE is 30.73687002900695\n"
     ]
    }
   ],
   "source": [
    "report_rmse_mape(lm_ridge, y_train, X_train, \\\n",
    "                 'The model performance for training set - \\nRidge regression')"
   ]
  },
  {
   "cell_type": "code",
   "execution_count": 24,
   "metadata": {},
   "outputs": [
    {
     "name": "stdout",
     "output_type": "stream",
     "text": [
      "\n",
      "\n",
      "The model performance for testing set - \n",
      "Ridge regression\n",
      "--------------------------------------\n",
      "RMSE is 10.630824528151651\n",
      "MAPE is 32.800547581387825\n"
     ]
    }
   ],
   "source": [
    "report_rmse_mape(lm_ridge, y_test,X_test,\\\n",
    "                 'The model performance for testing set - \\nRidge regression')"
   ]
  },
  {
   "cell_type": "markdown",
   "metadata": {},
   "source": [
    "### Lasso"
   ]
  },
  {
   "cell_type": "code",
   "execution_count": 25,
   "metadata": {
    "collapsed": true
   },
   "outputs": [],
   "source": [
    "lm_lasso              =   Lasso()"
   ]
  },
  {
   "cell_type": "code",
   "execution_count": 26,
   "metadata": {},
   "outputs": [
    {
     "data": {
      "text/plain": [
       "Lasso(alpha=1.0, copy_X=True, fit_intercept=True, max_iter=1000,\n",
       "   normalize=False, positive=False, precompute=False, random_state=None,\n",
       "   selection='cyclic', tol=0.0001, warm_start=False)"
      ]
     },
     "execution_count": 26,
     "metadata": {},
     "output_type": "execute_result"
    }
   ],
   "source": [
    "lm_lasso.fit(X_train, y_train)"
   ]
  },
  {
   "cell_type": "code",
   "execution_count": 27,
   "metadata": {},
   "outputs": [
    {
     "name": "stdout",
     "output_type": "stream",
     "text": [
      "R Square value for Lasso Regression complete data 61.20\n"
     ]
    }
   ],
   "source": [
    "print(\"R Square value for Lasso Regression complete data %4.2f\" \\\n",
    "      %np.round(lm_lasso.score(X_train, y_train) * 100, 2))"
   ]
  },
  {
   "cell_type": "code",
   "execution_count": 28,
   "metadata": {},
   "outputs": [
    {
     "name": "stdout",
     "output_type": "stream",
     "text": [
      "\n",
      "\n",
      "The model performance for training set - \n",
      "Lasso regression\n",
      "--------------------------------------\n",
      "RMSE is 10.287164739928244\n",
      "MAPE is 30.838741686702022\n"
     ]
    }
   ],
   "source": [
    "report_rmse_mape(lm_lasso, y_train, X_train, \\\n",
    "                 'The model performance for training set - \\nLasso regression')"
   ]
  },
  {
   "cell_type": "code",
   "execution_count": 29,
   "metadata": {},
   "outputs": [
    {
     "name": "stdout",
     "output_type": "stream",
     "text": [
      "\n",
      "\n",
      "The model performance for testing set - \n",
      "Lasso regression\n",
      "--------------------------------------\n",
      "RMSE is 10.63250210808717\n",
      "MAPE is 32.901672169697\n"
     ]
    }
   ],
   "source": [
    "report_rmse_mape(lm_lasso, y_test, X_test, \\\n",
    "                 'The model performance for testing set - \\nLasso regression')"
   ]
  },
  {
   "cell_type": "markdown",
   "metadata": {},
   "source": [
    "### Elastic Net "
   ]
  },
  {
   "cell_type": "code",
   "execution_count": 30,
   "metadata": {
    "collapsed": true
   },
   "outputs": [],
   "source": [
    "lm_elastic            =   ElasticNet()"
   ]
  },
  {
   "cell_type": "code",
   "execution_count": 31,
   "metadata": {},
   "outputs": [
    {
     "data": {
      "text/plain": [
       "ElasticNet(alpha=1.0, copy_X=True, fit_intercept=True, l1_ratio=0.5,\n",
       "      max_iter=1000, normalize=False, positive=False, precompute=False,\n",
       "      random_state=None, selection='cyclic', tol=0.0001, warm_start=False)"
      ]
     },
     "execution_count": 31,
     "metadata": {},
     "output_type": "execute_result"
    }
   ],
   "source": [
    "lm_elastic.fit(X_train, y_train) "
   ]
  },
  {
   "cell_type": "code",
   "execution_count": 32,
   "metadata": {},
   "outputs": [
    {
     "name": "stdout",
     "output_type": "stream",
     "text": [
      "R Square value for Elastic Net Regression complete data 61.22\n"
     ]
    }
   ],
   "source": [
    "print(\"R Square value for Elastic Net Regression complete data %4.2f\" \\\n",
    "      % np.round(lm_elastic.score(X_train,y_train) * 100, 2))"
   ]
  },
  {
   "cell_type": "code",
   "execution_count": 33,
   "metadata": {},
   "outputs": [
    {
     "name": "stdout",
     "output_type": "stream",
     "text": [
      "\n",
      "\n",
      "The model performance for training set -                  \n",
      "Elsasticnet regression\n",
      "--------------------------------------\n",
      "RMSE is 10.28536906864074\n",
      "MAPE is 30.79460310596816\n"
     ]
    }
   ],
   "source": [
    "report_rmse_mape(lm_elastic, y_train, X_train, \\\n",
    "                 'The model performance for training set - \\\n",
    "                 \\nElsasticnet regression')\n"
   ]
  },
  {
   "cell_type": "code",
   "execution_count": 34,
   "metadata": {},
   "outputs": [
    {
     "name": "stdout",
     "output_type": "stream",
     "text": [
      "\n",
      "\n",
      "The model performance for testing set -                  \n",
      "Elsasticnet regression\n",
      "--------------------------------------\n",
      "RMSE is 10.631645631613996\n",
      "MAPE is 32.86193566967066\n"
     ]
    }
   ],
   "source": [
    "report_rmse_mape(lm_elastic, y_test, X_test, \\\n",
    "                 'The model performance for testing set - \\\n",
    "                 \\nElsasticnet regression')\n"
   ]
  },
  {
   "cell_type": "code",
   "execution_count": 35,
   "metadata": {
    "collapsed": true
   },
   "outputs": [],
   "source": [
    "### Non linear models\n",
    "\n",
    "kfold                 =   model_selection.KFold(n_splits = 10, random_state = seed)\n",
    "lm_CART               =   DecisionTreeRegressor()\n",
    "lm_RF                 =   RandomForestRegressor(random_state = seed)\n",
    "lm_ANN                =   MLPRegressor(alpha=0.000001, activation = 'tanh', \\\n",
    "                                       random_state = seed, tol = 0.001)\n",
    "lm_GB                 =   ensemble.GradientBoostingRegressor()\n",
    "lm_SVR                =   SVR(kernel='linear', C=1.0, epsilon=0.2, )\n",
    "lm_KNN                =   KNeighborsRegressor()"
   ]
  },
  {
   "cell_type": "code",
   "execution_count": 36,
   "metadata": {},
   "outputs": [
    {
     "data": {
      "text/plain": [
       "DecisionTreeRegressor(criterion='mse', max_depth=None, max_features=None,\n",
       "           max_leaf_nodes=None, min_impurity_decrease=0.0,\n",
       "           min_impurity_split=None, min_samples_leaf=1,\n",
       "           min_samples_split=2, min_weight_fraction_leaf=0.0,\n",
       "           presort=False, random_state=None, splitter='best')"
      ]
     },
     "execution_count": 36,
     "metadata": {},
     "output_type": "execute_result"
    }
   ],
   "source": [
    "lm_CART.fit(X_train, y_train) "
   ]
  },
  {
   "cell_type": "code",
   "execution_count": 37,
   "metadata": {},
   "outputs": [
    {
     "data": {
      "text/plain": [
       "RandomForestRegressor(bootstrap=True, criterion='mse', max_depth=None,\n",
       "           max_features='auto', max_leaf_nodes=None,\n",
       "           min_impurity_decrease=0.0, min_impurity_split=None,\n",
       "           min_samples_leaf=1, min_samples_split=2,\n",
       "           min_weight_fraction_leaf=0.0, n_estimators=10, n_jobs=1,\n",
       "           oob_score=False, random_state=12345, verbose=0,\n",
       "           warm_start=False)"
      ]
     },
     "execution_count": 37,
     "metadata": {},
     "output_type": "execute_result"
    }
   ],
   "source": [
    "lm_RF.fit(X_train, y_train)"
   ]
  },
  {
   "cell_type": "code",
   "execution_count": 38,
   "metadata": {},
   "outputs": [
    {
     "data": {
      "text/plain": [
       "GradientBoostingRegressor(alpha=0.9, criterion='friedman_mse', init=None,\n",
       "             learning_rate=0.1, loss='ls', max_depth=3, max_features=None,\n",
       "             max_leaf_nodes=None, min_impurity_decrease=0.0,\n",
       "             min_impurity_split=None, min_samples_leaf=1,\n",
       "             min_samples_split=2, min_weight_fraction_leaf=0.0,\n",
       "             n_estimators=100, presort='auto', random_state=None,\n",
       "             subsample=1.0, verbose=0, warm_start=False)"
      ]
     },
     "execution_count": 38,
     "metadata": {},
     "output_type": "execute_result"
    }
   ],
   "source": [
    "lm_GB.fit(X_train, y_train)"
   ]
  },
  {
   "cell_type": "code",
   "execution_count": 39,
   "metadata": {},
   "outputs": [
    {
     "data": {
      "text/plain": [
       "SVR(C=1.0, cache_size=200, coef0=0.0, degree=3, epsilon=0.2, gamma='auto',\n",
       "  kernel='linear', max_iter=-1, shrinking=True, tol=0.001, verbose=False)"
      ]
     },
     "execution_count": 39,
     "metadata": {},
     "output_type": "execute_result"
    }
   ],
   "source": [
    "lm_SVR.fit(X_train, y_train)  "
   ]
  },
  {
   "cell_type": "code",
   "execution_count": 40,
   "metadata": {},
   "outputs": [
    {
     "data": {
      "text/plain": [
       "KNeighborsRegressor(algorithm='auto', leaf_size=30, metric='minkowski',\n",
       "          metric_params=None, n_jobs=1, n_neighbors=5, p=2,\n",
       "          weights='uniform')"
      ]
     },
     "execution_count": 40,
     "metadata": {},
     "output_type": "execute_result"
    }
   ],
   "source": [
    "lm_KNN.fit(X_train, y_train)  "
   ]
  },
  {
   "cell_type": "code",
   "execution_count": 41,
   "metadata": {},
   "outputs": [
    {
     "data": {
      "text/plain": [
       "MLPRegressor(activation='tanh', alpha=1e-06, batch_size='auto', beta_1=0.9,\n",
       "       beta_2=0.999, early_stopping=False, epsilon=1e-08,\n",
       "       hidden_layer_sizes=(100,), learning_rate='constant',\n",
       "       learning_rate_init=0.001, max_iter=200, momentum=0.9,\n",
       "       nesterovs_momentum=True, power_t=0.5, random_state=12345,\n",
       "       shuffle=True, solver='adam', tol=0.001, validation_fraction=0.1,\n",
       "       verbose=False, warm_start=False)"
      ]
     },
     "execution_count": 41,
     "metadata": {},
     "output_type": "execute_result"
    }
   ],
   "source": [
    "lm_ANN.fit(X_train, y_train)"
   ]
  },
  {
   "cell_type": "code",
   "execution_count": 42,
   "metadata": {},
   "outputs": [
    {
     "name": "stdout",
     "output_type": "stream",
     "text": [
      "\n",
      "Non linear Models\n",
      "\n",
      "R Square value for CART Regression complete data 99.88\n",
      "R Square value for Random Forest Regression complete data 98.21\n",
      "R Square value for Artificial Neural Network Regression complete data 3.54\n",
      "R Square value for Gradient Boosting Regression complete data 95.12\n",
      "R Square value for SVR Regression complete data 59.20\n",
      "R Square value for KNN Regression complete data 81.20\n"
     ]
    }
   ],
   "source": [
    "print('\\nNon linear Models\\n')\n",
    "print(\"R Square value for CART Regression complete data %4.2f\" \\\n",
    "      % np.round(lm_CART.score(X_train,y_train) * 100, 2))\n",
    "print(\"R Square value for Random Forest Regression complete data %4.2f\"\\\n",
    "      % np.round(lm_RF.score(X_train,y_train) * 100, 2))\n",
    "print(\"R Square value for Artificial Neural Network Regression complete data %4.2f\"\\\n",
    "      % np.round(lm_ANN.score(X_train,y_train) * 100, 2))\n",
    "\n",
    "print(\"R Square value for Gradient Boosting Regression complete data %4.2f\" \\\n",
    "      % np.round(lm_GB.score(X_train,y_train) * 100, 2))\n",
    "print(\"R Square value for SVR Regression complete data %4.2f\" \\\n",
    "      % np.round(lm_SVR.score(X_train,y_train) * 100, 2))\n",
    "print(\"R Square value for KNN Regression complete data %4.2f\"\\\n",
    "      % np.round(lm_KNN.score(X_train,y_train) * 100, 2))"
   ]
  },
  {
   "cell_type": "code",
   "execution_count": 43,
   "metadata": {
    "collapsed": true
   },
   "outputs": [],
   "source": [
    "### For training dataset\n",
    "seed                  =   12345\n",
    "X                     =   X_train\n",
    "y                     =   y_train"
   ]
  },
  {
   "cell_type": "code",
   "execution_count": 44,
   "metadata": {},
   "outputs": [
    {
     "name": "stdout",
     "output_type": "stream",
     "text": [
      "\n",
      "Other Non Linear Models\n",
      "\n",
      "\n",
      "\n",
      "The model performance for training set -                 \n",
      "CART regression\n",
      "--------------------------------------\n",
      "RMSE is 0.5748490917895828\n",
      "MAPE is 0.15747031194231095\n",
      "\n",
      "\n",
      "The model performance for training set -                  \n",
      "Random forest regression\n",
      "--------------------------------------\n",
      "RMSE is 2.210776925933515\n",
      "MAPE is 5.095857583457737\n",
      "\n",
      "\n",
      "The model performance for training set -                 \n",
      "Gradient Boosting regression\n",
      "--------------------------------------\n",
      "RMSE is 3.650245497738175\n",
      "MAPE is 9.385840937349947\n",
      "\n",
      "\n",
      "The model performance for training set -                  \n",
      "SVR regression\n",
      "--------------------------------------\n",
      "RMSE is 10.549461821704725\n",
      "MAPE is 29.760413943787746\n",
      "\n",
      "\n",
      "The model performance for training set -                  \n",
      "KNN regression\n",
      "--------------------------------------\n",
      "RMSE is 7.161412984317847\n",
      "MAPE is 20.75739949885169\n",
      "\n",
      "\n",
      "The model performance for training set -                 \n",
      "Neural Network regression\n",
      "--------------------------------------\n",
      "RMSE is 16.221082153672523\n",
      "MAPE is 56.17067026350943\n"
     ]
    }
   ],
   "source": [
    "print('\\nOther Non Linear Models\\n')\n",
    "\n",
    "report_rmse_mape(lm_CART, y, X, \\\n",
    "                 'The model performance for training set -\\\n",
    "                 \\nCART regression')\n",
    "report_rmse_mape(lm_RF, y, X,    \\\n",
    "                 'The model performance for training set - \\\n",
    "                 \\nRandom forest regression')\n",
    "report_rmse_mape(lm_GB, y, X,   \\\n",
    "                 'The model performance for training set -\\\n",
    "                 \\nGradient Boosting regression')\n",
    "report_rmse_mape(lm_SVR, y, X,  \\\n",
    "                 'The model performance for training set - \\\n",
    "                 \\nSVR regression')\n",
    "report_rmse_mape(lm_KNN, y, X, \\\n",
    "                 'The model performance for training set - \\\n",
    "                 \\nKNN regression')\n",
    "report_rmse_mape(lm_ANN, y, X,  \\\n",
    "                 'The model performance for training set -\\\n",
    "                 \\nNeural Network regression')"
   ]
  },
  {
   "cell_type": "code",
   "execution_count": 45,
   "metadata": {},
   "outputs": [
    {
     "name": "stdout",
     "output_type": "stream",
     "text": [
      "\n",
      " Feature importances from model CART\n",
      "\n",
      "[(0.3810250541087998, 'Cement'), (0.08439167177271742, 'Blast'), (0.014756720479307222, 'Fly Ash'), (0.1116338569562854, 'Water'), (0.015213545359082389, 'Superplasticizer'), (0.033434902141092064, 'CA'), (0.04431405490681336, 'FA'), (0.3152301942759024, 'Age')]\n"
     ]
    },
    {
     "data": {
      "image/png": "[encoded data removed]",
      "text/plain": [
       "<matplotlib.figure.Figure at 0x201bb440710>"
      ]
     },
     "metadata": {},
     "output_type": "display_data"
    },
    {
     "name": "stdout",
     "output_type": "stream",
     "text": [
      "\n",
      " Feature importances from model RF\n",
      "\n",
      "[(0.34626198534635017, 'Cement'), (0.07518123316842915, 'Blast'), (0.01753290465079369, 'Fly Ash'), (0.08072639917503102, 'Water'), (0.07394815462311927, 'Superplasticizer'), (0.03488925865229099, 'CA'), (0.039941661519160634, 'FA'), (0.33151840286482515, 'Age')]\n"
     ]
    },
    {
     "data": {
      "image/png": "[encoded data removed]",
      "text/plain": [
       "<matplotlib.figure.Figure at 0x201bb446080>"
      ]
     },
     "metadata": {},
     "output_type": "display_data"
    }
   ],
   "source": [
    "feature_importances('CART',lm_CART, lm_CART.feature_importances_)  \n",
    "feature_importances('RF',lm_RF, lm_RF.feature_importances_)  "
   ]
  },
  {
   "cell_type": "code",
   "execution_count": 46,
   "metadata": {
    "collapsed": true
   },
   "outputs": [],
   "source": [
    "feature_names = ['Cement', 'Blast', 'Fly Ash', 'Water', 'Superplasticizer','CA', 'FA', 'Age']"
   ]
  },
  {
   "cell_type": "code",
   "execution_count": 47,
   "metadata": {},
   "outputs": [
    {
     "name": "stdout",
     "output_type": "stream",
     "text": [
      "\n",
      " Feature Permutation importances from model KNN\n",
      "\n"
     ]
    },
    {
     "data": {
      "text/html": [
       "\n",
       "    <style>\n",
       "    table.eli5-weights tr:hover {\n",
       "        filter: brightness(85%);\n",
       "    }\n",
       "</style>\n",
       "\n",
       "\n",
       "\n",
       "    \n",
       "\n",
       "    \n",
       "\n",
       "    \n",
       "\n",
       "    \n",
       "\n",
       "    \n",
       "\n",
       "    \n",
       "\n",
       "\n",
       "    \n",
       "\n",
       "    \n",
       "\n",
       "    \n",
       "\n",
       "    \n",
       "\n",
       "    \n",
       "\n",
       "    \n",
       "\n",
       "\n",
       "    \n",
       "\n",
       "    \n",
       "\n",
       "    \n",
       "\n",
       "    \n",
       "\n",
       "    \n",
       "        <table class=\"eli5-weights eli5-feature-importances\" style=\"border-collapse: collapse; border: none; margin-top: 0em; table-layout: auto;\">\n",
       "    <thead>\n",
       "    <tr style=\"border: none;\">\n",
       "        <th style=\"padding: 0 1em 0 0.5em; text-align: right; border: none;\">Weight</th>\n",
       "        <th style=\"padding: 0 0.5em 0 0.5em; text-align: left; border: none;\">Feature</th>\n",
       "    </tr>\n",
       "    </thead>\n",
       "    <tbody>\n",
       "    \n",
       "        <tr style=\"background-color: hsl(120, 100.00%, 80.00%); border: none;\">\n",
       "            <td style=\"padding: 0 1em 0 0.5em; text-align: right; border: none;\">\n",
       "                0.8988\n",
       "                \n",
       "                    &plusmn; 0.1329\n",
       "                \n",
       "            </td>\n",
       "            <td style=\"padding: 0 0.5em 0 0.5em; text-align: left; border: none;\">\n",
       "                Cement\n",
       "            </td>\n",
       "        </tr>\n",
       "    \n",
       "        <tr style=\"background-color: hsl(120, 100.00%, 87.89%); border: none;\">\n",
       "            <td style=\"padding: 0 1em 0 0.5em; text-align: right; border: none;\">\n",
       "                0.4388\n",
       "                \n",
       "                    &plusmn; 0.0233\n",
       "                \n",
       "            </td>\n",
       "            <td style=\"padding: 0 0.5em 0 0.5em; text-align: left; border: none;\">\n",
       "                Blast\n",
       "            </td>\n",
       "        </tr>\n",
       "    \n",
       "        <tr style=\"background-color: hsl(120, 100.00%, 88.67%); border: none;\">\n",
       "            <td style=\"padding: 0 1em 0 0.5em; text-align: right; border: none;\">\n",
       "                0.3989\n",
       "                \n",
       "                    &plusmn; 0.0373\n",
       "                \n",
       "            </td>\n",
       "            <td style=\"padding: 0 0.5em 0 0.5em; text-align: left; border: none;\">\n",
       "                Age\n",
       "            </td>\n",
       "        </tr>\n",
       "    \n",
       "        <tr style=\"background-color: hsl(120, 100.00%, 92.46%); border: none;\">\n",
       "            <td style=\"padding: 0 1em 0 0.5em; text-align: right; border: none;\">\n",
       "                0.2231\n",
       "                \n",
       "                    &plusmn; 0.0336\n",
       "                \n",
       "            </td>\n",
       "            <td style=\"padding: 0 0.5em 0 0.5em; text-align: left; border: none;\">\n",
       "                Fly Ash\n",
       "            </td>\n",
       "        </tr>\n",
       "    \n",
       "        <tr style=\"background-color: hsl(120, 100.00%, 93.93%); border: none;\">\n",
       "            <td style=\"padding: 0 1em 0 0.5em; text-align: right; border: none;\">\n",
       "                0.1636\n",
       "                \n",
       "                    &plusmn; 0.0390\n",
       "                \n",
       "            </td>\n",
       "            <td style=\"padding: 0 0.5em 0 0.5em; text-align: left; border: none;\">\n",
       "                FA\n",
       "            </td>\n",
       "        </tr>\n",
       "    \n",
       "        <tr style=\"background-color: hsl(120, 100.00%, 94.25%); border: none;\">\n",
       "            <td style=\"padding: 0 1em 0 0.5em; text-align: right; border: none;\">\n",
       "                0.1513\n",
       "                \n",
       "                    &plusmn; 0.0314\n",
       "                \n",
       "            </td>\n",
       "            <td style=\"padding: 0 0.5em 0 0.5em; text-align: left; border: none;\">\n",
       "                CA\n",
       "            </td>\n",
       "        </tr>\n",
       "    \n",
       "        <tr style=\"background-color: hsl(120, 100.00%, 98.78%); border: none;\">\n",
       "            <td style=\"padding: 0 1em 0 0.5em; text-align: right; border: none;\">\n",
       "                0.0166\n",
       "                \n",
       "                    &plusmn; 0.0052\n",
       "                \n",
       "            </td>\n",
       "            <td style=\"padding: 0 0.5em 0 0.5em; text-align: left; border: none;\">\n",
       "                Water\n",
       "            </td>\n",
       "        </tr>\n",
       "    \n",
       "        <tr style=\"background-color: hsl(120, 100.00%, 99.79%); border: none;\">\n",
       "            <td style=\"padding: 0 1em 0 0.5em; text-align: right; border: none;\">\n",
       "                0.0013\n",
       "                \n",
       "                    &plusmn; 0.0007\n",
       "                \n",
       "            </td>\n",
       "            <td style=\"padding: 0 0.5em 0 0.5em; text-align: left; border: none;\">\n",
       "                Superplasticizer\n",
       "            </td>\n",
       "        </tr>\n",
       "    \n",
       "    \n",
       "    </tbody>\n",
       "</table>\n",
       "    \n",
       "\n",
       "    \n",
       "\n",
       "\n",
       "    \n",
       "\n",
       "    \n",
       "\n",
       "    \n",
       "\n",
       "    \n",
       "\n",
       "    \n",
       "\n",
       "    \n",
       "\n",
       "\n",
       "\n"
      ],
      "text/plain": [
       "<IPython.core.display.HTML object>"
      ]
     },
     "execution_count": 47,
     "metadata": {},
     "output_type": "execute_result"
    }
   ],
   "source": [
    "print('\\n Feature Permutation importances from model %s\\n' % 'KNN')\n",
    "    \n",
    "permuted = PermutationImportance(lm_KNN, random_state = seed).fit(X, y.values)\n",
    "eli5.show_weights(permuted, feature_names = feature_names)"
   ]
  },
  {
   "cell_type": "code",
   "execution_count": 48,
   "metadata": {},
   "outputs": [
    {
     "name": "stdout",
     "output_type": "stream",
     "text": [
      "\n",
      " Feature Permutation importances from model SVR\n",
      "\n"
     ]
    },
    {
     "data": {
      "text/html": [
       "\n",
       "    <style>\n",
       "    table.eli5-weights tr:hover {\n",
       "        filter: brightness(85%);\n",
       "    }\n",
       "</style>\n",
       "\n",
       "\n",
       "\n",
       "    \n",
       "\n",
       "    \n",
       "\n",
       "    \n",
       "\n",
       "    \n",
       "\n",
       "    \n",
       "\n",
       "    \n",
       "\n",
       "\n",
       "    \n",
       "\n",
       "    \n",
       "\n",
       "    \n",
       "\n",
       "    \n",
       "\n",
       "    \n",
       "\n",
       "    \n",
       "\n",
       "\n",
       "    \n",
       "\n",
       "    \n",
       "\n",
       "    \n",
       "\n",
       "    \n",
       "\n",
       "    \n",
       "        <table class=\"eli5-weights eli5-feature-importances\" style=\"border-collapse: collapse; border: none; margin-top: 0em; table-layout: auto;\">\n",
       "    <thead>\n",
       "    <tr style=\"border: none;\">\n",
       "        <th style=\"padding: 0 1em 0 0.5em; text-align: right; border: none;\">Weight</th>\n",
       "        <th style=\"padding: 0 0.5em 0 0.5em; text-align: left; border: none;\">Feature</th>\n",
       "    </tr>\n",
       "    </thead>\n",
       "    <tbody>\n",
       "    \n",
       "        <tr style=\"background-color: hsl(120, 100.00%, 80.00%); border: none;\">\n",
       "            <td style=\"padding: 0 1em 0 0.5em; text-align: right; border: none;\">\n",
       "                1.8622\n",
       "                \n",
       "                    &plusmn; 0.1527\n",
       "                \n",
       "            </td>\n",
       "            <td style=\"padding: 0 0.5em 0 0.5em; text-align: left; border: none;\">\n",
       "                Cement\n",
       "            </td>\n",
       "        </tr>\n",
       "    \n",
       "        <tr style=\"background-color: hsl(120, 100.00%, 86.95%); border: none;\">\n",
       "            <td style=\"padding: 0 1em 0 0.5em; text-align: right; border: none;\">\n",
       "                1.0118\n",
       "                \n",
       "                    &plusmn; 0.0565\n",
       "                \n",
       "            </td>\n",
       "            <td style=\"padding: 0 0.5em 0 0.5em; text-align: left; border: none;\">\n",
       "                Blast\n",
       "            </td>\n",
       "        </tr>\n",
       "    \n",
       "        <tr style=\"background-color: hsl(120, 100.00%, 91.60%); border: none;\">\n",
       "            <td style=\"padding: 0 1em 0 0.5em; text-align: right; border: none;\">\n",
       "                0.5392\n",
       "                \n",
       "                    &plusmn; 0.0358\n",
       "                \n",
       "            </td>\n",
       "            <td style=\"padding: 0 0.5em 0 0.5em; text-align: left; border: none;\">\n",
       "                Fly Ash\n",
       "            </td>\n",
       "        </tr>\n",
       "    \n",
       "        <tr style=\"background-color: hsl(120, 100.00%, 92.11%); border: none;\">\n",
       "            <td style=\"padding: 0 1em 0 0.5em; text-align: right; border: none;\">\n",
       "                0.4929\n",
       "                \n",
       "                    &plusmn; 0.0609\n",
       "                \n",
       "            </td>\n",
       "            <td style=\"padding: 0 0.5em 0 0.5em; text-align: left; border: none;\">\n",
       "                Age\n",
       "            </td>\n",
       "        </tr>\n",
       "    \n",
       "        <tr style=\"background-color: hsl(120, 100.00%, 96.67%); border: none;\">\n",
       "            <td style=\"padding: 0 1em 0 0.5em; text-align: right; border: none;\">\n",
       "                0.1436\n",
       "                \n",
       "                    &plusmn; 0.0095\n",
       "                \n",
       "            </td>\n",
       "            <td style=\"padding: 0 0.5em 0 0.5em; text-align: left; border: none;\">\n",
       "                FA\n",
       "            </td>\n",
       "        </tr>\n",
       "    \n",
       "        <tr style=\"background-color: hsl(120, 100.00%, 98.04%); border: none;\">\n",
       "            <td style=\"padding: 0 1em 0 0.5em; text-align: right; border: none;\">\n",
       "                0.0672\n",
       "                \n",
       "                    &plusmn; 0.0194\n",
       "                \n",
       "            </td>\n",
       "            <td style=\"padding: 0 0.5em 0 0.5em; text-align: left; border: none;\">\n",
       "                CA\n",
       "            </td>\n",
       "        </tr>\n",
       "    \n",
       "        <tr style=\"background-color: hsl(120, 100.00%, 99.09%); border: none;\">\n",
       "            <td style=\"padding: 0 1em 0 0.5em; text-align: right; border: none;\">\n",
       "                0.0225\n",
       "                \n",
       "                    &plusmn; 0.0084\n",
       "                \n",
       "            </td>\n",
       "            <td style=\"padding: 0 0.5em 0 0.5em; text-align: left; border: none;\">\n",
       "                Water\n",
       "            </td>\n",
       "        </tr>\n",
       "    \n",
       "        <tr style=\"background-color: hsl(120, 100.00%, 99.40%); border: none;\">\n",
       "            <td style=\"padding: 0 1em 0 0.5em; text-align: right; border: none;\">\n",
       "                0.0124\n",
       "                \n",
       "                    &plusmn; 0.0045\n",
       "                \n",
       "            </td>\n",
       "            <td style=\"padding: 0 0.5em 0 0.5em; text-align: left; border: none;\">\n",
       "                Superplasticizer\n",
       "            </td>\n",
       "        </tr>\n",
       "    \n",
       "    \n",
       "    </tbody>\n",
       "</table>\n",
       "    \n",
       "\n",
       "    \n",
       "\n",
       "\n",
       "    \n",
       "\n",
       "    \n",
       "\n",
       "    \n",
       "\n",
       "    \n",
       "\n",
       "    \n",
       "\n",
       "    \n",
       "\n",
       "\n",
       "\n"
      ],
      "text/plain": [
       "<IPython.core.display.HTML object>"
      ]
     },
     "execution_count": 48,
     "metadata": {},
     "output_type": "execute_result"
    }
   ],
   "source": [
    "print('\\n Feature Permutation importances from model %s\\n' % 'SVR')\n",
    "    \n",
    "permuted = PermutationImportance(lm_SVR, random_state = seed).fit(X, y.values)\n",
    "eli5.show_weights(permuted, feature_names = feature_names)"
   ]
  },
  {
   "cell_type": "code",
   "execution_count": 49,
   "metadata": {},
   "outputs": [
    {
     "name": "stdout",
     "output_type": "stream",
     "text": [
      "\n",
      " Feature Permutation importances from model GB\n",
      "\n"
     ]
    },
    {
     "data": {
      "text/html": [
       "\n",
       "    <style>\n",
       "    table.eli5-weights tr:hover {\n",
       "        filter: brightness(85%);\n",
       "    }\n",
       "</style>\n",
       "\n",
       "\n",
       "\n",
       "    \n",
       "\n",
       "    \n",
       "\n",
       "    \n",
       "\n",
       "    \n",
       "\n",
       "    \n",
       "\n",
       "    \n",
       "\n",
       "\n",
       "    \n",
       "\n",
       "    \n",
       "\n",
       "    \n",
       "\n",
       "    \n",
       "\n",
       "    \n",
       "\n",
       "    \n",
       "\n",
       "\n",
       "    \n",
       "\n",
       "    \n",
       "\n",
       "    \n",
       "\n",
       "    \n",
       "\n",
       "    \n",
       "        <table class=\"eli5-weights eli5-feature-importances\" style=\"border-collapse: collapse; border: none; margin-top: 0em; table-layout: auto;\">\n",
       "    <thead>\n",
       "    <tr style=\"border: none;\">\n",
       "        <th style=\"padding: 0 1em 0 0.5em; text-align: right; border: none;\">Weight</th>\n",
       "        <th style=\"padding: 0 0.5em 0 0.5em; text-align: left; border: none;\">Feature</th>\n",
       "    </tr>\n",
       "    </thead>\n",
       "    <tbody>\n",
       "    \n",
       "        <tr style=\"background-color: hsl(120, 100.00%, 80.00%); border: none;\">\n",
       "            <td style=\"padding: 0 1em 0 0.5em; text-align: right; border: none;\">\n",
       "                0.7454\n",
       "                \n",
       "                    &plusmn; 0.0413\n",
       "                \n",
       "            </td>\n",
       "            <td style=\"padding: 0 0.5em 0 0.5em; text-align: left; border: none;\">\n",
       "                Age\n",
       "            </td>\n",
       "        </tr>\n",
       "    \n",
       "        <tr style=\"background-color: hsl(120, 100.00%, 82.11%); border: none;\">\n",
       "            <td style=\"padding: 0 1em 0 0.5em; text-align: right; border: none;\">\n",
       "                0.6355\n",
       "                \n",
       "                    &plusmn; 0.0238\n",
       "                \n",
       "            </td>\n",
       "            <td style=\"padding: 0 0.5em 0 0.5em; text-align: left; border: none;\">\n",
       "                Cement\n",
       "            </td>\n",
       "        </tr>\n",
       "    \n",
       "        <tr style=\"background-color: hsl(120, 100.00%, 90.89%); border: none;\">\n",
       "            <td style=\"padding: 0 1em 0 0.5em; text-align: right; border: none;\">\n",
       "                0.2423\n",
       "                \n",
       "                    &plusmn; 0.0196\n",
       "                \n",
       "            </td>\n",
       "            <td style=\"padding: 0 0.5em 0 0.5em; text-align: left; border: none;\">\n",
       "                Water\n",
       "            </td>\n",
       "        </tr>\n",
       "    \n",
       "        <tr style=\"background-color: hsl(120, 100.00%, 93.70%); border: none;\">\n",
       "            <td style=\"padding: 0 1em 0 0.5em; text-align: right; border: none;\">\n",
       "                0.1431\n",
       "                \n",
       "                    &plusmn; 0.0141\n",
       "                \n",
       "            </td>\n",
       "            <td style=\"padding: 0 0.5em 0 0.5em; text-align: left; border: none;\">\n",
       "                Blast\n",
       "            </td>\n",
       "        </tr>\n",
       "    \n",
       "        <tr style=\"background-color: hsl(120, 100.00%, 97.52%); border: none;\">\n",
       "            <td style=\"padding: 0 1em 0 0.5em; text-align: right; border: none;\">\n",
       "                0.0378\n",
       "                \n",
       "                    &plusmn; 0.0037\n",
       "                \n",
       "            </td>\n",
       "            <td style=\"padding: 0 0.5em 0 0.5em; text-align: left; border: none;\">\n",
       "                FA\n",
       "            </td>\n",
       "        </tr>\n",
       "    \n",
       "        <tr style=\"background-color: hsl(120, 100.00%, 97.74%); border: none;\">\n",
       "            <td style=\"padding: 0 1em 0 0.5em; text-align: right; border: none;\">\n",
       "                0.0332\n",
       "                \n",
       "                    &plusmn; 0.0036\n",
       "                \n",
       "            </td>\n",
       "            <td style=\"padding: 0 0.5em 0 0.5em; text-align: left; border: none;\">\n",
       "                Superplasticizer\n",
       "            </td>\n",
       "        </tr>\n",
       "    \n",
       "        <tr style=\"background-color: hsl(120, 100.00%, 98.68%); border: none;\">\n",
       "            <td style=\"padding: 0 1em 0 0.5em; text-align: right; border: none;\">\n",
       "                0.0154\n",
       "                \n",
       "                    &plusmn; 0.0012\n",
       "                \n",
       "            </td>\n",
       "            <td style=\"padding: 0 0.5em 0 0.5em; text-align: left; border: none;\">\n",
       "                CA\n",
       "            </td>\n",
       "        </tr>\n",
       "    \n",
       "        <tr style=\"background-color: hsl(120, 100.00%, 99.54%); border: none;\">\n",
       "            <td style=\"padding: 0 1em 0 0.5em; text-align: right; border: none;\">\n",
       "                0.0034\n",
       "                \n",
       "                    &plusmn; 0.0008\n",
       "                \n",
       "            </td>\n",
       "            <td style=\"padding: 0 0.5em 0 0.5em; text-align: left; border: none;\">\n",
       "                Fly Ash\n",
       "            </td>\n",
       "        </tr>\n",
       "    \n",
       "    \n",
       "    </tbody>\n",
       "</table>\n",
       "    \n",
       "\n",
       "    \n",
       "\n",
       "\n",
       "    \n",
       "\n",
       "    \n",
       "\n",
       "    \n",
       "\n",
       "    \n",
       "\n",
       "    \n",
       "\n",
       "    \n",
       "\n",
       "\n",
       "\n"
      ],
      "text/plain": [
       "<IPython.core.display.HTML object>"
      ]
     },
     "execution_count": 49,
     "metadata": {},
     "output_type": "execute_result"
    }
   ],
   "source": [
    "print('\\n Feature Permutation importances from model %s\\n' % 'GB')\n",
    "    \n",
    "permuted = PermutationImportance(lm_GB, random_state = seed).fit(X, y.values)\n",
    "eli5.show_weights(permuted, feature_names = feature_names)"
   ]
  },
  {
   "cell_type": "code",
   "execution_count": 50,
   "metadata": {},
   "outputs": [
    {
     "name": "stdout",
     "output_type": "stream",
     "text": [
      "\n",
      " Feature Permutation importances from model ANN\n",
      "\n"
     ]
    },
    {
     "data": {
      "text/html": [
       "\n",
       "    <style>\n",
       "    table.eli5-weights tr:hover {\n",
       "        filter: brightness(85%);\n",
       "    }\n",
       "</style>\n",
       "\n",
       "\n",
       "\n",
       "    \n",
       "\n",
       "    \n",
       "\n",
       "    \n",
       "\n",
       "    \n",
       "\n",
       "    \n",
       "\n",
       "    \n",
       "\n",
       "\n",
       "    \n",
       "\n",
       "    \n",
       "\n",
       "    \n",
       "\n",
       "    \n",
       "\n",
       "    \n",
       "\n",
       "    \n",
       "\n",
       "\n",
       "    \n",
       "\n",
       "    \n",
       "\n",
       "    \n",
       "\n",
       "    \n",
       "\n",
       "    \n",
       "        <table class=\"eli5-weights eli5-feature-importances\" style=\"border-collapse: collapse; border: none; margin-top: 0em; table-layout: auto;\">\n",
       "    <thead>\n",
       "    <tr style=\"border: none;\">\n",
       "        <th style=\"padding: 0 1em 0 0.5em; text-align: right; border: none;\">Weight</th>\n",
       "        <th style=\"padding: 0 0.5em 0 0.5em; text-align: left; border: none;\">Feature</th>\n",
       "    </tr>\n",
       "    </thead>\n",
       "    <tbody>\n",
       "    \n",
       "        <tr style=\"background-color: hsl(120, 100.00%, 80.00%); border: none;\">\n",
       "            <td style=\"padding: 0 1em 0 0.5em; text-align: right; border: none;\">\n",
       "                0.0222\n",
       "                \n",
       "                    &plusmn; 0.0048\n",
       "                \n",
       "            </td>\n",
       "            <td style=\"padding: 0 0.5em 0 0.5em; text-align: left; border: none;\">\n",
       "                Cement\n",
       "            </td>\n",
       "        </tr>\n",
       "    \n",
       "        <tr style=\"background-color: hsl(120, 100.00%, 85.11%); border: none;\">\n",
       "            <td style=\"padding: 0 1em 0 0.5em; text-align: right; border: none;\">\n",
       "                0.0146\n",
       "                \n",
       "                    &plusmn; 0.0030\n",
       "                \n",
       "            </td>\n",
       "            <td style=\"padding: 0 0.5em 0 0.5em; text-align: left; border: none;\">\n",
       "                Age\n",
       "            </td>\n",
       "        </tr>\n",
       "    \n",
       "        <tr style=\"background-color: hsl(120, 100.00%, 96.04%); border: none;\">\n",
       "            <td style=\"padding: 0 1em 0 0.5em; text-align: right; border: none;\">\n",
       "                0.0022\n",
       "                \n",
       "                    &plusmn; 0.0017\n",
       "                \n",
       "            </td>\n",
       "            <td style=\"padding: 0 0.5em 0 0.5em; text-align: left; border: none;\">\n",
       "                Blast\n",
       "            </td>\n",
       "        </tr>\n",
       "    \n",
       "        <tr style=\"background-color: hsl(120, 100.00%, 97.50%); border: none;\">\n",
       "            <td style=\"padding: 0 1em 0 0.5em; text-align: right; border: none;\">\n",
       "                0.0011\n",
       "                \n",
       "                    &plusmn; 0.0008\n",
       "                \n",
       "            </td>\n",
       "            <td style=\"padding: 0 0.5em 0 0.5em; text-align: left; border: none;\">\n",
       "                Superplasticizer\n",
       "            </td>\n",
       "        </tr>\n",
       "    \n",
       "        <tr style=\"background-color: hsl(120, 100.00%, 98.12%); border: none;\">\n",
       "            <td style=\"padding: 0 1em 0 0.5em; text-align: right; border: none;\">\n",
       "                0.0008\n",
       "                \n",
       "                    &plusmn; 0.0006\n",
       "                \n",
       "            </td>\n",
       "            <td style=\"padding: 0 0.5em 0 0.5em; text-align: left; border: none;\">\n",
       "                Water\n",
       "            </td>\n",
       "        </tr>\n",
       "    \n",
       "        <tr style=\"background-color: hsl(120, 100.00%, 99.06%); border: none;\">\n",
       "            <td style=\"padding: 0 1em 0 0.5em; text-align: right; border: none;\">\n",
       "                0.0003\n",
       "                \n",
       "                    &plusmn; 0.0006\n",
       "                \n",
       "            </td>\n",
       "            <td style=\"padding: 0 0.5em 0 0.5em; text-align: left; border: none;\">\n",
       "                Fly Ash\n",
       "            </td>\n",
       "        </tr>\n",
       "    \n",
       "        <tr style=\"background-color: hsl(0, 100.00%, 99.09%); border: none;\">\n",
       "            <td style=\"padding: 0 1em 0 0.5em; text-align: right; border: none;\">\n",
       "                -0.0003\n",
       "                \n",
       "                    &plusmn; 0.0015\n",
       "                \n",
       "            </td>\n",
       "            <td style=\"padding: 0 0.5em 0 0.5em; text-align: left; border: none;\">\n",
       "                CA\n",
       "            </td>\n",
       "        </tr>\n",
       "    \n",
       "        <tr style=\"background-color: hsl(0, 100.00%, 98.25%); border: none;\">\n",
       "            <td style=\"padding: 0 1em 0 0.5em; text-align: right; border: none;\">\n",
       "                -0.0007\n",
       "                \n",
       "                    &plusmn; 0.0014\n",
       "                \n",
       "            </td>\n",
       "            <td style=\"padding: 0 0.5em 0 0.5em; text-align: left; border: none;\">\n",
       "                FA\n",
       "            </td>\n",
       "        </tr>\n",
       "    \n",
       "    \n",
       "    </tbody>\n",
       "</table>\n",
       "    \n",
       "\n",
       "    \n",
       "\n",
       "\n",
       "    \n",
       "\n",
       "    \n",
       "\n",
       "    \n",
       "\n",
       "    \n",
       "\n",
       "    \n",
       "\n",
       "    \n",
       "\n",
       "\n",
       "\n"
      ],
      "text/plain": [
       "<IPython.core.display.HTML object>"
      ]
     },
     "execution_count": 50,
     "metadata": {},
     "output_type": "execute_result"
    }
   ],
   "source": [
    "print('\\n Feature Permutation importances from model %s\\n' % 'ANN')\n",
    "    \n",
    "permuted = PermutationImportance(lm_ANN, random_state = seed).fit(X, y.values)\n",
    "eli5.show_weights(permuted, feature_names = feature_names)"
   ]
  },
  {
   "cell_type": "markdown",
   "metadata": {},
   "source": [
    "Permutation Importance works for many scikit-learn estimators. It shuffle the data and the removes different input variables to see what relative change results in the calculating the training model. It measures how much the outcome goes up or down given the input variable, thus calculating their impact on the results."
   ]
  },
  {
   "cell_type": "markdown",
   "metadata": {},
   "source": [
    "The importance of a feature is computed as the (normalized) total reduction of the criterion brought by that feature. It is also known as the Gini importance."
   ]
  },
  {
   "cell_type": "code",
   "execution_count": 51,
   "metadata": {},
   "outputs": [
    {
     "name": "stdout",
     "output_type": "stream",
     "text": [
      "\n",
      "Other Non Linear Models\n",
      "\n",
      "\n",
      "\n",
      "The model performance for testing set - \n",
      "CART regression\n",
      "--------------------------------------\n",
      "RMSE is 7.416879667680633\n",
      "MAPE is 15.680432419912322\n",
      "\n",
      "\n",
      "The model performance for testing set - \n",
      "Random forest regression\n",
      "--------------------------------------\n",
      "RMSE is 6.150536680671961\n",
      "MAPE is 14.790039862335297\n",
      "\n",
      "\n",
      "The model performance for testing set - \n",
      "Gradient Boosting regression\n",
      "--------------------------------------\n",
      "RMSE is 5.652167113133885\n",
      "MAPE is 14.330447411791466\n",
      "\n",
      "\n",
      "The model performance for testing set - \n",
      "SVR regression\n",
      "--------------------------------------\n",
      "RMSE is 11.04773122975129\n",
      "MAPE is 31.98790281471063\n",
      "\n",
      "\n",
      "The model performance for testing set - \n",
      "KNN regression\n",
      "--------------------------------------\n",
      "RMSE is 8.641986776019342\n",
      "MAPE is 26.253752745821707\n",
      "\n",
      "\n",
      "The model performance for testing set - \n",
      "ANN regression\n",
      "--------------------------------------\n",
      "RMSE is 17.008056325246685\n",
      "MAPE is 64.53944050255772\n"
     ]
    }
   ],
   "source": [
    "print('\\nOther Non Linear Models\\n')\n",
    "\n",
    "report_rmse_mape(lm_CART, y_test, X_test, \\\n",
    "                 'The model performance for testing set - \\nCART regression')\n",
    "report_rmse_mape(lm_RF, y_test, X_test,   \\\n",
    "                 'The model performance for testing set - \\nRandom forest regression')\n",
    "report_rmse_mape(lm_GB, y_test, X_test,   \\\n",
    "                 'The model performance for testing set - \\nGradient Boosting regression')\n",
    "report_rmse_mape(lm_SVR, y_test, X_test,  \\\n",
    "                 'The model performance for testing set - \\nSVR regression')\n",
    "report_rmse_mape(lm_KNN, y_test, X_test,  \\\n",
    "                 'The model performance for testing set - \\nKNN regression')\n",
    "report_rmse_mape(lm_ANN, y_test, X_test,  \\\n",
    "                 'The model performance for testing set - \\nANN regression')"
   ]
  }
 ],
 "metadata": {
  "kernelspec": {
   "display_name": "Python 3",
   "language": "python",
   "name": "python3"
  },
  "language_info": {
   "codemirror_mode": {
    "name": "ipython",
    "version": 3
   },
   "file_extension": ".py",
   "mimetype": "text/x-python",
   "name": "python",
   "nbconvert_exporter": "python",
   "pygments_lexer": "ipython3",
   "version": "3.6.3"
  }
 },
 "nbformat": 4,
 "nbformat_minor": 2
}
