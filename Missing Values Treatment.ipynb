{
 "cells": [
  {
   "cell_type": "markdown",
   "metadata": {},
   "source": [
    "## Missing values"
   ]
  },
  {
   "cell_type": "markdown",
   "metadata": {},
   "source": [
    "### Missing data is always an issue in real world problems. \n",
    "Data can have missing values for reasons such as data corruption, failure to record etc.\n",
    "\n",
    "#### We need to understand:\n",
    "#### 1. How to identify the missing values in a large dataset?\n",
    "#### 2. How to make invalid data or corrupt data as missing values?\n",
    "#### 3. How to treat the missing values?\n",
    "\n",
    "Please refer to:\n",
    "\n",
    "* https://www.tutorialspoint.com/python_pandas/python_pandas_missing_data.htm\n",
    "* https://machinelearningmastery.com/handle-missing-data-python/\n",
    "* https://towardsdatascience.com/the-tale-of-missing-values-in-python-c96beb0e8a9d"
   ]
  },
  {
   "cell_type": "markdown",
   "metadata": {},
   "source": [
    "### Check for Missing values\n",
    "\n",
    "* Pandas has two functions, isnull() and notnull() to detect missing values.\n",
    "* Pandas handles missing data efficiently. All of the descriptive statistics on pandas objects exclude missing data by default.\n",
    "* Pandas uses the floating point value, NaN (Not a number), a sentinel value to represent missing data. \n",
    "* Numpy NaN and None represents a null value similar to NA in R"
   ]
  },
  {
   "cell_type": "code",
   "execution_count": 1,
   "metadata": {},
   "outputs": [
    {
     "name": "stdout",
     "output_type": "stream",
     "text": [
      "0    1.0\n",
      "1    2.0\n",
      "2    3.0\n",
      "3    4.0\n",
      "4    NaN\n",
      "5    5.0\n",
      "6    NaN\n",
      "dtype: float64\n",
      "0    False\n",
      "1    False\n",
      "2    False\n",
      "3    False\n",
      "4     True\n",
      "5    False\n",
      "6     True\n",
      "dtype: bool\n"
     ]
    }
   ],
   "source": [
    "import pandas    as pd\n",
    "import numpy     as np\n",
    "\n",
    "num_data = pd.Series([1,2,3,4,None,5, np.NaN]) # NaN and None represents a null value similar to NA in R\n",
    "print(num_data)\n",
    "print(num_data.isnull())"
   ]
  },
  {
   "cell_type": "code",
   "execution_count": 2,
   "metadata": {},
   "outputs": [
    {
     "name": "stdout",
     "output_type": "stream",
     "text": [
      "0      Cauveri\n",
      "1      Narmada\n",
      "2      Krishna\n",
      "3         None\n",
      "4    Godhavari\n",
      "5          NaN\n",
      "dtype: object\n",
      "0    False\n",
      "1    False\n",
      "2    False\n",
      "3     True\n",
      "4    False\n",
      "5     True\n",
      "dtype: bool\n"
     ]
    }
   ],
   "source": [
    "str_data = pd.Series(['Cauveri','Narmada','Krishna',None,'Godhavari', np.NaN])\n",
    "print(str_data)\n",
    "print(str_data.isnull())"
   ]
  },
  {
   "cell_type": "markdown",
   "metadata": {},
   "source": [
    "How to get the count of missing values in each column of a pandas data frame?"
   ]
  },
  {
   "cell_type": "code",
   "execution_count": 3,
   "metadata": {
    "collapsed": true
   },
   "outputs": [],
   "source": [
    "missing_df = pd.DataFrame({'Id' : range(0,10,1), 'Val1' : [1,2,2,4,4,5,8,8,None,None],\n",
    "                          'Val2': [None, None, None,1,2,3,4,5,6,7]})"
   ]
  },
  {
   "cell_type": "code",
   "execution_count": 4,
   "metadata": {},
   "outputs": [
    {
     "name": "stdout",
     "output_type": "stream",
     "text": [
      "<class 'pandas.core.frame.DataFrame'>\n",
      "RangeIndex: 10 entries, 0 to 9\n",
      "Data columns (total 3 columns):\n",
      "Id      10 non-null int64\n",
      "Val1    8 non-null float64\n",
      "Val2    7 non-null float64\n",
      "dtypes: float64(2), int64(1)\n",
      "memory usage: 320.0 bytes\n",
      "None\n"
     ]
    }
   ],
   "source": [
    "print(missing_df.info())"
   ]
  },
  {
   "cell_type": "markdown",
   "metadata": {},
   "source": [
    "### Inference\n",
    "\n",
    "From the info() function, we observe that there are 10 observations and three columns in the data frame, missing_df.\n",
    "Also There are only 8 non null entries for the column, Val1 indicating that there are 2 (= 10 - 8) missing values for Var1 and 7 non null entries for the column, Val2 indicating that there are 3 (= 10 - 7) missing values for Var2.\n",
    "\n",
    "My question is how do you find this programmatically?"
   ]
  },
  {
   "cell_type": "code",
   "execution_count": 5,
   "metadata": {},
   "outputs": [
    {
     "name": "stdout",
     "output_type": "stream",
     "text": [
      "\n",
      "Count of missing values\n",
      "Id      0\n",
      "Val1    2\n",
      "Val2    3\n",
      "dtype: int64\n",
      "\n",
      "% of missing values\n",
      "Id       0.0\n",
      "Val1    20.0\n",
      "Val2    30.0\n",
      "dtype: float64\n"
     ]
    }
   ],
   "source": [
    "### To find count of missing values in each column\n",
    "print(\"\\nCount of missing values\")\n",
    "print(missing_df.isnull().sum())\n",
    "\n",
    "### To find percentage of missing values in each column\n",
    "print(\"\\n% of missing values\")\n",
    "print(round( (100 * missing_df.isnull().sum()) / missing_df.shape[0],2) )"
   ]
  },
  {
   "cell_type": "markdown",
   "metadata": {},
   "source": [
    "### Observation\n",
    "\n",
    "By applying the function, sum() to the output of missing_df.isnull() command, you get column-wise missing counts."
   ]
  },
  {
   "cell_type": "markdown",
   "metadata": {},
   "source": [
    "###  2. How to make invalid data or corrupt data as missing values?"
   ]
  },
  {
   "cell_type": "markdown",
   "metadata": {},
   "source": [
    "### Consider the dataset *mtcars*\n",
    "\n",
    "The data was extracted from the 1974 Motor Trend US magazine, and comprises fuel consumption and 10 aspects of automobile design and performance for 32 automobiles (1973–74 models). \n",
    "\n",
    "This data set has 32 observations on 11 (numeric) variables. \n",
    "\n",
    "| SlNo | Column | Description |\n",
    "| ----- | ----------------------- | --------------------- |\n",
    "| 1 | mpg | Miles/(US) gallon| \n",
    "| 2 | cyl | Number of cylinders|  \n",
    "| 3 | disp | Displacement (cu.in.)|  \n",
    "| 4 | hp | Gross horsepower | \n",
    "| 5 | drat | Rear axle ratio | \n",
    "| 6 | wt | Weight (1000 lbs) | \n",
    "| 7 | qsec | 1/4 mile time | \n",
    "| 8 | vs | Engine (0 = V-shaped, 1 = straight) | \n",
    "| 9 | am | Transmission (0 = automatic, 1 = manual) | \n",
    "| 10 | gear | Number of forward gears | \n",
    "| 11 | carb | Number of carburetors | "
   ]
  },
  {
   "cell_type": "code",
   "execution_count": 6,
   "metadata": {},
   "outputs": [
    {
     "name": "stdout",
     "output_type": "stream",
     "text": [
      "<class 'pandas.core.frame.DataFrame'>\n",
      "Index: 32 entries, Mazda RX4 to Volvo 142E\n",
      "Data columns (total 11 columns):\n",
      "mpg     32 non-null object\n",
      "cyl     32 non-null int64\n",
      "disp    32 non-null float64\n",
      "hp      32 non-null int64\n",
      "drat    32 non-null float64\n",
      "wt      32 non-null float64\n",
      "qsec    32 non-null float64\n",
      "vs      32 non-null int64\n",
      "am      32 non-null int64\n",
      "gear    32 non-null int64\n",
      "carb    32 non-null int64\n",
      "dtypes: float64(4), int64(6), object(1)\n",
      "memory usage: 3.0+ KB\n",
      "None\n"
     ]
    }
   ],
   "source": [
    "mtcars_df = pd.read_csv('./data/mtcars.csv', header = 0, index_col = 0)\n",
    "\n",
    "print(mtcars_df.info())"
   ]
  },
  {
   "cell_type": "markdown",
   "metadata": {},
   "source": [
    "### Inference\n",
    "\n",
    "There are no missing values as per the above result of info() function. \n",
    "\n",
    "But the Data type of the column, mpg which is supposed to be integer is string (object).\n",
    "\n",
    "Check first five rows"
   ]
  },
  {
   "cell_type": "code",
   "execution_count": 7,
   "metadata": {},
   "outputs": [
    {
     "name": "stdout",
     "output_type": "stream",
     "text": [
      "Name Mazda RX4 Mazda RX4 Wag Datsun 710 Hornet 4 Drive Hornet Sportabout\n",
      "mpg         21             ?       22.8           21.4              18.7\n",
      "cyl          6             6          4              6                 8\n",
      "disp       160           160        108            258               360\n",
      "hp         110           110         93            110               175\n",
      "drat       3.9           3.9       3.85           3.08              3.15\n",
      "wt        2.62         2.875       2.32          3.215              3.44\n",
      "qsec     16.46         17.02      18.61          19.44             17.02\n",
      "vs           0             0          1              1                 0\n",
      "am           1             1          1              0                 0\n",
      "gear         4             4          4              3                 3\n",
      "carb         4             4          1              1                 2\n"
     ]
    }
   ],
   "source": [
    "print(mtcars_df.head().T)"
   ]
  },
  {
   "cell_type": "markdown",
   "metadata": {},
   "source": [
    "### Inference\n",
    "\n",
    "There is a non-numeric value of ? in the column, mpg which is invalid.\n",
    "We shall replace it with a null value as follows:"
   ]
  },
  {
   "cell_type": "code",
   "execution_count": 8,
   "metadata": {
    "collapsed": true
   },
   "outputs": [],
   "source": [
    "mtcars_df['mpg'].replace('?', np.NaN, inplace = True)"
   ]
  },
  {
   "cell_type": "code",
   "execution_count": 9,
   "metadata": {},
   "outputs": [
    {
     "name": "stdout",
     "output_type": "stream",
     "text": [
      "Name Mazda RX4 Mazda RX4 Wag Datsun 710 Hornet 4 Drive Hornet Sportabout\n",
      "mpg         21           NaN       22.8           21.4              18.7\n",
      "cyl          6             6          4              6                 8\n",
      "disp       160           160        108            258               360\n",
      "hp         110           110         93            110               175\n",
      "drat       3.9           3.9       3.85           3.08              3.15\n",
      "wt        2.62         2.875       2.32          3.215              3.44\n",
      "qsec     16.46         17.02      18.61          19.44             17.02\n",
      "vs           0             0          1              1                 0\n",
      "am           1             1          1              0                 0\n",
      "gear         4             4          4              3                 3\n",
      "carb         4             4          1              1                 2\n"
     ]
    }
   ],
   "source": [
    "print(mtcars_df.head().T)"
   ]
  },
  {
   "cell_type": "code",
   "execution_count": 10,
   "metadata": {},
   "outputs": [
    {
     "name": "stdout",
     "output_type": "stream",
     "text": [
      "<class 'pandas.core.frame.DataFrame'>\n",
      "Index: 32 entries, Mazda RX4 to Volvo 142E\n",
      "Data columns (total 11 columns):\n",
      "mpg     31 non-null object\n",
      "cyl     32 non-null int64\n",
      "disp    32 non-null float64\n",
      "hp      32 non-null int64\n",
      "drat    32 non-null float64\n",
      "wt      32 non-null float64\n",
      "qsec    32 non-null float64\n",
      "vs      32 non-null int64\n",
      "am      32 non-null int64\n",
      "gear    32 non-null int64\n",
      "carb    32 non-null int64\n",
      "dtypes: float64(4), int64(6), object(1)\n",
      "memory usage: 3.0+ KB\n",
      "None\n",
      "\n",
      "\n",
      "Column wise missing value total\n",
      "\n",
      "mpg     1\n",
      "cyl     0\n",
      "disp    0\n",
      "hp      0\n",
      "drat    0\n",
      "wt      0\n",
      "qsec    0\n",
      "vs      0\n",
      "am      0\n",
      "gear    0\n",
      "carb    0\n",
      "dtype: int64\n"
     ]
    }
   ],
   "source": [
    "print(mtcars_df.info())\n",
    "\n",
    "print(\"\\n\\nColumn wise missing value total\\n\")\n",
    "print(mtcars_df.isnull().sum())"
   ]
  },
  {
   "cell_type": "markdown",
   "metadata": {},
   "source": [
    "### 3. How to treat the missing values?"
   ]
  },
  {
   "cell_type": "markdown",
   "metadata": {},
   "source": [
    "Pandas missing value handling methods:\n",
    "\n",
    "| Argument | Description |\n",
    "| ------------ | ------------------------- |\n",
    "| dropna | Filter axis labels based on whether values for each label have missing data, with varying thresholds for how much missing data to tolerate |\n",
    "| fillna | Fill in missing data with some value or using an interpolation method such as *ffill* or *bfill*.|\n"
   ]
  },
  {
   "cell_type": "markdown",
   "metadata": {},
   "source": [
    "###  a) Dropping null or missing value\n",
    "\n",
    "##### This is the fastest and easiest way to handle missing values. We drop row-wise.\n",
    "##### If the percentage of missing values > 40%, we drop the column.\n",
    "##### This method reduces the number of observations of the model."
   ]
  },
  {
   "cell_type": "code",
   "execution_count": 11,
   "metadata": {},
   "outputs": [
    {
     "name": "stdout",
     "output_type": "stream",
     "text": [
      "(31, 11)\n"
     ]
    }
   ],
   "source": [
    "cleaned_mtcars_df = mtcars_df.dropna()\n",
    "print(cleaned_mtcars_df.shape)"
   ]
  },
  {
   "cell_type": "markdown",
   "metadata": {},
   "source": [
    "We observe that the number of observations is reduced to 31 from 32.\n",
    "\n",
    "It is advisable to report to the customer about missing values and outliers."
   ]
  },
  {
   "cell_type": "markdown",
   "metadata": {},
   "source": [
    "#### b) Filling missing values"
   ]
  },
  {
   "cell_type": "markdown",
   "metadata": {},
   "source": [
    "#### i) Replace null or missing value with a test statistic such as mean or median"
   ]
  },
  {
   "cell_type": "code",
   "execution_count": 12,
   "metadata": {
    "collapsed": true
   },
   "outputs": [],
   "source": [
    "mean_mpg = mtcars_df['mpg'].astype('float').mean()"
   ]
  },
  {
   "cell_type": "code",
   "execution_count": 13,
   "metadata": {},
   "outputs": [
    {
     "name": "stdout",
     "output_type": "stream",
     "text": [
      "\n",
      "After imputing the missing values with mean\n",
      "\n",
      "Name Mazda RX4 Mazda RX4 Wag Datsun 710 Hornet 4 Drive Hornet Sportabout\n",
      "mpg         21       20.0613       22.8           21.4              18.7\n",
      "cyl          6             6          4              6                 8\n",
      "disp       160           160        108            258               360\n",
      "hp         110           110         93            110               175\n",
      "drat       3.9           3.9       3.85           3.08              3.15\n",
      "wt        2.62         2.875       2.32          3.215              3.44\n",
      "qsec     16.46         17.02      18.61          19.44             17.02\n",
      "vs           0             0          1              1                 0\n",
      "am           1             1          1              0                 0\n",
      "gear         4             4          4              3                 3\n",
      "carb         4             4          1              1                 2\n"
     ]
    }
   ],
   "source": [
    "cleaned_mtcars_df1 = mtcars_df.fillna(mean_mpg) # replace with mean\n",
    "print(\"\\nAfter imputing the missing values with mean\\n\")\n",
    "print(cleaned_mtcars_df1.head().T)"
   ]
  },
  {
   "cell_type": "code",
   "execution_count": 14,
   "metadata": {},
   "outputs": [
    {
     "name": "stdout",
     "output_type": "stream",
     "text": [
      "\n",
      "After imputing the missing values with median\n",
      "\n",
      "Name Mazda RX4 Mazda RX4 Wag Datsun 710 Hornet 4 Drive Hornet Sportabout\n",
      "mpg         21          19.2       22.8           21.4              18.7\n",
      "cyl          6             6          4              6                 8\n",
      "disp       160           160        108            258               360\n",
      "hp         110           110         93            110               175\n",
      "drat       3.9           3.9       3.85           3.08              3.15\n",
      "wt        2.62         2.875       2.32          3.215              3.44\n",
      "qsec     16.46         17.02      18.61          19.44             17.02\n",
      "vs           0             0          1              1                 0\n",
      "am           1             1          1              0                 0\n",
      "gear         4             4          4              3                 3\n",
      "carb         4             4          1              1                 2\n"
     ]
    }
   ],
   "source": [
    "median_mpg         = mtcars_df['mpg'].astype('float').median()\n",
    "cleaned_mtcars_df2 = mtcars_df.fillna(median_mpg) # replace with median\n",
    "\n",
    "print(\"\\nAfter imputing the missing values with median\\n\")\n",
    "print(cleaned_mtcars_df2.head().T)"
   ]
  },
  {
   "cell_type": "markdown",
   "metadata": {},
   "source": [
    "### ii) Use back fill or forward fill to propogate next or previous values respectively."
   ]
  },
  {
   "cell_type": "code",
   "execution_count": 15,
   "metadata": {},
   "outputs": [
    {
     "name": "stdout",
     "output_type": "stream",
     "text": [
      "\n",
      "After imputing the wtih backward fill\n",
      "\n",
      "Name Mazda RX4 Mazda RX4 Wag Datsun 710 Hornet 4 Drive Hornet Sportabout\n",
      "mpg         21          22.8       22.8           21.4              18.7\n",
      "cyl          6             6          4              6                 8\n",
      "disp       160           160        108            258               360\n",
      "hp         110           110         93            110               175\n",
      "drat       3.9           3.9       3.85           3.08              3.15\n",
      "wt        2.62         2.875       2.32          3.215              3.44\n",
      "qsec     16.46         17.02      18.61          19.44             17.02\n",
      "vs           0             0          1              1                 0\n",
      "am           1             1          1              0                 0\n",
      "gear         4             4          4              3                 3\n",
      "carb         4             4          1              1                 2\n"
     ]
    }
   ],
   "source": [
    "cleaned_mtcars_df3 = mtcars_df.fillna(method = 'bfill', limit = None) \n",
    "### Back ward fill and limit denotes the max. values to be imputed\n",
    "\n",
    "print(\"\\nAfter imputing the wtih backward fill\\n\")\n",
    "print(cleaned_mtcars_df3.head().T)"
   ]
  },
  {
   "cell_type": "code",
   "execution_count": 16,
   "metadata": {},
   "outputs": [
    {
     "name": "stdout",
     "output_type": "stream",
     "text": [
      "<class 'pandas.core.frame.DataFrame'>\n",
      "Index: 32 entries, Mazda RX4 to Volvo 142E\n",
      "Data columns (total 11 columns):\n",
      "mpg     31 non-null object\n",
      "cyl     32 non-null int64\n",
      "disp    32 non-null float64\n",
      "hp      32 non-null int64\n",
      "drat    32 non-null float64\n",
      "wt      32 non-null float64\n",
      "qsec    32 non-null float64\n",
      "vs      32 non-null int64\n",
      "am      32 non-null int64\n",
      "gear    32 non-null int64\n",
      "carb    32 non-null int64\n",
      "dtypes: float64(4), int64(6), object(1)\n",
      "memory usage: 3.0+ KB\n",
      "None\n"
     ]
    }
   ],
   "source": [
    "print(mtcars_df.info()) "
   ]
  },
  {
   "cell_type": "code",
   "execution_count": 17,
   "metadata": {},
   "outputs": [
    {
     "name": "stdout",
     "output_type": "stream",
     "text": [
      "\n",
      "After imputing the wtih forward fill\n",
      "\n",
      "Name Mazda RX4 Mazda RX4 Wag Datsun 710 Hornet 4 Drive Hornet Sportabout\n",
      "mpg         21            21       22.8           21.4              18.7\n",
      "cyl          6             6          4              6                 8\n",
      "disp       160           160        108            258               360\n",
      "hp         110           110         93            110               175\n",
      "drat       3.9           3.9       3.85           3.08              3.15\n",
      "wt        2.62         2.875       2.32          3.215              3.44\n",
      "qsec     16.46         17.02      18.61          19.44             17.02\n",
      "vs           0             0          1              1                 0\n",
      "am           1             1          1              0                 0\n",
      "gear         4             4          4              3                 3\n",
      "carb         4             4          1              1                 2\n"
     ]
    }
   ],
   "source": [
    "cleaned_mtcars_df4 = mtcars_df.fillna(method = 'ffill', limit = None) \n",
    "### Back ward fill and limit denotes the max. values to be imputed\n",
    "\n",
    "print(\"\\nAfter imputing the wtih forward fill\\n\")\n",
    "print(cleaned_mtcars_df4.head().T)"
   ]
  }
 ],
 "metadata": {
  "kernelspec": {
   "display_name": "Python 3",
   "language": "python",
   "name": "python3"
  },
  "language_info": {
   "codemirror_mode": {
    "name": "ipython",
    "version": 3
   },
   "file_extension": ".py",
   "mimetype": "text/x-python",
   "name": "python",
   "nbconvert_exporter": "python",
   "pygments_lexer": "ipython3",
   "version": "3.6.3"
  }
 },
 "nbformat": 4,
 "nbformat_minor": 2
}
