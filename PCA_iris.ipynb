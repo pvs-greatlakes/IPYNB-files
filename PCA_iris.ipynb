{
 "cells": [
  {
   "cell_type": "code",
   "execution_count": 1,
   "metadata": {},
   "outputs": [
    {
     "name": "stdout",
     "output_type": "stream",
     "text": [
      "[0.72655986 0.22844526 0.04043061 0.00456427]\n",
      "[ 72.66  95.5   99.54 100.  ]\n",
      "The accuracy of the classifier using the full feature set is 93.33 percent\n",
      "The accuracy of the classifier using 2 principal components is 83.33 percent\n",
      "The accuracy of the classifier using 3 principal components is 93.33 percent\n"
     ]
    },
    {
     "data": {
      "image/png": "[encoded data removed]",
      "text/plain": [
       "<matplotlib.figure.Figure at 0x23727f34c18>"
      ]
     },
     "metadata": {},
     "output_type": "display_data"
    }
   ],
   "source": [
    "#This tutorial demonstrates how the Principal Components Analysis technique can be applied using Scikit-Learn library\n",
    "#We use the iris flower dataset available for download at: https://archive.ics.uci.edu/ml/datasets/iris\n",
    " \n",
    "#Loading the relevant libraries\n",
    "import numpy as np  \n",
    "import pandas as pd \n",
    "import matplotlib.pyplot as plt\n",
    "from sklearn.model_selection import train_test_split\n",
    "from sklearn.preprocessing import StandardScaler\n",
    "from sklearn.decomposition import PCA\n",
    "from sklearn.linear_model import LogisticRegression\n",
    "%matplotlib inline\n",
    " \n",
    "#Loading the dataset and naming columns\n",
    "cols     = ['sepal-length', 'sepal-width', 'petal-length', 'petal-width', 'Label']  \n",
    "dataset  = pd.read_csv('iris.csv', skiprows = 1, names=cols) \n",
    "\n",
    "#Dividing data into dependent and target variables\n",
    "#PCA only works on the dependent variables aka features\n",
    "X = dataset.drop('Label', 1)  \n",
    "y = dataset['Label'] \n",
    " \n",
    "#Splitting the data into train and test sets\n",
    "#We will model the classifier on the training set then evaluate its performance on the testing set\n",
    "X_train, X_test, y_train, y_test = train_test_split(X, y, test_size=0.2, random_state=3)\n",
    " \n",
    "#Normalizing the data to standardize the units\n",
    "sc = StandardScaler()  \n",
    "X_train = sc.fit_transform(X_train)  \n",
    "X_test = sc.transform(X_test) \n",
    " \n",
    "#We apply PCA analysis on the normalized data\n",
    "#Here we return all the principal components\n",
    "pca = PCA()  \n",
    "X1_train = pca.fit_transform(X_train)  \n",
    "X1_test = pca.transform(X_test)\n",
    " \n",
    "#We can look at the variance explained by each of the principal components\n",
    "exp_var = pca.explained_variance_ratio_\n",
    " \n",
    "#By printing out the explained variance for each component we can see weight of each factor\n",
    "print (exp_var)\n",
    " \n",
    "#We can also look at the Cumulative Variance across the principal components\n",
    "cum_var=np.cumsum(np.round(exp_var, decimals=4)*100)\n",
    " \n",
    "#Printing out cumulative variance to better select principal components\n",
    "print (cum_var)\n",
    " \n",
    "#Plotting out cumulative variance to visually determine the cut-off point\n",
    "plt.plot(cum_var)\n",
    " \n",
    "#Using the above we decide to test between 2 cut-off points\n",
    " \n",
    "#Using 2 Principal Components\n",
    "pca2 = PCA(n_components=2)\n",
    "X2_train = pca2.fit_transform(X_train)\n",
    "X2_test = pca2.transform(X_test)\n",
    " \n",
    "#Using 3 Principal Components\n",
    "pca3 = PCA(n_components=3)\n",
    "X3_train = pca3.fit_transform(X_train)\n",
    "X3_test = pca3.transform(X_test)\n",
    " \n",
    "#Now we investigate the difference between using all the features in a dataset vs a subset through principal components\n",
    "#For that we use a logistic regression to perform classification and evaluate the accuracy of using the different datasets\n",
    " \n",
    "#Using the full feature set in a logistic regression\n",
    "logreg = LogisticRegression()\n",
    "logreg.fit(X_train, y_train)\n",
    "print('The accuracy of the classifier using the full feature set is {:.2f} percent'.format(logreg.score(X_test, y_test)*100))\n",
    " \n",
    "#Using 2 principal components in a logistic regression\n",
    "logreg = LogisticRegression()\n",
    "logreg.fit(X2_train, y_train)\n",
    "print('The accuracy of the classifier using 2 principal components is {:.2f} percent'.format(logreg.score(X2_test, y_test)*100))\n",
    " \n",
    "#Using 3 principal components in a logistic regression\n",
    "logreg = LogisticRegression()\n",
    "logreg.fit(X3_train, y_train)\n",
    "print('The accuracy of the classifier using 3 principal components is {:.2f} percent'.format(logreg.score(X3_test, y_test)*100))"
   ]
  }
 ],
 "metadata": {
  "kernelspec": {
   "display_name": "Python 3",
   "language": "python",
   "name": "python3"
  },
  "language_info": {
   "codemirror_mode": {
    "name": "ipython",
    "version": 3
   },
   "file_extension": ".py",
   "mimetype": "text/x-python",
   "name": "python",
   "nbconvert_exporter": "python",
   "pygments_lexer": "ipython3",
   "version": "3.6.3"
  }
 },
 "nbformat": 4,
 "nbformat_minor": 2
}
