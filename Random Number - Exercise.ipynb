{
 "cells": [
  {
   "cell_type": "markdown",
   "metadata": {},
   "source": [
    "## Assignments – NumPy package - Random Numbers  \n",
    " \n",
    "### Exercise 1:  \n",
    " \n",
    "Consider a school with10,000 students. Assume a researcher wants to select 100 of them for further study. All their student ids are numbered from 0 to 9999.  \n",
    "Hint:  \n",
    "1) Use the following python code to generate a stundentIds list. \n",
    "import numpy as np  students_List = range(10000) \n",
    " \n",
    "2) Use NumPy function, random.choice to randomly select students from the list, students_List. \n",
    " \n",
    "Choose 100 students randomly without replacement. Use simple random sample method. \n",
    " "
   ]
  },
  {
   "cell_type": "code",
   "execution_count": 25,
   "metadata": {
    "collapsed": true
   },
   "outputs": [],
   "source": [
    "import pandas as pd\n",
    "import numpy as np\n",
    "from numpy.linalg import inv, qr, det\n",
    "import statsmodels.api as sm\n",
    "import os"
   ]
  },
  {
   "cell_type": "markdown",
   "metadata": {},
   "source": [
    "Exercise 1:\n",
    "Consider a school with10,000 students. Assume a researcher wants to select 100 of them for further study. All their student ids are numbered from 0 to 9999.\n",
    "\n",
    "Choose 100 students randomly without replacement. Use simple random sample method."
   ]
  },
  {
   "cell_type": "code",
   "execution_count": 26,
   "metadata": {},
   "outputs": [
    {
     "name": "stdout",
     "output_type": "stream",
     "text": [
      "Random 100 student IDs: \n",
      "\n",
      " [6676 6421 9834 8492 9982 8844 7247 5862 3662 3457  336 6109 9784 7769\n",
      " 6971 6001 6995 9758 7115 9925 4421 4150 5342 7122 1185 3814  200 9812\n",
      " 8444 7925 5310 1010 7778 9579 5905 6847 1549 7335 5966 6270 2351 4864\n",
      " 1638 9142 4279 3985 8280  800 3106 2630 7699 7347 2161 7242 7761 7874\n",
      " 9564 8376 3913 3144 2815  166 4995 4819 2054 1009 7393 8080 6871 5646\n",
      " 2609 7542 1424 6580 8552 3264 4129 7106 5385 3266 2198 3752 2562 9532\n",
      " 5587 1574 9644 5055 4002 1501 2109 8363 8744  738 5079 1671 2678 3735\n",
      " 6023 8001]\n"
     ]
    }
   ],
   "source": [
    "students_List = range(10000) # generate 10000 student ids \n",
    "np.random.seed(101)\n",
    "rand_hundred = np.random.choice(10000, 100, replace=False) # select random 100 ids without replacement, using simple random method\n",
    "print(\"Random 100 student IDs: \\n\\n\", rand_hundred)"
   ]
  },
  {
   "cell_type": "code",
   "execution_count": 27,
   "metadata": {},
   "outputs": [
    {
     "name": "stdout",
     "output_type": "stream",
     "text": [
      "Random 100 student IDs: \n",
      "\n",
      " [6676 6421 9834 8492 9982 8844 7247 5862 3662 3457  336 6109 9784 7769\n",
      " 6971 6001 6995 9758 7115 9925 4421 4150 5342 7122 1185 3814  200 9812\n",
      " 8444 7925 5310 1010 7778 9579 5905 6847 1549 7335 5966 6270 2351 4864\n",
      " 1638 9142 4279 3985 8280  800 3106 2630 7699 7347 2161 7242 7761 7874\n",
      " 9564 8376 3913 3144 2815  166 4995 4819 2054 1009 7393 8080 6871 5646\n",
      " 2609 7542 1424 6580 8552 3264 4129 7106 5385 3266 2198 3752 2562 9532\n",
      " 5587 1574 9644 5055 4002 1501 2109 8363 8744  738 5079 1671 2678 3735\n",
      " 6023 8001]\n"
     ]
    }
   ],
   "source": [
    "np.random.seed(101)\n",
    "rand_hundred1 = np.random.permutation(np.arange(10000))[:100] #another code for the same requirement\n",
    "print(\"Random 100 student IDs: \\n\\n\", rand_hundred1)"
   ]
  },
  {
   "cell_type": "markdown",
   "metadata": {},
   "source": [
    "## Exercise 2:\n",
    "\n",
    "Load Breast cancer dataset provided. The target variable, class is a binary class having values Malignant and Benign There are 569 observations and 30 attributes. Class distribution is 212 Malignant and 357 benign (37% and 63%).\n",
    "\n",
    "Data set: boston_house_prices.csv\n",
    "\n",
    "### Split this data set into training and test data set and having the same proportion of classes in the complete data set."
   ]
  },
  {
   "cell_type": "code",
   "execution_count": 28,
   "metadata": {
    "collapsed": true
   },
   "outputs": [],
   "source": [
    "from sklearn import datasets \n",
    "from sklearn.model_selection import train_test_split"
   ]
  },
  {
   "cell_type": "code",
   "execution_count": 29,
   "metadata": {},
   "outputs": [
    {
     "data": {
      "text/plain": [
       "array([[1.799e+01, 1.038e+01, 1.228e+02, ..., 2.654e-01, 4.601e-01,\n",
       "        1.189e-01],\n",
       "       [2.057e+01, 1.777e+01, 1.329e+02, ..., 1.860e-01, 2.750e-01,\n",
       "        8.902e-02],\n",
       "       [1.969e+01, 2.125e+01, 1.300e+02, ..., 2.430e-01, 3.613e-01,\n",
       "        8.758e-02],\n",
       "       ...,\n",
       "       [1.660e+01, 2.808e+01, 1.083e+02, ..., 1.418e-01, 2.218e-01,\n",
       "        7.820e-02],\n",
       "       [2.060e+01, 2.933e+01, 1.401e+02, ..., 2.650e-01, 4.087e-01,\n",
       "        1.240e-01],\n",
       "       [7.760e+00, 2.454e+01, 4.792e+01, ..., 0.000e+00, 2.871e-01,\n",
       "        7.039e-02]])"
      ]
     },
     "execution_count": 29,
     "metadata": {},
     "output_type": "execute_result"
    }
   ],
   "source": [
    "cancer = datasets.load_breast_cancer() # load the cancer dataset from sklearn datasets\n",
    "cancer.data"
   ]
  },
  {
   "cell_type": "code",
   "execution_count": 30,
   "metadata": {},
   "outputs": [
    {
     "data": {
      "text/plain": [
       "dict_keys(['data', 'target', 'target_names', 'DESCR', 'feature_names', 'filename'])"
      ]
     },
     "execution_count": 30,
     "metadata": {},
     "output_type": "execute_result"
    }
   ],
   "source": [
    "cancer.keys()"
   ]
  },
  {
   "cell_type": "code",
   "execution_count": 31,
   "metadata": {},
   "outputs": [
    {
     "data": {
      "text/html": [
       "<div>\n",
       "<style scoped>\n",
       "    .dataframe tbody tr th:only-of-type {\n",
       "        vertical-align: middle;\n",
       "    }\n",
       "\n",
       "    .dataframe tbody tr th {\n",
       "        vertical-align: top;\n",
       "    }\n",
       "\n",
       "    .dataframe thead th {\n",
       "        text-align: right;\n",
       "    }\n",
       "</style>\n",
       "<table border=\"1\" class=\"dataframe\">\n",
       "  <thead>\n",
       "    <tr style=\"text-align: right;\">\n",
       "      <th></th>\n",
       "      <th>mean radius</th>\n",
       "      <th>mean texture</th>\n",
       "      <th>mean perimeter</th>\n",
       "      <th>mean area</th>\n",
       "      <th>mean smoothness</th>\n",
       "      <th>mean compactness</th>\n",
       "      <th>mean concavity</th>\n",
       "      <th>mean concave points</th>\n",
       "      <th>mean symmetry</th>\n",
       "      <th>mean fractal dimension</th>\n",
       "      <th>...</th>\n",
       "      <th>worst radius</th>\n",
       "      <th>worst texture</th>\n",
       "      <th>worst perimeter</th>\n",
       "      <th>worst area</th>\n",
       "      <th>worst smoothness</th>\n",
       "      <th>worst compactness</th>\n",
       "      <th>worst concavity</th>\n",
       "      <th>worst concave points</th>\n",
       "      <th>worst symmetry</th>\n",
       "      <th>worst fractal dimension</th>\n",
       "    </tr>\n",
       "  </thead>\n",
       "  <tbody>\n",
       "    <tr>\n",
       "      <th>0</th>\n",
       "      <td>17.99</td>\n",
       "      <td>10.38</td>\n",
       "      <td>122.80</td>\n",
       "      <td>1001.0</td>\n",
       "      <td>0.11840</td>\n",
       "      <td>0.27760</td>\n",
       "      <td>0.3001</td>\n",
       "      <td>0.14710</td>\n",
       "      <td>0.2419</td>\n",
       "      <td>0.07871</td>\n",
       "      <td>...</td>\n",
       "      <td>25.38</td>\n",
       "      <td>17.33</td>\n",
       "      <td>184.60</td>\n",
       "      <td>2019.0</td>\n",
       "      <td>0.1622</td>\n",
       "      <td>0.6656</td>\n",
       "      <td>0.7119</td>\n",
       "      <td>0.2654</td>\n",
       "      <td>0.4601</td>\n",
       "      <td>0.11890</td>\n",
       "    </tr>\n",
       "    <tr>\n",
       "      <th>1</th>\n",
       "      <td>20.57</td>\n",
       "      <td>17.77</td>\n",
       "      <td>132.90</td>\n",
       "      <td>1326.0</td>\n",
       "      <td>0.08474</td>\n",
       "      <td>0.07864</td>\n",
       "      <td>0.0869</td>\n",
       "      <td>0.07017</td>\n",
       "      <td>0.1812</td>\n",
       "      <td>0.05667</td>\n",
       "      <td>...</td>\n",
       "      <td>24.99</td>\n",
       "      <td>23.41</td>\n",
       "      <td>158.80</td>\n",
       "      <td>1956.0</td>\n",
       "      <td>0.1238</td>\n",
       "      <td>0.1866</td>\n",
       "      <td>0.2416</td>\n",
       "      <td>0.1860</td>\n",
       "      <td>0.2750</td>\n",
       "      <td>0.08902</td>\n",
       "    </tr>\n",
       "    <tr>\n",
       "      <th>2</th>\n",
       "      <td>19.69</td>\n",
       "      <td>21.25</td>\n",
       "      <td>130.00</td>\n",
       "      <td>1203.0</td>\n",
       "      <td>0.10960</td>\n",
       "      <td>0.15990</td>\n",
       "      <td>0.1974</td>\n",
       "      <td>0.12790</td>\n",
       "      <td>0.2069</td>\n",
       "      <td>0.05999</td>\n",
       "      <td>...</td>\n",
       "      <td>23.57</td>\n",
       "      <td>25.53</td>\n",
       "      <td>152.50</td>\n",
       "      <td>1709.0</td>\n",
       "      <td>0.1444</td>\n",
       "      <td>0.4245</td>\n",
       "      <td>0.4504</td>\n",
       "      <td>0.2430</td>\n",
       "      <td>0.3613</td>\n",
       "      <td>0.08758</td>\n",
       "    </tr>\n",
       "    <tr>\n",
       "      <th>3</th>\n",
       "      <td>11.42</td>\n",
       "      <td>20.38</td>\n",
       "      <td>77.58</td>\n",
       "      <td>386.1</td>\n",
       "      <td>0.14250</td>\n",
       "      <td>0.28390</td>\n",
       "      <td>0.2414</td>\n",
       "      <td>0.10520</td>\n",
       "      <td>0.2597</td>\n",
       "      <td>0.09744</td>\n",
       "      <td>...</td>\n",
       "      <td>14.91</td>\n",
       "      <td>26.50</td>\n",
       "      <td>98.87</td>\n",
       "      <td>567.7</td>\n",
       "      <td>0.2098</td>\n",
       "      <td>0.8663</td>\n",
       "      <td>0.6869</td>\n",
       "      <td>0.2575</td>\n",
       "      <td>0.6638</td>\n",
       "      <td>0.17300</td>\n",
       "    </tr>\n",
       "    <tr>\n",
       "      <th>4</th>\n",
       "      <td>20.29</td>\n",
       "      <td>14.34</td>\n",
       "      <td>135.10</td>\n",
       "      <td>1297.0</td>\n",
       "      <td>0.10030</td>\n",
       "      <td>0.13280</td>\n",
       "      <td>0.1980</td>\n",
       "      <td>0.10430</td>\n",
       "      <td>0.1809</td>\n",
       "      <td>0.05883</td>\n",
       "      <td>...</td>\n",
       "      <td>22.54</td>\n",
       "      <td>16.67</td>\n",
       "      <td>152.20</td>\n",
       "      <td>1575.0</td>\n",
       "      <td>0.1374</td>\n",
       "      <td>0.2050</td>\n",
       "      <td>0.4000</td>\n",
       "      <td>0.1625</td>\n",
       "      <td>0.2364</td>\n",
       "      <td>0.07678</td>\n",
       "    </tr>\n",
       "  </tbody>\n",
       "</table>\n",
       "<p>5 rows × 30 columns</p>\n",
       "</div>"
      ],
      "text/plain": [
       "   mean radius  mean texture  mean perimeter  mean area  mean smoothness  \\\n",
       "0        17.99         10.38          122.80     1001.0          0.11840   \n",
       "1        20.57         17.77          132.90     1326.0          0.08474   \n",
       "2        19.69         21.25          130.00     1203.0          0.10960   \n",
       "3        11.42         20.38           77.58      386.1          0.14250   \n",
       "4        20.29         14.34          135.10     1297.0          0.10030   \n",
       "\n",
       "   mean compactness  mean concavity  mean concave points  mean symmetry  \\\n",
       "0           0.27760          0.3001              0.14710         0.2419   \n",
       "1           0.07864          0.0869              0.07017         0.1812   \n",
       "2           0.15990          0.1974              0.12790         0.2069   \n",
       "3           0.28390          0.2414              0.10520         0.2597   \n",
       "4           0.13280          0.1980              0.10430         0.1809   \n",
       "\n",
       "   mean fractal dimension           ...             worst radius  \\\n",
       "0                 0.07871           ...                    25.38   \n",
       "1                 0.05667           ...                    24.99   \n",
       "2                 0.05999           ...                    23.57   \n",
       "3                 0.09744           ...                    14.91   \n",
       "4                 0.05883           ...                    22.54   \n",
       "\n",
       "   worst texture  worst perimeter  worst area  worst smoothness  \\\n",
       "0          17.33           184.60      2019.0            0.1622   \n",
       "1          23.41           158.80      1956.0            0.1238   \n",
       "2          25.53           152.50      1709.0            0.1444   \n",
       "3          26.50            98.87       567.7            0.2098   \n",
       "4          16.67           152.20      1575.0            0.1374   \n",
       "\n",
       "   worst compactness  worst concavity  worst concave points  worst symmetry  \\\n",
       "0             0.6656           0.7119                0.2654          0.4601   \n",
       "1             0.1866           0.2416                0.1860          0.2750   \n",
       "2             0.4245           0.4504                0.2430          0.3613   \n",
       "3             0.8663           0.6869                0.2575          0.6638   \n",
       "4             0.2050           0.4000                0.1625          0.2364   \n",
       "\n",
       "   worst fractal dimension  \n",
       "0                  0.11890  \n",
       "1                  0.08902  \n",
       "2                  0.08758  \n",
       "3                  0.17300  \n",
       "4                  0.07678  \n",
       "\n",
       "[5 rows x 30 columns]"
      ]
     },
     "execution_count": 31,
     "metadata": {},
     "output_type": "execute_result"
    }
   ],
   "source": [
    "infile = pd.DataFrame(data = cancer['data'] , columns = cancer['feature_names']) # save to dataframe \n",
    "infile.head()"
   ]
  },
  {
   "cell_type": "code",
   "execution_count": 32,
   "metadata": {
    "collapsed": true
   },
   "outputs": [],
   "source": [
    "# define X and y variables for test split\n",
    "X = infile # all variables excluding the target variable\n",
    "y = pd.Series(cancer.target) "
   ]
  },
  {
   "cell_type": "code",
   "execution_count": 33,
   "metadata": {
    "collapsed": true
   },
   "outputs": [],
   "source": [
    "X_train, X_test, y_train, y_test = train_test_split(X, y, test_size = 0.3, random_state= 101, stratify = y) \n",
    "# split the original data into train and test subsets using random state and stratify as yes"
   ]
  },
  {
   "cell_type": "code",
   "execution_count": 34,
   "metadata": {},
   "outputs": [
    {
     "name": "stdout",
     "output_type": "stream",
     "text": [
      "BASELINE proportion of classes: \n",
      "      0         1\n",
      "1  357  0.627417\n",
      "0  212  0.372583\n"
     ]
    }
   ],
   "source": [
    "yval = y.value_counts()\n",
    "yvalp = y.value_counts(normalize=True)\n",
    "baseline_class_proportion = pd.concat([yval, yvalp], axis=1)\n",
    "print(\"BASELINE proportion of classes: \\n\", baseline_class_proportion)"
   ]
  },
  {
   "cell_type": "code",
   "execution_count": 35,
   "metadata": {},
   "outputs": [
    {
     "name": "stdout",
     "output_type": "stream",
     "text": [
      "Proportion of classes in TRAIN dataset: \n",
      "      0         1\n",
      "1  250  0.628141\n",
      "0  148  0.371859\n"
     ]
    }
   ],
   "source": [
    "ytrn = y_train.value_counts()\n",
    "ytrnp = y_train.value_counts(normalize=True)\n",
    "train_class_proportion = pd.concat([ytrn, ytrnp], axis=1)\n",
    "print(\"Proportion of classes in TRAIN dataset: \\n\", train_class_proportion)"
   ]
  },
  {
   "cell_type": "code",
   "execution_count": 36,
   "metadata": {},
   "outputs": [
    {
     "name": "stdout",
     "output_type": "stream",
     "text": [
      "Proportion of classes in TEST dataset: \n",
      "      0         1\n",
      "1  107  0.625731\n",
      "0   64  0.374269\n"
     ]
    }
   ],
   "source": [
    "ytst = y_test.value_counts()\n",
    "ytstp = y_test.value_counts(normalize=True)\n",
    "train_class_proportion = pd.concat([ytst, ytstp], axis=1)\n",
    "print(\"Proportion of classes in TEST dataset: \\n\", train_class_proportion)"
   ]
  },
  {
   "cell_type": "markdown",
   "metadata": {},
   "source": [
    "The above proportions show that the train and test data are having the same proportion of classes as that of the original dataset\n"
   ]
  },
  {
   "cell_type": "markdown",
   "metadata": {},
   "source": [
    "## Exercise 3:\n",
    "Load the pima-indians-diabetes.data.csv provided to you. \n",
    "\n",
    "Note: The dataset has no header information.\n",
    "\n",
    "There are 267 observations belonging to class 1 out of 767 observations. \n",
    "Split this data set into training and test data set and having the same proportion of classes in the complete data set. "
   ]
  },
  {
   "cell_type": "code",
   "execution_count": 37,
   "metadata": {
    "collapsed": true
   },
   "outputs": [],
   "source": [
    "os.chdir(r'C:\\Users\\rr500068\\Desktop\\Random Numbers\\data')\n",
    "names=['preg','plas', 'pres', 'skin', 'test', 'mass', 'pedi', 'age', 'class']\n",
    "diadata = pd.read_csv('pima-indians-diabetes.data.csv', header=None, names = names)"
   ]
  },
  {
   "cell_type": "code",
   "execution_count": 38,
   "metadata": {},
   "outputs": [
    {
     "name": "stdout",
     "output_type": "stream",
     "text": [
      "<class 'pandas.core.frame.DataFrame'>\n",
      "RangeIndex: 768 entries, 0 to 767\n",
      "Data columns (total 9 columns):\n",
      "preg     768 non-null int64\n",
      "plas     768 non-null int64\n",
      "pres     768 non-null int64\n",
      "skin     768 non-null int64\n",
      "test     768 non-null int64\n",
      "mass     768 non-null float64\n",
      "pedi     768 non-null float64\n",
      "age      768 non-null int64\n",
      "class    768 non-null int64\n",
      "dtypes: float64(2), int64(7)\n",
      "memory usage: 54.1 KB\n"
     ]
    }
   ],
   "source": [
    "diadata.info()"
   ]
  },
  {
   "cell_type": "code",
   "execution_count": 39,
   "metadata": {},
   "outputs": [
    {
     "data": {
      "text/plain": [
       "0    500\n",
       "1    268\n",
       "Name: class, dtype: int64"
      ]
     },
     "execution_count": 39,
     "metadata": {},
     "output_type": "execute_result"
    }
   ],
   "source": [
    "diadata['class'].value_counts()"
   ]
  },
  {
   "cell_type": "code",
   "execution_count": 40,
   "metadata": {
    "collapsed": true
   },
   "outputs": [],
   "source": [
    "X = diadata.drop('class', axis=1)\n",
    "y = diadata['class']"
   ]
  },
  {
   "cell_type": "code",
   "execution_count": 41,
   "metadata": {
    "collapsed": true
   },
   "outputs": [],
   "source": [
    "X_train, X_test, y_train, y_test = train_test_split(X, y, test_size = 0.3, random_state= 100)\n",
    "# split the original data into train and test subsets using random state and stratify as yes"
   ]
  },
  {
   "cell_type": "code",
   "execution_count": 42,
   "metadata": {},
   "outputs": [
    {
     "name": "stdout",
     "output_type": "stream",
     "text": [
      "BASELINE proportion of classes for Diabetes: \n",
      "    class     class\n",
      "0    500  0.651042\n",
      "1    268  0.348958\n"
     ]
    }
   ],
   "source": [
    "yval = y.value_counts()\n",
    "yvalp = y.value_counts(normalize=True)\n",
    "baseline_class_proportion = pd.concat([yval, yvalp], axis=1)\n",
    "print(\"BASELINE proportion of classes for Diabetes: \\n\", baseline_class_proportion)"
   ]
  },
  {
   "cell_type": "code",
   "execution_count": 43,
   "metadata": {},
   "outputs": [
    {
     "name": "stdout",
     "output_type": "stream",
     "text": [
      "Proportion of Diabetes classes in TRAIN dataset: \n",
      "    class     class\n",
      "0    350  0.651769\n",
      "1    187  0.348231\n"
     ]
    }
   ],
   "source": [
    "ytrn = y_train.value_counts()\n",
    "ytrnp = y_train.value_counts(normalize=True)\n",
    "train_class_proportion = pd.concat([ytrn, ytrnp], axis=1)\n",
    "print(\"Proportion of Diabetes classes in TRAIN dataset: \\n\", train_class_proportion)"
   ]
  },
  {
   "cell_type": "code",
   "execution_count": 44,
   "metadata": {},
   "outputs": [
    {
     "name": "stdout",
     "output_type": "stream",
     "text": [
      "Proportion of Diabetes classes in TEST dataset: \n",
      "    class     class\n",
      "0    150  0.649351\n",
      "1     81  0.350649\n"
     ]
    }
   ],
   "source": [
    "ytst = y_test.value_counts()\n",
    "ytstp = y_test.value_counts(normalize=True)\n",
    "train_class_proportion = pd.concat([ytst, ytstp], axis=1)\n",
    "print(\"Proportion of Diabetes classes in TEST dataset: \\n\", train_class_proportion)"
   ]
  },
  {
   "cell_type": "markdown",
   "metadata": {},
   "source": [
    "The above proportions show that the train and test data are having the same proportion of classes as that of the original dataset"
   ]
  },
  {
   "cell_type": "markdown",
   "metadata": {},
   "source": [
    "## Exercise 4:\n",
    "ABC company wants to study into the impact of leadership style on employee motivation level and reduction in attrition. ABC company has 240 employees in Operations department who could be potentially interviewed. You identified the sample size as 24 employees.\n",
    "\n",
    "### Select 10 employees randomly for interviewing."
   ]
  },
  {
   "cell_type": "code",
   "execution_count": 45,
   "metadata": {},
   "outputs": [
    {
     "name": "stdout",
     "output_type": "stream",
     "text": [
      "First random number 16\n"
     ]
    }
   ],
   "source": [
    "n = 24\n",
    "np.random.seed(1234)\n",
    "k = np.random.randint(1, n, size = 1) \n",
    "print('First random number %d'%k)"
   ]
  },
  {
   "cell_type": "code",
   "execution_count": 46,
   "metadata": {},
   "outputs": [
    {
     "name": "stdout",
     "output_type": "stream",
     "text": [
      "[20, 44, 68, 92, 116, 140, 164, 188, 212, 236]\n"
     ]
    }
   ],
   "source": [
    "n = 24\n",
    "k = np.random.randint(1, n, size = 1) \n",
    "np.random.seed(101)\n",
    "\n",
    "sample_sizes = map(lambda x: x * 24 + k, range(0,10))\n",
    "random_nos = list(map(int,sample_sizes))\n",
    "print(random_nos)"
   ]
  },
  {
   "cell_type": "markdown",
   "metadata": {},
   "source": [
    "## Exercise 5\n",
    "ASSUME THERE ARE 55000 CUSTOMERS AND THEIR LIST IS ARRANGED IN THE DECREASING ORDER OF ORDER VOLUMES. \n",
    "### You are asked to select 250 customers.\n",
    "\n",
    "YOU DIVIDE THE POPULATION SIZE BY SAMPLE SIZE = 55000 / 250 = 220.\n",
    "\n",
    "We have got the population of customers subdivided into 250 customer samples of size 220. So, the sample size, n= 220. So we need to first choose a random number between 1 and 220 (both inclusive) and add the sample size to get other numbers. Now you choose a number randomly between 1 and 220. Assume that number is 48. You would choose 48, 268, 488, and so on."
   ]
  },
  {
   "cell_type": "code",
   "execution_count": 47,
   "metadata": {},
   "outputs": [
    {
     "name": "stdout",
     "output_type": "stream",
     "text": [
      "\n",
      "First random number is: 20\n"
     ]
    }
   ],
   "source": [
    "import numpy as np\n",
    "n = 220\n",
    "np.random.seed(101)\n",
    "print('\\nFirst random number is: %d' %k)"
   ]
  },
  {
   "cell_type": "code",
   "execution_count": 48,
   "metadata": {},
   "outputs": [
    {
     "name": "stdout",
     "output_type": "stream",
     "text": [
      "List of random numbers\n",
      "\n",
      "[20, 240, 460, 680, 900, 1120, 1340, 1560, 1780, 2000, 2220, 2440, 2660, 2880, 3100, 3320, 3540, 3760, 3980, 4200, 4420, 4640, 4860, 5080, 5300, 5520, 5740, 5960, 6180, 6400, 6620, 6840, 7060, 7280, 7500, 7720, 7940, 8160, 8380, 8600, 8820, 9040, 9260, 9480, 9700, 9920, 10140, 10360, 10580, 10800, 11020, 11240, 11460, 11680, 11900, 12120, 12340, 12560, 12780, 13000, 13220, 13440, 13660, 13880, 14100, 14320, 14540, 14760, 14980, 15200, 15420, 15640, 15860, 16080, 16300, 16520, 16740, 16960, 17180, 17400, 17620, 17840, 18060, 18280, 18500, 18720, 18940, 19160, 19380, 19600, 19820, 20040, 20260, 20480, 20700, 20920, 21140, 21360, 21580, 21800, 22020, 22240, 22460, 22680, 22900, 23120, 23340, 23560, 23780, 24000, 24220, 24440, 24660, 24880, 25100, 25320, 25540, 25760, 25980, 26200, 26420, 26640, 26860, 27080, 27300, 27520, 27740, 27960, 28180, 28400, 28620, 28840, 29060, 29280, 29500, 29720, 29940, 30160, 30380, 30600, 30820, 31040, 31260, 31480, 31700, 31920, 32140, 32360, 32580, 32800, 33020, 33240, 33460, 33680, 33900, 34120, 34340, 34560, 34780, 35000, 35220, 35440, 35660, 35880, 36100, 36320, 36540, 36760, 36980, 37200, 37420, 37640, 37860, 38080, 38300, 38520, 38740, 38960, 39180, 39400, 39620, 39840, 40060, 40280, 40500, 40720, 40940, 41160, 41380, 41600, 41820, 42040, 42260, 42480, 42700, 42920, 43140, 43360, 43580, 43800, 44020, 44240, 44460, 44680, 44900, 45120, 45340, 45560, 45780, 46000, 46220, 46440, 46660, 46880, 47100, 47320, 47540, 47760, 47980, 48200, 48420, 48640, 48860, 49080, 49300, 49520, 49740, 49960, 50180, 50400, 50620, 50840, 51060, 51280, 51500, 51720, 51940, 52160, 52380, 52600, 52820, 53040, 53260, 53480, 53700, 53920, 54140, 54360, 54580, 54800]\n",
      "\n",
      "Sample size =  250\n"
     ]
    }
   ],
   "source": [
    "sample_sizes = map(lambda x: x * 220 + k, range(0,250))\n",
    "random_nos = list(map(int,sample_sizes))\n",
    "print('List of random numbers\\n')\n",
    "print(random_nos)\n",
    "print('\\nSample size = ', len(random_nos))"
   ]
  }
 ],
 "metadata": {
  "kernelspec": {
   "display_name": "Python 3",
   "language": "python",
   "name": "python3"
  },
  "language_info": {
   "codemirror_mode": {
    "name": "ipython",
    "version": 3
   },
   "file_extension": ".py",
   "mimetype": "text/x-python",
   "name": "python",
   "nbconvert_exporter": "python",
   "pygments_lexer": "ipython3",
   "version": "3.6.3"
  }
 },
 "nbformat": 4,
 "nbformat_minor": 2
}
