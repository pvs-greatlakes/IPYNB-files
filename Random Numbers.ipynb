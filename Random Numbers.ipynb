{
 "cells": [
  {
   "cell_type": "code",
   "execution_count": 11,
   "metadata": {},
   "outputs": [],
   "source": [
    "import numpy as np\n",
    "import os"
   ]
  },
  {
   "cell_type": "code",
   "execution_count": 12,
   "metadata": {},
   "outputs": [],
   "source": [
    "studentids = np.arange(10000)\n",
    "os.chdir('C://Users/rr500068/Desktop/Trailblazer')"
   ]
  },
  {
   "cell_type": "code",
   "execution_count": 13,
   "metadata": {},
   "outputs": [
    {
     "name": "stdout",
     "output_type": "stream",
     "text": [
      "[7867 1402 8606 8885 6494 9628 7459 3964 7000 4470 9996 1797 4696  716\n",
      " 2188 8613 7553  757 1553 3429 8328 7211 6835 1137 2827 1757 7872 9124\n",
      " 4851 7308  556 6061 3762 4371 7001 3474 5623 3819  987 9770 5359 9297\n",
      " 7864 6332 4318 9026  585 3209 9044 9961 8614 2012  951 9037 6221 4958\n",
      " 9521 3245 4314 3219 1557 7100 8639 4946 5956 5198 8092 8085 7300 8580\n",
      "  343 5352 4906  239 8866 8381 5368 7631 6810  313  576 2552 7068 4444\n",
      "   15 5027 6492 2147 6192 2143 3176 1523 8117 5076  680 7922 9987 3444\n",
      " 4960 2489]\n"
     ]
    }
   ],
   "source": [
    "np.random.seed(12345)\n",
    "student_for_res = np.random.choice(studentids, size = 100, replace = False)\n",
    "print(student_for_res)"
   ]
  },
  {
   "cell_type": "code",
   "execution_count": 14,
   "metadata": {},
   "outputs": [
    {
     "data": {
      "text/plain": [
       "'C:\\\\Users\\\\rr500068\\\\Desktop\\\\Trailblazer'"
      ]
     },
     "execution_count": 14,
     "metadata": {},
     "output_type": "execute_result"
    }
   ],
   "source": [
    "os.getcwd()"
   ]
  }
 ],
 "metadata": {
  "kernelspec": {
   "display_name": "Python 3",
   "language": "python",
   "name": "python3"
  },
  "language_info": {
   "codemirror_mode": {
    "name": "ipython",
    "version": 3
   },
   "file_extension": ".py",
   "mimetype": "text/x-python",
   "name": "python",
   "nbconvert_exporter": "python",
   "pygments_lexer": "ipython3",
   "version": "3.7.1"
  }
 },
 "nbformat": 4,
 "nbformat_minor": 2
}
