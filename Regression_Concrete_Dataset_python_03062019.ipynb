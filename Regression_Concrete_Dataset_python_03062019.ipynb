{
 "cells": [
  {
   "cell_type": "markdown",
   "metadata": {},
   "source": [
    "### Concrete data set\n",
    "\n",
    "We have 1030 observations on 9 variables. We try to estimate the Complete compressive strength(CRS) using:\n",
    "\n",
    "| Variable   | Description |\n",
    "| ---------- | ---------------- |\n",
    "| Cement in kg  | Cement in a m3 mixture | \n",
    "| Blast Furnace Slag in kg  | Blast Furnace Slag  in a m3 mixture | \n",
    "| Fly Ash in kg | Fly Ash in a m3 mixture | \n",
    "| Water in kg |  in a m3 mixture | \n",
    "| Superplasticizer in kg | Water in a m3 mixture | \n",
    "| Coarse Aggregate in kg  |Coarse Aggregate in a m3 mixture | \n",
    "| Fine Aggregate in kg  | Fine Aggregatein a m3 mixture | \n",
    "| Age in  Day  | Days (1-365) | "
   ]
  },
  {
   "cell_type": "code",
   "execution_count": 1,
   "metadata": {},
   "outputs": [
    {
     "name": "stderr",
     "output_type": "stream",
     "text": [
      "D:\\Python\\lib\\site-packages\\sklearn\\cross_validation.py:41: DeprecationWarning: This module was deprecated in version 0.18 in favor of the model_selection module into which all the refactored classes and functions are moved. Also note that the interface of the new CV iterators are different from that of this module. This module will be removed in 0.20.\n",
      "  \"This module will be removed in 0.20.\", DeprecationWarning)\n",
      "D:\\Python\\lib\\site-packages\\sklearn\\ensemble\\weight_boosting.py:29: DeprecationWarning: numpy.core.umath_tests is an internal NumPy module and should not be imported. It will be removed in a future NumPy release.\n",
      "  from numpy.core.umath_tests import inner1d\n"
     ]
    }
   ],
   "source": [
    "import pandas                       as     pd\n",
    "import numpy                        as     np\n",
    "import scipy.stats                  as     stats\n",
    "\n",
    "import seaborn                      as     sns\n",
    "import matplotlib.pyplot            as     plt\n",
    "import matplotlib\n",
    "\n",
    "matplotlib.rcParams.update({'font.size': 12})\n",
    "\n",
    "import astropy.table                as     Table\n",
    "import statsmodels.api              as     sm\n",
    "import statsmodels.stats.api        as     sms\n",
    "from   statsmodels.compat           import lzip\n",
    "\n",
    "from   sklearn.cross_validation     import train_test_split\n",
    "from   sklearn                      import model_selection\n",
    "\n",
    "from sklearn.linear_model           import  LinearRegression\n",
    "from sklearn.linear_model           import  Lasso\n",
    "from sklearn.linear_model           import  Ridge\n",
    "from sklearn.linear_model           import  ElasticNet\n",
    "\n",
    "from   sklearn.tree                 import DecisionTreeRegressor\n",
    "from   sklearn.ensemble             import RandomForestRegressor\n",
    "from   sklearn.neural_network       import MLPRegressor\n",
    "from   sklearn                      import ensemble\n",
    "from   sklearn.ensemble             import GradientBoostingRegressor\n",
    "\n",
    "from   sklearn.neighbors            import KNeighborsRegressor\n",
    "from   sklearn.svm                  import SVR\n",
    "\n",
    "from   sklearn.model_selection      import GridSearchCV\n",
    "from   sklearn.model_selection      import cross_val_score, cross_val_predict\n",
    "\n",
    "\n",
    "from   sklearn.metrics              import mean_squared_error, mean_absolute_error\n",
    "from   statsmodels.compat           import lzip\n",
    "from   statsmodels.stats            import diagnostic as diag\n",
    "\n",
    "from  statsmodels.stats.outliers_influence import variance_inflation_factor"
   ]
  },
  {
   "cell_type": "code",
   "execution_count": 2,
   "metadata": {
    "collapsed": true
   },
   "outputs": [],
   "source": [
    "def mean_absolute_percentage_error(y_true, y_pred): \n",
    "    y_true, y_pred = np.array(y_true), np.array(y_pred)\n",
    "    return np.mean(np.abs((y_true - y_pred) / y_true)) * 100"
   ]
  },
  {
   "cell_type": "code",
   "execution_count": 3,
   "metadata": {
    "collapsed": true
   },
   "outputs": [],
   "source": [
    "def  report_rmse_mape(lm, y, X, title):\n",
    "    \n",
    "    '''\n",
    "        Reports rmse and mape for the given model, pair of dataset (y and X) and title\n",
    "    ''' \n",
    "    rmse_     = (np.sqrt(mean_squared_error(y_true = y, y_pred = lm.predict(X))))\n",
    "    mape_    = mean_absolute_percentage_error(y,       y_pred = lm.predict(X))\n",
    "    print(\"\\n\")\n",
    "    print(title)\n",
    "    print(\"--------------------------------------\")\n",
    "    print('RMSE is {}'.format(rmse_ ))\n",
    "    print('MAPE is {}'.format(mape_))\n",
    "\n",
    "#### End\n"
   ]
  },
  {
   "cell_type": "code",
   "execution_count": 4,
   "metadata": {
    "collapsed": true
   },
   "outputs": [],
   "source": [
    "url = 'https://sites.google.com/site/pocketecoworld/Concrete_Data.csv'"
   ]
  },
  {
   "cell_type": "code",
   "execution_count": 5,
   "metadata": {},
   "outputs": [
    {
     "name": "stdout",
     "output_type": "stream",
     "text": [
      "(1030, 9)\n",
      "                        0        1       2       3      4\n",
      "Cement             540.00   540.00  332.50  332.50  198.6\n",
      "Blast                0.00     0.00  142.50  142.50  132.4\n",
      "Fly Ash              0.00     0.00    0.00    0.00    0.0\n",
      "Water              162.00   162.00  228.00  228.00  192.0\n",
      "Superplasticizer     2.50     2.50    0.00    0.00    0.0\n",
      "CA                1040.00  1055.00  932.00  932.00  978.4\n",
      "FA                 676.00   676.00  594.00  594.00  825.5\n",
      "Age                 28.00    28.00  270.00  365.00  360.0\n",
      "CMS                 79.99    61.89   40.27   41.05   44.3\n"
     ]
    }
   ],
   "source": [
    "cement_df       = pd.read_csv(url)\n",
    "print(cement_df.shape)\n",
    "print(cement_df.head().T)   "
   ]
  },
  {
   "cell_type": "code",
   "execution_count": 6,
   "metadata": {},
   "outputs": [
    {
     "name": "stdout",
     "output_type": "stream",
     "text": [
      "Index(['Cement', 'Blast', 'Fly Ash', 'Water', 'Superplasticizer', 'CA', 'FA',\n",
      "       'Age', 'CMS'],\n",
      "      dtype='object')\n"
     ]
    }
   ],
   "source": [
    "print(cement_df.columns)"
   ]
  },
  {
   "cell_type": "code",
   "execution_count": 7,
   "metadata": {},
   "outputs": [
    {
     "data": {
      "text/plain": [
       "Cement              0\n",
       "Blast               0\n",
       "Fly Ash             0\n",
       "Water               0\n",
       "Superplasticizer    0\n",
       "CA                  0\n",
       "FA                  0\n",
       "Age                 0\n",
       "CMS                 0\n",
       "dtype: int64"
      ]
     },
     "execution_count": 7,
     "metadata": {},
     "output_type": "execute_result"
    }
   ],
   "source": [
    "cement_df.isnull().sum()"
   ]
  },
  {
   "cell_type": "code",
   "execution_count": 8,
   "metadata": {},
   "outputs": [
    {
     "data": {
      "text/plain": [
       "Cement              10921.580220\n",
       "Blast                7444.124812\n",
       "Fly Ash              4095.616541\n",
       "Water                 456.002651\n",
       "Superplasticizer       35.686781\n",
       "CA                   6045.677357\n",
       "FA                   6428.187792\n",
       "Age                  3990.437729\n",
       "CMS                   279.081814\n",
       "dtype: float64"
      ]
     },
     "execution_count": 8,
     "metadata": {},
     "output_type": "execute_result"
    }
   ],
   "source": [
    "cement_df.var()"
   ]
  },
  {
   "cell_type": "code",
   "execution_count": 9,
   "metadata": {
    "collapsed": true
   },
   "outputs": [],
   "source": [
    "X = cement_df.iloc[:,0:8] # Select all columns other than column, CMS\n",
    "y = cement_df.iloc[:,8:] # Select only CMS"
   ]
  },
  {
   "cell_type": "code",
   "execution_count": 10,
   "metadata": {
    "collapsed": true
   },
   "outputs": [],
   "source": [
    "X_train, X_test, y_train, y_test = train_test_split(X, y, test_size = 0.2, random_state = 100) "
   ]
  },
  {
   "cell_type": "code",
   "execution_count": 11,
   "metadata": {},
   "outputs": [
    {
     "data": {
      "text/plain": [
       "[('x_train shape', (824, 8), pandas.core.frame.DataFrame),\n",
       " ('x_test shape', (206, 8), pandas.core.frame.DataFrame),\n",
       " ('y_train shape', (824, 1), pandas.core.frame.DataFrame),\n",
       " ('y_test shape', (206, 1), pandas.core.frame.DataFrame)]"
      ]
     },
     "execution_count": 11,
     "metadata": {},
     "output_type": "execute_result"
    }
   ],
   "source": [
    "df_names      = ['x_train shape', 'x_test shape', 'y_train shape', 'y_test shape']\n",
    "shapes        = (X_train.shape, X_test.shape,  y_train.shape, y_test.shape)\n",
    "types         = (type(X_train), type(X_test), type(y_train),type(y_test))\n",
    "lzip(df_names,shapes, types)"
   ]
  },
  {
   "cell_type": "markdown",
   "metadata": {},
   "source": [
    "### Test the assumptions of Linear Regression"
   ]
  },
  {
   "cell_type": "markdown",
   "metadata": {},
   "source": [
    "##### To test the assumptions, run a linear regression using statsmodels: "
   ]
  },
  {
   "cell_type": "markdown",
   "metadata": {},
   "source": [
    "It is to be noted that statsmodels does not add intercept term automatically thus we need to create an intercept to our model."
   ]
  },
  {
   "cell_type": "code",
   "execution_count": 12,
   "metadata": {
    "collapsed": true
   },
   "outputs": [],
   "source": [
    "X_         = sm.add_constant(X_train) \n",
    "## Add an intercept (beta_0) to our model"
   ]
  },
  {
   "cell_type": "markdown",
   "metadata": {},
   "source": [
    "#### Linear regression can be run by using sm.OLS:"
   ]
  },
  {
   "cell_type": "code",
   "execution_count": 13,
   "metadata": {},
   "outputs": [
    {
     "data": {
      "text/html": [
       "<table class=\"simpletable\">\n",
       "<caption>OLS Regression Results</caption>\n",
       "<tr>\n",
       "  <th>Dep. Variable:</th>           <td>CMS</td>       <th>  R-squared:         </th> <td>   0.613</td> \n",
       "</tr>\n",
       "<tr>\n",
       "  <th>Model:</th>                   <td>OLS</td>       <th>  Adj. R-squared:    </th> <td>   0.609</td> \n",
       "</tr>\n",
       "<tr>\n",
       "  <th>Method:</th>             <td>Least Squares</td>  <th>  F-statistic:       </th> <td>   161.0</td> \n",
       "</tr>\n",
       "<tr>\n",
       "  <th>Date:</th>             <td>Mon, 03 Jun 2019</td> <th>  Prob (F-statistic):</th> <td>4.37e-162</td>\n",
       "</tr>\n",
       "<tr>\n",
       "  <th>Time:</th>                 <td>09:09:23</td>     <th>  Log-Likelihood:    </th> <td> -3090.4</td> \n",
       "</tr>\n",
       "<tr>\n",
       "  <th>No. Observations:</th>      <td>   824</td>      <th>  AIC:               </th> <td>   6199.</td> \n",
       "</tr>\n",
       "<tr>\n",
       "  <th>Df Residuals:</th>          <td>   815</td>      <th>  BIC:               </th> <td>   6241.</td> \n",
       "</tr>\n",
       "<tr>\n",
       "  <th>Df Model:</th>              <td>     8</td>      <th>                     </th>     <td> </td>    \n",
       "</tr>\n",
       "<tr>\n",
       "  <th>Covariance Type:</th>      <td>nonrobust</td>    <th>                     </th>     <td> </td>    \n",
       "</tr>\n",
       "</table>\n",
       "<table class=\"simpletable\">\n",
       "<tr>\n",
       "          <td></td>            <th>coef</th>     <th>std err</th>      <th>t</th>      <th>P>|t|</th>  <th>[0.025</th>    <th>0.975]</th>  \n",
       "</tr>\n",
       "<tr>\n",
       "  <th>const</th>            <td>  -34.2735</td> <td>   29.931</td> <td>   -1.145</td> <td> 0.253</td> <td>  -93.025</td> <td>   24.478</td>\n",
       "</tr>\n",
       "<tr>\n",
       "  <th>Cement</th>           <td>    0.1242</td> <td>    0.010</td> <td>   13.054</td> <td> 0.000</td> <td>    0.105</td> <td>    0.143</td>\n",
       "</tr>\n",
       "<tr>\n",
       "  <th>Blast</th>            <td>    0.1037</td> <td>    0.011</td> <td>    9.229</td> <td> 0.000</td> <td>    0.082</td> <td>    0.126</td>\n",
       "</tr>\n",
       "<tr>\n",
       "  <th>Fly Ash</th>          <td>    0.0934</td> <td>    0.014</td> <td>    6.687</td> <td> 0.000</td> <td>    0.066</td> <td>    0.121</td>\n",
       "</tr>\n",
       "<tr>\n",
       "  <th>Water</th>            <td>   -0.1343</td> <td>    0.046</td> <td>   -2.947</td> <td> 0.003</td> <td>   -0.224</td> <td>   -0.045</td>\n",
       "</tr>\n",
       "<tr>\n",
       "  <th>Superplasticizer</th> <td>    0.2880</td> <td>    0.102</td> <td>    2.810</td> <td> 0.005</td> <td>    0.087</td> <td>    0.489</td>\n",
       "</tr>\n",
       "<tr>\n",
       "  <th>CA</th>               <td>    0.0207</td> <td>    0.011</td> <td>    1.966</td> <td> 0.050</td> <td> 2.79e-05</td> <td>    0.041</td>\n",
       "</tr>\n",
       "<tr>\n",
       "  <th>FA</th>               <td>    0.0256</td> <td>    0.012</td> <td>    2.131</td> <td> 0.033</td> <td>    0.002</td> <td>    0.049</td>\n",
       "</tr>\n",
       "<tr>\n",
       "  <th>Age</th>              <td>    0.1146</td> <td>    0.006</td> <td>   19.064</td> <td> 0.000</td> <td>    0.103</td> <td>    0.126</td>\n",
       "</tr>\n",
       "</table>\n",
       "<table class=\"simpletable\">\n",
       "<tr>\n",
       "  <th>Omnibus:</th>       <td> 3.757</td> <th>  Durbin-Watson:     </th> <td>   2.033</td>\n",
       "</tr>\n",
       "<tr>\n",
       "  <th>Prob(Omnibus):</th> <td> 0.153</td> <th>  Jarque-Bera (JB):  </th> <td>   3.762</td>\n",
       "</tr>\n",
       "<tr>\n",
       "  <th>Skew:</th>          <td>-0.165</td> <th>  Prob(JB):          </th> <td>   0.152</td>\n",
       "</tr>\n",
       "<tr>\n",
       "  <th>Kurtosis:</th>      <td> 2.974</td> <th>  Cond. No.          </th> <td>1.07e+05</td>\n",
       "</tr>\n",
       "</table><br/><br/>Warnings:<br/>[1] Standard Errors assume that the covariance matrix of the errors is correctly specified.<br/>[2] The condition number is large, 1.07e+05. This might indicate that there are<br/>strong multicollinearity or other numerical problems."
      ],
      "text/plain": [
       "<class 'statsmodels.iolib.summary.Summary'>\n",
       "\"\"\"\n",
       "                            OLS Regression Results                            \n",
       "==============================================================================\n",
       "Dep. Variable:                    CMS   R-squared:                       0.613\n",
       "Model:                            OLS   Adj. R-squared:                  0.609\n",
       "Method:                 Least Squares   F-statistic:                     161.0\n",
       "Date:                Mon, 03 Jun 2019   Prob (F-statistic):          4.37e-162\n",
       "Time:                        09:09:23   Log-Likelihood:                -3090.4\n",
       "No. Observations:                 824   AIC:                             6199.\n",
       "Df Residuals:                     815   BIC:                             6241.\n",
       "Df Model:                           8                                         \n",
       "Covariance Type:            nonrobust                                         \n",
       "====================================================================================\n",
       "                       coef    std err          t      P>|t|      [0.025      0.975]\n",
       "------------------------------------------------------------------------------------\n",
       "const              -34.2735     29.931     -1.145      0.253     -93.025      24.478\n",
       "Cement               0.1242      0.010     13.054      0.000       0.105       0.143\n",
       "Blast                0.1037      0.011      9.229      0.000       0.082       0.126\n",
       "Fly Ash              0.0934      0.014      6.687      0.000       0.066       0.121\n",
       "Water               -0.1343      0.046     -2.947      0.003      -0.224      -0.045\n",
       "Superplasticizer     0.2880      0.102      2.810      0.005       0.087       0.489\n",
       "CA                   0.0207      0.011      1.966      0.050    2.79e-05       0.041\n",
       "FA                   0.0256      0.012      2.131      0.033       0.002       0.049\n",
       "Age                  0.1146      0.006     19.064      0.000       0.103       0.126\n",
       "==============================================================================\n",
       "Omnibus:                        3.757   Durbin-Watson:                   2.033\n",
       "Prob(Omnibus):                  0.153   Jarque-Bera (JB):                3.762\n",
       "Skew:                          -0.165   Prob(JB):                        0.152\n",
       "Kurtosis:                       2.974   Cond. No.                     1.07e+05\n",
       "==============================================================================\n",
       "\n",
       "Warnings:\n",
       "[1] Standard Errors assume that the covariance matrix of the errors is correctly specified.\n",
       "[2] The condition number is large, 1.07e+05. This might indicate that there are\n",
       "strong multicollinearity or other numerical problems.\n",
       "\"\"\""
      ]
     },
     "execution_count": 13,
     "metadata": {},
     "output_type": "execute_result"
    }
   ],
   "source": [
    "lm = sm.OLS(y_train, X_).fit()\n",
    "## The summary of our model can be obtained via:\n",
    "lm.summary()"
   ]
  },
  {
   "cell_type": "code",
   "execution_count": 14,
   "metadata": {
    "collapsed": true
   },
   "outputs": [],
   "source": [
    "y_pred = lm.predict(X_) "
   ]
  },
  {
   "cell_type": "markdown",
   "metadata": {},
   "source": [
    "### 1) No Outliers\n",
    "\n",
    "#### Detecting Outliers: \n",
    "\n",
    "Firstly we try to get the studentized residuals using get_influence( ). The studentized residuals are saved in resid_student."
   ]
  },
  {
   "cell_type": "code",
   "execution_count": 15,
   "metadata": {},
   "outputs": [
    {
     "data": {
      "image/png": "[encoded data removed]",
      "text/plain": [
       "<matplotlib.figure.Figure at 0x2436d7f2240>"
      ]
     },
     "metadata": {},
     "output_type": "display_data"
    }
   ],
   "source": [
    "X.boxplot(rot = 90)\n",
    "plt.show()"
   ]
  },
  {
   "cell_type": "code",
   "execution_count": 16,
   "metadata": {
    "collapsed": true
   },
   "outputs": [],
   "source": [
    "influence       = lm.get_influence()  \n",
    "resid_student   = influence.resid_studentized_external"
   ]
  },
  {
   "cell_type": "code",
   "execution_count": 17,
   "metadata": {},
   "outputs": [
    {
     "data": {
      "text/html": [
       "<div>\n",
       "<style scoped>\n",
       "    .dataframe tbody tr th:only-of-type {\n",
       "        vertical-align: middle;\n",
       "    }\n",
       "\n",
       "    .dataframe tbody tr th {\n",
       "        vertical-align: top;\n",
       "    }\n",
       "\n",
       "    .dataframe thead th {\n",
       "        text-align: right;\n",
       "    }\n",
       "</style>\n",
       "<table border=\"1\" class=\"dataframe\">\n",
       "  <thead>\n",
       "    <tr style=\"text-align: right;\">\n",
       "      <th></th>\n",
       "      <th>Cement</th>\n",
       "      <th>Blast</th>\n",
       "      <th>Fly Ash</th>\n",
       "      <th>Water</th>\n",
       "      <th>Superplasticizer</th>\n",
       "      <th>CA</th>\n",
       "      <th>FA</th>\n",
       "      <th>Age</th>\n",
       "      <th>Studentized Residuals</th>\n",
       "    </tr>\n",
       "  </thead>\n",
       "  <tbody>\n",
       "    <tr>\n",
       "      <th>0</th>\n",
       "      <td>540.0</td>\n",
       "      <td>0.0</td>\n",
       "      <td>0.0</td>\n",
       "      <td>162.0</td>\n",
       "      <td>2.5</td>\n",
       "      <td>1040.0</td>\n",
       "      <td>676.0</td>\n",
       "      <td>28</td>\n",
       "      <td>1.559672</td>\n",
       "    </tr>\n",
       "    <tr>\n",
       "      <th>1</th>\n",
       "      <td>540.0</td>\n",
       "      <td>0.0</td>\n",
       "      <td>0.0</td>\n",
       "      <td>162.0</td>\n",
       "      <td>2.5</td>\n",
       "      <td>1055.0</td>\n",
       "      <td>676.0</td>\n",
       "      <td>28</td>\n",
       "      <td>-0.917354</td>\n",
       "    </tr>\n",
       "    <tr>\n",
       "      <th>2</th>\n",
       "      <td>332.5</td>\n",
       "      <td>142.5</td>\n",
       "      <td>0.0</td>\n",
       "      <td>228.0</td>\n",
       "      <td>0.0</td>\n",
       "      <td>932.0</td>\n",
       "      <td>594.0</td>\n",
       "      <td>270</td>\n",
       "      <td>1.057443</td>\n",
       "    </tr>\n",
       "    <tr>\n",
       "      <th>3</th>\n",
       "      <td>332.5</td>\n",
       "      <td>142.5</td>\n",
       "      <td>0.0</td>\n",
       "      <td>228.0</td>\n",
       "      <td>0.0</td>\n",
       "      <td>932.0</td>\n",
       "      <td>594.0</td>\n",
       "      <td>365</td>\n",
       "      <td>0.637504</td>\n",
       "    </tr>\n",
       "    <tr>\n",
       "      <th>4</th>\n",
       "      <td>198.6</td>\n",
       "      <td>132.4</td>\n",
       "      <td>0.0</td>\n",
       "      <td>192.0</td>\n",
       "      <td>0.0</td>\n",
       "      <td>978.4</td>\n",
       "      <td>825.5</td>\n",
       "      <td>360</td>\n",
       "      <td>-1.170290</td>\n",
       "    </tr>\n",
       "  </tbody>\n",
       "</table>\n",
       "</div>"
      ],
      "text/plain": [
       "   Cement  Blast  Fly Ash  Water  Superplasticizer      CA     FA  Age  \\\n",
       "0   540.0    0.0      0.0  162.0               2.5  1040.0  676.0   28   \n",
       "1   540.0    0.0      0.0  162.0               2.5  1055.0  676.0   28   \n",
       "2   332.5  142.5      0.0  228.0               0.0   932.0  594.0  270   \n",
       "3   332.5  142.5      0.0  228.0               0.0   932.0  594.0  365   \n",
       "4   198.6  132.4      0.0  192.0               0.0   978.4  825.5  360   \n",
       "\n",
       "   Studentized Residuals  \n",
       "0               1.559672  \n",
       "1              -0.917354  \n",
       "2               1.057443  \n",
       "3               0.637504  \n",
       "4              -1.170290  "
      ]
     },
     "execution_count": 17,
     "metadata": {},
     "output_type": "execute_result"
    }
   ],
   "source": [
    "residuals_s     = pd.concat([X, pd.Series(resid_student, \\\n",
    "                            name = \"Studentized Residuals\")],axis = 1)\n",
    "residuals_s.head()"
   ]
  },
  {
   "cell_type": "markdown",
   "metadata": {},
   "source": [
    "Remove any observation, if the absolute value of studentized residuals is more than 3.\n",
    "\n",
    "We try to create a logical vector for the absolute studentized residuals more than 3"
   ]
  },
  {
   "cell_type": "code",
   "execution_count": 18,
   "metadata": {},
   "outputs": [
    {
     "data": {
      "text/plain": [
       "Int64Index([649], dtype='int64')"
      ]
     },
     "execution_count": 18,
     "metadata": {},
     "output_type": "execute_result"
    }
   ],
   "source": [
    "ind = residuals_s.loc[np.absolute(residuals_s[\"Studentized Residuals\"]) > 3,:].index\n",
    "ind"
   ]
  },
  {
   "cell_type": "code",
   "execution_count": 19,
   "metadata": {},
   "outputs": [
    {
     "name": "stderr",
     "output_type": "stream",
     "text": [
      "D:\\Python\\lib\\site-packages\\pandas\\core\\frame.py:3697: SettingWithCopyWarning: \n",
      "A value is trying to be set on a copy of a slice from a DataFrame\n",
      "\n",
      "See the caveats in the documentation: http://pandas.pydata.org/pandas-docs/stable/indexing.html#indexing-view-versus-copy\n",
      "  errors=errors)\n"
     ]
    }
   ],
   "source": [
    "y_train.drop(ind, axis = 0,inplace = True)\n",
    "X_.drop(ind, axis = 0,inplace = True)  #Interept column is not there"
   ]
  },
  {
   "cell_type": "code",
   "execution_count": 20,
   "metadata": {},
   "outputs": [
    {
     "name": "stdout",
     "output_type": "stream",
     "text": [
      "823\n"
     ]
    }
   ],
   "source": [
    "print(len(X_))"
   ]
  },
  {
   "cell_type": "markdown",
   "metadata": {},
   "source": [
    "### 2) Normality of the residuals"
   ]
  },
  {
   "cell_type": "markdown",
   "metadata": {},
   "source": [
    "#### We use Jarque-Bera test  from scipy library to check the normality of residuals.\n",
    "\n",
    "#### Null Hypothesis: The residuals are normally distributed.\n",
    "\n",
    "####  Alternative Hypothesis: The residuals are not normally distributed."
   ]
  },
  {
   "cell_type": "code",
   "execution_count": 21,
   "metadata": {},
   "outputs": [
    {
     "data": {
      "text/html": [
       "<table class=\"simpletable\">\n",
       "<caption>OLS Regression Results</caption>\n",
       "<tr>\n",
       "  <th>Dep. Variable:</th>           <td>CMS</td>       <th>  R-squared:         </th> <td>   0.612</td> \n",
       "</tr>\n",
       "<tr>\n",
       "  <th>Model:</th>                   <td>OLS</td>       <th>  Adj. R-squared:    </th> <td>   0.608</td> \n",
       "</tr>\n",
       "<tr>\n",
       "  <th>Method:</th>             <td>Least Squares</td>  <th>  F-statistic:       </th> <td>   160.7</td> \n",
       "</tr>\n",
       "<tr>\n",
       "  <th>Date:</th>             <td>Mon, 03 Jun 2019</td> <th>  Prob (F-statistic):</th> <td>9.09e-162</td>\n",
       "</tr>\n",
       "<tr>\n",
       "  <th>Time:</th>                 <td>09:09:24</td>     <th>  Log-Likelihood:    </th> <td> -3085.9</td> \n",
       "</tr>\n",
       "<tr>\n",
       "  <th>No. Observations:</th>      <td>   823</td>      <th>  AIC:               </th> <td>   6190.</td> \n",
       "</tr>\n",
       "<tr>\n",
       "  <th>Df Residuals:</th>          <td>   814</td>      <th>  BIC:               </th> <td>   6232.</td> \n",
       "</tr>\n",
       "<tr>\n",
       "  <th>Df Model:</th>              <td>     8</td>      <th>                     </th>     <td> </td>    \n",
       "</tr>\n",
       "<tr>\n",
       "  <th>Covariance Type:</th>      <td>nonrobust</td>    <th>                     </th>     <td> </td>    \n",
       "</tr>\n",
       "</table>\n",
       "<table class=\"simpletable\">\n",
       "<tr>\n",
       "          <td></td>            <th>coef</th>     <th>std err</th>      <th>t</th>      <th>P>|t|</th>  <th>[0.025</th>    <th>0.975]</th>  \n",
       "</tr>\n",
       "<tr>\n",
       "  <th>const</th>            <td>  -34.0406</td> <td>   29.904</td> <td>   -1.138</td> <td> 0.255</td> <td>  -92.738</td> <td>   24.657</td>\n",
       "</tr>\n",
       "<tr>\n",
       "  <th>Cement</th>           <td>    0.1240</td> <td>    0.010</td> <td>   13.044</td> <td> 0.000</td> <td>    0.105</td> <td>    0.143</td>\n",
       "</tr>\n",
       "<tr>\n",
       "  <th>Blast</th>            <td>    0.1040</td> <td>    0.011</td> <td>    9.266</td> <td> 0.000</td> <td>    0.082</td> <td>    0.126</td>\n",
       "</tr>\n",
       "<tr>\n",
       "  <th>Fly Ash</th>          <td>    0.0932</td> <td>    0.014</td> <td>    6.681</td> <td> 0.000</td> <td>    0.066</td> <td>    0.121</td>\n",
       "</tr>\n",
       "<tr>\n",
       "  <th>Water</th>            <td>   -0.1343</td> <td>    0.046</td> <td>   -2.950</td> <td> 0.003</td> <td>   -0.224</td> <td>   -0.045</td>\n",
       "</tr>\n",
       "<tr>\n",
       "  <th>Superplasticizer</th> <td>    0.2853</td> <td>    0.102</td> <td>    2.786</td> <td> 0.005</td> <td>    0.084</td> <td>    0.486</td>\n",
       "</tr>\n",
       "<tr>\n",
       "  <th>CA</th>               <td>    0.0207</td> <td>    0.011</td> <td>    1.968</td> <td> 0.049</td> <td> 5.09e-05</td> <td>    0.041</td>\n",
       "</tr>\n",
       "<tr>\n",
       "  <th>FA</th>               <td>    0.0254</td> <td>    0.012</td> <td>    2.117</td> <td> 0.035</td> <td>    0.002</td> <td>    0.049</td>\n",
       "</tr>\n",
       "<tr>\n",
       "  <th>Age</th>              <td>    0.1143</td> <td>    0.006</td> <td>   19.021</td> <td> 0.000</td> <td>    0.103</td> <td>    0.126</td>\n",
       "</tr>\n",
       "</table>\n",
       "<table class=\"simpletable\">\n",
       "<tr>\n",
       "  <th>Omnibus:</th>       <td> 3.793</td> <th>  Durbin-Watson:     </th> <td>   2.032</td>\n",
       "</tr>\n",
       "<tr>\n",
       "  <th>Prob(Omnibus):</th> <td> 0.150</td> <th>  Jarque-Bera (JB):  </th> <td>   3.793</td>\n",
       "</tr>\n",
       "<tr>\n",
       "  <th>Skew:</th>          <td>-0.166</td> <th>  Prob(JB):          </th> <td>   0.150</td>\n",
       "</tr>\n",
       "<tr>\n",
       "  <th>Kurtosis:</th>      <td> 2.978</td> <th>  Cond. No.          </th> <td>1.07e+05</td>\n",
       "</tr>\n",
       "</table><br/><br/>Warnings:<br/>[1] Standard Errors assume that the covariance matrix of the errors is correctly specified.<br/>[2] The condition number is large, 1.07e+05. This might indicate that there are<br/>strong multicollinearity or other numerical problems."
      ],
      "text/plain": [
       "<class 'statsmodels.iolib.summary.Summary'>\n",
       "\"\"\"\n",
       "                            OLS Regression Results                            \n",
       "==============================================================================\n",
       "Dep. Variable:                    CMS   R-squared:                       0.612\n",
       "Model:                            OLS   Adj. R-squared:                  0.608\n",
       "Method:                 Least Squares   F-statistic:                     160.7\n",
       "Date:                Mon, 03 Jun 2019   Prob (F-statistic):          9.09e-162\n",
       "Time:                        09:09:24   Log-Likelihood:                -3085.9\n",
       "No. Observations:                 823   AIC:                             6190.\n",
       "Df Residuals:                     814   BIC:                             6232.\n",
       "Df Model:                           8                                         \n",
       "Covariance Type:            nonrobust                                         \n",
       "====================================================================================\n",
       "                       coef    std err          t      P>|t|      [0.025      0.975]\n",
       "------------------------------------------------------------------------------------\n",
       "const              -34.0406     29.904     -1.138      0.255     -92.738      24.657\n",
       "Cement               0.1240      0.010     13.044      0.000       0.105       0.143\n",
       "Blast                0.1040      0.011      9.266      0.000       0.082       0.126\n",
       "Fly Ash              0.0932      0.014      6.681      0.000       0.066       0.121\n",
       "Water               -0.1343      0.046     -2.950      0.003      -0.224      -0.045\n",
       "Superplasticizer     0.2853      0.102      2.786      0.005       0.084       0.486\n",
       "CA                   0.0207      0.011      1.968      0.049    5.09e-05       0.041\n",
       "FA                   0.0254      0.012      2.117      0.035       0.002       0.049\n",
       "Age                  0.1143      0.006     19.021      0.000       0.103       0.126\n",
       "==============================================================================\n",
       "Omnibus:                        3.793   Durbin-Watson:                   2.032\n",
       "Prob(Omnibus):                  0.150   Jarque-Bera (JB):                3.793\n",
       "Skew:                          -0.166   Prob(JB):                        0.150\n",
       "Kurtosis:                       2.978   Cond. No.                     1.07e+05\n",
       "==============================================================================\n",
       "\n",
       "Warnings:\n",
       "[1] Standard Errors assume that the covariance matrix of the errors is correctly specified.\n",
       "[2] The condition number is large, 1.07e+05. This might indicate that there are\n",
       "strong multicollinearity or other numerical problems.\n",
       "\"\"\""
      ]
     },
     "execution_count": 21,
     "metadata": {},
     "output_type": "execute_result"
    }
   ],
   "source": [
    "lm      = sm.OLS(y_train, X_).fit()\n",
    "## The summary of our model can be obtained via:\n",
    "lm.summary()"
   ]
  },
  {
   "cell_type": "code",
   "execution_count": 22,
   "metadata": {},
   "outputs": [
    {
     "name": "stdout",
     "output_type": "stream",
     "text": [
      "Jarque-Bera test P value is 0.1501\n"
     ]
    }
   ],
   "source": [
    "jb_stat, jb_pval = stats.jarque_bera(lm.resid)\n",
    "print('Jarque-Bera test P value is %1.4f' % jb_pval)"
   ]
  },
  {
   "cell_type": "code",
   "execution_count": 23,
   "metadata": {},
   "outputs": [
    {
     "data": {
      "image/png": "[encoded data removed]",
      "text/plain": [
       "<matplotlib.figure.Figure at 0x2436f8ecda0>"
      ]
     },
     "metadata": {},
     "output_type": "display_data"
    }
   ],
   "source": [
    "fig     = plt.figure()\n",
    "ax1     = fig.add_subplot(211)\n",
    "prob    = stats.probplot(lm.resid, dist = stats.norm, plot = ax1)\n",
    "ax1.set_xlabel('')\n",
    "ax1.set_title('Probplot against normal distribution')\n",
    "plt.show()"
   ]
  },
  {
   "cell_type": "markdown",
   "metadata": {},
   "source": [
    "Our p value is 0.1501 > 0.05. At 5% level of significance, we accept the null hypothesis and conclude that the residuals are normally distributed."
   ]
  },
  {
   "cell_type": "markdown",
   "metadata": {},
   "source": [
    "### 3) No multi-collinearity\n",
    "\n",
    "##### Detecting and Removing Multicollinearity \n",
    "\n",
    "We use the statsmodels library to calculate VIF from statsmodels.stats.outliers_influence import variance_inflation_factor"
   ]
  },
  {
   "cell_type": "code",
   "execution_count": 24,
   "metadata": {},
   "outputs": [
    {
     "data": {
      "text/plain": [
       "[6882.15686147909,\n",
       " 7.649851425544104,\n",
       " 7.200884996866033,\n",
       " 6.096324404236058,\n",
       " 7.181329826681238,\n",
       " 2.9382672538697547,\n",
       " 5.046538030576595,\n",
       " 7.007399828726609,\n",
       " 1.103492071785564]"
      ]
     },
     "execution_count": 24,
     "metadata": {},
     "output_type": "execute_result"
    }
   ],
   "source": [
    "[variance_inflation_factor(X_.values, j) for j in range(X_.shape[1])]### "
   ]
  },
  {
   "cell_type": "markdown",
   "metadata": {},
   "source": [
    "We create a function to remove the collinear variables. \n",
    "\n",
    "We choose a threshold of 5 which means if VIF is more than 5 for a particular variable then that variable will be removed."
   ]
  },
  {
   "cell_type": "code",
   "execution_count": 25,
   "metadata": {
    "collapsed": true
   },
   "outputs": [],
   "source": [
    "def calculate_vif(x):\n",
    "    thresh = 5.0\n",
    "    output = pd.DataFrame()\n",
    "    k = x.shape[1]\n",
    "    vif = [variance_inflation_factor(x.values, j) for j in range(x.shape[1])]\n",
    "    for i in range(1,k):\n",
    "        print(\"Iteration no.\")\n",
    "        print(i)\n",
    "        print(vif)\n",
    "        a = np.argmax(vif)\n",
    "        print(\"Max VIF is for variable no.:\")\n",
    "        print(a)\n",
    "        if vif[a] <= thresh :\n",
    "            break\n",
    "        if i == 1 :          \n",
    "            output = x.drop(x.columns[a], axis = 1)\n",
    "            vif = [variance_inflation_factor(output.values, j) for j in range(output.shape[1])]\n",
    "        elif i > 1 :\n",
    "            output = output.drop(output.columns[a],axis = 1)\n",
    "            vif = [variance_inflation_factor(output.values, j) for j in range(output.shape[1])]\n",
    "    return(output)\n"
   ]
  },
  {
   "cell_type": "code",
   "execution_count": 26,
   "metadata": {},
   "outputs": [
    {
     "name": "stdout",
     "output_type": "stream",
     "text": [
      "Iteration no.\n",
      "1\n",
      "[6882.15686147909, 7.649851425544104, 7.200884996866033, 6.096324404236058, 7.181329826681238, 2.9382672538697547, 5.046538030576595, 7.007399828726609, 1.103492071785564]\n",
      "Max VIF is for variable no.:\n",
      "0\n",
      "Iteration no.\n",
      "2\n",
      "[15.47758260195686, 3.2696650121931814, 4.129325501299342, 82.21008475163109, 5.21853674386234, 85.86694548901554, 71.81633694293068, 1.686160096846766]\n",
      "Max VIF is for variable no.:\n",
      "5\n",
      "Iteration no.\n",
      "3\n",
      "[14.517486362670928, 3.2477734890453647, 3.968695653417151, 71.53530428408644, 5.1775267752249094, 48.27016091702854, 1.6861256310510393]\n",
      "Max VIF is for variable no.:\n",
      "3\n",
      "Iteration no.\n",
      "4\n",
      "[9.385732352700492, 2.082876994657241, 3.00951685248508, 2.910827525646028, 14.418586504418238, 1.572151969798833]\n",
      "Max VIF is for variable no.:\n",
      "4\n",
      "Iteration no.\n",
      "5\n",
      "[2.6936535297265767, 1.528289203660763, 1.904439437889966, 2.8907052492126315, 1.5380724272424997]\n",
      "Max VIF is for variable no.:\n",
      "3\n"
     ]
    },
    {
     "data": {
      "text/html": [
       "<div>\n",
       "<style scoped>\n",
       "    .dataframe tbody tr th:only-of-type {\n",
       "        vertical-align: middle;\n",
       "    }\n",
       "\n",
       "    .dataframe tbody tr th {\n",
       "        vertical-align: top;\n",
       "    }\n",
       "\n",
       "    .dataframe thead th {\n",
       "        text-align: right;\n",
       "    }\n",
       "</style>\n",
       "<table border=\"1\" class=\"dataframe\">\n",
       "  <thead>\n",
       "    <tr style=\"text-align: right;\">\n",
       "      <th></th>\n",
       "      <th>Cement</th>\n",
       "      <th>Blast</th>\n",
       "      <th>Fly Ash</th>\n",
       "      <th>Superplasticizer</th>\n",
       "      <th>Age</th>\n",
       "    </tr>\n",
       "  </thead>\n",
       "  <tbody>\n",
       "    <tr>\n",
       "      <th>337</th>\n",
       "      <td>275.1</td>\n",
       "      <td>0.0</td>\n",
       "      <td>121.4</td>\n",
       "      <td>9.9</td>\n",
       "      <td>56</td>\n",
       "    </tr>\n",
       "    <tr>\n",
       "      <th>384</th>\n",
       "      <td>516.0</td>\n",
       "      <td>0.0</td>\n",
       "      <td>0.0</td>\n",
       "      <td>8.2</td>\n",
       "      <td>28</td>\n",
       "    </tr>\n",
       "    <tr>\n",
       "      <th>805</th>\n",
       "      <td>393.0</td>\n",
       "      <td>0.0</td>\n",
       "      <td>0.0</td>\n",
       "      <td>0.0</td>\n",
       "      <td>90</td>\n",
       "    </tr>\n",
       "    <tr>\n",
       "      <th>682</th>\n",
       "      <td>183.9</td>\n",
       "      <td>122.6</td>\n",
       "      <td>0.0</td>\n",
       "      <td>0.0</td>\n",
       "      <td>28</td>\n",
       "    </tr>\n",
       "    <tr>\n",
       "      <th>329</th>\n",
       "      <td>246.8</td>\n",
       "      <td>0.0</td>\n",
       "      <td>125.1</td>\n",
       "      <td>12.0</td>\n",
       "      <td>3</td>\n",
       "    </tr>\n",
       "  </tbody>\n",
       "</table>\n",
       "</div>"
      ],
      "text/plain": [
       "     Cement  Blast  Fly Ash  Superplasticizer  Age\n",
       "337   275.1    0.0    121.4               9.9   56\n",
       "384   516.0    0.0      0.0               8.2   28\n",
       "805   393.0    0.0      0.0               0.0   90\n",
       "682   183.9  122.6      0.0               0.0   28\n",
       "329   246.8    0.0    125.1              12.0    3"
      ]
     },
     "execution_count": 26,
     "metadata": {},
     "output_type": "execute_result"
    }
   ],
   "source": [
    "X_out  = calculate_vif(X_) \n",
    "X_out.head()"
   ]
  },
  {
   "cell_type": "markdown",
   "metadata": {},
   "source": [
    "### 4) No autocorrelation\n",
    "\n",
    " To ensure the absence of autocorrelation we use Ljungbox test.\n",
    "\n",
    "#### Checking for autocorrelation To ensure the absence of autocorrelation we use Ljungbox test.\n",
    "\n",
    "####  Null Hypothesis: Autocorrelation is absent.\n",
    "#### Alternative Hypothesis: Autocorrelation is present."
   ]
  },
  {
   "cell_type": "code",
   "execution_count": 27,
   "metadata": {},
   "outputs": [
    {
     "data": {
      "text/plain": [
       "(array([0.35464613]), array([0.55149478]))"
      ]
     },
     "execution_count": 27,
     "metadata": {},
     "output_type": "execute_result"
    }
   ],
   "source": [
    "diag.acorr_ljungbox(lm.resid, lags = 1) "
   ]
  },
  {
   "cell_type": "markdown",
   "metadata": {},
   "source": [
    "### 5) heteroscedasticity\n",
    "\n",
    "Use Goldfeld Quandt to test for heteroscedasticity.\n",
    "\n",
    "* Null Hypothesis: Error terms are homoscedastic\n",
    "* Alternative Hypothesis: Error terms are heteroscedastic."
   ]
  },
  {
   "cell_type": "code",
   "execution_count": 28,
   "metadata": {},
   "outputs": [
    {
     "data": {
      "text/plain": [
       "[('F statistic', 1.0829551979591017), ('p-value', 0.21218162322195405)]"
      ]
     },
     "execution_count": 28,
     "metadata": {},
     "output_type": "execute_result"
    }
   ],
   "source": [
    "name = ['F statistic', 'p-value']\n",
    "test = sms.het_goldfeldquandt(lm.resid, lm.model.exog)\n",
    "lzip(name, test)"
   ]
  },
  {
   "cell_type": "markdown",
   "metadata": {},
   "source": [
    "The p-value is 0.2122; So, the assumption of homoscedasticity.   \n",
    "hence we can say that the residuals have constant variance. Hence we can say that all the assumptions of our linear regression model are satisfied."
   ]
  },
  {
   "cell_type": "code",
   "execution_count": 29,
   "metadata": {},
   "outputs": [
    {
     "data": {
      "image/png": "[encoded data removed]",
      "text/plain": [
       "<matplotlib.figure.Figure at 0x2436f8ec3c8>"
      ]
     },
     "metadata": {},
     "output_type": "display_data"
    }
   ],
   "source": [
    "y          = y_train['CMS']\n",
    "residuals  =  lm.resid\n",
    "# Plot the residuals after fitting a linear model\n",
    "ax         = sns.residplot(y, residuals, lowess = True, color = \"g\")\n",
    "\n",
    "ax.set(xlabel='Fitted Value', ylabel='Residuals', title = 'Residual Vs Fitted values PLOT \\n')\n",
    "plt.show()"
   ]
  },
  {
   "cell_type": "code",
   "execution_count": 40,
   "metadata": {
    "collapsed": true
   },
   "outputs": [],
   "source": [
    "train_df         = X_\n",
    "train_df['CMS']  = y_train "
   ]
  },
  {
   "cell_type": "code",
   "execution_count": 41,
   "metadata": {
    "collapsed": true
   },
   "outputs": [],
   "source": [
    "test_df          =  X_test\n",
    "test_df['CMS']   =  y_test"
   ]
  },
  {
   "cell_type": "code",
   "execution_count": 42,
   "metadata": {
    "collapsed": true
   },
   "outputs": [],
   "source": [
    "train_df.to_csv('train.csv', index = False)   \n",
    "test_df.to_csv('test.csv', index = False)   "
   ]
  },
  {
   "cell_type": "markdown",
   "metadata": {},
   "source": [
    "### Performance of the model evaluation"
   ]
  },
  {
   "cell_type": "code",
   "execution_count": 30,
   "metadata": {
    "collapsed": true
   },
   "outputs": [],
   "source": [
    "lm_ols              =   LinearRegression"
   ]
  },
  {
   "cell_type": "markdown",
   "metadata": {},
   "source": [
    "### Prediction Accuracy\n",
    "\n",
    "Prediction error or residuals is the difference between the predicted target variable values and the actual target variable vaues.\n",
    "\n",
    "Most popular measure to evaluate the model performance is Root Mean Square Error (RMSE) which is the arithmatic mean of the sum of the residuals.\n",
    "The model with low RMSE is the best model among many other models."
   ]
  },
  {
   "cell_type": "code",
   "execution_count": 31,
   "metadata": {},
   "outputs": [],
   "source": [
    "seed                  =   12345\n",
    "X                     = X_test[['Cement','Blast','Fly Ash','Superplasticizer','Age']]\n",
    "y                     = y_test['CMS']\n",
    "\n",
    "lm_OLS                = LinearRegression ()"
   ]
  },
  {
   "cell_type": "code",
   "execution_count": 32,
   "metadata": {},
   "outputs": [
    {
     "data": {
      "text/plain": [
       "LinearRegression(copy_X=True, fit_intercept=True, n_jobs=1, normalize=False)"
      ]
     },
     "execution_count": 32,
     "metadata": {},
     "output_type": "execute_result"
    }
   ],
   "source": [
    "lm_OLS.fit(X, y)"
   ]
  },
  {
   "cell_type": "code",
   "execution_count": 33,
   "metadata": {},
   "outputs": [
    {
     "name": "stdout",
     "output_type": "stream",
     "text": [
      "\\OLS Multiple Linear Regression Models\n",
      "\n",
      "R Square value for Ridge Regression complete data 60.02\n"
     ]
    }
   ],
   "source": [
    "print('\\OLS Multiple Linear Regression Models\\n')\n",
    "print(\"R Square value for Ridge Regression complete data %4.2f\" % np.round(lm_OLS.score(X, y) * 100, 2))"
   ]
  },
  {
   "cell_type": "code",
   "execution_count": 34,
   "metadata": {},
   "outputs": [
    {
     "name": "stdout",
     "output_type": "stream",
     "text": [
      "\n",
      "\n",
      "The model performance for training set - \n",
      "OLS regression\n",
      "--------------------------------------\n",
      "RMSE is 10.947967141852256\n",
      "MAPE is 34.416990999499724\n"
     ]
    }
   ],
   "source": [
    "report_rmse_mape(lm_OLS, y, X, 'The model performance for training set - \\nOLS regression')"
   ]
  },
  {
   "cell_type": "code",
   "execution_count": 35,
   "metadata": {},
   "outputs": [
    {
     "name": "stderr",
     "output_type": "stream",
     "text": [
      "D:\\Python\\lib\\site-packages\\sklearn\\neural_network\\multilayer_perceptron.py:564: ConvergenceWarning: Stochastic Optimizer: Maximum iterations (200) reached and the optimization hasn't converged yet.\n",
      "  % self.max_iter, ConvergenceWarning)\n"
     ]
    },
    {
     "data": {
      "text/plain": [
       "MLPRegressor(activation='tanh', alpha=1e-06, batch_size='auto', beta_1=0.9,\n",
       "       beta_2=0.999, early_stopping=False, epsilon=1e-08,\n",
       "       hidden_layer_sizes=(100,), learning_rate='constant',\n",
       "       learning_rate_init=0.001, max_iter=200, momentum=0.9,\n",
       "       nesterovs_momentum=True, power_t=0.5, random_state=12345,\n",
       "       shuffle=True, solver='adam', tol=0.001, validation_fraction=0.1,\n",
       "       verbose=False, warm_start=False)"
      ]
     },
     "execution_count": 35,
     "metadata": {},
     "output_type": "execute_result"
    }
   ],
   "source": [
    "lm_ridge              =   Ridge()\n",
    "lm_lasso              =   Lasso()\n",
    "lm_elastic            =   ElasticNet()\n",
    "lm_elastic            =   ElasticNet()\n",
    "\n",
    "### Non linear models\n",
    "\n",
    "kfold                 =   model_selection.KFold(n_splits = 10, random_state = seed)\n",
    "lm_CART               =   DecisionTreeRegressor()\n",
    "lm_RF                 =   RandomForestRegressor(random_state = seed)\n",
    "lm_ANN                =   MLPRegressor(alpha=0.000001, activation = 'tanh', random_state = seed, tol = 0.001)\n",
    "lm_GB                 =   ensemble.GradientBoostingRegressor()\n",
    "lm_SVR                =   SVR(kernel='linear', C=1.0, epsilon=0.2, )\n",
    "lm_KNN                =   KNeighborsRegressor()\n",
    "\n",
    "\n",
    "lm_ridge.fit(X, y)\n",
    "lm_lasso.fit(X, y)\n",
    "lm_elastic.fit(X, y) \n",
    "lm_CART.fit(X, y) \n",
    "lm_RF.fit(X, y)\n",
    "lm_GB.fit(X, y)\n",
    "lm_SVR.fit(X, y)  \n",
    "lm_KNN.fit(X, y)  \n",
    "lm_ANN.fit(X, y)"
   ]
  },
  {
   "cell_type": "code",
   "execution_count": 36,
   "metadata": {},
   "outputs": [
    {
     "name": "stdout",
     "output_type": "stream",
     "text": [
      "\n",
      "Other Linear Models\n",
      "\n",
      "R Square value for Ridge Regression complete data 60.02\n",
      "R Square value for Lasso Regression complete data 60.01\n",
      "R Square value for Elastic Net Regression complete data 60.01\n",
      "\n",
      "Non linear Models\n",
      "\n",
      "R Square value for CART Regression complete data 99.12\n",
      "R Square value for Random Forest Regression complete data 95.29\n",
      "R Square value for Artificial Neural Network Regression complete data -3.39\n",
      "R Square value for Gradient Boosting Regression complete data 96.23\n",
      "R Square value for SVR Regression complete data 51.40\n",
      "R Square value for KNN Regression complete data 74.57\n"
     ]
    }
   ],
   "source": [
    "print('\\nOther Linear Models\\n')\n",
    "\n",
    "print(\"R Square value for Ridge Regression complete data %4.2f\" % np.round(lm_ridge.score(X, y) * 100, 2))\n",
    "print(\"R Square value for Lasso Regression complete data %4.2f\"  %np.round(lm_lasso.score(X, y) * 100, 2))\n",
    "print(\"R Square value for Elastic Net Regression complete data %4.2f\" % np.round(lm_elastic.score(X,y) * 100, 2))\n",
    "\n",
    "print('\\nNon linear Models\\n')\n",
    "print(\"R Square value for CART Regression complete data %4.2f\" % np.round(lm_CART.score(X,y) * 100, 2))\n",
    "print(\"R Square value for Random Forest Regression complete data %4.2f\" % np.round(lm_RF.score(X,y) * 100, 2))\n",
    "print(\"R Square value for Artificial Neural Network Regression complete data %4.2f\" % np.round(lm_ANN.score(X,y) * 100, 2))\n",
    "\n",
    "print(\"R Square value for Gradient Boosting Regression complete data %4.2f\" % np.round(lm_GB.score(X,y) * 100, 2))\n",
    "print(\"R Square value for SVR Regression complete data %4.2f\" % np.round(lm_SVR.score(X,y) * 100, 2))\n",
    "print(\"R Square value for KNN Regression complete data %4.2f\" % np.round(lm_KNN.score(X,y) * 100, 2))"
   ]
  },
  {
   "cell_type": "code",
   "execution_count": 37,
   "metadata": {},
   "outputs": [
    {
     "name": "stdout",
     "output_type": "stream",
     "text": [
      "\n",
      "Other Linear Models\n",
      "\n",
      "\n",
      "\n",
      "The model performance for training set - \n",
      "Ridge regression\n",
      "--------------------------------------\n",
      "RMSE is 10.947967181735434\n",
      "MAPE is 34.4173516413125\n",
      "\n",
      "\n",
      "The model performance for training set - \n",
      "Lasso regression\n",
      "--------------------------------------\n",
      "RMSE is 10.949808509578846\n",
      "MAPE is 34.53707331188962\n",
      "\n",
      "\n",
      "The model performance for training set - \n",
      "Elsasticnet regression\n",
      "--------------------------------------\n",
      "RMSE is 10.949637955577247\n",
      "MAPE is 34.51257522309826\n",
      "\n",
      "Other Non Linear Models\n",
      "\n",
      "\n",
      "\n",
      "The model performance for training set - \n",
      "CART regression\n",
      "--------------------------------------\n",
      "RMSE is 1.6262951522802056\n",
      "MAPE is 0.5188210666745484\n",
      "\n",
      "\n",
      "The model performance for training set - \n",
      "Random forest regression\n",
      "--------------------------------------\n",
      "RMSE is 3.757400045000017\n",
      "MAPE is 8.520191518313153\n",
      "\n",
      "\n",
      "The model performance for training set - \n",
      "Gradient Boosting regression\n",
      "--------------------------------------\n",
      "RMSE is 3.364149569647691\n",
      "MAPE is 8.555465374194506\n",
      "\n",
      "\n",
      "The model performance for training set - \n",
      "SVR regression\n",
      "--------------------------------------\n",
      "RMSE is 12.07188597534289\n",
      "MAPE is 30.676206892725776\n",
      "\n",
      "\n",
      "The model performance for training set - \n",
      "KNN regression\n",
      "--------------------------------------\n",
      "RMSE is 8.732362271169896\n",
      "MAPE is 24.567113563534416\n",
      "\n",
      "\n",
      "The model performance for training set - \n",
      "Neural Network regression\n",
      "--------------------------------------\n",
      "RMSE is 17.60691012864828\n",
      "MAPE is 44.71613493527684\n"
     ]
    }
   ],
   "source": [
    "print('\\nOther Linear Models\\n')\n",
    "\n",
    "report_rmse_mape(lm_ridge, y, X, 'The model performance for training set - \\nRidge regression')\n",
    "report_rmse_mape(lm_lasso, y, X, 'The model performance for training set - \\nLasso regression')\n",
    "report_rmse_mape(lm_elastic, y, X, 'The model performance for training set - \\nElsasticnet regression')\n",
    "\n",
    "print('\\nOther Non Linear Models\\n')\n",
    "\n",
    "report_rmse_mape(lm_CART, y, X, 'The model performance for training set - \\nCART regression')\n",
    "report_rmse_mape(lm_RF, y, X,   'The model performance for training set - \\nRandom forest regression')\n",
    "report_rmse_mape(lm_GB, y, X,   'The model performance for training set - \\nGradient Boosting regression')\n",
    "report_rmse_mape(lm_SVR, y, X,  'The model performance for training set - \\nSVR regression')\n",
    "report_rmse_mape(lm_KNN, y, X,  'The model performance for training set - \\nKNN regression')\n",
    "report_rmse_mape(lm_ANN, y, X,  'The model performance for training set - \\nNeural Network regression')"
   ]
  },
  {
   "cell_type": "code",
   "execution_count": 38,
   "metadata": {
    "collapsed": true
   },
   "outputs": [],
   "source": [
    "### For testing dataset\n",
    "seed                  =   12345\n",
    "X                     =   X_test[['Cement','Blast','Fly Ash','Superplasticizer','Age']]\n",
    "y                     =   y_test['CMS']"
   ]
  },
  {
   "cell_type": "code",
   "execution_count": 39,
   "metadata": {},
   "outputs": [
    {
     "name": "stdout",
     "output_type": "stream",
     "text": [
      "\n",
      "Other Linear Models\n",
      "\n",
      "\n",
      "\n",
      "The model performance for testing set - \n",
      "Ridge regression\n",
      "--------------------------------------\n",
      "RMSE is 10.947967181735434\n",
      "MAPE is 34.4173516413125\n",
      "\n",
      "\n",
      "The model performance for testing set - \n",
      "Lasso regression\n",
      "--------------------------------------\n",
      "RMSE is 10.949808509578846\n",
      "MAPE is 34.53707331188962\n",
      "\n",
      "\n",
      "The model performance for testing set - \n",
      "Elsasticnet regression\n",
      "--------------------------------------\n",
      "RMSE is 10.949637955577247\n",
      "MAPE is 34.51257522309826\n",
      "\n",
      "Other Non Linear Models\n",
      "\n",
      "\n",
      "\n",
      "The model performance for testing set - \n",
      "CART regression\n",
      "--------------------------------------\n",
      "RMSE is 1.6262951522802056\n",
      "MAPE is 0.5188210666745484\n",
      "\n",
      "\n",
      "The model performance for testing set - \n",
      "Random forest regression\n",
      "--------------------------------------\n",
      "RMSE is 3.757400045000017\n",
      "MAPE is 8.520191518313153\n",
      "\n",
      "\n",
      "The model performance for testing set - \n",
      "Gradient Boosting regression\n",
      "--------------------------------------\n",
      "RMSE is 3.364149569647691\n",
      "MAPE is 8.555465374194506\n",
      "\n",
      "\n",
      "The model performance for testing set - \n",
      "SVR regression\n",
      "--------------------------------------\n",
      "RMSE is 12.07188597534289\n",
      "MAPE is 30.676206892725776\n",
      "\n",
      "\n",
      "The model performance for testing set - \n",
      "KNN regression\n",
      "--------------------------------------\n",
      "RMSE is 8.732362271169896\n",
      "MAPE is 24.567113563534416\n",
      "\n",
      "\n",
      "The model performance for testing set - \n",
      "Neural Network regression\n",
      "--------------------------------------\n",
      "RMSE is 17.60691012864828\n",
      "MAPE is 44.71613493527684\n"
     ]
    }
   ],
   "source": [
    "print('\\nOther Linear Models\\n')\n",
    "\n",
    "report_rmse_mape(lm_ridge, y, X, 'The model performance for testing set - \\nRidge regression')\n",
    "report_rmse_mape(lm_lasso, y, X, 'The model performance for testing set - \\nLasso regression')\n",
    "report_rmse_mape(lm_elastic, y, X, 'The model performance for testing set - \\nElsasticnet regression')\n",
    "\n",
    "print('\\nOther Non Linear Models\\n')\n",
    "\n",
    "report_rmse_mape(lm_CART, y, X, 'The model performance for testing set - \\nCART regression')\n",
    "report_rmse_mape(lm_RF, y, X,   'The model performance for testing set - \\nRandom forest regression')\n",
    "report_rmse_mape(lm_GB, y, X,   'The model performance for testing set - \\nGradient Boosting regression')\n",
    "report_rmse_mape(lm_SVR, y, X,  'The model performance for testing set - \\nSVR regression')\n",
    "report_rmse_mape(lm_KNN, y, X,  'The model performance for testing set - \\nKNN regression')\n",
    "report_rmse_mape(lm_ANN, y, X,  'The model performance for testing set - \\nNeural Network regression')"
   ]
  }
 ],
 "metadata": {
  "kernelspec": {
   "display_name": "Python 3",
   "language": "python",
   "name": "python3"
  },
  "language_info": {
   "codemirror_mode": {
    "name": "ipython",
    "version": 3
   },
   "file_extension": ".py",
   "mimetype": "text/x-python",
   "name": "python",
   "nbconvert_exporter": "python",
   "pygments_lexer": "ipython3",
   "version": "3.6.3"
  }
 },
 "nbformat": 4,
 "nbformat_minor": 2
}
