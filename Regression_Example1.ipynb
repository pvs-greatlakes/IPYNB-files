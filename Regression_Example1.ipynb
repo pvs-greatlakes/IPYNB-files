{
 "cells": [
  {
   "cell_type": "code",
   "execution_count": 1,
   "metadata": {
    "collapsed": true
   },
   "outputs": [],
   "source": [
    "import pandas                as     pd\n",
    "import numpy                 as     np\n",
    "import scipy.stats           as     stats\n",
    "import statsmodels.api       as     sm\n",
    "import statsmodels.stats.api as     sms\n",
    "from   statsmodels.compat    import lzip\n",
    "import seaborn               as     sns\n",
    "import matplotlib.pyplot     as     plt"
   ]
  },
  {
   "cell_type": "code",
   "execution_count": 2,
   "metadata": {},
   "outputs": [
    {
     "name": "stdout",
     "output_type": "stream",
     "text": [
      "(1030, 9)\n",
      "Index(['cement', 'slag', 'ash', 'water', 'superplastic', 'coarseagg',\n",
      "       'fineagg', 'age', 'strength'],\n",
      "      dtype='object')\n"
     ]
    }
   ],
   "source": [
    "feature_names          = [\"cement\", \"slag\", \"ash\", \"water\", \"superplastic\", \"coarseagg\",\"fineagg\",\"age\", \"strength\"]\n",
    "cement_df              = pd.read_csv('D:/RRD/self_learning1/Concrete_Data.csv', names = feature_names, header = 0)\n",
    "print(cement_df.shape)\n",
    "print(cement_df.columns)"
   ]
  },
  {
   "cell_type": "code",
   "execution_count": 3,
   "metadata": {},
   "outputs": [],
   "source": [
    "X    = cement_df[[\"cement\", \"slag\", \"ash\", \"water\", \"superplastic\", \"coarseagg\",\"fineagg\",\"age\"]]\n",
    "y    = cement_df.strength"
   ]
  },
  {
   "cell_type": "markdown",
   "metadata": {},
   "source": [
    "### 1) Linearity"
   ]
  },
  {
   "cell_type": "code",
   "execution_count": null,
   "metadata": {
    "collapsed": true
   },
   "outputs": [],
   "source": []
  },
  {
   "cell_type": "markdown",
   "metadata": {},
   "source": [
    "### 2) Constant variance"
   ]
  },
  {
   "cell_type": "code",
   "execution_count": null,
   "metadata": {
    "collapsed": true
   },
   "outputs": [],
   "source": []
  },
  {
   "cell_type": "markdown",
   "metadata": {},
   "source": [
    "### 3) No autocorrelation"
   ]
  },
  {
   "cell_type": "code",
   "execution_count": null,
   "metadata": {
    "collapsed": true
   },
   "outputs": [],
   "source": []
  },
  {
   "cell_type": "markdown",
   "metadata": {},
   "source": [
    "### 4) Normality of the residuals"
   ]
  },
  {
   "cell_type": "code",
   "execution_count": null,
   "metadata": {
    "collapsed": true
   },
   "outputs": [],
   "source": []
  },
  {
   "cell_type": "markdown",
   "metadata": {},
   "source": [
    "### 5) No multi-collinearity"
   ]
  },
  {
   "cell_type": "code",
   "execution_count": null,
   "metadata": {
    "collapsed": true
   },
   "outputs": [],
   "source": []
  },
  {
   "cell_type": "markdown",
   "metadata": {},
   "source": [
    "### 6) No outliers"
   ]
  },
  {
   "cell_type": "code",
   "execution_count": null,
   "metadata": {
    "collapsed": true
   },
   "outputs": [],
   "source": []
  }
 ],
 "metadata": {
  "kernelspec": {
   "display_name": "Python 3",
   "language": "python",
   "name": "python3"
  },
  "language_info": {
   "codemirror_mode": {
    "name": "ipython",
    "version": 3
   },
   "file_extension": ".py",
   "mimetype": "text/x-python",
   "name": "python",
   "nbconvert_exporter": "python",
   "pygments_lexer": "ipython3",
   "version": "3.6.3"
  }
 },
 "nbformat": 4,
 "nbformat_minor": 2
}
