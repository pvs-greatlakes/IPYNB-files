{
 "cells": [
  {
   "cell_type": "markdown",
   "metadata": {},
   "source": [
    "### linear Regression models"
   ]
  },
  {
   "cell_type": "markdown",
   "metadata": {},
   "source": [
    "### Use advertising data to build a model to predict sales based on advertising through TV, Radio and Newspaper"
   ]
  },
  {
   "cell_type": "code",
   "execution_count": 1,
   "metadata": {},
   "outputs": [
    {
     "name": "stderr",
     "output_type": "stream",
     "text": [
      "D:\\Python\\lib\\site-packages\\sklearn\\cross_validation.py:41: DeprecationWarning: This module was deprecated in version 0.18 in favor of the model_selection module into which all the refactored classes and functions are moved. Also note that the interface of the new CV iterators are different from that of this module. This module will be removed in 0.20.\n",
      "  \"This module will be removed in 0.20.\", DeprecationWarning)\n"
     ]
    }
   ],
   "source": [
    "import pandas                       as     pd\n",
    "import numpy                        as     np\n",
    "import scipy.stats                  as     stats\n",
    "\n",
    "import seaborn                      as     sns\n",
    "import matplotlib.pyplot            as     plt\n",
    "import matplotlib\n",
    "\n",
    "matplotlib.rcParams.update({'font.size': 12})\n",
    "\n",
    "import astropy.table                as     Table\n",
    "import statsmodels.api              as     sm\n",
    "import statsmodels.stats.api        as     sms\n",
    "from   statsmodels.compat           import lzip\n",
    "\n",
    "\n",
    "#from   sklearn.preprocessing        import PolynomialFeatures\n",
    "from   sklearn.cross_validation     import train_test_split\n",
    "from   sklearn.linear_model         import LinearRegression\n",
    "from   sklearn.linear_model         import Ridge\n",
    "from   sklearn.linear_model         import Lasso\n",
    "from   sklearn.model_selection      import GridSearchCV\n",
    "\n",
    "\n",
    "from   sklearn.metrics              import mean_squared_error\n",
    "from   statsmodels.compat           import lzip\n",
    "from   statsmodels.stats            import diagnostic as diag\n",
    "\n",
    "\n",
    "from  statsmodels.stats.outliers_influence import variance_inflation_factor\n"
   ]
  },
  {
   "cell_type": "code",
   "execution_count": 2,
   "metadata": {
    "collapsed": true
   },
   "outputs": [],
   "source": [
    "def mean_absolute_percentage_error(y_true, y_pred): \n",
    "    y_true, y_pred = np.array(y_true), np.array(y_pred)\n",
    "    return np.mean(np.abs((y_true - y_pred) / y_true)) * 100"
   ]
  },
  {
   "cell_type": "code",
   "execution_count": 3,
   "metadata": {},
   "outputs": [
    {
     "name": "stdout",
     "output_type": "stream",
     "text": [
      "(400, 8)\n",
      "                 0       1       2      3       4\n",
      "Sales          9.5   11.22   10.06    7.4    4.15\n",
      "CompPrice    138.0  111.00  113.00  117.0  141.00\n",
      "Income        73.0   48.00   35.00  100.0   64.00\n",
      "Advertising   11.0   16.00   10.00    4.0    3.00\n",
      "Population   276.0  260.00  269.00  466.0  340.00\n",
      "Price        120.0   83.00   80.00   97.0  128.00\n",
      "Age           42.0   65.00   59.00   55.0   38.00\n",
      "Education     17.0   10.00   12.00   14.0   13.00\n"
     ]
    }
   ],
   "source": [
    "carseats_df       = pd.read_csv('D:/RRD/data/Carseats.csv', \\\n",
    "                                usecols = ['CompPrice', 'Income', 'Advertising', 'Population', 'Price',\\\n",
    "                                           'Age', 'Education','Sales'])\n",
    "print(carseats_df.shape)\n",
    "print(carseats_df.head().T)"
   ]
  },
  {
   "cell_type": "markdown",
   "metadata": {},
   "source": [
    "### Check for missing values"
   ]
  },
  {
   "cell_type": "code",
   "execution_count": 4,
   "metadata": {},
   "outputs": [
    {
     "name": "stdout",
     "output_type": "stream",
     "text": [
      "<class 'pandas.core.frame.DataFrame'>\n",
      "RangeIndex: 400 entries, 0 to 399\n",
      "Data columns (total 8 columns):\n",
      "Sales          400 non-null float64\n",
      "CompPrice      400 non-null int64\n",
      "Income         400 non-null int64\n",
      "Advertising    400 non-null int64\n",
      "Population     400 non-null int64\n",
      "Price          400 non-null int64\n",
      "Age            400 non-null int64\n",
      "Education      400 non-null int64\n",
      "dtypes: float64(1), int64(7)\n",
      "memory usage: 25.1 KB\n"
     ]
    }
   ],
   "source": [
    "carseats_df .info() "
   ]
  },
  {
   "cell_type": "code",
   "execution_count": 5,
   "metadata": {},
   "outputs": [
    {
     "data": {
      "text/plain": [
       "Sales          0\n",
       "CompPrice      0\n",
       "Income         0\n",
       "Advertising    0\n",
       "Population     0\n",
       "Price          0\n",
       "Age            0\n",
       "Education      0\n",
       "dtype: int64"
      ]
     },
     "execution_count": 5,
     "metadata": {},
     "output_type": "execute_result"
    }
   ],
   "source": [
    "carseats_df.isnull().sum()"
   ]
  },
  {
   "cell_type": "code",
   "execution_count": 6,
   "metadata": {
    "collapsed": true
   },
   "outputs": [],
   "source": [
    "__            = carseats_df.apply(lambda x: x.replace(to_replace = 0, value = np.NaN))\n",
    "carseats_df_  =  pd.DataFrame(__.dropna())"
   ]
  },
  {
   "cell_type": "code",
   "execution_count": 7,
   "metadata": {},
   "outputs": [
    {
     "name": "stdout",
     "output_type": "stream",
     "text": [
      "<class 'pandas.core.frame.DataFrame'>\n"
     ]
    }
   ],
   "source": [
    "print(type(carseats_df_))"
   ]
  },
  {
   "cell_type": "code",
   "execution_count": 8,
   "metadata": {},
   "outputs": [
    {
     "data": {
      "text/plain": [
       "(256, 8)"
      ]
     },
     "execution_count": 8,
     "metadata": {},
     "output_type": "execute_result"
    }
   ],
   "source": [
    "carseats_df_.shape"
   ]
  },
  {
   "cell_type": "markdown",
   "metadata": {},
   "source": [
    "## There are no missing values"
   ]
  },
  {
   "cell_type": "markdown",
   "metadata": {},
   "source": [
    "## Split the data set into dependent and independent variables, X and y"
   ]
  },
  {
   "cell_type": "code",
   "execution_count": 9,
   "metadata": {},
   "outputs": [
    {
     "name": "stdout",
     "output_type": "stream",
     "text": [
      "(256, 7)\n",
      "(256,)\n"
     ]
    }
   ],
   "source": [
    "X          =   carseats_df_[['CompPrice', 'Income', 'Advertising', 'Population', 'Price', 'Age', 'Education']]\n",
    "y          =   carseats_df_['Sales']\n",
    "print(X.shape)                            \n",
    "print(y.shape) "
   ]
  },
  {
   "cell_type": "markdown",
   "metadata": {},
   "source": [
    "## Build the model using statsmodel using the entire data to check assumptions"
   ]
  },
  {
   "cell_type": "code",
   "execution_count": 10,
   "metadata": {},
   "outputs": [
    {
     "data": {
      "text/html": [
       "<table class=\"simpletable\">\n",
       "<caption>OLS Regression Results</caption>\n",
       "<tr>\n",
       "  <th>Dep. Variable:</th>          <td>Sales</td>      <th>  R-squared:         </th> <td>   0.501</td>\n",
       "</tr>\n",
       "<tr>\n",
       "  <th>Model:</th>                   <td>OLS</td>       <th>  Adj. R-squared:    </th> <td>   0.487</td>\n",
       "</tr>\n",
       "<tr>\n",
       "  <th>Method:</th>             <td>Least Squares</td>  <th>  F-statistic:       </th> <td>   35.57</td>\n",
       "</tr>\n",
       "<tr>\n",
       "  <th>Date:</th>             <td>Wed, 29 May 2019</td> <th>  Prob (F-statistic):</th> <td>3.57e-34</td>\n",
       "</tr>\n",
       "<tr>\n",
       "  <th>Time:</th>                 <td>21:11:36</td>     <th>  Log-Likelihood:    </th> <td> -538.60</td>\n",
       "</tr>\n",
       "<tr>\n",
       "  <th>No. Observations:</th>      <td>   256</td>      <th>  AIC:               </th> <td>   1093.</td>\n",
       "</tr>\n",
       "<tr>\n",
       "  <th>Df Residuals:</th>          <td>   248</td>      <th>  BIC:               </th> <td>   1122.</td>\n",
       "</tr>\n",
       "<tr>\n",
       "  <th>Df Model:</th>              <td>     7</td>      <th>                     </th>     <td> </td>   \n",
       "</tr>\n",
       "<tr>\n",
       "  <th>Covariance Type:</th>      <td>nonrobust</td>    <th>                     </th>     <td> </td>   \n",
       "</tr>\n",
       "</table>\n",
       "<table class=\"simpletable\">\n",
       "<tr>\n",
       "       <td></td>          <th>coef</th>     <th>std err</th>      <th>t</th>      <th>P>|t|</th>  <th>[0.025</th>    <th>0.975]</th>  \n",
       "</tr>\n",
       "<tr>\n",
       "  <th>const</th>       <td>    7.4600</td> <td>    1.547</td> <td>    4.824</td> <td> 0.000</td> <td>    4.414</td> <td>   10.506</td>\n",
       "</tr>\n",
       "<tr>\n",
       "  <th>CompPrice</th>   <td>    0.0897</td> <td>    0.010</td> <td>    8.743</td> <td> 0.000</td> <td>    0.069</td> <td>    0.110</td>\n",
       "</tr>\n",
       "<tr>\n",
       "  <th>Income</th>      <td>    0.0139</td> <td>    0.005</td> <td>    3.024</td> <td> 0.003</td> <td>    0.005</td> <td>    0.023</td>\n",
       "</tr>\n",
       "<tr>\n",
       "  <th>Advertising</th> <td>    0.1390</td> <td>    0.024</td> <td>    5.816</td> <td> 0.000</td> <td>    0.092</td> <td>    0.186</td>\n",
       "</tr>\n",
       "<tr>\n",
       "  <th>Population</th>  <td>   -0.0005</td> <td>    0.001</td> <td>   -0.572</td> <td> 0.568</td> <td>   -0.002</td> <td>    0.001</td>\n",
       "</tr>\n",
       "<tr>\n",
       "  <th>Price</th>       <td>   -0.0912</td> <td>    0.007</td> <td>  -13.395</td> <td> 0.000</td> <td>   -0.105</td> <td>   -0.078</td>\n",
       "</tr>\n",
       "<tr>\n",
       "  <th>Age</th>         <td>   -0.0491</td> <td>    0.008</td> <td>   -5.979</td> <td> 0.000</td> <td>   -0.065</td> <td>   -0.033</td>\n",
       "</tr>\n",
       "<tr>\n",
       "  <th>Education</th>   <td>    0.0171</td> <td>    0.048</td> <td>    0.354</td> <td> 0.723</td> <td>   -0.078</td> <td>    0.112</td>\n",
       "</tr>\n",
       "</table>\n",
       "<table class=\"simpletable\">\n",
       "<tr>\n",
       "  <th>Omnibus:</th>       <td> 6.790</td> <th>  Durbin-Watson:     </th> <td>   1.970</td>\n",
       "</tr>\n",
       "<tr>\n",
       "  <th>Prob(Omnibus):</th> <td> 0.034</td> <th>  Jarque-Bera (JB):  </th> <td>   6.105</td>\n",
       "</tr>\n",
       "<tr>\n",
       "  <th>Skew:</th>          <td> 0.311</td> <th>  Prob(JB):          </th> <td>  0.0472</td>\n",
       "</tr>\n",
       "<tr>\n",
       "  <th>Kurtosis:</th>      <td> 2.570</td> <th>  Cond. No.          </th> <td>4.47e+03</td>\n",
       "</tr>\n",
       "</table><br/><br/>Warnings:<br/>[1] Standard Errors assume that the covariance matrix of the errors is correctly specified.<br/>[2] The condition number is large, 4.47e+03. This might indicate that there are<br/>strong multicollinearity or other numerical problems."
      ],
      "text/plain": [
       "<class 'statsmodels.iolib.summary.Summary'>\n",
       "\"\"\"\n",
       "                            OLS Regression Results                            \n",
       "==============================================================================\n",
       "Dep. Variable:                  Sales   R-squared:                       0.501\n",
       "Model:                            OLS   Adj. R-squared:                  0.487\n",
       "Method:                 Least Squares   F-statistic:                     35.57\n",
       "Date:                Wed, 29 May 2019   Prob (F-statistic):           3.57e-34\n",
       "Time:                        21:11:36   Log-Likelihood:                -538.60\n",
       "No. Observations:                 256   AIC:                             1093.\n",
       "Df Residuals:                     248   BIC:                             1122.\n",
       "Df Model:                           7                                         \n",
       "Covariance Type:            nonrobust                                         \n",
       "===============================================================================\n",
       "                  coef    std err          t      P>|t|      [0.025      0.975]\n",
       "-------------------------------------------------------------------------------\n",
       "const           7.4600      1.547      4.824      0.000       4.414      10.506\n",
       "CompPrice       0.0897      0.010      8.743      0.000       0.069       0.110\n",
       "Income          0.0139      0.005      3.024      0.003       0.005       0.023\n",
       "Advertising     0.1390      0.024      5.816      0.000       0.092       0.186\n",
       "Population     -0.0005      0.001     -0.572      0.568      -0.002       0.001\n",
       "Price          -0.0912      0.007    -13.395      0.000      -0.105      -0.078\n",
       "Age            -0.0491      0.008     -5.979      0.000      -0.065      -0.033\n",
       "Education       0.0171      0.048      0.354      0.723      -0.078       0.112\n",
       "==============================================================================\n",
       "Omnibus:                        6.790   Durbin-Watson:                   1.970\n",
       "Prob(Omnibus):                  0.034   Jarque-Bera (JB):                6.105\n",
       "Skew:                           0.311   Prob(JB):                       0.0472\n",
       "Kurtosis:                       2.570   Cond. No.                     4.47e+03\n",
       "==============================================================================\n",
       "\n",
       "Warnings:\n",
       "[1] Standard Errors assume that the covariance matrix of the errors is correctly specified.\n",
       "[2] The condition number is large, 4.47e+03. This might indicate that there are\n",
       "strong multicollinearity or other numerical problems.\n",
       "\"\"\""
      ]
     },
     "execution_count": 10,
     "metadata": {},
     "output_type": "execute_result"
    }
   ],
   "source": [
    "X_            = sm.add_constant(X, has_constant= 'skip') # Add an intercept to our model\n",
    "model         = sm.OLS(y, X_).fit() ## OLS(output, input)\n",
    "predictions   = model.predict(X_)\n",
    "\n",
    "## Print the statistics\n",
    "model.summary()"
   ]
  },
  {
   "cell_type": "markdown",
   "metadata": {},
   "source": [
    "### 1) No outliers"
   ]
  },
  {
   "cell_type": "markdown",
   "metadata": {},
   "source": [
    "Firstly we try to get the studentized residuals using get_influence( ). "
   ]
  },
  {
   "cell_type": "code",
   "execution_count": 11,
   "metadata": {
    "collapsed": true
   },
   "outputs": [],
   "source": [
    "influence     = model.get_influence()  \n",
    "resid_student = influence.resid_studentized_external"
   ]
  },
  {
   "cell_type": "code",
   "execution_count": 12,
   "metadata": {},
   "outputs": [
    {
     "data": {
      "text/html": [
       "<div>\n",
       "<style scoped>\n",
       "    .dataframe tbody tr th:only-of-type {\n",
       "        vertical-align: middle;\n",
       "    }\n",
       "\n",
       "    .dataframe tbody tr th {\n",
       "        vertical-align: top;\n",
       "    }\n",
       "\n",
       "    .dataframe thead th {\n",
       "        text-align: right;\n",
       "    }\n",
       "</style>\n",
       "<table border=\"1\" class=\"dataframe\">\n",
       "  <thead>\n",
       "    <tr style=\"text-align: right;\">\n",
       "      <th></th>\n",
       "      <th>const</th>\n",
       "      <th>CompPrice</th>\n",
       "      <th>Income</th>\n",
       "      <th>Advertising</th>\n",
       "      <th>Population</th>\n",
       "      <th>Price</th>\n",
       "      <th>Age</th>\n",
       "      <th>Education</th>\n",
       "      <th>Studentized Residuals</th>\n",
       "    </tr>\n",
       "  </thead>\n",
       "  <tbody>\n",
       "    <tr>\n",
       "      <th>0</th>\n",
       "      <td>1.0</td>\n",
       "      <td>138.0</td>\n",
       "      <td>73.0</td>\n",
       "      <td>11.0</td>\n",
       "      <td>276.0</td>\n",
       "      <td>120.0</td>\n",
       "      <td>42.0</td>\n",
       "      <td>17.0</td>\n",
       "      <td>-0.006429</td>\n",
       "    </tr>\n",
       "    <tr>\n",
       "      <th>1</th>\n",
       "      <td>1.0</td>\n",
       "      <td>111.0</td>\n",
       "      <td>48.0</td>\n",
       "      <td>16.0</td>\n",
       "      <td>260.0</td>\n",
       "      <td>83.0</td>\n",
       "      <td>65.0</td>\n",
       "      <td>10.0</td>\n",
       "      <td>0.830146</td>\n",
       "    </tr>\n",
       "    <tr>\n",
       "      <th>2</th>\n",
       "      <td>1.0</td>\n",
       "      <td>113.0</td>\n",
       "      <td>35.0</td>\n",
       "      <td>10.0</td>\n",
       "      <td>269.0</td>\n",
       "      <td>80.0</td>\n",
       "      <td>59.0</td>\n",
       "      <td>12.0</td>\n",
       "      <td>0.363593</td>\n",
       "    </tr>\n",
       "    <tr>\n",
       "      <th>3</th>\n",
       "      <td>1.0</td>\n",
       "      <td>117.0</td>\n",
       "      <td>100.0</td>\n",
       "      <td>4.0</td>\n",
       "      <td>466.0</td>\n",
       "      <td>97.0</td>\n",
       "      <td>55.0</td>\n",
       "      <td>14.0</td>\n",
       "      <td>-0.472196</td>\n",
       "    </tr>\n",
       "    <tr>\n",
       "      <th>4</th>\n",
       "      <td>1.0</td>\n",
       "      <td>141.0</td>\n",
       "      <td>64.0</td>\n",
       "      <td>3.0</td>\n",
       "      <td>340.0</td>\n",
       "      <td>128.0</td>\n",
       "      <td>38.0</td>\n",
       "      <td>13.0</td>\n",
       "      <td>-1.893941</td>\n",
       "    </tr>\n",
       "  </tbody>\n",
       "</table>\n",
       "</div>"
      ],
      "text/plain": [
       "   const  CompPrice  Income  Advertising  Population  Price   Age  Education  \\\n",
       "0    1.0      138.0    73.0         11.0       276.0  120.0  42.0       17.0   \n",
       "1    1.0      111.0    48.0         16.0       260.0   83.0  65.0       10.0   \n",
       "2    1.0      113.0    35.0         10.0       269.0   80.0  59.0       12.0   \n",
       "3    1.0      117.0   100.0          4.0       466.0   97.0  55.0       14.0   \n",
       "4    1.0      141.0    64.0          3.0       340.0  128.0  38.0       13.0   \n",
       "\n",
       "   Studentized Residuals  \n",
       "0              -0.006429  \n",
       "1               0.830146  \n",
       "2               0.363593  \n",
       "3              -0.472196  \n",
       "4              -1.893941  "
      ]
     },
     "execution_count": 12,
     "metadata": {},
     "output_type": "execute_result"
    }
   ],
   "source": [
    "resid = pd.concat([X_, pd.Series(resid_student,name = \"Studentized Residuals\")],axis = 1)\n",
    "resid.head()"
   ]
  },
  {
   "cell_type": "markdown",
   "metadata": {},
   "source": [
    "If the absolute value of studentized residuals is more than 3 then that observation is considered as an outlier and hence should be removed."
   ]
  },
  {
   "cell_type": "code",
   "execution_count": 13,
   "metadata": {},
   "outputs": [
    {
     "name": "stdout",
     "output_type": "stream",
     "text": [
      "Empty DataFrame\n",
      "Columns: [const, CompPrice, Income, Advertising, Population, Price, Age, Education]\n",
      "Index: []\n"
     ]
    },
    {
     "name": "stderr",
     "output_type": "stream",
     "text": [
      "D:\\Python\\lib\\site-packages\\ipykernel_launcher.py:1: UserWarning: Boolean Series key will be reindexed to match DataFrame index.\n",
      "  \"\"\"Entry point for launching an IPython kernel.\n"
     ]
    }
   ],
   "source": [
    "print(X_[np.absolute(resid['Studentized Residuals'] > 3)]) "
   ]
  },
  {
   "cell_type": "markdown",
   "metadata": {},
   "source": [
    "### There are no outliers"
   ]
  },
  {
   "cell_type": "markdown",
   "metadata": {},
   "source": [
    "### 2) No multi-collinearity"
   ]
  },
  {
   "cell_type": "markdown",
   "metadata": {},
   "source": [
    "https://www.listendata.com/2018/01/linear-regression-in-python.html\n",
    "\n",
    "Multi-collinearity increases the estimate of standard error of regression coefficients which makes some variables statistically insignificant when they should be significant.\n",
    "\n",
    "We can detect multi-collinearity by:\n",
    "+ By plotting scatter plots between predictor variables to have a visual description of their relationship.\n",
    "+ By calculating the correlation coefficients between the variables we learn the extent of multi-collinearity in the data.\n",
    "+ By calculating the Variable Inflation Factor (VIF) for each variable. \n",
    "VIF measures how much the variance of an estimated regression coefficients increases if your predictors are correlated.  The higher the value of VIF for the regressor, the more it is highly correlated to other variables."
   ]
  },
  {
   "cell_type": "markdown",
   "metadata": {},
   "source": [
    "VIF for a predictor variable is given by $\\frac{1}{1 - R^2}$.\n",
    "Here we take one of the explanatory variables as the target variable and all others as independent variables. So we run a regression between one of those independent variables with remaining independent variables. "
   ]
  },
  {
   "cell_type": "markdown",
   "metadata": {},
   "source": [
    "####  Detecting and Removing Multicollinearity \n",
    "\n",
    "##### We use the statsmodels library to calculate VIF"
   ]
  },
  {
   "cell_type": "code",
   "execution_count": 14,
   "metadata": {
    "collapsed": true
   },
   "outputs": [],
   "source": [
    "def calculate_vif(x):\n",
    "    thresh = 5.0\n",
    "    output = pd.DataFrame()\n",
    "    k = x.shape[1]\n",
    "    vif = [variance_inflation_factor(x.values, j) for j in range(x.shape[1])]\n",
    "    for i in range(1,k):\n",
    "        print(\"Iteration no.\")\n",
    "        print(i)\n",
    "        print(vif)\n",
    "        a = np.argmax(vif)\n",
    "        print(\"Max VIF is for variable no.:\")\n",
    "        print(a)\n",
    "        if vif[a] <= thresh :\n",
    "            break\n",
    "        if i == 1 :          \n",
    "            output = x.drop(x.columns[a], axis = 1)\n",
    "            vif = [variance_inflation_factor(output.values, j) for j in range(output.shape[1])]\n",
    "        elif i > 1 :\n",
    "            output = output.drop(output.columns[a],axis = 1)\n",
    "            vif = [variance_inflation_factor(output.values, j) for j in range(output.shape[1])]\n",
    "    return(output)\n"
   ]
  },
  {
   "cell_type": "code",
   "execution_count": 15,
   "metadata": {},
   "outputs": [
    {
     "name": "stdout",
     "output_type": "stream",
     "text": [
      "Iteration no.\n",
      "1\n",
      "[63.9654091098325, 6.69122822119715, 4.93426641627, 5.09682808857562, 41.128879805444235, 11.076349822247904, 22.99182106669391]\n",
      "Max VIF is for variable no.:\n",
      "0\n",
      "Iteration no.\n",
      "2\n",
      "[6.478826241484748, 4.929166359100747, 5.054862402619069, 17.392128188809856, 10.250095080806052, 20.510708124062244]\n",
      "Max VIF is for variable no.:\n",
      "5\n",
      "Iteration no.\n",
      "3\n",
      "[6.345088171250674, 4.816738460132506, 5.05301790070827, 11.010622421977132, 8.615701106010986]\n",
      "Max VIF is for variable no.:\n",
      "3\n",
      "Iteration no.\n",
      "4\n",
      "[5.6508155528195205, 4.630467807111045, 4.743183330815087, 6.342832468311356]\n",
      "Max VIF is for variable no.:\n",
      "3\n",
      "Iteration no.\n",
      "5\n",
      "[4.077115860865225, 4.255987140390556, 4.416626008438578]\n",
      "Max VIF is for variable no.:\n",
      "2\n"
     ]
    }
   ],
   "source": [
    "X_pure = calculate_vif(X) "
   ]
  },
  {
   "cell_type": "code",
   "execution_count": 16,
   "metadata": {},
   "outputs": [
    {
     "data": {
      "text/plain": [
       "(256, 3)"
      ]
     },
     "execution_count": 16,
     "metadata": {},
     "output_type": "execute_result"
    }
   ],
   "source": [
    "X_pure.shape "
   ]
  },
  {
   "cell_type": "code",
   "execution_count": 17,
   "metadata": {},
   "outputs": [
    {
     "data": {
      "text/html": [
       "<div>\n",
       "<style scoped>\n",
       "    .dataframe tbody tr th:only-of-type {\n",
       "        vertical-align: middle;\n",
       "    }\n",
       "\n",
       "    .dataframe tbody tr th {\n",
       "        vertical-align: top;\n",
       "    }\n",
       "\n",
       "    .dataframe thead th {\n",
       "        text-align: right;\n",
       "    }\n",
       "</style>\n",
       "<table border=\"1\" class=\"dataframe\">\n",
       "  <thead>\n",
       "    <tr style=\"text-align: right;\">\n",
       "      <th></th>\n",
       "      <th>Income</th>\n",
       "      <th>Advertising</th>\n",
       "      <th>Population</th>\n",
       "    </tr>\n",
       "  </thead>\n",
       "  <tbody>\n",
       "    <tr>\n",
       "      <th>0</th>\n",
       "      <td>73</td>\n",
       "      <td>11.0</td>\n",
       "      <td>276</td>\n",
       "    </tr>\n",
       "    <tr>\n",
       "      <th>1</th>\n",
       "      <td>48</td>\n",
       "      <td>16.0</td>\n",
       "      <td>260</td>\n",
       "    </tr>\n",
       "    <tr>\n",
       "      <th>2</th>\n",
       "      <td>35</td>\n",
       "      <td>10.0</td>\n",
       "      <td>269</td>\n",
       "    </tr>\n",
       "    <tr>\n",
       "      <th>3</th>\n",
       "      <td>100</td>\n",
       "      <td>4.0</td>\n",
       "      <td>466</td>\n",
       "    </tr>\n",
       "    <tr>\n",
       "      <th>4</th>\n",
       "      <td>64</td>\n",
       "      <td>3.0</td>\n",
       "      <td>340</td>\n",
       "    </tr>\n",
       "  </tbody>\n",
       "</table>\n",
       "</div>"
      ],
      "text/plain": [
       "   Income  Advertising  Population\n",
       "0      73         11.0         276\n",
       "1      48         16.0         260\n",
       "2      35         10.0         269\n",
       "3     100          4.0         466\n",
       "4      64          3.0         340"
      ]
     },
     "execution_count": 17,
     "metadata": {},
     "output_type": "execute_result"
    }
   ],
   "source": [
    "X_pure.head()"
   ]
  },
  {
   "cell_type": "markdown",
   "metadata": {},
   "source": [
    "#### There is no multi-collinearity as their value is below 5"
   ]
  },
  {
   "cell_type": "markdown",
   "metadata": {},
   "source": [
    "### 3) Constant variance"
   ]
  },
  {
   "cell_type": "markdown",
   "metadata": {},
   "source": [
    "Checking heteroscedasticity Using Goldfeld Quandt we test for heteroscedasticity.\n",
    "Null Hypothesis: Error terms are homoscedastic\n",
    "Alternative Hypothesis: Error terms are heteroscedastic."
   ]
  },
  {
   "cell_type": "code",
   "execution_count": 18,
   "metadata": {},
   "outputs": [
    {
     "data": {
      "text/plain": [
       "[('F statistic', 1.0962754425156136), ('p-value', 0.30772043495431517)]"
      ]
     },
     "execution_count": 18,
     "metadata": {},
     "output_type": "execute_result"
    }
   ],
   "source": [
    "name = ['F statistic', 'p-value']\n",
    "test = sms.het_goldfeldquandt(model.resid, model.model.exog)\n",
    "lzip(name, test)"
   ]
  },
  {
   "cell_type": "markdown",
   "metadata": {},
   "source": [
    "The p-value is 0.0708 hence we can say that the residuals have constant variance. "
   ]
  },
  {
   "cell_type": "markdown",
   "metadata": {},
   "source": [
    "### 4) No autocorrelation"
   ]
  },
  {
   "cell_type": "markdown",
   "metadata": {},
   "source": [
    "#### Checking for autocorrelation To ensure the absence of autocorrelation we use Ljungbox test.\n",
    "\n",
    "####  Null Hypothesis: Autocorrelation is absent.\n",
    "#### Alternative Hypothesis: Autocorrelation is present."
   ]
  },
  {
   "cell_type": "code",
   "execution_count": 19,
   "metadata": {},
   "outputs": [
    {
     "data": {
      "text/plain": [
       "(array([0.04976455]), array([0.82347348]))"
      ]
     },
     "execution_count": 19,
     "metadata": {},
     "output_type": "execute_result"
    }
   ],
   "source": [
    "diag.acorr_ljungbox(model.resid, lags = 1) "
   ]
  },
  {
   "cell_type": "markdown",
   "metadata": {},
   "source": [
    "Since p-value is 0.5042 thus we can accept the null hypothesis and can say that autocorrelation is absent."
   ]
  },
  {
   "cell_type": "markdown",
   "metadata": {},
   "source": [
    "### 5) Normality of the residuals"
   ]
  },
  {
   "cell_type": "markdown",
   "metadata": {},
   "source": [
    "#### We use Jarque-Bera test  from scipy library to check the normality of residuals.\n",
    "\n",
    "#### Null Hypothesis: The residuals are normally distributed.\n",
    "\n",
    "####  Alternative Hypothesis: The residuals are not normally distributed."
   ]
  },
  {
   "cell_type": "code",
   "execution_count": 20,
   "metadata": {},
   "outputs": [
    {
     "name": "stdout",
     "output_type": "stream",
     "text": [
      "Jarque-Bera test P value is 0.0472\n"
     ]
    }
   ],
   "source": [
    "jb_stat, jb_pval = stats.jarque_bera(model.resid)\n",
    "print('Jarque-Bera test P value is %1.4f' % jb_pval)"
   ]
  },
  {
   "cell_type": "code",
   "execution_count": 21,
   "metadata": {},
   "outputs": [
    {
     "data": {
      "image/png": "[encoded data removed]",
      "text/plain": [
       "<matplotlib.figure.Figure at 0x120338fc9b0>"
      ]
     },
     "metadata": {},
     "output_type": "display_data"
    }
   ],
   "source": [
    "fig     = plt.figure()\n",
    "ax1     = fig.add_subplot(211)\n",
    "prob    = stats.probplot(model.resid, dist = stats.norm, plot = ax1)\n",
    "ax1.set_xlabel('')\n",
    "ax1.set_title('Probplot against normal distribution')\n",
    "plt.show()"
   ]
  },
  {
   "cell_type": "code",
   "execution_count": 22,
   "metadata": {},
   "outputs": [
    {
     "name": "stderr",
     "output_type": "stream",
     "text": [
      "D:\\Python\\lib\\site-packages\\scipy\\stats\\stats.py:1633: FutureWarning: Using a non-tuple sequence for multidimensional indexing is deprecated; use `arr[tuple(seq)]` instead of `arr[seq]`. In the future this will be interpreted as an array index, `arr[np.array(seq)]`, which will result either in an error or a different result.\n",
      "  return np.add.reduce(sorted[indexer] * weights, axis=axis) / sumval\n"
     ]
    },
    {
     "data": {
      "image/png": "[encoded data removed]",
      "text/plain": [
       "<matplotlib.figure.Figure at 0x120338fc208>"
      ]
     },
     "metadata": {},
     "output_type": "display_data"
    }
   ],
   "source": [
    "sns.kdeplot(model.resid, shade=True);\n",
    "plt.show()"
   ]
  },
  {
   "cell_type": "markdown",
   "metadata": {},
   "source": [
    "## The residuals are not normally distributed since the p-value is < 0.05"
   ]
  },
  {
   "cell_type": "markdown",
   "metadata": {},
   "source": [
    "By applying various transformations to the variables, we can remove heteroscedasticity of a variable and also make it look like more normally distributed, which is a big deal for statisticians regarding normality and homoscedasticity assumptions for linear models."
   ]
  },
  {
   "cell_type": "markdown",
   "metadata": {},
   "source": [
    "https://dataunderthehood.com/2018/01/15/box-cox-transformation-with-python/"
   ]
  },
  {
   "cell_type": "code",
   "execution_count": 23,
   "metadata": {
    "collapsed": true
   },
   "outputs": [],
   "source": [
    "from astropy.table import Table\n",
    "from scipy import stats\n",
    "import matplotlib.pyplot as plt\n",
    "%matplotlib inline\n",
    "import numpy as np\n",
    "import seaborn as sns\n",
    "sns.set(style=\"darkgrid\")"
   ]
  },
  {
   "cell_type": "code",
   "execution_count": 24,
   "metadata": {},
   "outputs": [
    {
     "name": "stderr",
     "output_type": "stream",
     "text": [
      "D:\\Python\\lib\\site-packages\\scipy\\stats\\stats.py:1633: FutureWarning: Using a non-tuple sequence for multidimensional indexing is deprecated; use `arr[tuple(seq)]` instead of `arr[seq]`. In the future this will be interpreted as an array index, `arr[np.array(seq)]`, which will result either in an error or a different result.\n",
      "  return np.add.reduce(sorted[indexer] * weights, axis=axis) / sumval\n"
     ]
    },
    {
     "data": {
      "image/png": "[encoded data removed]",
      "text/plain": [
       "<matplotlib.figure.Figure at 0x120339aa828>"
      ]
     },
     "metadata": {},
     "output_type": "display_data"
    }
   ],
   "source": [
    "np.random.seed(1144) \n",
    "#x = stats.loggamma.rvs(5, size=500) + 5\n",
    "x  = model.resid\n",
    "sns.kdeplot(x, shade=True);\n",
    " \n",
    "def normtesttab(x):\n",
    "    nm_value, nm_p = stats.normaltest(x)\n",
    "    jb_value, jb_p = stats.jarque_bera(x)\n",
    "    data_rows = [('D’Agostino-Pearson', nm_value, nm_p),\n",
    "                 ('Jarque-Bera', jb_value, jb_p)]\n",
    "    t = Table(rows=data_rows, names=('Test name', 'Statistic', 'p-value'), \n",
    "              meta={'name': 'normal test table'},\n",
    "          dtype=('S25', 'f8', 'f8'))\n",
    "    print(t)"
   ]
  },
  {
   "cell_type": "code",
   "execution_count": 25,
   "metadata": {},
   "outputs": [
    {
     "name": "stdout",
     "output_type": "stream",
     "text": [
      "    Test name          Statistic            p-value      \n",
      "------------------ ------------------ -------------------\n",
      "D’Agostino-Pearson  6.790489617716455 0.03353234415236122\n",
      "       Jarque-Bera 6.1050572143773225  0.0472393235499774\n"
     ]
    }
   ],
   "source": [
    "normtesttab(x)"
   ]
  },
  {
   "cell_type": "code",
   "execution_count": 26,
   "metadata": {},
   "outputs": [
    {
     "name": "stdout",
     "output_type": "stream",
     "text": [
      "\n",
      " Various tranformations applied to the variables to make it normal \n",
      "\n",
      "....................................................................\n",
      "Transformation  1 Square root  Jarque-Bera P Value =  0.361707717563883 \n",
      "\n",
      "                            OLS Regression Results                            \n",
      "==============================================================================\n",
      "Dep. Variable:                  Sales   R-squared:                       0.893\n",
      "Model:                            OLS   Adj. R-squared:                  0.891\n",
      "Method:                 Least Squares   F-statistic:                     701.9\n",
      "Date:                Wed, 29 May 2019   Prob (F-statistic):          2.69e-122\n",
      "Time:                        21:11:37   Log-Likelihood:                -621.09\n",
      "No. Observations:                 256   AIC:                             1248.\n",
      "Df Residuals:                     253   BIC:                             1259.\n",
      "Df Model:                           3                                         \n",
      "Covariance Type:            nonrobust                                         \n",
      "===============================================================================\n",
      "                  coef    std err          t      P>|t|      [0.025      0.975]\n",
      "-------------------------------------------------------------------------------\n",
      "Income          0.5021      0.069      7.254      0.000       0.366       0.638\n",
      "Advertising     1.0242      0.178      5.746      0.000       0.673       1.375\n",
      "Population      0.0329      0.033      0.997      0.320      -0.032       0.098\n",
      "==============================================================================\n",
      "Omnibus:                        2.375   Durbin-Watson:                   2.020\n",
      "Prob(Omnibus):                  0.305   Jarque-Bera (JB):                2.034\n",
      "Skew:                           0.179   Prob(JB):                        0.362\n",
      "Kurtosis:                       3.250   Cond. No.                         20.0\n",
      "==============================================================================\n",
      "\n",
      "Warnings:\n",
      "[1] Standard Errors assume that the covariance matrix of the errors is correctly specified.\n",
      "    Test name          Statistic          p-value      \n",
      "------------------ ----------------- ------------------\n",
      "D’Agostino-Pearson  2.37485496208667 0.3050048865452184\n",
      "       Jarque-Bera 2.033837606663875  0.361707717563883\n"
     ]
    },
    {
     "name": "stderr",
     "output_type": "stream",
     "text": [
      "D:\\Python\\lib\\site-packages\\scipy\\stats\\stats.py:1633: FutureWarning: Using a non-tuple sequence for multidimensional indexing is deprecated; use `arr[tuple(seq)]` instead of `arr[seq]`. In the future this will be interpreted as an array index, `arr[np.array(seq)]`, which will result either in an error or a different result.\n",
      "  return np.add.reduce(sorted[indexer] * weights, axis=axis) / sumval\n"
     ]
    },
    {
     "data": {
      "image/png": "[encoded data removed]",
      "text/plain": [
       "<matplotlib.figure.Figure at 0x12033c23a20>"
      ]
     },
     "metadata": {},
     "output_type": "display_data"
    }
   ],
   "source": [
    "f_cuberoot          = lambda x: np.sign(x) * np.power(abs(x), 1./ 3)\n",
    "f_squareroot        = lambda x: np.sign(x) * np.power(abs(x), 1./ 2)\n",
    "\n",
    "xt_vector           = [f_squareroot(X_pure), f_cuberoot(X_pure)]\n",
    "\n",
    "transformation_list = ['Square root', 'Cube root']\n",
    "\n",
    "print(\"\\n Various tranformations applied to the variables to make it normal \\n\")\n",
    "print('....................................................................')\n",
    "\n",
    "ind                 = 0\n",
    "for xt in xt_vector:\n",
    "\n",
    "    X_c                = xt\n",
    "    model_c            = sm.OLS(y, X_c).fit()\n",
    "    jb_value, jb_p     = stats.jarque_bera(model_c.resid)\n",
    "    transformation     = transformation_list[ind]\n",
    "    print('Transformation ', ind + 1, transformation, ' Jarque-Bera P Value = ',jb_p, \"\\n\")\n",
    "    ind               += 1\n",
    "    if jb_p > 0.05:\n",
    "        print(model_c.summary())\n",
    "        normtesttab(model_c.resid)\n",
    "        fig     = plt.figure(figsize = (12, 8))\n",
    "        ax1     = fig.add_subplot(121)\n",
    "        sns.kdeplot(model_c.resid, shade=True, ax = ax1);\n",
    "        ax1.set_xlabel('Residuals')\n",
    "        ax1.set_title('KDE Plot for the residuals')\n",
    "        ax2     = fig.add_subplot(122)\n",
    "        prob    = stats.probplot(model_c.resid, dist = stats.norm, plot = ax2)\n",
    "        ax2.set_xlabel('')\n",
    "        ax2.set_title('\\n\\nProbplot against normal distribution')\n",
    "        plt.show()\n",
    "        Xt      = xt # return the transformed variables\n",
    "        break"
   ]
  },
  {
   "cell_type": "markdown",
   "metadata": {},
   "source": [
    "https://www.listendata.com/2018/01/linear-regression-in-python.html"
   ]
  },
  {
   "cell_type": "markdown",
   "metadata": {},
   "source": [
    "### 6) Linearity"
   ]
  },
  {
   "cell_type": "markdown",
   "metadata": {
    "collapsed": true
   },
   "source": [
    "The residual vs fitted values plot is used to check for constant variance and linearity, and to identify potential outliers in the data."
   ]
  },
  {
   "cell_type": "code",
   "execution_count": 27,
   "metadata": {},
   "outputs": [
    {
     "data": {
      "image/png": "[encoded data removed]",
      "text/plain": [
       "<matplotlib.figure.Figure at 0x12033c28ba8>"
      ]
     },
     "metadata": {},
     "output_type": "display_data"
    }
   ],
   "source": [
    "residuals  =  model_c.resid\n",
    "# Plot the residuals after fitting a linear model\n",
    "ax         = sns.residplot(y, residuals, lowess = True, color = \"g\")\n",
    "\n",
    "ax.set(xlabel='Fitted Value', ylabel='Residuals', title = 'Residual Vs Fitted values PLOT \\n')\n",
    "plt.show()"
   ]
  },
  {
   "cell_type": "markdown",
   "metadata": {
    "collapsed": true
   },
   "source": [
    "The residual plot indicates that the model’s residuals are restricting to mean of zero to a great extent exhibiting linearity."
   ]
  },
  {
   "cell_type": "markdown",
   "metadata": {
    "collapsed": true
   },
   "source": [
    "### Split the data into train and test datasets\n",
    "\n",
    "* Use the train data to build a model.\n",
    "* Use the test data to evaluate the model performance.\n",
    "* Slit the data into 80:20 ratio to create train and test data\n",
    "* Set a random seed to ensure repeatability of the results"
   ]
  },
  {
   "cell_type": "code",
   "execution_count": 28,
   "metadata": {
    "collapsed": true
   },
   "outputs": [],
   "source": [
    "x_train, x_test,  y_train, y_test = train_test_split(X_c, y, test_size = 0.30, random_state = 123)"
   ]
  },
  {
   "cell_type": "code",
   "execution_count": 29,
   "metadata": {},
   "outputs": [
    {
     "data": {
      "text/plain": [
       "Income          3.037530\n",
       "Advertising     0.816116\n",
       "Population     23.350843\n",
       "dtype: float64"
      ]
     },
     "execution_count": 29,
     "metadata": {},
     "output_type": "execute_result"
    }
   ],
   "source": [
    "x_train.var()"
   ]
  },
  {
   "cell_type": "code",
   "execution_count": 30,
   "metadata": {},
   "outputs": [
    {
     "data": {
      "text/plain": [
       "[('x_train shape', (179, 3), pandas.core.frame.DataFrame),\n",
       " ('x_test shape', (77, 3), pandas.core.frame.DataFrame),\n",
       " ('y_train shape', (179,), pandas.core.series.Series),\n",
       " ('y_test shape', (77,), pandas.core.series.Series)]"
      ]
     },
     "execution_count": 30,
     "metadata": {},
     "output_type": "execute_result"
    }
   ],
   "source": [
    "df_names      = ['x_train shape', 'x_test shape', 'y_train shape', 'y_test shape']\n",
    "shapes        = (x_train.shape, x_test.shape,  y_train.shape, y_test.shape)\n",
    "types         = (type(x_train), type(x_test), type(y_train),type(y_test))\n",
    "lzip(df_names,shapes, types)"
   ]
  },
  {
   "cell_type": "code",
   "execution_count": 31,
   "metadata": {},
   "outputs": [
    {
     "name": "stdout",
     "output_type": "stream",
     "text": [
      "                            OLS Regression Results                            \n",
      "==============================================================================\n",
      "Dep. Variable:                  Sales   R-squared:                       0.885\n",
      "Model:                            OLS   Adj. R-squared:                  0.883\n",
      "Method:                 Least Squares   F-statistic:                     449.4\n",
      "Date:                Wed, 29 May 2019   Prob (F-statistic):           3.16e-82\n",
      "Time:                        21:11:38   Log-Likelihood:                -438.83\n",
      "No. Observations:                 179   AIC:                             883.7\n",
      "Df Residuals:                     176   BIC:                             893.2\n",
      "Df Model:                           3                                         \n",
      "Covariance Type:            nonrobust                                         \n",
      "===============================================================================\n",
      "                  coef    std err          t      P>|t|      [0.025      0.975]\n",
      "-------------------------------------------------------------------------------\n",
      "Income          0.5421      0.088      6.160      0.000       0.368       0.716\n",
      "Advertising     0.9614      0.220      4.375      0.000       0.528       1.395\n",
      "Population      0.0183      0.040      0.462      0.645      -0.060       0.097\n",
      "==============================================================================\n",
      "Omnibus:                        0.141   Durbin-Watson:                   2.057\n",
      "Prob(Omnibus):                  0.932   Jarque-Bera (JB):                0.280\n",
      "Skew:                           0.041   Prob(JB):                        0.870\n",
      "Kurtosis:                       2.825   Cond. No.                         20.2\n",
      "==============================================================================\n",
      "\n",
      "Warnings:\n",
      "[1] Standard Errors assume that the covariance matrix of the errors is correctly specified.\n"
     ]
    }
   ],
   "source": [
    "lm                  = sm.OLS(y_train, x_train).fit()\n",
    "print(lm.summary())"
   ]
  },
  {
   "cell_type": "markdown",
   "metadata": {},
   "source": [
    "The regression equation is given by:\n",
    "\n",
    "Sales = 3.86577 + 0.09269 * TV + 0.03462 * Radio + 0.01597 * Newspaper -0.000466 * $TV^2$ + 0.0015105 * TV X Radio - 0.0002586 * TV X Newspaper - 9.39196 * $Radio^2$ - 0.0007483 X Radio X Newspaper + 0.0002933 * $Newspaper^2$  + 0.000000081533 * $TV^3$ - 0.0000016885 * $TV^2$ X Radio - 0.00000100052 * $TV^2$ X Newspaper - 0.0000023998 * $Radio^2$ X TV - 0.00000198309 * $TV$ * $Radio$ * $Newspaper$ - 0.000000332817 * $Newspaper^2$ * TV - 0.00000907886 * $Radio^3$ + 0.0000097386 * $Radio^2$ * Newspaper + 0.0000052069 * $Newspaper^2$ X Radio - 0.000003027 * $Newspaper^3$ "
   ]
  },
  {
   "cell_type": "markdown",
   "metadata": {},
   "source": [
    "### Model evaluation\n",
    "\n",
    "We will evaluate our model using RMSE, MAPE and R2-score."
   ]
  },
  {
   "cell_type": "markdown",
   "metadata": {},
   "source": [
    "### Prediction Accuracy\n",
    "\n",
    "Prediction error or residuals is the difference between the predicted target variable values and the actual target variable vaues.\n",
    "\n",
    "Most popular measure to evaluate the model performance is Root Mean Square Error (RMSE) which is the arithmatic mean of the sum of the residuals.\n",
    "\n",
    "The model with low RMSE is the best model among many other models."
   ]
  },
  {
   "cell_type": "code",
   "execution_count": 32,
   "metadata": {},
   "outputs": [
    {
     "name": "stdout",
     "output_type": "stream",
     "text": [
      "The model performance for training set\n",
      "--------------------------------------\n",
      "RMSE is 2.808462518629578\n",
      "MAPE is 51.09170713293759\n",
      "R square is 0.883\n"
     ]
    }
   ],
   "source": [
    "# model evaluation for training set\n",
    "\n",
    "y_train_predict       = lm.predict(x_train)\n",
    "\n",
    "rmse_train            = np.sqrt(mean_squared_error(y_train, y_train_predict))\n",
    "mape_train            = mean_absolute_percentage_error(y_train, y_train_predict)\n",
    "\n",
    "print(\"The model performance for training set\")\n",
    "\n",
    "print(\"--------------------------------------\")\n",
    "\n",
    "print('RMSE is {}'.format(rmse_train))\n",
    "\n",
    "print('MAPE is {}'.format(mape_train))\n",
    "print('R square is %1.3f' % lm.rsquared_adj)\n",
    "\n"
   ]
  },
  {
   "cell_type": "code",
   "execution_count": 33,
   "metadata": {},
   "outputs": [
    {
     "name": "stdout",
     "output_type": "stream",
     "text": [
      "\n",
      "\n",
      "The model performance for testing set\n",
      "--------------------------------------\n",
      "RMSE is 2.5824584762337195\n",
      "MAPE is 29.878491818809266\n"
     ]
    }
   ],
   "source": [
    "print(\"\\n\")\n",
    "\n",
    "print(\"The model performance for testing set\")\n",
    "\n",
    "print(\"--------------------------------------\")\n",
    "\n",
    "# model evaluation for testing set\n",
    "#X_test_                  =   sm.add_constant(x_test) \n",
    "y_test_predict           =   lm.predict(x_test)\n",
    "rmse_test                =   (np.sqrt(mean_squared_error(y_test, y_test_predict)))\n",
    "mape_test                =   mean_absolute_percentage_error(y_test, y_test_predict)\n",
    "\n",
    "print('RMSE is {}'.format(rmse_test))\n",
    "print('MAPE is {}'.format(mape_test))"
   ]
  },
  {
   "cell_type": "markdown",
   "metadata": {},
   "source": [
    "Let us see if ridge or lasso regression is better."
   ]
  },
  {
   "cell_type": "markdown",
   "metadata": {},
   "source": [
    "### Ridge Regression"
   ]
  },
  {
   "cell_type": "markdown",
   "metadata": {},
   "source": [
    "For ridge regression, we introduce GridSearchCV, which allow us to automatically perform 5-fold cross-validation with a range of different regularization parameters in order to find the optimal value of alpha.\n",
    "Ref: https://towardsdatascience.com/how-to-perform-lasso-and-ridge-regression-in-python-3b3b75541ad8"
   ]
  },
  {
   "cell_type": "code",
   "execution_count": 34,
   "metadata": {
    "collapsed": true
   },
   "outputs": [],
   "source": [
    "ridge    =  Ridge()"
   ]
  },
  {
   "cell_type": "code",
   "execution_count": 35,
   "metadata": {},
   "outputs": [
    {
     "data": {
      "text/plain": [
       "GridSearchCV(cv=5, error_score='raise',\n",
       "       estimator=Ridge(alpha=1.0, copy_X=True, fit_intercept=True, max_iter=None,\n",
       "   normalize=False, random_state=None, solver='auto', tol=0.001),\n",
       "       fit_params=None, iid=True, n_jobs=1,\n",
       "       param_grid={'alpha': [1e-15, 1e-10, 1e-08, 0.0001, 0.001, 0.01, 1, 5, 20]},\n",
       "       pre_dispatch='2*n_jobs', refit=True, return_train_score='warn',\n",
       "       scoring='neg_mean_squared_error', verbose=0)"
      ]
     },
     "execution_count": 35,
     "metadata": {},
     "output_type": "execute_result"
    }
   ],
   "source": [
    "param_dict      =  {'alpha' : [1e-15, 1e-10, 1e-8, 1e-4, 1e-3, 1e-2, 1, 5, 20]}\n",
    "ridge_regressor =  GridSearchCV(ridge, param_dict, scoring = 'neg_mean_squared_error', cv = 5)\n",
    "ridge_regressor.fit(x_train, y_train)"
   ]
  },
  {
   "cell_type": "code",
   "execution_count": 36,
   "metadata": {},
   "outputs": [
    {
     "name": "stdout",
     "output_type": "stream",
     "text": [
      "{'alpha': 20}\n",
      "-7.949037627712441\n"
     ]
    }
   ],
   "source": [
    "print(ridge_regressor.best_params_)\n",
    "print(ridge_regressor.best_score_)"
   ]
  },
  {
   "cell_type": "code",
   "execution_count": 37,
   "metadata": {},
   "outputs": [
    {
     "data": {
      "text/plain": [
       "Ridge(alpha=20, copy_X=True, fit_intercept=True, max_iter=None,\n",
       "   normalize=True, random_state=12345, solver='auto', tol=0.001)"
      ]
     },
     "execution_count": 37,
     "metadata": {},
     "output_type": "execute_result"
    }
   ],
   "source": [
    "clf = Ridge(alpha = 20, normalize = True, random_state = 12345)\n",
    "clf.fit(x_train, y_train)"
   ]
  },
  {
   "cell_type": "markdown",
   "metadata": {},
   "source": [
    "## Get the coefficients of the Ridge model"
   ]
  },
  {
   "cell_type": "code",
   "execution_count": 38,
   "metadata": {},
   "outputs": [
    {
     "name": "stdout",
     "output_type": "stream",
     "text": [
      "{'Income': 0.016204512650195766, 'Advertising': 0.03459332673560616, 'Population': -0.0007058090656801152}\n"
     ]
    }
   ],
   "source": [
    "coef_dict_ridge = {}\n",
    "for coef, feat in zip(clf.coef_, x_train.columns):\n",
    "    coef_dict_ridge[feat] = coef\n",
    "print(coef_dict_ridge)"
   ]
  },
  {
   "cell_type": "code",
   "execution_count": 39,
   "metadata": {},
   "outputs": [
    {
     "name": "stdout",
     "output_type": "stream",
     "text": [
      "\n",
      "\n",
      "The model performance for training set\n",
      "--------------------------------------\n",
      "RMSE    is 2.8683021694304154\n",
      "MAPE    is 54.559590265672\n",
      "Rsquare is 0.008787694760483133\n"
     ]
    }
   ],
   "source": [
    "rmse_train_rr    = (np.sqrt(mean_squared_error(y_true = y_train, y_pred = clf.predict(x_train))))\n",
    "mape_train_rr    = mean_absolute_percentage_error(y_train,y_pred = clf.predict(x_train))\n",
    "\n",
    "print(\"\\n\")\n",
    "print(\"The model performance for training set\")\n",
    "print(\"--------------------------------------\")\n",
    "print('RMSE    is {}'.format(rmse_train_rr))\n",
    "print('MAPE    is {}'.format(mape_train_rr))\n",
    "print('Rsquare is {}'.format(clf.score(x_train, y_train)))"
   ]
  },
  {
   "cell_type": "code",
   "execution_count": 40,
   "metadata": {},
   "outputs": [
    {
     "name": "stdout",
     "output_type": "stream",
     "text": [
      "\n",
      "\n",
      "The model performance for testing set\n",
      "--------------------------------------\n",
      "RMSE is 2.6282427328775233\n",
      "MAPE is 32.95141006941619\n"
     ]
    }
   ],
   "source": [
    "rmse_test_rr    = (np.sqrt(mean_squared_error(y_true = y_test, y_pred = clf.predict(x_test))))\n",
    "mape_test_rr    = mean_absolute_percentage_error(y_test, y_pred = clf.predict(x_test))\n",
    "\n",
    "print(\"\\n\")\n",
    "print(\"The model performance for testing set\")\n",
    "print(\"--------------------------------------\")\n",
    "\n",
    "print('RMSE is {}'.format(rmse_test_rr ))\n",
    "print('MAPE is {}'.format(mape_test_rr ))"
   ]
  },
  {
   "cell_type": "code",
   "execution_count": 41,
   "metadata": {
    "collapsed": true
   },
   "outputs": [],
   "source": [
    "lasso                      =  Lasso()"
   ]
  },
  {
   "cell_type": "code",
   "execution_count": 42,
   "metadata": {},
   "outputs": [
    {
     "name": "stderr",
     "output_type": "stream",
     "text": [
      "D:\\Python\\lib\\site-packages\\sklearn\\linear_model\\coordinate_descent.py:491: ConvergenceWarning: Objective did not converge. You might want to increase the number of iterations. Fitting data with very small alpha may cause precision problems.\n",
      "  ConvergenceWarning)\n"
     ]
    },
    {
     "data": {
      "text/plain": [
       "GridSearchCV(cv=5, error_score='raise',\n",
       "       estimator=Lasso(alpha=1.0, copy_X=True, fit_intercept=True, max_iter=1000,\n",
       "   normalize=False, positive=False, precompute=False, random_state=None,\n",
       "   selection='cyclic', tol=0.0001, warm_start=False),\n",
       "       fit_params=None, iid=True, n_jobs=1,\n",
       "       param_grid={'alpha': [1e-15, 1e-10, 1e-08, 0.0001, 0.001, 0.01, 1, 5, 20]},\n",
       "       pre_dispatch='2*n_jobs', refit=True, return_train_score='warn',\n",
       "       scoring='neg_mean_squared_error', verbose=0)"
      ]
     },
     "execution_count": 42,
     "metadata": {},
     "output_type": "execute_result"
    }
   ],
   "source": [
    "param_dict       =  {'alpha' : [1e-15, 1e-10, 1e-8, 1e-4, 1e-3, 1e-2, 1, 5, 20]}\n",
    "lasso_regressor  =  GridSearchCV(lasso, param_dict, scoring = 'neg_mean_squared_error', cv = 5)\n",
    "lasso_regressor.fit(x_train, y_train)"
   ]
  },
  {
   "cell_type": "code",
   "execution_count": 43,
   "metadata": {},
   "outputs": [
    {
     "name": "stdout",
     "output_type": "stream",
     "text": [
      "{'alpha': 0.01}\n",
      "-7.980100669095018\n"
     ]
    }
   ],
   "source": [
    "print(lasso_regressor.best_params_)\n",
    "print(lasso_regressor.best_score_)"
   ]
  },
  {
   "cell_type": "code",
   "execution_count": 44,
   "metadata": {},
   "outputs": [
    {
     "name": "stdout",
     "output_type": "stream",
     "text": [
      "Rsquare is 0.09011063923786067\n"
     ]
    }
   ],
   "source": [
    "clf1 = Ridge(alpha = 0.01)\n",
    "clf1.fit(x_train, y_train)\n",
    "print('Rsquare is {}'.format(clf1.score(x_train, y_train)))"
   ]
  },
  {
   "cell_type": "markdown",
   "metadata": {},
   "source": [
    "### Get the coefficients of the Lasso model"
   ]
  },
  {
   "cell_type": "code",
   "execution_count": 45,
   "metadata": {},
   "outputs": [
    {
     "name": "stdout",
     "output_type": "stream",
     "text": [
      "{'Income': 0.3096822854920943, 'Advertising': 0.7041488780699523, 'Population': -0.03644138258103426}\n"
     ]
    }
   ],
   "source": [
    "coef_dict_lasso = {}\n",
    "for coef, feat in zip(clf1.coef_, x_train.columns):\n",
    "    coef_dict_lasso[feat] = coef\n",
    "print(coef_dict_lasso)"
   ]
  },
  {
   "cell_type": "code",
   "execution_count": 46,
   "metadata": {},
   "outputs": [
    {
     "name": "stdout",
     "output_type": "stream",
     "text": [
      "\n",
      "\n",
      "The model performance for training set\n",
      "--------------------------------------\n",
      "RMSE is 2.748121009940894\n",
      "MAPE is 52.180390649931205\n"
     ]
    }
   ],
   "source": [
    "rmse_train_lasso    = (np.sqrt(mean_squared_error(y_true = y_train, y_pred = clf1.predict(x_train))))\n",
    "mape_train_lasso    = mean_absolute_percentage_error(y_train,y_pred = clf1.predict(x_train))\n",
    "\n",
    "print(\"\\n\")\n",
    "print(\"The model performance for training set\")\n",
    "print(\"--------------------------------------\")\n",
    "print('RMSE is {}'.format(rmse_train_lasso ))\n",
    "print('MAPE is {}'.format(mape_train_lasso ))"
   ]
  },
  {
   "cell_type": "code",
   "execution_count": 47,
   "metadata": {},
   "outputs": [
    {
     "name": "stdout",
     "output_type": "stream",
     "text": [
      "\n",
      "\n",
      "The model performance for testing set\n",
      "--------------------------------------\n",
      "RMSE is 2.519534372567729\n",
      "MAPE is 30.774112008935457\n"
     ]
    }
   ],
   "source": [
    "rmse_test_lasso    = (np.sqrt(mean_squared_error(y_true = y_test, y_pred = clf1.predict(x_test))))\n",
    "mape_test_lasso    = mean_absolute_percentage_error(y_test, y_pred = clf1.predict(x_test))\n",
    "\n",
    "print(\"\\n\")\n",
    "print(\"The model performance for testing set\")\n",
    "print(\"--------------------------------------\")\n",
    "\n",
    "print('RMSE is {}'.format(rmse_test_lasso ))\n",
    "print('MAPE is {}'.format(mape_test_lasso ))"
   ]
  },
  {
   "cell_type": "markdown",
   "metadata": {},
   "source": [
    "http://www.science.smith.edu/~jcrouser/SDS293/labs/lab10-py.html"
   ]
  }
 ],
 "metadata": {
  "kernelspec": {
   "display_name": "Python 3",
   "language": "python",
   "name": "python3"
  },
  "language_info": {
   "codemirror_mode": {
    "name": "ipython",
    "version": 3
   },
   "file_extension": ".py",
   "mimetype": "text/x-python",
   "name": "python",
   "nbconvert_exporter": "python",
   "pygments_lexer": "ipython3",
   "version": "3.6.3"
  }
 },
 "nbformat": 4,
 "nbformat_minor": 2
}
