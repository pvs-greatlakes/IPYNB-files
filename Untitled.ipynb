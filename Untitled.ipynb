{
 "cells": [
  {
   "cell_type": "code",
   "execution_count": 4,
   "metadata": {},
   "outputs": [
    {
     "name": "stdout",
     "output_type": "stream",
     "text": [
      "nested tuple_s:  ((10, 11, 12), ('A', 'B', 'C'))\n"
     ]
    }
   ],
   "source": [
    "tuple1  = 10, 11, 12\n",
    "tuple2  = 'A', 'B', 'C'\n",
    "tuple_s = (tuple1, tuple2)\n",
    "print('nested tuple_s: ', tuple_s)"
   ]
  },
  {
   "cell_type": "code",
   "execution_count": 2,
   "metadata": {},
   "outputs": [
    {
     "data": {
      "text/plain": [
       "'1.16.3'"
      ]
     },
     "execution_count": 2,
     "metadata": {},
     "output_type": "execute_result"
    }
   ],
   "source": [
    "import numpy as np\n",
    "np.__version__"
   ]
  },
  {
   "cell_type": "code",
   "execution_count": 3,
   "metadata": {},
   "outputs": [
    {
     "name": "stdout",
     "output_type": "stream",
     "text": [
      "60\n"
     ]
    }
   ],
   "source": [
    "import numpy as np\n",
    "empids = ['E001','E002','E003','E004','E010','E011','E012','E013',\\\n",
    "                   'E020','E021','E022','E023','E024','E025','E026','E027',\\\n",
    "                   'E028','E029','E030','E031','E032','E035','E040','E041',\\\n",
    "                   'E042','E044','E045','E046','E050','E051','E061','E070',\\\n",
    "                   'E081','E083','E084','E085','E086','E087','E088','E089',\\\n",
    "                   'E090','E091','E092','E093','E094','E095','E096','E097',\\\n",
    "                   'E098','E100','E101','E121','E131','E135','E701','E794',\\\n",
    "                   'E795','E866','E897','E998' ]\n",
    "print(len(empids))"
   ]
  },
  {
   "cell_type": "code",
   "execution_count": 4,
   "metadata": {},
   "outputs": [
    {
     "name": "stdout",
     "output_type": "stream",
     "text": [
      "\n",
      "Selected  Employee  IDs  who  are  selected  for  night  shift\n",
      "\n",
      "['E051' 'E095' 'E020' 'E040' 'E012' 'E701' 'E089' 'E025' 'E030' 'E070']\n"
     ]
    }
   ],
   "source": [
    "np.random.seed(1234)  #  to  ensure  repeatability\n",
    "selected_10_empids  =  np.random.choice(empids,  size  =  10,  replace  =  False) \n",
    "print('\\nSelected  Employee  IDs  who  are  selected  for  night  shift\\n') \n",
    "print(selected_10_empids)"
   ]
  },
  {
   "cell_type": "code",
   "execution_count": 5,
   "metadata": {},
   "outputs": [
    {
     "name": "stdout",
     "output_type": "stream",
     "text": [
      "[[[ 0  1  2  3]\n",
      "  [ 4  5  6  7]]\n",
      "\n",
      " [[ 8  9 10 11]\n",
      "  [12 13 14 15]]]\n"
     ]
    }
   ],
   "source": [
    "array4 = np.arange(16).reshape((2, 2, 4))\n",
    "print(array4)"
   ]
  },
  {
   "cell_type": "code",
   "execution_count": 7,
   "metadata": {},
   "outputs": [
    {
     "name": "stdout",
     "output_type": "stream",
     "text": [
      "[[[ 0  4]\n",
      "  [ 1  5]\n",
      "  [ 2  6]\n",
      "  [ 3  7]]\n",
      "\n",
      " [[ 8 12]\n",
      "  [ 9 13]\n",
      "  [10 14]\n",
      "  [11 15]]]\n"
     ]
    }
   ],
   "source": [
    "print(array4.swapaxes(1,2))"
   ]
  },
  {
   "cell_type": "code",
   "execution_count": 11,
   "metadata": {
    "collapsed": true
   },
   "outputs": [],
   "source": [
    "from bs4 import BeautifulSoup"
   ]
  },
  {
   "cell_type": "code",
   "execution_count": 18,
   "metadata": {},
   "outputs": [
    {
     "name": "stdout",
     "output_type": "stream",
     "text": [
      "<!DOCTYPE html>\n",
      "<html>\n",
      "<body>\n",
      "<form action=\"/cgi-bin/get_user.py\" method=\"POST\" name=\"UserID\">\r\n",
      "  MatriID: <input name=\"matriId\" type=\"text\" value=\"M10101\"/><br/>\n",
      "<input type=\"submit\" value=\"Submit\"/>\n",
      "</form>\n",
      "</body>\n",
      "</html>\n"
     ]
    }
   ],
   "source": [
    "import urllib.request\n",
    "html = urllib.request.urlopen('http://localhost/sample.html')\n",
    "soup = BeautifulSoup(html)\n",
    "print(soup)"
   ]
  },
  {
   "cell_type": "code",
   "execution_count": 21,
   "metadata": {
    "scrolled": true
   },
   "outputs": [
    {
     "name": "stdout",
     "output_type": "stream",
     "text": [
      "\n",
      "\n",
      "\r\n",
      "  MatriID: \n",
      "\n",
      "\n",
      "\n",
      "\n"
     ]
    }
   ],
   "source": [
    "print(soup.get_text())"
   ]
  },
  {
   "cell_type": "code",
   "execution_count": 26,
   "metadata": {},
   "outputs": [
    {
     "ename": "AttributeError",
     "evalue": "'NoneType' object has no attribute 'text'",
     "output_type": "error",
     "traceback": [
      "\u001b[1;31m---------------------------------------------------------------------------\u001b[0m",
      "\u001b[1;31mAttributeError\u001b[0m                            Traceback (most recent call last)",
      "\u001b[1;32m<ipython-input-26-a37a8a6d7f1e>\u001b[0m in \u001b[0;36m<module>\u001b[1;34m()\u001b[0m\n\u001b[1;32m----> 1\u001b[1;33m \u001b[0mprint\u001b[0m\u001b[1;33m(\u001b[0m\u001b[0msoup\u001b[0m\u001b[1;33m.\u001b[0m\u001b[0mfind\u001b[0m\u001b[1;33m(\u001b[0m\u001b[1;34m'bodytext'\u001b[0m\u001b[1;33m)\u001b[0m\u001b[1;33m.\u001b[0m\u001b[0mtext\u001b[0m\u001b[1;33m)\u001b[0m\u001b[1;33m\u001b[0m\u001b[0m\n\u001b[0m",
      "\u001b[1;31mAttributeError\u001b[0m: 'NoneType' object has no attribute 'text'"
     ]
    }
   ],
   "source": [
    "print(soup.find('bodytext').text)"
   ]
  },
  {
   "cell_type": "code",
   "execution_count": 20,
   "metadata": {},
   "outputs": [
    {
     "name": "stdout",
     "output_type": "stream",
     "text": [
      "b' <!DOCTYPE html>\\r\\n  <html>\\r\\n  <body>\\r\\n  <form name = \"UserID\" action = \"/cgi-bin/get_user.py\" method=\"POST\">\\r\\n  MatriID: <input type=\"text\" name=\"matriId\" value = \"M10101\"><br>\\r\\n <input type=\"submit\" value=\"Submit\">\\r\\n </form>\\r\\n</body>\\r\\n</html>'\n"
     ]
    }
   ],
   "source": [
    "import urllib.request as urlRequest\n",
    "import urllib.parse as urlParse\n",
    "\n",
    "url = \"http://localhost/sample.html\"\n",
    "values = {\"name\": \"M10102\"}\n",
    "\n",
    "# pretend to be a chrome 47 browser on a windows 10 machine\n",
    "headers = {\"User-Agent\": \"Mozilla/5.0 (Windows NT 10.0; WOW64) AppleWebKit/537.36 (KHTML, like Gecko) Chrome/47.0.2526.106 Safari/537.36\"}\n",
    "\n",
    "# encode values for the url\n",
    "params = urlParse.urlencode(values).encode(\"utf-8\")\n",
    "\n",
    "# create the url\n",
    "targetUrl = urlRequest.Request(url=url, data=params) #, headers=headers)\n",
    "\n",
    "# open the url\n",
    "x  = urlRequest.urlopen(targetUrl)\n",
    "\n",
    "# read the response\n",
    "respone = x.read()\n",
    "print(respone)"
   ]
  }
 ],
 "metadata": {
  "kernelspec": {
   "display_name": "Python 3",
   "language": "python",
   "name": "python3"
  },
  "language_info": {
   "codemirror_mode": {
    "name": "ipython",
    "version": 3
   },
   "file_extension": ".py",
   "mimetype": "text/x-python",
   "name": "python",
   "nbconvert_exporter": "python",
   "pygments_lexer": "ipython3",
   "version": "3.6.3"
  }
 },
 "nbformat": 4,
 "nbformat_minor": 2
}
