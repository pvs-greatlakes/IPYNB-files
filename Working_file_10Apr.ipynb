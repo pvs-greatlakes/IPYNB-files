{
 "cells": [
  {
   "cell_type": "code",
   "execution_count": null,
   "metadata": {
    "collapsed": true
   },
   "outputs": [],
   "source": [
    "import re\n",
    "phone_number = '93999-12345'\n",
    "# Remove \"-\"\n",
    "num = re.sub(r'\\D',\"\", phone_number)\n",
    "print(num)"
   ]
  },
  {
   "cell_type": "code",
   "execution_count": null,
   "metadata": {
    "collapsed": true
   },
   "outputs": [],
   "source": []
  },
  {
   "cell_type": "code",
   "execution_count": null,
   "metadata": {
    "collapsed": true
   },
   "outputs": [],
   "source": [
    "fp = open('new_data.txt', mode = 'w')\n",
    "for i in range(5):\n",
    "      print(\"Give your name\")\n",
    "      nam    = input()\n",
    "      string =nam + '\\n'\n",
    "      fp.write(string)\n",
    "fp.close()\n",
    "\n",
    "print('\\nFile cosed')\n",
    "with open(\"new_data.txt\") as f:\n",
    "    for line in f:\n",
    "        print(line)\n"
   ]
  },
  {
   "cell_type": "code",
   "execution_count": null,
   "metadata": {
    "collapsed": true
   },
   "outputs": [],
   "source": [
    "gl1  = \"Great Lakes\"\n",
    "gl1s = \"Great\"\n",
    "gl1s in gl1"
   ]
  },
  {
   "cell_type": "code",
   "execution_count": null,
   "metadata": {
    "collapsed": true
   },
   "outputs": [],
   "source": [
    "s1 = \"Hello\"\n",
    "s1[0]"
   ]
  },
  {
   "cell_type": "code",
   "execution_count": null,
   "metadata": {
    "collapsed": true
   },
   "outputs": [],
   "source": [
    "s1[1:4]"
   ]
  },
  {
   "cell_type": "code",
   "execution_count": null,
   "metadata": {
    "collapsed": true
   },
   "outputs": [],
   "source": [
    "s1[:4]"
   ]
  },
  {
   "cell_type": "code",
   "execution_count": null,
   "metadata": {
    "collapsed": true
   },
   "outputs": [],
   "source": [
    "s1[3:]"
   ]
  },
  {
   "cell_type": "code",
   "execution_count": null,
   "metadata": {
    "collapsed": true
   },
   "outputs": [],
   "source": [
    "formatted_string_default = \"{}, {}\".format('Hello','World')\n",
    "print(formatted_string_default)"
   ]
  },
  {
   "cell_type": "code",
   "execution_count": null,
   "metadata": {
    "collapsed": true
   },
   "outputs": [],
   "source": [
    "formatted_string_position = \"{0}, {1}\".format('Hello','World')\n",
    "print(formatted_string_position)"
   ]
  },
  {
   "cell_type": "code",
   "execution_count": null,
   "metadata": {
    "collapsed": true
   },
   "outputs": [],
   "source": [
    "formatted_string_key = \"{h}, {w}\".format(h = 'Hello', w= 'World')\n",
    "print(formatted_string_key)"
   ]
  },
  {
   "cell_type": "code",
   "execution_count": null,
   "metadata": {
    "collapsed": true
   },
   "outputs": [],
   "source": [
    "print(\"%s\" %\"Hello World\")"
   ]
  },
  {
   "cell_type": "code",
   "execution_count": null,
   "metadata": {
    "collapsed": true
   },
   "outputs": [],
   "source": [
    "main_string = 'Great Lakes'\n",
    "print(main_string.find('Lakes'))\n",
    "print(main_string.index('Lakes'))"
   ]
  },
  {
   "cell_type": "code",
   "execution_count": null,
   "metadata": {
    "collapsed": true
   },
   "outputs": [],
   "source": [
    "import MySQLdb"
   ]
  },
  {
   "cell_type": "code",
   "execution_count": null,
   "metadata": {
    "collapsed": true
   },
   "outputs": [],
   "source": [
    "print(MySQLdb.__version__) # to know which version of MySQLdb connector is used"
   ]
  },
  {
   "cell_type": "code",
   "execution_count": null,
   "metadata": {
    "collapsed": true
   },
   "outputs": [],
   "source": [
    "conn = MySQLdb.connect (host   = \"localhost\",\n",
    "                        user   = \"pma\", \n",
    "                        passwd = \"Abc@123\", \n",
    "                        db     = \"test\")"
   ]
  },
  {
   "cell_type": "code",
   "execution_count": null,
   "metadata": {
    "collapsed": true
   },
   "outputs": [],
   "source": [
    "cursor_db         =  conn.cursor()\n",
    "cursor_db.execute(\"SELECT VERSION()\")\n",
    "ver               =  cursor_db.fetchone()\n",
    "print(\"Server version: \", ver[0])"
   ]
  },
  {
   "cell_type": "code",
   "execution_count": null,
   "metadata": {
    "collapsed": true
   },
   "outputs": [],
   "source": [
    "conn              =  MySQLdb.connect (host   = \"localhost\",\n",
    "                                      user   = \"pma\", \n",
    "                                      passwd = \"Abc@123\", \n",
    "                                      db     = \"test\")"
   ]
  },
  {
   "cell_type": "code",
   "execution_count": null,
   "metadata": {
    "collapsed": true
   },
   "outputs": [],
   "source": [
    "cursor_db         =  conn.cursor()"
   ]
  },
  {
   "cell_type": "code",
   "execution_count": null,
   "metadata": {
    "collapsed": true
   },
   "outputs": [],
   "source": [
    "print('Drop table if it already exist using execute() method to avoid error')\n",
    "cursor_db.execute(\"DROP TABLE IF EXISTS EMPLOYEE\")"
   ]
  },
  {
   "cell_type": "code",
   "execution_count": null,
   "metadata": {
    "collapsed": true
   },
   "outputs": [],
   "source": [
    "print('Create table EMPLOYEE with EMPID, FIRST_NAME, LAST_NAME, AGE, SALARY')\n",
    "\n",
    "sql = \"\"\"CREATE TABLE EMPLOYEE (\n",
    "EMPID       CHAR(5) NOT NULL,\n",
    "FIRST_NAME  CHAR(30) NOT NULL,\n",
    "LAST_NAME   CHAR(30),\n",
    "AGE         INT(2),\n",
    "SALARY      FLOAT(8,2))\"\"\"\n",
    "cursor_db.execute(sql)"
   ]
  },
  {
   "cell_type": "code",
   "execution_count": null,
   "metadata": {
    "collapsed": true
   },
   "outputs": [],
   "source": [
    "print('Drop table if it already exist using execute() method to avoid error')\n",
    "cursor_db.execute(\"DROP TABLE IF EXISTS LEAVES\")"
   ]
  },
  {
   "cell_type": "code",
   "execution_count": null,
   "metadata": {
    "collapsed": true
   },
   "outputs": [],
   "source": [
    "print('Create table LEAVE with EMPID AND LEAVE_DAYS')\n",
    "sql = \"\"\"CREATE TABLE LEAVES (\n",
    "EMPID            CHAR(5) NOT NULL,\n",
    "LEAVE_DAYS       FLOAT(5,2))\"\"\"\n",
    "cursor_db.execute(sql)"
   ]
  },
  {
   "cell_type": "code",
   "execution_count": null,
   "metadata": {
    "collapsed": true
   },
   "outputs": [],
   "source": [
    "sql           = \"\"\"INSERT EMPLOYEE (EMPID, FIRST_NAME, LAST_NAME, AGE, SALARY)\\\n",
    "                   VALUES (%s, %s, %s, %d, %8.2f)\"\"\" \\\n",
    "                   % (\"'E010'\",\"'Wassim'\", \"'Jaffer'\", 45, 0.0)\n",
    "print(sql)\n",
    "try:\n",
    "    # Execute the SQL command\n",
    "    cursor_db.execute(sql)\n",
    "# Commit your changes in the database\n",
    "    conn.commit()\n",
    "except:\n",
    "# Rollback in case there is any error\n",
    "    print('Error')\n",
    "    conn.rollback()"
   ]
  },
  {
   "cell_type": "code",
   "execution_count": null,
   "metadata": {
    "collapsed": true
   },
   "outputs": [],
   "source": [
    "emp_dict = {'EMPID' : ['E001', 'E002', 'E003', 'E004', 'E005',\\\n",
    "                       'E006', 'E007', 'E008', 'E009', 'E011'],\\\n",
    "            'FIRST_NAME' : ['Arun','Anand','Ajay','Babu','Basu',\\\n",
    "                            'Chinna','Christy','Deepa','Elizabeth','Fawlin'],\n",
    "            'LAST_NAME' : ['Sampath','Saravanan','Tkare','John','Ganesh',\\\n",
    "                           'Tanmbi','John','Gopalan','Rose','Pandian'],\n",
    "            'AGE' : [24, 26, 28, 32, 34, 37, 40, 41, 42, 50],\n",
    "            'SALARY' : [62500.00, 70000.00, 65000.00, 67500.00,\\\n",
    "                        82500.00, 92500.00, 99500.00, 90500.00,\\\n",
    "                        99900.00,  94500.00]}\n",
    "\n",
    "n = len(emp_dict)\n",
    "\n",
    "for i in range(n):\n",
    "    \n",
    "    empid = '%s' % emp_dict['EMPID'][i]     \n",
    "    fn    = '%s' % emp_dict['FIRST_NAME'][i] \n",
    "    ln    = '%s' % emp_dict['LAST_NAME'][i] \n",
    "    age   = emp_dict['AGE'][i] \n",
    "    sal   = emp_dict['SALARY'][i]\n",
    "    \n",
    "    values_string = '(' + \"\\'\" + empid + \"\\',\" + \"\\'\" + fn + \"\\',\" + \"\\'\" + \\\n",
    "                    ln + \"\\',\" + str(age) + \",\" + str(sal) + ')'\n",
    "    \n",
    "    sql           = \"\"\"INSERT EMPLOYEE (EMPID, FIRST_NAME, LAST_NAME,AGE, SALARY)\\\n",
    "                    VALUES %s\"\"\" % (values_string)\n",
    "    print(sql)\n",
    "\n",
    "    try:\n",
    "    # Execute the SQL command\n",
    "        cursor_db.execute(sql)\n",
    "# Commit your changes in the database\n",
    "        conn.commit()\n",
    "    except:\n",
    "    # Rollback in case there is any error\n",
    "        print('Error')\n",
    "        conn.rollback()\n",
    "    "
   ]
  },
  {
   "cell_type": "code",
   "execution_count": null,
   "metadata": {
    "collapsed": true
   },
   "outputs": [],
   "source": [
    "leaves_dict = {'EMPID' : ['E001', 'E002', 'E003', 'E004'],\\\n",
    "               'LEAVE_DAYS' : [1.5, 2.0, 3.5, 1.0]}\n",
    "\n",
    "n = len(leaves_dict)\n",
    "\n",
    "for i in range(n):\n",
    "    \n",
    "    empid    = '%s' % leaves_dict['EMPID'][i]     \n",
    "    leaves   = leaves_dict['LEAVE_DAYS'][i] \n",
    "    \n",
    "    values_string = '(' + \"\\'\" + empid + \"\\',\" + str(leaves)+ ')'\n",
    "    \n",
    "    sql           = \"\"\"INSERT LEAVES (EMPID, LEAVE_DAYS)\\\n",
    "                    VALUES %s\"\"\" % (values_string)\n",
    "    print(sql)\n",
    "\n",
    "    try:\n",
    "    # Execute the SQL command\n",
    "        cursor_db.execute(sql)\n",
    "# Commit your changes in the database\n",
    "        conn.commit()\n",
    "    except:\n",
    "    # Rollback in case there is any error\n",
    "        print('Error')\n",
    "        conn.rollback()\n",
    "    "
   ]
  },
  {
   "cell_type": "code",
   "execution_count": null,
   "metadata": {
    "collapsed": true
   },
   "outputs": [],
   "source": [
    "print('Get a count of all records from the table, EMPLOYEE')\n",
    "sql = \"\"\"SELECT COUNT(*) FROM EMPLOYEE\"\"\"\n",
    "cursor_db.execute(sql)\n",
    "print('Fetch one record holding the count')\n",
    "results = cursor_db.fetchone()\n",
    "print('Count of records in EMPLOYEE table is ', results[0])\n"
   ]
  },
  {
   "cell_type": "code",
   "execution_count": null,
   "metadata": {
    "collapsed": true
   },
   "outputs": [],
   "source": [
    "print('Get a list of all records from the table, EMPLOYEE')\n",
    "sql = \"\"\"SELECT * FROM EMPLOYEE\"\"\"\n",
    "cursor_db.execute(sql)\n",
    "print('Fetch all the records')\n",
    "results = cursor_db.fetchall()\n",
    "\n",
    "for rec in results:\n",
    "    eid = rec[0]\n",
    "    fn  = rec[1]\n",
    "    ln  = rec[2]\n",
    "    age = rec[3]\n",
    "    sal = rec[4]\n",
    "    print(\"\\n Empid = %s, first_name = %s,last_name = %s,\\\n",
    "              age = %d, salary = %d\" % (eid, fn, ln, age, sal))"
   ]
  },
  {
   "cell_type": "code",
   "execution_count": null,
   "metadata": {
    "collapsed": true
   },
   "outputs": [],
   "source": [
    "print('Get a count of all records from the table, LEAVES')\n",
    "sql = \"\"\"SELECT COUNT(*) FROM LEAVES\"\"\"\n",
    "cursor_db.execute(sql)\n",
    "print('Fetch one record giving us the count')\n",
    "results = cursor_db.fetchone()\n",
    "print('Count of records in LEAVES table is ', results[0])\n"
   ]
  },
  {
   "cell_type": "code",
   "execution_count": null,
   "metadata": {
    "collapsed": true
   },
   "outputs": [],
   "source": [
    "print('Get a list of all records from the table, LEAVES')\n",
    "sql = \"\"\"SELECT * FROM LEAVES\"\"\"\n",
    "cursor_db.execute(sql)\n",
    "print('Fetch all the records')\n",
    "results = cursor_db.fetchall()\n",
    "\n",
    "for rec in results:\n",
    "    eid     = rec[0]\n",
    "    leaves  = rec[1]\n",
    "    print(\"\\n Empid = %s, leave_days = %3.1f\" % (eid, leaves))"
   ]
  },
  {
   "cell_type": "code",
   "execution_count": null,
   "metadata": {
    "collapsed": true
   },
   "outputs": [],
   "source": [
    "print('Get a list of all employees who availed leave')\n",
    "sql = \"\"\"SELECT EMPLOYEE.EMPID, EMPLOYEE.FIRST_NAME, EMPLOYEE.LAST_NAME,\\\n",
    "         LEAVES.LEAVE_DAYS \\\n",
    "         FROM EMPLOYEE, LEAVES\n",
    "         WHERE EMPLOYEE.EMPID = LEAVES.EMPID\"\"\"\n",
    "cursor_db.execute(sql)\n",
    "results = cursor_db.fetchall()\n",
    "\n",
    "print(\"\\nEmpID\\tFIRST_NAME\\tLAST_NAME\\tLEAVE_DAYS\")\n",
    "for rec in results:\n",
    "    eid     = rec[0]\n",
    "    fn      = rec[1]\n",
    "    ln      = rec[2]\n",
    "    leaves  = rec[3]\n",
    "    print(f\"{eid}'\\t'{fn}'\\t\\t'{ln}'\\t'{leaves}\")"
   ]
  },
  {
   "cell_type": "code",
   "execution_count": null,
   "metadata": {
    "collapsed": true
   },
   "outputs": [],
   "source": [
    "print('Get a list of all employees with availed leave details')\n",
    "sql = \"\"\"SELECT EMPLOYEE.EMPID, EMPLOYEE.FIRST_NAME, EMPLOYEE.LAST_NAME,\\\n",
    "         EMPLOYEE.AGE, EMPLOYEE.SALARY, \\\n",
    "         IFNULL(LEAVES.LEAVE_DAYS,0) \\\n",
    "         FROM EMPLOYEE  \\\n",
    "         LEFT JOIN LEAVES \\\n",
    "         ON EMPLOYEE.EMPID = LEAVES.EMPID\n",
    "         WHERE EMPLOYEE.AGE > 26\"\"\"\n",
    "cursor_db.execute(sql)\n",
    "results = cursor_db.fetchall()\n",
    "\n",
    "print(\"\\nEmpID\\tFIRST_NAME\\tLAST_NAME\\tAGE \\tSALARY\\t\\tLEAVE_DAYS\")\n",
    "for rec in results:\n",
    "    eid     = rec[0]\n",
    "    fn      = rec[1]\n",
    "    ln      = rec[2]\n",
    "    age     = rec[3]\n",
    "    salary  = rec[4]\n",
    "    leaves  = rec[5]\n",
    "    print('%4s\\t%s\\t\\t%s\\t\\t%2d\\t%8.2f\\t%5.2f'\\\n",
    "          %(eid, fn, ln, age, salary, leaves))"
   ]
  },
  {
   "cell_type": "code",
   "execution_count": null,
   "metadata": {
    "collapsed": true
   },
   "outputs": [],
   "source": [
    "sql           = \"\"\"UPDATE EMPLOYEE SET SALARY = %8.2f \\\n",
    "                   WHERE EMPID = %s\"\"\" \\\n",
    "                   % (56000.00, \"'E010'\") \n",
    "print(sql)\n",
    "try:\n",
    "    # Execute the SQL command\n",
    "    cursor_db.execute(sql)\n",
    "# Commit your changes in the database\n",
    "    conn.commit()\n",
    "except:\n",
    "# Rollback in case there is any error\n",
    "    print('Error')\n",
    "    conn.rollback()"
   ]
  },
  {
   "cell_type": "code",
   "execution_count": null,
   "metadata": {
    "collapsed": true
   },
   "outputs": [],
   "source": [
    "print('Get a list of all employees with availed leave details')\n",
    "sql = \"\"\"SELECT EMPLOYEE.EMPID, EMPLOYEE.FIRST_NAME, EMPLOYEE.LAST_NAME,\\\n",
    "         EMPLOYEE.AGE, EMPLOYEE.SALARY, \\\n",
    "         IFNULL(LEAVES.LEAVE_DAYS,0) \\\n",
    "         FROM EMPLOYEE  \\\n",
    "         LEFT JOIN LEAVES \\\n",
    "         ON EMPLOYEE.EMPID = LEAVES.EMPID\n",
    "         WHERE EMPLOYEE.AGE > 26\"\"\"\n",
    "cursor_db.execute(sql)\n",
    "results = cursor_db.fetchall()\n",
    "\n",
    "print(\"\\nEmpID\\tFIRST_NAME\\tLAST_NAME\\tAGE \\tSALARY\\t\\tLEAVE_DAYS\")\n",
    "for rec in results:\n",
    "    eid     = rec[0]\n",
    "    fn      = rec[1]\n",
    "    ln      = rec[2]\n",
    "    age     = rec[3]\n",
    "    salary  = rec[4]\n",
    "    leaves  = rec[5]\n",
    "    print('%4s\\t%s\\t\\t%s\\t\\t%2d\\t%8.2f\\t%5.2f'\\\n",
    "          %(eid, fn, ln, age, salary, leaves))"
   ]
  },
  {
   "cell_type": "code",
   "execution_count": null,
   "metadata": {
    "collapsed": true
   },
   "outputs": [],
   "source": [
    "sql           = \"\"\"DELETE FROM EMPLOYEE WHERE EMPID = %s\"\"\" \\\n",
    "                   % (\"'E010'\") \n",
    "print(sql)\n",
    "try:\n",
    "    # Execute the SQL command\n",
    "    cursor_db.execute(sql)\n",
    "# Commit your changes in the database\n",
    "    conn.commit()\n",
    "except:\n",
    "# Rollback in case there is any error\n",
    "    print('Error')\n",
    "    conn.rollback()"
   ]
  },
  {
   "cell_type": "code",
   "execution_count": null,
   "metadata": {
    "collapsed": true
   },
   "outputs": [],
   "source": [
    "print('Get a list of all employees with availed leave details')\n",
    "sql = \"\"\"SELECT EMPLOYEE.EMPID, EMPLOYEE.FIRST_NAME, EMPLOYEE.LAST_NAME,\\\n",
    "         EMPLOYEE.AGE, EMPLOYEE.SALARY, \\\n",
    "         IFNULL(LEAVES.LEAVE_DAYS,0) \\\n",
    "         FROM EMPLOYEE  \\\n",
    "         LEFT JOIN LEAVES \\\n",
    "         ON EMPLOYEE.EMPID = LEAVES.EMPID\n",
    "         WHERE EMPLOYEE.AGE > 26\"\"\"\n",
    "cursor_db.execute(sql)\n",
    "results = cursor_db.fetchall()\n",
    "\n",
    "print(\"\\nEmpID\\tFIRST_NAME\\tLAST_NAME\\tAGE \\tSALARY\\t\\tLEAVE_DAYS\")\n",
    "for rec in results:\n",
    "    eid     = rec[0]\n",
    "    fn      = rec[1]\n",
    "    ln      = rec[2]\n",
    "    age     = rec[3]\n",
    "    salary  = rec[4]\n",
    "    leaves  = rec[5]\n",
    "    print('%4s\\t%s\\t\\t%s\\t\\t%2d\\t%8.2f\\t%5.2f'\\\n",
    "          %(eid, fn, ln, age, salary, leaves))"
   ]
  },
  {
   "cell_type": "code",
   "execution_count": null,
   "metadata": {
    "collapsed": true
   },
   "outputs": [],
   "source": [
    "print('Disconnect from server and release resources')\n",
    "cursor_db.close()"
   ]
  },
  {
   "cell_type": "code",
   "execution_count": null,
   "metadata": {
    "collapsed": true
   },
   "outputs": [],
   "source": [
    "import json\n",
    "\n",
    "with open('sample.json', 'r') as f:\n",
    "    sample_dict = json.load(f)\n",
    "\n",
    "print('\\nDictionary from JSON object\\n') \n",
    "print(sample_dict)"
   ]
  },
  {
   "cell_type": "code",
   "execution_count": null,
   "metadata": {
    "collapsed": true
   },
   "outputs": [],
   "source": []
  },
  {
   "cell_type": "code",
   "execution_count": null,
   "metadata": {
    "collapsed": true
   },
   "outputs": [],
   "source": [
    "for _ in sample_dict:\n",
    "    print('Key:', _.keys())\n",
    "    print('\\nName:', _['Name'])"
   ]
  },
  {
   "cell_type": "code",
   "execution_count": null,
   "metadata": {
    "collapsed": true
   },
   "outputs": [],
   "source": [
    "sample_dict = {\"Name\"  : [\"Peter\",\"John\", \"Swetha\", \"Xavier\"], \"Age\" :  [27, 31, 33, 34],\\\n",
    "               \"Married\" : [False, True, True, True]}  \n",
    "print('sample_dict', sample_dict)"
   ]
  },
  {
   "cell_type": "code",
   "execution_count": null,
   "metadata": {
    "collapsed": true
   },
   "outputs": [],
   "source": [
    "import json\n",
    "json_string1 = json.dumps(sample_dict)\n",
    "print(\"JSON string\\n\", json_string1)"
   ]
  },
  {
   "cell_type": "code",
   "execution_count": null,
   "metadata": {
    "collapsed": true
   },
   "outputs": [],
   "source": [
    "with open('customer.json', 'w') as f: # writing JSON object\n",
    "    json.dump(json_string1, f)"
   ]
  },
  {
   "cell_type": "code",
   "execution_count": null,
   "metadata": {
    "collapsed": true
   },
   "outputs": [],
   "source": [
    "from os import path\n",
    "path.exists(\"customer.json\")"
   ]
  },
  {
   "cell_type": "code",
   "execution_count": null,
   "metadata": {
    "collapsed": true
   },
   "outputs": [],
   "source": [
    "import json\n",
    "json.loads('{ \"active\": true, \"age\": 34, \"name\": \"Benson\",\\\n",
    "               \"other_names\": [\"Peter Jr\",\"Ben\"],\"married\": true}')"
   ]
  },
  {
   "cell_type": "code",
   "execution_count": null,
   "metadata": {
    "collapsed": true
   },
   "outputs": [],
   "source": [
    "import json\n",
    "\n",
    "with open('customer.json', 'r') as f:\n",
    "    sample_dict = json.load(f)\n",
    "\n",
    "print('\\nDictionary from JSON object\\n') \n",
    "print(sample_dict)"
   ]
  },
  {
   "cell_type": "code",
   "execution_count": null,
   "metadata": {
    "collapsed": true
   },
   "outputs": [],
   "source": [
    "sample_JSON_object = {\"Name\": \"Peter\", \"Surname\" : \"John\", \"Age\": 27, \"Married\" : False}"
   ]
  },
  {
   "cell_type": "code",
   "execution_count": null,
   "metadata": {
    "collapsed": true
   },
   "outputs": [],
   "source": [
    "from pandas.io.json import json_normalize\n",
    "json_normalize(sample_JSON_object)"
   ]
  },
  {
   "cell_type": "code",
   "execution_count": null,
   "metadata": {
    "collapsed": true
   },
   "outputs": [],
   "source": [
    "def flatten_json(y):\n",
    "    out = {}\n",
    "\n",
    "    def flatten(x, name=''):\n",
    "        if type(x) is dict:\n",
    "            for a in x:\n",
    "                flatten(x[a], name + a + '_')\n",
    "        elif type(x) is list:\n",
    "            i = 0\n",
    "            for a in x:\n",
    "                flatten(a, name + str(i) + '_')\n",
    "                i += 1\n",
    "        else:\n",
    "            out[name[:-1]] = x\n",
    "\n",
    "    flatten(y)\n",
    "    return out"
   ]
  },
  {
   "cell_type": "code",
   "execution_count": null,
   "metadata": {
    "collapsed": true
   },
   "outputs": [],
   "source": [
    "sample_object1 = {\"Name\": \"Peter\",\"Age\": 27, \"Married\": False,\\\n",
    "                  \"Hobbies\" : [\"Reading\", \"GOlf\", \"Watch movies\"]}\n",
    "flat = flatten_json(sample_object1)\n",
    "json_normalize(flat)"
   ]
  },
  {
   "cell_type": "code",
   "execution_count": null,
   "metadata": {
    "collapsed": true
   },
   "outputs": [],
   "source": [
    "tuple1 = 123, 345, 556, 'Hi' # not surrounded by paranthesis\n",
    "print('tuple1', tuple1, 'type', type(tuple1))"
   ]
  },
  {
   "cell_type": "code",
   "execution_count": null,
   "metadata": {
    "collapsed": true
   },
   "outputs": [],
   "source": [
    "tuple2 = ('Arun','Ajay','Alex') # surrounded by paranthesis\n",
    "print('tuple2', tuple1, 'type', type(tuple2))"
   ]
  },
  {
   "cell_type": "code",
   "execution_count": null,
   "metadata": {
    "collapsed": true
   },
   "outputs": [],
   "source": [
    "empty_tuple = ()"
   ]
  },
  {
   "cell_type": "code",
   "execution_count": null,
   "metadata": {
    "collapsed": true
   },
   "outputs": [],
   "source": [
    "print(empty_tuple, type(empty_tuple))"
   ]
  },
  {
   "cell_type": "code",
   "execution_count": null,
   "metadata": {
    "collapsed": true
   },
   "outputs": [],
   "source": [
    "single_value = (4)  # without comma"
   ]
  },
  {
   "cell_type": "code",
   "execution_count": null,
   "metadata": {
    "collapsed": true
   },
   "outputs": [],
   "source": [
    "print(single_value, type(single_value))"
   ]
  },
  {
   "cell_type": "code",
   "execution_count": null,
   "metadata": {
    "collapsed": true
   },
   "outputs": [],
   "source": [
    "single_value = (4,)  # with comma"
   ]
  },
  {
   "cell_type": "code",
   "execution_count": null,
   "metadata": {
    "collapsed": true
   },
   "outputs": [],
   "source": [
    "print(single_value, type(single_value))"
   ]
  },
  {
   "cell_type": "code",
   "execution_count": null,
   "metadata": {
    "collapsed": true
   },
   "outputs": [],
   "source": [
    "x = 1\n",
    "y = 2\n",
    "z = 3\n",
    "x, y, z = z, y, x"
   ]
  },
  {
   "cell_type": "code",
   "execution_count": null,
   "metadata": {
    "collapsed": true
   },
   "outputs": [],
   "source": [
    "print('x', x)\n",
    "print('y', y)\n",
    "print('z', z)"
   ]
  },
  {
   "cell_type": "code",
   "execution_count": null,
   "metadata": {
    "collapsed": true
   },
   "outputs": [],
   "source": [
    "tuple1 = (1, 2, 3, 4, 5)\n",
    "print(tuple1, type(tuple1))"
   ]
  },
  {
   "cell_type": "code",
   "execution_count": null,
   "metadata": {
    "collapsed": true
   },
   "outputs": [],
   "source": [
    "tuple1 = ('A', 'B', 'C', 'D', 'E') # Reassignment\n",
    "print(tuple1, type(tuple1))"
   ]
  },
  {
   "cell_type": "code",
   "execution_count": null,
   "metadata": {
    "collapsed": true
   },
   "outputs": [],
   "source": [
    "try:\n",
    "    tuple1[0] = 'a'\n",
    "    \n",
    "except Exception as e:\n",
    "    print('\\nError')\n",
    "    print(e)"
   ]
  },
  {
   "cell_type": "code",
   "execution_count": null,
   "metadata": {
    "collapsed": true
   },
   "outputs": [],
   "source": [
    "x = ('John', 27, 'Lawyer') # pack to a tuple\n",
    "print(x, type(x))"
   ]
  },
  {
   "cell_type": "code",
   "execution_count": null,
   "metadata": {
    "collapsed": true
   },
   "outputs": [],
   "source": [
    "(name, age, profession) = x # unpack to variables\n",
    "print('name = ',name, 'age = ', age, 'profession = ', profession)"
   ]
  },
  {
   "cell_type": "code",
   "execution_count": null,
   "metadata": {
    "collapsed": true
   },
   "outputs": [],
   "source": [
    "tuple_n = ('Peter','John','Moses')\n",
    "tuple_n"
   ]
  },
  {
   "cell_type": "code",
   "execution_count": null,
   "metadata": {
    "collapsed": true
   },
   "outputs": [],
   "source": []
  },
  {
   "cell_type": "code",
   "execution_count": null,
   "metadata": {
    "collapsed": true
   },
   "outputs": [],
   "source": [
    "tuple_n[0] # Access its first element"
   ]
  },
  {
   "cell_type": "code",
   "execution_count": null,
   "metadata": {
    "collapsed": true
   },
   "outputs": [],
   "source": [
    "tuple_n[-1]  # to get last element"
   ]
  },
  {
   "cell_type": "code",
   "execution_count": null,
   "metadata": {
    "collapsed": true
   },
   "outputs": [],
   "source": [
    "print(tuple_n[0 : 2])  # to get first two elements using positive index\n",
    "print(tuple_n[-2:])  # to get upto last two elements using negative index\n",
    "print(tuple_n[-2 : -1]) # to get second last element using negative index"
   ]
  },
  {
   "cell_type": "code",
   "execution_count": null,
   "metadata": {
    "collapsed": true
   },
   "outputs": [],
   "source": [
    "del tuple_n"
   ]
  },
  {
   "cell_type": "code",
   "execution_count": null,
   "metadata": {
    "collapsed": true
   },
   "outputs": [],
   "source": [
    "try:\n",
    "    print(tuple_n)\n",
    "except Exception as e:\n",
    "    print('\\nError:', end = ',')\n",
    "    print(e)"
   ]
  },
  {
   "cell_type": "code",
   "execution_count": null,
   "metadata": {
    "collapsed": true
   },
   "outputs": [],
   "source": [
    "tuple_numeric = (12, 14, 13, 11, 20, 43, 49, 98)\n",
    "ln            = len(tuple_numeric) # ln is the length of the tuple\n",
    "mx            = max(tuple_numeric) # mx is the highest value in the tuple\n",
    "mn            = min(tuple_numeric) # mn is the lowest value in the tuple\n",
    "sm            = sum(tuple_numeric) # sm is the sum of all items in the tuple\n",
    "print('\\ntuple\\n')\n",
    "print('length of tuple: ', ln)\n",
    "print('max value of tuple: ', mx)\n",
    "print('minimum value of tuple: ', mn)\n",
    "print('sum of all values of tuple: ', sm)"
   ]
  },
  {
   "cell_type": "code",
   "execution_count": null,
   "metadata": {
    "collapsed": true
   },
   "outputs": [],
   "source": [
    "sorted(tuple_numeric)"
   ]
  },
  {
   "cell_type": "code",
   "execution_count": null,
   "metadata": {
    "collapsed": true
   },
   "outputs": [],
   "source": [
    "tuple_bool = [0, 1, 0, 1, 1] # 0 denotes True and 1 denotes False\n",
    "print('\\nany: ', any(tuple_bool))\n",
    "print('\\nall: ', all(tuple_bool))"
   ]
  },
  {
   "cell_type": "code",
   "execution_count": null,
   "metadata": {
    "collapsed": true
   },
   "outputs": [],
   "source": [
    "tuple_bool.index(1)"
   ]
  },
  {
   "cell_type": "code",
   "execution_count": null,
   "metadata": {
    "collapsed": true
   },
   "outputs": [],
   "source": [
    "tuple_bool.count(1)"
   ]
  },
  {
   "cell_type": "markdown",
   "metadata": {},
   "source": [
    "Tuple operations\n",
    "a. Membership informs us whether the given item appears in the tuple.\n",
    "b. Concatenation joins two tuples using the operator, +.\n",
    "c.  Logical operators such as >, <, >=, ... can be applied on a tuple and it returns True or False.\n",
    "d. Identity operator is returns True, if the two operands have the same idenity where as is not returns True if the two operands have the same identity."
   ]
  },
  {
   "cell_type": "code",
   "execution_count": null,
   "metadata": {
    "collapsed": true
   },
   "outputs": [],
   "source": [
    "a = 'S'\n",
    "tuple_a = tuple(a)\n",
    "print('tuple_a: ', tuple_a, 'type: ', type(tuple_a))"
   ]
  },
  {
   "cell_type": "code",
   "execution_count": null,
   "metadata": {
    "collapsed": true
   },
   "outputs": [],
   "source": [
    "tuple_numeric = (12, 14, 13, 11, 20, 43, 49, 98)\n",
    "tuple_numeric1 = (100, 200)\n",
    "\n",
    "print(tuple_numeric)\n",
    "print(10 in tuple_numeric) # in operator\n",
    "print(100 not in tuple_numeric) # not in operator\n",
    "print('concatenate using + ', tuple_numeric + tuple_numeric1) # concatenate two tuples\n",
    "print('tuple_numeric < tuple_numeric1 ',  tuple_numeric < tuple_numeric1) # Logical operator <\n",
    "print('tuple_numeric is tuple_numeric1 ',  tuple_numeric is tuple_numeric1) # identity opertor"
   ]
  },
  {
   "cell_type": "code",
   "execution_count": null,
   "metadata": {
    "collapsed": true
   },
   "outputs": [],
   "source": [
    "tuple_numeric = (12, 14, 13, 11, 20, 43, 49, 98)\n",
    "for i in tuple_numeric:\n",
    "    print(\"i = \",i)"
   ]
  },
  {
   "cell_type": "code",
   "execution_count": null,
   "metadata": {
    "collapsed": true
   },
   "outputs": [],
   "source": [
    "list1  = [1,2,3, 44, 55, 67, 770] # elements enclosed within []\n",
    "tuple1 = (1,33, 55, 66, 'A', 'B') # elements of different data types\n",
    "list2  = list(tuple1)  # convert tuple to a list \n",
    "list   = [list1, list2] # nested lists"
   ]
  },
  {
   "cell_type": "code",
   "execution_count": null,
   "metadata": {
    "collapsed": true
   },
   "outputs": [],
   "source": [
    "print('list1: ', list1, 'type: ', type(list1))\n",
    "print('list2: ', list2, 'type: ', type(list2))\n",
    "print('list:  ', list, 'type: ', type(list))"
   ]
  },
  {
   "cell_type": "code",
   "execution_count": null,
   "metadata": {
    "collapsed": true
   },
   "outputs": [],
   "source": [
    "empty_list = []\n",
    "print('empty_list: ', empty_list, 'type: ', type(empty_list))"
   ]
  },
  {
   "cell_type": "code",
   "execution_count": null,
   "metadata": {
    "collapsed": true
   },
   "outputs": [],
   "source": [
    "single_Value_list = [12]\n",
    "print('single_Value_list: ', single_Value_list, 'type: ', type(single_Value_list))"
   ]
  },
  {
   "cell_type": "code",
   "execution_count": null,
   "metadata": {
    "collapsed": true
   },
   "outputs": [],
   "source": [
    "[a, b, c] = [[1,2,23], ['aa','bb','cc'],[1,2,3]]\n",
    "print('a: ', a, 'type(a): ', type(a))\n",
    "print('b: ', b, 'type(b): ', type(b))\n",
    "print('c: ', c, 'type(c): ', type(c))"
   ]
  },
  {
   "cell_type": "code",
   "execution_count": null,
   "metadata": {
    "collapsed": true
   },
   "outputs": [],
   "source": [
    "first, *others = range(0, 1000, 2)\n",
    "print('first: ', first, ' type: ', type(first))"
   ]
  },
  {
   "cell_type": "code",
   "execution_count": null,
   "metadata": {
    "collapsed": true
   },
   "outputs": [],
   "source": [
    "first, *others, last = range(0, 1000, 2)\n",
    "print('first: ', first, ' type: ', type(first))\n",
    "print('last:  ', last,  ' type: ', type(last))"
   ]
  },
  {
   "cell_type": "code",
   "execution_count": null,
   "metadata": {
    "collapsed": true
   },
   "outputs": [],
   "source": [
    "print('others:  ', others,  ' type: ', type(others))"
   ]
  },
  {
   "cell_type": "code",
   "execution_count": null,
   "metadata": {
    "collapsed": true
   },
   "outputs": [],
   "source": [
    "a, _, b, _, c, _, *_ = range(0, 100, 4)\n",
    "print('a: ', a, ' type: ', type(a))\n",
    "print('b: ', b, ' type: ', type(b))\n",
    "print('c: ', c, ' type: ', type(c))"
   ]
  },
  {
   "cell_type": "code",
   "execution_count": null,
   "metadata": {
    "collapsed": true
   },
   "outputs": [],
   "source": [
    "list_numbers = [1, 2 , 3, 4 ,5, 6, 7, 8, 9, 10]\n",
    "print('list_numbers: ', list_numbers, 'type: ', type(list_numbers))"
   ]
  },
  {
   "cell_type": "code",
   "execution_count": null,
   "metadata": {
    "collapsed": true
   },
   "outputs": [],
   "source": [
    "list_numbers[1] # to access the second element"
   ]
  },
  {
   "cell_type": "code",
   "execution_count": null,
   "metadata": {
    "collapsed": true
   },
   "outputs": [],
   "source": [
    "list_numbers[-1] # to access the last element"
   ]
  },
  {
   "cell_type": "code",
   "execution_count": null,
   "metadata": {
    "collapsed": true
   },
   "outputs": [],
   "source": [
    "list_numbers = [1, 2 , 3, 4 ,5, 6, 7, 8, 9, 10]\n",
    "print(list_numbers[0:2])  # to get first two elements using positive index\n",
    "print(list_numbers[-2:])  # to get upto last two elements using negative index\n",
    "print(list_numbers[-2:-1]) # to get second last element using negative index"
   ]
  },
  {
   "cell_type": "code",
   "execution_count": null,
   "metadata": {
    "collapsed": true
   },
   "outputs": [],
   "source": [
    "fruits = ['apple', 'orange', 'banana', 'pineapple']\n",
    "fruits = ['apple',  'banana', 'orange','pear', 'pineapple'] # Reassign a new list\n",
    "print('new list ',fruits, 'type ', type(fruits))"
   ]
  },
  {
   "cell_type": "code",
   "execution_count": null,
   "metadata": {
    "collapsed": true
   },
   "outputs": [],
   "source": [
    "fruits[4:] = ['Pomegranate', 'Grape']\n",
    "print('new list ',fruits, 'type ', type(fruits))"
   ]
  },
  {
   "cell_type": "code",
   "execution_count": null,
   "metadata": {
    "collapsed": true
   },
   "outputs": [],
   "source": [
    "fruits[2] = 'Cherry'\n",
    "print('new list ',fruits, 'type ', type(fruits))"
   ]
  },
  {
   "cell_type": "code",
   "execution_count": null,
   "metadata": {
    "collapsed": true
   },
   "outputs": [],
   "source": [
    "del fruits[2] # delete a slice\n",
    "print('remaining List ',fruits, 'type ', type(fruits)) # Cherry is deleted"
   ]
  },
  {
   "cell_type": "code",
   "execution_count": null,
   "metadata": {
    "collapsed": true
   },
   "outputs": [],
   "source": [
    "del fruits"
   ]
  },
  {
   "cell_type": "code",
   "execution_count": null,
   "metadata": {
    "collapsed": true
   },
   "outputs": [],
   "source": [
    "try:\n",
    "    print(fruits)\n",
    "except Exception as e:\n",
    "    print('\\nError:', end = ',')\n",
    "    print(e)"
   ]
  },
  {
   "cell_type": "code",
   "execution_count": null,
   "metadata": {
    "collapsed": true
   },
   "outputs": [],
   "source": [
    "list1 = [ 1, 2, 3, 4, 5, 6, 7, 8, 9, 10]\n",
    "list2 = [22, 33, 44, 55, 66]\n",
    "list  = list1 + list2\n",
    "print('list1: ', list1, 'type ', type(list1))\n",
    "print('list2: ', list2, 'type ', type(list2))\n",
    "print('list:  ', list,  'type ', type(list))"
   ]
  },
  {
   "cell_type": "code",
   "execution_count": null,
   "metadata": {
    "collapsed": true
   },
   "outputs": [],
   "source": [
    "list_zeros = [0] * 10\n",
    "print('list_zeros: ', list_zeros, 'type ', type(list_zeros))"
   ]
  },
  {
   "cell_type": "code",
   "execution_count": null,
   "metadata": {
    "collapsed": true
   },
   "outputs": [],
   "source": [
    "list1 = [ 1, 2, 3, 4, 5, 6, 7, 8, 9, 10]\n",
    "print('5 in list1 ', 5 in list1)        # using in operator\n",
    "print('50 not in list1 ', 50 not in list1)  # using not in operator"
   ]
  },
  {
   "cell_type": "code",
   "execution_count": null,
   "metadata": {
    "collapsed": true
   },
   "outputs": [],
   "source": [
    "for i in list1:\n",
    "    if i % 2 == 0:\n",
    "        print('i = ', i,' is even')\n",
    "    else:\n",
    "        print('i = ', i,' is odd')       "
   ]
  },
  {
   "cell_type": "code",
   "execution_count": null,
   "metadata": {
    "collapsed": true
   },
   "outputs": [],
   "source": [
    "odd_number_list = [i for i in range(10) if i%2 != 0]\n",
    "print('odd_number_list ', odd_number_list , 'type', type(odd_number_list ))"
   ]
  },
  {
   "cell_type": "code",
   "execution_count": null,
   "metadata": {
    "collapsed": true
   },
   "outputs": [],
   "source": [
    "list_numeric = [12, 14, 13, 11, 20, 43, 49, 98]\n",
    "ln            = len(list_numeric) # ln is the length of the list\n",
    "mx            = max(list_numeric) # mx is the highest value in the list\n",
    "mn            = min(list_numeric) # mn is the lowest value in the list\n",
    "sm            = sum(list_numeric) # sm is the sum of all items in the list\n",
    "print('\\nlist\\n')\n",
    "print('length of list: ', ln)\n",
    "print('max value of list: ', mx)\n",
    "print('minimum value of list: ', mn)\n",
    "print('sum of all values of list: ', sm)"
   ]
  },
  {
   "cell_type": "code",
   "execution_count": null,
   "metadata": {
    "collapsed": true
   },
   "outputs": [],
   "source": [
    "sorted(list_numeric)"
   ]
  },
  {
   "cell_type": "code",
   "execution_count": null,
   "metadata": {
    "collapsed": true
   },
   "outputs": [],
   "source": [
    "list_bool = [0, 1, 0, 1, 1] # 0 denotes True and 1 denotes False\n",
    "print('\\nany: ', any(list_bool))\n",
    "print('\\nall: ', all(list_bool))"
   ]
  },
  {
   "cell_type": "code",
   "execution_count": null,
   "metadata": {
    "collapsed": true
   },
   "outputs": [],
   "source": [
    "print([chr(i) for i in range(ord('a'),ord('z')+1)], end = ',')"
   ]
  },
  {
   "cell_type": "code",
   "execution_count": 1,
   "metadata": {},
   "outputs": [
    {
     "name": "stdout",
     "output_type": "stream",
     "text": [
      "\n",
      "tuple1:  (1, 33, 55, 66, 'A', 'B')  type  <class 'tuple'>\n"
     ]
    }
   ],
   "source": [
    "tuple1 = (1, 33, 55, 66, 'A', 'B'\") # elements of different data types\n",
    "print('\\ntuple1: ', tuple1, ' type ', type(tuple1))"
   ]
  },
  {
   "cell_type": "code",
   "execution_count": 2,
   "metadata": {},
   "outputs": [
    {
     "name": "stdout",
     "output_type": "stream",
     "text": [
      "\n",
      "list1 :  ['A', 'B', 'C']  type  <class 'list'>\n"
     ]
    }
   ],
   "source": [
    "list1   = list(\"ABC\")\n",
    "print('\\nlist1 : ', list1,  ' type ', type(list1))"
   ]
  },
  {
   "cell_type": "code",
   "execution_count": null,
   "metadata": {
    "collapsed": true
   },
   "outputs": [],
   "source": [
    "list1   = list(\"ABC\")\n",
    "print('\\nlist1 : ', list1,  ' type ', type(list1))"
   ]
  },
  {
   "cell_type": "code",
   "execution_count": 11,
   "metadata": {},
   "outputs": [
    {
     "name": "stdout",
     "output_type": "stream",
     "text": [
      "list_numeric.append(100) [12, 14, 13, 11, 20, 20, 20, 43, 49, 98, 100]\n"
     ]
    }
   ],
   "source": [
    "list_numeric = [12, 14, 13, 11, 20, 20, 20, 43, 49, 98]\n",
    "list_numeric.append(100)     # adds an item to the end of the list \n",
    "print('list_numeric.append(100)', list_numeric)"
   ]
  },
  {
   "cell_type": "code",
   "execution_count": 3,
   "metadata": {},
   "outputs": [
    {
     "name": "stdout",
     "output_type": "stream",
     "text": [
      "list_numeric.insert(1,10) [12, 10, 14, 13, 11, 20, 20, 20, 43, 49, 98, 100]\n"
     ]
    }
   ],
   "source": [
    "list_numeric.insert(1,10)    #inserts an item 10 at a specified position, 1\n",
    "print('list_numeric.insert(1,10)', list_numeric)"
   ]
  },
  {
   "cell_type": "code",
   "execution_count": 4,
   "metadata": {},
   "outputs": [
    {
     "name": "stdout",
     "output_type": "stream",
     "text": [
      "list_numeric.remove(100) [12, 10, 14, 13, 11, 20, 20, 20, 43, 49, 98]\n"
     ]
    }
   ],
   "source": [
    "list_numeric.remove(100)     #removes the first instance of an item from the python list\n",
    "print('list_numeric.remove(100)', list_numeric)"
   ]
  },
  {
   "cell_type": "code",
   "execution_count": 5,
   "metadata": {},
   "outputs": [
    {
     "name": "stdout",
     "output_type": "stream",
     "text": [
      "list_numeric.pop(1) [12, 14, 13, 11, 20, 20, 20, 43, 49, 98]\n"
     ]
    }
   ],
   "source": [
    "list_numeric.pop(1)          #removes the element at the specified index, 1 \n",
    "print('list_numeric.pop(1)', list_numeric)"
   ]
  },
  {
   "cell_type": "code",
   "execution_count": 6,
   "metadata": {},
   "outputs": [
    {
     "name": "stdout",
     "output_type": "stream",
     "text": [
      "list_numeric.sort() [11, 12, 13, 14, 20, 20, 20, 43, 49, 98]\n"
     ]
    }
   ],
   "source": [
    "list_numeric.sort()      #sorts the list in an ascending order\n",
    "print('list_numeric.sort()', list_numeric)"
   ]
  },
  {
   "cell_type": "code",
   "execution_count": 7,
   "metadata": {},
   "outputs": [
    {
     "name": "stdout",
     "output_type": "stream",
     "text": [
      "list_numeric.reverse() [98, 49, 43, 20, 20, 20, 14, 13, 12, 11]\n"
     ]
    }
   ],
   "source": [
    "list_numeric.reverse()   #reverses the order of elements in the Python lists\n",
    "print('list_numeric.reverse()', list_numeric)"
   ]
  },
  {
   "cell_type": "code",
   "execution_count": 12,
   "metadata": {},
   "outputs": [
    {
     "name": "stdout",
     "output_type": "stream",
     "text": [
      "list_numeric.index(14) 1\n"
     ]
    }
   ],
   "source": [
    "list_numeric.index(14)     #returns the first matching index of the specified item\n",
    "print('list_numeric.index(14)', list_numeric.index(14))"
   ]
  },
  {
   "cell_type": "code",
   "execution_count": 13,
   "metadata": {},
   "outputs": [
    {
     "name": "stdout",
     "output_type": "stream",
     "text": [
      "list_numeric.count(20) 3\n"
     ]
    }
   ],
   "source": [
    "list_numeric.count(20)     #returns the count of the specified item\n",
    "print('list_numeric.count(20)', list_numeric.count(20))"
   ]
  },
  {
   "cell_type": "code",
   "execution_count": 14,
   "metadata": {},
   "outputs": [
    {
     "name": "stdout",
     "output_type": "stream",
     "text": [
      "list_numeric.clear() []\n"
     ]
    }
   ],
   "source": [
    "list_numeric.clear()     #empties the python list\n",
    "print('list_numeric.clear()', list_numeric)"
   ]
  },
  {
   "cell_type": "code",
   "execution_count": 15,
   "metadata": {},
   "outputs": [
    {
     "name": "stdout",
     "output_type": "stream",
     "text": [
      "set_1:  {1, 2, 3, 4.5, 'S', (1, 2, 3)} type  <class 'set'>\n"
     ]
    }
   ],
   "source": [
    "set_1 = {1, 2, 3, 'S', (1,2,3), 4.5} \n",
    "print('set_1: ', set_1, 'type ', type(set_1))"
   ]
  },
  {
   "cell_type": "code",
   "execution_count": null,
   "metadata": {
    "collapsed": true
   },
   "outputs": [],
   "source": [
    "clear()"
   ]
  },
  {
   "cell_type": "code",
   "execution_count": 18,
   "metadata": {},
   "outputs": [
    {
     "name": "stdout",
     "output_type": "stream",
     "text": [
      "empty_set set() type  <class 'set'>\n"
     ]
    }
   ],
   "source": [
    "empty_set = set()\n",
    "print('empty_set', empty_set, 'type ', type(empty_set))"
   ]
  },
  {
   "cell_type": "code",
   "execution_count": 19,
   "metadata": {},
   "outputs": [
    {
     "name": "stdout",
     "output_type": "stream",
     "text": [
      "empty_set_wrong {} type  <class 'dict'>\n"
     ]
    }
   ],
   "source": [
    "empty_set_wrong = {} # This will create a empty dictionary\n",
    "print('empty_set_wrong', empty_set_wrong, 'type ', type(empty_set_wrong))"
   ]
  },
  {
   "cell_type": "code",
   "execution_count": 1,
   "metadata": {},
   "outputs": [
    {
     "name": "stdout",
     "output_type": "stream",
     "text": [
      "set_1:  {1, 2, 3, 'S', 4.5, 44, (1, 2, 3)} type  <class 'set'>\n"
     ]
    }
   ],
   "source": [
    "set_1 = {1, 2, 3, 'S', (1,2,3), 4.5} \n",
    "set_1.add(44) \n",
    "print('set_1: ', set_1, 'type ', type(set_1))"
   ]
  },
  {
   "cell_type": "code",
   "execution_count": 2,
   "metadata": {},
   "outputs": [
    {
     "name": "stdout",
     "output_type": "stream",
     "text": [
      "set_1:  {1, 2, 3, 'S', 4.5, 900, 901, 902, (1, 2, 3)} type  <class 'set'>\n"
     ]
    }
   ],
   "source": [
    "set_1 = {1, 2, 3, 'S', (1,2,3), 4.5} \n",
    "set_1.update({900, 901, 902})\n",
    "print('set_1: ', set_1, 'type ', type(set_1))"
   ]
  },
  {
   "cell_type": "code",
   "execution_count": 3,
   "metadata": {},
   "outputs": [
    {
     "name": "stdout",
     "output_type": "stream",
     "text": [
      "set_duplicates:  {1, 2, 3, 4} type  <class 'set'>\n"
     ]
    }
   ],
   "source": [
    "set_duplicates = {1, 1, 1, 2, 2, 3, 4} # duplicates are removed\n",
    "print('set_duplicates: ', set_duplicates, 'type ', type(set_duplicates))"
   ]
  },
  {
   "cell_type": "code",
   "execution_count": 4,
   "metadata": {},
   "outputs": [
    {
     "name": "stdout",
     "output_type": "stream",
     "text": [
      "set_2:  None type  <class 'NoneType'>\n"
     ]
    }
   ],
   "source": [
    "set_1 = {1, 2, 3, 'S', (1,2,3), 4.5} \n",
    "set_2 = set_1.add(45)\n",
    "print('set_2: ', set_2, 'type ', type(set_2))"
   ]
  },
  {
   "cell_type": "code",
   "execution_count": 1,
   "metadata": {
    "collapsed": true
   },
   "outputs": [],
   "source": [
    "set_n = {10, 9, 8}\n",
    "set_n.clear() # clear() to remove all elements from a set"
   ]
  },
  {
   "cell_type": "code",
   "execution_count": 2,
   "metadata": {},
   "outputs": [
    {
     "name": "stdout",
     "output_type": "stream",
     "text": [
      "set_n:  set() type  <class 'set'>\n"
     ]
    }
   ],
   "source": [
    "print('set_n: ', set_n, 'type ', type(set_n))"
   ]
  },
  {
   "cell_type": "code",
   "execution_count": 8,
   "metadata": {},
   "outputs": [
    {
     "name": "stdout",
     "output_type": "stream",
     "text": [
      "set_B.difference(set_A) set()\n",
      "set_A.difference(set_B) {'Apple'}\n",
      "set_B.issubset(set_A) True\n",
      "set_A.issubset(set_B) False\n",
      "set_B.issuperset(set_A) False\n",
      "set_A.issuperset(set_B) True\n"
     ]
    }
   ],
   "source": [
    "set_A = {'Apple', 'Banana', 'Orange'}\n",
    "set_B = {'Banana', 'Orange'}\n",
    "\n",
    "### to find the difference between two sets\n",
    "print('set_B.difference(set_A)', set_B.difference(set_A)) \n",
    "print('set_A.difference(set_B)', set_A.difference(set_B)) \n",
    "\n",
    "### issubset() to test if the given set is a subset of another set\n",
    "print('set_B.issubset(set_A)', set_B.issubset(set_A)) \n",
    "print('set_A.issubset(set_B)', set_A.issubset(set_B)) \n",
    "\n",
    "### issuperset() to test if the given set is a super set\n",
    "print('set_B.issuperset(set_A)', set_B.issuperset(set_A)) \n",
    "print('set_A.issuperset(set_B)', set_A.issuperset(set_B))\n"
   ]
  },
  {
   "cell_type": "code",
   "execution_count": 10,
   "metadata": {},
   "outputs": [
    {
     "name": "stdout",
     "output_type": "stream",
     "text": [
      "set_A | set_B) {'Pineapple', 'Grape', 'Banana', 'Apple', 'Orange'}\n",
      "set_A & set_B) {'Banana', 'Orange'}\n",
      "set_A - set_B) {'Apple'}\n",
      "set_A ^ set_B) {'Grape', 'Apple', 'Pineapple'}\n"
     ]
    }
   ],
   "source": [
    "set_A = {'Apple', 'Banana', 'Orange'}\n",
    "set_B = {'Banana', 'Orange', 'Grape', 'Pineapple'}\n",
    "print('set_A | set_B)', set_A | set_B) # union operator\n",
    "print('set_A & set_B)', set_A & set_B) # intersection operator\n",
    "print('set_A - set_B)', set_A - set_B) # Difference operator\n",
    "print('set_A ^ set_B)', set_A ^ set_B) # Symmetric Difference operator"
   ]
  },
  {
   "cell_type": "code",
   "execution_count": 5,
   "metadata": {},
   "outputs": [
    {
     "name": "stdout",
     "output_type": "stream",
     "text": [
      "set_n:  {9, 10} type  <class 'set'>\n"
     ]
    }
   ],
   "source": [
    "set_n = {10, 9, 8}\n",
    "set_n.remove(8) # remove() to remove elements from a set\n",
    "print('set_n: ', set_n, 'type ', type(set_n))"
   ]
  },
  {
   "cell_type": "code",
   "execution_count": 19,
   "metadata": {},
   "outputs": [
    {
     "name": "stdout",
     "output_type": "stream",
     "text": [
      "-10\n",
      "3\n"
     ]
    }
   ],
   "source": [
    "import math\n",
    "nn = -10.8\n",
    "np = 3.5\n",
    "print(math.trunc(nn))\n",
    "print(math.trunc(np))"
   ]
  },
  {
   "cell_type": "code",
   "execution_count": 1,
   "metadata": {},
   "outputs": [
    {
     "name": "stdout",
     "output_type": "stream",
     "text": [
      "preference_dict:  {'furits': ['Apple', 'Banana', 'Orange', 'Grapes']} type:  <class 'dict'>\n"
     ]
    }
   ],
   "source": [
    "preference_dict = {'furits' : ['Apple', 'Banana', 'Orange', 'Grapes']}\n",
    "print('preference_dict: ', preference_dict, 'type: ', type(preference_dict))"
   ]
  },
  {
   "cell_type": "code",
   "execution_count": 2,
   "metadata": {},
   "outputs": [
    {
     "name": "stdout",
     "output_type": "stream",
     "text": [
      "dict_n:  {} type:  <class 'dict'>\n"
     ]
    }
   ],
   "source": [
    "dict_n = {}\n",
    "print('dict_n: ', dict_n, 'type: ', type(dict_n))"
   ]
  },
  {
   "cell_type": "code",
   "execution_count": 5,
   "metadata": {},
   "outputs": [
    {
     "name": "stdout",
     "output_type": "stream",
     "text": [
      "Using key to access dictionary elements\n",
      "name_dictn:  Pandian type:  <class 'str'>\n",
      "\n",
      "Using get() method to access dictionary elements\n",
      "name_dictg:  Pandian type:  <class 'str'>\n"
     ]
    }
   ],
   "source": [
    "preference_dict = {'Name': 'Pandian', 'furits' : ['Apple', 'Banana', 'Orange', 'Grapes']}\n",
    "name_dictn       = preference_dict['Name']\n",
    "print('Using key to access dictionary elements')\n",
    "print('name_dictn: ', name_dictn, 'type: ', type(name_dictn))\n",
    "\n",
    "name_dictg       = preference_dict.get('Name')\n",
    "print('\\nUsing get() method to access dictionary elements')\n",
    "print('name_dictg: ', name_dictg, 'type: ', type(name_dictg))"
   ]
  },
  {
   "cell_type": "code",
   "execution_count": 11,
   "metadata": {},
   "outputs": [
    {
     "name": "stdout",
     "output_type": "stream",
     "text": [
      "after adding dictionary elements\n",
      "preference_dict:  {'Name': 'Pandian', 'furits': ['Apple', 'Banana', 'Orange', 'Grapes'], 'Age': 27} type:  <class 'dict'>\n"
     ]
    }
   ],
   "source": [
    "preference_dict          = {'Name': 'Pandian', 'furits' : ['Apple', 'Banana', 'Orange', 'Grapes']}\n",
    "preference_dict['Age']   = 27\n",
    "print('after adding dictionary elements')\n",
    "print('preference_dict: ', preference_dict, 'type: ', type(preference_dict))"
   ]
  },
  {
   "cell_type": "code",
   "execution_count": 7,
   "metadata": {},
   "outputs": [
    {
     "name": "stdout",
     "output_type": "stream",
     "text": [
      "after updating dictionary elements\n",
      "preference_dict:  {'Name': 'Pandian', 'furits': ['Apple', 'Banana', 'Orange', 'Grapes'], 'Age': 57} type:  <class 'dict'>\n"
     ]
    }
   ],
   "source": [
    "preference_dict['Age']   = 57\n",
    "print('after updating dictionary elements')\n",
    "print('preference_dict: ', preference_dict, 'type: ', type(preference_dict))"
   ]
  },
  {
   "cell_type": "code",
   "execution_count": 8,
   "metadata": {},
   "outputs": [
    {
     "name": "stdout",
     "output_type": "stream",
     "text": [
      "after deleting dictionary key \"Age\"\n",
      "preference_dict:  {'Name': 'Pandian', 'furits': ['Apple', 'Banana', 'Orange', 'Grapes']} type:  <class 'dict'>\n"
     ]
    }
   ],
   "source": [
    "del preference_dict['Age']\n",
    "print('after deleting dictionary key \"Age\"')\n",
    "print('preference_dict: ', preference_dict, 'type: ', type(preference_dict))"
   ]
  },
  {
   "cell_type": "code",
   "execution_count": 12,
   "metadata": {},
   "outputs": [
    {
     "name": "stdout",
     "output_type": "stream",
     "text": [
      "\n",
      "Error in statement: > name 'preference_dict' is not defined\n"
     ]
    }
   ],
   "source": [
    "del preference_dict\n",
    "\n",
    "### Check if we have removed the dictionary\n",
    "\n",
    "try:\n",
    "    print(preference_dict)\n",
    "    \n",
    "except Exception as e:\n",
    "    print('\\nError in statement: ', end = '> ')\n",
    "    print(e)"
   ]
  },
  {
   "cell_type": "code",
   "execution_count": 14,
   "metadata": {},
   "outputs": [
    {
     "name": "stdout",
     "output_type": "stream",
     "text": [
      "preference_dict_copy:  {'Name': 'Pandian', 'furits': ['Apple', 'Banana', 'Orange', 'Grapes']} type:  <class 'dict'>\n"
     ]
    }
   ],
   "source": [
    "### copy() returns a shallow copy of the dictionary\n",
    "\n",
    "preference_dict          = {'Name': 'Pandian', 'furits' : ['Apple', 'Banana', 'Orange', 'Grapes']}\n",
    "preference_dict_copy     = preference_dict.copy()\n",
    "print('preference_dict_copy: ', preference_dict_copy, 'type: ', type(preference_dict_copy))"
   ]
  },
  {
   "cell_type": "code",
   "execution_count": 15,
   "metadata": {},
   "outputs": [
    {
     "name": "stdout",
     "output_type": "stream",
     "text": [
      "{}\n"
     ]
    }
   ],
   "source": [
    "### clear() removes all items from the dictionary\n",
    "\n",
    "preference_dict_copy.clear() \n",
    "\n",
    "### Check if we have removed all the elements from the dictionary\n",
    "\n",
    "try:\n",
    "    print(preference_dict_copy)\n",
    "    \n",
    "except Exception as e:\n",
    "    print('\\nError in statement: ', end = '> ')\n",
    "    print(e)"
   ]
  },
  {
   "cell_type": "code",
   "execution_count": 16,
   "metadata": {},
   "outputs": [
    {
     "name": "stdout",
     "output_type": "stream",
     "text": [
      "\n",
      "Before pop()\n",
      "preference_dict:  {'Name': 'Pandian', 'furits': ['Apple', 'Banana', 'Orange', 'Grapes'], 'Age': 27} type:  <class 'dict'>\n",
      "\n",
      "After pop('Age')\n",
      "preference_dict:  {'Name': 'Pandian', 'furits': ['Apple', 'Banana', 'Orange', 'Grapes']} type:  <class 'dict'>\n"
     ]
    }
   ],
   "source": [
    "### pop() removes and returns an element from a dictionary given a key\n",
    "preference_dict          = {'Name': 'Pandian', 'furits' : ['Apple', 'Banana', 'Orange', 'Grapes']}\n",
    "preference_dict['Age']   = 27\n",
    "print('\\nBefore pop()')\n",
    "print('preference_dict: ', preference_dict, 'type: ', type(preference_dict))\n",
    "preference_dict.pop('Age')\n",
    "print(\"\\nAfter pop('Age')\")\n",
    "print('preference_dict: ', preference_dict, 'type: ', type(preference_dict))"
   ]
  },
  {
   "cell_type": "code",
   "execution_count": 20,
   "metadata": {},
   "outputs": [
    {
     "name": "stdout",
     "output_type": "stream",
     "text": [
      "\n",
      "Before pop()\n",
      "preference_dict:  {'Name': 'Pandian', 'furits': ['Apple', 'Banana', 'Orange', 'Grapes'], 'Age': 27} type:  <class 'dict'>\n",
      "preference_dict.popitem():  ('Age', 27)\n",
      "\n",
      "After popitem()\n",
      "preference_dict:  {'Name': 'Pandian', 'furits': ['Apple', 'Banana', 'Orange', 'Grapes']} type:  <class 'dict'>\n"
     ]
    }
   ],
   "source": [
    "### popitem() removes the arbitrary key-value pair from the dictionary and returns it as tuple.\n",
    "preference_dict          = {'Name': 'Pandian', 'furits' : ['Apple', 'Banana', 'Orange', 'Grapes']}\n",
    "preference_dict['Age']   = 27\n",
    "print('\\nBefore pop()')\n",
    "print('preference_dict: ', preference_dict, 'type: ', type(preference_dict))\n",
    "print('preference_dict.popitem(): ', preference_dict.popitem())\n",
    "print(\"\\nAfter popitem()\")\n",
    "print('preference_dict: ', preference_dict, 'type: ', type(preference_dict))"
   ]
  },
  {
   "cell_type": "code",
   "execution_count": 21,
   "metadata": {},
   "outputs": [
    {
     "name": "stdout",
     "output_type": "stream",
     "text": [
      "preference_dict.get('Age'):  27\n"
     ]
    }
   ],
   "source": [
    "### get is used to access a value of a given key\n",
    "preference_dict          = {'Name': 'Pandian', 'furits' : ['Apple', 'Banana', 'Orange', 'Grapes']}\n",
    "preference_dict['Age']   = 27\n",
    "print(\"preference_dict.get('Age'): \", preference_dict.get(\"Age\"))\n"
   ]
  },
  {
   "cell_type": "code",
   "execution_count": 22,
   "metadata": {},
   "outputs": [
    {
     "name": "stdout",
     "output_type": "stream",
     "text": [
      "preference_dict.values():  dict_values(['Pandian', ['Apple', 'Banana', 'Orange', 'Grapes']])\n"
     ]
    }
   ],
   "source": [
    "preference_dict          = {'Name': 'Pandian', 'furits' : ['Apple', 'Banana', 'Orange', 'Grapes']}\n",
    "print(\"preference_dict.values(): \", preference_dict.values())"
   ]
  },
  {
   "cell_type": "code",
   "execution_count": 23,
   "metadata": {},
   "outputs": [
    {
     "name": "stdout",
     "output_type": "stream",
     "text": [
      "preference_dict.keys():  dict_keys(['Name', 'furits'])\n"
     ]
    }
   ],
   "source": [
    "### keys() returns a list of dictionary keys\n",
    "preference_dict          = {'Name': 'Pandian', 'furits' : ['Apple', 'Banana', 'Orange', 'Grapes']}\n",
    "print(\"preference_dict.keys(): \", preference_dict.keys())"
   ]
  },
  {
   "cell_type": "code",
   "execution_count": 24,
   "metadata": {},
   "outputs": [
    {
     "name": "stdout",
     "output_type": "stream",
     "text": [
      "preference_dict.items():  dict_items([('Name', 'Pandian'), ('furits', ['Apple', 'Banana', 'Orange', 'Grapes'])])\n"
     ]
    }
   ],
   "source": [
    "### items() returns a list of key:value tuple pairs\n",
    "preference_dict          = {'Name': 'Pandian', 'furits' : ['Apple', 'Banana', 'Orange', 'Grapes']}\n",
    "print(\"preference_dict.items(): \", preference_dict.items())"
   ]
  },
  {
   "cell_type": "code",
   "execution_count": 29,
   "metadata": {},
   "outputs": [
    {
     "name": "stdout",
     "output_type": "stream",
     "text": [
      "'Name' in preference_dict.keys():  True\n"
     ]
    }
   ],
   "source": [
    "### <key> in <dictionary>.keys() returns true if key is found in the dictionary; false otherwise\n",
    "preference_dict          = {'Name': 'Pandian', 'furits' : ['Apple', 'Banana', 'Orange', 'Grapes']}\n",
    "print(\"'Name' in preference_dict.keys(): \", 'Name' in preference_dict.keys())"
   ]
  },
  {
   "cell_type": "code",
   "execution_count": 37,
   "metadata": {},
   "outputs": [
    {
     "name": "stdout",
     "output_type": "stream",
     "text": [
      "\n",
      "Convert a sequence to a dict using fromkeys()\n",
      "dict.fromkeys(sequence_1):  {'C': 1, 'A': 1, 'B': 1, 'D': 1}  type:  <class 'dict'>\n"
     ]
    }
   ],
   "source": [
    "sequence_1 = {'A', 'B', 'C', 'D'}\n",
    "### Using fromkeys() convert a sequence to dict, initializing with 1\n",
    "new_dict      = dict.fromkeys(sequence_1, 1)\n",
    "print('\\nConvert a sequence to a dict using fromkeys()')\n",
    "print(\"dict.fromkeys(sequence_1): \", dict.fromkeys(sequence_1,1), ' type: ', type(new_dict))"
   ]
  },
  {
   "cell_type": "code",
   "execution_count": null,
   "metadata": {
    "collapsed": true
   },
   "outputs": [],
   "source": [
    "### fromkeys() creates a new dictionary with keys from seq and values set to value\n",
    "preference_dict          = {'Name': 'Pandian', 'furits' : ['Apple', 'Banana', 'Orange', 'Grapes']}\n",
    "\n",
    "d                        =  preference_dict.fromkeys(range(99))' 'd.has_key(12)\n",
    "\n",
    "print(\"'Name' in preference_dict.keys(): \", 'Name' in preference_dict.keys())"
   ]
  },
  {
   "cell_type": "code",
   "execution_count": 40,
   "metadata": {},
   "outputs": [
    {
     "name": "stdout",
     "output_type": "stream",
     "text": [
      "str(preference_dict) {'Name': 'Pandian', 'furits': ['Apple', 'Banana', 'Orange', 'Grapes']}\n"
     ]
    }
   ],
   "source": [
    "### str() produces a printable representation of a dictionary\n",
    "preference_dict          = {'Name': 'Pandian', 'furits' : ['Apple', 'Banana', 'Orange', 'Grapes']}\n",
    "print(\"str(preference_dict)\", str(preference_dict))"
   ]
  },
  {
   "cell_type": "code",
   "execution_count": 41,
   "metadata": {},
   "outputs": [
    {
     "name": "stdout",
     "output_type": "stream",
     "text": [
      "len(preference_dict) 2\n"
     ]
    }
   ],
   "source": [
    "### len() produces length of a dictionary\n",
    "preference_dict          = {'Name': 'Pandian', 'furits' : ['Apple', 'Banana', 'Orange', 'Grapes']}\n",
    "print(\"len(preference_dict)\", len(preference_dict))"
   ]
  },
  {
   "cell_type": "code",
   "execution_count": 42,
   "metadata": {},
   "outputs": [
    {
     "name": "stdout",
     "output_type": "stream",
     "text": [
      "type(preference_dict) <class 'dict'>\n"
     ]
    }
   ],
   "source": [
    "###type() returns the type of the passed variable\n",
    "preference_dict          = {'Name': 'Pandian', 'furits' : ['Apple', 'Banana', 'Orange', 'Grapes']}\n",
    "print(\"type(preference_dict)\", type(preference_dict))"
   ]
  },
  {
   "cell_type": "code",
   "execution_count": null,
   "metadata": {
    "collapsed": true
   },
   "outputs": [],
   "source": []
  }
 ],
 "metadata": {
  "kernelspec": {
   "display_name": "Python 3",
   "language": "python",
   "name": "python3"
  },
  "language_info": {
   "codemirror_mode": {
    "name": "ipython",
    "version": 3
   },
   "file_extension": ".py",
   "mimetype": "text/x-python",
   "name": "python",
   "nbconvert_exporter": "python",
   "pygments_lexer": "ipython3",
   "version": "3.6.3"
  }
 },
 "nbformat": 4,
 "nbformat_minor": 2
}
