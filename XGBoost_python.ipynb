{
 "cells": [
  {
   "cell_type": "code",
   "execution_count": 1,
   "metadata": {
    "collapsed": true
   },
   "outputs": [],
   "source": [
    "# First XGBoost model for Pima Indians dataset\n",
    "\n",
    "import pandas                  as     pd\n",
    "import numpy                   as     np\n",
    "from   numpy                   import loadtxt\n",
    "import matplotlib.pyplot       as     plt\n",
    "import seaborn                 as     sns\n",
    "\n",
    "from   xgboost                 import XGBClassifier\n",
    "from   sklearn.model_selection import train_test_split\n",
    "from   sklearn.metrics         import accuracy_score, roc_curve\n",
    "from   sklearn.metrics         import classification_report, confusion_matrix\n",
    "\n",
    "%matplotlib inline"
   ]
  },
  {
   "cell_type": "code",
   "execution_count": 2,
   "metadata": {},
   "outputs": [
    {
     "name": "stdout",
     "output_type": "stream",
     "text": [
      "Index(['preg', 'plas', 'pres', 'skin', 'insulin', 'mass', 'pedi', 'age',\n",
      "       'label'],\n",
      "      dtype='object')\n",
      "(768, 9)\n"
     ]
    }
   ],
   "source": [
    "# load data\n",
    "\n",
    "column_names    = ['preg', 'plas', 'pres', 'skin', 'insulin', 'mass', 'pedi', 'age', 'label']\n",
    "df              = pd.read_csv('D:/RRD/data/pima-indians-diabetes.data.CSV',\\\n",
    "                              header= None, names = column_names)\n",
    "\n",
    "print(df.columns)\n",
    "print(df.shape)"
   ]
  },
  {
   "cell_type": "code",
   "execution_count": 3,
   "metadata": {},
   "outputs": [
    {
     "data": {
      "text/plain": [
       "preg       657\n",
       "plas       763\n",
       "pres       733\n",
       "skin       541\n",
       "insulin    394\n",
       "mass       757\n",
       "pedi       768\n",
       "age        768\n",
       "label      268\n",
       "dtype: int64"
      ]
     },
     "execution_count": 3,
     "metadata": {},
     "output_type": "execute_result"
    }
   ],
   "source": [
    "df.astype(bool).sum(axis=0)"
   ]
  },
  {
   "cell_type": "code",
   "execution_count": 4,
   "metadata": {
    "collapsed": true
   },
   "outputs": [],
   "source": [
    "df['plas'].replace(0, np.nan, inplace = True)\n",
    "df['pres'].replace(0, np.nan, inplace = True)\n",
    "df['skin'].replace(0, np.nan, inplace = True)\n",
    "df['mass'].replace(0, np.nan, inplace = True)"
   ]
  },
  {
   "cell_type": "code",
   "execution_count": 5,
   "metadata": {},
   "outputs": [
    {
     "data": {
      "text/plain": [
       "preg       False\n",
       "plas       False\n",
       "pres       False\n",
       "skin       False\n",
       "insulin    False\n",
       "mass       False\n",
       "pedi       False\n",
       "age        False\n",
       "label      False\n",
       "dtype: bool"
      ]
     },
     "execution_count": 5,
     "metadata": {},
     "output_type": "execute_result"
    }
   ],
   "source": [
    "df.dropna(axis = 0, inplace = True)\n",
    "df.isnull().any()"
   ]
  },
  {
   "cell_type": "code",
   "execution_count": 6,
   "metadata": {},
   "outputs": [
    {
     "name": "stdout",
     "output_type": "stream",
     "text": [
      "\n",
      "Get the shape\n",
      "(532, 9)\n",
      "\n",
      "Get the data structure\n",
      "<class 'pandas.core.frame.DataFrame'>\n",
      "Int64Index: 532 entries, 0 to 767\n",
      "Data columns (total 9 columns):\n",
      "preg       532 non-null int64\n",
      "plas       532 non-null float64\n",
      "pres       532 non-null float64\n",
      "skin       532 non-null float64\n",
      "insulin    532 non-null int64\n",
      "mass       532 non-null float64\n",
      "pedi       532 non-null float64\n",
      "age        532 non-null int64\n",
      "label      532 non-null int64\n",
      "dtypes: float64(5), int64(4)\n",
      "memory usage: 41.6 KB\n",
      "None\n",
      "\n",
      "Print first five rows\n",
      "   preg   plas  pres  skin  insulin  mass   pedi  age  label\n",
      "0     6  148.0  72.0  35.0        0  33.6  0.627   50      1\n",
      "1     1   85.0  66.0  29.0        0  26.6  0.351   31      0\n",
      "3     1   89.0  66.0  23.0       94  28.1  0.167   21      0\n",
      "4     0  137.0  40.0  35.0      168  43.1  2.288   33      1\n",
      "6     3   78.0  50.0  32.0       88  31.0  0.248   26      1\n"
     ]
    }
   ],
   "source": [
    "### --------------------\n",
    "### get the shape\n",
    "### --------------------\n",
    "print('\\nGet the shape')\n",
    "print(df.shape)\n",
    "### --------------------\n",
    "### Get the data structure\n",
    "### --------------------\n",
    "print('\\nGet the data structure')\n",
    "print(df.info())\n",
    "### -----------------------\n",
    "### Get the first five rows\n",
    "### -----------------------\n",
    "print('\\nPrint first five rows')\n",
    "print(df.head())"
   ]
  },
  {
   "cell_type": "code",
   "execution_count": 7,
   "metadata": {},
   "outputs": [
    {
     "data": {
      "text/plain": [
       "0    [355, 66.72932330827068]\n",
       "1    [177, 33.27067669172932]\n",
       "Name: label, dtype: object"
      ]
     },
     "execution_count": 7,
     "metadata": {},
     "output_type": "execute_result"
    }
   ],
   "source": [
    "df['label'].value_counts().apply(lambda x: [x, ( x * 100) / df.shape[0]])"
   ]
  },
  {
   "cell_type": "code",
   "execution_count": 8,
   "metadata": {},
   "outputs": [
    {
     "name": "stdout",
     "output_type": "stream",
     "text": [
      "(532, 8)\n",
      "(532,)\n"
     ]
    }
   ],
   "source": [
    "feature_names   = df.columns\n",
    "feature_names  =  feature_names.drop('label')\n",
    "X              =  df.loc[:,feature_names] \n",
    "y              =  df.loc[:,'label']\n",
    "label_names    =  y.unique()\n",
    "print(X.shape)\n",
    "print(y.shape)"
   ]
  },
  {
   "cell_type": "code",
   "execution_count": 9,
   "metadata": {
    "collapsed": true
   },
   "outputs": [],
   "source": [
    "# split data into train and test sets\n",
    "seed      = 12345\n",
    "test_size = 0.30\n",
    "X_train, X_test, y_train, y_test = train_test_split(X, y, test_size = test_size, random_state = seed)"
   ]
  },
  {
   "cell_type": "code",
   "execution_count": 10,
   "metadata": {},
   "outputs": [
    {
     "name": "stdout",
     "output_type": "stream",
     "text": [
      "X train shape\n",
      "(372, 8)\n",
      "X test shape\n",
      "(160, 8)\n",
      "y train shape\n",
      "(372,)\n",
      "y test shape\n",
      "(160,)\n"
     ]
    }
   ],
   "source": [
    "print('X train shape')\n",
    "print(X_train.shape)\n",
    "print('X test shape')\n",
    "print(X_test.shape)\n",
    "print('y train shape')\n",
    "print(y_train.shape)\n",
    "print('y test shape')\n",
    "print(y_test.shape)"
   ]
  },
  {
   "cell_type": "code",
   "execution_count": 11,
   "metadata": {
    "collapsed": true
   },
   "outputs": [],
   "source": [
    "def draw_cm( actual, predicted ):\n",
    "    \n",
    "    import matplotlib.pyplot as   plt\n",
    "    import sklearn.metrics   as   metrics\n",
    "    import seaborn           as   sns\n",
    "    \n",
    "    cm = metrics.confusion_matrix( actual, predicted, [1,0] )\n",
    "    sns.heatmap(cm, annot=True, fmt='.2f', xticklabels = [\"Yes\", \"No\"] , yticklabels = [\"Yes\", \"No\"] )\n",
    "    plt.ylabel('True label')\n",
    "    plt.xlabel('Predicted label')\n",
    "    plt.show()  "
   ]
  },
  {
   "cell_type": "code",
   "execution_count": 12,
   "metadata": {
    "collapsed": true
   },
   "outputs": [],
   "source": [
    "'''\n",
    "This function draws a ROC curve and shows the AUROC\n",
    "'''\n",
    "def draw_roc( actual, probs ):\n",
    "\n",
    "    import pandas            as   pd\n",
    "    import numpy             as   np\n",
    "    import seaborn           as   sns\n",
    "    import matplotlib.pyplot as   plt\n",
    "    import sklearn.metrics   as   metrics\n",
    "    import seaborn           as   sns\n",
    "    \n",
    "    fpr, tpr, thresholds = metrics.roc_curve( actual, probs,\n",
    "    drop_intermediate = False )\n",
    "    auc_score = metrics.roc_auc_score( actual, probs )\n",
    "    plt.figure(figsize=(6, 4))\n",
    "    plt.plot( fpr, tpr, label='ROC curve (area = %0.2f)' % auc_score )\n",
    "    plt.plot([0, 1], [0, 1], 'k--')\n",
    "    plt.xlim([0.0, 1.0])\n",
    "    plt.ylim([0.0, 1.05])\n",
    "    plt.xlabel('False Positive Rate or [1 - True Negative Rate]')\n",
    "    plt.ylabel('True Positive Rate')\n",
    "    plt.title('Receiver operating characteristic curve')\n",
    "    plt.legend(loc=\"lower right\")\n",
    "    plt.show()\n",
    "    return fpr, tpr, thresholds"
   ]
  },
  {
   "cell_type": "code",
   "execution_count": 13,
   "metadata": {},
   "outputs": [
    {
     "data": {
      "text/plain": [
       "XGBClassifier(base_score=0.5, booster='gbtree', colsample_bylevel=1,\n",
       "       colsample_bytree=1, gamma=0, learning_rate=0.1, max_delta_step=0,\n",
       "       max_depth=3, min_child_weight=1, missing=None, n_estimators=100,\n",
       "       n_jobs=1, nthread=None, objective='binary:logistic', random_state=0,\n",
       "       reg_alpha=0, reg_lambda=1, scale_pos_weight=1, seed=1234,\n",
       "       silent=True, subsample=1)"
      ]
     },
     "execution_count": 13,
     "metadata": {},
     "output_type": "execute_result"
    }
   ],
   "source": [
    "# fit model no training data\n",
    "model = XGBClassifier(seed = 1234)\n",
    "model.fit(X_train, y_train)"
   ]
  },
  {
   "cell_type": "code",
   "execution_count": 14,
   "metadata": {},
   "outputs": [
    {
     "name": "stderr",
     "output_type": "stream",
     "text": [
      "D:\\Python\\lib\\site-packages\\sklearn\\preprocessing\\label.py:151: DeprecationWarning: The truth value of an empty array is ambiguous. Returning False, but in future this will result in an error. Use `array.size > 0` to check that an array is not empty.\n",
      "  if diff:\n"
     ]
    }
   ],
   "source": [
    "# make predictions for train data\n",
    "y_train_pred      = model.predict(X_train)\n",
    "train_predictions = [round(value) for value in y_train_pred]"
   ]
  },
  {
   "cell_type": "code",
   "execution_count": 15,
   "metadata": {},
   "outputs": [
    {
     "name": "stdout",
     "output_type": "stream",
     "text": [
      "\n",
      "Training Data\n",
      "[[237   7]\n",
      " [ 16 112]]\n"
     ]
    }
   ],
   "source": [
    "train_matrix             = confusion_matrix(y_train, train_predictions)\n",
    "print(\"\\nTraining Data\")\n",
    "print(train_matrix)"
   ]
  },
  {
   "cell_type": "code",
   "execution_count": 16,
   "metadata": {},
   "outputs": [
    {
     "data": {
      "image/png": "[encoded data removed]",
      "text/plain": [
       "<matplotlib.figure.Figure at 0x2487eca3da0>"
      ]
     },
     "metadata": {},
     "output_type": "display_data"
    }
   ],
   "source": [
    "draw_cm(y_train, train_predictions)"
   ]
  },
  {
   "cell_type": "code",
   "execution_count": 17,
   "metadata": {},
   "outputs": [
    {
     "name": "stdout",
     "output_type": "stream",
     "text": [
      "\n",
      "Training data\n",
      "\n",
      "Training Accuracy: 93.817%\n",
      "             precision    recall  f1-score   support\n",
      "\n",
      "          0       0.94      0.97      0.95       244\n",
      "          1       0.94      0.88      0.91       128\n",
      "\n",
      "avg / total       0.94      0.94      0.94       372\n",
      "\n"
     ]
    },
    {
     "name": "stderr",
     "output_type": "stream",
     "text": [
      "D:\\Python\\lib\\site-packages\\sklearn\\preprocessing\\label.py:151: DeprecationWarning: The truth value of an empty array is ambiguous. Returning False, but in future this will result in an error. Use `array.size > 0` to check that an array is not empty.\n",
      "  if diff:\n"
     ]
    }
   ],
   "source": [
    "accuracy_train     = model.score(X_train, y_train) \n",
    "measures_train     = classification_report(y_train, train_predictions) \n",
    "\n",
    "print(\"\\nTraining data\\n\")\n",
    "print(\"Training Accuracy: %.3f%%\" % (accuracy_train * 100.0))\n",
    "print(measures_train) "
   ]
  },
  {
   "cell_type": "code",
   "execution_count": 18,
   "metadata": {},
   "outputs": [
    {
     "data": {
      "image/png": "[encoded data removed]",
      "text/plain": [
       "<matplotlib.figure.Figure at 0x2487ee14b00>"
      ]
     },
     "metadata": {},
     "output_type": "display_data"
    },
    {
     "data": {
      "text/plain": [
       "(array([0.        , 0.02868852, 1.        ]),\n",
       " array([0.   , 0.875, 1.   ]),\n",
       " array([2, 1, 0], dtype=int64))"
      ]
     },
     "execution_count": 18,
     "metadata": {},
     "output_type": "execute_result"
    }
   ],
   "source": [
    "draw_roc( y_train, train_predictions) "
   ]
  },
  {
   "cell_type": "code",
   "execution_count": 19,
   "metadata": {},
   "outputs": [
    {
     "name": "stdout",
     "output_type": "stream",
     "text": [
      "Accuracy: 77.50%\n"
     ]
    },
    {
     "name": "stderr",
     "output_type": "stream",
     "text": [
      "D:\\Python\\lib\\site-packages\\sklearn\\preprocessing\\label.py:151: DeprecationWarning: The truth value of an empty array is ambiguous. Returning False, but in future this will result in an error. Use `array.size > 0` to check that an array is not empty.\n",
      "  if diff:\n"
     ]
    }
   ],
   "source": [
    "# make predictions for test data\n",
    "y_test_pred = model.predict(X_test)\n",
    "predictions = [round(value) for value in y_test_pred]\n",
    "# evaluate predictions\n",
    "accuracy = accuracy_score(y_test, predictions)\n",
    "print(\"Accuracy: %.2f%%\" % (accuracy * 100.0))"
   ]
  },
  {
   "cell_type": "code",
   "execution_count": 20,
   "metadata": {},
   "outputs": [
    {
     "name": "stdout",
     "output_type": "stream",
     "text": [
      "\n",
      "Training Data\n",
      "[[94 17]\n",
      " [19 30]]\n"
     ]
    }
   ],
   "source": [
    "test_matrix             = confusion_matrix(y_test, y_test_pred)\n",
    "print(\"\\nTraining Data\")\n",
    "print(test_matrix)"
   ]
  },
  {
   "cell_type": "code",
   "execution_count": 21,
   "metadata": {},
   "outputs": [
    {
     "name": "stdout",
     "output_type": "stream",
     "text": [
      "\n",
      "Test data\n",
      "\n",
      "Test data Accuracy: 77.500%\n",
      "             precision    recall  f1-score   support\n",
      "\n",
      "          0       0.83      0.85      0.84       111\n",
      "          1       0.64      0.61      0.62        49\n",
      "\n",
      "avg / total       0.77      0.78      0.77       160\n",
      "\n"
     ]
    },
    {
     "name": "stderr",
     "output_type": "stream",
     "text": [
      "D:\\Python\\lib\\site-packages\\sklearn\\preprocessing\\label.py:151: DeprecationWarning: The truth value of an empty array is ambiguous. Returning False, but in future this will result in an error. Use `array.size > 0` to check that an array is not empty.\n",
      "  if diff:\n"
     ]
    }
   ],
   "source": [
    "accuracy_test      = model.score(X_test, y_test) \n",
    "measures_test      = classification_report(y_test, y_test_pred ) \n",
    "\n",
    "print(\"\\nTest data\\n\")\n",
    "print(\"Test data Accuracy: %.3f%%\" % (accuracy_test  * 100.0))\n",
    "print(measures_test) "
   ]
  },
  {
   "cell_type": "code",
   "execution_count": 22,
   "metadata": {},
   "outputs": [
    {
     "data": {
      "image/png": "[encoded data removed]",
      "text/plain": [
       "<matplotlib.figure.Figure at 0x2487eff8048>"
      ]
     },
     "metadata": {},
     "output_type": "display_data"
    }
   ],
   "source": [
    "draw_cm(y_test, y_test_pred)"
   ]
  },
  {
   "cell_type": "code",
   "execution_count": 23,
   "metadata": {},
   "outputs": [
    {
     "data": {
      "image/png": "[encoded data removed]",
      "text/plain": [
       "<matplotlib.figure.Figure at 0x2487ee14ef0>"
      ]
     },
     "metadata": {},
     "output_type": "display_data"
    },
    {
     "data": {
      "text/plain": [
       "(array([0.        , 0.15315315, 1.        ]),\n",
       " array([0.       , 0.6122449, 1.       ]),\n",
       " array([2, 1, 0], dtype=int64))"
      ]
     },
     "execution_count": 23,
     "metadata": {},
     "output_type": "execute_result"
    }
   ],
   "source": [
    "draw_roc(y_test, y_test_pred) "
   ]
  },
  {
   "cell_type": "markdown",
   "metadata": {},
   "source": [
    "### Find optimum cut-off\n",
    "We know the data set is not balanced and hence the standard cut-off of 50% for creating the confusion matrix will not hold good. We need to find the optimum cut-off to divide the data set into two classes."
   ]
  },
  {
   "cell_type": "code",
   "execution_count": 24,
   "metadata": {
    "collapsed": true
   },
   "outputs": [],
   "source": [
    "\"\"\"\n",
    "  This function calculates the Youdens J score which gives the optimum cut-off point \n",
    "  given the fpr, tpr and thresholds\n",
    "\"\"\"\n",
    "def get_youdens_j_cutoff(fpr,tpr,thresholds):\n",
    "    j_scores = np.abs(tpr - fpr)\n",
    "    j_ordered = sorted(zip(j_scores,thresholds, fpr, tpr))\n",
    "    # Plot tpr vs 1-fpr\n",
    "    fig, ax = plt.subplots()\n",
    "    plt.plot(tpr)\n",
    "    plt.plot(1-fpr, color = 'red')\n",
    "    plt.xlabel('1-False Positive Rate')\n",
    "    plt.ylabel('True Positive Rate')\n",
    "    plt.title('Receiver operating characteristic')\n",
    "    ax.set_xticklabels([])\n",
    "    res = {'fpr': j_ordered[-1][2], 'tpr': j_ordered[-1][3], 'threshold' : j_ordered[-1][1]}\n",
    "    return res"
   ]
  },
  {
   "cell_type": "code",
   "execution_count": 25,
   "metadata": {
    "collapsed": true
   },
   "outputs": [],
   "source": [
    "predicted_proba_tr = model.predict_proba(X_train)[:,1]"
   ]
  },
  {
   "cell_type": "code",
   "execution_count": 26,
   "metadata": {},
   "outputs": [
    {
     "data": {
      "text/plain": [
       "{'fpr': 0.06147540983606557, 'threshold': 0.41071832, 'tpr': 0.953125}"
      ]
     },
     "execution_count": 26,
     "metadata": {},
     "output_type": "execute_result"
    },
    {
     "data": {
      "image/png": "[encoded data removed]",
      "text/plain": [
       "<matplotlib.figure.Figure at 0x2487ee35518>"
      ]
     },
     "metadata": {},
     "output_type": "display_data"
    }
   ],
   "source": [
    "fpr, tpr, thresholds = roc_curve(y_train, predicted_proba_tr, \\\n",
    "                                         drop_intermediate = True )\n",
    "get_youdens_j_cutoff(fpr, tpr, thresholds)  "
   ]
  },
  {
   "cell_type": "code",
   "execution_count": 27,
   "metadata": {},
   "outputs": [
    {
     "name": "stdout",
     "output_type": "stream",
     "text": [
      "\n",
      "Threshold is 0.4107 \n",
      "\n"
     ]
    }
   ],
   "source": [
    "threshold__train_df                =  pd.DataFrame()  \n",
    "threshold__train_df['Actual']      =  y_train\n",
    "threshold                          =  0.41071832\n",
    "cutoff_df                          =  pd.DataFrame()\n",
    "print(\"\\nThreshold is %0.4f\" %threshold,\"\\n\")"
   ]
  },
  {
   "cell_type": "code",
   "execution_count": 28,
   "metadata": {},
   "outputs": [
    {
     "name": "stdout",
     "output_type": "stream",
     "text": [
      "[[122   6]\n",
      " [ 15 229]]\n"
     ]
    },
    {
     "data": {
      "image/png": "[encoded data removed]",
      "text/plain": [
       "<matplotlib.figure.Figure at 0x2487f06fb00>"
      ]
     },
     "metadata": {},
     "output_type": "display_data"
    }
   ],
   "source": [
    "threshold__train_df['Probability'] = predicted_proba_tr\n",
    "threshold__train_df['pred']        =  threshold__train_df['Probability'].map(lambda x: 1 \\\n",
    "                                                                  if x > threshold else 0)\n",
    "cm                                 = confusion_matrix(threshold__train_df['Actual'].astype('int'),\\\n",
    "                                                   threshold__train_df['pred'],[1,0])\n",
    "print(cm)\n",
    "draw_cm(threshold__train_df['Actual'].astype('int'),\\\n",
    "                                                   threshold__train_df['pred'])"
   ]
  },
  {
   "cell_type": "code",
   "execution_count": 29,
   "metadata": {},
   "outputs": [
    {
     "name": "stdout",
     "output_type": "stream",
     "text": [
      "             precision    recall  f1-score   support\n",
      "\n",
      "          1       0.89      0.95      0.92       128\n",
      "          0       0.97      0.94      0.96       244\n",
      "\n",
      "avg / total       0.95      0.94      0.94       372\n",
      "\n"
     ]
    }
   ],
   "source": [
    "print(classification_report(threshold__train_df['Actual'].astype('int'),\\\n",
    "                                                   threshold__train_df['pred'],[1,0]))\n"
   ]
  },
  {
   "cell_type": "code",
   "execution_count": 30,
   "metadata": {},
   "outputs": [
    {
     "data": {
      "image/png": "[encoded data removed]",
      "text/plain": [
       "<matplotlib.figure.Figure at 0x2487f0d2588>"
      ]
     },
     "metadata": {},
     "output_type": "display_data"
    },
    {
     "name": "stdout",
     "output_type": "stream",
     "text": [
      "   Threshold    Recall  Precision  Accuracy Ratio\n",
      "0   0.410718  0.938525   0.974468       94.354839\n"
     ]
    }
   ],
   "source": [
    "draw_roc(threshold__train_df['Actual'].astype('int'),\\\n",
    "                                                   threshold__train_df['pred']) \n",
    "precision                         = np.diag(cm) / np.sum(cm, axis = 0)\n",
    "recall                            = np.diag(cm) / np.sum(cm, axis = 1) \n",
    "accuracy_ratio                    = ((cm[0,0] + cm[1,1]) * 100) / \\\n",
    "                                     (cm[0,0] + cm[1,1] + cm[0,1] + cm[1,0])\n",
    "recall_positive                   = recall[1]\n",
    "precision_positive                = precision[1]\n",
    "cutoff_df_ind                     = pd.DataFrame({'Threshold': threshold, \\\n",
    "                                                  'Recall' : recall_positive,\\\n",
    "                                               'Precision' : precision_positive,\\\n",
    "                                               'Accuracy Ratio' : accuracy_ratio},\\\n",
    "                                              index = [0])\n",
    "print(cutoff_df_ind)"
   ]
  },
  {
   "cell_type": "code",
   "execution_count": 31,
   "metadata": {},
   "outputs": [
    {
     "name": "stdout",
     "output_type": "stream",
     "text": [
      "\n",
      "Threshold is 0.4107 \n",
      "\n"
     ]
    }
   ],
   "source": [
    "threshold__test_df                =  pd.DataFrame()  \n",
    "threshold__test_df['Actual']      =  y_test\n",
    "threshold                         =  0.4107 \n",
    "cutoff_df                         =  pd.DataFrame()\n",
    "print(\"\\nThreshold is %0.4f\" %threshold,\"\\n\")"
   ]
  },
  {
   "cell_type": "code",
   "execution_count": 32,
   "metadata": {
    "collapsed": true
   },
   "outputs": [],
   "source": [
    "predicted_proba_test = model.predict_proba(X_test)[:,1]"
   ]
  },
  {
   "cell_type": "code",
   "execution_count": 33,
   "metadata": {},
   "outputs": [
    {
     "name": "stdout",
     "output_type": "stream",
     "text": [
      "[[33 16]\n",
      " [22 89]]\n"
     ]
    },
    {
     "data": {
      "image/png": "[encoded data removed]",
      "text/plain": [
       "<matplotlib.figure.Figure at 0x2487f021b00>"
      ]
     },
     "metadata": {},
     "output_type": "display_data"
    }
   ],
   "source": [
    "threshold__test_df['Probability'] =  predicted_proba_test\n",
    "threshold__test_df['pred']        =  threshold__test_df['Probability'].map(lambda x: 1 \\\n",
    "                                                                  if x > threshold else 0)\n",
    "cm                                = confusion_matrix(threshold__test_df['Actual'].astype('int'),\\\n",
    "                                                   threshold__test_df['pred'],[1,0])\n",
    "print(cm)\n",
    "draw_cm(threshold__test_df['Actual'].astype('int'),\\\n",
    "                                                   threshold__test_df['pred'])"
   ]
  },
  {
   "cell_type": "code",
   "execution_count": 34,
   "metadata": {},
   "outputs": [
    {
     "name": "stdout",
     "output_type": "stream",
     "text": [
      "             precision    recall  f1-score   support\n",
      "\n",
      "          1       0.60      0.67      0.63        49\n",
      "          0       0.85      0.80      0.82       111\n",
      "\n",
      "avg / total       0.77      0.76      0.77       160\n",
      "\n"
     ]
    }
   ],
   "source": [
    "print(classification_report(threshold__test_df['Actual'].astype('int'),\\\n",
    "                                                   threshold__test_df['pred'],[1,0]))"
   ]
  },
  {
   "cell_type": "code",
   "execution_count": 35,
   "metadata": {},
   "outputs": [
    {
     "data": {
      "image/png": "[encoded data removed]",
      "text/plain": [
       "<matplotlib.figure.Figure at 0x2487f1e8e80>"
      ]
     },
     "metadata": {},
     "output_type": "display_data"
    },
    {
     "name": "stdout",
     "output_type": "stream",
     "text": [
      "   Threshold    Recall  Precision  Accuracy Ratio\n",
      "0     0.4107  0.801802   0.847619           76.25\n"
     ]
    }
   ],
   "source": [
    "draw_roc(threshold__test_df['Actual'].astype('int'),\\\n",
    "                                                   threshold__test_df['pred']) \n",
    "precision                         = np.diag(cm) / np.sum(cm, axis = 0)\n",
    "recall                            = np.diag(cm) / np.sum(cm, axis = 1) \n",
    "accuracy_ratio                    = ((cm[0,0] + cm[1,1]) * 100) / \\\n",
    "                                     (cm[0,0] + cm[1,1] + cm[0,1] + cm[1,0])\n",
    "recall_positive                   = recall[1]\n",
    "precision_positive                = precision[1]\n",
    "cutoff_df_ind                     = pd.DataFrame({'Threshold': threshold, \\\n",
    "                                                  'Recall' : recall_positive,\\\n",
    "                                               'Precision' : precision_positive,\\\n",
    "                                               'Accuracy Ratio' : accuracy_ratio},\\\n",
    "                                              index = [0])\n",
    "print(cutoff_df_ind)"
   ]
  },
  {
   "cell_type": "code",
   "execution_count": 36,
   "metadata": {},
   "outputs": [
    {
     "name": "stdout",
     "output_type": "stream",
     "text": [
      "pedi       0.194444\n",
      "plas       0.168301\n",
      "mass       0.156863\n",
      "skin       0.127451\n",
      "age        0.117647\n",
      "insulin    0.111111\n",
      "pres       0.078431\n",
      "preg       0.045752\n",
      "dtype: float32\n"
     ]
    }
   ],
   "source": [
    "feature_imp = pd.Series(model.feature_importances_, index = feature_names).sort_values(ascending = False)\n",
    "print(feature_imp)"
   ]
  },
  {
   "cell_type": "code",
   "execution_count": 37,
   "metadata": {},
   "outputs": [
    {
     "name": "stderr",
     "output_type": "stream",
     "text": [
      "D:\\Python\\lib\\site-packages\\seaborn\\categorical.py:1460: FutureWarning: remove_na is deprecated and is a private function. Do not use.\n",
      "  stat_data = remove_na(group_data)\n"
     ]
    },
    {
     "data": {
      "image/png": "[encoded data removed]",
      "text/plain": [
       "<matplotlib.figure.Figure at 0x2487f1b6358>"
      ]
     },
     "metadata": {},
     "output_type": "display_data"
    }
   ],
   "source": [
    "# Creating a bar plot\n",
    "sns.barplot(x = feature_imp, y = feature_imp.index)\n",
    "# Add labels to your graph\n",
    "plt.xlabel('Feature Importance Score')\n",
    "plt.ylabel('Features')\n",
    "plt.title(\"Visualizing Important Features\")\n",
    "plt.legend()\n",
    "plt.show()"
   ]
  }
 ],
 "metadata": {
  "kernelspec": {
   "display_name": "Python 3",
   "language": "python",
   "name": "python3"
  },
  "language_info": {
   "codemirror_mode": {
    "name": "ipython",
    "version": 3
   },
   "file_extension": ".py",
   "mimetype": "text/x-python",
   "name": "python",
   "nbconvert_exporter": "python",
   "pygments_lexer": "ipython3",
   "version": "3.6.3"
  }
 },
 "nbformat": 4,
 "nbformat_minor": 2
}
