{
 "cells": [
  {
   "cell_type": "markdown",
   "metadata": {},
   "source": [
    "### Simplest Python Program\n",
    "\n",
    "This is the simplest program we can start with. \n",
    "\n",
    "It creates the aiml object, learns the startup file, and then loads the rest of the aiml files. \n",
    "\n",
    "After that, it is ready to chat, and we enter an infinite loop that will continue to prompt the user for a message. \n",
    "\n",
    "You will need to enter a pattern the bot recognizes. The patterns recognized depend on what AIML files you loaded.\n",
    "\n",
    "We create the startup file as a separate entity so that we can add more aiml files to the bot later without having to modify any of the programs source code. We can just add more files to learn in the startup xml file."
   ]
  },
  {
   "cell_type": "markdown",
   "metadata": {},
   "source": [
    "import aiml\n",
    "\n",
    "##### Create the kernel and learn AIML files\n",
    "kernel = aiml.Kernel()\n",
    "kernel.learn(\"std-startup.xml\")\n",
    "kernel.respond(\"load aiml b\")\n",
    "\n",
    "while True:\n",
    "    print(kernel.respond(input(\"Enter your message >> \")))"
   ]
  },
  {
   "cell_type": "markdown",
   "metadata": {},
   "source": [
    "### Speeding up Brain Load\n",
    "\n",
    "When you start to have a lot of AIML files, it can take a long time to learn. This is where brain files come in. After the bot learns all the AIML files it can save its brain directly to a file which will drastically speed up load times on subsequent runs."
   ]
  },
  {
   "cell_type": "code",
   "execution_count": 1,
   "metadata": {},
   "outputs": [
    {
     "name": "stdout",
     "output_type": "stream",
     "text": [
      "Loading brain from bot_brain.brn...done (4 categories in 0.00 seconds)\n",
      "Kernel bootstrap completed in 0.00 seconds\n"
     ]
    }
   ],
   "source": [
    "import aiml\n",
    "import os\n",
    "import sys\n",
    "\n",
    "kernel = aiml.Kernel()\n",
    "\n",
    "if os.path.isfile(\"bot_brain.brn\"):\n",
    "    kernel.bootstrap(brainFile = \"bot_brain.brn\")\n",
    "else:\n",
    "    kernel.bootstrap(learnFiles = \"std-startup.xml\", commands = \"load aiml b\")\n",
    "    kernel.saveBrain(\"bot_brain.brn\")\n",
    "\n",
    "# kernel now ready for use"
   ]
  },
  {
   "cell_type": "code",
   "execution_count": 2,
   "metadata": {},
   "outputs": [
    {
     "name": "stdout",
     "output_type": "stream",
     "text": [
      "Enter your message or bye to quit >> Hello\n",
      "Well, hello!\n",
      "Enter your message or bye to quit >> Bye\n",
      "\n",
      " Thanks for chatting! See you soon\n"
     ]
    }
   ],
   "source": [
    "while True:\n",
    "    inp = input(\"Enter your message or bye to quit >> \")\n",
    "    if inp.lower() == \"bye\": \n",
    "        print('\\n Thanks for chatting! See you soon')\n",
    "        break\n",
    "    else: \n",
    "        print(kernel.respond(inp))\n",
    "    "
   ]
  },
  {
   "cell_type": "markdown",
   "metadata": {},
   "source": [
    "### Connect to a data base"
   ]
  },
  {
   "cell_type": "code",
   "execution_count": null,
   "metadata": {
    "collapsed": true
   },
   "outputs": [],
   "source": [
    "import   mysql.connector, re\n",
    "import   pandas              as  pd\n",
    "import   numpy               as  np\n",
    "\n",
    "mydb = mysql.connector.connect(\n",
    "  host=\"localhost\",\n",
    "  user=\"root\",\n",
    "  passwd=\"\",\n",
    "  database=\"matrimony\"\n",
    ")\n",
    "\n",
    "mycursor = mydb.cursor()"
   ]
  },
  {
   "cell_type": "markdown",
   "metadata": {},
   "source": [
    "### Get user input"
   ]
  },
  {
   "cell_type": "code",
   "execution_count": 4,
   "metadata": {},
   "outputs": [
    {
     "name": "stdout",
     "output_type": "stream",
     "text": [
      "Enter your Profile ID>>M5929711\n",
      "M5929711\n"
     ]
    }
   ],
   "source": [
    "Profile_ID = input(\"Enter your Profile ID>>\")\n",
    "print(Profile_ID)"
   ]
  },
  {
   "cell_type": "code",
   "execution_count": 5,
   "metadata": {},
   "outputs": [
    {
     "name": "stdout",
     "output_type": "stream",
     "text": [
      "(1, 20)\n",
      "   S_No Profile_ID  Age  Gender Marital_Status     Caste  Sub_Caste  \\\n",
      "0     1   M5929711   27  Female  Never married  Mudaliar  Melakarar   \n",
      "\n",
      "        State     City Country Height physical_status Family_Status  \\\n",
      "0  Tamil Nadu  Chennai   India    5.8          Normal  Middle Class   \n",
      "\n",
      "  Family_Type Family_Values Groom_s_Age Groom_s_Education  Groom_s_Income  \\\n",
      "0       Joint      Orthodox       28-30          Graduate          400000   \n",
      "\n",
      "  Groom_s_Location About_Description  \n",
      "0       Tamil Nadu                NA  \n",
      "['S_No', 'Profile_ID', 'Age', 'Gender', 'Marital_Status', 'Caste', 'Sub_Caste', 'State', 'City', 'Country', 'Height', 'physical_status', 'Family_Status', 'Family_Type', 'Family_Values', 'Groom_s_Age', 'Groom_s_Education', 'Groom_s_Income', 'Groom_s_Location', 'About_Description']\n",
      "<class 'pandas.core.frame.DataFrame'>\n",
      "RangeIndex: 1 entries, 0 to 0\n",
      "Data columns (total 20 columns):\n",
      "S_No                 1 non-null int64\n",
      "Profile_ID           1 non-null object\n",
      "Age                  1 non-null int64\n",
      "Gender               1 non-null object\n",
      "Marital_Status       1 non-null object\n",
      "Caste                1 non-null object\n",
      "Sub_Caste            1 non-null object\n",
      "State                1 non-null object\n",
      "City                 1 non-null object\n",
      "Country              1 non-null object\n",
      "Height               1 non-null object\n",
      "physical_status      1 non-null object\n",
      "Family_Status        1 non-null object\n",
      "Family_Type          1 non-null object\n",
      "Family_Values        1 non-null object\n",
      "Groom_s_Age          1 non-null object\n",
      "Groom_s_Education    1 non-null object\n",
      "Groom_s_Income       1 non-null int64\n",
      "Groom_s_Location     1 non-null object\n",
      "About_Description    1 non-null object\n",
      "dtypes: int64(3), object(17)\n",
      "memory usage: 240.0+ bytes\n",
      "None\n"
     ]
    }
   ],
   "source": [
    "mycursor.execute(\"SELECT * FROM database_for_matrimony1 where PROFILE_ID = %s\", (Profile_ID,))\n",
    "\n",
    "myresult     = mycursor.fetchone()\n",
    "\n",
    "\n",
    "mycol        = ['S_No','Profile_ID','Age','Gender','Marital_Status','Caste','Sub_Caste','State','City','Country','Height',\\\n",
    "                'physical_status','Family_Status','Family_Type','Family_Values','Groom_s_Age','Groom_s_Education',\\\n",
    "                'Groom_s_Income','Groom_s_Location','About_Description']     \n",
    "\n",
    "\n",
    "df            = pd.DataFrame([myresult], columns= mycol, index = None)\n",
    "\n",
    "print(df.shape)\n",
    "print(df.head())  \n",
    "print(list(df))\n",
    "print(df.info())"
   ]
  },
  {
   "cell_type": "markdown",
   "metadata": {},
   "source": [
    "### Set session variables "
   ]
  },
  {
   "cell_type": "code",
   "execution_count": 6,
   "metadata": {
    "collapsed": true
   },
   "outputs": [],
   "source": [
    "sessionId     =  Profile_ID\n",
    "sessionData   =  kernel.getSessionData(sessionId)\n",
    "\n",
    "kernel.setPredicate(\"Age\",              df.Age[0],            sessionId)\n",
    "kernel.setPredicate(\"Gender\",           df.Gender[0],         sessionId)\n",
    "kernel.setPredicate(\"Marital_Status\",   df.Marital_Status[0], sessionId)\n",
    "kernel.setPredicate(\"Partner_s_Age\",    df.Groom_s_Age[0],    sessionId)\n"
   ]
  },
  {
   "cell_type": "markdown",
   "metadata": {},
   "source": [
    "### Get session variables "
   ]
  },
  {
   "cell_type": "code",
   "execution_count": 7,
   "metadata": {
    "collapsed": true
   },
   "outputs": [],
   "source": [
    "client_age              =   kernel.getPredicate(\"Age\", sessionId)\n",
    "client_gender           =   kernel.getPredicate(\"Gender\", sessionId)\n",
    "client_Marital_Status   =   kernel.getPredicate(\"Marital_Status\", sessionId)\n",
    "client_Partner_s_Age    =   kernel.getPredicate(\"Partner_s_Age\", sessionId)"
   ]
  },
  {
   "cell_type": "code",
   "execution_count": 8,
   "metadata": {},
   "outputs": [
    {
     "name": "stdout",
     "output_type": "stream",
     "text": [
      "\n",
      " Your profile ID is M5929711 Age is 27 Gender is Female Marital Status is Never married \n",
      "\n",
      " You prefer partners in the age range  28-30\n"
     ]
    }
   ],
   "source": [
    "print(\"\\n Your profile ID is %s Age is %d Gender is %s Marital Status is %s \"%(sessionId, client_age, client_gender, client_Marital_Status))\n",
    "print(\"\\n You prefer partners in the age range  %s\" %(client_Partner_s_Age))"
   ]
  },
  {
   "cell_type": "code",
   "execution_count": 9,
   "metadata": {},
   "outputs": [
    {
     "name": "stdout",
     "output_type": "stream",
     "text": [
      "28 30\n",
      "<class 'int'>\n",
      "<class 'int'>\n"
     ]
    }
   ],
   "source": [
    "lo, up = re.findall('\\d+', client_Partner_s_Age)\n",
    "\n",
    "lo     = int(lo)\n",
    "up     = int(up)\n",
    "print(lo, up)\n",
    "print(type(lo))\n",
    "print(type(up))    "
   ]
  },
  {
   "cell_type": "markdown",
   "metadata": {},
   "source": [
    "### Forward matches - "
   ]
  },
  {
   "cell_type": "code",
   "execution_count": 10,
   "metadata": {},
   "outputs": [
    {
     "name": "stdout",
     "output_type": "stream",
     "text": [
      "(19,)\n"
     ]
    }
   ],
   "source": [
    "mycursor.execute(\"SELECT count(*) FROM database_for_matrimony1 where Gender = 'Male' AND Age <= %s AND  Age >= %s\", (up, lo,))\n",
    "\n",
    "myresult     = mycursor.fetchone()\n",
    "print(myresult)"
   ]
  },
  {
   "cell_type": "markdown",
   "metadata": {},
   "source": [
    "### Relax Age limit and check the match count"
   ]
  },
  {
   "cell_type": "code",
   "execution_count": 11,
   "metadata": {},
   "outputs": [
    {
     "name": "stdout",
     "output_type": "stream",
     "text": [
      "\n",
      " You have set your partner age limit as 28-30\n",
      "Do you want to relax age limit? Y/N>>Y\n",
      "Y\n",
      "By how many years, do you want to relax your partner upper age limit? >>3\n",
      "3\n"
     ]
    }
   ],
   "source": [
    "print('\\n You have set your partner age limit as %s' % client_Partner_s_Age)\n",
    "ans = input(\"Do you want to relax age limit? Y/N>>\")\n",
    "print(ans)\n",
    "\n",
    "if ans.lower() == 'N': sys.exit(0)\n",
    "\n",
    "relax_years = input(\"By how many years, do you want to relax your partner upper age limit? >>\")\n",
    "print(relax_years)"
   ]
  },
  {
   "cell_type": "code",
   "execution_count": 12,
   "metadata": {},
   "outputs": [
    {
     "name": "stdout",
     "output_type": "stream",
     "text": [
      "\n",
      "Relaxed upper age limit is now 31 - 33\n",
      "\n",
      "At age 31, you will get 6 more matches from male partners\n",
      "\n",
      "At age 32, you will get 1 more matches from male partners\n",
      "\n",
      "At age 33, you will get 0 more matches from male partners\n"
     ]
    }
   ],
   "source": [
    "age_l          = 0\n",
    "age_u          = 0\n",
    "age_l          = up + 1\n",
    "age_u          = up + int(relax_years) \n",
    "\n",
    "print('\\nRelaxed upper age limit is now %d - %d' %(age_l, age_u))\n",
    "relaxed_age_limit = range(age_l, age_u + 1)\n",
    "\n",
    "for age_i in relaxed_age_limit:\n",
    "    mycursor.execute(\"SELECT count(*) FROM database_for_matrimony1 where Gender = 'Male' AND Age = %s \", (age_i,))\n",
    "    myresult     = mycursor.fetchone()\n",
    "    print('\\nAt age %d, you will get %s more matches from male partners' % (age_i, myresult[0]))"
   ]
  },
  {
   "cell_type": "markdown",
   "metadata": {},
   "source": [
    "### Reverse matches"
   ]
  },
  {
   "cell_type": "code",
   "execution_count": 13,
   "metadata": {},
   "outputs": [
    {
     "name": "stdout",
     "output_type": "stream",
     "text": [
      "SELECT count(*) FROM database_for_matrimony1 where Gender = 'Male' AND Age <= %s AND  Age >= %s AND substring(Groom_s_Age,1,instr(Groom_s_Age,'-')-1) <= %s AND substring(Groom_s_Age,instr(Groom_s_Age,'-')+1) >= %s \n"
     ]
    },
    {
     "ename": "ProgrammingError",
     "evalue": "Failed processing format-parameters; Python 'int64' cannot be converted to a MySQL type",
     "output_type": "error",
     "traceback": [
      "\u001b[1;31m---------------------------------------------------------------------------\u001b[0m",
      "\u001b[1;31mAttributeError\u001b[0m                            Traceback (most recent call last)",
      "\u001b[1;32mD:\\Python\\lib\\site-packages\\mysql\\connector\\conversion.py\u001b[0m in \u001b[0;36mto_mysql\u001b[1;34m(self, value)\u001b[0m\n\u001b[0;32m    178\u001b[0m         \u001b[1;32mtry\u001b[0m\u001b[1;33m:\u001b[0m\u001b[1;33m\u001b[0m\u001b[0m\n\u001b[1;32m--> 179\u001b[1;33m             \u001b[1;32mreturn\u001b[0m \u001b[0mgetattr\u001b[0m\u001b[1;33m(\u001b[0m\u001b[0mself\u001b[0m\u001b[1;33m,\u001b[0m \u001b[1;34m\"_{0}_to_mysql\"\u001b[0m\u001b[1;33m.\u001b[0m\u001b[0mformat\u001b[0m\u001b[1;33m(\u001b[0m\u001b[0mtype_name\u001b[0m\u001b[1;33m)\u001b[0m\u001b[1;33m)\u001b[0m\u001b[1;33m(\u001b[0m\u001b[0mvalue\u001b[0m\u001b[1;33m)\u001b[0m\u001b[1;33m\u001b[0m\u001b[0m\n\u001b[0m\u001b[0;32m    180\u001b[0m         \u001b[1;32mexcept\u001b[0m \u001b[0mAttributeError\u001b[0m\u001b[1;33m:\u001b[0m\u001b[1;33m\u001b[0m\u001b[0m\n",
      "\u001b[1;31mAttributeError\u001b[0m: 'MySQLConverter' object has no attribute '_int64_to_mysql'",
      "\nDuring handling of the above exception, another exception occurred:\n",
      "\u001b[1;31mTypeError\u001b[0m                                 Traceback (most recent call last)",
      "\u001b[1;32mD:\\Python\\lib\\site-packages\\mysql\\connector\\cursor.py\u001b[0m in \u001b[0;36m_process_params\u001b[1;34m(self, params)\u001b[0m\n\u001b[0;32m    380\u001b[0m \u001b[1;33m\u001b[0m\u001b[0m\n\u001b[1;32m--> 381\u001b[1;33m             \u001b[0mres\u001b[0m \u001b[1;33m=\u001b[0m \u001b[1;33m[\u001b[0m\u001b[0mto_mysql\u001b[0m\u001b[1;33m(\u001b[0m\u001b[0mi\u001b[0m\u001b[1;33m)\u001b[0m \u001b[1;32mfor\u001b[0m \u001b[0mi\u001b[0m \u001b[1;32min\u001b[0m \u001b[0mres\u001b[0m\u001b[1;33m]\u001b[0m\u001b[1;33m\u001b[0m\u001b[0m\n\u001b[0m\u001b[0;32m    382\u001b[0m             \u001b[0mres\u001b[0m \u001b[1;33m=\u001b[0m \u001b[1;33m[\u001b[0m\u001b[0mescape\u001b[0m\u001b[1;33m(\u001b[0m\u001b[0mi\u001b[0m\u001b[1;33m)\u001b[0m \u001b[1;32mfor\u001b[0m \u001b[0mi\u001b[0m \u001b[1;32min\u001b[0m \u001b[0mres\u001b[0m\u001b[1;33m]\u001b[0m\u001b[1;33m\u001b[0m\u001b[0m\n",
      "\u001b[1;32mD:\\Python\\lib\\site-packages\\mysql\\connector\\cursor.py\u001b[0m in \u001b[0;36m<listcomp>\u001b[1;34m(.0)\u001b[0m\n\u001b[0;32m    380\u001b[0m \u001b[1;33m\u001b[0m\u001b[0m\n\u001b[1;32m--> 381\u001b[1;33m             \u001b[0mres\u001b[0m \u001b[1;33m=\u001b[0m \u001b[1;33m[\u001b[0m\u001b[0mto_mysql\u001b[0m\u001b[1;33m(\u001b[0m\u001b[0mi\u001b[0m\u001b[1;33m)\u001b[0m \u001b[1;32mfor\u001b[0m \u001b[0mi\u001b[0m \u001b[1;32min\u001b[0m \u001b[0mres\u001b[0m\u001b[1;33m]\u001b[0m\u001b[1;33m\u001b[0m\u001b[0m\n\u001b[0m\u001b[0;32m    382\u001b[0m             \u001b[0mres\u001b[0m \u001b[1;33m=\u001b[0m \u001b[1;33m[\u001b[0m\u001b[0mescape\u001b[0m\u001b[1;33m(\u001b[0m\u001b[0mi\u001b[0m\u001b[1;33m)\u001b[0m \u001b[1;32mfor\u001b[0m \u001b[0mi\u001b[0m \u001b[1;32min\u001b[0m \u001b[0mres\u001b[0m\u001b[1;33m]\u001b[0m\u001b[1;33m\u001b[0m\u001b[0m\n",
      "\u001b[1;32mD:\\Python\\lib\\site-packages\\mysql\\connector\\conversion.py\u001b[0m in \u001b[0;36mto_mysql\u001b[1;34m(self, value)\u001b[0m\n\u001b[0;32m    181\u001b[0m             raise TypeError(\"Python '{0}' cannot be converted to a \"\n\u001b[1;32m--> 182\u001b[1;33m                             \"MySQL type\".format(type_name))\n\u001b[0m\u001b[0;32m    183\u001b[0m \u001b[1;33m\u001b[0m\u001b[0m\n",
      "\u001b[1;31mTypeError\u001b[0m: Python 'int64' cannot be converted to a MySQL type",
      "\nDuring handling of the above exception, another exception occurred:\n",
      "\u001b[1;31mProgrammingError\u001b[0m                          Traceback (most recent call last)",
      "\u001b[1;32m<ipython-input-13-37cc245caf30>\u001b[0m in \u001b[0;36m<module>\u001b[1;34m()\u001b[0m\n\u001b[0;32m      3\u001b[0m \u001b[1;33m\u001b[0m\u001b[0m\n\u001b[0;32m      4\u001b[0m \u001b[0mprint\u001b[0m\u001b[1;33m(\u001b[0m\u001b[0mQry\u001b[0m\u001b[1;33m)\u001b[0m\u001b[1;33m\u001b[0m\u001b[0m\n\u001b[1;32m----> 5\u001b[1;33m \u001b[0mmycursor\u001b[0m\u001b[1;33m.\u001b[0m\u001b[0mexecute\u001b[0m\u001b[1;33m(\u001b[0m\u001b[0mQry\u001b[0m\u001b[1;33m,\u001b[0m \u001b[1;33m(\u001b[0m\u001b[0mup\u001b[0m\u001b[1;33m,\u001b[0m \u001b[0mlo\u001b[0m\u001b[1;33m,\u001b[0m \u001b[0mclient_age\u001b[0m\u001b[1;33m,\u001b[0m \u001b[0mclient_age\u001b[0m\u001b[1;33m,\u001b[0m\u001b[1;33m)\u001b[0m\u001b[1;33m)\u001b[0m\u001b[1;33m\u001b[0m\u001b[0m\n\u001b[0m\u001b[0;32m      6\u001b[0m \u001b[0mmyresult\u001b[0m     \u001b[1;33m=\u001b[0m \u001b[0mmycursor\u001b[0m\u001b[1;33m.\u001b[0m\u001b[0mfetchone\u001b[0m\u001b[1;33m(\u001b[0m\u001b[1;33m)\u001b[0m\u001b[1;33m\u001b[0m\u001b[0m\n\u001b[0;32m      7\u001b[0m \u001b[0mprint\u001b[0m\u001b[1;33m(\u001b[0m\u001b[0mmyresult\u001b[0m\u001b[1;33m)\u001b[0m\u001b[1;33m\u001b[0m\u001b[0m\n",
      "\u001b[1;32mD:\\Python\\lib\\site-packages\\mysql\\connector\\cursor.py\u001b[0m in \u001b[0;36mexecute\u001b[1;34m(self, operation, params, multi)\u001b[0m\n\u001b[0;32m    501\u001b[0m                     \u001b[0mstmt\u001b[0m \u001b[1;33m=\u001b[0m \u001b[0mstmt\u001b[0m\u001b[1;33m.\u001b[0m\u001b[0mreplace\u001b[0m\u001b[1;33m(\u001b[0m\u001b[0mkey\u001b[0m\u001b[1;33m,\u001b[0m \u001b[0mvalue\u001b[0m\u001b[1;33m)\u001b[0m\u001b[1;33m\u001b[0m\u001b[0m\n\u001b[0;32m    502\u001b[0m             \u001b[1;32melif\u001b[0m \u001b[0misinstance\u001b[0m\u001b[1;33m(\u001b[0m\u001b[0mparams\u001b[0m\u001b[1;33m,\u001b[0m \u001b[1;33m(\u001b[0m\u001b[0mlist\u001b[0m\u001b[1;33m,\u001b[0m \u001b[0mtuple\u001b[0m\u001b[1;33m)\u001b[0m\u001b[1;33m)\u001b[0m\u001b[1;33m:\u001b[0m\u001b[1;33m\u001b[0m\u001b[0m\n\u001b[1;32m--> 503\u001b[1;33m                 \u001b[0mpsub\u001b[0m \u001b[1;33m=\u001b[0m \u001b[0m_ParamSubstitutor\u001b[0m\u001b[1;33m(\u001b[0m\u001b[0mself\u001b[0m\u001b[1;33m.\u001b[0m\u001b[0m_process_params\u001b[0m\u001b[1;33m(\u001b[0m\u001b[0mparams\u001b[0m\u001b[1;33m)\u001b[0m\u001b[1;33m)\u001b[0m\u001b[1;33m\u001b[0m\u001b[0m\n\u001b[0m\u001b[0;32m    504\u001b[0m                 \u001b[0mstmt\u001b[0m \u001b[1;33m=\u001b[0m \u001b[0mRE_PY_PARAM\u001b[0m\u001b[1;33m.\u001b[0m\u001b[0msub\u001b[0m\u001b[1;33m(\u001b[0m\u001b[0mpsub\u001b[0m\u001b[1;33m,\u001b[0m \u001b[0mstmt\u001b[0m\u001b[1;33m)\u001b[0m\u001b[1;33m\u001b[0m\u001b[0m\n\u001b[0;32m    505\u001b[0m                 \u001b[1;32mif\u001b[0m \u001b[0mpsub\u001b[0m\u001b[1;33m.\u001b[0m\u001b[0mremaining\u001b[0m \u001b[1;33m!=\u001b[0m \u001b[1;36m0\u001b[0m\u001b[1;33m:\u001b[0m\u001b[1;33m\u001b[0m\u001b[0m\n",
      "\u001b[1;32mD:\\Python\\lib\\site-packages\\mysql\\connector\\cursor.py\u001b[0m in \u001b[0;36m_process_params\u001b[1;34m(self, params)\u001b[0m\n\u001b[0;32m    384\u001b[0m         \u001b[1;32mexcept\u001b[0m \u001b[0mException\u001b[0m \u001b[1;32mas\u001b[0m \u001b[0merr\u001b[0m\u001b[1;33m:\u001b[0m\u001b[1;33m\u001b[0m\u001b[0m\n\u001b[0;32m    385\u001b[0m             raise errors.ProgrammingError(\n\u001b[1;32m--> 386\u001b[1;33m                 \"Failed processing format-parameters; %s\" % err)\n\u001b[0m\u001b[0;32m    387\u001b[0m         \u001b[1;32melse\u001b[0m\u001b[1;33m:\u001b[0m\u001b[1;33m\u001b[0m\u001b[0m\n\u001b[0;32m    388\u001b[0m             \u001b[1;32mreturn\u001b[0m \u001b[0mtuple\u001b[0m\u001b[1;33m(\u001b[0m\u001b[0mres\u001b[0m\u001b[1;33m)\u001b[0m\u001b[1;33m\u001b[0m\u001b[0m\n",
      "\u001b[1;31mProgrammingError\u001b[0m: Failed processing format-parameters; Python 'int64' cannot be converted to a MySQL type"
     ]
    }
   ],
   "source": [
    "Qry = \"SELECT count(*) FROM database_for_matrimony1 where Gender = 'Male' AND Age <= %s AND  Age >= %s \"\n",
    "Qry = Qry + \"AND substring(Groom_s_Age,1,instr(Groom_s_Age,'-')-1) <= %s AND substring(Groom_s_Age,instr(Groom_s_Age,'-')+1) >= %s \"\n",
    "\n",
    "print(Qry)\n",
    "mycursor.execute(Qry, (up, lo, client_age, client_age,))\n",
    "myresult     = mycursor.fetchone()\n",
    "print(myresult)"
   ]
  },
  {
   "cell_type": "code",
   "execution_count": null,
   "metadata": {
    "collapsed": true
   },
   "outputs": [],
   "source": []
  },
  {
   "cell_type": "markdown",
   "metadata": {},
   "source": [
    "### END"
   ]
  }
 ],
 "metadata": {
  "kernelspec": {
   "display_name": "Python 3",
   "language": "python",
   "name": "python3"
  },
  "language_info": {
   "codemirror_mode": {
    "name": "ipython",
    "version": 3
   },
   "file_extension": ".py",
   "mimetype": "text/x-python",
   "name": "python",
   "nbconvert_exporter": "python",
   "pygments_lexer": "ipython3",
   "version": "3.6.3"
  }
 },
 "nbformat": 4,
 "nbformat_minor": 2
}
