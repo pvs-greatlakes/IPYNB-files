{
 "cells": [
  {
   "cell_type": "markdown",
   "metadata": {},
   "source": [
    "https://www.tutorialspoint.com/python_pandas/python_pandas_dataframe.htm\n",
    "https://www.datacamp.com/community/tutorials/pandas-tutorial-dataframe-python"
   ]
  },
  {
   "cell_type": "code",
   "execution_count": null,
   "metadata": {
    "collapsed": true
   },
   "outputs": [],
   "source": [
    "import pandas as pd\n",
    "pd.__version__"
   ]
  },
  {
   "cell_type": "code",
   "execution_count": null,
   "metadata": {
    "collapsed": true
   },
   "outputs": [],
   "source": [
    "import pandas as pd\n",
    "dataFrame = pd.DataFrame()\n",
    "print('dataFrame: ', dataFrame, 'type', type(dataFrame))"
   ]
  },
  {
   "cell_type": "code",
   "execution_count": null,
   "metadata": {
    "collapsed": true
   },
   "outputs": [],
   "source": [
    "import pandas as pd\n",
    "\n",
    "lists1 =  [10, 11, 12, 13, 14]\n",
    "df1    =  pd.DataFrame(lists1)\n",
    "print('DataFrame df1 : ', df1, '\\ntype', type(df1))"
   ]
  },
  {
   "cell_type": "code",
   "execution_count": null,
   "metadata": {
    "collapsed": true
   },
   "outputs": [],
   "source": [
    "import pandas as pd\n",
    "\n",
    "dict1 =  {'Name' : ['Arun', 'Alex', 'Babu','Charlee','David'], 'Age' : [23, 24, 31, 21, 30]}\n",
    "df2    =  pd.DataFrame(dict1)\n",
    "print('DataFrame df2 : \\n', df2, '\\ntype', type(df2))"
   ]
  },
  {
   "cell_type": "code",
   "execution_count": null,
   "metadata": {
    "collapsed": true
   },
   "outputs": [],
   "source": [
    "import numpy  as np\n",
    "import pandas as pd\n",
    "\n",
    "tuple1 =  (23, 24, 31, 21, 30)\n",
    "arr1   =  np.array(tuple1)\n",
    "df3    =  pd.DataFrame(arr1, columns = ['Age'])\n",
    "print('DataFrame df3 : \\n', df3, '\\ntype', type(df3))"
   ]
  },
  {
   "cell_type": "code",
   "execution_count": null,
   "metadata": {
    "collapsed": true
   },
   "outputs": [],
   "source": [
    "import pandas as pd\n",
    "\n",
    "dict1  =  {'Name' : ['Arun', 'Alex', 'Babu','Charlee','David'], 'Age' : [23, 24, 31, 21, 30]}\n",
    "df2    =  pd.DataFrame(dict1)\n",
    "df4    =  pd.DataFrame({'Name' : df2['Name'], 'Salary': [25000, 26000, 32000, 21000, 31000]}, columns = ['Name', 'Salary'])\n",
    "print('DataFrame df4 : \\n', df4, '\\ntype', type(df4))"
   ]
  },
  {
   "cell_type": "markdown",
   "metadata": {},
   "source": []
  },
  {
   "cell_type": "code",
   "execution_count": null,
   "metadata": {
    "collapsed": true
   },
   "outputs": [],
   "source": [
    "import pandas as pd\n",
    "\n",
    "dict1          =  {'Name' : ['Arun', 'Alex', 'Babu','Charlee','David'], 'Age' : [23, 24, 31, 21, 30]}\n",
    "df2            =  pd.DataFrame(dict1)\n",
    "address        = ['Chennai', 'Bengalooru', 'Delhi', 'Kolkutta', 'Chennai']\n",
    "df4            =  pd.DataFrame({'Name' : df2['Name'], 'Salary': [25000, 26000, 32000, 21000, 31000]}, \\\n",
    "                               columns = ['Name', 'Salary'])\n",
    "df4['Address'] = address\n",
    "print('DataFrame df4 : \\n', df4, '\\ntype', type(df4))"
   ]
  },
  {
   "cell_type": "code",
   "execution_count": null,
   "metadata": {
    "collapsed": true
   },
   "outputs": [],
   "source": [
    "import pandas as pd\n",
    "\n",
    "dict1          =  {'Name' : ['Arun', 'Alex', 'Babu','Charlee','David'], 'Age' : [23, 24, 31, 21, 30]}\n",
    "df2            =  pd.DataFrame(dict1)\n",
    "address        = ['Chennai', 'Bengalooru', 'Delhi', 'Kolkutta', 'Chennai']\n",
    "df5            =  pd.DataFrame({'Name' : df2['Name'], 'Age': df2['Age'], \\\n",
    "                                'Salary': [25000, 26000, 32000, 21000, 31000]}, \\\n",
    "                                 columns = ['Name', 'Age', 'Salary'])\n",
    "del df5['Age']\n",
    "print('DataFrame df5 : \\n', df5, '\\ntype', type(df5))"
   ]
  },
  {
   "cell_type": "code",
   "execution_count": null,
   "metadata": {
    "collapsed": true
   },
   "outputs": [],
   "source": [
    "import pandas as pd\n",
    "\n",
    "dict1          =  {'Name' : ['Arun', 'Alex', 'Babu','Charlee','David'], 'Age' : [23, 24, 31, 21, 30]}\n",
    "df2            =  pd.DataFrame(dict1)\n",
    "address        = ['Chennai', 'Bengalooru', 'Delhi', 'Kolkutta', 'Chennai']\n",
    "df5            =  pd.DataFrame({'Name' : df2['Name'], 'Age': df2['Age'], \\\n",
    "                                'Salary': [25000, 26000, 32000, 21000, 31000]}, \\\n",
    "                                 columns = ['Name', 'Age', 'Salary'])\n",
    "\n",
    "print(\"DataFrame df5 : \\n\", df5)"
   ]
  },
  {
   "cell_type": "code",
   "execution_count": null,
   "metadata": {
    "collapsed": true
   },
   "outputs": [],
   "source": [
    "df5.loc[df5['Age'] < 30,'Age']"
   ]
  },
  {
   "cell_type": "code",
   "execution_count": null,
   "metadata": {
    "collapsed": true
   },
   "outputs": [],
   "source": [
    "print('\\ndf5.iloc[1]: \\n', df5.iloc[1])('df5 ', df5)\n"
   ]
  },
  {
   "cell_type": "code",
   "execution_count": null,
   "metadata": {
    "collapsed": true
   },
   "outputs": [],
   "source": [
    "df5[1:4]"
   ]
  },
  {
   "cell_type": "code",
   "execution_count": null,
   "metadata": {
    "collapsed": true
   },
   "outputs": [],
   "source": [
    "import pandas as pd\n",
    "\n",
    "df1 = pd.DataFrame({'Name' : ['Arun', 'Alex', 'Ajay'], 'Age' : [20, 24, 25]}, columns = ['Name', 'Age'])\n",
    "df2 = pd.DataFrame({'Name' : ['Bob', 'Bret', 'Bennert'], 'Age' : [25, 26, 28]}, columns = ['Name', 'Age'])\n",
    "df  = df1.append(df2)\n",
    "print('\\ndf1: \\n', df1)\n",
    "print('\\ndf2: \\n', df2)\n",
    "print('\\nAdd df2 at end of df1\\n')\n",
    "print('\\ndf: \\n', df)"
   ]
  },
  {
   "cell_type": "code",
   "execution_count": null,
   "metadata": {
    "collapsed": true
   },
   "outputs": [],
   "source": [
    "df3 = df2.drop(2) # delete third row\n",
    "print('\\ndf3: \\n', df3)\n",
    "df4 = df2.drop(columns = 'Age') # delete a column, Age\n",
    "print('\\ndf4: \\n', df4)\n"
   ]
  },
  {
   "cell_type": "code",
   "execution_count": null,
   "metadata": {
    "collapsed": true
   },
   "outputs": [],
   "source": [
    "import pandas as pd\n",
    "\n",
    "ser1 = pd.Series([10, 11, 12, 13, 14])\n",
    "print('\\nser1:\\n', ser1)"
   ]
  },
  {
   "cell_type": "code",
   "execution_count": null,
   "metadata": {
    "collapsed": true
   },
   "outputs": [],
   "source": [
    "ser1.values"
   ]
  },
  {
   "cell_type": "code",
   "execution_count": null,
   "metadata": {
    "collapsed": true
   },
   "outputs": [],
   "source": [
    "ser1.index"
   ]
  },
  {
   "cell_type": "code",
   "execution_count": null,
   "metadata": {
    "collapsed": true
   },
   "outputs": [],
   "source": [
    "emp_name = ['Arun', 'Alex', 'Ajay']\n",
    "emp_id   = ['E101', 'E102', 'E103']\n",
    "ser2 = pd.Series(emp_name, index = emp_id)\n",
    "print('\\nser2:\\n',ser2)"
   ]
  },
  {
   "cell_type": "code",
   "execution_count": null,
   "metadata": {
    "collapsed": true
   },
   "outputs": [],
   "source": [
    "print('Values\\n',ser2.values)\n",
    "print('Index\\n',ser2.index)"
   ]
  },
  {
   "cell_type": "code",
   "execution_count": null,
   "metadata": {
    "collapsed": true
   },
   "outputs": [],
   "source": [
    "print('\\nSelect Name corresponding to E103\\n', ser2['E103'])\n",
    "print('\\nSelect Name corresponding to E102 and E103\\n', ser2[['E102','E103']])"
   ]
  },
  {
   "cell_type": "code",
   "execution_count": null,
   "metadata": {
    "collapsed": true
   },
   "outputs": [],
   "source": [
    "emp_id   = ['E101', 'E102', 'E103']\n",
    "emp_age  = [ 23, 45, 59]\n",
    "ser3 = pd.Series(emp_age, index = emp_id)\n",
    "\n",
    "print('select empid with age < 40\\n', ser3[ser3 < 40])"
   ]
  },
  {
   "cell_type": "code",
   "execution_count": null,
   "metadata": {
    "collapsed": true
   },
   "outputs": [],
   "source": [
    "print('\\ncheck if the E102 exists in ser3\\n', 'E102' in ser3) "
   ]
  },
  {
   "cell_type": "code",
   "execution_count": null,
   "metadata": {
    "collapsed": true
   },
   "outputs": [],
   "source": [
    "emp_dict = {'Arun' : 23, 'Alex' : 45, 'Ajay' : 59}\n",
    "ser4     =  pd.Series(emp_dict)\n",
    "ser4"
   ]
  },
  {
   "cell_type": "code",
   "execution_count": null,
   "metadata": {
    "collapsed": true
   },
   "outputs": [],
   "source": [
    "index_labels = ['Ajay', 'Arun', 'Alex']\n",
    "emp_dict     = {'Arun' : 23, 'Alex' : 45, 'Ajay' : 59}\n",
    "ser5         = pd.Series(emp_dict, index = index_labels)\n",
    "ser5"
   ]
  },
  {
   "cell_type": "code",
   "execution_count": null,
   "metadata": {
    "collapsed": true
   },
   "outputs": [],
   "source": [
    "index_labels = ['Ajay', 'Arun', 'Alex','Bob'] # No value  for Bob\n",
    "emp_dict     = {'Arun' : 23, 'Alex' : 45, 'Ajay' : 59}\n",
    "ser6         = pd.Series(emp_dict, index = index_labels)\n",
    "ser6"
   ]
  },
  {
   "cell_type": "code",
   "execution_count": null,
   "metadata": {
    "collapsed": true
   },
   "outputs": [],
   "source": [
    "ser6.isnull()"
   ]
  },
  {
   "cell_type": "code",
   "execution_count": null,
   "metadata": {
    "collapsed": true
   },
   "outputs": [],
   "source": [
    "ser6.notnull()"
   ]
  },
  {
   "cell_type": "code",
   "execution_count": null,
   "metadata": {
    "collapsed": true
   },
   "outputs": [],
   "source": [
    "student_dict  = {'Arun' : 23.0, 'Alex' : 45.0, 'Ajay' : 59.0}\n",
    "student_dict1 = {'Arun' : 33.0, 'Alex' : 35.0,'Bob' : 38.0, 'Bert' : 40.0, 'Ben' : 37.0}\n",
    "ser6     =  pd.Series(student_dict)\n",
    "ser7     =  pd.Series(student_dict1)\n",
    "print(ser6)\n",
    "print(ser7)"
   ]
  },
  {
   "cell_type": "code",
   "execution_count": null,
   "metadata": {
    "collapsed": true
   },
   "outputs": [],
   "source": [
    "print(ser6 + ser7)"
   ]
  },
  {
   "cell_type": "code",
   "execution_count": null,
   "metadata": {
    "collapsed": true
   },
   "outputs": [],
   "source": [
    "ser = ser6 + ser7\n",
    "ser.index.name = 'Marks'\n",
    "ser"
   ]
  },
  {
   "cell_type": "code",
   "execution_count": null,
   "metadata": {
    "collapsed": true
   },
   "outputs": [],
   "source": [
    "ser.index = ['Ajay', 'Alex', 'Arun', 'Ben', 'Caren', 'Chaplin']\n",
    "ser"
   ]
  },
  {
   "cell_type": "code",
   "execution_count": null,
   "metadata": {
    "collapsed": true
   },
   "outputs": [],
   "source": [
    "import pandas as pd\n",
    "\n",
    "emp_name = ['Arun', 'Alex', 'Ajay']\n",
    "emp_id   = ['E101', 'E102', 'E103']\n",
    "ser0 = pd.Series(emp_name)\n",
    "print('\\nser0:\\n',ser0)"
   ]
  },
  {
   "cell_type": "code",
   "execution_count": null,
   "metadata": {
    "collapsed": true
   },
   "outputs": [],
   "source": [
    "ser0.index = emp_id\n",
    "ser0.index.name = 'EmpID'\n",
    "print('\\nser0:\\n',ser0)"
   ]
  },
  {
   "cell_type": "code",
   "execution_count": null,
   "metadata": {},
   "outputs": [],
   "source": [
    "import pandas as pd\n",
    "\n",
    "dict1          =  {'Name' : ['Arun', 'Alex', 'Babu','Charlee','David'], 'Age' : [23, 24, 31, 21, 30]}\n",
    "df2            =  pd.DataFrame(dict1)\n",
    "address        = ['Chennai', 'Bengalooru', 'Delhi', 'Kolkutta', 'Chennai']\n",
    "df5            =  pd.DataFrame({'Name' : df2['Name'], 'Age': df2['Age'], \\\n",
    "                                'Salary': [25000, 26000, 32000, 21000, 31000]}, \\\n",
    "                                 columns = ['Name', 'Age', 'Salary'])\n",
    "\n",
    "print(\"DataFrame df5 : \\n\", df5)"
   ]
  },
  {
   "cell_type": "code",
   "execution_count": null,
   "metadata": {},
   "outputs": [],
   "source": [
    "df5.set_index('Name', inplace = True)\n",
    "df5"
   ]
  },
  {
   "cell_type": "code",
   "execution_count": null,
   "metadata": {},
   "outputs": [],
   "source": [
    "import pandas as pd\n",
    "\n",
    "dict1          =  {'Name' : ['Arun', 'Alex', 'Babu','Charlee','David'], 'Age' : [23, 24, 31, 21, 30]}\n",
    "df2            =  pd.DataFrame(dict1)\n",
    "address        = ['Chennai', 'Bengalooru', 'Delhi', 'Kolkutta', 'Chennai']\n",
    "df5            =  pd.DataFrame({'Name' : df2['Name'], 'Age': df2['Age'], \\\n",
    "                                'Salary': [25000, 26000, 32000, 21000, 31000]}, \\\n",
    "                                 columns = ['Name', 'Age', 'Salary'])\n",
    "\n",
    "print(\"DataFrame df5 : \\n\", df5)\n",
    "df5.set_index('Name', inplace = True, drop = False)\n",
    "df5"
   ]
  },
  {
   "cell_type": "code",
   "execution_count": null,
   "metadata": {
    "collapsed": true
   },
   "outputs": [],
   "source": [
    "import pandas as pd\n",
    "\n",
    "dict1          =  {'Name' : ['Arun', 'Alex', 'Babu','Charlee','David']}\n",
    "df2            =  pd.DataFrame(dict1)\n",
    "index          = df2['Name']\n",
    "df5            =  pd.DataFrame({'Name' : df2['Name'], 'Age': [23, 32, 25, 31, 32], \\\n",
    "                                'Salary': [25000, 26000, 32000, 21000, 31000]}, \\\n",
    "                                 columns = ['Age', 'Salary'],\\\n",
    "                                 index   = index)"
   ]
  },
  {
   "cell_type": "code",
   "execution_count": null,
   "metadata": {},
   "outputs": [],
   "source": [
    "df5"
   ]
  },
  {
   "cell_type": "code",
   "execution_count": null,
   "metadata": {},
   "outputs": [],
   "source": [
    "df5.reset_index()"
   ]
  },
  {
   "cell_type": "code",
   "execution_count": null,
   "metadata": {
    "collapsed": true
   },
   "outputs": [],
   "source": [
    "import pandas as pd\n",
    "\n",
    "df             =  pd.DataFrame({'Name' : ['Arun', 'Alex', 'Babu','Charlee','David'],\\\n",
    "                                'Age': [23, 32, 25, 31, 32], \\\n",
    "                                'Salary': [25000, 26000, 32000, 21000, 31000]}, \\\n",
    "                                 columns = ['Name', 'Age', 'Salary'])"
   ]
  },
  {
   "cell_type": "code",
   "execution_count": null,
   "metadata": {
    "collapsed": true
   },
   "outputs": [],
   "source": [
    "#reindex the DataFrame\n",
    "df_reindexed = df.reindex(index=[0,2,1], columns=['Name', 'Salary', 'Age'])"
   ]
  },
  {
   "cell_type": "code",
   "execution_count": null,
   "metadata": {},
   "outputs": [],
   "source": [
    "df_reindexed "
   ]
  },
  {
   "cell_type": "code",
   "execution_count": null,
   "metadata": {
    "collapsed": true
   },
   "outputs": [],
   "source": [
    "import pandas as pd\n",
    "\n",
    "df1              =  pd.DataFrame({'Name' : ['Arun', 'Alex', 'Babu','Charlee','David', 'Ebenezer'],\\\n",
    "                                'Age': [23, 24, 25, None, 32, None], \\\n",
    "                                'Salary': [25000, 26000, 27000, 27500, 31000, 34000]}, \\\n",
    "                                 columns = ['Name', 'Age', 'Salary'])"
   ]
  },
  {
   "cell_type": "code",
   "execution_count": null,
   "metadata": {},
   "outputs": [],
   "source": [
    "print('\\nBefore ffill\\n')\n",
    "print(df1)"
   ]
  },
  {
   "cell_type": "code",
   "execution_count": null,
   "metadata": {},
   "outputs": [],
   "source": [
    "ranges = range(6)\n",
    "df1.reindex(ranges, method = 'ffill', limit = 3, fill_value = 'NaN')"
   ]
  },
  {
   "cell_type": "code",
   "execution_count": null,
   "metadata": {
    "collapsed": true
   },
   "outputs": [],
   "source": [
    "df = pd.DataFrame({\"A\":[1, 5, 3, 4, 2], \n",
    "                   \"B\":[3, 2, 4, 3, None], \n",
    "                   \"C\":[2, 2, 7, 3, 4], \n",
    "                   \"D\":[4, 3, 6, 12, 7]}, \n",
    "                   index =[\"first\", \"second\", \"third\", \"fourth\", \"fifth\"]) "
   ]
  },
  {
   "cell_type": "code",
   "execution_count": null,
   "metadata": {},
   "outputs": [],
   "source": [
    "df.reindex(columns =[\"A\", \"B\", \"D\", \"E\"], method = 'bfill', fill_value = 'NaN')"
   ]
  },
  {
   "cell_type": "code",
   "execution_count": null,
   "metadata": {},
   "outputs": [],
   "source": [
    "import pandas as pd\n",
    "import numpy as np\n",
    "\n",
    "df1 = pd.DataFrame(np.arange(16).reshape(4,4), index=['a','b','c', 'd'],\\\n",
    "                   columns=['Ohio','Texas','California', 'New York'])\n",
    "print('\\nBefore renaming\\n')\n",
    "print(df1)"
   ]
  },
  {
   "cell_type": "code",
   "execution_count": null,
   "metadata": {},
   "outputs": [],
   "source": [
    "df1.rename(columns = {'Ohio' :'Texas', 'Texas':'Utah', 'California' : 'Conneticut', \\\n",
    "                      'New York' : 'New Jersey'},\\\n",
    "           index = {'a' : 'Number of Homicides', 'b' : 'Number of Robbery', \\\n",
    "                    'c' : 'Number of Thefts', 'd' : 'Non-criminal offenses'},\\\n",
    "          inplace = True)\n",
    "print (\"After renaming the rows and columns:\")\n",
    "print(df1)"
   ]
  },
  {
   "cell_type": "code",
   "execution_count": 1,
   "metadata": {},
   "outputs": [
    {
     "name": "stdout",
     "output_type": "stream",
     "text": [
      "       Name   Age  Salary\n",
      "0      Arun  23.0   25000\n",
      "1      Alex  24.0   26000\n",
      "2      Babu  25.0   27000\n",
      "3   Charlee   NaN   27500\n",
      "4     David  32.0   31000\n",
      "5  Ebenezer   NaN   34000\n"
     ]
    }
   ],
   "source": [
    "import pandas as pd\n",
    "\n",
    "df1              =  pd.DataFrame({'Name' : ['Arun', 'Alex', 'Babu','Charlee','David', 'Ebenezer'],\\\n",
    "                                'Age': [23, 24, 25, None, 32, None], \\\n",
    "                                'Salary': [25000, 26000, 27000, 27500, 31000, 34000]}, \\\n",
    "                                 columns = ['Name', 'Age', 'Salary'])\n",
    "print(df1)"
   ]
  },
  {
   "cell_type": "code",
   "execution_count": null,
   "metadata": {},
   "outputs": [],
   "source": [
    "df1.loc[df1.Age < 30, ['Name', 'Age', 'Salary']]"
   ]
  },
  {
   "cell_type": "code",
   "execution_count": null,
   "metadata": {},
   "outputs": [],
   "source": [
    "df1.iloc[1]"
   ]
  },
  {
   "cell_type": "code",
   "execution_count": null,
   "metadata": {},
   "outputs": [],
   "source": [
    "df1.ix[1]"
   ]
  },
  {
   "cell_type": "code",
   "execution_count": null,
   "metadata": {},
   "outputs": [],
   "source": [
    "df1.ix[2,'Name'] # to second third row column Name"
   ]
  },
  {
   "cell_type": "code",
   "execution_count": null,
   "metadata": {
    "collapsed": true
   },
   "outputs": [],
   "source": [
    "frame1 = frame1.reindex(index=['a','b','c','d'], method='ffill')\n",
    "frame1.columns = sorted(states)"
   ]
  },
  {
   "cell_type": "markdown",
   "metadata": {
    "collapsed": true
   },
   "source": [
    "\t\n",
    "\thead() \n",
    "\ttail() returns the last n rows, 5 is the default\n"
   ]
  },
  {
   "cell_type": "code",
   "execution_count": 2,
   "metadata": {},
   "outputs": [
    {
     "data": {
      "text/plain": [
       "[RangeIndex(start=0, stop=6, step=1),\n",
       " Index(['Name', 'Age', 'Salary'], dtype='object')]"
      ]
     },
     "execution_count": 2,
     "metadata": {},
     "output_type": "execute_result"
    }
   ],
   "source": [
    "df1.axes # returns a list of the row axis labels"
   ]
  },
  {
   "cell_type": "code",
   "execution_count": 3,
   "metadata": {},
   "outputs": [
    {
     "data": {
      "text/plain": [
       "dtype('float64')"
      ]
     },
     "execution_count": 3,
     "metadata": {},
     "output_type": "execute_result"
    }
   ],
   "source": [
    "df1['Age'].dtype #  returns the data type of the object"
   ]
  },
  {
   "cell_type": "code",
   "execution_count": 5,
   "metadata": {},
   "outputs": [
    {
     "data": {
      "text/plain": [
       "False"
      ]
     },
     "execution_count": 5,
     "metadata": {},
     "output_type": "execute_result"
    }
   ],
   "source": [
    "df1.empty  # returns True if the given object is empty"
   ]
  },
  {
   "cell_type": "code",
   "execution_count": 7,
   "metadata": {},
   "outputs": [
    {
     "data": {
      "text/plain": [
       "2"
      ]
     },
     "execution_count": 7,
     "metadata": {},
     "output_type": "execute_result"
    }
   ],
   "source": [
    "df1.ndim # returns the number of dimensions of the underlying obje"
   ]
  },
  {
   "cell_type": "code",
   "execution_count": 8,
   "metadata": {},
   "outputs": [
    {
     "data": {
      "text/plain": [
       "18"
      ]
     },
     "execution_count": 8,
     "metadata": {},
     "output_type": "execute_result"
    }
   ],
   "source": [
    "df1.size # size() returns the number of elements in the underlying object"
   ]
  },
  {
   "cell_type": "code",
   "execution_count": 9,
   "metadata": {},
   "outputs": [
    {
     "name": "stdout",
     "output_type": "stream",
     "text": [
      "\n",
      "First 5 rows\n",
      "\n",
      "      Name   Age  Salary\n",
      "0     Arun  23.0   25000\n",
      "1     Alex  24.0   26000\n",
      "2     Babu  25.0   27000\n",
      "3  Charlee   NaN   27500\n",
      "4    David  32.0   31000\n",
      "\n",
      "First 5 rows with rows and columns interchanged \n",
      "\n",
      "            0      1      2        3      4\n",
      "Name     Arun   Alex   Babu  Charlee  David\n",
      "Age        23     24     25      NaN     32\n",
      "Salary  25000  26000  27000    27500  31000\n"
     ]
    }
   ],
   "source": [
    "print('\\nFirst 5 rows\\n')\n",
    "print(df1.head()) # returns the first n rows, 5 is the default\n",
    "print('\\nFirst 5 rows with rows and columns interchanged \\n')\n",
    "print(df1.head().T) # returns the first n rows, 5 is the default"
   ]
  },
  {
   "cell_type": "code",
   "execution_count": 10,
   "metadata": {},
   "outputs": [
    {
     "name": "stdout",
     "output_type": "stream",
     "text": [
      "\n",
      "Last 5 rows\n",
      "\n",
      "       Name   Age  Salary\n",
      "1      Alex  24.0   26000\n",
      "2      Babu  25.0   27000\n",
      "3   Charlee   NaN   27500\n",
      "4     David  32.0   31000\n",
      "5  Ebenezer   NaN   34000\n",
      "\n",
      "Last 5 rows with rows and columns interchanged \n",
      "\n",
      "            1      2        3      4         5\n",
      "Name     Alex   Babu  Charlee  David  Ebenezer\n",
      "Age        24     25      NaN     32       NaN\n",
      "Salary  26000  27000    27500  31000     34000\n"
     ]
    }
   ],
   "source": [
    "print('\\nLast 5 rows\\n')\n",
    "print(df1.tail()) # returns the first n rows, 5 is the default\n",
    "print('\\nLast 5 rows with rows and columns interchanged \\n')\n",
    "print(df1.tail().T) # returns the first n rows, 5 is the default"
   ]
  },
  {
   "cell_type": "markdown",
   "metadata": {},
   "source": [
    "1. count() returns the number of non-null observations\n",
    "2. sum() returns the sum of values\n",
    "3. min() \n",
    "4.  max() returns the maximum value\n",
    "5.  abs() returns the absolute value\n",
    "6.  prod() returns the product of values\n",
    "7.  cumsum() returns the cumulative sum of values\n",
    "8.  cumprod() returns the cumulative product of values\n",
    "9. mean() returns the arithmetic mean of values\n",
    "10. median() returns the median of values\n",
    "11. mode() returns the mode of values\n",
    "12. std() returns the standard deviation of values\n",
    " \n"
   ]
  },
  {
   "cell_type": "code",
   "execution_count": 13,
   "metadata": {},
   "outputs": [
    {
     "data": {
      "text/plain": [
       "Name      6\n",
       "Age       4\n",
       "Salary    6\n",
       "dtype: int64"
      ]
     },
     "execution_count": 13,
     "metadata": {},
     "output_type": "execute_result"
    }
   ],
   "source": [
    "df1.count() # returns the number of non-null observations"
   ]
  },
  {
   "cell_type": "code",
   "execution_count": 15,
   "metadata": {},
   "outputs": [
    {
     "data": {
      "text/plain": [
       "Age          104.0\n",
       "Salary    170500.0\n",
       "dtype: float64"
      ]
     },
     "execution_count": 15,
     "metadata": {},
     "output_type": "execute_result"
    }
   ],
   "source": [
    " df1[['Age','Salary']].sum() #returns the sum of values"
   ]
  },
  {
   "cell_type": "code",
   "execution_count": 16,
   "metadata": {},
   "outputs": [
    {
     "data": {
      "text/plain": [
       "Age          23.0\n",
       "Salary    25000.0\n",
       "dtype: float64"
      ]
     },
     "execution_count": 16,
     "metadata": {},
     "output_type": "execute_result"
    }
   ],
   "source": [
    " df1[['Age','Salary']].min()#returns the minimum value"
   ]
  },
  {
   "cell_type": "code",
   "execution_count": 17,
   "metadata": {},
   "outputs": [
    {
     "data": {
      "text/plain": [
       "Age          32.0\n",
       "Salary    34000.0\n",
       "dtype: float64"
      ]
     },
     "execution_count": 17,
     "metadata": {},
     "output_type": "execute_result"
    }
   ],
   "source": [
    " df1[['Age','Salary']].max()#returns the maximum value"
   ]
  },
  {
   "cell_type": "code",
   "execution_count": 18,
   "metadata": {},
   "outputs": [
    {
     "data": {
      "text/html": [
       "<div>\n",
       "<style scoped>\n",
       "    .dataframe tbody tr th:only-of-type {\n",
       "        vertical-align: middle;\n",
       "    }\n",
       "\n",
       "    .dataframe tbody tr th {\n",
       "        vertical-align: top;\n",
       "    }\n",
       "\n",
       "    .dataframe thead th {\n",
       "        text-align: right;\n",
       "    }\n",
       "</style>\n",
       "<table border=\"1\" class=\"dataframe\">\n",
       "  <thead>\n",
       "    <tr style=\"text-align: right;\">\n",
       "      <th></th>\n",
       "      <th>Age</th>\n",
       "      <th>Salary</th>\n",
       "    </tr>\n",
       "  </thead>\n",
       "  <tbody>\n",
       "    <tr>\n",
       "      <th>0</th>\n",
       "      <td>23.0</td>\n",
       "      <td>25000.0</td>\n",
       "    </tr>\n",
       "    <tr>\n",
       "      <th>1</th>\n",
       "      <td>24.0</td>\n",
       "      <td>26000.0</td>\n",
       "    </tr>\n",
       "    <tr>\n",
       "      <th>2</th>\n",
       "      <td>25.0</td>\n",
       "      <td>27000.0</td>\n",
       "    </tr>\n",
       "    <tr>\n",
       "      <th>3</th>\n",
       "      <td>NaN</td>\n",
       "      <td>27500.0</td>\n",
       "    </tr>\n",
       "    <tr>\n",
       "      <th>4</th>\n",
       "      <td>32.0</td>\n",
       "      <td>31000.0</td>\n",
       "    </tr>\n",
       "    <tr>\n",
       "      <th>5</th>\n",
       "      <td>NaN</td>\n",
       "      <td>34000.0</td>\n",
       "    </tr>\n",
       "  </tbody>\n",
       "</table>\n",
       "</div>"
      ],
      "text/plain": [
       "    Age   Salary\n",
       "0  23.0  25000.0\n",
       "1  24.0  26000.0\n",
       "2  25.0  27000.0\n",
       "3   NaN  27500.0\n",
       "4  32.0  31000.0\n",
       "5   NaN  34000.0"
      ]
     },
     "execution_count": 18,
     "metadata": {},
     "output_type": "execute_result"
    }
   ],
   "source": [
    " df1[['Age','Salary']].abs() #returns the absolute value"
   ]
  },
  {
   "cell_type": "code",
   "execution_count": 20,
   "metadata": {},
   "outputs": [
    {
     "data": {
      "text/plain": [
       "0    10\n",
       "1    11\n",
       "2    12\n",
       "3    13\n",
       "4    14\n",
       "Name: Value, dtype: int64"
      ]
     },
     "execution_count": 20,
     "metadata": {},
     "output_type": "execute_result"
    }
   ],
   "source": [
    "df2 = pd.DataFrame({'Value' : [10, -11, 12, 13, 14]})\n",
    "df2.Value.abs() #returns the absolute value "
   ]
  },
  {
   "cell_type": "code",
   "execution_count": 21,
   "metadata": {},
   "outputs": [
    {
     "data": {
      "text/plain": [
       "-240240"
      ]
     },
     "execution_count": 21,
     "metadata": {},
     "output_type": "execute_result"
    }
   ],
   "source": [
    "df2 = pd.DataFrame({'Value' : [10, -11, 12, 13, 14]})\n",
    "df2.Value.prod() # returns the product of values"
   ]
  },
  {
   "cell_type": "code",
   "execution_count": 25,
   "metadata": {},
   "outputs": [
    {
     "data": {
      "text/html": [
       "<div>\n",
       "<style scoped>\n",
       "    .dataframe tbody tr th:only-of-type {\n",
       "        vertical-align: middle;\n",
       "    }\n",
       "\n",
       "    .dataframe tbody tr th {\n",
       "        vertical-align: top;\n",
       "    }\n",
       "\n",
       "    .dataframe thead th {\n",
       "        text-align: right;\n",
       "    }\n",
       "</style>\n",
       "<table border=\"1\" class=\"dataframe\">\n",
       "  <thead>\n",
       "    <tr style=\"text-align: right;\">\n",
       "      <th></th>\n",
       "      <th>Value</th>\n",
       "    </tr>\n",
       "  </thead>\n",
       "  <tbody>\n",
       "    <tr>\n",
       "      <th>0</th>\n",
       "      <td>10</td>\n",
       "    </tr>\n",
       "    <tr>\n",
       "      <th>1</th>\n",
       "      <td>-1</td>\n",
       "    </tr>\n",
       "    <tr>\n",
       "      <th>2</th>\n",
       "      <td>11</td>\n",
       "    </tr>\n",
       "    <tr>\n",
       "      <th>3</th>\n",
       "      <td>24</td>\n",
       "    </tr>\n",
       "    <tr>\n",
       "      <th>4</th>\n",
       "      <td>38</td>\n",
       "    </tr>\n",
       "  </tbody>\n",
       "</table>\n",
       "</div>"
      ],
      "text/plain": [
       "   Value\n",
       "0     10\n",
       "1     -1\n",
       "2     11\n",
       "3     24\n",
       "4     38"
      ]
     },
     "execution_count": 25,
     "metadata": {},
     "output_type": "execute_result"
    }
   ],
   "source": [
    "df2 = pd.DataFrame({'Value' : [10, -11, 12, 13, 14]})\n",
    "df2.cumsum() #  returns the cumulative sum of values"
   ]
  },
  {
   "cell_type": "code",
   "execution_count": 26,
   "metadata": {},
   "outputs": [
    {
     "data": {
      "text/html": [
       "<div>\n",
       "<style scoped>\n",
       "    .dataframe tbody tr th:only-of-type {\n",
       "        vertical-align: middle;\n",
       "    }\n",
       "\n",
       "    .dataframe tbody tr th {\n",
       "        vertical-align: top;\n",
       "    }\n",
       "\n",
       "    .dataframe thead th {\n",
       "        text-align: right;\n",
       "    }\n",
       "</style>\n",
       "<table border=\"1\" class=\"dataframe\">\n",
       "  <thead>\n",
       "    <tr style=\"text-align: right;\">\n",
       "      <th></th>\n",
       "      <th>Value</th>\n",
       "    </tr>\n",
       "  </thead>\n",
       "  <tbody>\n",
       "    <tr>\n",
       "      <th>0</th>\n",
       "      <td>10</td>\n",
       "    </tr>\n",
       "    <tr>\n",
       "      <th>1</th>\n",
       "      <td>-110</td>\n",
       "    </tr>\n",
       "    <tr>\n",
       "      <th>2</th>\n",
       "      <td>-1320</td>\n",
       "    </tr>\n",
       "    <tr>\n",
       "      <th>3</th>\n",
       "      <td>-17160</td>\n",
       "    </tr>\n",
       "    <tr>\n",
       "      <th>4</th>\n",
       "      <td>-240240</td>\n",
       "    </tr>\n",
       "  </tbody>\n",
       "</table>\n",
       "</div>"
      ],
      "text/plain": [
       "    Value\n",
       "0      10\n",
       "1    -110\n",
       "2   -1320\n",
       "3  -17160\n",
       "4 -240240"
      ]
     },
     "execution_count": 26,
     "metadata": {},
     "output_type": "execute_result"
    }
   ],
   "source": [
    "df2 = pd.DataFrame({'Value' : [10, -11, 12, 13, 14]})\n",
    "df2.cumprod() # cumprod() returns the cumulative product of values"
   ]
  },
  {
   "cell_type": "code",
   "execution_count": 27,
   "metadata": {},
   "outputs": [
    {
     "name": "stdout",
     "output_type": "stream",
     "text": [
      "       Name   Age  Salary\n",
      "0      Arun  23.0   25000\n",
      "1      Alex  24.0   26000\n",
      "2      Babu  25.0   27000\n",
      "3   Charlee   NaN   27500\n",
      "4     David  32.0   31000\n",
      "5  Ebenezer   NaN   34000\n"
     ]
    }
   ],
   "source": [
    "import pandas as pd\n",
    "\n",
    "df1              =  pd.DataFrame({'Name' : ['Arun', 'Alex', 'Babu','Charlee','David', 'Ebenezer'],\\\n",
    "                                'Age': [23, 24, 25, None, 32, None], \\\n",
    "                                'Salary': [25000, 26000, 27000, 27500, 31000, 34000]}, \\\n",
    "                                 columns = ['Name', 'Age', 'Salary'])\n",
    "print(df1)"
   ]
  },
  {
   "cell_type": "code",
   "execution_count": 28,
   "metadata": {},
   "outputs": [
    {
     "data": {
      "text/plain": [
       "28416.666666666668"
      ]
     },
     "execution_count": 28,
     "metadata": {},
     "output_type": "execute_result"
    }
   ],
   "source": [
    "df1.Salary.mean() # returns the arithmetic mean of values"
   ]
  },
  {
   "cell_type": "code",
   "execution_count": 29,
   "metadata": {},
   "outputs": [
    {
     "data": {
      "text/plain": [
       "27250.0"
      ]
     },
     "execution_count": 29,
     "metadata": {},
     "output_type": "execute_result"
    }
   ],
   "source": [
    "df1.Salary.median() # returns the median of values"
   ]
  },
  {
   "cell_type": "code",
   "execution_count": 39,
   "metadata": {},
   "outputs": [
    {
     "name": "stdout",
     "output_type": "stream",
     "text": [
      "       Name   Age  Salary\n",
      "0      Arun  23.0   25000\n",
      "1      Alex  24.0   25000\n",
      "2      Babu  25.0   25000\n",
      "3   Charlee   NaN   27500\n",
      "4     David  32.0   31000\n",
      "5  Ebenezer   NaN   34000\n",
      "\n",
      "Mode: 25000\n"
     ]
    }
   ],
   "source": [
    "import pandas as pd\n",
    "\n",
    "df2              =  pd.DataFrame({'Name' : ['Arun', 'Alex', 'Babu','Charlee','David', 'Ebenezer'],\\\n",
    "                                'Age': [23, 24, 25, None, 32, None], \\\n",
    "                                'Salary': [25000, 25000, 25000, 27500, 31000, 34000]}, \\\n",
    "                                 columns = ['Name', 'Age', 'Salary'])\n",
    "print(df2)\n",
    "print('\\nMode: %d'% df2.Salary.mode()[0]) # returns the mode of values "
   ]
  },
  {
   "cell_type": "code",
   "execution_count": 42,
   "metadata": {},
   "outputs": [
    {
     "name": "stdout",
     "output_type": "stream",
     "text": [
      "       Name   Age  Salary\n",
      "0      Arun  23.0   25000\n",
      "1      Alex  24.0   25000\n",
      "2      Babu  25.0   25000\n",
      "3   Charlee   NaN   27500\n",
      "4     David  32.0   31000\n",
      "5  Ebenezer   NaN   34000\n",
      "\n",
      "Standard Deviation : 3800.219292\n"
     ]
    }
   ],
   "source": [
    "import pandas as pd\n",
    "\n",
    "df2              =  pd.DataFrame({'Name' : ['Arun', 'Alex', 'Babu','Charlee','David', 'Ebenezer'],\\\n",
    "                                'Age': [23, 24, 25, None, 32, None], \\\n",
    "                                'Salary': [25000, 25000, 25000, 27500, 31000, 34000]}, \\\n",
    "                                 columns = ['Name', 'Age', 'Salary'])\n",
    "print(df2)\n",
    "print('\\nStandard Deviation : %f'% df2.Salary.std()) # returns the mode of values "
   ]
  },
  {
   "cell_type": "code",
   "execution_count": 43,
   "metadata": {
    "collapsed": true
   },
   "outputs": [],
   "source": [
    "import pandas as pd\n",
    "\n",
    "df2              =  pd.DataFrame({'Name' : ['Arun', 'Alex', 'Babu','Charlee','David', 'Ebenezer'],\\\n",
    "                                'Age': [23, 24, 25, None, 32, None], \\\n",
    "                                'Salary': [25000, 25000, 25000, 27500, 31000, 34000]}, \\\n",
    "                                 columns = ['Name', 'Age', 'Salary'])"
   ]
  },
  {
   "cell_type": "code",
   "execution_count": 47,
   "metadata": {},
   "outputs": [
    {
     "name": "stdout",
     "output_type": "stream",
     "text": [
      "\n",
      "Numeric columns\n",
      "\n",
      "           Value\n",
      "count   5.000000\n",
      "mean   25.400000\n",
      "std    36.452709\n",
      "min     1.000000\n",
      "25%    10.000000\n",
      "50%    12.000000\n",
      "75%    14.000000\n",
      "max    90.000000\n",
      "\n",
      "Non Numeric columns\n",
      "\n",
      "       Name\n",
      "count     5\n",
      "unique    3\n",
      "top       A\n",
      "freq      3\n"
     ]
    }
   ],
   "source": [
    "df3 = pd.DataFrame({'Name' : ['A', 'A', 'A', 'C', 'B'], 'Value' : [1, 10, 12, 14, 90]})\n",
    "print('\\nNumeric columns\\n')\n",
    "print(df3.describe())\n",
    "print('\\nNon Numeric columns\\n')\n",
    "print(df3.describe(include = ['object']))"
   ]
  },
  {
   "cell_type": "code",
   "execution_count": 45,
   "metadata": {},
   "outputs": [
    {
     "name": "stdout",
     "output_type": "stream",
     "text": [
      "             Age        Salary\n",
      "count   4.000000      6.000000\n",
      "mean   26.000000  27916.666667\n",
      "std     4.082483   3800.219292\n",
      "min    23.000000  25000.000000\n",
      "25%    23.750000  25000.000000\n",
      "50%    24.500000  26250.000000\n",
      "75%    26.750000  30125.000000\n",
      "max    32.000000  34000.000000\n"
     ]
    }
   ],
   "source": [
    "print(df2.describe())"
   ]
  },
  {
   "cell_type": "code",
   "execution_count": 46,
   "metadata": {},
   "outputs": [
    {
     "name": "stdout",
     "output_type": "stream",
     "text": [
      "        Name\n",
      "count      6\n",
      "unique     6\n",
      "top     Arun\n",
      "freq       1\n"
     ]
    }
   ],
   "source": [
    "print(df2.describe(include = ['object']))"
   ]
  },
  {
   "cell_type": "code",
   "execution_count": 48,
   "metadata": {},
   "outputs": [
    {
     "name": "stdout",
     "output_type": "stream",
     "text": [
      "\n",
      " Summary of data frame\n",
      "\n",
      "<class 'pandas.core.frame.DataFrame'>\n",
      "RangeIndex: 5 entries, 0 to 4\n",
      "Data columns (total 2 columns):\n",
      "Name     5 non-null object\n",
      "Value    5 non-null int64\n",
      "dtypes: int64(1), object(1)\n",
      "memory usage: 160.0+ bytes\n",
      "None\n"
     ]
    }
   ],
   "source": [
    "df3 = pd.DataFrame({'Name' : ['A', 'A', 'A', 'C', 'B'], 'Value' : [1, 10, 12, 14, 90]})\n",
    "print('\\n Summary of data frame\\n')\n",
    "print(df3.info())"
   ]
  },
  {
   "cell_type": "markdown",
   "metadata": {},
   "source": [
    "https://pandas-tutorial.com/"
   ]
  },
  {
   "cell_type": "markdown",
   "metadata": {},
   "source": [
    "https://www.edureka.co/blog/python-pandas-tutorial/"
   ]
  },
  {
   "cell_type": "markdown",
   "metadata": {},
   "source": [
    "https://www.learndatasci.com/tutorials/python-pandas-tutorial-complete-introduction-for-beginners/"
   ]
  }
 ],
 "metadata": {
  "kernelspec": {
   "display_name": "Python 3",
   "language": "python",
   "name": "python3"
  },
  "language_info": {
   "codemirror_mode": {
    "name": "ipython",
    "version": 3
   },
   "file_extension": ".py",
   "mimetype": "text/x-python",
   "name": "python",
   "nbconvert_exporter": "python",
   "pygments_lexer": "ipython3",
   "version": "3.6.3"
  }
 },
 "nbformat": 4,
 "nbformat_minor": 2
}
