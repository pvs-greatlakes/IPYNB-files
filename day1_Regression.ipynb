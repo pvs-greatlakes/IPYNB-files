{
 "cells": [
  {
   "cell_type": "markdown",
   "metadata": {
    "collapsed": true
   },
   "source": [
    "## Correlation and Regression\n",
    "\n",
    "### Correlation and regression are the most commonly used techniques for investigating relationship between two quantitative variables.\n",
    "\n",
    "####  Strength of the relationship is quantified by Correlation Coefficient.\n",
    "\n",
    "#### Relationship in the form of an equation is expressed by the regression.\n"
   ]
  },
  {
   "cell_type": "markdown",
   "metadata": {},
   "source": [
    "$R^2$ term is the coefficient of determination and it reflects how well the model fits the observed data.\n",
    "\n",
    "The coefficient of determination is given by $R^2$ = 1 - $\\frac{SSE}{SST}$\n",
    "\n",
    "* Let y be the observed response.\n",
    "* $\\hat{y}$ be the predicted value for the response\n",
    "* $\\overline{y}$ be the mean of the response\n",
    "\n",
    "SSE = $\\sum_{i=1}^{n}{(y_i - \\hat{y}_i)}^2$\n",
    "\n",
    "SST = $\\sum_{i=1}^{n}{(y_i - \\overline{y}_i)}^2$"
   ]
  },
  {
   "cell_type": "markdown",
   "metadata": {},
   "source": [
    "### Example 1\n",
    "\n",
    "The dataset, *mtcars* is an in-built data set about cars which contains 32 observations and 11 variables. \n",
    "\n",
    "https://stat.ethz.ch/R-manual/R-devel/library/datasets/html/mtcars.html\n",
    "\n",
    "The data was extracted from the 1974 Motor Trend US magazine, and comprises fuel consumption and 10 aspects of automobile design and performance for 32 automobiles (1973–74 models). \n",
    "\n",
    "| Sl No | Variable | Description |\n",
    "| ---- | ---------------- | ------------------------------------- |\n",
    "| 1 | mpg | Miles/(US) gallon | \n",
    "| 2 | cyl | Number of cylinders | \n",
    "| 3 | disp | Displacement (cu.in.) |  \n",
    "| 4 | hp | Gross horsepower  |  \n",
    "| 5 | drat | Rear axle ratio | \n",
    "| 6 | wt | Weight (1000 lbs) | \n",
    "| 7 | qsec | 1/4 mile time | \n",
    "| 8 | vs | Engine (0 = V-shaped, 1 = straight) | \n",
    "| 9 | am | Transmission (0 = automatic, 1 = manual)  | \n",
    "| 10 | gear | Number of forward gears  | \n",
    "| 11 | carb | Number of carburetors  | "
   ]
  },
  {
   "cell_type": "markdown",
   "metadata": {},
   "source": [
    "#### a.\tConstruct a scatter plot to show the relationship between the variables cars.mpg and cars.wt\n",
    "\n",
    "#### b.\tMeasure the relative strength of a linear relationship between the cars.mpg and cars.wt by calculating the sample correlation coefficient\n",
    "\n",
    "#### c.\tGive your inference on the relationship between these variables\n",
    "\n",
    "#### d.\tGive the simple linear regression equation between cars.mpg and cars.wt\n",
    "\n",
    "#### e. Predict the mpg of the car for wt = 3000 lbs"
   ]
  },
  {
   "cell_type": "code",
   "execution_count": 1,
   "metadata": {
    "collapsed": true
   },
   "outputs": [],
   "source": [
    "import pandas            as pd\n",
    "import numpy             as np\n",
    "import matplotlib.pyplot as plt\n",
    "import seaborn           as sns\n",
    "import statsmodels.api   as sm"
   ]
  },
  {
   "cell_type": "code",
   "execution_count": 2,
   "metadata": {},
   "outputs": [
    {
     "name": "stdout",
     "output_type": "stream",
     "text": [
      "      Mazda RX4  Mazda RX4 Wag  Datsun 710  Hornet 4 Drive\n",
      "mpg       21.00         21.000       22.80          21.400\n",
      "cyl        6.00          6.000        4.00           6.000\n",
      "disp     160.00        160.000      108.00         258.000\n",
      "hp       110.00        110.000       93.00         110.000\n",
      "drat       3.90          3.900        3.85           3.080\n",
      "wt         2.62          2.875        2.32           3.215\n",
      "qsec      16.46         17.020       18.61          19.440\n",
      "vs         0.00          0.000        1.00           1.000\n",
      "am         1.00          1.000        1.00           0.000\n",
      "gear       4.00          4.000        4.00           3.000\n",
      "carb       4.00          4.000        1.00           1.000\n",
      "<class 'pandas.core.frame.DataFrame'>\n",
      "Index: 32 entries, Mazda RX4 to Volvo 142E\n",
      "Data columns (total 11 columns):\n",
      "mpg     32 non-null float64\n",
      "cyl     32 non-null int64\n",
      "disp    32 non-null float64\n",
      "hp      32 non-null int64\n",
      "drat    32 non-null float64\n",
      "wt      32 non-null float64\n",
      "qsec    32 non-null float64\n",
      "vs      32 non-null int64\n",
      "am      32 non-null int64\n",
      "gear    32 non-null int64\n",
      "carb    32 non-null int64\n",
      "dtypes: float64(5), int64(6)\n",
      "memory usage: 3.0+ KB\n",
      "None\n"
     ]
    }
   ],
   "source": [
    "cars = sm.datasets.get_rdataset('mtcars').data\n",
    "print(cars.head(4).T)\n",
    "print(cars.info())"
   ]
  },
  {
   "cell_type": "markdown",
   "metadata": {},
   "source": [
    "#### Answer\n",
    "\n",
    "a.\tConstruct a scatter plot to show the relationship between the variables cars.mpg and cars.wt"
   ]
  },
  {
   "cell_type": "markdown",
   "metadata": {},
   "source": [
    "#### Scatter plots are made using regplot() function of the seaborn library.\n",
    "\n",
    "#### This plot draws a linear regression fit by default.\n",
    "\n",
    "####  We provide two input variables, cars.mpg and cars.wt and confidence interval of 95 as size of the confidence interval for the regression estimate."
   ]
  },
  {
   "cell_type": "code",
   "execution_count": 3,
   "metadata": {},
   "outputs": [
    {
     "data": {
      "image/png": "[encoded data removed]",
      "text/plain": [
       "<matplotlib.figure.Figure at 0x1600dc68668>"
      ]
     },
     "metadata": {},
     "output_type": "display_data"
    }
   ],
   "source": [
    "sns.regplot(x=cars.mpg, y=cars.wt, ci = 95)\n",
    "\n",
    "corcoef = np.corrcoef(cars.mpg, cars.wt)[0,1]\n",
    "\n",
    "text_cc = '\\n\\n\\n\\ncorrelation coefficient is %1.4f'%corcoef\n",
    "plt.title('Scatter plot MPG Vs Weight')\n",
    "plt.suptitle(text_cc)\n",
    "plt.gcf().tight_layout()\n",
    "# plt.text(15,6.5,text_cc)\n",
    "\n",
    "plt.show()"
   ]
  },
  {
   "cell_type": "code",
   "execution_count": 4,
   "metadata": {},
   "outputs": [
    {
     "data": {
      "image/png": "[encoded data removed]",
      "text/plain": [
       "<matplotlib.figure.Figure at 0x1600dc1d6a0>"
      ]
     },
     "metadata": {},
     "output_type": "display_data"
    }
   ],
   "source": [
    "sns.heatmap(cars.corr(), cmap='BuGn')\n",
    "plt.show()"
   ]
  },
  {
   "cell_type": "markdown",
   "metadata": {},
   "source": [
    "#### b.\tMeasure the relative strength of a linear relationship between the cars.mpg and cars.wt by calculating the sample correlation coefficient"
   ]
  },
  {
   "cell_type": "markdown",
   "metadata": {},
   "source": [
    "Numpy corrcoef() returns the *Pearson product-moment correlation coefficients*."
   ]
  },
  {
   "cell_type": "code",
   "execution_count": 5,
   "metadata": {},
   "outputs": [
    {
     "name": "stdout",
     "output_type": "stream",
     "text": [
      "\n",
      "Correlation coefficient between mpg and wt is -0.87\n"
     ]
    }
   ],
   "source": [
    "print('\\nCorrelation coefficient between mpg and wt is %1.2f' %np.corrcoef(cars.mpg, cars.wt)[0,1])"
   ]
  },
  {
   "cell_type": "markdown",
   "metadata": {},
   "source": [
    "#### c.\tGive your inference on the relationship between these variables"
   ]
  },
  {
   "cell_type": "markdown",
   "metadata": {},
   "source": [
    "There is a strong negative linear relationship between miles per gallon and the weight of the car since the correlation coefficient is -87%"
   ]
  },
  {
   "cell_type": "markdown",
   "metadata": {},
   "source": [
    "#### d.\tGive the simple linear regression equation between cars.mpg and cars.wt"
   ]
  },
  {
   "cell_type": "markdown",
   "metadata": {},
   "source": [
    "There are two main ways to perform linear regression in Python.\n",
    "\n",
    "https://towardsdatascience.com/simple-and-multiple-linear-regression-in-python-c928425168f9\n",
    "\n",
    "* 1) Statsmodels\n",
    "* 2) scikit-learn"
   ]
  },
  {
   "cell_type": "markdown",
   "metadata": {},
   "source": [
    "## 1) Use the Linear Regression in Statsmodels.\n",
    "\n",
    "We use statsmodels.api.OLS() to fit a regression line that would minimize the square of distance from the regression line. \n",
    "We try to fit a regression line between an independent variable, mpg and a dependent variable, wt.\n",
    "\n",
    "Please note that statsmodels does not add a constant by default."
   ]
  },
  {
   "cell_type": "code",
   "execution_count": 6,
   "metadata": {},
   "outputs": [
    {
     "data": {
      "text/html": [
       "<table class=\"simpletable\">\n",
       "<caption>OLS Regression Results</caption>\n",
       "<tr>\n",
       "  <th>Dep. Variable:</th>           <td>mpg</td>       <th>  R-squared:         </th> <td>   0.753</td>\n",
       "</tr>\n",
       "<tr>\n",
       "  <th>Model:</th>                   <td>OLS</td>       <th>  Adj. R-squared:    </th> <td>   0.745</td>\n",
       "</tr>\n",
       "<tr>\n",
       "  <th>Method:</th>             <td>Least Squares</td>  <th>  F-statistic:       </th> <td>   91.38</td>\n",
       "</tr>\n",
       "<tr>\n",
       "  <th>Date:</th>             <td>Thu, 29 Nov 2018</td> <th>  Prob (F-statistic):</th> <td>1.29e-10</td>\n",
       "</tr>\n",
       "<tr>\n",
       "  <th>Time:</th>                 <td>20:41:58</td>     <th>  Log-Likelihood:    </th> <td> -80.015</td>\n",
       "</tr>\n",
       "<tr>\n",
       "  <th>No. Observations:</th>      <td>    32</td>      <th>  AIC:               </th> <td>   164.0</td>\n",
       "</tr>\n",
       "<tr>\n",
       "  <th>Df Residuals:</th>          <td>    30</td>      <th>  BIC:               </th> <td>   167.0</td>\n",
       "</tr>\n",
       "<tr>\n",
       "  <th>Df Model:</th>              <td>     1</td>      <th>                     </th>     <td> </td>   \n",
       "</tr>\n",
       "<tr>\n",
       "  <th>Covariance Type:</th>      <td>nonrobust</td>    <th>                     </th>     <td> </td>   \n",
       "</tr>\n",
       "</table>\n",
       "<table class=\"simpletable\">\n",
       "<tr>\n",
       "    <td></td>       <th>coef</th>     <th>std err</th>      <th>t</th>      <th>P>|t|</th>  <th>[0.025</th>    <th>0.975]</th>  \n",
       "</tr>\n",
       "<tr>\n",
       "  <th>const</th> <td>   37.2851</td> <td>    1.878</td> <td>   19.858</td> <td> 0.000</td> <td>   33.450</td> <td>   41.120</td>\n",
       "</tr>\n",
       "<tr>\n",
       "  <th>wt</th>    <td>   -5.3445</td> <td>    0.559</td> <td>   -9.559</td> <td> 0.000</td> <td>   -6.486</td> <td>   -4.203</td>\n",
       "</tr>\n",
       "</table>\n",
       "<table class=\"simpletable\">\n",
       "<tr>\n",
       "  <th>Omnibus:</th>       <td> 2.988</td> <th>  Durbin-Watson:     </th> <td>   1.252</td>\n",
       "</tr>\n",
       "<tr>\n",
       "  <th>Prob(Omnibus):</th> <td> 0.225</td> <th>  Jarque-Bera (JB):  </th> <td>   2.399</td>\n",
       "</tr>\n",
       "<tr>\n",
       "  <th>Skew:</th>          <td> 0.668</td> <th>  Prob(JB):          </th> <td>   0.301</td>\n",
       "</tr>\n",
       "<tr>\n",
       "  <th>Kurtosis:</th>      <td> 2.877</td> <th>  Cond. No.          </th> <td>    12.7</td>\n",
       "</tr>\n",
       "</table><br/><br/>Warnings:<br/>[1] Standard Errors assume that the covariance matrix of the errors is correctly specified."
      ],
      "text/plain": [
       "<class 'statsmodels.iolib.summary.Summary'>\n",
       "\"\"\"\n",
       "                            OLS Regression Results                            \n",
       "==============================================================================\n",
       "Dep. Variable:                    mpg   R-squared:                       0.753\n",
       "Model:                            OLS   Adj. R-squared:                  0.745\n",
       "Method:                 Least Squares   F-statistic:                     91.38\n",
       "Date:                Thu, 29 Nov 2018   Prob (F-statistic):           1.29e-10\n",
       "Time:                        20:41:58   Log-Likelihood:                -80.015\n",
       "No. Observations:                  32   AIC:                             164.0\n",
       "Df Residuals:                      30   BIC:                             167.0\n",
       "Df Model:                           1                                         \n",
       "Covariance Type:            nonrobust                                         \n",
       "==============================================================================\n",
       "                 coef    std err          t      P>|t|      [0.025      0.975]\n",
       "------------------------------------------------------------------------------\n",
       "const         37.2851      1.878     19.858      0.000      33.450      41.120\n",
       "wt            -5.3445      0.559     -9.559      0.000      -6.486      -4.203\n",
       "==============================================================================\n",
       "Omnibus:                        2.988   Durbin-Watson:                   1.252\n",
       "Prob(Omnibus):                  0.225   Jarque-Bera (JB):                2.399\n",
       "Skew:                           0.668   Prob(JB):                        0.301\n",
       "Kurtosis:                       2.877   Cond. No.                         12.7\n",
       "==============================================================================\n",
       "\n",
       "Warnings:\n",
       "[1] Standard Errors assume that the covariance matrix of the errors is correctly specified.\n",
       "\"\"\""
      ]
     },
     "execution_count": 6,
     "metadata": {},
     "output_type": "execute_result"
    }
   ],
   "source": [
    "import statsmodels.api as sm\n",
    "X  =  cars.wt\n",
    "y  =  cars.mpg\n",
    "\n",
    "X = sm.add_constant(X) # Add an intercept to our model\n",
    "\n",
    "model         = sm.OLS(y, X).fit() ## OLS(output, input)\n",
    "predictions   = model.predict(X)\n",
    "\n",
    "## Print the statistics\n",
    "model.summary()"
   ]
  },
  {
   "cell_type": "code",
   "execution_count": 7,
   "metadata": {},
   "outputs": [
    {
     "name": "stdout",
     "output_type": "stream",
     "text": [
      "SSE = 278.3219 SST = 1126.0472\n",
      "Calculated R squared = 0.753\n"
     ]
    }
   ],
   "source": [
    " # calculate SSE, SSM & SST\n",
    "\n",
    "SSE   = 0\n",
    "SST   = 0\n",
    "\n",
    "for i in range(len(predictions)):\n",
    "    SSE    += (predictions[i] - y[i])**2\n",
    "\n",
    "yMean       = np.mean(y)\n",
    "\n",
    "for i in range(len(predictions)):\n",
    "    SST    += (y[i] - yMean)**2\n",
    "\n",
    "print('SSE = %5.4f SST = %5.4f' % (SSE, SST))\n",
    "\n",
    "Rsq = np.round(1 - (SSE / SST),4)\n",
    "\n",
    "print(\"Calculated %s = %1.3f\" % (\"R squared\",Rsq) )     "
   ]
  },
  {
   "cell_type": "markdown",
   "metadata": {},
   "source": [
    "### Interpretation\n",
    "\n",
    "#### The coefficient of -5.3445 means that as the wt variable increases by 1 unit, the predicted value of mpg decreases by 5.3445. \n",
    "\n",
    "* R squared give the percentage of variance our model explains. Our model explains 75.3% of variation\n",
    "* Standard error is the standard deviation of the sampling distribution of a statistic such as mean.\n",
    "* The t scores and p-values for the hypothesis test the wt has statistically significant p-value at 5% level of significance since p-value is less than 5%. \n",
    "* There is a 95% confidence intervals for the wt.\n",
    "\n",
    "** We predict at 95% confidence that the value of wt is between -6.486 and -4.203*"
   ]
  },
  {
   "cell_type": "markdown",
   "metadata": {},
   "source": [
    "### Regression equation is given below:\n",
    "\n",
    "#### mpg = 37.2851 - 5.3345 * wt \n",
    "\n",
    "#### This model explains 75.3% of variation\n",
    "\n",
    "#### When wt increases by 1 unit, the mpg decreases by -5.3445."
   ]
  },
  {
   "cell_type": "markdown",
   "metadata": {},
   "source": [
    "#### e. Predict the mpg of the car for wt = 3000 lbs"
   ]
  },
  {
   "cell_type": "code",
   "execution_count": 8,
   "metadata": {},
   "outputs": [
    {
     "name": "stdout",
     "output_type": "stream",
     "text": [
      "Predicted mpg of the car with weight  3(000 lbs) is 21.25\n"
     ]
    }
   ],
   "source": [
    "new_X = [ 1, 3.0] # Here we give 1 as the constant for the intercept of model and 3 (in '000s) as the weight \n",
    "predictions   = model.predict(new_X)\n",
    "print('Predicted mpg of the car with weight  %d(000 lbs) is %2.2f' % (3.0, np.round(predictions,3)))"
   ]
  },
  {
   "cell_type": "markdown",
   "metadata": {},
   "source": [
    "## 2) Use the Linear Regression in Statsmodels."
   ]
  },
  {
   "cell_type": "markdown",
   "metadata": {},
   "source": [
    "In order to use linear regression, we need to import linear_model of SKLearn."
   ]
  },
  {
   "cell_type": "code",
   "execution_count": 9,
   "metadata": {
    "collapsed": true
   },
   "outputs": [],
   "source": [
    "from sklearn import linear_model"
   ]
  },
  {
   "cell_type": "markdown",
   "metadata": {},
   "source": [
    "#### Fit a model "
   ]
  },
  {
   "cell_type": "code",
   "execution_count": 10,
   "metadata": {
    "collapsed": true
   },
   "outputs": [],
   "source": [
    "X         =  np.array(cars.wt).reshape(-1, 1)\n",
    "y         =  cars.mpg\n",
    "lm        =  linear_model.LinearRegression()\n",
    "model     =  lm.fit(X, y)"
   ]
  },
  {
   "cell_type": "markdown",
   "metadata": {},
   "source": [
    "### Predict the target variable"
   ]
  },
  {
   "cell_type": "code",
   "execution_count": 11,
   "metadata": {
    "collapsed": true
   },
   "outputs": [],
   "source": [
    "predictions = lm.predict(X)"
   ]
  },
  {
   "cell_type": "markdown",
   "metadata": {},
   "source": [
    "### To get the $R^2$ score of the model, use"
   ]
  },
  {
   "cell_type": "code",
   "execution_count": 12,
   "metadata": {},
   "outputs": [
    {
     "name": "stdout",
     "output_type": "stream",
     "text": [
      "R square is 0.753\n"
     ]
    }
   ],
   "source": [
    "print('R square is %1.3f' %lm.score(X, y))"
   ]
  },
  {
   "cell_type": "markdown",
   "metadata": {},
   "source": [
    "### To check the coefficients of the predictors, use"
   ]
  },
  {
   "cell_type": "code",
   "execution_count": 13,
   "metadata": {},
   "outputs": [
    {
     "name": "stdout",
     "output_type": "stream",
     "text": [
      "Coefficient for wt is -5.3445\n"
     ]
    }
   ],
   "source": [
    "b1 = np.round(lm.coef_,4)\n",
    "print('Coefficient for wt is %5.4f' %b1)"
   ]
  },
  {
   "cell_type": "markdown",
   "metadata": {},
   "source": [
    "### To get the intercept"
   ]
  },
  {
   "cell_type": "code",
   "execution_count": 14,
   "metadata": {},
   "outputs": [
    {
     "name": "stdout",
     "output_type": "stream",
     "text": [
      "Intercept is 37.2851\n"
     ]
    }
   ],
   "source": [
    "print('Intercept is %5.4f' %lm.intercept_)"
   ]
  },
  {
   "cell_type": "markdown",
   "metadata": {},
   "source": [
    "### t test of significance"
   ]
  },
  {
   "cell_type": "markdown",
   "metadata": {
    "collapsed": true
   },
   "source": [
    "* We use the t test to test the null hypothesis that the coefficient of a given predictor variable is zero, implying that a given predictor has no appreciable effect on the target variable.\n",
    "* An alternative hypothesis is that the predictor does contribute to the target. \n",
    "\n",
    "* In testing if $P(T \\geq |t|) < \\alpha$, then we reject the null hypothesis.\n",
    "\n",
    "* The t test generally allows us to evaluate the importance of different predictors, assuming that the residauls of the model are normally distributed about zero.\n",
    "\n",
    "* If $\\beta$ is the vector of coefficients of our independent variables and SE is our standard error,\n",
    " t statistic = $\\frac {\\beta_i } {SE_{i,i}}$"
   ]
  },
  {
   "cell_type": "code",
   "execution_count": 15,
   "metadata": {
    "collapsed": true
   },
   "outputs": [],
   "source": [
    "import scipy.stats      as     stats\n",
    "from   sklearn.metrics  import mean_squared_error"
   ]
  },
  {
   "cell_type": "code",
   "execution_count": 16,
   "metadata": {},
   "outputs": [
    {
     "name": "stdout",
     "output_type": "stream",
     "text": [
      "(32, 1)\n"
     ]
    }
   ],
   "source": [
    "XM            = np.matrix(X)\n",
    "X             = np.array(XM)\n",
    "print(X.shape)\n",
    "x            = np.array([row[0] for row in X])"
   ]
  },
  {
   "cell_type": "code",
   "execution_count": 17,
   "metadata": {},
   "outputs": [
    {
     "name": "stdout",
     "output_type": "stream",
     "text": [
      "[[ 2.62   2.875  2.32   3.215  3.44   3.46   3.57   3.19   3.15   3.44\n",
      "   3.44   4.07   3.73   3.78   5.25   5.424  5.345  2.2    1.615  1.835\n",
      "   2.465  3.52   3.435  3.84   3.845  1.935  2.14   1.513  3.17   2.77\n",
      "   3.57   2.78 ]\n",
      " [ 1.     1.     1.     1.     1.     1.     1.     1.     1.     1.     1.\n",
      "   1.     1.     1.     1.     1.     1.     1.     1.     1.     1.     1.\n",
      "   1.     1.     1.     1.     1.     1.     1.     1.     1.     1.   ]]\n"
     ]
    }
   ],
   "source": [
    "z            = np.array(np.ones(32))\n",
    "X            = np.vstack(( x, z ))\n",
    "X            = np.matrix(X)\n",
    "print(X)"
   ]
  },
  {
   "cell_type": "code",
   "execution_count": 18,
   "metadata": {
    "collapsed": true
   },
   "outputs": [],
   "source": [
    "MSE       =  mean_squared_error(y, predictions)"
   ]
  },
  {
   "cell_type": "markdown",
   "metadata": {},
   "source": [
    "We calculate the covariance-variance matrix, C\n",
    "\n",
    "C = cov($\\beta$) = $\\sigma^2{(XX^T)}^{-1}$"
   ]
  },
  {
   "cell_type": "code",
   "execution_count": 19,
   "metadata": {
    "collapsed": true
   },
   "outputs": [],
   "source": [
    "C       = np.linalg.inv(X * X.T)\n",
    "C      *= MSE "
   ]
  },
  {
   "cell_type": "code",
   "execution_count": 20,
   "metadata": {},
   "outputs": [
    {
     "name": "stdout",
     "output_type": "stream",
     "text": [
      "[[ 0.54134726         nan]\n",
      " [        nan  1.81800485]]\n"
     ]
    },
    {
     "name": "stderr",
     "output_type": "stream",
     "text": [
      "D:\\Python\\lib\\site-packages\\ipykernel_launcher.py:1: RuntimeWarning: invalid value encountered in sqrt\n",
      "  \"\"\"Entry point for launching an IPython kernel.\n"
     ]
    }
   ],
   "source": [
    "SE      = np.sqrt(C)\n",
    "print(SE)"
   ]
  },
  {
   "cell_type": "code",
   "execution_count": 21,
   "metadata": {},
   "outputs": [
    {
     "name": "stdout",
     "output_type": "stream",
     "text": [
      "t value is -9.872538343\n"
     ]
    }
   ],
   "source": [
    "i       = 0\n",
    "beta    = lm.coef_\n",
    "se      = SE[i,i]\n",
    "t       = np.round(beta / se ,9)\n",
    "print('t value is %2.9f'% t)"
   ]
  },
  {
   "cell_type": "markdown",
   "metadata": {},
   "source": [
    "Once we have a t statistic, we can calculate the p-value "
   ]
  },
  {
   "cell_type": "code",
   "execution_count": 22,
   "metadata": {},
   "outputs": [
    {
     "name": "stdout",
     "output_type": "stream",
     "text": [
      "P value is 0.000000 \n"
     ]
    }
   ],
   "source": [
    "N    = 32 # Number of observations\n",
    "P    =  2 # Number of parameters: intercept and 1 slope\n",
    "dof  = N - P - 1\n",
    "hp   = stats.t(dof).cdf(t)\n",
    "p    = hp * 2.0\n",
    "print('P value is %1.6f '%p)"
   ]
  },
  {
   "cell_type": "markdown",
   "metadata": {},
   "source": [
    "### Practice Exercise 1\n",
    "\n",
    "Redo the example 1, by using the variables, cars.mpg and cars.qsec."
   ]
  },
  {
   "cell_type": "markdown",
   "metadata": {},
   "source": [
    "### Practice Exercise 2\n",
    "\n",
    "Redo the example 1, by using the variables, cars.mpg and cars.disp."
   ]
  },
  {
   "cell_type": "markdown",
   "metadata": {
    "collapsed": true
   },
   "source": [
    "## Residual plots"
   ]
  },
  {
   "cell_type": "markdown",
   "metadata": {},
   "source": [
    "#### Residual plot is a scatter plot of fitted values against the residuals, with a *locally weighted scatterplot smoothing (lowess)* regression line showing any apparent trend.\n",
    "\n",
    "#### Using seaborn, residplot() with fitted values as x parameter, and the dependent variable as y.  The argument, lowless = True makes sure the lowess regression line is drawn.\n",
    "\n",
    "\n"
   ]
  },
  {
   "cell_type": "markdown",
   "metadata": {},
   "source": [
    "+ *Lowess stands for Locally wighted least sqaures.*\n",
    "+ *Lowess is a data analysis technique for producing a **Smooth** set of values from a scatter plot with a *noisy* relationship between the two variables.\n"
   ]
  },
  {
   "cell_type": "markdown",
   "metadata": {},
   "source": [
    "### Example 2\n",
    "\n",
    "Construct a residual plot for example 1."
   ]
  },
  {
   "cell_type": "code",
   "execution_count": 23,
   "metadata": {
    "collapsed": true
   },
   "outputs": [],
   "source": [
    "sns.set(style=\"whitegrid\")\n",
    "import statsmodels.api as sm\n",
    "X  =  cars.wt\n",
    "y  =  cars.mpg\n",
    "\n",
    "X = sm.add_constant(X) # Add an intercept to our model\n",
    "\n",
    "model                 = sm.OLS(y, X).fit() ## OLS(output, input)\n",
    "cars['predictions']   = model.predict(X)\n",
    "residuals             = model.resid"
   ]
  },
  {
   "cell_type": "code",
   "execution_count": 24,
   "metadata": {},
   "outputs": [
    {
     "data": {
      "image/png": "[encoded data removed]",
      "text/plain": [
       "<matplotlib.figure.Figure at 0x1600eb24748>"
      ]
     },
     "metadata": {},
     "output_type": "display_data"
    }
   ],
   "source": [
    "# Plot the residuals after fitting a linear model\n",
    "ax = sns.residplot(cars.predictions, residuals, lowess = True, color = \"g\")\n",
    "ax.set(xlabel='Fitted Value', ylabel='Residuals', title = 'Residual Vs Fitted values PLOT \\n')\n",
    "plt.show()"
   ]
  },
  {
   "cell_type": "markdown",
   "metadata": {},
   "source": [
    "### Draw a histogram of the residuals"
   ]
  },
  {
   "cell_type": "code",
   "execution_count": 25,
   "metadata": {},
   "outputs": [
    {
     "data": {
      "image/png": "[encoded data removed]",
      "text/plain": [
       "<matplotlib.figure.Figure at 0x1600e346e10>"
      ]
     },
     "metadata": {},
     "output_type": "display_data"
    }
   ],
   "source": [
    "sns.set(style=\"whitegrid\")\n",
    "sns.distplot(residuals)\n",
    "\n",
    "plt.grid(axis = 'y', alpha = 0.75)\n",
    "plt.xlabel('Residuals Value')\n",
    "plt.ylabel('Probability density') # It is the probability per unit on the x-axis.\n",
    "\n",
    "mean     =   residuals.mean()\n",
    "\n",
    "plt.title('Histogram of residuals and KDE plot with ' + r'$\\mu = $' + str(np.round(mean,17)))\n",
    "plt.show()"
   ]
  },
  {
   "cell_type": "markdown",
   "metadata": {},
   "source": [
    "### Ideal Plot\n",
    "\n",
    "We expect the **random errors** to produce residuals that are normally distributed. So, the residuals should fall in a *symmetrical pattern and have a constant spread throughout the range*. \n",
    "\n",
    "#### Inference\n",
    "\n",
    "In the above plot, we can predict non-zero values for the residuals based on the fitted value. For example, values upto 10 and above 25 produce non-zero values for the residuals.\n",
    "\n",
    "The non-random pattern in the residuals indicates that the predictor variables of the model is not capturing some explanatory information getting into the residuals."
   ]
  },
  {
   "cell_type": "markdown",
   "metadata": {},
   "source": [
    "### Practice Exercise 3"
   ]
  },
  {
   "cell_type": "markdown",
   "metadata": {},
   "source": [
    "Construct a residual plot for Practice exercise 1."
   ]
  },
  {
   "cell_type": "markdown",
   "metadata": {},
   "source": [
    "### Normal QQ Plot \n",
    "\n",
    "#### This plot shows how well the distribution of residuals fit the normal distribution.\n",
    "\n",
    "#### This plots the z score of the residuals against the theoretical normal quantiles. \n",
    "\n",
    "#### Any thing quite off the diagonal lines may be a concern for further investigation."
   ]
  },
  {
   "cell_type": "markdown",
   "metadata": {},
   "source": [
    "### Example 3\n",
    "\n",
    "Construct a Normal Q-Q plot for example 1."
   ]
  },
  {
   "cell_type": "code",
   "execution_count": 26,
   "metadata": {
    "collapsed": true
   },
   "outputs": [],
   "source": [
    "from statsmodels.graphics.gofplots import ProbPlot\n",
    "\n",
    "model_fit_y               = model.fittedvalues\n",
    "model_residuals           = model.resid # Model residuals\n",
    "\n",
    "\n",
    "### Normalized residuals\n",
    "model_normal_residuals    = model.get_influence().resid_studentized_internal \n",
    "\n",
    "### absolute squared normalized residuals\n",
    "model_normal_residuals_abs_sqrt  = np.sqrt(np.abs(model_normal_residuals)) \n",
    "\n",
    "### absolute residuals\n",
    "model_abs_resid                  = np.abs(model_residuals) \n",
    "\n",
    "### leverage \n",
    "model_leverage                   = model.get_influence().hat_matrix_diag \n",
    "\n",
    "### Cook's distance\n",
    "model_cooks                      = model.get_influence().cooks_distance[0] "
   ]
  },
  {
   "cell_type": "code",
   "execution_count": 27,
   "metadata": {},
   "outputs": [
    {
     "data": {
      "image/png": "[encoded data removed]",
      "text/plain": [
       "<matplotlib.figure.Figure at 0x1600ec80dd8>"
      ]
     },
     "metadata": {},
     "output_type": "display_data"
    }
   ],
   "source": [
    "QQ         = ProbPlot(model_normal_residuals)\n",
    "plot_lm_2  = QQ.qqplot(line = '45', alpha = 0.5, color = '#4C72B0', lw = 1.5)\n",
    "\n",
    "plot_lm_2.set_figheight(8)\n",
    "plot_lm_2.set_figheight(12)\n",
    "\n",
    "plot_lm_2.axes[0].set_title('Normal Q-Q')\n",
    "plot_lm_2.axes[0].set_xlabel('Theoretical Quantiles')\n",
    "plot_lm_2.axes[0].set_ylabel('Standardized  Residuals')\n",
    "\n",
    "# annotations\n",
    "\n",
    "abs_norm_resid       = np.flip(np.argsort(np.abs(model_normal_residuals)), 0)\n",
    "abs_norm_resid_top_3 = abs_norm_resid[:3]\n",
    "\n",
    "for r, i in enumerate(abs_norm_resid_top_3):\n",
    "     plot_lm_2.axes[0].annotate(i, \n",
    "            xy = (np.flip(QQ.theoretical_quantiles, 0)[r],\n",
    "            model_normal_residuals[i]));\n",
    "     plt.show()"
   ]
  },
  {
   "cell_type": "markdown",
   "metadata": {},
   "source": [
    "### Inference\n",
    "\n",
    "There are many deviations from the straight line and hence the residuals do not fit the normal distribution. "
   ]
  },
  {
   "cell_type": "markdown",
   "metadata": {},
   "source": [
    "### Practice Exercise 4"
   ]
  },
  {
   "cell_type": "markdown",
   "metadata": {},
   "source": [
    "Construct a normal Q- Q plot for practice Exercise 1."
   ]
  },
  {
   "cell_type": "markdown",
   "metadata": {},
   "source": [
    "### Scale-Location Plot"
   ]
  },
  {
   "cell_type": "markdown",
   "metadata": {},
   "source": [
    "** This plot shows the spread using which you can assess heteroscedasticity.**\n",
    "\n",
    "*It is the scatter plot of absolute square-rooted normalized residuals and fitted values, with a lowess regression line.*\n",
    "\n"
   ]
  },
  {
   "cell_type": "code",
   "execution_count": 28,
   "metadata": {
    "collapsed": true
   },
   "outputs": [],
   "source": [
    "plot_lm_3  = plt.figure(3)\n",
    "plot_lm_3.set_figheight(8)\n",
    "plot_lm_3.set_figheight(12)\n",
    "\n",
    "plt.scatter(model_fit_y, model_normal_residuals_abs_sqrt, alpha = 0.5)\n",
    "sns.regplot(model_fit_y, model_normal_residuals_abs_sqrt,\n",
    "                      scatter   = False,\n",
    "                      ci             = False,\n",
    "                      lowess    = True,\n",
    "                      line_kws = {'color': 'red', 'lw': 1, 'alpha' : 0.8});\n"
   ]
  },
  {
   "cell_type": "code",
   "execution_count": 29,
   "metadata": {
    "collapsed": true
   },
   "outputs": [],
   "source": [
    "plot_lm_3.axes[0].set_title('Scale - Location')\n",
    "plot_lm_3.axes[0].set_xlabel('Fitted Values')\n",
    "plot_lm_3.axes[0].set_ylabel('$\\sqrt{[|Standardized Residuals|}$');\n"
   ]
  },
  {
   "cell_type": "code",
   "execution_count": 30,
   "metadata": {
    "collapsed": true
   },
   "outputs": [],
   "source": [
    "### annotations\n",
    "abs_sq_norm_resid = np.flip(np.argsort(np.abs(model_normal_residuals)), 0)\n",
    "abs_sq_norm_resid_top_3 = abs_sq_norm_resid[:3]"
   ]
  },
  {
   "cell_type": "code",
   "execution_count": 31,
   "metadata": {},
   "outputs": [
    {
     "data": {
      "image/png": "[encoded data removed]",
      "text/plain": [
       "<matplotlib.figure.Figure at 0x1600ec759e8>"
      ]
     },
     "metadata": {},
     "output_type": "display_data"
    }
   ],
   "source": [
    "for r, i in enumerate(abs_norm_resid_top_3):\n",
    "     plot_lm_3.axes[0].annotate(i, \n",
    "            xy= (model_fit_y[i], model_normal_residuals_abs_sqrt[i]));\n",
    "     plt.show()"
   ]
  },
  {
   "cell_type": "markdown",
   "metadata": {},
   "source": [
    "### Inference\n",
    "\n",
    "Because the residuals spread wider and wider, the red smooth line is not horizontal."
   ]
  },
  {
   "cell_type": "markdown",
   "metadata": {},
   "source": [
    "### Practice Exercise 5"
   ]
  },
  {
   "cell_type": "markdown",
   "metadata": {},
   "source": [
    "Construct a Scale - Location plot for practice Exercise 1."
   ]
  },
  {
   "cell_type": "markdown",
   "metadata": {
    "collapsed": true
   },
   "source": [
    "## A few definitions"
   ]
  },
  {
   "cell_type": "markdown",
   "metadata": {},
   "source": [
    "**Outliers:** An outlier is an observation with large residual in linear regression. \n",
    "It could be because of a data entry error or other problem.\n",
    "\n",
    "**Leverage:** is a measure of how far an observation deviates from the mean of that variable.\n",
    "These leverage points can have an effect on the estimate of the regression coefficients.\n",
    "\n",
    "**Influence:** An observation is said to be influential if removing the observation substantially changes the estimate of coefficients.\n"
   ]
  },
  {
   "cell_type": "markdown",
   "metadata": {},
   "source": [
    "## Residuals Vs Leverage plot"
   ]
  },
  {
   "cell_type": "markdown",
   "metadata": {},
   "source": [
    "#### From statsmodels"
   ]
  },
  {
   "cell_type": "markdown",
   "metadata": {},
   "source": [
    "* This plot shows if any outliers have influence over the regression fit. \n",
    "\n",
    "* Anything outside the group and outside *Cook's Distance* lines, may have an influential effect on model fit."
   ]
  },
  {
   "cell_type": "code",
   "execution_count": 32,
   "metadata": {},
   "outputs": [
    {
     "data": {
      "text/plain": [
       "<matplotlib.figure.Figure at 0x1600ed38e80>"
      ]
     },
     "metadata": {},
     "output_type": "display_data"
    },
    {
     "data": {
      "image/png": "[encoded data removed]",
      "text/plain": [
       "<matplotlib.figure.Figure at 0x1600ed38828>"
      ]
     },
     "metadata": {},
     "output_type": "display_data"
    },
    {
     "data": {
      "image/png": "[encoded data removed]",
      "text/plain": [
       "<matplotlib.figure.Figure at 0x1600ed38390>"
      ]
     },
     "metadata": {},
     "output_type": "display_data"
    }
   ],
   "source": [
    "from statsmodels.graphics.regressionplots import *\n",
    "plot_lm_4  = plt.figure(4)\n",
    "plot_lm_4.set_figheight(18)\n",
    "plot_lm_4.set_figheight(20)\n",
    "plot_leverage_resid2(model)\n",
    "influence_plot(model)\n",
    "plt.show()"
   ]
  },
  {
   "cell_type": "markdown",
   "metadata": {},
   "source": [
    "### Inference\n",
    "\n",
    "Using residual squared instead of residual itself, the graph is restricted to the first quadrant and the relative positions of data points are preserved. This way we can check potential influential observations and outliers at the same time.\n",
    "\n",
    "We look for outlying values at the upper right corner or at the lower right corner. These spots are the places where cases can be influential against a regression line. Look for cases outside a dashed line, Cook's distance. When cases are outside of the Cook's distance, the cases are influential to the regression results."
   ]
  },
  {
   "cell_type": "markdown",
   "metadata": {},
   "source": [
    "#### Residuals Vs Leverage - coding from the scratch"
   ]
  },
  {
   "cell_type": "markdown",
   "metadata": {},
   "source": [
    "### Example 4"
   ]
  },
  {
   "cell_type": "markdown",
   "metadata": {},
   "source": [
    "Construct a Residuals Vs Leverage plot using the data in example 1"
   ]
  },
  {
   "cell_type": "markdown",
   "metadata": {},
   "source": [
    "https://medium.com/@emredjan/emulating-r-regression-plots-in-python-43741952c034"
   ]
  },
  {
   "cell_type": "code",
   "execution_count": 33,
   "metadata": {
    "collapsed": true
   },
   "outputs": [],
   "source": [
    "sns.set(style=\"whitegrid\")\n",
    "import statsmodels.api as sm\n",
    "X  =  cars.wt\n",
    "y  =  cars.mpg\n",
    "\n",
    "X = sm.add_constant(X) # Add an intercept to our model\n",
    "\n",
    "model                 = sm.OLS(y, X).fit() ## OLS(output, input)\n",
    "cars['predictions']   = model.predict(X)\n",
    "residuals             = model.resid"
   ]
  },
  {
   "cell_type": "code",
   "execution_count": 34,
   "metadata": {
    "collapsed": true
   },
   "outputs": [],
   "source": [
    "model_fit_y               = model.fittedvalues\n",
    "model_residuals           = model.resid # Model residuals\n",
    "\n",
    "### Normalized residuals\n",
    "model_normal_residuals    = model.get_influence().resid_studentized_internal \n",
    "\n",
    "### leverage \n",
    "model_leverage                   = model.get_influence().hat_matrix_diag "
   ]
  },
  {
   "cell_type": "code",
   "execution_count": 35,
   "metadata": {
    "collapsed": true
   },
   "outputs": [],
   "source": [
    "plot_lm_4  = plt.figure(3)\n",
    "plot_lm_4.set_figheight(8)\n",
    "plot_lm_4.set_figheight(12)\n",
    "\n",
    "plt.scatter(model_leverage, model_normal_residuals, alpha = 0.5)\n",
    "sns.regplot(model_leverage, model_normal_residuals,\n",
    "                      scatter   = False,\n",
    "                      ci             = False,\n",
    "                      lowess    = True,\n",
    "                      line_kws = {'color': 'red', 'lw': 1, 'alpha' : 0.8});"
   ]
  },
  {
   "cell_type": "code",
   "execution_count": 36,
   "metadata": {
    "collapsed": true
   },
   "outputs": [],
   "source": [
    "plot_lm_4.axes[0].set_xlim(0, 0.20)\n",
    "plot_lm_4.axes[0].set_ylim(-3, 5)\n",
    "plot_lm_4.axes[0].set_title('Residuals Vs Leverage')\n",
    "plot_lm_4.axes[0].set_xlabel('Leverage')\n",
    "plot_lm_4.axes[0].set_ylabel('Standardized Residuals')\n",
    "\n",
    "### annotations\n",
    "leverage_top_3 =  np.flip(np.argsort(model_cooks),0)[:3]\n",
    "\n",
    "for i in leverage_top_3:\n",
    "      plot_lm_4.axes[0].annotate(i,\n",
    "                                xy = (model_leverage[i],\n",
    "                                model_normal_residuals[i]))"
   ]
  },
  {
   "cell_type": "code",
   "execution_count": 37,
   "metadata": {
    "collapsed": true
   },
   "outputs": [],
   "source": [
    "### Shenanigans for cook's distance contours\n",
    "\n",
    "def graph(formula, x_range, label = None):\n",
    "       x = x_range\n",
    "       y = formula(x)\n",
    "       plt.plot(x, y, label = label, lw = 1, ls = '--', color = 'red')"
   ]
  },
  {
   "cell_type": "code",
   "execution_count": 38,
   "metadata": {
    "collapsed": true
   },
   "outputs": [],
   "source": [
    "p = len(model.params) # numbers of model parameters"
   ]
  },
  {
   "cell_type": "code",
   "execution_count": 39,
   "metadata": {},
   "outputs": [
    {
     "data": {
      "image/png": "[encoded data removed]",
      "text/plain": [
       "<matplotlib.figure.Figure at 0x1600dc1d780>"
      ]
     },
     "metadata": {},
     "output_type": "display_data"
    }
   ],
   "source": [
    "graph(lambda x: np.sqrt((0.5 * p * (1 - x)) / x), \n",
    "      np.linspace(0.001, 0.200, 50), \n",
    "      'Cook\\'s distance') # 0.5 line\n",
    "\n",
    "graph(lambda x: np.sqrt((1 * p * (1 - x)) / x), \n",
    "      np.linspace(0.001, 0.200, 50)) # 1 line\n",
    "\n",
    "plt.legend(loc='upper right');\n",
    "plt.show()"
   ]
  },
  {
   "cell_type": "markdown",
   "metadata": {},
   "source": [
    "#### We find the observation potential influential observation as 16 (Lincoln Continental)"
   ]
  },
  {
   "cell_type": "markdown",
   "metadata": {},
   "source": [
    "### Increase predictors to the regression model"
   ]
  },
  {
   "cell_type": "markdown",
   "metadata": {
    "collapsed": true
   },
   "source": [
    "#### R square is the proportional improvement in prediction from the regression model compared to the mean model and thus indicates the goodness of fit of the model.\n",
    "\n",
    "* R square can only increase as predictors or independent variables are added to the regression model. \n",
    "* The increase is artificial when predictors are not actually improving the model's fit. \n",
    "* Adjusted R square incorporates the model's degrees of freedom in such a way that Adjusted R square will decrease as predictors are added if the decrease in model fit does not make up for the loss of degrees of freedom.\n",
    "\n",
    "https://www.theanalysisfactor.com/assessing-the-fit-of-regression-models/\n"
   ]
  },
  {
   "cell_type": "markdown",
   "metadata": {},
   "source": [
    "### Example 5\n",
    "\n",
    "#### Let us try with two predictors for the example 1."
   ]
  },
  {
   "cell_type": "code",
   "execution_count": 40,
   "metadata": {},
   "outputs": [
    {
     "name": "stdout",
     "output_type": "stream",
     "text": [
      "                     const     wt   disp\n",
      "Mazda RX4              1.0  2.620  160.0\n",
      "Mazda RX4 Wag          1.0  2.875  160.0\n",
      "Datsun 710             1.0  2.320  108.0\n",
      "Hornet 4 Drive         1.0  3.215  258.0\n",
      "Hornet Sportabout      1.0  3.440  360.0\n",
      "Valiant                1.0  3.460  225.0\n",
      "Duster 360             1.0  3.570  360.0\n",
      "Merc 240D              1.0  3.190  146.7\n",
      "Merc 230               1.0  3.150  140.8\n",
      "Merc 280               1.0  3.440  167.6\n",
      "Merc 280C              1.0  3.440  167.6\n",
      "Merc 450SE             1.0  4.070  275.8\n",
      "Merc 450SL             1.0  3.730  275.8\n",
      "Merc 450SLC            1.0  3.780  275.8\n",
      "Cadillac Fleetwood     1.0  5.250  472.0\n",
      "Lincoln Continental    1.0  5.424  460.0\n",
      "Chrysler Imperial      1.0  5.345  440.0\n",
      "Fiat 128               1.0  2.200   78.7\n",
      "Honda Civic            1.0  1.615   75.7\n",
      "Toyota Corolla         1.0  1.835   71.1\n",
      "Toyota Corona          1.0  2.465  120.1\n",
      "Dodge Challenger       1.0  3.520  318.0\n",
      "AMC Javelin            1.0  3.435  304.0\n",
      "Camaro Z28             1.0  3.840  350.0\n",
      "Pontiac Firebird       1.0  3.845  400.0\n",
      "Fiat X1-9              1.0  1.935   79.0\n",
      "Porsche 914-2          1.0  2.140  120.3\n",
      "Lotus Europa           1.0  1.513   95.1\n",
      "Ford Pantera L         1.0  3.170  351.0\n",
      "Ferrari Dino           1.0  2.770  145.0\n",
      "Maserati Bora          1.0  3.570  301.0\n",
      "Volvo 142E             1.0  2.780  121.0\n"
     ]
    }
   ],
   "source": [
    "import statsmodels.api   as sm\n",
    "import scipy.stats       as stats\n",
    "import matplotlib.pyplot as plt\n",
    "\n",
    "X  =  cars[[\"wt\", \"disp\"]]\n",
    "y  =  cars.mpg\n",
    "\n",
    "X = sm.add_constant(X) # Add an intercept to our model\n",
    "print(X)"
   ]
  },
  {
   "cell_type": "code",
   "execution_count": 41,
   "metadata": {},
   "outputs": [
    {
     "data": {
      "text/html": [
       "<table class=\"simpletable\">\n",
       "<caption>OLS Regression Results</caption>\n",
       "<tr>\n",
       "  <th>Dep. Variable:</th>           <td>mpg</td>       <th>  R-squared:         </th> <td>   0.781</td>\n",
       "</tr>\n",
       "<tr>\n",
       "  <th>Model:</th>                   <td>OLS</td>       <th>  Adj. R-squared:    </th> <td>   0.766</td>\n",
       "</tr>\n",
       "<tr>\n",
       "  <th>Method:</th>             <td>Least Squares</td>  <th>  F-statistic:       </th> <td>   51.69</td>\n",
       "</tr>\n",
       "<tr>\n",
       "  <th>Date:</th>             <td>Thu, 29 Nov 2018</td> <th>  Prob (F-statistic):</th> <td>2.74e-10</td>\n",
       "</tr>\n",
       "<tr>\n",
       "  <th>Time:</th>                 <td>20:42:03</td>     <th>  Log-Likelihood:    </th> <td> -78.084</td>\n",
       "</tr>\n",
       "<tr>\n",
       "  <th>No. Observations:</th>      <td>    32</td>      <th>  AIC:               </th> <td>   162.2</td>\n",
       "</tr>\n",
       "<tr>\n",
       "  <th>Df Residuals:</th>          <td>    29</td>      <th>  BIC:               </th> <td>   166.6</td>\n",
       "</tr>\n",
       "<tr>\n",
       "  <th>Df Model:</th>              <td>     2</td>      <th>                     </th>     <td> </td>   \n",
       "</tr>\n",
       "<tr>\n",
       "  <th>Covariance Type:</th>      <td>nonrobust</td>    <th>                     </th>     <td> </td>   \n",
       "</tr>\n",
       "</table>\n",
       "<table class=\"simpletable\">\n",
       "<tr>\n",
       "    <td></td>       <th>coef</th>     <th>std err</th>      <th>t</th>      <th>P>|t|</th>  <th>[0.025</th>    <th>0.975]</th>  \n",
       "</tr>\n",
       "<tr>\n",
       "  <th>const</th> <td>   34.9606</td> <td>    2.165</td> <td>   16.151</td> <td> 0.000</td> <td>   30.534</td> <td>   39.388</td>\n",
       "</tr>\n",
       "<tr>\n",
       "  <th>wt</th>    <td>   -3.3508</td> <td>    1.164</td> <td>   -2.878</td> <td> 0.007</td> <td>   -5.732</td> <td>   -0.970</td>\n",
       "</tr>\n",
       "<tr>\n",
       "  <th>disp</th>  <td>   -0.0177</td> <td>    0.009</td> <td>   -1.929</td> <td> 0.064</td> <td>   -0.037</td> <td>    0.001</td>\n",
       "</tr>\n",
       "</table>\n",
       "<table class=\"simpletable\">\n",
       "<tr>\n",
       "  <th>Omnibus:</th>       <td> 4.079</td> <th>  Durbin-Watson:     </th> <td>   1.277</td>\n",
       "</tr>\n",
       "<tr>\n",
       "  <th>Prob(Omnibus):</th> <td> 0.130</td> <th>  Jarque-Bera (JB):  </th> <td>   3.665</td>\n",
       "</tr>\n",
       "<tr>\n",
       "  <th>Skew:</th>          <td> 0.812</td> <th>  Prob(JB):          </th> <td>   0.160</td>\n",
       "</tr>\n",
       "<tr>\n",
       "  <th>Kurtosis:</th>      <td> 2.666</td> <th>  Cond. No.          </th> <td>1.21e+03</td>\n",
       "</tr>\n",
       "</table><br/><br/>Warnings:<br/>[1] Standard Errors assume that the covariance matrix of the errors is correctly specified.<br/>[2] The condition number is large, 1.21e+03. This might indicate that there are<br/>strong multicollinearity or other numerical problems."
      ],
      "text/plain": [
       "<class 'statsmodels.iolib.summary.Summary'>\n",
       "\"\"\"\n",
       "                            OLS Regression Results                            \n",
       "==============================================================================\n",
       "Dep. Variable:                    mpg   R-squared:                       0.781\n",
       "Model:                            OLS   Adj. R-squared:                  0.766\n",
       "Method:                 Least Squares   F-statistic:                     51.69\n",
       "Date:                Thu, 29 Nov 2018   Prob (F-statistic):           2.74e-10\n",
       "Time:                        20:42:03   Log-Likelihood:                -78.084\n",
       "No. Observations:                  32   AIC:                             162.2\n",
       "Df Residuals:                      29   BIC:                             166.6\n",
       "Df Model:                           2                                         \n",
       "Covariance Type:            nonrobust                                         \n",
       "==============================================================================\n",
       "                 coef    std err          t      P>|t|      [0.025      0.975]\n",
       "------------------------------------------------------------------------------\n",
       "const         34.9606      2.165     16.151      0.000      30.534      39.388\n",
       "wt            -3.3508      1.164     -2.878      0.007      -5.732      -0.970\n",
       "disp          -0.0177      0.009     -1.929      0.064      -0.037       0.001\n",
       "==============================================================================\n",
       "Omnibus:                        4.079   Durbin-Watson:                   1.277\n",
       "Prob(Omnibus):                  0.130   Jarque-Bera (JB):                3.665\n",
       "Skew:                           0.812   Prob(JB):                        0.160\n",
       "Kurtosis:                       2.666   Cond. No.                     1.21e+03\n",
       "==============================================================================\n",
       "\n",
       "Warnings:\n",
       "[1] Standard Errors assume that the covariance matrix of the errors is correctly specified.\n",
       "[2] The condition number is large, 1.21e+03. This might indicate that there are\n",
       "strong multicollinearity or other numerical problems.\n",
       "\"\"\""
      ]
     },
     "execution_count": 41,
     "metadata": {},
     "output_type": "execute_result"
    }
   ],
   "source": [
    "model         = sm.OLS(y, X).fit() ## OLS(output, input)\n",
    "predictions   = model.predict(X)\n",
    "\n",
    "## Print the statistics\n",
    "model.summary()"
   ]
  },
  {
   "cell_type": "markdown",
   "metadata": {},
   "source": [
    "### You may observe that both the $R^2$ and Adjusted $R^2$ has increased from what we have seen in exampe 1.\n",
    "* Regression Model with two predictors  $R^2$ is 0.781 while it is 0.753 with one predictor.\n",
    "* Regression Model with two predictors  $Adjusted R^2$ is 0.766 while it is 0.745 with one predictor.\n"
   ]
  },
  {
   "cell_type": "markdown",
   "metadata": {},
   "source": [
    "### Regression equation is given below:\n",
    "\n",
    "#### mpg = 34.9606 - 3.3508 * wt  - 0.0177  * disp\n",
    "\n",
    "#### This model explains 76.6% of variation (using Adj R sq).\n",
    "\n",
    "#### Other variables remaining constant, when wt increases by 1 unit, the mpg decreases by 3.3508.\n",
    "\n",
    "#### Other variables remaining constant, when disp increases by 1 unit, the mpg decreases by 0.0177."
   ]
  },
  {
   "cell_type": "markdown",
   "metadata": {},
   "source": [
    "#### Practice Exercise 6"
   ]
  },
  {
   "cell_type": "markdown",
   "metadata": {},
   "source": [
    "Try with three predictors for the example 5 by adding one more variable, qsec.\n",
    "Confirm whether predictors are actually improving the model's fit by comparing R square and Adjusted R square."
   ]
  },
  {
   "cell_type": "markdown",
   "metadata": {
    "collapsed": true
   },
   "source": [
    "### Linear Regression model on Cement data - check VIF"
   ]
  },
  {
   "cell_type": "markdown",
   "metadata": {},
   "source": [
    "We have 1030 observations on 9 variables.\n",
    "\n",
    "Estimate the strength (complete comprehensive strength) using the predictor variables given below:\n",
    "\n",
    "| Sl No | Variable | Description |\n",
    "| --- | ------------------------ | ---------------------------|\n",
    "| 1 | cement | Cement in Kg in a m3 mixture |\n",
    "| 2 | slag | Blast Furnace Slag|\n",
    "| 3 | ash | Fly Ash |\n",
    "| 4 | water| Water |\n",
    "| 5 | superplastic | Superplasticizer |\n",
    "| 6 | coarseagg | Coarse Aggregate |\n",
    "| 7 | fineagg | Fine Aggregate |\n",
    "| 8 | age | Age - Day ( 1 -365) |"
   ]
  },
  {
   "cell_type": "code",
   "execution_count": 42,
   "metadata": {},
   "outputs": [
    {
     "name": "stdout",
     "output_type": "stream",
     "text": [
      "(1030, 9)\n",
      "Index(['cement', 'slag', 'ash', 'water', 'superplastic', 'coarseagg',\n",
      "       'fineagg', 'age', 'strength'],\n",
      "      dtype='object')\n"
     ]
    }
   ],
   "source": [
    "import pandas                as     pd\n",
    "import numpy                 as     np\n",
    "import scipy.stats           as     stats\n",
    "import statsmodels.api       as     sm\n",
    "import statsmodels.stats.api as     sms\n",
    "from   statsmodels.compat    import lzip\n",
    "import seaborn               as     sns\n",
    "import matplotlib.pyplot     as     plt\n",
    "\n",
    "import pandas as pd\n",
    "\n",
    "cement_df              = pd.read_csv('./data/concrete.csv', header = 0)\n",
    "print(cement_df.shape)\n",
    "print(cement_df.columns)"
   ]
  },
  {
   "cell_type": "markdown",
   "metadata": {},
   "source": [
    "https://www.listendata.com/2018/01/linear-regression-in-python.html"
   ]
  },
  {
   "cell_type": "code",
   "execution_count": 43,
   "metadata": {
    "collapsed": true
   },
   "outputs": [],
   "source": [
    "X    = cement_df[[\"cement\", \"slag\", \"ash\", \"water\", \"superplastic\", \"coarseagg\",\"fineagg\",\"age\"]]\n",
    "y    = cement_df.strength"
   ]
  },
  {
   "cell_type": "code",
   "execution_count": 44,
   "metadata": {},
   "outputs": [
    {
     "name": "stdout",
     "output_type": "stream",
     "text": [
      "   cement   slag    ash  water  superplastic  coarseagg  fineagg  age\n",
      "0   141.3  212.0    0.0  203.5           0.0      971.8    748.5   28\n",
      "1   168.9   42.2  124.3  158.3          10.8     1080.8    796.2   14\n",
      "2   250.0    0.0   95.7  187.4           5.5      956.9    861.2   28\n",
      "3   266.0  114.0    0.0  228.0           0.0      932.0    670.0   28\n",
      "4   154.8  183.4    0.0  193.3           9.1     1047.4    696.7   28\n"
     ]
    }
   ],
   "source": [
    "print(X.head())"
   ]
  },
  {
   "cell_type": "code",
   "execution_count": 45,
   "metadata": {},
   "outputs": [
    {
     "data": {
      "text/html": [
       "<table class=\"simpletable\">\n",
       "<caption>OLS Regression Results</caption>\n",
       "<tr>\n",
       "  <th>Dep. Variable:</th>        <td>strength</td>     <th>  R-squared:         </th> <td>   0.616</td> \n",
       "</tr>\n",
       "<tr>\n",
       "  <th>Model:</th>                   <td>OLS</td>       <th>  Adj. R-squared:    </th> <td>   0.613</td> \n",
       "</tr>\n",
       "<tr>\n",
       "  <th>Method:</th>             <td>Least Squares</td>  <th>  F-statistic:       </th> <td>   204.3</td> \n",
       "</tr>\n",
       "<tr>\n",
       "  <th>Date:</th>             <td>Thu, 29 Nov 2018</td> <th>  Prob (F-statistic):</th> <td>6.29e-206</td>\n",
       "</tr>\n",
       "<tr>\n",
       "  <th>Time:</th>                 <td>20:42:03</td>     <th>  Log-Likelihood:    </th> <td> -3869.0</td> \n",
       "</tr>\n",
       "<tr>\n",
       "  <th>No. Observations:</th>      <td>  1030</td>      <th>  AIC:               </th> <td>   7756.</td> \n",
       "</tr>\n",
       "<tr>\n",
       "  <th>Df Residuals:</th>          <td>  1021</td>      <th>  BIC:               </th> <td>   7800.</td> \n",
       "</tr>\n",
       "<tr>\n",
       "  <th>Df Model:</th>              <td>     8</td>      <th>                     </th>     <td> </td>    \n",
       "</tr>\n",
       "<tr>\n",
       "  <th>Covariance Type:</th>      <td>nonrobust</td>    <th>                     </th>     <td> </td>    \n",
       "</tr>\n",
       "</table>\n",
       "<table class=\"simpletable\">\n",
       "<tr>\n",
       "        <td></td>          <th>coef</th>     <th>std err</th>      <th>t</th>      <th>P>|t|</th>  <th>[0.025</th>    <th>0.975]</th>  \n",
       "</tr>\n",
       "<tr>\n",
       "  <th>const</th>        <td>  -23.3312</td> <td>   26.586</td> <td>   -0.878</td> <td> 0.380</td> <td>  -75.500</td> <td>   28.837</td>\n",
       "</tr>\n",
       "<tr>\n",
       "  <th>cement</th>       <td>    0.1198</td> <td>    0.008</td> <td>   14.113</td> <td> 0.000</td> <td>    0.103</td> <td>    0.136</td>\n",
       "</tr>\n",
       "<tr>\n",
       "  <th>slag</th>         <td>    0.1039</td> <td>    0.010</td> <td>   10.247</td> <td> 0.000</td> <td>    0.084</td> <td>    0.124</td>\n",
       "</tr>\n",
       "<tr>\n",
       "  <th>ash</th>          <td>    0.0879</td> <td>    0.013</td> <td>    6.988</td> <td> 0.000</td> <td>    0.063</td> <td>    0.113</td>\n",
       "</tr>\n",
       "<tr>\n",
       "  <th>water</th>        <td>   -0.1499</td> <td>    0.040</td> <td>   -3.731</td> <td> 0.000</td> <td>   -0.229</td> <td>   -0.071</td>\n",
       "</tr>\n",
       "<tr>\n",
       "  <th>superplastic</th> <td>    0.2922</td> <td>    0.093</td> <td>    3.128</td> <td> 0.002</td> <td>    0.109</td> <td>    0.476</td>\n",
       "</tr>\n",
       "<tr>\n",
       "  <th>coarseagg</th>    <td>    0.0181</td> <td>    0.009</td> <td>    1.926</td> <td> 0.054</td> <td>   -0.000</td> <td>    0.037</td>\n",
       "</tr>\n",
       "<tr>\n",
       "  <th>fineagg</th>      <td>    0.0202</td> <td>    0.011</td> <td>    1.887</td> <td> 0.059</td> <td>   -0.001</td> <td>    0.041</td>\n",
       "</tr>\n",
       "<tr>\n",
       "  <th>age</th>          <td>    0.1142</td> <td>    0.005</td> <td>   21.046</td> <td> 0.000</td> <td>    0.104</td> <td>    0.125</td>\n",
       "</tr>\n",
       "</table>\n",
       "<table class=\"simpletable\">\n",
       "<tr>\n",
       "  <th>Omnibus:</th>       <td> 5.378</td> <th>  Durbin-Watson:     </th> <td>   1.870</td>\n",
       "</tr>\n",
       "<tr>\n",
       "  <th>Prob(Omnibus):</th> <td> 0.068</td> <th>  Jarque-Bera (JB):  </th> <td>   5.304</td>\n",
       "</tr>\n",
       "<tr>\n",
       "  <th>Skew:</th>          <td>-0.174</td> <th>  Prob(JB):          </th> <td>  0.0705</td>\n",
       "</tr>\n",
       "<tr>\n",
       "  <th>Kurtosis:</th>      <td> 3.045</td> <th>  Cond. No.          </th> <td>1.06e+05</td>\n",
       "</tr>\n",
       "</table><br/><br/>Warnings:<br/>[1] Standard Errors assume that the covariance matrix of the errors is correctly specified.<br/>[2] The condition number is large, 1.06e+05. This might indicate that there are<br/>strong multicollinearity or other numerical problems."
      ],
      "text/plain": [
       "<class 'statsmodels.iolib.summary.Summary'>\n",
       "\"\"\"\n",
       "                            OLS Regression Results                            \n",
       "==============================================================================\n",
       "Dep. Variable:               strength   R-squared:                       0.616\n",
       "Model:                            OLS   Adj. R-squared:                  0.613\n",
       "Method:                 Least Squares   F-statistic:                     204.3\n",
       "Date:                Thu, 29 Nov 2018   Prob (F-statistic):          6.29e-206\n",
       "Time:                        20:42:03   Log-Likelihood:                -3869.0\n",
       "No. Observations:                1030   AIC:                             7756.\n",
       "Df Residuals:                    1021   BIC:                             7800.\n",
       "Df Model:                           8                                         \n",
       "Covariance Type:            nonrobust                                         \n",
       "================================================================================\n",
       "                   coef    std err          t      P>|t|      [0.025      0.975]\n",
       "--------------------------------------------------------------------------------\n",
       "const          -23.3312     26.586     -0.878      0.380     -75.500      28.837\n",
       "cement           0.1198      0.008     14.113      0.000       0.103       0.136\n",
       "slag             0.1039      0.010     10.247      0.000       0.084       0.124\n",
       "ash              0.0879      0.013      6.988      0.000       0.063       0.113\n",
       "water           -0.1499      0.040     -3.731      0.000      -0.229      -0.071\n",
       "superplastic     0.2922      0.093      3.128      0.002       0.109       0.476\n",
       "coarseagg        0.0181      0.009      1.926      0.054      -0.000       0.037\n",
       "fineagg          0.0202      0.011      1.887      0.059      -0.001       0.041\n",
       "age              0.1142      0.005     21.046      0.000       0.104       0.125\n",
       "==============================================================================\n",
       "Omnibus:                        5.378   Durbin-Watson:                   1.870\n",
       "Prob(Omnibus):                  0.068   Jarque-Bera (JB):                5.304\n",
       "Skew:                          -0.174   Prob(JB):                       0.0705\n",
       "Kurtosis:                       3.045   Cond. No.                     1.06e+05\n",
       "==============================================================================\n",
       "\n",
       "Warnings:\n",
       "[1] Standard Errors assume that the covariance matrix of the errors is correctly specified.\n",
       "[2] The condition number is large, 1.06e+05. This might indicate that there are\n",
       "strong multicollinearity or other numerical problems.\n",
       "\"\"\""
      ]
     },
     "execution_count": 45,
     "metadata": {},
     "output_type": "execute_result"
    }
   ],
   "source": [
    "X       = sm.add_constant(X) # Add an intercept to our model\n",
    "\n",
    "model         = sm.OLS(y, X).fit() ## OLS(output, input)\n",
    "predictions   = model.predict(X)\n",
    "\n",
    "## Print the statistics\n",
    "model.summary()"
   ]
  },
  {
   "cell_type": "markdown",
   "metadata": {},
   "source": [
    "### Detect and remove Outliers\n",
    "\n",
    "Firstly we try to get the studentized residuals using get_influence( ). "
   ]
  },
  {
   "cell_type": "code",
   "execution_count": 46,
   "metadata": {
    "collapsed": true
   },
   "outputs": [],
   "source": [
    "influence     = model.get_influence()  \n",
    "resid_student = influence.resid_studentized_external"
   ]
  },
  {
   "cell_type": "code",
   "execution_count": 47,
   "metadata": {},
   "outputs": [
    {
     "data": {
      "text/html": [
       "<div>\n",
       "<style>\n",
       "    .dataframe thead tr:only-child th {\n",
       "        text-align: right;\n",
       "    }\n",
       "\n",
       "    .dataframe thead th {\n",
       "        text-align: left;\n",
       "    }\n",
       "\n",
       "    .dataframe tbody tr th {\n",
       "        vertical-align: top;\n",
       "    }\n",
       "</style>\n",
       "<table border=\"1\" class=\"dataframe\">\n",
       "  <thead>\n",
       "    <tr style=\"text-align: right;\">\n",
       "      <th></th>\n",
       "      <th>const</th>\n",
       "      <th>cement</th>\n",
       "      <th>slag</th>\n",
       "      <th>ash</th>\n",
       "      <th>water</th>\n",
       "      <th>superplastic</th>\n",
       "      <th>coarseagg</th>\n",
       "      <th>fineagg</th>\n",
       "      <th>age</th>\n",
       "      <th>Studentized Residuals</th>\n",
       "    </tr>\n",
       "  </thead>\n",
       "  <tbody>\n",
       "    <tr>\n",
       "      <th>0</th>\n",
       "      <td>1.0</td>\n",
       "      <td>141.3</td>\n",
       "      <td>212.0</td>\n",
       "      <td>0.0</td>\n",
       "      <td>203.5</td>\n",
       "      <td>0.0</td>\n",
       "      <td>971.8</td>\n",
       "      <td>748.5</td>\n",
       "      <td>28</td>\n",
       "      <td>0.857736</td>\n",
       "    </tr>\n",
       "    <tr>\n",
       "      <th>1</th>\n",
       "      <td>1.0</td>\n",
       "      <td>168.9</td>\n",
       "      <td>42.2</td>\n",
       "      <td>124.3</td>\n",
       "      <td>158.3</td>\n",
       "      <td>10.8</td>\n",
       "      <td>1080.8</td>\n",
       "      <td>796.2</td>\n",
       "      <td>14</td>\n",
       "      <td>-0.515967</td>\n",
       "    </tr>\n",
       "    <tr>\n",
       "      <th>2</th>\n",
       "      <td>1.0</td>\n",
       "      <td>250.0</td>\n",
       "      <td>0.0</td>\n",
       "      <td>95.7</td>\n",
       "      <td>187.4</td>\n",
       "      <td>5.5</td>\n",
       "      <td>956.9</td>\n",
       "      <td>861.2</td>\n",
       "      <td>28</td>\n",
       "      <td>0.267831</td>\n",
       "    </tr>\n",
       "    <tr>\n",
       "      <th>3</th>\n",
       "      <td>1.0</td>\n",
       "      <td>266.0</td>\n",
       "      <td>114.0</td>\n",
       "      <td>0.0</td>\n",
       "      <td>228.0</td>\n",
       "      <td>0.0</td>\n",
       "      <td>932.0</td>\n",
       "      <td>670.0</td>\n",
       "      <td>28</td>\n",
       "      <td>2.523838</td>\n",
       "    </tr>\n",
       "    <tr>\n",
       "      <th>4</th>\n",
       "      <td>1.0</td>\n",
       "      <td>154.8</td>\n",
       "      <td>183.4</td>\n",
       "      <td>0.0</td>\n",
       "      <td>193.3</td>\n",
       "      <td>9.1</td>\n",
       "      <td>1047.4</td>\n",
       "      <td>696.7</td>\n",
       "      <td>28</td>\n",
       "      <td>-0.567012</td>\n",
       "    </tr>\n",
       "  </tbody>\n",
       "</table>\n",
       "</div>"
      ],
      "text/plain": [
       "   const  cement   slag    ash  water  superplastic  coarseagg  fineagg  age  \\\n",
       "0    1.0   141.3  212.0    0.0  203.5           0.0      971.8    748.5   28   \n",
       "1    1.0   168.9   42.2  124.3  158.3          10.8     1080.8    796.2   14   \n",
       "2    1.0   250.0    0.0   95.7  187.4           5.5      956.9    861.2   28   \n",
       "3    1.0   266.0  114.0    0.0  228.0           0.0      932.0    670.0   28   \n",
       "4    1.0   154.8  183.4    0.0  193.3           9.1     1047.4    696.7   28   \n",
       "\n",
       "   Studentized Residuals  \n",
       "0               0.857736  \n",
       "1              -0.515967  \n",
       "2               0.267831  \n",
       "3               2.523838  \n",
       "4              -0.567012  "
      ]
     },
     "execution_count": 47,
     "metadata": {},
     "output_type": "execute_result"
    }
   ],
   "source": [
    "resid = pd.concat([X, pd.Series(resid_student,name = \"Studentized Residuals\")],axis = 1)\n",
    "resid.head()"
   ]
  },
  {
   "cell_type": "markdown",
   "metadata": {},
   "source": [
    "If the absolute value of studentized residuals is more than 3 then that observation is considered as an outlier and hence should be removed."
   ]
  },
  {
   "cell_type": "code",
   "execution_count": 48,
   "metadata": {},
   "outputs": [
    {
     "name": "stdout",
     "output_type": "stream",
     "text": [
      "Int64Index([192, 506], dtype='int64')\n"
     ]
    }
   ],
   "source": [
    "ind = resid.loc[np.absolute(resid[\"Studentized Residuals\"]) > 3,:].index\n",
    "print(ind)"
   ]
  },
  {
   "cell_type": "code",
   "execution_count": 49,
   "metadata": {},
   "outputs": [],
   "source": [
    "X  = X [resid['Studentized Residuals'] < 3] # with intercept"
   ]
  },
  {
   "cell_type": "markdown",
   "metadata": {},
   "source": [
    "### Abscence of Multicollinearity"
   ]
  },
  {
   "cell_type": "markdown",
   "metadata": {},
   "source": [
    "https://www.listendata.com/2018/01/linear-regression-in-python.html\n",
    "\n",
    "Multi-collinearity increases the estimate of standard error of regression coefficients which makes some variables statistically insignificant when they should be significant.\n",
    "\n",
    "We can detect multi-collinearity by:\n",
    "+ By plotting scatter plots between predictor variables to have a visual description of their relationship.\n",
    "+ By calculating the correlation coefficients between the variables we learn the extent of multi-collinearity in the data.\n",
    "+ By calculating the Variable Inflation Factor (VIF) for each variable. \n",
    "VIF measures how much the variance of an estimated regression coefficients increases if your predictors are correlated.  The higher the value of VIF for the regressor, the more it is highly correlated to other variables."
   ]
  },
  {
   "cell_type": "markdown",
   "metadata": {},
   "source": [
    "VIF for a predictor variable is given by $\\frac{1}{1 - R^2}$.\n",
    "Here we take one of the explanatory variables as the target variable and all others as independent variables. So we run a regression between one of those independent variables with remaining independent variables. \n"
   ]
  },
  {
   "cell_type": "markdown",
   "metadata": {},
   "source": [
    "####  Detecting and Removing Multicollinearity \n",
    "\n",
    "##### We use the statsmodels library to calculate VIF"
   ]
  },
  {
   "cell_type": "code",
   "execution_count": 50,
   "metadata": {},
   "outputs": [
    {
     "data": {
      "text/plain": [
       "[7.4709956632756152,\n",
       " 7.2792239943557497,\n",
       " 6.1716910461120591,\n",
       " 6.9867984515842423,\n",
       " 2.9667297751269932,\n",
       " 5.0550733137223993,\n",
       " 7.0081953540689614,\n",
       " 1.1184486991830811]"
      ]
     },
     "execution_count": 50,
     "metadata": {},
     "output_type": "execute_result"
    }
   ],
   "source": [
    "from statsmodels.stats.outliers_influence import variance_inflation_factor\n",
    "\n",
    "[variance_inflation_factor(X.values, j) for j in range(1, X.shape[1])]"
   ]
  },
  {
   "cell_type": "markdown",
   "metadata": {},
   "source": [
    "### Create a function to remove the collinear variables. \n",
    "\n",
    "We choose a threshold of 5 which means if VIF is more than 5 for a particular variable then that variable will be removed."
   ]
  },
  {
   "cell_type": "code",
   "execution_count": 51,
   "metadata": {
    "collapsed": true
   },
   "outputs": [],
   "source": [
    "def calculate_vif(x):\n",
    "    thresh = 5.0\n",
    "    output = pd.DataFrame()\n",
    "    k = x.shape[1]\n",
    "    vif = [variance_inflation_factor(x.values, j) for j in range(x.shape[1])]\n",
    "    for i in range(1,k):\n",
    "        print(\"Iteration no.\")\n",
    "        print(i)\n",
    "        print(vif)\n",
    "        a = np.argmax(vif)\n",
    "        print(\"Max VIF is for variable no.:\")\n",
    "        print(a)\n",
    "        if vif[a] <= thresh :\n",
    "            break\n",
    "        if i == 1 :          \n",
    "            output = x.drop(x.columns[a], axis = 1)\n",
    "            vif = [variance_inflation_factor(output.values, j) for j in range(output.shape[1])]\n",
    "        elif i > 1 :\n",
    "            output = output.drop(output.columns[a],axis = 1)\n",
    "            vif = [variance_inflation_factor(output.values, j) for j in range(output.shape[1])]\n",
    "    return(output)\n"
   ]
  },
  {
   "cell_type": "code",
   "execution_count": 52,
   "metadata": {},
   "outputs": [
    {
     "name": "stdout",
     "output_type": "stream",
     "text": [
      "Iteration no.\n",
      "1\n",
      "[6720.4866220871763, 7.4709956632756152, 7.2792239943557497, 6.1716910461120591, 6.9867984515842423, 2.9667297751269932, 5.0550733137223993, 7.0081953540689614, 1.1184486991830811]\n",
      "Max VIF is for variable no.:\n",
      "0\n",
      "Iteration no.\n",
      "2\n",
      "[15.411428112935946, 3.3342657581085846, 4.1555986150634912, 82.494883402141511, 5.4724893360590396, 85.31891255975485, 72.745705811955403, 1.6993804552810714]\n",
      "Max VIF is for variable no.:\n",
      "5\n",
      "Iteration no.\n",
      "3\n",
      "[14.459403389463185, 3.3046967315337259, 3.9692675219545199, 72.202930576847621, 5.3980553185292077, 48.64620607932568, 1.6992685093159436]\n",
      "Max VIF is for variable no.:\n",
      "3\n",
      "Iteration no.\n",
      "4\n",
      "[9.3982484356801628, 2.0806264171285078, 2.9473116643918029, 2.9373697582960556, 14.194212265847629, 1.5772269522280471]\n",
      "Max VIF is for variable no.:\n",
      "4\n",
      "Iteration no.\n",
      "5\n",
      "[2.8159100840826459, 1.5271448218478205, 1.8831376286345194, 2.9193601686224637, 1.5503096086209325]\n",
      "Max VIF is for variable no.:\n",
      "3\n"
     ]
    }
   ],
   "source": [
    "train_out = calculate_vif(X) "
   ]
  },
  {
   "cell_type": "code",
   "execution_count": 53,
   "metadata": {},
   "outputs": [
    {
     "data": {
      "text/html": [
       "<div>\n",
       "<style>\n",
       "    .dataframe thead tr:only-child th {\n",
       "        text-align: right;\n",
       "    }\n",
       "\n",
       "    .dataframe thead th {\n",
       "        text-align: left;\n",
       "    }\n",
       "\n",
       "    .dataframe tbody tr th {\n",
       "        vertical-align: top;\n",
       "    }\n",
       "</style>\n",
       "<table border=\"1\" class=\"dataframe\">\n",
       "  <thead>\n",
       "    <tr style=\"text-align: right;\">\n",
       "      <th></th>\n",
       "      <th>cement</th>\n",
       "      <th>slag</th>\n",
       "      <th>ash</th>\n",
       "      <th>superplastic</th>\n",
       "      <th>age</th>\n",
       "    </tr>\n",
       "  </thead>\n",
       "  <tbody>\n",
       "    <tr>\n",
       "      <th>0</th>\n",
       "      <td>141.3</td>\n",
       "      <td>212.0</td>\n",
       "      <td>0.0</td>\n",
       "      <td>0.0</td>\n",
       "      <td>28</td>\n",
       "    </tr>\n",
       "    <tr>\n",
       "      <th>1</th>\n",
       "      <td>168.9</td>\n",
       "      <td>42.2</td>\n",
       "      <td>124.3</td>\n",
       "      <td>10.8</td>\n",
       "      <td>14</td>\n",
       "    </tr>\n",
       "    <tr>\n",
       "      <th>2</th>\n",
       "      <td>250.0</td>\n",
       "      <td>0.0</td>\n",
       "      <td>95.7</td>\n",
       "      <td>5.5</td>\n",
       "      <td>28</td>\n",
       "    </tr>\n",
       "    <tr>\n",
       "      <th>3</th>\n",
       "      <td>266.0</td>\n",
       "      <td>114.0</td>\n",
       "      <td>0.0</td>\n",
       "      <td>0.0</td>\n",
       "      <td>28</td>\n",
       "    </tr>\n",
       "    <tr>\n",
       "      <th>4</th>\n",
       "      <td>154.8</td>\n",
       "      <td>183.4</td>\n",
       "      <td>0.0</td>\n",
       "      <td>9.1</td>\n",
       "      <td>28</td>\n",
       "    </tr>\n",
       "  </tbody>\n",
       "</table>\n",
       "</div>"
      ],
      "text/plain": [
       "   cement   slag    ash  superplastic  age\n",
       "0   141.3  212.0    0.0           0.0   28\n",
       "1   168.9   42.2  124.3          10.8   14\n",
       "2   250.0    0.0   95.7           5.5   28\n",
       "3   266.0  114.0    0.0           0.0   28\n",
       "4   154.8  183.4    0.0           9.1   28"
      ]
     },
     "execution_count": 53,
     "metadata": {},
     "output_type": "execute_result"
    }
   ],
   "source": [
    "train_out.head()"
   ]
  },
  {
   "cell_type": "code",
   "execution_count": 54,
   "metadata": {},
   "outputs": [
    {
     "data": {
      "text/plain": [
       "[1.5271448218478205,\n",
       " 1.8831376286345194,\n",
       " 2.9193601686224637,\n",
       " 1.5503096086209325]"
      ]
     },
     "execution_count": 54,
     "metadata": {},
     "output_type": "execute_result"
    }
   ],
   "source": [
    "[variance_inflation_factor(train_out.values, j) for j in range(1,train_out.shape[1])]"
   ]
  },
  {
   "cell_type": "markdown",
   "metadata": {},
   "source": [
    "### Inference \n",
    "\n",
    "We don't see any variable having VIF more than the threshold of 5. Hence there is no multi-collinearity."
   ]
  },
  {
   "cell_type": "markdown",
   "metadata": {},
   "source": [
    "### Take home exercises"
   ]
  },
  {
   "cell_type": "markdown",
   "metadata": {},
   "source": [
    "### Exercise 1"
   ]
  },
  {
   "cell_type": "markdown",
   "metadata": {},
   "source": [
    "Use the file, **car-mpg.csv** to find the regression equation line for the following:\n",
    "*   i. Regress mpg on disp (displacement)\n",
    "*  ii. Regress mpg on hp (horsepower)\n",
    "* iii. Regress mpg on wt (weight)\n",
    "*  iv. Regress mpg on acc(acceleration)\n",
    "\n",
    "Note: For each of the above question, please do the following:\n",
    "\n",
    "### a.\tConstruct a scatter plot to show the relationship between the variables\n",
    "\n",
    "### b.\tMeasure the relative strength of a linear relationship between the variables\n",
    "\n",
    "### c.\tGive your inference on the relationship between these variables\n",
    "\n",
    "### d.\tGive the simple linear regression equation between  the variables"
   ]
  },
  {
   "cell_type": "markdown",
   "metadata": {},
   "source": [
    "https://machinelearningmastery.com/implement-simple-linear-regression-scratch-python/"
   ]
  },
  {
   "cell_type": "code",
   "execution_count": 55,
   "metadata": {},
   "outputs": [
    {
     "name": "stdout",
     "output_type": "stream",
     "text": [
      "<class 'pandas.core.frame.DataFrame'>\n",
      "RangeIndex: 398 entries, 0 to 397\n",
      "Data columns (total 9 columns):\n",
      "mpg         398 non-null float64\n",
      "cyl         398 non-null int64\n",
      "disp        398 non-null float64\n",
      "hp          398 non-null object\n",
      "wt          398 non-null int64\n",
      "acc         398 non-null float64\n",
      "yr          398 non-null int64\n",
      "origin      398 non-null int64\n",
      "car name    398 non-null object\n",
      "dtypes: float64(3), int64(4), object(2)\n",
      "memory usage: 28.1+ KB\n"
     ]
    }
   ],
   "source": [
    "import pandas as pd\n",
    "cars_df = pd.read_csv('./data/car-mpg.csv')\n",
    "cars_df.info()"
   ]
  },
  {
   "cell_type": "markdown",
   "metadata": {},
   "source": [
    "### Exercise 2"
   ]
  },
  {
   "cell_type": "markdown",
   "metadata": {},
   "source": [
    "Use the file, **Advertising.csv** to find the regression equation line for the following:\n",
    "\n",
    "*   i. Regress Sales on TV\n",
    "*  ii. Regress Sales on Newspaper\n",
    "* iii. Regress Sales on Radio"
   ]
  },
  {
   "cell_type": "markdown",
   "metadata": {},
   "source": [
    "Note: For each of the above question, please do the following:\n",
    "\n",
    "### a.\tConstruct a scatter plot to show the relationship between the variables\n",
    "\n",
    "### b.\tMeasure the relative strength of a linear relationship between the variables\n",
    "\n",
    "### c.\tGive your inference on the relationship between these variables\n",
    "\n",
    "### d.\tGive the simple linear regression equation between  the variables"
   ]
  },
  {
   "cell_type": "code",
   "execution_count": 56,
   "metadata": {},
   "outputs": [
    {
     "name": "stdout",
     "output_type": "stream",
     "text": [
      "<class 'pandas.core.frame.DataFrame'>\n",
      "Int64Index: 200 entries, 1 to 200\n",
      "Data columns (total 4 columns):\n",
      "TV           200 non-null float64\n",
      "Radio        200 non-null float64\n",
      "Newspaper    200 non-null float64\n",
      "Sales        200 non-null float64\n",
      "dtypes: float64(4)\n",
      "memory usage: 7.8 KB\n",
      "None\n",
      "               1     2     3      4      5\n",
      "TV         230.1  44.5  17.2  151.5  180.8\n",
      "Radio       37.8  39.3  45.9   41.3   10.8\n",
      "Newspaper   69.2  45.1  69.3   58.5   58.4\n",
      "Sales       22.1  10.4   9.3   18.5   12.9\n"
     ]
    }
   ],
   "source": [
    "import pandas as pd\n",
    "Advertising_df = pd.read_csv('./data/Advertising.csv', names = ['TV','Radio','Newspaper','Sales'], header = 0)\n",
    "print(Advertising_df.info())\n",
    "print(Advertising_df.head().T)"
   ]
  },
  {
   "cell_type": "markdown",
   "metadata": {
    "collapsed": true
   },
   "source": [
    "## END"
   ]
  }
 ],
 "metadata": {
  "kernelspec": {
   "display_name": "Python 3",
   "language": "python",
   "name": "python3"
  },
  "language_info": {
   "codemirror_mode": {
    "name": "ipython",
    "version": 3
   },
   "file_extension": ".py",
   "mimetype": "text/x-python",
   "name": "python",
   "nbconvert_exporter": "python",
   "pygments_lexer": "ipython3",
   "version": "3.6.3"
  }
 },
 "nbformat": 4,
 "nbformat_minor": 2
}
