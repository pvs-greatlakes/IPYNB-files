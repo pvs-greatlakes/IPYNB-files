{
 "cells": [
  {
   "cell_type": "markdown",
   "metadata": {},
   "source": [
    "# Logistic Regression"
   ]
  },
  {
   "cell_type": "markdown",
   "metadata": {},
   "source": [
    "### Example 1\n",
    "\n",
    "Consider ‘Heart’ data set from ISLR library. \n",
    "\n",
    "http://www.awesomestats.in/python-classification-german-credit-rating/\n",
    "\n",
    "Using Logistic Regression, predict heart disease (AHD) based on various parameters including clinical parameters and risk factors."
   ]
  },
  {
   "cell_type": "markdown",
   "metadata": {},
   "source": [
    "### Load the required libraries "
   ]
  },
  {
   "cell_type": "code",
   "execution_count": 1,
   "metadata": {},
   "outputs": [
    {
     "name": "stderr",
     "output_type": "stream",
     "text": [
      "D:\\Python\\lib\\site-packages\\sklearn\\cross_validation.py:41: DeprecationWarning: This module was deprecated in version 0.18 in favor of the model_selection module into which all the refactored classes and functions are moved. Also note that the interface of the new CV iterators are different from that of this module. This module will be removed in 0.20.\n",
      "  \"This module will be removed in 0.20.\", DeprecationWarning)\n"
     ]
    }
   ],
   "source": [
    "import pandas as pd\n",
    "import numpy as np\n",
    "import seaborn as sns\n",
    "import matplotlib.pyplot as plt\n",
    "\n",
    "from sklearn.cross_validation import train_test_split\n",
    "\n",
    "import statsmodels.api as sm\n",
    "\n",
    "from scipy import stats\n",
    "from sklearn import metrics\n",
    "\n",
    "%matplotlib inline\n",
    "\n",
    "stats.chisqprob = lambda chisq, df: stats.chi2.sf(chisq, df)"
   ]
  },
  {
   "cell_type": "markdown",
   "metadata": {},
   "source": [
    "### Define useful functions \n",
    "\n",
    "A *function* is a block of organized, reusable code that is used to perform a single, related action. \n",
    "\n",
    "**Functions** provide better modularity for your application and a high degree of code reusing."
   ]
  },
  {
   "cell_type": "markdown",
   "metadata": {},
   "source": [
    "### (1)  Function: draw_barplot()"
   ]
  },
  {
   "cell_type": "markdown",
   "metadata": {},
   "source": [
    "**Grouped Bar Chart** is used to represent and compare different categories of two or more groups. Because the categories are grouped and arranged side-by-side, the bar clusters make easy to interpret the differences inside a group, and even between the same category across groups."
   ]
  },
  {
   "cell_type": "markdown",
   "metadata": {},
   "source": [
    "**Function name:** draw_barplot()\n",
    "\n",
    "**Description:** This program does the following:\n",
    "\n",
    "* prints the cross tab with count and row percentages \n",
    "\n",
    "* plots grouped bar chart (grouped by the target variable, **AHD**\n",
    "\n",
    "**Input:** \n",
    "\n",
    "       1) Data Frame\n",
    "\n",
    "       2) Column name of the predictor variable selected\n",
    "       \n",
    "       3) Label for the predictor variable\n",
    "       \n",
    "       4) Title for the grouped bar chart\n",
    "\n",
    "**Output:**\n",
    "\n",
    "        1) Cross tab with count and row percentages\n",
    "        \n",
    "        2) Grouped Bar chart"
   ]
  },
  {
   "cell_type": "code",
   "execution_count": 2,
   "metadata": {
    "collapsed": true
   },
   "outputs": [],
   "source": [
    "def draw_barplot(df, X, xlab, title):\n",
    "    \n",
    "    x       =   df[X]\n",
    "    AHD     =   df['AHD']\n",
    "\n",
    "    ct = pd.crosstab(df[X], df['AHD'])\n",
    "    print(\"\\n Cross tab with count\\n\")\n",
    "    print(ct)\n",
    "\n",
    "    ### Cross tab with row percentages\n",
    "    print(\"\\n Cross tab with row % \\n\")\n",
    "    ct1 = pd.crosstab(df[X], df['AHD'], normalize='index').round(4)*100\n",
    "    print(ct1)\n",
    "\n",
    "    # now stack and reset\n",
    "    stacked = ct.stack().reset_index().rename(columns={0:'value'})\n",
    "\n",
    "    # plot grouped bar chart\n",
    "    ax = sns.barplot(x = stacked[X], y = stacked.value, hue=stacked.AHD)\n",
    "    ax.set_title(title)    \n",
    "    plt.show()"
   ]
  },
  {
   "cell_type": "markdown",
   "metadata": {},
   "source": [
    "### (2)  Function: draw_boxplot()"
   ]
  },
  {
   "cell_type": "markdown",
   "metadata": {},
   "source": [
    "**Boxplot** is often used in explanatory data analysis. This type of graph is used to show the shape of the distribution, its central value, and its variability. In a box and whisker plot: the ends of the box are the upper and lower quartiles, so the box spans the interquartile range.\n",
    "\n",
    "We also compute the descriptive statistics for the selected predictor variable X and also the target variable, AHD to compare their median values."
   ]
  },
  {
   "cell_type": "markdown",
   "metadata": {},
   "source": [
    "**Function name:** draw_boxplot()\n",
    "\n",
    "**Description:** This program does the following:\n",
    "\n",
    "*   prints the summary statistics grouped by target variable, **AHD**\n",
    "\n",
    "*   plots box chart (grouped by the target variable, **AHD**\n",
    "\n",
    "**Input:**\n",
    "\n",
    "          1) Data Frame containing the data for analysis\n",
    "          \n",
    "          2) Column name of the predictor variable selected\n",
    "          \n",
    "          3) Label for the predictor variable \n",
    "          \n",
    "          4) Title for the grouped bar chart\n",
    "\n",
    "**Output:**\n",
    "\n",
    "          1) Cross tab with count and row percentages \n",
    "          \n",
    "          2) Grouped Bar chart\n"
   ]
  },
  {
   "cell_type": "code",
   "execution_count": 3,
   "metadata": {
    "collapsed": true
   },
   "outputs": [],
   "source": [
    "def draw_boxplot(df, X, xlab, title):\n",
    "\n",
    "    x       =   df[X]\n",
    "    AHD     =   df['AHD']\n",
    "    \n",
    "    print(\"\\n Summary statistics for  \" + xlab + \"\\n\")\n",
    "    print(df[X].groupby(df['AHD']).describe().T)\n",
    "\n",
    "    sns.set_style(\"whitegrid\")\n",
    "    ax = sns.boxplot(x = df[X] ,y = df['AHD'])\n",
    "    ax.set_title(title)\n",
    "    plt.show()         "
   ]
  },
  {
   "cell_type": "markdown",
   "metadata": {},
   "source": [
    "### (4) Function: get_significant_vars()"
   ]
  },
  {
   "cell_type": "markdown",
   "metadata": {},
   "source": [
    "Function name: get_significant_vars()\n",
    "\n",
    "Description: This function does the following:\n",
    "\n",
    "* lists the significant variables at the specified significance level from the coefficients table\n",
    "\n",
    "Input:\n",
    "\n",
    "      1) Fitted model\n",
    "\n",
    "      2) Desired Level of significance\n",
    "\n",
    "Output:\n",
    "\n",
    "      1) List of significant variables at the desired level of significance        \n"
   ]
  },
  {
   "cell_type": "code",
   "execution_count": 4,
   "metadata": {
    "collapsed": true
   },
   "outputs": [],
   "source": [
    "def get_significant_vars( lm, sig_level ):\n",
    "    var_p_vals_df = pd.DataFrame( lm.pvalues )\n",
    "    var_p_vals_df['vars'] = var_p_vals_df.index\n",
    "    var_p_vals_df.columns = ['pvals', 'vars']\n",
    "    return list( var_p_vals_df[var_p_vals_df.pvals <= sig_level]['vars'] )"
   ]
  },
  {
   "cell_type": "markdown",
   "metadata": {},
   "source": [
    "### (4) Function: get_predictions()"
   ]
  },
  {
   "cell_type": "markdown",
   "metadata": {},
   "source": [
    "**Function name:** get_predictions()\n",
    "\n",
    "**Description:** This function does the following:\n",
    "\n",
    "*   predicts the target variables and returns a data frame of actual and predicted values based on the input data frame of features and fitted model \n",
    "\n",
    "\n",
    "**Input:**\n",
    "\n",
    "          1) Data Frame containing features\n",
    "          \n",
    "          2) Data frame containing the target variable\n",
    "          \n",
    "          3) Fitted model\n",
    "          \n",
    "**Output:**\n",
    "\n",
    "          1) a data frame of actual and predicted values          \n"
   ]
  },
  {
   "cell_type": "markdown",
   "metadata": {},
   "source": [
    "def get_predictions( y_test, model ):\n",
    "    y_pred_df = pd.DataFrame( { 'actual': y_test,\n",
    "    \"predicted_prob\": lg.predict( sm.add_constant( x_test ) ) } )\n",
    "    return y_pred_df"
   ]
  },
  {
   "cell_type": "code",
   "execution_count": 5,
   "metadata": {
    "collapsed": true
   },
   "outputs": [],
   "source": [
    "def get_predictions( x, y, model ):\n",
    "    y_pred_df = pd.DataFrame( { 'actual': y,\n",
    "    \"predicted_prob\": model.predict( sm.add_constant( x ) ) } )\n",
    "    return y_pred_df"
   ]
  },
  {
   "cell_type": "markdown",
   "metadata": {},
   "source": [
    "### (5) Function: draw_cm()"
   ]
  },
  {
   "cell_type": "markdown",
   "metadata": {},
   "source": [
    "**Function name:** draw_cm()\n",
    "\n",
    "**Description:** This function does the following:\n",
    "\n",
    "*   plots a heat graph for confusion matrix \n",
    "\n",
    "\n",
    "**Input:**\n",
    "\n",
    "          1) Data Frame containing actual values\n",
    "          \n",
    "          2) Data frame containing predicted values\n",
    "          \n",
    "          \n",
    "**Output:**\n",
    "\n",
    "          1) a nice confusion matrix graph      \n"
   ]
  },
  {
   "cell_type": "code",
   "execution_count": 6,
   "metadata": {
    "collapsed": true
   },
   "outputs": [],
   "source": [
    "def draw_cm( actual, predicted ):\n",
    "    cm = metrics.confusion_matrix( actual, predicted, [1,0] )\n",
    "    sns.heatmap(cm, annot=True, fmt='.2f', xticklabels = [\"Yes\", \"No\"] , yticklabels = [\"Yes\", \"No\"] )\n",
    "    plt.ylabel('True label')\n",
    "    plt.xlabel('Predicted label')\n",
    "    plt.show()"
   ]
  },
  {
   "cell_type": "markdown",
   "metadata": {},
   "source": [
    "### (5) Function: draw_roc()"
   ]
  },
  {
   "cell_type": "markdown",
   "metadata": {},
   "source": [
    "**Function name:** draw_roc()\n",
    "\n",
    "**Description:** This function does the following:\n",
    "\n",
    "*   plots a ROC and reports the area under ROC for the specified input\n",
    "\n",
    "\n",
    "**Input:**\n",
    "\n",
    "          1) Data Frame containing actual values for the target variable\n",
    "          \n",
    "          2) Data frame containing predicted probabilities\n",
    "          \n",
    "          \n",
    "**Output:**\n",
    "\n",
    "          1) a nice ROC graph with AUROC mentioned     \n"
   ]
  },
  {
   "cell_type": "code",
   "execution_count": 7,
   "metadata": {
    "collapsed": true
   },
   "outputs": [],
   "source": [
    "def draw_roc( actual, probs ):\n",
    "    fpr, tpr, thresholds = metrics.roc_curve( actual, probs,\n",
    "    drop_intermediate = False )\n",
    "    auc_score = metrics.roc_auc_score( actual, probs )\n",
    "    plt.figure(figsize=(6, 4))\n",
    "    plt.plot( fpr, tpr, label='ROC curve (area = %0.2f)' % auc_score )\n",
    "    plt.plot([0, 1], [0, 1], 'k--')\n",
    "    plt.xlim([0.0, 1.0])\n",
    "    plt.ylim([0.0, 1.05])\n",
    "    plt.xlabel('False Positive Rate or [1 - True Negative Rate]')\n",
    "    plt.ylabel('True Positive Rate')\n",
    "    plt.title('Receiver operating characteristic curve')\n",
    "    plt.legend(loc=\"lower right\")\n",
    "    plt.show()\n",
    "    return fpr, tpr, thresholds"
   ]
  },
  {
   "cell_type": "markdown",
   "metadata": {},
   "source": [
    "gre = sns.regplot(x= 'gre', y= 'admit', data= df, logistic= True).set_title(\"GRE Log Odds Linear Plot\")\n",
    "gre.figure.savefig(\"gre log lin.png\")"
   ]
  },
  {
   "cell_type": "markdown",
   "metadata": {},
   "source": [
    "### (6) Function: check_linearity()"
   ]
  },
  {
   "cell_type": "markdown",
   "metadata": {},
   "source": [
    "**Function name:** check_linearity()\n",
    "\n",
    "**Description:** This function does the following:\n",
    "\n",
    "*   Checks whether continuous Independent Variable is linearly related to the log odds of the IV by plotting the IV in question and look for an S-shaped curve. \n",
    "\n",
    "\n",
    "**Input:**\n",
    "\n",
    "          1) Data Frame containing the independent variable\n",
    "          \n",
    "          2) Data frame containing the complete data\n",
    "          \n",
    "          3) Title for the graph\n",
    "          \n",
    "          \n",
    "**Output:**\n",
    "\n",
    "          1) a  plot showing the linearity of the independent variable  \n"
   ]
  },
  {
   "cell_type": "code",
   "execution_count": 8,
   "metadata": {
    "collapsed": true
   },
   "outputs": [],
   "source": [
    "def check_linearity(x1, df, title):\n",
    "    sns.regplot(x = x1, y= 'AHD', data= df, logistic= True).set_title(title)\n",
    "    plt.show()"
   ]
  },
  {
   "cell_type": "markdown",
   "metadata": {},
   "source": [
    "### (7) Function: draw_hist()"
   ]
  },
  {
   "cell_type": "markdown",
   "metadata": {},
   "source": [
    "**Function name:** draw_hist()\n",
    "\n",
    "**Description:** This function does the following:\n",
    "\n",
    "*   plots a histogram for the specified variable\n",
    "\n",
    "\n",
    "**Input:**\n",
    "\n",
    "          1) Data Frame containing numerical variable         \n",
    "      \n",
    "          \n",
    "**Output:**\n",
    "\n",
    "          1) A **histogram** graph "
   ]
  },
  {
   "cell_type": "code",
   "execution_count": 9,
   "metadata": {
    "collapsed": true
   },
   "outputs": [],
   "source": [
    "def draw_hist(df, X, title):\n",
    "    sns.distplot(df[X]).set_title(title)\n",
    "    plt.show()"
   ]
  },
  {
   "cell_type": "markdown",
   "metadata": {},
   "source": [
    "#### (8) Function: get_youdens_j_cutoff()"
   ]
  },
  {
   "cell_type": "markdown",
   "metadata": {},
   "source": [
    "**Function name:** get_youdens_j_cutoff()\n",
    "\n",
    "**Description:** This function does the following:\n",
    "\n",
    "*   calculates the Youdens J score which gives the optimum cut-off point  given the fpr, tpr and thresholds\n",
    "\n",
    "\n",
    "**Input:**\n",
    "\n",
    "          1) List of fpr values\n",
    "          \n",
    "          2) List of tpr values\n",
    "          \n",
    "          3) thresholds\n",
    "      \n",
    "          \n",
    "**Output:**\n",
    "\n",
    "          1) Youdens J score"
   ]
  },
  {
   "cell_type": "code",
   "execution_count": 10,
   "metadata": {
    "collapsed": true
   },
   "outputs": [],
   "source": [
    "def get_youdens_j_cutoff(fpr,tpr,thresholds):\n",
    "    j_scores = tpr-fpr\n",
    "    j_ordered = sorted(zip(j_scores,thresholds))\n",
    "    return j_ordered[-1][1]"
   ]
  },
  {
   "cell_type": "markdown",
   "metadata": {},
   "source": [
    "#### (8) Function: get_cost_cutoff()"
   ]
  },
  {
   "cell_type": "markdown",
   "metadata": {},
   "source": [
    "Function name: get_cost_cutoff()\n",
    "\n",
    "Description: This function does the following:\n",
    "\n",
    "    calculates the optimum cut-off point based on lowest cost of misclassification\n",
    "\n",
    "Input:\n",
    "\n",
    "      1) Data Frame containing actual values for the target variable\n",
    "\n",
    "      2) Data frame containing predicted values \n",
    "\n",
    "      3) Cost of False positive - misclassification\n",
    "      \n",
    "      4) Cost of False Negative - misclassification\n",
    "      \n",
    "\n",
    "Output:\n",
    "\n",
    "      1) Total cost of misclassification\n"
   ]
  },
  {
   "cell_type": "code",
   "execution_count": 11,
   "metadata": {
    "collapsed": true
   },
   "outputs": [],
   "source": [
    "def get_cost_cutoff(actual, predicted, cost_fp, cost_fn):\n",
    "    \n",
    "    cm = metrics.confusion_matrix( actual, predicted, [1,0] )\n",
    "    cm_matrix      =  np.array( cm )    \n",
    "    est_cost       =  cm_matrix[0,1] * cost_fn  +  cm_matrix[1, 0] * cost_fp \n",
    "    return est_cost"
   ]
  },
  {
   "cell_type": "markdown",
   "metadata": {},
   "source": [
    "### Read Data "
   ]
  },
  {
   "cell_type": "code",
   "execution_count": 12,
   "metadata": {
    "collapsed": true
   },
   "outputs": [],
   "source": [
    "data = pd.read_csv('./data/Heart.csv', header = 0)"
   ]
  },
  {
   "cell_type": "markdown",
   "metadata": {},
   "source": [
    "Get the data dimension"
   ]
  },
  {
   "cell_type": "code",
   "execution_count": 13,
   "metadata": {},
   "outputs": [
    {
     "name": "stdout",
     "output_type": "stream",
     "text": [
      "(303, 15)\n"
     ]
    }
   ],
   "source": [
    "print(data.shape)"
   ]
  },
  {
   "cell_type": "markdown",
   "metadata": {},
   "source": [
    "**Observation**\n",
    "\n",
    "There are 303 observations and 15 variables used for our analysis."
   ]
  },
  {
   "cell_type": "markdown",
   "metadata": {},
   "source": [
    "See the first few rows of data set"
   ]
  },
  {
   "cell_type": "code",
   "execution_count": 14,
   "metadata": {},
   "outputs": [
    {
     "name": "stdout",
     "output_type": "stream",
     "text": [
      "                  0             1             2           3           4\n",
      "Unnamed: 0        1             2             3           4           5\n",
      "Age              63            67            67          37          41\n",
      "Sex               1             1             1           1           0\n",
      "ChestPain   typical  asymptomatic  asymptomatic  nonanginal  nontypical\n",
      "RestBP          145           160           120         130         130\n",
      "Chol            233           286           229         250         204\n",
      "Fbs               1             0             0           0           0\n",
      "RestECG           2             2             2           0           2\n",
      "MaxHR           150           108           129         187         172\n",
      "ExAng             0             1             1           0           0\n",
      "Oldpeak         2.3           1.5           2.6         3.5         1.4\n",
      "Slope             3             2             2           3           1\n",
      "Ca                0             3             2           0           0\n",
      "Thal          fixed        normal    reversable      normal      normal\n",
      "AHD              No           Yes           Yes          No          No\n"
     ]
    }
   ],
   "source": [
    "print(data.head().T)"
   ]
  },
  {
   "cell_type": "markdown",
   "metadata": {},
   "source": [
    "Get the column names of the data set"
   ]
  },
  {
   "cell_type": "code",
   "execution_count": 15,
   "metadata": {},
   "outputs": [
    {
     "name": "stdout",
     "output_type": "stream",
     "text": [
      "['Unnamed: 0', 'Age', 'Sex', 'ChestPain', 'RestBP', 'Chol', 'Fbs', 'RestECG', 'MaxHR', 'ExAng', 'Oldpeak', 'Slope', 'Ca', 'Thal', 'AHD']\n"
     ]
    }
   ],
   "source": [
    "print(list(data.columns))"
   ]
  },
  {
   "cell_type": "markdown",
   "metadata": {},
   "source": [
    "### Understanding the data types and required transformation"
   ]
  },
  {
   "cell_type": "markdown",
   "metadata": {},
   "source": [
    "| Column Name | Original Data Type | Desired Data Type | Description |\n",
    "| --- | --- | --- | --- |\n",
    "| Unnamed: 0 | Numeric |  Numeric | Index - Not required - to be removed |\n",
    "| Age | Numeric | Numeric | Age of the patient |\n",
    "| Sex | Numeric | Categorical | Gender of the patient (1 = male; 0 = female)  |\n",
    "| ChestPain | Categorical | Categorical | Chest Pain type |\n",
    "| RestBP | Numeric | Numeric | Resting blood pressure (in mm Hg)|\n",
    "| Chol | Numeric | Numeric |  Serum cholestoral in mg/dl  |\n",
    "| Fbs | Numeric | Categorical |  (Fasting blood sugar > 120 mg/dl) (1 = true; 0 = false)  |\n",
    "| RestECG | Numeric | Categorical | resting electrocardiographic results -- Value 0: normal -- Value 1: having ST-T wave abnormality (T wave inversions and/or ST elevation or depression of > 0.05 mV) -- Value 2: showing probable or definite left ventricular hypertrophy by Estes' criteria |\n",
    "| MaxHR | Numeric | Numeric | Maximum Heart Rate of the patient |\n",
    "| ExAng | Numeric | Categorical | Exercise induced angina (1 = yes; 0 = no) |\n",
    "| Oldpeak | Numeric | Numeric | ST depression induced by exercise relative to rest |\n",
    "| Slope | Numeric | Categorical | The slope of the peak exercise ST segment -- Value 1: upsloping -- Value 2: flat -- Value 3: downsloping  |\n",
    "| Ca | Numeric | Numeric | Number of major vessels (0-3) colored by flourosopy  |\n",
    "| Thal | Categorical | Categorical |Defect Type |\n",
    "| AHD | Categorical | Categorical | Presence of Atherosclerotic Heart Disease |"
   ]
  },
  {
   "cell_type": "markdown",
   "metadata": {},
   "source": [
    "### What could be the target variable?"
   ]
  },
  {
   "cell_type": "markdown",
   "metadata": {},
   "source": [
    "AHD is the target variable denoting the *Presence of Atherosclerotic Heart Disease*. The problem on hand is a **CLASSIFICATION PROBLEM**."
   ]
  },
  {
   "cell_type": "markdown",
   "metadata": {},
   "source": [
    "Let us find out how many of the observations are having value Yes and No for this variable, **AHD**"
   ]
  },
  {
   "cell_type": "markdown",
   "metadata": {},
   "source": [
    "### Check for missing values"
   ]
  },
  {
   "cell_type": "code",
   "execution_count": 16,
   "metadata": {},
   "outputs": [
    {
     "data": {
      "text/plain": [
       "Unnamed: 0    False\n",
       "Age           False\n",
       "Sex           False\n",
       "ChestPain     False\n",
       "RestBP        False\n",
       "Chol          False\n",
       "Fbs           False\n",
       "RestECG       False\n",
       "MaxHR         False\n",
       "ExAng         False\n",
       "Oldpeak       False\n",
       "Slope         False\n",
       "Ca             True\n",
       "Thal           True\n",
       "AHD           False\n",
       "dtype: bool"
      ]
     },
     "execution_count": 16,
     "metadata": {},
     "output_type": "execute_result"
    }
   ],
   "source": [
    "data.isnull().any()"
   ]
  },
  {
   "cell_type": "markdown",
   "metadata": {},
   "source": [
    "We observe that the variables, *Ca and Thal* have missing values.\n",
    "We shall identify them and remove them."
   ]
  },
  {
   "cell_type": "code",
   "execution_count": 17,
   "metadata": {},
   "outputs": [
    {
     "name": "stdout",
     "output_type": "stream",
     "text": [
      "                   87          166           192           266         287\n",
      "Unnamed: 0          88         167           193           267         288\n",
      "Age                 53          52            43            52          58\n",
      "Sex                  0           1             1             1           1\n",
      "ChestPain   nonanginal  nonanginal  asymptomatic  asymptomatic  nontypical\n",
      "RestBP             128         138           132           128         125\n",
      "Chol               216         223           247           204         220\n",
      "Fbs                  0           0             1             1           0\n",
      "RestECG              2           0             2             0           0\n",
      "MaxHR              115         169           143           156         144\n",
      "ExAng                0           0             1             1           0\n",
      "Oldpeak              0           0           0.1             1         0.4\n",
      "Slope                1           1             2             2           2\n",
      "Ca                   0         NaN           NaN             0         NaN\n",
      "Thal               NaN      normal    reversable           NaN  reversable\n",
      "AHD                 No          No           Yes           Yes          No\n"
     ]
    }
   ],
   "source": [
    "all_columns     = data.columns\n",
    "print(data[data.isnull().any(axis=1)][all_columns].head().T)"
   ]
  },
  {
   "cell_type": "markdown",
   "metadata": {},
   "source": [
    "**Observation**\n",
    "\n",
    "There are three missing values for the variable, *Ca* and two missing values for the variable, *Thal*"
   ]
  },
  {
   "cell_type": "markdown",
   "metadata": {},
   "source": [
    "### Remove missing values and unwanted column"
   ]
  },
  {
   "cell_type": "code",
   "execution_count": 18,
   "metadata": {},
   "outputs": [
    {
     "name": "stdout",
     "output_type": "stream",
     "text": [
      "(297, 14)\n"
     ]
    }
   ],
   "source": [
    "data_no_missing = data.dropna()\n",
    "\n",
    "### Remove unwanted column \"Unnamed: 0 \"\n",
    "data_clean      = data_no_missing.drop(['Unnamed: 0'], axis = 1)\n",
    "data_required   = data_clean \n",
    "\n",
    "print(data_required.shape)"
   ]
  },
  {
   "cell_type": "markdown",
   "metadata": {},
   "source": [
    "**Observation**\n",
    "\n",
    "After removing the missing values, there are 297 observations and 14 variables that includes the target variable, *AHD*"
   ]
  },
  {
   "cell_type": "markdown",
   "metadata": {},
   "source": [
    "## Explanatory Data Analysis"
   ]
  },
  {
   "cell_type": "markdown",
   "metadata": {},
   "source": [
    "Before carrying out EDA, we need to convert the following variables into categorical variables:\n",
    "* *Sex*\n",
    "* *Fbs*\n",
    "* *RestECG*\n",
    "* *ExAng*\n",
    "* *Slope*\n",
    "* *Ca*"
   ]
  },
  {
   "cell_type": "code",
   "execution_count": 19,
   "metadata": {
    "collapsed": true
   },
   "outputs": [],
   "source": [
    "data_required['Sex_Cat']     = data_required.Sex.astype(\"category\")\n",
    "data_required['Fbs_Cat']     = data_required.Fbs.astype(\"category\")\n",
    "data_required['RestECG_Cat'] = data_required.RestECG.astype(\"category\")\n",
    "data_required['ExAng_Cat']   = data_required.ExAng.astype(\"category\")\n",
    "data_required['Slope_Cat']   = data_required.Slope.astype(\"category\")\n",
    "data_required['Ca_Cat']      = data_required.Ca.astype(\"category\")\n"
   ]
  },
  {
   "cell_type": "code",
   "execution_count": 20,
   "metadata": {},
   "outputs": [
    {
     "data": {
      "text/html": [
       "<div>\n",
       "<style>\n",
       "    .dataframe thead tr:only-child th {\n",
       "        text-align: right;\n",
       "    }\n",
       "\n",
       "    .dataframe thead th {\n",
       "        text-align: left;\n",
       "    }\n",
       "\n",
       "    .dataframe tbody tr th {\n",
       "        vertical-align: top;\n",
       "    }\n",
       "</style>\n",
       "<table border=\"1\" class=\"dataframe\">\n",
       "  <thead>\n",
       "    <tr style=\"text-align: right;\">\n",
       "      <th></th>\n",
       "      <th>0</th>\n",
       "      <th>1</th>\n",
       "      <th>2</th>\n",
       "      <th>3</th>\n",
       "      <th>4</th>\n",
       "    </tr>\n",
       "  </thead>\n",
       "  <tbody>\n",
       "    <tr>\n",
       "      <th>Age</th>\n",
       "      <td>63</td>\n",
       "      <td>67</td>\n",
       "      <td>67</td>\n",
       "      <td>37</td>\n",
       "      <td>41</td>\n",
       "    </tr>\n",
       "    <tr>\n",
       "      <th>Sex</th>\n",
       "      <td>1</td>\n",
       "      <td>1</td>\n",
       "      <td>1</td>\n",
       "      <td>1</td>\n",
       "      <td>0</td>\n",
       "    </tr>\n",
       "    <tr>\n",
       "      <th>ChestPain</th>\n",
       "      <td>typical</td>\n",
       "      <td>asymptomatic</td>\n",
       "      <td>asymptomatic</td>\n",
       "      <td>nonanginal</td>\n",
       "      <td>nontypical</td>\n",
       "    </tr>\n",
       "    <tr>\n",
       "      <th>RestBP</th>\n",
       "      <td>145</td>\n",
       "      <td>160</td>\n",
       "      <td>120</td>\n",
       "      <td>130</td>\n",
       "      <td>130</td>\n",
       "    </tr>\n",
       "    <tr>\n",
       "      <th>Chol</th>\n",
       "      <td>233</td>\n",
       "      <td>286</td>\n",
       "      <td>229</td>\n",
       "      <td>250</td>\n",
       "      <td>204</td>\n",
       "    </tr>\n",
       "    <tr>\n",
       "      <th>Fbs</th>\n",
       "      <td>1</td>\n",
       "      <td>0</td>\n",
       "      <td>0</td>\n",
       "      <td>0</td>\n",
       "      <td>0</td>\n",
       "    </tr>\n",
       "    <tr>\n",
       "      <th>RestECG</th>\n",
       "      <td>2</td>\n",
       "      <td>2</td>\n",
       "      <td>2</td>\n",
       "      <td>0</td>\n",
       "      <td>2</td>\n",
       "    </tr>\n",
       "    <tr>\n",
       "      <th>MaxHR</th>\n",
       "      <td>150</td>\n",
       "      <td>108</td>\n",
       "      <td>129</td>\n",
       "      <td>187</td>\n",
       "      <td>172</td>\n",
       "    </tr>\n",
       "    <tr>\n",
       "      <th>ExAng</th>\n",
       "      <td>0</td>\n",
       "      <td>1</td>\n",
       "      <td>1</td>\n",
       "      <td>0</td>\n",
       "      <td>0</td>\n",
       "    </tr>\n",
       "    <tr>\n",
       "      <th>Oldpeak</th>\n",
       "      <td>2.3</td>\n",
       "      <td>1.5</td>\n",
       "      <td>2.6</td>\n",
       "      <td>3.5</td>\n",
       "      <td>1.4</td>\n",
       "    </tr>\n",
       "    <tr>\n",
       "      <th>Slope</th>\n",
       "      <td>3</td>\n",
       "      <td>2</td>\n",
       "      <td>2</td>\n",
       "      <td>3</td>\n",
       "      <td>1</td>\n",
       "    </tr>\n",
       "    <tr>\n",
       "      <th>Ca</th>\n",
       "      <td>0</td>\n",
       "      <td>3</td>\n",
       "      <td>2</td>\n",
       "      <td>0</td>\n",
       "      <td>0</td>\n",
       "    </tr>\n",
       "    <tr>\n",
       "      <th>Thal</th>\n",
       "      <td>fixed</td>\n",
       "      <td>normal</td>\n",
       "      <td>reversable</td>\n",
       "      <td>normal</td>\n",
       "      <td>normal</td>\n",
       "    </tr>\n",
       "    <tr>\n",
       "      <th>AHD</th>\n",
       "      <td>No</td>\n",
       "      <td>Yes</td>\n",
       "      <td>Yes</td>\n",
       "      <td>No</td>\n",
       "      <td>No</td>\n",
       "    </tr>\n",
       "    <tr>\n",
       "      <th>Sex_Cat</th>\n",
       "      <td>1</td>\n",
       "      <td>1</td>\n",
       "      <td>1</td>\n",
       "      <td>1</td>\n",
       "      <td>0</td>\n",
       "    </tr>\n",
       "    <tr>\n",
       "      <th>Fbs_Cat</th>\n",
       "      <td>1</td>\n",
       "      <td>0</td>\n",
       "      <td>0</td>\n",
       "      <td>0</td>\n",
       "      <td>0</td>\n",
       "    </tr>\n",
       "    <tr>\n",
       "      <th>RestECG_Cat</th>\n",
       "      <td>2</td>\n",
       "      <td>2</td>\n",
       "      <td>2</td>\n",
       "      <td>0</td>\n",
       "      <td>2</td>\n",
       "    </tr>\n",
       "    <tr>\n",
       "      <th>ExAng_Cat</th>\n",
       "      <td>0</td>\n",
       "      <td>1</td>\n",
       "      <td>1</td>\n",
       "      <td>0</td>\n",
       "      <td>0</td>\n",
       "    </tr>\n",
       "    <tr>\n",
       "      <th>Slope_Cat</th>\n",
       "      <td>3</td>\n",
       "      <td>2</td>\n",
       "      <td>2</td>\n",
       "      <td>3</td>\n",
       "      <td>1</td>\n",
       "    </tr>\n",
       "    <tr>\n",
       "      <th>Ca_Cat</th>\n",
       "      <td>0</td>\n",
       "      <td>3</td>\n",
       "      <td>2</td>\n",
       "      <td>0</td>\n",
       "      <td>0</td>\n",
       "    </tr>\n",
       "  </tbody>\n",
       "</table>\n",
       "</div>"
      ],
      "text/plain": [
       "                   0             1             2           3           4\n",
       "Age               63            67            67          37          41\n",
       "Sex                1             1             1           1           0\n",
       "ChestPain    typical  asymptomatic  asymptomatic  nonanginal  nontypical\n",
       "RestBP           145           160           120         130         130\n",
       "Chol             233           286           229         250         204\n",
       "Fbs                1             0             0           0           0\n",
       "RestECG            2             2             2           0           2\n",
       "MaxHR            150           108           129         187         172\n",
       "ExAng              0             1             1           0           0\n",
       "Oldpeak          2.3           1.5           2.6         3.5         1.4\n",
       "Slope              3             2             2           3           1\n",
       "Ca                 0             3             2           0           0\n",
       "Thal           fixed        normal    reversable      normal      normal\n",
       "AHD               No           Yes           Yes          No          No\n",
       "Sex_Cat            1             1             1           1           0\n",
       "Fbs_Cat            1             0             0           0           0\n",
       "RestECG_Cat        2             2             2           0           2\n",
       "ExAng_Cat          0             1             1           0           0\n",
       "Slope_Cat          3             2             2           3           1\n",
       "Ca_Cat             0             3             2           0           0"
      ]
     },
     "execution_count": 20,
     "metadata": {},
     "output_type": "execute_result"
    }
   ],
   "source": [
    "data_required.head().T"
   ]
  },
  {
   "cell_type": "code",
   "execution_count": 21,
   "metadata": {},
   "outputs": [
    {
     "data": {
      "text/html": [
       "<div>\n",
       "<style>\n",
       "    .dataframe thead tr:only-child th {\n",
       "        text-align: right;\n",
       "    }\n",
       "\n",
       "    .dataframe thead th {\n",
       "        text-align: left;\n",
       "    }\n",
       "\n",
       "    .dataframe tbody tr th {\n",
       "        vertical-align: top;\n",
       "    }\n",
       "</style>\n",
       "<table border=\"1\" class=\"dataframe\">\n",
       "  <thead>\n",
       "    <tr style=\"text-align: right;\">\n",
       "      <th></th>\n",
       "      <th>count</th>\n",
       "      <th>mean</th>\n",
       "      <th>std</th>\n",
       "      <th>min</th>\n",
       "      <th>25%</th>\n",
       "      <th>50%</th>\n",
       "      <th>75%</th>\n",
       "      <th>max</th>\n",
       "    </tr>\n",
       "  </thead>\n",
       "  <tbody>\n",
       "    <tr>\n",
       "      <th>Age</th>\n",
       "      <td>297.0</td>\n",
       "      <td>54.542088</td>\n",
       "      <td>9.049736</td>\n",
       "      <td>29.0</td>\n",
       "      <td>48.0</td>\n",
       "      <td>56.0</td>\n",
       "      <td>61.0</td>\n",
       "      <td>77.0</td>\n",
       "    </tr>\n",
       "    <tr>\n",
       "      <th>RestBP</th>\n",
       "      <td>297.0</td>\n",
       "      <td>131.693603</td>\n",
       "      <td>17.762806</td>\n",
       "      <td>94.0</td>\n",
       "      <td>120.0</td>\n",
       "      <td>130.0</td>\n",
       "      <td>140.0</td>\n",
       "      <td>200.0</td>\n",
       "    </tr>\n",
       "    <tr>\n",
       "      <th>Chol</th>\n",
       "      <td>297.0</td>\n",
       "      <td>247.350168</td>\n",
       "      <td>51.997583</td>\n",
       "      <td>126.0</td>\n",
       "      <td>211.0</td>\n",
       "      <td>243.0</td>\n",
       "      <td>276.0</td>\n",
       "      <td>564.0</td>\n",
       "    </tr>\n",
       "    <tr>\n",
       "      <th>MaxHR</th>\n",
       "      <td>297.0</td>\n",
       "      <td>149.599327</td>\n",
       "      <td>22.941562</td>\n",
       "      <td>71.0</td>\n",
       "      <td>133.0</td>\n",
       "      <td>153.0</td>\n",
       "      <td>166.0</td>\n",
       "      <td>202.0</td>\n",
       "    </tr>\n",
       "    <tr>\n",
       "      <th>Oldpeak</th>\n",
       "      <td>297.0</td>\n",
       "      <td>1.055556</td>\n",
       "      <td>1.166123</td>\n",
       "      <td>0.0</td>\n",
       "      <td>0.0</td>\n",
       "      <td>0.8</td>\n",
       "      <td>1.6</td>\n",
       "      <td>6.2</td>\n",
       "    </tr>\n",
       "  </tbody>\n",
       "</table>\n",
       "</div>"
      ],
      "text/plain": [
       "         count        mean        std    min    25%    50%    75%    max\n",
       "Age      297.0   54.542088   9.049736   29.0   48.0   56.0   61.0   77.0\n",
       "RestBP   297.0  131.693603  17.762806   94.0  120.0  130.0  140.0  200.0\n",
       "Chol     297.0  247.350168  51.997583  126.0  211.0  243.0  276.0  564.0\n",
       "MaxHR    297.0  149.599327  22.941562   71.0  133.0  153.0  166.0  202.0\n",
       "Oldpeak  297.0    1.055556   1.166123    0.0    0.0    0.8    1.6    6.2"
      ]
     },
     "execution_count": 21,
     "metadata": {},
     "output_type": "execute_result"
    }
   ],
   "source": [
    "data_required[['Age','RestBP','Chol','MaxHR','Oldpeak']].describe().T"
   ]
  },
  {
   "cell_type": "markdown",
   "metadata": {},
   "source": [
    "**Observation**\n",
    "\n",
    "We observe from the above table:\n",
    "\n",
    "*  for the following variables **mean is almost equal to the 50% percentile or median** indicating a possible normal distribution and the histogram to be symmetrical:\n",
    "\n",
    "* 1) Age\n",
    "* 2) RestBP\n",
    "\n",
    "\n",
    "*  for the following variables **mean is more than the 50% percentile or median** indicating the distribution is skewed to the right:\n",
    "\n",
    "* 1) Oldpeak\n",
    "* 2) Chol\n",
    "\n",
    "\n",
    "*  for the following variables **mean is less than the 50% percentile or median** indicating the distribution is skewed to the left:\n",
    "\n",
    "* 1) MaxHR\n",
    "\n"
   ]
  },
  {
   "cell_type": "markdown",
   "metadata": {},
   "source": [
    "#### Histogram for Age"
   ]
  },
  {
   "cell_type": "code",
   "execution_count": 22,
   "metadata": {},
   "outputs": [
    {
     "data": {
      "image/png": "[encoded data removed]",
      "text/plain": [
       "<matplotlib.figure.Figure at 0x1d4faf5ed30>"
      ]
     },
     "metadata": {},
     "output_type": "display_data"
    }
   ],
   "source": [
    "draw_hist(data_required, 'Age', 'Histogram for Age')"
   ]
  },
  {
   "cell_type": "markdown",
   "metadata": {},
   "source": [
    "**Observation**\n",
    "\n",
    "The shape of the histogram looks almost symmetrical and of normal shape.  "
   ]
  },
  {
   "cell_type": "markdown",
   "metadata": {},
   "source": [
    "#### Histogram for RestBP"
   ]
  },
  {
   "cell_type": "code",
   "execution_count": 23,
   "metadata": {},
   "outputs": [
    {
     "data": {
      "image/png": "[encoded data removed]",
      "text/plain": [
       "<matplotlib.figure.Figure at 0x1d4fb478f60>"
      ]
     },
     "metadata": {},
     "output_type": "display_data"
    }
   ],
   "source": [
    "draw_hist(data_required, 'RestBP', 'Histogram for RestBP')"
   ]
  },
  {
   "cell_type": "markdown",
   "metadata": {},
   "source": [
    "**Observation**\n",
    "\n",
    "The shape of the histogram looks almost symmetrical and of normal shape.  "
   ]
  },
  {
   "cell_type": "markdown",
   "metadata": {},
   "source": [
    "#### Histogram for Cholesterol"
   ]
  },
  {
   "cell_type": "code",
   "execution_count": 24,
   "metadata": {},
   "outputs": [
    {
     "data": {
      "image/png": "[encoded data removed]",
      "text/plain": [
       "<matplotlib.figure.Figure at 0x1d4fb6446d8>"
      ]
     },
     "metadata": {},
     "output_type": "display_data"
    }
   ],
   "source": [
    "draw_hist(data_required, 'Chol', 'Histogram for Cholesterol')"
   ]
  },
  {
   "cell_type": "markdown",
   "metadata": {},
   "source": [
    "**Observation**\n",
    "\n",
    "The shape of the histogram looks looks slightly skewed to the left.   "
   ]
  },
  {
   "cell_type": "markdown",
   "metadata": {},
   "source": [
    "#### Histogram for Maximum Heart Rate of the patient"
   ]
  },
  {
   "cell_type": "code",
   "execution_count": 25,
   "metadata": {},
   "outputs": [
    {
     "data": {
      "image/png": "[encoded data removed]",
      "text/plain": [
       "<matplotlib.figure.Figure at 0x1d4fb65c358>"
      ]
     },
     "metadata": {},
     "output_type": "display_data"
    }
   ],
   "source": [
    "draw_hist(data_required, 'MaxHR', 'Histogram of Maximum Heart Rate of the patient') "
   ]
  },
  {
   "cell_type": "markdown",
   "metadata": {},
   "source": [
    "**Observation**\n",
    "\n",
    "The shape of the histogram looks slightly skewed to the right. "
   ]
  },
  {
   "cell_type": "markdown",
   "metadata": {},
   "source": [
    "#### Histogram for ST depression induced by exercise relative to rest"
   ]
  },
  {
   "cell_type": "code",
   "execution_count": 26,
   "metadata": {},
   "outputs": [
    {
     "data": {
      "image/png": "[encoded data removed]",
      "text/plain": [
       "<matplotlib.figure.Figure at 0x1d4fb777b00>"
      ]
     },
     "metadata": {},
     "output_type": "display_data"
    }
   ],
   "source": [
    "draw_hist(data_required, 'Oldpeak', 'Histogram of ST depression induced by exercise relative to rest') "
   ]
  },
  {
   "cell_type": "markdown",
   "metadata": {},
   "source": [
    "**Observation**\n",
    "\n",
    "The shape of the histogram looks slightly skewed to the right. "
   ]
  },
  {
   "cell_type": "markdown",
   "metadata": {},
   "source": [
    "### Grouped Bar Charts "
   ]
  },
  {
   "cell_type": "markdown",
   "metadata": {},
   "source": [
    "#### Cross tab - Sex Vs AHD"
   ]
  },
  {
   "cell_type": "code",
   "execution_count": 27,
   "metadata": {},
   "outputs": [
    {
     "name": "stdout",
     "output_type": "stream",
     "text": [
      "\n",
      " Cross tab with count\n",
      "\n",
      "AHD      No  Yes\n",
      "Sex_Cat         \n",
      "0        71   25\n",
      "1        89  112\n",
      "\n",
      " Cross tab with row % \n",
      "\n",
      "AHD         No    Yes\n",
      "Sex_Cat              \n",
      "0        73.96  26.04\n",
      "1        44.28  55.72\n"
     ]
    },
    {
     "data": {
      "image/png": "[encoded data removed]",
      "text/plain": [
       "<matplotlib.figure.Figure at 0x1d4fb7afc18>"
      ]
     },
     "metadata": {},
     "output_type": "display_data"
    }
   ],
   "source": [
    "draw_barplot(data_required, 'Sex_Cat','Sex', 'Sex Vs AHD')"
   ]
  },
  {
   "cell_type": "markdown",
   "metadata": {},
   "source": [
    "**Observation**\n",
    "\n",
    "We observe that presence of AHD is more for Male patients than Female patients. "
   ]
  },
  {
   "cell_type": "markdown",
   "metadata": {},
   "source": [
    "#### Cross tab - Fbs Vs AHD"
   ]
  },
  {
   "cell_type": "code",
   "execution_count": 28,
   "metadata": {},
   "outputs": [
    {
     "name": "stdout",
     "output_type": "stream",
     "text": [
      "\n",
      " Cross tab with count\n",
      "\n",
      "AHD       No  Yes\n",
      "Fbs_Cat          \n",
      "0        137  117\n",
      "1         23   20\n",
      "\n",
      " Cross tab with row % \n",
      "\n",
      "AHD         No    Yes\n",
      "Fbs_Cat              \n",
      "0        53.94  46.06\n",
      "1        53.49  46.51\n"
     ]
    },
    {
     "data": {
      "image/png": "[encoded data removed]",
      "text/plain": [
       "<matplotlib.figure.Figure at 0x1d4fb820a20>"
      ]
     },
     "metadata": {},
     "output_type": "display_data"
    }
   ],
   "source": [
    "draw_barplot(data_required, 'Fbs_Cat','Fbs', 'Fbs Vs AHD')"
   ]
  },
  {
   "cell_type": "markdown",
   "metadata": {},
   "source": [
    "## **Observation**\n",
    "\n",
    "We observe that the AHD present in the patients having Fbs more than 120 mg/dl is **slightly higher** than patients having Fbs less than 120 mg/dl."
   ]
  },
  {
   "cell_type": "markdown",
   "metadata": {},
   "source": [
    "#### Cross tab - RestECG Vs AHD"
   ]
  },
  {
   "cell_type": "code",
   "execution_count": 29,
   "metadata": {},
   "outputs": [
    {
     "name": "stdout",
     "output_type": "stream",
     "text": [
      "\n",
      " Cross tab with count\n",
      "\n",
      "AHD          No  Yes\n",
      "RestECG_Cat         \n",
      "0            92   55\n",
      "1             1    3\n",
      "2            67   79\n",
      "\n",
      " Cross tab with row % \n",
      "\n",
      "AHD             No    Yes\n",
      "RestECG_Cat              \n",
      "0            62.59  37.41\n",
      "1            25.00  75.00\n",
      "2            45.89  54.11\n"
     ]
    },
    {
     "data": {
      "image/png": "[encoded data removed]",
      "text/plain": [
       "<matplotlib.figure.Figure at 0x1d4fb8c2b70>"
      ]
     },
     "metadata": {},
     "output_type": "display_data"
    }
   ],
   "source": [
    "draw_barplot(data_required, 'RestECG_Cat','RestECG', 'RestECG Vs AHD')"
   ]
  },
  {
   "cell_type": "markdown",
   "metadata": {},
   "source": [
    "**Observation**\n",
    "\n",
    "1) We do not have sufficient data points for the variable, RestECG with category 1 (having ST-T wave abnormality (T wave inversions and/or ST elevation or depression of > 0.05 mV))\n",
    "\n",
    "2) We observe that presence of AHD increases with levels of RestECG. "
   ]
  },
  {
   "cell_type": "markdown",
   "metadata": {},
   "source": [
    "#### Cross tab - Exercise induced angina Vs AHD "
   ]
  },
  {
   "cell_type": "code",
   "execution_count": 30,
   "metadata": {},
   "outputs": [
    {
     "name": "stdout",
     "output_type": "stream",
     "text": [
      "\n",
      " Cross tab with count\n",
      "\n",
      "AHD         No  Yes\n",
      "ExAng_Cat          \n",
      "0          137   63\n",
      "1           23   74\n",
      "\n",
      " Cross tab with row % \n",
      "\n",
      "AHD           No    Yes\n",
      "ExAng_Cat              \n",
      "0          68.50  31.50\n",
      "1          23.71  76.29\n"
     ]
    },
    {
     "data": {
      "image/png": "[encoded data removed]",
      "text/plain": [
       "<matplotlib.figure.Figure at 0x1d4fb63e048>"
      ]
     },
     "metadata": {},
     "output_type": "display_data"
    }
   ],
   "source": [
    "draw_barplot(data_required, 'ExAng_Cat','Exercise induced angina', 'Exercise induced angina Vs AHD')"
   ]
  },
  {
   "cell_type": "markdown",
   "metadata": {},
   "source": [
    "**Observation**\n",
    "\n",
    "We observe that presence of AHD is higher for patients for whom *Exercise induced angina* is **yes** than **no**."
   ]
  },
  {
   "cell_type": "markdown",
   "metadata": {},
   "source": [
    "####  Cross tab  - The slope of the peak exercise ST segment Vs AHD"
   ]
  },
  {
   "cell_type": "code",
   "execution_count": 31,
   "metadata": {},
   "outputs": [
    {
     "name": "stdout",
     "output_type": "stream",
     "text": [
      "\n",
      " Cross tab with count\n",
      "\n",
      "AHD         No  Yes\n",
      "Slope_Cat          \n",
      "1          103   36\n",
      "2           48   89\n",
      "3            9   12\n",
      "\n",
      " Cross tab with row % \n",
      "\n",
      "AHD           No    Yes\n",
      "Slope_Cat              \n",
      "1          74.10  25.90\n",
      "2          35.04  64.96\n",
      "3          42.86  57.14\n"
     ]
    },
    {
     "data": {
      "image/png": "[encoded data removed]",
      "text/plain": [
       "<matplotlib.figure.Figure at 0x1d4fb9cc780>"
      ]
     },
     "metadata": {},
     "output_type": "display_data"
    }
   ],
   "source": [
    "draw_barplot(data_required, 'Slope_Cat','slope of the peak exercise ST segmenta', 'The slope of the peak exercise ST segment Vs AHD')"
   ]
  },
  {
   "cell_type": "markdown",
   "metadata": {},
   "source": [
    "**Observation**\n",
    "\n",
    "We observe that presence of AHD is higher when levels of the slope of the peak exercise ST segment is more than 1. We need more data to conclude. "
   ]
  },
  {
   "cell_type": "markdown",
   "metadata": {},
   "source": [
    "####  Cross tab  - Chest Pain Vs AHD"
   ]
  },
  {
   "cell_type": "code",
   "execution_count": 32,
   "metadata": {},
   "outputs": [
    {
     "name": "stdout",
     "output_type": "stream",
     "text": [
      "\n",
      " Cross tab with count\n",
      "\n",
      "AHD           No  Yes\n",
      "ChestPain            \n",
      "asymptomatic  39  103\n",
      "nonanginal    65   18\n",
      "nontypical    40    9\n",
      "typical       16    7\n",
      "\n",
      " Cross tab with row % \n",
      "\n",
      "AHD              No    Yes\n",
      "ChestPain                 \n",
      "asymptomatic  27.46  72.54\n",
      "nonanginal    78.31  21.69\n",
      "nontypical    81.63  18.37\n",
      "typical       69.57  30.43\n"
     ]
    },
    {
     "data": {
      "image/png": "[encoded data removed]",
      "text/plain": [
       "<matplotlib.figure.Figure at 0x1d4fb96c550>"
      ]
     },
     "metadata": {},
     "output_type": "display_data"
    }
   ],
   "source": [
    "draw_barplot(data_required, 'ChestPain','Chest Pain', 'Chest Pain Vs AHD')"
   ]
  },
  {
   "cell_type": "markdown",
   "metadata": {},
   "source": [
    "**Observation**\n",
    "\n",
    "* Incidence of AHD is higher for patients having asymptomatic chest pain than patients with other types of chest pain. We need more data to conclude. \n",
    "\n",
    "* Asymptomatic means neither causing nor exhibiting symptoms of disease. Not all heart attacks produce chest pain or the well-known classic symptoms. So called silent heart attacks, however, can be just as deadly."
   ]
  },
  {
   "cell_type": "markdown",
   "metadata": {},
   "source": [
    "####  Cross tab  - Defect Type Vs AHD"
   ]
  },
  {
   "cell_type": "code",
   "execution_count": 33,
   "metadata": {},
   "outputs": [
    {
     "name": "stdout",
     "output_type": "stream",
     "text": [
      "\n",
      " Cross tab with count\n",
      "\n",
      "AHD          No  Yes\n",
      "Thal                \n",
      "fixed         6   12\n",
      "normal      127   37\n",
      "reversable   27   88\n",
      "\n",
      " Cross tab with row % \n",
      "\n",
      "AHD            No    Yes\n",
      "Thal                    \n",
      "fixed       33.33  66.67\n",
      "normal      77.44  22.56\n",
      "reversable  23.48  76.52\n"
     ]
    },
    {
     "data": {
      "image/png": "[encoded data removed]",
      "text/plain": [
       "<matplotlib.figure.Figure at 0x1d4fba97160>"
      ]
     },
     "metadata": {},
     "output_type": "display_data"
    }
   ],
   "source": [
    "draw_barplot(data_required, 'Thal','Defect Type', 'Defect Type Vs AHD')"
   ]
  },
  {
   "cell_type": "markdown",
   "metadata": {},
   "source": [
    "**Observation**\n",
    "\n",
    "Based on the data provided to us, we observe that the *Incidence of AHD* is **higher** for patients having Defect Types (fixed, reversable) than patients with normal defect types. We need more data to conclude"
   ]
  },
  {
   "cell_type": "markdown",
   "metadata": {},
   "source": [
    "### Cross tab - Number of major vessels (0-3) colored by flourosopy Vs AHD"
   ]
  },
  {
   "cell_type": "code",
   "execution_count": 34,
   "metadata": {},
   "outputs": [
    {
     "name": "stdout",
     "output_type": "stream",
     "text": [
      "\n",
      " Cross tab with count\n",
      "\n",
      "AHD      No  Yes\n",
      "Ca_Cat          \n",
      "0.0     129   45\n",
      "1.0      21   44\n",
      "2.0       7   31\n",
      "3.0       3   17\n",
      "\n",
      " Cross tab with row % \n",
      "\n",
      "AHD        No    Yes\n",
      "Ca_Cat              \n",
      "0.0     74.14  25.86\n",
      "1.0     32.31  67.69\n",
      "2.0     18.42  81.58\n",
      "3.0     15.00  85.00\n"
     ]
    },
    {
     "data": {
      "image/png": "[encoded data removed]",
      "text/plain": [
       "<matplotlib.figure.Figure at 0x1d4fba58470>"
      ]
     },
     "metadata": {},
     "output_type": "display_data"
    }
   ],
   "source": [
    "draw_barplot(data_required, 'Ca_Cat','Number of major vessels (0-3) colored by flourosopy', 'Number of major vessels (0-3) colored by flourosopy Vs AHD')"
   ]
  },
  {
   "cell_type": "markdown",
   "metadata": {},
   "source": [
    "**Observation**\n",
    "\n",
    "Based on the data provided to us, we observe *Number of major vessels (0-3) colored by flourosopy* increases for patients having AHD than patients who are do not have AHD disease. "
   ]
  },
  {
   "cell_type": "markdown",
   "metadata": {},
   "source": [
    "We need to study the effect of following variables on the target varible, **AHD**\n",
    "* Age\n",
    "* RestBP\n",
    "* Chol\n",
    "* MaxHR\n",
    "* Oldpeak"
   ]
  },
  {
   "cell_type": "markdown",
   "metadata": {},
   "source": [
    "We will check the presence of the outliers, which is an observation that lies at an abnormal distance from other values in a data set for a continuous, numerical variable. Basically they are extreme values. Using box plots, we identify observations that are lying beyond an outer boundary of (Q3 - 1.5 IQR) and  (Q3 + 1.5 IQR). Here Q3 is the third Quartile (75th percentile), Q1 is the first Quartile (25th perecentile) and IQR, the **Inter Quartile Range**, difference between Q3 and Q1 (Q3 - Q1).\n",
    "\n",
    "We need to deal with *Outliers* carefully. They could be mere typos or a possible correct value. They may contain valuable information about the data gathering and recording process. Before deciding to eliminate these points from the data, one should try to understand the root cause of why they appeared and whether similar values will continue to appear. Outliers are often bad data points influencing the data analysis. "
   ]
  },
  {
   "cell_type": "markdown",
   "metadata": {},
   "source": [
    "#### Age Vs AHD "
   ]
  },
  {
   "cell_type": "code",
   "execution_count": 35,
   "metadata": {},
   "outputs": [
    {
     "name": "stdout",
     "output_type": "stream",
     "text": [
      "\n",
      " Summary statistics for  Age\n",
      "\n",
      "AHD            No         Yes\n",
      "count  160.000000  137.000000\n",
      "mean    52.643750   56.759124\n",
      "std      9.551151    7.899670\n",
      "min     29.000000   35.000000\n",
      "25%     44.750000   53.000000\n",
      "50%     52.000000   58.000000\n",
      "75%     59.000000   62.000000\n",
      "max     76.000000   77.000000\n"
     ]
    },
    {
     "data": {
      "image/png": "[encoded data removed]",
      "text/plain": [
       "<matplotlib.figure.Figure at 0x1d4fb797f60>"
      ]
     },
     "metadata": {},
     "output_type": "display_data"
    }
   ],
   "source": [
    "draw_boxplot(data_required, 'Age', 'Age', 'Age Vs AHD')"
   ]
  },
  {
   "cell_type": "markdown",
   "metadata": {},
   "source": [
    "**Observation**\n",
    "\n",
    "* Based on the data provided to us, we observe that the patients whose median age (58 years) with *Incidence of AHD* is **more** than medain age of patients who are do not have AHD disease.\n",
    "\n",
    "* We see an outlier, the diamond-like symbol below age 40 and above 70. Since the minimum value for Age for patients having AHD is 35 years and maximum value is 77 years and these values are quite common nowadays, we can safely ignore the outliers. "
   ]
  },
  {
   "cell_type": "markdown",
   "metadata": {},
   "source": [
    "#### Resting blood pressure (in mm / Hg) Vs AHD"
   ]
  },
  {
   "cell_type": "code",
   "execution_count": 36,
   "metadata": {},
   "outputs": [
    {
     "name": "stdout",
     "output_type": "stream",
     "text": [
      "\n",
      " Summary statistics for  RestBP\n",
      "\n",
      "AHD           No         Yes\n",
      "count  160.00000  137.000000\n",
      "mean   129.17500  134.635036\n",
      "std     16.37399   18.896730\n",
      "min     94.00000  100.000000\n",
      "25%    120.00000  120.000000\n",
      "50%    130.00000  130.000000\n",
      "75%    140.00000  145.000000\n",
      "max    180.00000  200.000000\n"
     ]
    },
    {
     "data": {
      "image/png": "[encoded data removed]",
      "text/plain": [
       "<matplotlib.figure.Figure at 0x1d4fba239e8>"
      ]
     },
     "metadata": {},
     "output_type": "display_data"
    }
   ],
   "source": [
    "draw_boxplot(data_required, 'RestBP', 'RestBP', 'Resting blood pressure (in mm / Hg) Vs AHD')"
   ]
  },
  {
   "cell_type": "markdown",
   "metadata": {},
   "source": [
    "**Observation**\n",
    "\n",
    "* Based on the data provided to us, we observe that the patients whose median median BP with *Incidence of AHD* is **same** as median BP of patients who are do not have AHD disease.\n",
    "\n",
    "* We see several outliers, for both AHD and without AHD. We observe the maximum value for RestBP for patients having AHD is 200 mm/hg and maximum value for patients without AHD is 180. *Since these values are quite common nowadays, we can safely ignore these outliers.* "
   ]
  },
  {
   "cell_type": "markdown",
   "metadata": {},
   "source": [
    "#### Serum cholestoral in mg/dl Vs AHD "
   ]
  },
  {
   "cell_type": "code",
   "execution_count": 37,
   "metadata": {},
   "outputs": [
    {
     "name": "stdout",
     "output_type": "stream",
     "text": [
      "\n",
      " Summary statistics for  Chol\n",
      "\n",
      "AHD           No         Yes\n",
      "count  160.00000  137.000000\n",
      "mean   243.49375  251.854015\n",
      "std     53.75755   49.679937\n",
      "min    126.00000  131.000000\n",
      "25%    208.75000  218.000000\n",
      "50%    235.50000  253.000000\n",
      "75%    268.25000  284.000000\n",
      "max    564.00000  409.000000\n"
     ]
    },
    {
     "data": {
      "image/png": "[encoded data removed]",
      "text/plain": [
       "<matplotlib.figure.Figure at 0x1d4fba2a630>"
      ]
     },
     "metadata": {},
     "output_type": "display_data"
    }
   ],
   "source": [
    "draw_boxplot(data_required, 'Chol', 'Chol', 'Serum cholestoral in mg/dl Vs AHD ')"
   ]
  },
  {
   "cell_type": "markdown",
   "metadata": {},
   "source": [
    "Observation\n",
    "\n",
    "*    Based on the data provided to us, we observe that the patients whose median Serum cholestoral with Incidence of AHD is slightly more than the patients who are do not have AHD disease.\n",
    "\n",
    "*    We see several outliers, one for patient with AHD and  four outliers for patients without AHD. We observe the maximum value for Serum cholestoral for patients having AHD is 409 mm/hg and maximum value for patients without AHD is 564. Since these values are quite common nowadays, we can safely ignore these outliers."
   ]
  },
  {
   "cell_type": "markdown",
   "metadata": {},
   "source": [
    "#### Maximum Heart Rate of the patient Vs AHD "
   ]
  },
  {
   "cell_type": "code",
   "execution_count": 38,
   "metadata": {},
   "outputs": [
    {
     "name": "stdout",
     "output_type": "stream",
     "text": [
      "\n",
      " Summary statistics for  MaxHR\n",
      "\n",
      "AHD            No         Yes\n",
      "count  160.000000  137.000000\n",
      "mean   158.581250  139.109489\n",
      "std     19.043304   22.710673\n",
      "min     96.000000   71.000000\n",
      "25%    149.000000  125.000000\n",
      "50%    161.000000  142.000000\n",
      "75%    172.000000  157.000000\n",
      "max    202.000000  195.000000\n"
     ]
    },
    {
     "data": {
      "image/png": "[encoded data removed]",
      "text/plain": [
       "<matplotlib.figure.Figure at 0x1d4fb468f60>"
      ]
     },
     "metadata": {},
     "output_type": "display_data"
    }
   ],
   "source": [
    "draw_boxplot(data_required, 'MaxHR', 'MaxHR', 'Maximum Heart Rate of the patient Vs AHD')"
   ]
  },
  {
   "cell_type": "markdown",
   "metadata": {},
   "source": [
    "Observation\n",
    "\n",
    "*    Based on the data provided to us, we observe that the patients whose median Maximum Heart Rate with Incidence of AHD is much lower than the patients who are do not have AHD disease. \n",
    "\n",
    "*    From the box plots, we see several outliers, one for AHD patients and four for patients without AHD. We observe the maximum value for Maximum Heart Rate for patients having AHD is 195 and maximum value for patients without Maximum Heart Rate is 202. Since these values are quite common nowadays, we can safely ignore these outliers."
   ]
  },
  {
   "cell_type": "markdown",
   "metadata": {},
   "source": [
    "#### ST depression induced by exercise relative to rest Vs AHD "
   ]
  },
  {
   "cell_type": "code",
   "execution_count": 39,
   "metadata": {},
   "outputs": [
    {
     "name": "stdout",
     "output_type": "stream",
     "text": [
      "\n",
      " Summary statistics for  Oldpeak\n",
      "\n",
      "AHD           No         Yes\n",
      "count  160.00000  137.000000\n",
      "mean     0.59875    1.589051\n",
      "std      0.78716    1.305006\n",
      "min      0.00000    0.000000\n",
      "25%      0.00000    0.600000\n",
      "50%      0.20000    1.400000\n",
      "75%      1.10000    2.500000\n",
      "max      4.20000    6.200000\n"
     ]
    },
    {
     "data": {
      "image/png": "[encoded data removed]",
      "text/plain": [
       "<matplotlib.figure.Figure at 0x1d4fb777b70>"
      ]
     },
     "metadata": {},
     "output_type": "display_data"
    }
   ],
   "source": [
    "draw_boxplot(data_required, 'Oldpeak', 'Oldpeak', 'ST depression induced by exercise relative to rest Vs AHD')"
   ]
  },
  {
   "cell_type": "markdown",
   "metadata": {},
   "source": [
    "Observation\n",
    "\n",
    "*    Based on the data provided to us, we observe that the patients whose median ST depression induced by exercise relative to rest with Incidence of AHD is higher than the patients who are do not have AHD disease.\n",
    "\n",
    "*    We see several outliers, for both AHD and without AHD. We observe the maximum value for ST depression induced by exercise relative to rest for patients having AHD is 6.2 and maximum value for patients without AHD is 4.2. We need to explore this further, before removing them."
   ]
  },
  {
   "cell_type": "markdown",
   "metadata": {},
   "source": [
    "### Find out the count for each class of the target variable"
   ]
  },
  {
   "cell_type": "code",
   "execution_count": 40,
   "metadata": {},
   "outputs": [
    {
     "data": {
      "text/plain": [
       "No     160\n",
       "Yes    137\n",
       "Name: AHD, dtype: int64"
      ]
     },
     "execution_count": 40,
     "metadata": {},
     "output_type": "execute_result"
    }
   ],
   "source": [
    "data_required['AHD'].value_counts()"
   ]
  },
  {
   "cell_type": "markdown",
   "metadata": {},
   "source": [
    "**Observation**\n",
    "\n",
    "1) Target variable with two classes are almost equally distributed with 54% for class *No* and 46% for class *Yes*.\n",
    "\n",
    "2) So, we have a balanced data set with almost equal proportion of classes."
   ]
  },
  {
   "cell_type": "markdown",
   "metadata": {},
   "source": [
    "**Logistic Regression Assumptions**\n",
    "\n",
    "*   Binary logistic regression requires the target / dependent variable to be binary. \n",
    "    For a binary regression, the factor level 1 of the dependent variable should represent the desired outcome\n",
    "    (such as Success etc..).\n",
    "\n",
    "*   Only the meaningful variables should be included.\n",
    "\n",
    "*   The predictor variables should not be correlated to each other meaning the model should have little or no   \n",
    "    multicollinearity.\n",
    "    \n",
    "*   The independent variables are linearly related to the log odds.\n",
    "\n",
    "*   Logistic regression requires quite a large number of observations.  "
   ]
  },
  {
   "cell_type": "markdown",
   "metadata": {},
   "source": [
    "### 1)    Binary logistic regression requires the target / dependent variable to be binary.\n",
    "\n",
    "For a binary regression, the factor level 1 of the dependent variable should represent the desired outcome (such as\n",
    "Success etc..)."
   ]
  },
  {
   "cell_type": "code",
   "execution_count": 41,
   "metadata": {
    "collapsed": true
   },
   "outputs": [],
   "source": [
    "data         = data_clean\n",
    "data['AHD']  = data_clean.AHD.replace(['Yes', 'No'], [1, 0])"
   ]
  },
  {
   "cell_type": "markdown",
   "metadata": {},
   "source": [
    "###  2)   Only the meaningful variables should be included."
   ]
  },
  {
   "cell_type": "markdown",
   "metadata": {},
   "source": [
    "We have removed the unwanted variables, such as *Unnamed: 0*"
   ]
  },
  {
   "cell_type": "markdown",
   "metadata": {},
   "source": [
    "###  3)   Absence of multicollinearity"
   ]
  },
  {
   "cell_type": "markdown",
   "metadata": {},
   "source": [
    "### Let us find the correlation among numerical variables"
   ]
  },
  {
   "cell_type": "code",
   "execution_count": 42,
   "metadata": {},
   "outputs": [
    {
     "name": "stdout",
     "output_type": "stream",
     "text": [
      "              Age      Chol     MaxHR   Oldpeak    RestBP\n",
      "Age      1.000000  0.202644 -0.394563  0.197123  0.290476\n",
      "Chol     0.202644  1.000000 -0.000075  0.038596  0.131536\n",
      "MaxHR   -0.394563 -0.000075  1.000000 -0.347640 -0.049108\n",
      "Oldpeak  0.197123  0.038596 -0.347640  1.000000  0.191243\n",
      "RestBP   0.290476  0.131536 -0.049108  0.191243  1.000000\n"
     ]
    }
   ],
   "source": [
    "num_variables = ['Age', 'RestBP', 'Chol', 'MaxHR', 'Oldpeak']\n",
    "df_num        = data_required[np.intersect1d(data_required.columns, num_variables)]\n",
    "print(df_num .corr())"
   ]
  },
  {
   "cell_type": "code",
   "execution_count": 43,
   "metadata": {},
   "outputs": [
    {
     "data": {
      "image/png": "[encoded data removed]",
      "text/plain": [
       "<matplotlib.figure.Figure at 0x1d4fb6e62e8>"
      ]
     },
     "metadata": {},
     "output_type": "display_data"
    }
   ],
   "source": [
    "sns.heatmap(df_num.corr())\n",
    "plt.show()"
   ]
  },
  {
   "cell_type": "markdown",
   "metadata": {},
   "source": [
    "**Observation**\n",
    "\n",
    "The correlation between pair of predictor variables is weak since the highest correlation among them is -0.39 only."
   ]
  },
  {
   "cell_type": "markdown",
   "metadata": {},
   "source": [
    "### 4) The independent variables are linearly related to the log odds."
   ]
  },
  {
   "cell_type": "markdown",
   "metadata": {},
   "source": [
    "Check the assumption of **Independent variables are linearly related to the log odds**\n",
    "\n",
    "One way to checking this is to plot the Independent variables in question and look for an S-shaped curve."
   ]
  },
  {
   "cell_type": "code",
   "execution_count": 44,
   "metadata": {},
   "outputs": [
    {
     "data": {
      "image/png": "[encoded data removed]",
      "text/plain": [
       "<matplotlib.figure.Figure at 0x1d4fb74eb70>"
      ]
     },
     "metadata": {},
     "output_type": "display_data"
    },
    {
     "data": {
      "image/png": "[encoded data removed]",
      "text/plain": [
       "<matplotlib.figure.Figure at 0x1d4fb7ad6d8>"
      ]
     },
     "metadata": {},
     "output_type": "display_data"
    },
    {
     "data": {
      "image/png": "[encoded data removed]",
      "text/plain": [
       "<matplotlib.figure.Figure at 0x1d4fb99ea90>"
      ]
     },
     "metadata": {},
     "output_type": "display_data"
    },
    {
     "data": {
      "image/png": "[encoded data removed]",
      "text/plain": [
       "<matplotlib.figure.Figure at 0x1d4fb603048>"
      ]
     },
     "metadata": {},
     "output_type": "display_data"
    },
    {
     "data": {
      "image/png": "[encoded data removed]",
      "text/plain": [
       "<matplotlib.figure.Figure at 0x1d4fb710128>"
      ]
     },
     "metadata": {},
     "output_type": "display_data"
    }
   ],
   "source": [
    "df2 = data_clean\n",
    "\n",
    "\n",
    "check_linearity('Age',     df2,      title = 'Age Log odds linear plot')\n",
    "check_linearity('Chol',    df2,     title = 'Chol Log odds linear plot')\n",
    "check_linearity('MaxHR',   df2,    title = 'MaxHR Log odds linear plot')\n",
    "check_linearity('Oldpeak', df2,  title = 'Oldpeak Log odds linear plot')\n",
    "check_linearity('RestBP',  df2,   title = 'RestBP Log odds linear plot')\n"
   ]
  },
  {
   "cell_type": "markdown",
   "metadata": {},
   "source": [
    " **Observation**\n",
    " \n",
    " We observe the above graphs vaguely resemble the S-shaped curve that is required for establishing the linearity.\n",
    "  "
   ]
  },
  {
   "cell_type": "markdown",
   "metadata": {},
   "source": [
    "### 5) Logistic regression requires quite a large number of observations.  "
   ]
  },
  {
   "cell_type": "markdown",
   "metadata": {},
   "source": [
    "A **general rule of thumb** is that at least 10 per variable.\n",
    "\n",
    "We have 297 observations and 14 variables; so we have approximately 21 observations per variable."
   ]
  },
  {
   "cell_type": "code",
   "execution_count": 45,
   "metadata": {},
   "outputs": [
    {
     "data": {
      "text/plain": [
       "['Age',\n",
       " 'Sex',\n",
       " 'ChestPain',\n",
       " 'RestBP',\n",
       " 'Chol',\n",
       " 'Fbs',\n",
       " 'RestECG',\n",
       " 'MaxHR',\n",
       " 'ExAng',\n",
       " 'Oldpeak',\n",
       " 'Slope',\n",
       " 'Ca',\n",
       " 'Thal',\n",
       " 'AHD',\n",
       " 'Sex_Cat',\n",
       " 'Fbs_Cat',\n",
       " 'RestECG_Cat',\n",
       " 'ExAng_Cat',\n",
       " 'Slope_Cat',\n",
       " 'Ca_Cat']"
      ]
     },
     "execution_count": 45,
     "metadata": {},
     "output_type": "execute_result"
    }
   ],
   "source": [
    "list(data.columns)"
   ]
  },
  {
   "cell_type": "markdown",
   "metadata": {},
   "source": [
    "Removing response variables and the redundant factor variables from the dataset"
   ]
  },
  {
   "cell_type": "code",
   "execution_count": 46,
   "metadata": {},
   "outputs": [
    {
     "data": {
      "text/plain": [
       "['Age',\n",
       " 'ChestPain',\n",
       " 'RestBP',\n",
       " 'Chol',\n",
       " 'MaxHR',\n",
       " 'Oldpeak',\n",
       " 'Thal',\n",
       " 'Sex_Cat',\n",
       " 'Fbs_Cat',\n",
       " 'RestECG_Cat',\n",
       " 'ExAng_Cat',\n",
       " 'Slope_Cat',\n",
       " 'Ca_Cat']"
      ]
     },
     "execution_count": 46,
     "metadata": {},
     "output_type": "execute_result"
    }
   ],
   "source": [
    "X_features = list(data.columns )\n",
    "X_features.remove('AHD')\n",
    "X_features.remove('Sex')\n",
    "X_features.remove('Fbs')\n",
    "X_features.remove('RestECG')\n",
    "X_features.remove('ExAng')\n",
    "X_features.remove('Slope')\n",
    "X_features.remove('Ca')\n",
    "X_features"
   ]
  },
  {
   "cell_type": "code",
   "execution_count": 47,
   "metadata": {
    "collapsed": true
   },
   "outputs": [],
   "source": [
    "data_complete = pd.get_dummies(data[X_features], drop_first= True)"
   ]
  },
  {
   "cell_type": "code",
   "execution_count": 48,
   "metadata": {},
   "outputs": [
    {
     "data": {
      "text/plain": [
       "20"
      ]
     },
     "execution_count": 48,
     "metadata": {},
     "output_type": "execute_result"
    }
   ],
   "source": [
    "len(data.columns)"
   ]
  },
  {
   "cell_type": "code",
   "execution_count": 49,
   "metadata": {},
   "outputs": [
    {
     "data": {
      "text/plain": [
       "20"
      ]
     },
     "execution_count": 49,
     "metadata": {},
     "output_type": "execute_result"
    }
   ],
   "source": [
    "len(data_complete.columns)"
   ]
  },
  {
   "cell_type": "code",
   "execution_count": 50,
   "metadata": {
    "collapsed": true
   },
   "outputs": [],
   "source": [
    "y = data['AHD']"
   ]
  },
  {
   "cell_type": "code",
   "execution_count": 51,
   "metadata": {
    "collapsed": true
   },
   "outputs": [],
   "source": [
    "x = data_complete"
   ]
  },
  {
   "cell_type": "code",
   "execution_count": 52,
   "metadata": {},
   "outputs": [
    {
     "data": {
      "text/html": [
       "<div>\n",
       "<style>\n",
       "    .dataframe thead tr:only-child th {\n",
       "        text-align: right;\n",
       "    }\n",
       "\n",
       "    .dataframe thead th {\n",
       "        text-align: left;\n",
       "    }\n",
       "\n",
       "    .dataframe tbody tr th {\n",
       "        vertical-align: top;\n",
       "    }\n",
       "</style>\n",
       "<table border=\"1\" class=\"dataframe\">\n",
       "  <thead>\n",
       "    <tr style=\"text-align: right;\">\n",
       "      <th></th>\n",
       "      <th>0</th>\n",
       "      <th>1</th>\n",
       "      <th>2</th>\n",
       "      <th>3</th>\n",
       "      <th>4</th>\n",
       "    </tr>\n",
       "  </thead>\n",
       "  <tbody>\n",
       "    <tr>\n",
       "      <th>Age</th>\n",
       "      <td>63.0</td>\n",
       "      <td>67.0</td>\n",
       "      <td>67.0</td>\n",
       "      <td>37.0</td>\n",
       "      <td>41.0</td>\n",
       "    </tr>\n",
       "    <tr>\n",
       "      <th>RestBP</th>\n",
       "      <td>145.0</td>\n",
       "      <td>160.0</td>\n",
       "      <td>120.0</td>\n",
       "      <td>130.0</td>\n",
       "      <td>130.0</td>\n",
       "    </tr>\n",
       "    <tr>\n",
       "      <th>Chol</th>\n",
       "      <td>233.0</td>\n",
       "      <td>286.0</td>\n",
       "      <td>229.0</td>\n",
       "      <td>250.0</td>\n",
       "      <td>204.0</td>\n",
       "    </tr>\n",
       "    <tr>\n",
       "      <th>MaxHR</th>\n",
       "      <td>150.0</td>\n",
       "      <td>108.0</td>\n",
       "      <td>129.0</td>\n",
       "      <td>187.0</td>\n",
       "      <td>172.0</td>\n",
       "    </tr>\n",
       "    <tr>\n",
       "      <th>Oldpeak</th>\n",
       "      <td>2.3</td>\n",
       "      <td>1.5</td>\n",
       "      <td>2.6</td>\n",
       "      <td>3.5</td>\n",
       "      <td>1.4</td>\n",
       "    </tr>\n",
       "    <tr>\n",
       "      <th>ChestPain_nonanginal</th>\n",
       "      <td>0.0</td>\n",
       "      <td>0.0</td>\n",
       "      <td>0.0</td>\n",
       "      <td>1.0</td>\n",
       "      <td>0.0</td>\n",
       "    </tr>\n",
       "    <tr>\n",
       "      <th>ChestPain_nontypical</th>\n",
       "      <td>0.0</td>\n",
       "      <td>0.0</td>\n",
       "      <td>0.0</td>\n",
       "      <td>0.0</td>\n",
       "      <td>1.0</td>\n",
       "    </tr>\n",
       "    <tr>\n",
       "      <th>ChestPain_typical</th>\n",
       "      <td>1.0</td>\n",
       "      <td>0.0</td>\n",
       "      <td>0.0</td>\n",
       "      <td>0.0</td>\n",
       "      <td>0.0</td>\n",
       "    </tr>\n",
       "    <tr>\n",
       "      <th>Thal_normal</th>\n",
       "      <td>0.0</td>\n",
       "      <td>1.0</td>\n",
       "      <td>0.0</td>\n",
       "      <td>1.0</td>\n",
       "      <td>1.0</td>\n",
       "    </tr>\n",
       "    <tr>\n",
       "      <th>Thal_reversable</th>\n",
       "      <td>0.0</td>\n",
       "      <td>0.0</td>\n",
       "      <td>1.0</td>\n",
       "      <td>0.0</td>\n",
       "      <td>0.0</td>\n",
       "    </tr>\n",
       "    <tr>\n",
       "      <th>Sex_Cat_1</th>\n",
       "      <td>1.0</td>\n",
       "      <td>1.0</td>\n",
       "      <td>1.0</td>\n",
       "      <td>1.0</td>\n",
       "      <td>0.0</td>\n",
       "    </tr>\n",
       "    <tr>\n",
       "      <th>Fbs_Cat_1</th>\n",
       "      <td>1.0</td>\n",
       "      <td>0.0</td>\n",
       "      <td>0.0</td>\n",
       "      <td>0.0</td>\n",
       "      <td>0.0</td>\n",
       "    </tr>\n",
       "    <tr>\n",
       "      <th>RestECG_Cat_1</th>\n",
       "      <td>0.0</td>\n",
       "      <td>0.0</td>\n",
       "      <td>0.0</td>\n",
       "      <td>0.0</td>\n",
       "      <td>0.0</td>\n",
       "    </tr>\n",
       "    <tr>\n",
       "      <th>RestECG_Cat_2</th>\n",
       "      <td>1.0</td>\n",
       "      <td>1.0</td>\n",
       "      <td>1.0</td>\n",
       "      <td>0.0</td>\n",
       "      <td>1.0</td>\n",
       "    </tr>\n",
       "    <tr>\n",
       "      <th>ExAng_Cat_1</th>\n",
       "      <td>0.0</td>\n",
       "      <td>1.0</td>\n",
       "      <td>1.0</td>\n",
       "      <td>0.0</td>\n",
       "      <td>0.0</td>\n",
       "    </tr>\n",
       "    <tr>\n",
       "      <th>Slope_Cat_2</th>\n",
       "      <td>0.0</td>\n",
       "      <td>1.0</td>\n",
       "      <td>1.0</td>\n",
       "      <td>0.0</td>\n",
       "      <td>0.0</td>\n",
       "    </tr>\n",
       "    <tr>\n",
       "      <th>Slope_Cat_3</th>\n",
       "      <td>1.0</td>\n",
       "      <td>0.0</td>\n",
       "      <td>0.0</td>\n",
       "      <td>1.0</td>\n",
       "      <td>0.0</td>\n",
       "    </tr>\n",
       "    <tr>\n",
       "      <th>Ca_Cat_1.0</th>\n",
       "      <td>0.0</td>\n",
       "      <td>0.0</td>\n",
       "      <td>0.0</td>\n",
       "      <td>0.0</td>\n",
       "      <td>0.0</td>\n",
       "    </tr>\n",
       "    <tr>\n",
       "      <th>Ca_Cat_2.0</th>\n",
       "      <td>0.0</td>\n",
       "      <td>0.0</td>\n",
       "      <td>1.0</td>\n",
       "      <td>0.0</td>\n",
       "      <td>0.0</td>\n",
       "    </tr>\n",
       "    <tr>\n",
       "      <th>Ca_Cat_3.0</th>\n",
       "      <td>0.0</td>\n",
       "      <td>1.0</td>\n",
       "      <td>0.0</td>\n",
       "      <td>0.0</td>\n",
       "      <td>0.0</td>\n",
       "    </tr>\n",
       "  </tbody>\n",
       "</table>\n",
       "</div>"
      ],
      "text/plain": [
       "                          0      1      2      3      4\n",
       "Age                    63.0   67.0   67.0   37.0   41.0\n",
       "RestBP                145.0  160.0  120.0  130.0  130.0\n",
       "Chol                  233.0  286.0  229.0  250.0  204.0\n",
       "MaxHR                 150.0  108.0  129.0  187.0  172.0\n",
       "Oldpeak                 2.3    1.5    2.6    3.5    1.4\n",
       "ChestPain_nonanginal    0.0    0.0    0.0    1.0    0.0\n",
       "ChestPain_nontypical    0.0    0.0    0.0    0.0    1.0\n",
       "ChestPain_typical       1.0    0.0    0.0    0.0    0.0\n",
       "Thal_normal             0.0    1.0    0.0    1.0    1.0\n",
       "Thal_reversable         0.0    0.0    1.0    0.0    0.0\n",
       "Sex_Cat_1               1.0    1.0    1.0    1.0    0.0\n",
       "Fbs_Cat_1               1.0    0.0    0.0    0.0    0.0\n",
       "RestECG_Cat_1           0.0    0.0    0.0    0.0    0.0\n",
       "RestECG_Cat_2           1.0    1.0    1.0    0.0    1.0\n",
       "ExAng_Cat_1             0.0    1.0    1.0    0.0    0.0\n",
       "Slope_Cat_2             0.0    1.0    1.0    0.0    0.0\n",
       "Slope_Cat_3             1.0    0.0    0.0    1.0    0.0\n",
       "Ca_Cat_1.0              0.0    0.0    0.0    0.0    0.0\n",
       "Ca_Cat_2.0              0.0    0.0    1.0    0.0    0.0\n",
       "Ca_Cat_3.0              0.0    1.0    0.0    0.0    0.0"
      ]
     },
     "execution_count": 52,
     "metadata": {},
     "output_type": "execute_result"
    }
   ],
   "source": [
    "x.head().T"
   ]
  },
  {
   "cell_type": "markdown",
   "metadata": {},
   "source": [
    "Split dataset into test and train datasets"
   ]
  },
  {
   "cell_type": "code",
   "execution_count": 53,
   "metadata": {
    "collapsed": true
   },
   "outputs": [],
   "source": [
    "x_train, x_test, y_train, y_test = train_test_split( x, y, test_size = 0.3, random_state = 56 )"
   ]
  },
  {
   "cell_type": "code",
   "execution_count": 54,
   "metadata": {},
   "outputs": [
    {
     "data": {
      "text/plain": [
       "2      1\n",
       "299    1\n",
       "264    1\n",
       "44     1\n",
       "130    0\n",
       "136    1\n",
       "13     0\n",
       "183    0\n",
       "271    0\n",
       "100    0\n",
       "Name: AHD, dtype: int64"
      ]
     },
     "execution_count": 54,
     "metadata": {},
     "output_type": "execute_result"
    }
   ],
   "source": [
    "y_test[0:10]"
   ]
  },
  {
   "cell_type": "markdown",
   "metadata": {},
   "source": [
    "### Building a logistic regression model"
   ]
  },
  {
   "cell_type": "markdown",
   "metadata": {},
   "source": [
    "Logistic Regression is a classification algorithm that is used to predict the probability of a  target variable which is categorical. Here, the target variable is a dichotomous variable that contains data coded as 1 (desired outcome like success) or 0 (Example: failure). \n",
    "\n",
    "We have two popular options for building a logistic regression model; they are **scikit-learn and StatsModels**.\n",
    "\n",
    "Good thing about statsmodels is the summary output it produces. Students with R back ground will like it as it looks familiar."
   ]
  },
  {
   "cell_type": "code",
   "execution_count": 55,
   "metadata": {},
   "outputs": [
    {
     "name": "stdout",
     "output_type": "stream",
     "text": [
      "Optimization terminated successfully.\n",
      "         Current function value: 0.239217\n",
      "         Iterations 9\n"
     ]
    }
   ],
   "source": [
    "logit = sm.Logit( y_train, sm.add_constant( x_train ) )\n",
    "lg = logit.fit()"
   ]
  },
  {
   "cell_type": "markdown",
   "metadata": {},
   "source": [
    "### Report Psuedo R-square, model coefficients and p-value"
   ]
  },
  {
   "cell_type": "code",
   "execution_count": 56,
   "metadata": {},
   "outputs": [
    {
     "name": "stdout",
     "output_type": "stream",
     "text": [
      "                           Logit Regression Results                           \n",
      "==============================================================================\n",
      "Dep. Variable:                    AHD   No. Observations:                  207\n",
      "Model:                          Logit   Df Residuals:                      186\n",
      "Method:                           MLE   Df Model:                           20\n",
      "Date:                Sat, 01 Dec 2018   Pseudo R-squ.:                  0.6539\n",
      "Time:                        07:18:11   Log-Likelihood:                -49.518\n",
      "converged:                       True   LL-Null:                       -143.07\n",
      "                                        LLR p-value:                 3.915e-29\n",
      "========================================================================================\n",
      "                           coef    std err          z      P>|z|      [0.025      0.975]\n",
      "----------------------------------------------------------------------------------------\n",
      "const                  -10.1254      4.180     -2.422      0.015     -18.319      -1.932\n",
      "Age                     -0.0081      0.033     -0.242      0.809      -0.074       0.057\n",
      "RestBP                   0.0558      0.018      3.066      0.002       0.020       0.091\n",
      "Chol                     0.0043      0.006      0.773      0.439      -0.007       0.015\n",
      "MaxHR                   -0.0223      0.017     -1.300      0.194      -0.056       0.011\n",
      "Oldpeak                  0.7664      0.345      2.219      0.027       0.089       1.443\n",
      "ChestPain_nonanginal    -3.3961      0.882     -3.851      0.000      -5.125      -1.668\n",
      "ChestPain_nontypical    -1.0192      0.766     -1.330      0.184      -2.521       0.483\n",
      "ChestPain_typical       -3.6727      1.005     -3.654      0.000      -5.643      -1.703\n",
      "Thal_normal              1.5489      1.426      1.086      0.277      -1.246       4.343\n",
      "Thal_reversable          3.6132      1.462      2.472      0.013       0.748       6.478\n",
      "Sex_Cat_1                2.1876      0.765      2.861      0.004       0.689       3.686\n",
      "Fbs_Cat_1               -2.1661      1.163     -1.863      0.062      -4.445       0.113\n",
      "RestECG_Cat_1           -0.3001      5.068     -0.059      0.953     -10.233       9.633\n",
      "RestECG_Cat_2           -0.1667      0.574     -0.290      0.771      -1.291       0.958\n",
      "ExAng_Cat_1              0.5803      0.651      0.891      0.373      -0.696       1.856\n",
      "Slope_Cat_2              2.1217      0.760      2.790      0.005       0.631       3.612\n",
      "Slope_Cat_3              1.9075      1.135      1.681      0.093      -0.317       4.132\n",
      "Ca_Cat_1.0               3.1100      0.817      3.808      0.000       1.510       4.711\n",
      "Ca_Cat_2.0               4.3094      1.292      3.336      0.001       1.777       6.841\n",
      "Ca_Cat_3.0               3.0055      1.557      1.930      0.054      -0.047       6.058\n",
      "========================================================================================\n"
     ]
    }
   ],
   "source": [
    "print(lg.summary())"
   ]
  },
  {
   "cell_type": "markdown",
   "metadata": {},
   "source": [
    "**Observation**\n",
    "\n",
    "We observe that the McFadden R square (Pseudo R square) is 65.39 % and the model fitness is **very good.**\n",
    "\n",
    "This *McFadden* approach is one minus the ratio of two log likelihoods. The numerator is the log likelihood of the logit model selected and the denominator is the log likelihood if the model just had an intercept. \n",
    "\n",
    "A     goodness of fit  using  McFadden‟s  pseudo  r square  (ρ^2)  is  used  for  fitting  the  overall  model. McFadden suggested ρ^2 values of between 0.2 and  0.4  should  be  taken  to  represent  a  very  good  fit of the model (Louviere et al.,2000). \n",
    "\n",
    "\n",
    "http://www.lifesciencesite.com/lsj/life1002/286_B01288life1002_2028_2036.pdf"
   ]
  },
  {
   "cell_type": "markdown",
   "metadata": {},
   "source": [
    "### List the significant variables at 5% level of significance"
   ]
  },
  {
   "cell_type": "code",
   "execution_count": 57,
   "metadata": {},
   "outputs": [
    {
     "data": {
      "text/plain": [
       "['const',\n",
       " 'RestBP',\n",
       " 'Oldpeak',\n",
       " 'ChestPain_nonanginal',\n",
       " 'ChestPain_typical',\n",
       " 'Thal_reversable',\n",
       " 'Sex_Cat_1',\n",
       " 'Slope_Cat_2',\n",
       " 'Ca_Cat_1.0',\n",
       " 'Ca_Cat_2.0']"
      ]
     },
     "execution_count": 57,
     "metadata": {},
     "output_type": "execute_result"
    }
   ],
   "source": [
    "significant_vars = get_significant_vars( lg, sig_level = 0.05 )\n",
    "significant_vars"
   ]
  },
  {
   "cell_type": "markdown",
   "metadata": {},
   "source": [
    "**Observation**\n",
    "\n",
    "The following variables are significant at 5 % level of significance:\n",
    "\n",
    "* RestBP\n",
    "* Oldpeak\n",
    "* ChestPain_nonanginal\n",
    "* ChestPain_typical\n",
    "* Thal_reversable\n",
    "* Sex_Cat_1\n",
    "* Slope_Cat_2\n",
    "* Ca_Cat_1.0\n",
    "* Ca_Cat_2.0"
   ]
  },
  {
   "cell_type": "markdown",
   "metadata": {},
   "source": [
    "### Get Odds ratio"
   ]
  },
  {
   "cell_type": "code",
   "execution_count": 58,
   "metadata": {},
   "outputs": [
    {
     "name": "stdout",
     "output_type": "stream",
     "text": [
      "const                    0.000040\n",
      "Age                      0.991946\n",
      "RestBP                   1.057348\n",
      "Chol                     1.004295\n",
      "MaxHR                    0.977930\n",
      "Oldpeak                  2.151913\n",
      "ChestPain_nonanginal     0.033503\n",
      "ChestPain_nontypical     0.360889\n",
      "ChestPain_typical        0.025407\n",
      "Thal_normal              4.706421\n",
      "Thal_reversable         37.086003\n",
      "Sex_Cat_1                8.913953\n",
      "Fbs_Cat_1                0.114628\n",
      "RestECG_Cat_1            0.740765\n",
      "RestECG_Cat_2            0.846487\n",
      "ExAng_Cat_1              1.786623\n",
      "Slope_Cat_2              8.345523\n",
      "Slope_Cat_3              6.736073\n",
      "Ca_Cat_1.0              22.421889\n",
      "Ca_Cat_2.0              74.398180\n",
      "Ca_Cat_3.0              20.197042\n",
      "dtype: float64\n"
     ]
    }
   ],
   "source": [
    "print(np.exp(lg.params))"
   ]
  },
  {
   "cell_type": "markdown",
   "metadata": {},
   "source": [
    "**Odds Ratio Interpretation for significant variables**"
   ]
  },
  {
   "cell_type": "markdown",
   "metadata": {},
   "source": [
    "Holding other things constant:\n",
    "\n",
    "* For a patient, one mm/Hg increase in Resting Blood pressure, the odds of getting AHD increases by 5%.\n",
    "\n",
    "* For a patient, one unit increase in ST depression induced by exercise relative to rest, the odds of getting AHD increases by 115%.\n",
    " \n",
    "* For a patient with **Chest Pain being Non-anginal**, the odds of getting AHD are 0.03 times than the odds for a patient with other Chest Pain type.\n",
    "\n",
    "* For a patient with **Chest Pain being typical**, the odds of getting AHD are 0.03 times than the odds for a patient with other Chest Pain type.\n",
    "\n",
    "* For a patient with **Thal (Decect type) being reversable**, the odds of getting AHD are 37.09 times larger than the * For a patient with **other type of Chest Pain**.\n",
    "\n",
    "* For a **male** patient, the odds of getting AHD are 8.91 times larger than the odds for a female getting AHD.\n",
    "\n",
    "* For a patient with **slope of the peak exercise ST segment** being flat, the odds of getting AHD are 8.35 times larger than the odds for a patient with **slope of the peak exercise ST segment** belonging to other category getting AHD.\n",
    "\n",
    "* For a patient with **one number of major vessels  colored by flourosopy**, the odds of getting AHD are 22.42 times larger than the odds for a patient with **other number of major vessels  colored by flourosopy** getting AHD.\n",
    "\n",
    "* For a patient with **two number of major vessels  colored by flourosopy**, the odds of getting AHD are 74.40 times larger than the odds for a patient with **other number of major vessels  colored by flourosopy** getting AHD.\n",
    "\n",
    "\n",
    "\n",
    "\n",
    "\n"
   ]
  },
  {
   "cell_type": "markdown",
   "metadata": {},
   "source": [
    "### Evaluating model performance"
   ]
  },
  {
   "cell_type": "markdown",
   "metadata": {},
   "source": [
    "### Training data"
   ]
  },
  {
   "cell_type": "code",
   "execution_count": 59,
   "metadata": {
    "collapsed": true
   },
   "outputs": [],
   "source": [
    "y_pred_df = get_predictions( x_train, y_train, lg )"
   ]
  },
  {
   "cell_type": "code",
   "execution_count": 60,
   "metadata": {},
   "outputs": [
    {
     "data": {
      "text/html": [
       "<div>\n",
       "<style>\n",
       "    .dataframe thead tr:only-child th {\n",
       "        text-align: right;\n",
       "    }\n",
       "\n",
       "    .dataframe thead th {\n",
       "        text-align: left;\n",
       "    }\n",
       "\n",
       "    .dataframe tbody tr th {\n",
       "        vertical-align: top;\n",
       "    }\n",
       "</style>\n",
       "<table border=\"1\" class=\"dataframe\">\n",
       "  <thead>\n",
       "    <tr style=\"text-align: right;\">\n",
       "      <th></th>\n",
       "      <th>actual</th>\n",
       "      <th>predicted_prob</th>\n",
       "    </tr>\n",
       "  </thead>\n",
       "  <tbody>\n",
       "    <tr>\n",
       "      <th>38</th>\n",
       "      <td>1</td>\n",
       "      <td>0.999626</td>\n",
       "    </tr>\n",
       "    <tr>\n",
       "      <th>21</th>\n",
       "      <td>0</td>\n",
       "      <td>0.000243</td>\n",
       "    </tr>\n",
       "    <tr>\n",
       "      <th>159</th>\n",
       "      <td>0</td>\n",
       "      <td>0.500817</td>\n",
       "    </tr>\n",
       "    <tr>\n",
       "      <th>204</th>\n",
       "      <td>0</td>\n",
       "      <td>0.226704</td>\n",
       "    </tr>\n",
       "    <tr>\n",
       "      <th>146</th>\n",
       "      <td>1</td>\n",
       "      <td>0.998418</td>\n",
       "    </tr>\n",
       "    <tr>\n",
       "      <th>245</th>\n",
       "      <td>1</td>\n",
       "      <td>0.888977</td>\n",
       "    </tr>\n",
       "    <tr>\n",
       "      <th>297</th>\n",
       "      <td>1</td>\n",
       "      <td>0.878367</td>\n",
       "    </tr>\n",
       "    <tr>\n",
       "      <th>205</th>\n",
       "      <td>1</td>\n",
       "      <td>0.998904</td>\n",
       "    </tr>\n",
       "    <tr>\n",
       "      <th>217</th>\n",
       "      <td>0</td>\n",
       "      <td>0.255706</td>\n",
       "    </tr>\n",
       "    <tr>\n",
       "      <th>56</th>\n",
       "      <td>1</td>\n",
       "      <td>0.939028</td>\n",
       "    </tr>\n",
       "  </tbody>\n",
       "</table>\n",
       "</div>"
      ],
      "text/plain": [
       "     actual  predicted_prob\n",
       "38        1        0.999626\n",
       "21        0        0.000243\n",
       "159       0        0.500817\n",
       "204       0        0.226704\n",
       "146       1        0.998418\n",
       "245       1        0.888977\n",
       "297       1        0.878367\n",
       "205       1        0.998904\n",
       "217       0        0.255706\n",
       "56        1        0.939028"
      ]
     },
     "execution_count": 60,
     "metadata": {},
     "output_type": "execute_result"
    }
   ],
   "source": [
    "y_pred_df[0:10]"
   ]
  },
  {
   "cell_type": "code",
   "execution_count": 61,
   "metadata": {},
   "outputs": [
    {
     "data": {
      "text/html": [
       "<div>\n",
       "<style>\n",
       "    .dataframe thead tr:only-child th {\n",
       "        text-align: right;\n",
       "    }\n",
       "\n",
       "    .dataframe thead th {\n",
       "        text-align: left;\n",
       "    }\n",
       "\n",
       "    .dataframe tbody tr th {\n",
       "        vertical-align: top;\n",
       "    }\n",
       "</style>\n",
       "<table border=\"1\" class=\"dataframe\">\n",
       "  <thead>\n",
       "    <tr style=\"text-align: right;\">\n",
       "      <th></th>\n",
       "      <th>actual</th>\n",
       "      <th>predicted_prob</th>\n",
       "      <th>predicted</th>\n",
       "    </tr>\n",
       "  </thead>\n",
       "  <tbody>\n",
       "    <tr>\n",
       "      <th>38</th>\n",
       "      <td>1</td>\n",
       "      <td>0.999626</td>\n",
       "      <td>1</td>\n",
       "    </tr>\n",
       "    <tr>\n",
       "      <th>21</th>\n",
       "      <td>0</td>\n",
       "      <td>0.000243</td>\n",
       "      <td>0</td>\n",
       "    </tr>\n",
       "    <tr>\n",
       "      <th>159</th>\n",
       "      <td>0</td>\n",
       "      <td>0.500817</td>\n",
       "      <td>1</td>\n",
       "    </tr>\n",
       "    <tr>\n",
       "      <th>204</th>\n",
       "      <td>0</td>\n",
       "      <td>0.226704</td>\n",
       "      <td>0</td>\n",
       "    </tr>\n",
       "    <tr>\n",
       "      <th>146</th>\n",
       "      <td>1</td>\n",
       "      <td>0.998418</td>\n",
       "      <td>1</td>\n",
       "    </tr>\n",
       "    <tr>\n",
       "      <th>245</th>\n",
       "      <td>1</td>\n",
       "      <td>0.888977</td>\n",
       "      <td>1</td>\n",
       "    </tr>\n",
       "    <tr>\n",
       "      <th>297</th>\n",
       "      <td>1</td>\n",
       "      <td>0.878367</td>\n",
       "      <td>1</td>\n",
       "    </tr>\n",
       "    <tr>\n",
       "      <th>205</th>\n",
       "      <td>1</td>\n",
       "      <td>0.998904</td>\n",
       "      <td>1</td>\n",
       "    </tr>\n",
       "    <tr>\n",
       "      <th>217</th>\n",
       "      <td>0</td>\n",
       "      <td>0.255706</td>\n",
       "      <td>0</td>\n",
       "    </tr>\n",
       "    <tr>\n",
       "      <th>56</th>\n",
       "      <td>1</td>\n",
       "      <td>0.939028</td>\n",
       "      <td>1</td>\n",
       "    </tr>\n",
       "  </tbody>\n",
       "</table>\n",
       "</div>"
      ],
      "text/plain": [
       "     actual  predicted_prob  predicted\n",
       "38        1        0.999626          1\n",
       "21        0        0.000243          0\n",
       "159       0        0.500817          1\n",
       "204       0        0.226704          0\n",
       "146       1        0.998418          1\n",
       "245       1        0.888977          1\n",
       "297       1        0.878367          1\n",
       "205       1        0.998904          1\n",
       "217       0        0.255706          0\n",
       "56        1        0.939028          1"
      ]
     },
     "execution_count": 61,
     "metadata": {},
     "output_type": "execute_result"
    }
   ],
   "source": [
    "y_pred_df['predicted'] = y_pred_df.predicted_prob.map( lambda x: 1 if x > 0.5 else 0)\n",
    "y_pred_df[0:10]"
   ]
  },
  {
   "cell_type": "code",
   "execution_count": 62,
   "metadata": {},
   "outputs": [
    {
     "name": "stdout",
     "output_type": "stream",
     "text": [
      "\n",
      "Confusion Matrix for training data\n",
      "[[ 85  12]\n",
      " [  8 102]]\n"
     ]
    },
    {
     "data": {
      "image/png": "[encoded data removed]",
      "text/plain": [
       "<matplotlib.figure.Figure at 0x1d4fb68b208>"
      ]
     },
     "metadata": {},
     "output_type": "display_data"
    },
    {
     "name": "stdout",
     "output_type": "stream",
     "text": [
      "Total Accuracy :  0.9\n",
      "Mis-classification Rate :  0.1\n",
      "Precision :  0.91\n",
      "Recall :  0.88\n"
     ]
    }
   ],
   "source": [
    "cm1 = metrics.confusion_matrix( y_pred_df.actual, y_pred_df.predicted, [1,0] )\n",
    "\n",
    "print(\"\\nConfusion Matrix for training data\")\n",
    "print(cm1)\n",
    "\n",
    "draw_cm( y_pred_df.actual, y_pred_df.predicted )\n",
    "\n",
    "print( 'Total Accuracy : ',np.round( metrics.accuracy_score( y_train, y_pred_df.predicted ), 2 ) )\n",
    "\n",
    "print( 'Mis-classification Rate : ',np.round(  1- metrics.accuracy_score(  y_train, y_pred_df.predicted ), 2 ) )\n",
    "\n",
    "print( 'Precision : ',np.round( metrics.precision_score( y_train, y_pred_df.predicted ), 2 ) )\n",
    "\n",
    "print( 'Recall : ',np.round( metrics.recall_score( y_train, y_pred_df.predicted ), 2 ) )"
   ]
  },
  {
   "cell_type": "code",
   "execution_count": 63,
   "metadata": {},
   "outputs": [
    {
     "data": {
      "image/png": "[encoded data removed]",
      "text/plain": [
       "<matplotlib.figure.Figure at 0x1d4fb68b6d8>"
      ]
     },
     "metadata": {},
     "output_type": "display_data"
    }
   ],
   "source": [
    "auc_score = metrics.roc_auc_score( y_pred_df.actual, y_pred_df.predicted_prob)\n",
    "fpr, tpr, thresholds = draw_roc( y_pred_df.actual, y_pred_df.predicted_prob )"
   ]
  },
  {
   "cell_type": "markdown",
   "metadata": {},
   "source": [
    "### Testing data"
   ]
  },
  {
   "cell_type": "code",
   "execution_count": 64,
   "metadata": {
    "collapsed": true
   },
   "outputs": [],
   "source": [
    "y_pred_df = get_predictions( x_test, y_test, lg )"
   ]
  },
  {
   "cell_type": "code",
   "execution_count": 65,
   "metadata": {},
   "outputs": [
    {
     "data": {
      "text/html": [
       "<div>\n",
       "<style>\n",
       "    .dataframe thead tr:only-child th {\n",
       "        text-align: right;\n",
       "    }\n",
       "\n",
       "    .dataframe thead th {\n",
       "        text-align: left;\n",
       "    }\n",
       "\n",
       "    .dataframe tbody tr th {\n",
       "        vertical-align: top;\n",
       "    }\n",
       "</style>\n",
       "<table border=\"1\" class=\"dataframe\">\n",
       "  <thead>\n",
       "    <tr style=\"text-align: right;\">\n",
       "      <th></th>\n",
       "      <th>actual</th>\n",
       "      <th>predicted_prob</th>\n",
       "    </tr>\n",
       "  </thead>\n",
       "  <tbody>\n",
       "    <tr>\n",
       "      <th>2</th>\n",
       "      <td>1</td>\n",
       "      <td>0.999844</td>\n",
       "    </tr>\n",
       "    <tr>\n",
       "      <th>299</th>\n",
       "      <td>1</td>\n",
       "      <td>0.999550</td>\n",
       "    </tr>\n",
       "    <tr>\n",
       "      <th>264</th>\n",
       "      <td>1</td>\n",
       "      <td>0.999207</td>\n",
       "    </tr>\n",
       "    <tr>\n",
       "      <th>44</th>\n",
       "      <td>1</td>\n",
       "      <td>0.012813</td>\n",
       "    </tr>\n",
       "    <tr>\n",
       "      <th>130</th>\n",
       "      <td>0</td>\n",
       "      <td>0.201179</td>\n",
       "    </tr>\n",
       "    <tr>\n",
       "      <th>136</th>\n",
       "      <td>1</td>\n",
       "      <td>0.996430</td>\n",
       "    </tr>\n",
       "    <tr>\n",
       "      <th>13</th>\n",
       "      <td>0</td>\n",
       "      <td>0.149112</td>\n",
       "    </tr>\n",
       "    <tr>\n",
       "      <th>183</th>\n",
       "      <td>0</td>\n",
       "      <td>0.987033</td>\n",
       "    </tr>\n",
       "    <tr>\n",
       "      <th>271</th>\n",
       "      <td>0</td>\n",
       "      <td>0.486028</td>\n",
       "    </tr>\n",
       "    <tr>\n",
       "      <th>100</th>\n",
       "      <td>0</td>\n",
       "      <td>0.028722</td>\n",
       "    </tr>\n",
       "  </tbody>\n",
       "</table>\n",
       "</div>"
      ],
      "text/plain": [
       "     actual  predicted_prob\n",
       "2         1        0.999844\n",
       "299       1        0.999550\n",
       "264       1        0.999207\n",
       "44        1        0.012813\n",
       "130       0        0.201179\n",
       "136       1        0.996430\n",
       "13        0        0.149112\n",
       "183       0        0.987033\n",
       "271       0        0.486028\n",
       "100       0        0.028722"
      ]
     },
     "execution_count": 65,
     "metadata": {},
     "output_type": "execute_result"
    }
   ],
   "source": [
    "y_pred_df[0:10]"
   ]
  },
  {
   "cell_type": "code",
   "execution_count": 66,
   "metadata": {},
   "outputs": [
    {
     "data": {
      "text/html": [
       "<div>\n",
       "<style>\n",
       "    .dataframe thead tr:only-child th {\n",
       "        text-align: right;\n",
       "    }\n",
       "\n",
       "    .dataframe thead th {\n",
       "        text-align: left;\n",
       "    }\n",
       "\n",
       "    .dataframe tbody tr th {\n",
       "        vertical-align: top;\n",
       "    }\n",
       "</style>\n",
       "<table border=\"1\" class=\"dataframe\">\n",
       "  <thead>\n",
       "    <tr style=\"text-align: right;\">\n",
       "      <th></th>\n",
       "      <th>actual</th>\n",
       "      <th>predicted_prob</th>\n",
       "      <th>predicted</th>\n",
       "    </tr>\n",
       "  </thead>\n",
       "  <tbody>\n",
       "    <tr>\n",
       "      <th>2</th>\n",
       "      <td>1</td>\n",
       "      <td>0.999844</td>\n",
       "      <td>1</td>\n",
       "    </tr>\n",
       "    <tr>\n",
       "      <th>299</th>\n",
       "      <td>1</td>\n",
       "      <td>0.999550</td>\n",
       "      <td>1</td>\n",
       "    </tr>\n",
       "    <tr>\n",
       "      <th>264</th>\n",
       "      <td>1</td>\n",
       "      <td>0.999207</td>\n",
       "      <td>1</td>\n",
       "    </tr>\n",
       "    <tr>\n",
       "      <th>44</th>\n",
       "      <td>1</td>\n",
       "      <td>0.012813</td>\n",
       "      <td>0</td>\n",
       "    </tr>\n",
       "    <tr>\n",
       "      <th>130</th>\n",
       "      <td>0</td>\n",
       "      <td>0.201179</td>\n",
       "      <td>0</td>\n",
       "    </tr>\n",
       "    <tr>\n",
       "      <th>136</th>\n",
       "      <td>1</td>\n",
       "      <td>0.996430</td>\n",
       "      <td>1</td>\n",
       "    </tr>\n",
       "    <tr>\n",
       "      <th>13</th>\n",
       "      <td>0</td>\n",
       "      <td>0.149112</td>\n",
       "      <td>0</td>\n",
       "    </tr>\n",
       "    <tr>\n",
       "      <th>183</th>\n",
       "      <td>0</td>\n",
       "      <td>0.987033</td>\n",
       "      <td>1</td>\n",
       "    </tr>\n",
       "    <tr>\n",
       "      <th>271</th>\n",
       "      <td>0</td>\n",
       "      <td>0.486028</td>\n",
       "      <td>0</td>\n",
       "    </tr>\n",
       "    <tr>\n",
       "      <th>100</th>\n",
       "      <td>0</td>\n",
       "      <td>0.028722</td>\n",
       "      <td>0</td>\n",
       "    </tr>\n",
       "  </tbody>\n",
       "</table>\n",
       "</div>"
      ],
      "text/plain": [
       "     actual  predicted_prob  predicted\n",
       "2         1        0.999844          1\n",
       "299       1        0.999550          1\n",
       "264       1        0.999207          1\n",
       "44        1        0.012813          0\n",
       "130       0        0.201179          0\n",
       "136       1        0.996430          1\n",
       "13        0        0.149112          0\n",
       "183       0        0.987033          1\n",
       "271       0        0.486028          0\n",
       "100       0        0.028722          0"
      ]
     },
     "execution_count": 66,
     "metadata": {},
     "output_type": "execute_result"
    }
   ],
   "source": [
    "y_pred_df['predicted'] = y_pred_df.predicted_prob.map( lambda x: 1 if x > 0.5 else 0)\n",
    "y_pred_df[0:10]"
   ]
  },
  {
   "cell_type": "code",
   "execution_count": 67,
   "metadata": {},
   "outputs": [
    {
     "name": "stdout",
     "output_type": "stream",
     "text": [
      "\n",
      "Confusion Matrix for testing data\n",
      "[[31  9]\n",
      " [ 5 45]]\n"
     ]
    },
    {
     "data": {
      "image/png": "[encoded data removed]",
      "text/plain": [
       "<matplotlib.figure.Figure at 0x1d4fb632a90>"
      ]
     },
     "metadata": {},
     "output_type": "display_data"
    },
    {
     "name": "stdout",
     "output_type": "stream",
     "text": [
      "Total Accuracy :  0.84\n",
      "Mis-classification Rate :  0.16\n",
      "Precision :  0.86\n",
      "Recall :  0.78\n"
     ]
    }
   ],
   "source": [
    "cm2 = metrics.confusion_matrix( y_pred_df.actual, y_pred_df.predicted, [1,0] )\n",
    "\n",
    "print(\"\\nConfusion Matrix for testing data\")\n",
    "print(cm2)\n",
    "\n",
    "draw_cm( y_pred_df.actual, y_pred_df.predicted )\n",
    "\n",
    "print( 'Total Accuracy : ',np.round( metrics.accuracy_score( y_test, y_pred_df.predicted ), 2 ) )\n",
    "\n",
    "print( 'Mis-classification Rate : ',np.round(  1- metrics.accuracy_score( y_test, y_pred_df.predicted ), 2 ) )\n",
    "\n",
    "\n",
    "print( 'Precision : ',np.round( metrics.precision_score( y_test, y_pred_df.predicted ), 2 ) )\n",
    "\n",
    "print( 'Recall : ',np.round( metrics.recall_score( y_test, y_pred_df.predicted ), 2 ) )\n",
    "\n"
   ]
  },
  {
   "cell_type": "code",
   "execution_count": 68,
   "metadata": {
    "collapsed": true
   },
   "outputs": [],
   "source": [
    "auc_score = metrics.roc_auc_score( y_pred_df.actual, y_pred_df.predicted_prob)"
   ]
  },
  {
   "cell_type": "code",
   "execution_count": 69,
   "metadata": {},
   "outputs": [
    {
     "data": {
      "image/png": "[encoded data removed]",
      "text/plain": [
       "<matplotlib.figure.Figure at 0x1d4fb722cc0>"
      ]
     },
     "metadata": {},
     "output_type": "display_data"
    }
   ],
   "source": [
    "fpr, tpr, thresholds = draw_roc( y_pred_df.actual, y_pred_df.predicted_prob )"
   ]
  },
  {
   "cell_type": "markdown",
   "metadata": {},
   "source": [
    "### Reporting Performance Measures"
   ]
  },
  {
   "cell_type": "markdown",
   "metadata": {
    "collapsed": true
   },
   "source": [
    "| Serial Number | Performance Measure | Training Data set | Testing Data set |\n",
    "| --- | --- | --- | --- |\n",
    "| 1 | Precision |  91% | 86%|\n",
    "| 2 | Recall |  88% | 78%|\n",
    "| 3 | AUROC |  97% | 86%|\n",
    "| 4 | Accuracy Ratio |  90% | 84%|\n",
    "| 5 | Mis Classification Rate |  10% | 16%|\n",
    "\n"
   ]
  },
  {
   "cell_type": "markdown",
   "metadata": {},
   "source": [
    "**Observation**\n",
    "\n",
    "We find that the model performance remains good when tested with both training and testing datasets."
   ]
  },
  {
   "cell_type": "markdown",
   "metadata": {},
   "source": [
    "#### Finding optimum cut-off using Youden's J-Score"
   ]
  },
  {
   "cell_type": "markdown",
   "metadata": {},
   "source": [
    "Youden's index is where (Sensitivity+Specificity - 1) or (TPR+TNR -1) is maximum.\n"
   ]
  },
  {
   "cell_type": "code",
   "execution_count": 70,
   "metadata": {},
   "outputs": [
    {
     "name": "stdout",
     "output_type": "stream",
     "text": [
      "0.452632410994\n"
     ]
    }
   ],
   "source": [
    "# Find optimal probability threshold\n",
    "threshold = get_youdens_j_cutoff(fpr,tpr,thresholds)\n",
    "print(threshold)"
   ]
  },
  {
   "cell_type": "markdown",
   "metadata": {},
   "source": [
    "The optimal cut off point is 0.45, so anything above this can be labeled as 1 else 0. "
   ]
  },
  {
   "cell_type": "code",
   "execution_count": 80,
   "metadata": {},
   "outputs": [
    {
     "name": "stdout",
     "output_type": "stream",
     "text": [
      "\n",
      "Confusion Matrix for testing data using cutoff at 0.45\n",
      "[[32  8]\n",
      " [ 6 44]]\n"
     ]
    },
    {
     "data": {
      "image/png": "[encoded data removed]",
      "text/plain": [
       "<matplotlib.figure.Figure at 0x1d4fb6ec2e8>"
      ]
     },
     "metadata": {},
     "output_type": "display_data"
    },
    {
     "name": "stdout",
     "output_type": "stream",
     "text": [
      "Total Accuracy :  0.84\n",
      "Mis classification rate :  0.16\n",
      "Precision :       0.84\n",
      "Recall :          0.8\n"
     ]
    }
   ],
   "source": [
    "y_pred_df['predicted'] = y_pred_df.predicted_prob.map( lambda x: 1 if x > 0.45 else 0)\n",
    "\n",
    "cm3 = metrics.confusion_matrix( y_pred_df.actual, y_pred_df.predicted, [1,0] )\n",
    "\n",
    "print(\"\\nConfusion Matrix for testing data using cutoff at 0.45\")\n",
    "print(cm3)\n",
    "\n",
    "draw_cm( y_pred_df.actual, y_pred_df.predicted )\n",
    "\n",
    "print( 'Total Accuracy : ',np.round( metrics.accuracy_score( y_test, y_pred_df.predicted ), 2 ) )\n",
    "\n",
    "print( 'Mis classification rate : ',np.round( 1- metrics.accuracy_score( y_test, y_pred_df.predicted ), 2 ) )\n",
    "\n",
    "print( 'Precision :      ',np.round( metrics.precision_score( y_test, y_pred_df.predicted ), 2 ) )\n",
    "\n",
    "print( 'Recall :         ',np.round( metrics.recall_score( y_test, y_pred_df.predicted ), 2 ) )"
   ]
  },
  {
   "cell_type": "markdown",
   "metadata": {},
   "source": [
    "### The optimal cut off would be where tpr is high and fpr is low\n",
    "\n",
    "### tpr - (1-fpr) is zero or near to zero is the optimal cut off point"
   ]
  },
  {
   "cell_type": "code",
   "execution_count": 72,
   "metadata": {
    "collapsed": true
   },
   "outputs": [],
   "source": [
    "i = np.arange(len(tpr)) # index for df\n",
    "roc = pd.DataFrame({'fpr' : pd.Series(fpr, index = i),'tpr' : pd.Series(tpr, index = i), '1-fpr' : pd.Series(1-fpr, index = i), 'tf' : pd.Series(tpr - (1-fpr), index = i), 'thresholds' : pd.Series(thresholds, index = i)})"
   ]
  },
  {
   "cell_type": "markdown",
   "metadata": {},
   "source": [
    "### Plot tpr vs 1-fpr"
   ]
  },
  {
   "cell_type": "code",
   "execution_count": 73,
   "metadata": {},
   "outputs": [
    {
     "data": {
      "text/plain": [
       "[]"
      ]
     },
     "execution_count": 73,
     "metadata": {},
     "output_type": "execute_result"
    },
    {
     "data": {
      "image/png": "[encoded data removed]",
      "text/plain": [
       "<matplotlib.figure.Figure at 0x1d4fcf1c400>"
      ]
     },
     "metadata": {},
     "output_type": "display_data"
    }
   ],
   "source": [
    "fig, ax = plt.subplots()\n",
    "plt.plot(roc['tpr'])\n",
    "plt.plot(roc['1-fpr'], color = 'red')\n",
    "plt.xlabel('1-False Positive Rate')\n",
    "plt.ylabel('True Positive Rate')\n",
    "plt.title('Receiver operating characteristic')\n",
    "ax.set_xticklabels([])"
   ]
  },
  {
   "cell_type": "code",
   "execution_count": 74,
   "metadata": {},
   "outputs": [
    {
     "data": {
      "text/html": [
       "<div>\n",
       "<style>\n",
       "    .dataframe thead tr:only-child th {\n",
       "        text-align: right;\n",
       "    }\n",
       "\n",
       "    .dataframe thead th {\n",
       "        text-align: left;\n",
       "    }\n",
       "\n",
       "    .dataframe tbody tr th {\n",
       "        vertical-align: top;\n",
       "    }\n",
       "</style>\n",
       "<table border=\"1\" class=\"dataframe\">\n",
       "  <thead>\n",
       "    <tr style=\"text-align: right;\">\n",
       "      <th></th>\n",
       "      <th>1-fpr</th>\n",
       "      <th>fpr</th>\n",
       "      <th>tf</th>\n",
       "      <th>thresholds</th>\n",
       "      <th>tpr</th>\n",
       "    </tr>\n",
       "  </thead>\n",
       "  <tbody>\n",
       "    <tr>\n",
       "      <th>37</th>\n",
       "      <td>0.88</td>\n",
       "      <td>0.12</td>\n",
       "      <td>-0.08</td>\n",
       "      <td>0.452632</td>\n",
       "      <td>0.8</td>\n",
       "    </tr>\n",
       "  </tbody>\n",
       "</table>\n",
       "</div>"
      ],
      "text/plain": [
       "    1-fpr   fpr    tf  thresholds  tpr\n",
       "37   0.88  0.12 -0.08    0.452632  0.8"
      ]
     },
     "execution_count": 74,
     "metadata": {},
     "output_type": "execute_result"
    }
   ],
   "source": [
    "roc.loc[roc['thresholds'] == threshold]"
   ]
  },
  {
   "cell_type": "markdown",
   "metadata": {},
   "source": [
    "**Observation**\n",
    "\n",
    "You can see from the output/chart that where tpr is crossing 1-fpr the tpr is 80%, fpr is 12% and tpr-(1-fpr) is nearest to zero."
   ]
  },
  {
   "cell_type": "markdown",
   "metadata": {},
   "source": [
    "| Serial Number | Performance Measure | At cutoff (Youden's Index) 45% | cutoff at 50% |\n",
    "| --- | --- | --- | --- |\n",
    "| 1 | Precision |  84% | 86%|\n",
    "| 2 | Recall |  80% | 78%|\n",
    "| 3 | Accuracy Ratio |  84% | 84%|\n",
    "| 4 | Mis classification rate | 16% | 16%| \n"
   ]
  },
  {
   "cell_type": "markdown",
   "metadata": {},
   "source": [
    "**Observation**\n",
    "\n",
    "We observe that Recall has increased to 80% at 45% cutoff when compared to 78% at standard 50% cutoff.\n",
    "This means that low false negative rates. This is desirable since falsely predicting a patient as not AHD patient is  nearly fatal. "
   ]
  },
  {
   "cell_type": "markdown",
   "metadata": {},
   "source": [
    "#### Cut-off using cost of mis-classification"
   ]
  },
  {
   "cell_type": "code",
   "execution_count": 75,
   "metadata": {},
   "outputs": [
    {
     "name": "stdout",
     "output_type": "stream",
     "text": [
      "\n",
      " Cost of Misclassification at 45% cutoff\n"
     ]
    },
    {
     "data": {
      "text/plain": [
       "2200"
      ]
     },
     "execution_count": 75,
     "metadata": {},
     "output_type": "execute_result"
    }
   ],
   "source": [
    "cost_fn = 200\n",
    "cost_fp = 100\n",
    "print(\"\\n Cost of Misclassification at 45% cutoff\")\n",
    "get_cost_cutoff( y_pred_df.actual, y_pred_df.predicted, cost_fp, cost_fn )"
   ]
  },
  {
   "cell_type": "markdown",
   "metadata": {},
   "source": [
    "#### Calculate cost of mis-classification using different cutoffs from 20% to 80%"
   ]
  },
  {
   "cell_type": "code",
   "execution_count": 76,
   "metadata": {},
   "outputs": [
    {
     "data": {
      "text/html": [
       "<div>\n",
       "<style>\n",
       "    .dataframe thead tr:only-child th {\n",
       "        text-align: right;\n",
       "    }\n",
       "\n",
       "    .dataframe thead th {\n",
       "        text-align: left;\n",
       "    }\n",
       "\n",
       "    .dataframe tbody tr th {\n",
       "        vertical-align: top;\n",
       "    }\n",
       "</style>\n",
       "<table border=\"1\" class=\"dataframe\">\n",
       "  <thead>\n",
       "    <tr style=\"text-align: right;\">\n",
       "      <th></th>\n",
       "      <th>prob</th>\n",
       "      <th>cost</th>\n",
       "    </tr>\n",
       "  </thead>\n",
       "  <tbody>\n",
       "    <tr>\n",
       "      <th>25</th>\n",
       "      <td>0.45</td>\n",
       "      <td>2200.0</td>\n",
       "    </tr>\n",
       "    <tr>\n",
       "      <th>29</th>\n",
       "      <td>0.49</td>\n",
       "      <td>2300.0</td>\n",
       "    </tr>\n",
       "    <tr>\n",
       "      <th>20</th>\n",
       "      <td>0.40</td>\n",
       "      <td>2300.0</td>\n",
       "    </tr>\n",
       "    <tr>\n",
       "      <th>21</th>\n",
       "      <td>0.41</td>\n",
       "      <td>2300.0</td>\n",
       "    </tr>\n",
       "    <tr>\n",
       "      <th>22</th>\n",
       "      <td>0.42</td>\n",
       "      <td>2300.0</td>\n",
       "    </tr>\n",
       "  </tbody>\n",
       "</table>\n",
       "</div>"
      ],
      "text/plain": [
       "    prob    cost\n",
       "25  0.45  2200.0\n",
       "29  0.49  2300.0\n",
       "20  0.40  2300.0\n",
       "21  0.41  2300.0\n",
       "22  0.42  2300.0"
      ]
     },
     "execution_count": 76,
     "metadata": {},
     "output_type": "execute_result"
    }
   ],
   "source": [
    "df_cost = pd.DataFrame( columns = ['prob', 'cost'])\n",
    "\n",
    "idx = 0\n",
    "\n",
    "for each_prob in range( 20, 80):\n",
    "    cost = get_cost_cutoff( y_pred_df.actual,\n",
    "                          y_pred_df.predicted_prob.map(lambda x: 1 if x > (each_prob/100)  else 0), cost_fp, cost_fn )\n",
    "    df_cost.loc[idx] = [(each_prob/100), cost]\n",
    "    idx += 1\n",
    "\n",
    "df_cost.sort_values( 'cost', ascending = True )[0:5]"
   ]
  },
  {
   "cell_type": "markdown",
   "metadata": {},
   "source": [
    "**Observation**\n",
    "\n",
    "We observe optimal cutoff probability (ie. the one incurring the least cost) using cost function is also 45% same as the one obtained through Youdens Index."
   ]
  },
  {
   "cell_type": "markdown",
   "metadata": {},
   "source": [
    "### Practice Exercise 1"
   ]
  },
  {
   "cell_type": "markdown",
   "metadata": {},
   "source": [
    "The objective is to predict based on diagnostic measurements whether a patient has diabetes.\n",
    "\n",
    "**Dataset:** \n",
    "\n",
    "*pima-indians-diabetes.data* is originally from the National Institute of Diabetes and Digestive and Kidney Diseases.\n",
    "\n",
    "\n",
    "Several constraints were placed on the selection of these instances from a larger database. In particular, all patients here are females at least 21 years old of Pima Indian heritage.\n",
    "\n",
    "Source: Kaggle https://www.kaggle.com/uciml/pima-indians-diabetes-database"
   ]
  },
  {
   "cell_type": "markdown",
   "metadata": {},
   "source": [
    "| SlNo | Variable | Description |\n",
    "| ---- | -------------------- | ----------------------------------------- |\n",
    "| 1 | Pregnancies | Number of times pregnant |\n",
    "| 2 | Glucose | Plasma glucose concentration a 2 hours in an oral glucose tolerance test | \n",
    "| 3 | BloodPressure | Diastolic blood pressure (mm Hg) | \n",
    "| 4 | SkinThickness | Triceps skin fold thickness (mm) | \n",
    "| 5 | Insulin | 2-Hour serum insulin (mu U/ml) | \n",
    "| 6 | BMI | Body mass index (weight in kg/(height in m)^2) | \n",
    "| 7 | DiabetesPedigreeFunction | Diabetes pedigree function | \n",
    "| 8 | Age | Age (years) | \n",
    "| 9 | Outcome | Class variable (0 or 1) | "
   ]
  },
  {
   "cell_type": "code",
   "execution_count": 77,
   "metadata": {},
   "outputs": [],
   "source": [
    "import pandas            as  pd\n",
    "import numpy             as  np\n",
    "import seaborn           as  sns\n",
    "import matplotlib.pyplot as  plt\n",
    "import statsmodels.api   as  sm\n",
    "import sys, os\n",
    "\n",
    "from   common           import  draw_boxplot, draw_hist, split_target_predictor, split_train_test \n",
    "\n",
    "from   model_building   import  check_linearity, get_significant_vars, logit_reg\n",
    "\n",
    "names  = ['preg', 'plas', 'pres', 'skin', 'test', 'mass', 'pedi', 'age', 'class'] \n",
    "data   = pd.read_csv('./data/pima-indians-diabetes.data.csv', header = None, names = names) \n",
    "target = 'class'\n",
    "n      = data.shape[0]"
   ]
  },
  {
   "cell_type": "code",
   "execution_count": 78,
   "metadata": {},
   "outputs": [
    {
     "name": "stdout",
     "output_type": "stream",
     "text": [
      "<class 'pandas.core.frame.DataFrame'>\n",
      "RangeIndex: 768 entries, 0 to 767\n",
      "Data columns (total 9 columns):\n",
      "preg     768 non-null int64\n",
      "plas     768 non-null int64\n",
      "pres     768 non-null int64\n",
      "skin     768 non-null int64\n",
      "test     768 non-null int64\n",
      "mass     768 non-null float64\n",
      "pedi     768 non-null float64\n",
      "age      768 non-null int64\n",
      "class    768 non-null int64\n",
      "dtypes: float64(2), int64(7)\n",
      "memory usage: 54.1 KB\n",
      "None\n",
      "             0       1        2       3        4\n",
      "preg     6.000   1.000    8.000   1.000    0.000\n",
      "plas   148.000  85.000  183.000  89.000  137.000\n",
      "pres    72.000  66.000   64.000  66.000   40.000\n",
      "skin    35.000  29.000    0.000  23.000   35.000\n",
      "test     0.000   0.000    0.000  94.000  168.000\n",
      "mass    33.600  26.600   23.300  28.100   43.100\n",
      "pedi     0.627   0.351    0.672   0.167    2.288\n",
      "age     50.000  31.000   32.000  21.000   33.000\n",
      "class    1.000   0.000    1.000   0.000    1.000\n"
     ]
    }
   ],
   "source": [
    "print(data.info())\n",
    "print(data.head().T)"
   ]
  },
  {
   "cell_type": "markdown",
   "metadata": {},
   "source": [
    "### Test the following assumptions of Logistic Regression:\n",
    "\n",
    "##### 1)   Binary logistic regression requires the target / dependent variable to be binary. For a binary regression, the factor level 1 of the dependent variable should represent the desired outcome (such as Success etc..). \n",
    "##### 2)   Only the meaningful variables should be included. \n",
    "##### 3)   The predictor variables should not be correlated to each other meaning the model should have little or no multicollinearity. \n",
    "##### 4)   The independent variables are linearly related to the log odds. \n",
    "##### 5)   Logistic regression requires quite a large number of observations.\n",
    "\n",
    "\n",
    "**You can use the required functions contained in the two enclosed python files common.py and model_building.py**"
   ]
  },
  {
   "cell_type": "markdown",
   "metadata": {},
   "source": [
    "### Practice Exercise 2\n",
    "\n",
    "1) Build a Logistic Regression model for this data set.\n",
    "\n",
    "2) Find the McFadden R square and list the significant variables at 5% level of significance \n",
    "\n",
    "3) Interpret the odds ratio.\n",
    "\n",
    "4) Evaulate the model performance by using Accuracy Ratio, Mis-classification rate, Precision and Recall. "
   ]
  },
  {
   "cell_type": "markdown",
   "metadata": {},
   "source": [
    "### Take Home Exercises"
   ]
  },
  {
   "cell_type": "markdown",
   "metadata": {},
   "source": [
    "####  Predicting Loan Repayment\n",
    "\n",
    "In the lending industry, investors provide loans to borrowers in exchange for the promise of repayment with interest. If the borrower repays the loan, then the lender profits from the interest. However, if the borrower is unable to repay the loan, then the lender loses money. Therefore, lenders face the problem of predicting the risk of a borrower being unable to repay a loan.\n",
    "\n",
    "To address this problem, we will use publicly available data from LendingClub.com, a website that connects borrowers and investors over the Internet. This dataset represents 9,578 3-year loans that were funded through the LendingClub.com platform between May 2007 and February 2010. The binary dependent variable not_fully_paid indicates that the loan was not paid back in full (the borrower either defaulted or the loan was \"charged off,\" meaning the borrower was deemed unlikely to ever pay it back).\n",
    "\n",
    "To predict this dependent variable, we will use the following independent variables available to the investor when deciding whether to fund a loan:\n",
    "\n",
    "| Sl No | Variable | Description |\n",
    "| -- | ------------------ | ------------------------------------ |\n",
    "| 1 | credit.policy: | 1 if the customer meets the credit underwriting criteria of LendingClub.com, and 0 otherwise.\n",
    "| 2 | purpose:  |  The purpose of the loan (takes values \"credit_card\", \"debt_consolidation\", \"educational\", \"major_purchase\", \"small_business\", and \"all_other\").\n",
    "| 3 | int.rate:  | The interest rate of the loan, as a proportion (a rate of 11% would be stored as 0.11). Borrowers judged by LendingClub.com to be more risky are assigned higher interest rates.\n",
    "| 4 | installment:  | The monthly installments ($) owed by the borrower if the loan is funded.\n",
    "| 5 | log.annual.inc:  | The natural log of the self-reported annual income of the borrower.\n",
    "| 6 | dti:  | The debt-to-income ratio of the borrower (amount of debt divided by annual income).\n",
    "| 7 | fico:  | The FICO credit score of the borrower.\n",
    "| 8 | days.with.cr.line:  | The number of days the borrower has had a credit line.\n",
    "| 9 | revol.bal:  | The borrower's revolving balance (amount unpaid at the end of the credit card billing cycle).\n",
    "| 10 | revol.util:  | The borrower's revolving line utilization rate (the amount of the credit line used relative to total credit available).\n",
    "| 11 | inq.last.6mths:  | The borrower's number of inquiries by creditors in the last 6 months.\n",
    "| 12 | delinq.2yrs:  | The number of times the borrower had been 30+ days past due on a payment in the past 2 years.\n",
    "| 13 | pub.rec:  | The borrower's number of derogatory public records (bankruptcy filings, tax liens, or judgments)."
   ]
  },
  {
   "cell_type": "code",
   "execution_count": 79,
   "metadata": {},
   "outputs": [
    {
     "name": "stdout",
     "output_type": "stream",
     "text": [
      "<class 'pandas.core.frame.DataFrame'>\n",
      "RangeIndex: 9578 entries, 0 to 9577\n",
      "Data columns (total 14 columns):\n",
      "credit.policy        9578 non-null int64\n",
      "purpose              9578 non-null object\n",
      "int.rate             9578 non-null float64\n",
      "installment          9578 non-null float64\n",
      "log.annual.inc       9578 non-null float64\n",
      "dti                  9578 non-null float64\n",
      "fico                 9578 non-null int64\n",
      "days.with.cr.line    9578 non-null float64\n",
      "revol.bal            9578 non-null int64\n",
      "revol.util           9578 non-null float64\n",
      "inq.last.6mths       9578 non-null int64\n",
      "delinq.2yrs          9578 non-null int64\n",
      "pub.rec              9578 non-null int64\n",
      "not.fully.paid       9578 non-null int64\n",
      "dtypes: float64(6), int64(7), object(1)\n",
      "memory usage: 1.0+ MB\n",
      "None\n",
      "(9578, 14)\n",
      "                                    0            1                   2\n",
      "credit.policy                       1            1                   1\n",
      "purpose            debt_consolidation  credit_card  debt_consolidation\n",
      "int.rate                       0.1189       0.1071              0.1357\n",
      "installment                     829.1       228.22              366.86\n",
      "log.annual.inc                11.3504      11.0821             10.3735\n",
      "dti                             19.48        14.29               11.63\n",
      "fico                              737          707                 682\n",
      "days.with.cr.line             5639.96         2760                4710\n",
      "revol.bal                       28854        33623                3511\n",
      "revol.util                       52.1         76.7                25.6\n",
      "inq.last.6mths                      0            0                   1\n",
      "delinq.2yrs                         0            0                   0\n",
      "pub.rec                             0            0                   0\n",
      "not.fully.paid                      0            0                   0\n"
     ]
    }
   ],
   "source": [
    "import pandas as pd\n",
    "\n",
    "data = pd.read_csv('./data/loans_imputed.csv')\n",
    "print(data.info())\n",
    "print(data.shape)\n",
    "print(data.head(3).T)"
   ]
  },
  {
   "cell_type": "markdown",
   "metadata": {},
   "source": [
    "### Exercise 1\n",
    "\n",
    "Now that we have prepared the dataset, we need to split it into a training and testing set. To ensure everybody obtains the same split, set the random seed to 144 (even though you already did so earlier in the problem) and use the sample.split function to select the 70% of observations for the training set (the dependent variable for sample.split is not.fully.paid). \n",
    "\n",
    "Name the data frames train and test.\n",
    "\n",
    "Now, use logistic regression trained on the training set to predict the dependent variable not.fully.paid using all the independent variables.\n",
    "\n",
    "#### Q1) Which independent variables are significant in our model? (Significant variables have at least one star, or a Pr(>|z|) value less than 0.05.) \n",
    "\n",
    "* credit.policy\n",
    "* purpose2 (credit card)\n",
    "* purpose3 (debt consolidation)\n",
    "* purpose4 (educational)\n",
    "* purpose5 (home improvement)\n",
    "* purpose6 (major purchase)\n",
    "* purpose7 (small business)\n",
    "* int.rate\n",
    "* installment\n",
    "* log.annual.inc\n",
    "* dti\n",
    "* fico\n",
    "* days.with.cr.line\n",
    "* revol.bal\n",
    "* revol.util\n",
    "* inq.last.6mths\n",
    "* delinq.2yrs\n",
    "* pub.rec\n",
    "\n",
    "Consider two loan applications, which are identical other than the fact that the borrower in Application A has FICO credit score 700 while the borrower in Application B has FICO credit score 710.\n",
    "Let Logit(A) be the log odds of loan A not being paid back in full, according to our logistic regression model, and define Logit(B) similarly for loan B. \n",
    "\n",
    "#### Q(2): What is the value of Logit(A) - Logit(B)?\n",
    "\n",
    "Now, let O(A) be the odds of loan A not being paid back in full, according to our logistic regression model, and define O(B) similarly for loan B. \n",
    "\n",
    "#### Q(3): What is the value of O(A)/O(B)? (HINT: Use the mathematical rule that exp(A + B + C) = exp(A)*exp(B)*exp(C). Also, remember that exp() is the exponential function in R.)\n",
    "\n",
    "Predict the probability of the test set loans not being paid back in full (remember type=\"response\" for the predict function). Store these predicted probabilities in a variable named predicted risk and add it to your test set (we will use this variable in later parts of the problem). \n",
    "\n",
    "#### Q(4): \n",
    "a. Compute the confusion matrix using a threshold of 0.5.\n",
    "b. What is the accuracy of the logistic regression model? Input the accuracy as a number between 0 and 1.\n",
    "c. What is the accuracy of the baseline model? Input the accuracy as a number between 0 and 1.\n",
    "\n",
    "#### Q(5):Use the appropriate package to compute the test set AUC.\n",
    "\n",
    "The model has poor accuracy at the threshold 0.5. But despite the poor accuracy, we will see later how an investor can still leverage this logistic regression model to make profitable investments."
   ]
  },
  {
   "cell_type": "markdown",
   "metadata": {},
   "source": [
    "### Exercise 2\n",
    "\n",
    "In the previous problem, we built a logistic regression model that has an AUC significantly higher than the AUC of 0.5 that would be obtained by randomly ordering observations.\n",
    "\n",
    "However, LendingClub.com assigns the interest rate to a loan based on their estimate of that loan's risk. This variable, int.rate, is an independent variable in our dataset. In this part, we will investigate using the loan's interest rate as a \"smart baseline\" to order the loans according to risk.\n",
    "\n",
    "#### Q(5): Using the training set, build a bivariate logistic regression model (aka a logistic regression model with a single independent variable) that predicts the dependent variable not.fully.paid using only the variable int.rate.\n",
    "\n",
    "#### Q(6): The variable int.rate is highly significant in the bivariate model, but it is not significant at the 0.05 level in the model trained with all the independent variables. What is the most likely explanation for this difference?\n",
    "\n",
    "a) int.rate is correlated with other risk-related variables, and therefore does not incrementally improve the model when those other variables are included.\n",
    "\n",
    "b) This effect is likely due to the training/testing set split we used. In other splits, we could see the opposite effect.\n",
    "\n",
    "c) These models are trained on a different set of observations, so the coefficients are not comparable.\n",
    "\n",
    "#### Q(6): \n",
    "\n",
    "a. Make test set predictions for the bivariate model. \n",
    "b. What is the highest predicted probability of a loan not being paid in full on the testing set?\n",
    "c. With a logistic regression cutoff of 0.5, how many loans would be predicted as not being paid in full on the testing set?\n",
    "\n",
    "#### Q(7): What is the test set AUC of the bivariate model?"
   ]
  },
  {
   "cell_type": "markdown",
   "metadata": {},
   "source": [
    "## END"
   ]
  }
 ],
 "metadata": {
  "kernelspec": {
   "display_name": "Python 3",
   "language": "python",
   "name": "python3"
  },
  "language_info": {
   "codemirror_mode": {
    "name": "ipython",
    "version": 3
   },
   "file_extension": ".py",
   "mimetype": "text/x-python",
   "name": "python",
   "nbconvert_exporter": "python",
   "pygments_lexer": "ipython3",
   "version": "3.6.3"
  }
 },
 "nbformat": 4,
 "nbformat_minor": 2
}
