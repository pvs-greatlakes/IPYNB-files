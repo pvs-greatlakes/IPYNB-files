{
 "cells": [
  {
   "cell_type": "code",
   "execution_count": 1,
   "metadata": {
    "collapsed": true
   },
   "outputs": [],
   "source": [
    "import numpy   as np\n",
    "import pandas  as pd\n",
    "from   kmodes  import kmodes"
   ]
  },
  {
   "cell_type": "code",
   "execution_count": 29,
   "metadata": {},
   "outputs": [],
   "source": [
    "dict1 =  {'Gender': ['M','F','F','F','F','F','M','F','M','F','M','F','M','F','F'], \\\n",
    "          'Income_Level' : ['L','H','M','H','H','H','M','L','L','L','L','L','L','L','L'],\\\n",
    "          'Age' : [25, 44, 40, 37, 43, 29, 25, 28, 28, 32, 27,40,27,41,42]}\n",
    "ind_va = [0]\n",
    "df     = pd.DataFrame(dict1)"
   ]
  },
  {
   "cell_type": "code",
   "execution_count": 30,
   "metadata": {},
   "outputs": [
    {
     "name": "stderr",
     "output_type": "stream",
     "text": [
      "D:\\Python\\lib\\site-packages\\ipykernel_launcher.py:16: DeprecationWarning: \n",
      ".ix is deprecated. Please use\n",
      ".loc for label based indexing or\n",
      ".iloc for positional indexing\n",
      "\n",
      "See the documentation here:\n",
      "http://pandas.pydata.org/pandas-docs/stable/indexing.html#ix-indexer-is-deprecated\n",
      "  app.launch_new_instance()\n"
     ]
    },
    {
     "data": {
      "image/png": "[encoded data removed]",
      "text/plain": [
       "<matplotlib.figure.Figure at 0x2c5ed29edd8>"
      ]
     },
     "metadata": {},
     "output_type": "display_data"
    }
   ],
   "source": [
    "df_dummy = pd.get_dummies(df)\n",
    "\n",
    "#transform into numpy array\n",
    "x = df_dummy.reset_index().values\n",
    "\n",
    "km = kmodes.KModes(n_clusters=3, init='Huang', n_init=5, verbose=0)\n",
    "clusters = km.fit_predict(x)\n",
    "df_dummy['clusters'] = clusters\n",
    "\n",
    "\n",
    "import matplotlib.pyplot as plt\n",
    "from sklearn.decomposition import PCA\n",
    "pca = PCA(2)\n",
    "\n",
    "# Turn the dummified df into two columns with PCA\n",
    "plot_columns = pca.fit_transform(df_dummy.ix[:,0:12])\n",
    "\n",
    "# Plot based on the two dimensions, and shade by cluster label\n",
    "plt.scatter(x=plot_columns[:,1], y=plot_columns[:,0], c=df_dummy[\"clusters\"], s=30)\n",
    "plt.show()"
   ]
  },
  {
   "cell_type": "code",
   "execution_count": 31,
   "metadata": {},
   "outputs": [
    {
     "name": "stdout",
     "output_type": "stream",
     "text": [
      "[[ 2 40  1  0  0  1  0]\n",
      " [ 0 25  0  1  0  1  0]\n",
      " [ 1 29  1  0  1  0  0]]\n"
     ]
    }
   ],
   "source": [
    "# Print the cluster centroids\n",
    "print(km.cluster_centroids_)"
   ]
  },
  {
   "cell_type": "code",
   "execution_count": 32,
   "metadata": {},
   "outputs": [
    {
     "name": "stdout",
     "output_type": "stream",
     "text": [
      "                0   1   2   3   4   5   6   7   8   9   10  11  12  13  14\n",
      "Age             25  44  40  37  43  29  25  28  28  32  27  40  27  41  42\n",
      "Gender_F         0   1   1   1   1   1   0   1   0   1   0   1   0   1   1\n",
      "Gender_M         1   0   0   0   0   0   1   0   1   0   1   0   1   0   0\n",
      "Income_Level_H   0   1   0   1   1   1   0   0   0   0   0   0   0   0   0\n",
      "Income_Level_L   1   0   0   0   0   0   0   1   1   1   1   1   1   1   1\n",
      "Income_Level_M   0   0   1   0   0   0   1   0   0   0   0   0   0   0   0\n",
      "clusters         1   2   0   2   2   2   1   0   1   0   1   0   1   0   0\n"
     ]
    }
   ],
   "source": [
    "print(df_dummy.T)"
   ]
  },
  {
   "cell_type": "code",
   "execution_count": 33,
   "metadata": {},
   "outputs": [
    {
     "name": "stdout",
     "output_type": "stream",
     "text": [
      "   Age  Gender_F  Gender_M  Income_Level_H  Income_Level_L  Income_Level_M  \\\n",
      "1   44         1         0               1               0               0   \n",
      "3   37         1         0               1               0               0   \n",
      "4   43         1         0               1               0               0   \n",
      "5   29         1         0               1               0               0   \n",
      "\n",
      "   clusters  \n",
      "1         2  \n",
      "3         2  \n",
      "4         2  \n",
      "5         2  \n"
     ]
    }
   ],
   "source": [
    "print(df_dummy.loc[df_dummy['clusters'] == 2,:])"
   ]
  },
  {
   "cell_type": "markdown",
   "metadata": {},
   "source": [
    "### From this we observe that persons in cluster 2 have income level High, female and age above 29"
   ]
  },
  {
   "cell_type": "code",
   "execution_count": 34,
   "metadata": {},
   "outputs": [
    {
     "name": "stdout",
     "output_type": "stream",
     "text": [
      "    Age  Gender_F  Gender_M  Income_Level_H  Income_Level_L  Income_Level_M  \\\n",
      "0    25         0         1               0               1               0   \n",
      "6    25         0         1               0               0               1   \n",
      "8    28         0         1               0               1               0   \n",
      "10   27         0         1               0               1               0   \n",
      "12   27         0         1               0               1               0   \n",
      "\n",
      "    clusters  \n",
      "0          1  \n",
      "6          1  \n",
      "8          1  \n",
      "10         1  \n",
      "12         1  \n"
     ]
    }
   ],
   "source": [
    "print(df_dummy.loc[df_dummy['clusters'] == 1,:])"
   ]
  },
  {
   "cell_type": "markdown",
   "metadata": {},
   "source": [
    "### From this we observe that persons in cluster 1 have income level Low or Medium and male with age 25 or above"
   ]
  },
  {
   "cell_type": "code",
   "execution_count": 35,
   "metadata": {},
   "outputs": [
    {
     "name": "stdout",
     "output_type": "stream",
     "text": [
      "    Age  Gender_F  Gender_M  Income_Level_H  Income_Level_L  Income_Level_M  \\\n",
      "2    40         1         0               0               0               1   \n",
      "7    28         1         0               0               1               0   \n",
      "9    32         1         0               0               1               0   \n",
      "11   40         1         0               0               1               0   \n",
      "13   41         1         0               0               1               0   \n",
      "14   42         1         0               0               1               0   \n",
      "\n",
      "    clusters  \n",
      "2          0  \n",
      "7          0  \n",
      "9          0  \n",
      "11         0  \n",
      "13         0  \n",
      "14         0  \n"
     ]
    }
   ],
   "source": [
    "print(df_dummy.loc[df_dummy['clusters'] == 0,:])"
   ]
  },
  {
   "cell_type": "markdown",
   "metadata": {},
   "source": [
    "### From this we observe that persons in cluster 0 have income level Low, female and age 28 or above"
   ]
  }
 ],
 "metadata": {
  "kernelspec": {
   "display_name": "Python 3",
   "language": "python",
   "name": "python3"
  },
  "language_info": {
   "codemirror_mode": {
    "name": "ipython",
    "version": 3
   },
   "file_extension": ".py",
   "mimetype": "text/x-python",
   "name": "python",
   "nbconvert_exporter": "python",
   "pygments_lexer": "ipython3",
   "version": "3.6.3"
  }
 },
 "nbformat": 4,
 "nbformat_minor": 2
}
