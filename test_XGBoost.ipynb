{
 "cells": [
  {
   "cell_type": "markdown",
   "metadata": {},
   "source": [
    "## Sample 1 - XGBoost \n",
    "\n",
    "I had the opportunity to start using xgboost machine learning algorithm, it is fast and shows good results. Here I will be using multiclass prediction with the iris dataset from scikit-learn.\n",
    "\n",
    "http://ieva.rocks/2016/08/25/iris_dataset_and_xgboost_simple_tutorial/\n"
   ]
  },
  {
   "cell_type": "code",
   "execution_count": 5,
   "metadata": {},
   "outputs": [
    {
     "name": "stdout",
     "output_type": "stream",
     "text": [
      "[05:21:27] 120x4 matrix with 480 entries loaded from dtrain.svm\n",
      "[05:21:27] 30x4 matrix with 120 entries loaded from dtest.svm\n",
      "Numpy array precision: 1.0\n",
      "Numpy array recall: 1.0\n",
      "Svm file precision: 1.0\n"
     ]
    },
    {
     "data": {
      "text/plain": [
       "['bst_svm_model.pkl']"
      ]
     },
     "execution_count": 5,
     "metadata": {},
     "output_type": "execute_result"
    }
   ],
   "source": [
    "import numpy as np\n",
    "\n",
    "import xgboost as xgb\n",
    "\n",
    "from sklearn import datasets\n",
    "\n",
    "from sklearn.cross_validation import train_test_split\n",
    "\n",
    "from sklearn.datasets import dump_svmlight_file\n",
    "\n",
    "from sklearn.externals import joblib\n",
    "\n",
    "from sklearn.metrics import precision_score, recall_score\n",
    "\n",
    "\n",
    "\n",
    "\n",
    "iris = datasets.load_iris()\n",
    "\n",
    "X = iris.data\n",
    "\n",
    "y = iris.target\n",
    "\n",
    "\n",
    "\n",
    "X_train, X_test, y_train, y_test = train_test_split(X, y, test_size=0.2, random_state=42)\n",
    "\n",
    "\n",
    "\n",
    "# use DMatrix for xgbosot\n",
    "\n",
    "dtrain = xgb.DMatrix(X_train, label=y_train)\n",
    "\n",
    "dtest = xgb.DMatrix(X_test, label=y_test)\n",
    "\n",
    "\n",
    "\n",
    "# use svmlight file for xgboost\n",
    "\n",
    "dump_svmlight_file(X_train, y_train, 'dtrain.svm', zero_based=True)\n",
    "\n",
    "dump_svmlight_file(X_test, y_test, 'dtest.svm', zero_based=True)\n",
    "\n",
    "dtrain_svm = xgb.DMatrix('dtrain.svm')\n",
    "\n",
    "dtest_svm = xgb.DMatrix('dtest.svm')\n",
    "\n",
    "\n",
    "\n",
    "# set xgboost params\n",
    "\n",
    "param = {\n",
    "\n",
    "    'max_depth': 3,  # the maximum depth of each tree\n",
    "\n",
    "    'eta': 0.3,  # the training step for each iteration\n",
    "\n",
    "    'silent': 1,  # logging mode - quiet\n",
    "\n",
    "    'objective': 'multi:softprob',  # error evaluation for multiclass training\n",
    "\n",
    "    'num_class': 3}  # the number of classes that exist in this datset\n",
    "\n",
    "num_round = 20  # the number of training iterations\n",
    "\n",
    "\n",
    "\n",
    "#------------- numpy array ------------------\n",
    "\n",
    "# training and testing - numpy matrices\n",
    "\n",
    "bst = xgb.train(param, dtrain, num_round)\n",
    "\n",
    "preds = bst.predict(dtest)\n",
    "\n",
    "\n",
    "# extracting most confident predictions\n",
    "\n",
    "best_preds = np.asarray([np.argmax(line) for line in preds])\n",
    "\n",
    "print(\"Numpy array precision:\", precision_score(y_test, best_preds, average='macro'))\n",
    "print(\"Numpy array recall:\", recall_score(y_test, best_preds, average='macro'))\n",
    "\n",
    "\n",
    "\n",
    "\n",
    "# ------------- svm file ---------------------\n",
    "\n",
    "# training and testing - svm file\n",
    "\n",
    "bst_svm = xgb.train(param, dtrain_svm, num_round)\n",
    "\n",
    "preds = bst.predict(dtest_svm)\n",
    "\n",
    "\n",
    "\n",
    "# extracting most confident predictions\n",
    "\n",
    "best_preds_svm = [np.argmax(line) for line in preds]\n",
    "\n",
    "print(\"Svm file precision:\",precision_score(y_test, best_preds_svm, average='macro'))\n",
    "\n",
    "# --------------------------------------------\n",
    "\n",
    "\n",
    "\n",
    "# dump the models\n",
    "\n",
    "bst.dump_model('dump.raw.txt')\n",
    "\n",
    "bst_svm.dump_model('dump_svm.raw.txt')\n",
    "\n",
    "\n",
    "\n",
    "\n",
    "\n",
    "# save the models for later\n",
    "\n",
    "joblib.dump(bst, 'bst_model.pkl', compress=True)\n",
    "\n",
    "joblib.dump(bst_svm, 'bst_svm_model.pkl', compress=True)"
   ]
  },
  {
   "cell_type": "markdown",
   "metadata": {},
   "source": [
    "## Sample 2 - XGBoost"
   ]
  },
  {
   "cell_type": "code",
   "execution_count": null,
   "metadata": {
    "collapsed": true
   },
   "outputs": [],
   "source": []
  }
 ],
 "metadata": {
  "kernelspec": {
   "display_name": "Python 3",
   "language": "python",
   "name": "python3"
  },
  "language_info": {
   "codemirror_mode": {
    "name": "ipython",
    "version": 3
   },
   "file_extension": ".py",
   "mimetype": "text/x-python",
   "name": "python",
   "nbconvert_exporter": "python",
   "pygments_lexer": "ipython3",
   "version": "3.6.3"
  }
 },
 "nbformat": 4,
 "nbformat_minor": 2
}
